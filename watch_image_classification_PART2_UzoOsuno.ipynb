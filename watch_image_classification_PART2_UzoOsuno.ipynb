{
 "cells": [
  {
   "cell_type": "code",
   "execution_count": 1,
   "id": "b090d272",
   "metadata": {},
   "outputs": [],
   "source": [
    "## Reading from the Watch folder, prior classified into whiebackground\n",
    "\n",
    "import tensorflow as tf\n",
    "from tensorflow.keras.applications.resnet50 import preprocess_input, decode_predictions\n",
    "from tensorflow.keras.preprocessing import image\n",
    "from concurrent.futures import ThreadPoolExecutor, as_completed\n",
    "from tqdm import tqdm\n",
    "import numpy as np\n",
    "import os\n",
    "from pathlib import Path\n",
    "import shutil\n",
    "\n",
    "# Load a pre-trained model (e.g., ResNet50)\n",
    "model = tf.keras.applications.ResNet50(weights='imagenet')"
   ]
  },
  {
   "cell_type": "code",
   "execution_count": 2,
   "id": "41d71bec",
   "metadata": {},
   "outputs": [],
   "source": [
    "## Initial Statistics: original images (image_folder), \n",
    "## transparent images (transparent_images), white background (white_bg_images)"
   ]
  },
  {
   "cell_type": "code",
   "execution_count": 3,
   "id": "24fd11c2",
   "metadata": {},
   "outputs": [
    {
     "name": "stdout",
     "output_type": "stream",
     "text": [
      "Total Number of original files\n",
      "Number of items in 'image_folder': 1679\n"
     ]
    }
   ],
   "source": [
    "print(\"Total Number of original files\")\n",
    "\n",
    "folder_path = Path(\"image_folder\")\n",
    "num_items = len(list(folder_path.iterdir()))\n",
    "\n",
    "print(f\"Number of items in '{folder_path}': {num_items}\")"
   ]
  },
  {
   "cell_type": "code",
   "execution_count": 4,
   "id": "a9686a4d",
   "metadata": {},
   "outputs": [
    {
     "name": "stdout",
     "output_type": "stream",
     "text": [
      "Number of items in 'transparent_images': 341\n"
     ]
    }
   ],
   "source": [
    "folder_path = Path(\"transparent_images\")\n",
    "num_items = len(list(folder_path.iterdir()))\n",
    "\n",
    "print(f\"Number of items in '{folder_path}': {num_items}\")"
   ]
  },
  {
   "cell_type": "code",
   "execution_count": 5,
   "id": "6f35f5a5",
   "metadata": {},
   "outputs": [
    {
     "name": "stdout",
     "output_type": "stream",
     "text": [
      "Number of items in 'white_bg_images': 1116\n"
     ]
    }
   ],
   "source": [
    "folder_path = Path(\"white_bg_images\")\n",
    "num_items = len(list(folder_path.iterdir()))\n",
    "\n",
    "print(f\"Number of items in '{folder_path}': {num_items}\")"
   ]
  },
  {
   "cell_type": "code",
   "execution_count": 6,
   "id": "7b32a888",
   "metadata": {},
   "outputs": [],
   "source": [
    "\n",
    "def categorize_watch_images_concurrent(data_dir, good_watch_folder, bad_watch_folder):\n",
    "    # create list to track all watches with white background, of those with watch images, of those with not\n",
    "\n",
    "    \n",
    "    \"\"\" Process all images in a given folder concurrently \"\"\"\n",
    "        \n",
    "    if os.path.exists(good_watch_folder):\n",
    "        try:\n",
    "            shutil.rmtree(good_watch_folder)\n",
    "            print(f\"Directory '{good_watch_folder}' and all its contents have been deleted.\")\n",
    "        except Exception as e:\n",
    "            print(f\"Error: Failed to delete '{good_watch_folder}'. {e}\")\n",
    "            \n",
    "    if os.path.exists(bad_watch_folder):\n",
    "        try:\n",
    "            shutil.rmtree(bad_watch_folder)\n",
    "            print(f\"Directory '{bad_watch_folder}' and all its contents have been deleted.\")\n",
    "        except Exception as e:\n",
    "            print(f\"Error: Failed to delete '{bad_watch_folder}'. {e}\")\n",
    "            \n",
    "    os.makedirs(good_watch_folder)\n",
    "    os.makedirs(bad_watch_folder)\n",
    "\n",
    "    image_files = [f for f in os.listdir(data_dir) ]\n",
    "    image_paths = [os.path.join(data_dir, filename) for filename in image_files]\n",
    "\n",
    "    with ThreadPoolExecutor(max_workers=20) as executor:\n",
    "        futures = [executor.submit(watch_classify, image_path, good_watch_folder, bad_watch_folder) for image_path in image_paths]\n",
    "        with tqdm(total=len(futures), desc=\"Processing images\") as progress_bar:\n",
    "            for future in as_completed(futures):\n",
    "                try:\n",
    "                    future.result()\n",
    "                except Exception as e:\n",
    "                    print(f\"An error occurred: {e}\")\n",
    "                finally:\n",
    "                    progress_bar.update(1)\n",
    "     \n",
    " # Document processed watch images in webpages   \n",
    "\n",
    "    with open(\"good_watch_classification_files.html\", \"w\") as f:\n",
    "            f.write(\"<html><head><style>img {width:100px;height:100px;background-color:#39F;}</style></head><body>\")      \n",
    "            for item in good_watch:\n",
    "                f.write(f\"{item}\")\n",
    "            f.write(f\"</body></html>\")            \n",
    "\n",
    "\n",
    "    with open(\"bad_watch.html\", \"w\") as f:\n",
    "            f.write(\"<html><head><style>img {width:100px;height:100px;background-color:#39F;}</style></head><body>\")      \n",
    "            for item in bad_watch:\n",
    "                f.write(f\"{item}\")\n",
    "            f.write(f\"</body></html>\")   \n",
    "            \n",
    "    with open(\"bad_file.txt\", \"w\") as f:\n",
    "            for item in bad_file:\n",
    "                f.write(f\"{item}\")\n",
    "                    \n",
    "# Load and preprocess an image\n",
    "\n",
    "def watch_classify(image_path, good_watch_folder, bad_watch_folder):\n",
    "        filename = os.path.basename(image_path)\n",
    "        try:\n",
    "            img = image.load_img(image_path) #original image - I will save this in its original size - unchanged from part 1\n",
    "            check_img = image.load_img(image_path, target_size=(224,224))  #This has to be changed to 224 x 224 to use library\n",
    "            x = image.img_to_array(check_img)\n",
    "            x = np.expand_dims(x, axis=0)\n",
    "            x = preprocess_input(x)\n",
    "\n",
    "            # Make predictions\n",
    "            preds = model.predict(x)\n",
    "            # Decode predictions (get the top 5 predicted classes)\n",
    "            decoded_preds = decode_predictions(preds, top=5)[0]\n",
    "           \n",
    "            # Print the top predictions\n",
    "            for i, (imagenet_id, label, score) in enumerate(decoded_preds):\n",
    "                print(f\"{i + 1}: {label} ({score:.2f})\")\n",
    "                \n",
    "            watch_flag = 0\n",
    "            # Check if \"watch\" is among the top predictions\n",
    "            for imagenet_id, label, score in decoded_preds:\n",
    "                if 'watch' in label.lower() or 'clock' in label.lower():\n",
    "                    print(f\"Found 'watch' with probability {score:.2f}\")\n",
    "                    good_watch.append(f\"<a href='{filename}'><img src='{image_path}'> {filename} {score:.2f} </a>  \")\n",
    "                    image_save_path = os.path.join(good_watch_folder, filename)\n",
    "                    print(\"image_save_path_good\",image_save_path)\n",
    "                    img.save(image_save_path)  \n",
    "                    watch_flag = 1\n",
    "                    break\n",
    "                    \n",
    "            if watch_flag == 0:\n",
    "                    bad_watch.append(f\"<a href='{image_path}'><img src='{image_path}'> {filename} {score:.2f} </a>  \")\n",
    "                    image_save_path = os.path.join(bad_watch_folder, filename)\n",
    "                    print(\"image_save_path_bad\",image_save_path)\n",
    "                    img.save(image_save_path)                \n",
    "                    \n",
    "        except Exception as e:\n",
    "            bad_file.append(f\"{image_path}\\n\")\n",
    "            print(f\"Error: {e}\")\n",
    "\n",
    "\n"
   ]
  },
  {
   "cell_type": "code",
   "execution_count": 7,
   "id": "e4173ff2",
   "metadata": {
    "scrolled": true
   },
   "outputs": [
    {
     "name": "stdout",
     "output_type": "stream",
     "text": [
      "Directory 'good_watch_folder' and all its contents have been deleted.\n",
      "Directory 'bad_watch_folder' and all its contents have been deleted.\n"
     ]
    },
    {
     "name": "stderr",
     "output_type": "stream",
     "text": [
      "\r",
      "Processing images:   0%|          | 0/1116 [00:00<?, ?it/s]"
     ]
    },
    {
     "name": "stdout",
     "output_type": "stream",
     "text": [
      "1: stopwatch (0.93)\n",
      "2: analog_clock (0.06)\n",
      "3: digital_watch (0.00)\n",
      "4: wall_clock (0.00)\n",
      "5: barometer (0.00)\n",
      "Found 'watch' with probability 0.93\n",
      "image_save_path_good good_watch_folder\\015f369d469109003f4a70f5133b6799.png\n",
      "1: stopwatch (0.99)\n",
      "2: analog_clock (0.00)\n",
      "3: digital_watch (0.00)\n",
      "4: barometer (0.00)\n",
      "5: magnetic_compass (0.00)\n",
      "Found 'watch' with probability 0.99\n",
      "image_save_path_good good_watch_folder\\0265422981bb3f66d540ab66abf592d3.png\n",
      "1: stopwatch (0.91)\n",
      "2: analog_clock (0.08)\n",
      "3: digital_watch (0.01)\n",
      "4: magnetic_compass (0.00)\n",
      "5: wall_clock (0.00)\n",
      "Found 'watch' with probability 0.91\n",
      "image_save_path_good good_watch_folder\\01a08adf2c8218cd60285d26b28b5be2.png\n",
      "1: stopwatch (0.64)\n",
      "2: analog_clock (0.33)\n",
      "3: wall_clock (0.01)\n",
      "4: digital_watch (0.01)\n",
      "5: magnetic_compass (0.00)\n",
      "Found 'watch' with probability 0.64\n",
      "image_save_path_good good_watch_folder\\041b88e328d1dc95fad311d2399e2a17.png\n",
      "1: stopwatch (0.69)\n",
      "2: analog_clock (0.19)\n",
      "3: barometer (0.09)\n",
      "4: digital_watch (0.01)\n",
      "5: wall_clock (0.01)\n",
      "Found 'watch' with probability 0.69\n",
      "image_save_path_good good_watch_folder\\03f892aedc2abedb08008c325940502e.png\n",
      "1: stopwatch (0.54)\n",
      "2: analog_clock (0.35)\n",
      "3: barometer (0.08)\n",
      "4: digital_watch (0.01)\n",
      "5: magnetic_compass (0.00)\n",
      "Found 'watch' with probability 0.54\n",
      "image_save_path_good good_watch_folder\\0443bb9ee6c03100979e9de04b0da279.png\n",
      "1: television (0.06)\n",
      "2: bubble (0.05)\n",
      "3: perfume (0.04)\n",
      "4: dishwasher (0.03)\n",
      "5: tripod (0.03)\n",
      "image_save_path_bad bad_watch_folder\\03c31acea94e86777d9d6ebaa872e91d.png\n",
      "1: stopwatch (0.93)\n",
      "2: digital_watch (0.03)\n",
      "3: analog_clock (0.01)\n",
      "4: magnetic_compass (0.01)\n",
      "5: barometer (0.00)\n",
      "Found 'watch' with probability 0.93\n",
      "image_save_path_good good_watch_folder\\0404565ab0a432f187940d0bfa139e0a.png\n"
     ]
    },
    {
     "name": "stderr",
     "output_type": "stream",
     "text": [
      "Processing images:   1%|          | 7/1116 [00:06<10:41,  1.73it/s]  "
     ]
    },
    {
     "name": "stdout",
     "output_type": "stream",
     "text": [
      "1: stopwatch (0.98)\n",
      "2: digital_watch (0.01)\n",
      "3: analog_clock (0.00)\n",
      "4: barometer (0.00)\n",
      "5: reflex_camera (0.00)\n",
      "Found 'watch' with probability 0.98\n",
      "image_save_path_good good_watch_folder\\0226b246d82fb196b353eee85e0c7b3b.png\n",
      "1: analog_clock (0.75)\n",
      "2: stopwatch (0.17)\n",
      "3: wall_clock (0.06)\n",
      "4: odometer (0.01)\n",
      "5: barometer (0.01)\n",
      "Found 'watch' with probability 0.75\n",
      "image_save_path_good good_watch_folder\\02af40493eeb9c41cbee5b4a35b76a18.png\n",
      "1: stopwatch (0.98)\n",
      "2: digital_watch (0.01)\n",
      "3: analog_clock (0.00)\n",
      "4: barometer (0.00)\n",
      "5: scale (0.00)\n",
      "Found 'watch' with probability 0.98\n",
      "image_save_path_good good_watch_folder\\02d816fba813ef3efc50fc522843c67b.png\n",
      "1: matchstick (0.14)\n",
      "2: fountain (0.13)\n",
      "3: web_site (0.10)\n",
      "4: cleaver (0.03)\n",
      "5: hook (0.02)\n",
      "image_save_path_bad bad_watch_folder\\025211240c5c41717c3a8ab0fee71c24.png\n",
      "1: stopwatch (0.96)\n",
      "2: digital_watch (0.02)\n",
      "3: analog_clock (0.01)\n",
      "4: reflex_camera (0.00)\n",
      "5: magnetic_compass (0.00)\n",
      "Found 'watch' with probability 0.96\n",
      "image_save_path_good good_watch_folder\\03ca5a8bb208977a548d41367de0fba8.png\n"
     ]
    },
    {
     "name": "stderr",
     "output_type": "stream",
     "text": [
      "\r",
      "Processing images:   1%|          | 9/1116 [00:07<09:53,  1.87it/s]"
     ]
    },
    {
     "name": "stdout",
     "output_type": "stream",
     "text": [
      "1: stopwatch (0.98)\n",
      "2: barometer (0.01)\n",
      "3: magnetic_compass (0.01)\n",
      "4: digital_watch (0.00)\n",
      "5: analog_clock (0.00)\n",
      "Found 'watch' with probability 0.98\n",
      "image_save_path_good good_watch_folder\\00767d4d15ac4bc7258096399095115c.png\n",
      "1: mailbox (0.17)\n",
      "2: analog_clock (0.15)\n",
      "3: stopwatch (0.06)\n",
      "4: barometer (0.06)\n",
      "5: digital_watch (0.05)\n",
      "Found 'watch' with probability 0.15\n",
      "image_save_path_good good_watch_folder\\0426561ac3375863ab105cb8293d7ebc.png\n",
      "1: stopwatch (0.95)\n",
      "2: analog_clock (0.03)\n",
      "3: magnetic_compass (0.01)\n",
      "4: barometer (0.01)\n",
      "5: digital_watch (0.00)\n",
      "Found 'watch' with probability 0.95\n",
      "image_save_path_good good_watch_folder\\00b370de60a931180e7a68b9cca5dc4c.png\n"
     ]
    },
    {
     "name": "stderr",
     "output_type": "stream",
     "text": [
      "Processing images:   1%|▏         | 15/1116 [00:07<04:33,  4.02it/s]"
     ]
    },
    {
     "name": "stdout",
     "output_type": "stream",
     "text": [
      "1: web_site (0.18)\n",
      "2: cleaver (0.09)\n",
      "3: nail (0.07)\n",
      "4: ski (0.03)\n",
      "5: syringe (0.03)\n",
      "image_save_path_bad bad_watch_folder\\05b4c9fdb95a9f930ed7dcbb3d2edc7e.png\n",
      "1: stopwatch (0.20)\n",
      "2: drum (0.20)\n",
      "3: gasmask (0.06)\n",
      "4: barometer (0.04)\n",
      "5: soccer_ball (0.04)\n",
      "Found 'watch' with probability 0.20\n",
      "image_save_path_good good_watch_folder\\03c7f162ef5ce2dcf5f58bf8f11d03cf.png\n",
      "1: digital_watch (0.33)\n",
      "2: barometer (0.22)\n",
      "3: stopwatch (0.20)\n",
      "4: analog_clock (0.12)\n",
      "5: scale (0.11)\n",
      "Found 'watch' with probability 0.33\n",
      "image_save_path_good good_watch_folder\\04dd1f638d00869f16c9fde857bd542b.png\n",
      "1: analog_clock (0.58)\n",
      "2: stopwatch (0.36)\n",
      "3: wall_clock (0.02)\n",
      "4: barometer (0.01)\n",
      "5: digital_watch (0.00)\n",
      "Found 'watch' with probability 0.58\n",
      "image_save_path_good good_watch_folder\\05aff3956746404cfc8ebec86963b494.png\n",
      "1: stopwatch (0.93)\n",
      "2: analog_clock (0.03)\n",
      "3: digital_watch (0.02)\n",
      "4: magnetic_compass (0.01)\n",
      "5: scale (0.00)\n",
      "Found 'watch' with probability 0.93\n",
      "image_save_path_good good_watch_folder\\0322e101cbff9d0ad171e6a9a5aea1e7.png\n",
      "1: stopwatch (0.99)\n",
      "2: barometer (0.00)\n",
      "3: magnetic_compass (0.00)\n",
      "4: analog_clock (0.00)\n",
      "5: digital_watch (0.00)\n",
      "Found 'watch' with probability 0.99\n",
      "image_save_path_good good_watch_folder\\029c6c6b5ccad5415fe132f3f3cba716.png\n",
      "1: stopwatch (0.82)\n",
      "2: barometer (0.06)\n",
      "3: analog_clock (0.04)\n",
      "4: magnetic_compass (0.04)\n",
      "5: digital_watch (0.03)\n",
      "Found 'watch' with probability 0.82\n",
      "image_save_path_good good_watch_folder\\067debef9056a3939bc567469d3a7302.png\n"
     ]
    },
    {
     "name": "stderr",
     "output_type": "stream",
     "text": [
      "Processing images:   2%|▏         | 20/1116 [00:09<03:51,  4.73it/s]"
     ]
    },
    {
     "name": "stdout",
     "output_type": "stream",
     "text": [
      "1: analog_clock (0.57)\n",
      "2: stopwatch (0.40)\n",
      "3: magnetic_compass (0.02)\n",
      "4: barometer (0.01)\n",
      "5: digital_watch (0.01)\n",
      "Found 'watch' with probability 0.57\n",
      "image_save_path_good good_watch_folder\\00bf378af3e2733399cb523f075179e0.png\n"
     ]
    },
    {
     "name": "stderr",
     "output_type": "stream",
     "text": [
      "\r",
      "Processing images:   2%|▏         | 22/1116 [00:09<03:06,  5.86it/s]"
     ]
    },
    {
     "name": "stdout",
     "output_type": "stream",
     "text": [
      "1: stopwatch (0.92)\n",
      "2: digital_watch (0.05)\n",
      "3: analog_clock (0.02)\n",
      "4: magnetic_compass (0.00)\n",
      "5: barometer (0.00)\n",
      "Found 'watch' with probability 0.92\n",
      "image_save_path_good good_watch_folder\\06d4a42a9527da683e922388a11a66d2.png\n",
      "1: panpipe (0.91)\n",
      "2: matchstick (0.03)\n",
      "3: washbasin (0.02)\n",
      "4: face_powder (0.01)\n",
      "5: abacus (0.01)\n",
      "image_save_path_bad bad_watch_folder\\06cddfe485c66a63aaf856d7e8308473.png\n"
     ]
    },
    {
     "name": "stderr",
     "output_type": "stream",
     "text": [
      "\r",
      "Processing images:   2%|▏         | 24/1116 [00:09<04:01,  4.52it/s]"
     ]
    },
    {
     "name": "stdout",
     "output_type": "stream",
     "text": [
      "1: stopwatch (0.96)1: stopwatch (0.90)\n",
      "2: analog_clock (0.07)\n",
      "3: digital_watch (0.02)\n",
      "4: magnetic_compass (0.00)\n",
      "5: scale (0.00)\n",
      "Found 'watch' with probability 0.90\n",
      "image_save_path_good good_watch_folder\\0731ca8b452e00286342af699421fe95.png\n",
      "\n",
      "2: barometer (0.01)\n",
      "3: analog_clock (0.01)\n",
      "4: scale (0.01)\n",
      "5: digital_watch (0.01)\n",
      "Found 'watch' with probability 0.96\n",
      "image_save_path_good good_watch_folder\\06af7c3a9c58f0af69d7d86360f3e320.png\n",
      "1: stopwatch (0.58)\n",
      "2: barometer (0.24)\n",
      "3: magnetic_compass (0.07)\n",
      "4: analog_clock (0.05)\n",
      "5: digital_watch (0.03)\n",
      "Found 'watch' with probability 0.58\n",
      "image_save_path_good good_watch_folder\\0645d9ff509018d720f3fd5da542cad1.png\n",
      "1: stopwatch (0.68)\n",
      "2: barometer (0.05)\n",
      "3: analog_clock (0.03)\n",
      "4: digital_watch (0.03)\n",
      "5: pencil_sharpener (0.03)\n",
      "Found 'watch' with probability 0.68\n",
      "image_save_path_good good_watch_folder\\076c7fc0ede78d5dff6ce5eaa1e2fe23.png\n",
      "1: analog_clock (0.87)\n",
      "2: stopwatch (0.12)\n",
      "3: wall_clock (0.01)\n",
      "4: barometer (0.00)\n",
      "5: digital_watch (0.00)\n",
      "Found 'watch' with probability 0.87\n",
      "image_save_path_good good_watch_folder\\073a02e7a2707e1522bf95b2b9abfa4c.png\n",
      "1: barometer (0.56)\n",
      "2: stopwatch (0.20)\n",
      "3: scale (0.17)\n",
      "4: analog_clock (0.05)\n",
      "5: magnetic_compass (0.01)\n",
      "Found 'watch' with probability 0.20\n",
      "image_save_path_good good_watch_folder\\073ace43c43075e037acdc9330a5dda1.png\n"
     ]
    },
    {
     "name": "stderr",
     "output_type": "stream",
     "text": [
      "Processing images:   3%|▎         | 30/1116 [00:10<02:52,  6.30it/s]"
     ]
    },
    {
     "name": "stdout",
     "output_type": "stream",
     "text": [
      "1: stopwatch (0.97)\n",
      "2: digital_watch (0.01)\n",
      "3: analog_clock (0.01)\n",
      "4: barometer (0.00)\n",
      "5: magnetic_compass (0.00)\n",
      "Found 'watch' with probability 0.97\n",
      "image_save_path_good good_watch_folder\\077291188047123df05abaf3345d1e6e.png\n",
      "1: stopwatch (0.74)\n",
      "2: barometer (0.15)\n",
      "3: analog_clock (0.08)\n",
      "4: digital_watch (0.01)\n",
      "5: magnetic_compass (0.01)\n",
      "Found 'watch' with probability 0.74\n",
      "image_save_path_good good_watch_folder\\06f73ea7e62fa09251942385a54e55ac.png\n",
      "1: stopwatch (0.80)\n",
      "2: barometer (0.08)\n",
      "3: analog_clock (0.06)\n",
      "4: digital_watch (0.02)\n",
      "5: reflex_camera (0.00)\n",
      "Found 'watch' with probability 0.80\n",
      "image_save_path_good good_watch_folder\\0788aa6a2bf207fc499fffc12d528a89.png\n",
      "1: stopwatch (0.99)\n",
      "2: barometer (0.00)\n",
      "3: analog_clock (0.00)\n",
      "4: digital_watch (0.00)\n",
      "5: magnetic_compass (0.00)\n",
      "Found 'watch' with probability 0.99\n",
      "image_save_path_good good_watch_folder\\07919a346ff060197647dac4cf4e911c.png\n"
     ]
    },
    {
     "name": "stderr",
     "output_type": "stream",
     "text": [
      "\r",
      "Processing images:   3%|▎         | 32/1116 [00:11<03:40,  4.91it/s]"
     ]
    },
    {
     "name": "stdout",
     "output_type": "stream",
     "text": [
      "1: analog_clock (0.79)\n",
      "2: stopwatch (0.20)\n",
      "3: digital_watch (0.00)\n",
      "4: wall_clock (0.00)\n",
      "5: digital_clock (0.00)\n",
      "Found 'watch' with probability 0.79\n",
      "image_save_path_good good_watch_folder\\07c07acbcc41616be4f9fb2ee42a3751.png\n"
     ]
    },
    {
     "name": "stderr",
     "output_type": "stream",
     "text": [
      "Processing images:   3%|▎         | 36/1116 [00:11<02:42,  6.64it/s]"
     ]
    },
    {
     "name": "stdout",
     "output_type": "stream",
     "text": [
      "1: stopwatch (0.53)\n",
      "2: analog_clock (0.41)\n",
      "3: wall_clock (0.02)\n",
      "4: barometer (0.02)\n",
      "5: magnetic_compass (0.01)\n",
      "Found 'watch' with probability 0.53\n",
      "image_save_path_good good_watch_folder\\08fcc4b0184730af0ebc31cd35f8ed07.png\n",
      "1: wallet (0.35)\n",
      "2: binder (0.13)\n",
      "3: carton (0.08)\n",
      "4: buckle (0.08)\n",
      "5: reflex_camera (0.04)\n",
      "image_save_path_bad bad_watch_folder\\08134fbaec8882fb5b66bfa59c7309a5.png\n",
      "1: stopwatch (0.55)\n",
      "2: analog_clock (0.41)\n",
      "3: digital_watch (0.02)\n",
      "4: barometer (0.01)\n",
      "5: wall_clock (0.00)\n",
      "Found 'watch' with probability 0.55\n",
      "image_save_path_good good_watch_folder\\083249d85b1b4a7f3aa5a011644dc811.png\n",
      "1: analog_clock (0.87)\n",
      "2: stopwatch (0.06)\n",
      "3: digital_watch (0.03)\n",
      "4: wall_clock (0.01)\n",
      "5: barometer (0.01)\n",
      "Found 'watch' with probability 0.87\n",
      "image_save_path_good good_watch_folder\\088abd4d51ebeb266380f3672da30048.png\n"
     ]
    },
    {
     "name": "stderr",
     "output_type": "stream",
     "text": [
      "\r",
      "Processing images:   3%|▎         | 38/1116 [00:12<03:22,  5.33it/s]"
     ]
    },
    {
     "name": "stdout",
     "output_type": "stream",
     "text": [
      "1: stopwatch (0.97)\n",
      "2: analog_clock (0.02)\n",
      "3: digital_watch (0.00)\n",
      "4: magnetic_compass (0.00)\n",
      "5: barometer (0.00)\n",
      "Found 'watch' with probability 0.97\n",
      "image_save_path_good good_watch_folder\\09bb246c213e5c2bb0a7550482fcd3a8.png\n",
      "1: stopwatch (0.74)\n",
      "2: analog_clock (0.22)\n",
      "3: digital_watch (0.02)\n",
      "4: magnetic_compass (0.01)\n",
      "5: barometer (0.00)\n",
      "Found 'watch' with probability 0.74\n",
      "image_save_path_good good_watch_folder\\07d5259ef1ca530184ce9e07361549c9.png\n",
      "1: stopwatch (0.97)\n",
      "2: digital_watch (0.02)\n",
      "3: analog_clock (0.01)\n",
      "4: scale (0.00)\n",
      "5: barometer (0.00)\n",
      "Found 'watch' with probability 0.97\n",
      "image_save_path_good good_watch_folder\\096ea900ad1bd4a95ea0390d712a715d.png\n",
      "1: stopwatch (0.97)\n",
      "2: analog_clock (0.02)\n",
      "3: barometer (0.01)\n",
      "4: digital_watch (0.01)\n",
      "5: magnetic_compass (0.00)\n",
      "Found 'watch' with probability 0.97\n",
      "image_save_path_good good_watch_folder\\09cd3c1174862f14ce79391add050294.png\n",
      "1: stopwatch (0.63)\n",
      "2: barometer (0.34)\n",
      "3: analog_clock (0.01)\n",
      "4: digital_watch (0.01)\n",
      "5: magnetic_compass (0.00)\n",
      "Found 'watch' with probability 0.63\n",
      "image_save_path_good good_watch_folder\\0a691600e8a61bc9d1511c2188ebe825.png\n",
      "1: stopwatch (0.83)\n",
      "2: barometer (0.10)\n",
      "3: analog_clock (0.04)\n",
      "4: digital_watch (0.01)\n",
      "5: magnetic_compass (0.01)\n",
      "Found 'watch' with probability 0.83\n",
      "image_save_path_good good_watch_folder\\0c2f5f846ba026ae10ce2865ba0c3217.png\n",
      "1: stopwatch (0.79)\n",
      "2: barometer (0.13)\n",
      "3: magnetic_compass (0.03)\n",
      "4: analog_clock (0.03)\n",
      "5: scale (0.01)\n",
      "Found 'watch' with probability 0.79\n",
      "image_save_path_good good_watch_folder\\0b709aa4dbf0460f5d5c8fcf219f7580.png\n"
     ]
    },
    {
     "name": "stderr",
     "output_type": "stream",
     "text": [
      "Processing images:   4%|▍         | 48/1116 [00:13<02:02,  8.72it/s]"
     ]
    },
    {
     "name": "stdout",
     "output_type": "stream",
     "text": [
      "1: barometer (0.74)\n",
      "2: stopwatch (0.20)\n",
      "3: magnetic_compass (0.03)\n",
      "4: slide_rule (0.01)\n",
      "5: analog_clock (0.01)\n",
      "Found 'watch' with probability 0.20\n",
      "image_save_path_good good_watch_folder\\0ab2c0560e9dd4754bc9f3dd7704d7b0.png\n",
      "1: stopwatch (0.96)\n",
      "2: digital_watch (0.01)\n",
      "3: analog_clock (0.01)\n",
      "4: reflex_camera (0.01)\n",
      "5: magnetic_compass (0.00)\n",
      "Found 'watch' with probability 0.96\n",
      "image_save_path_good good_watch_folder\\0cc1c5da61a604d0f103f4d432977419.png\n",
      "1: stopwatch (0.76)\n",
      "2: analog_clock (0.22)\n",
      "3: magnetic_compass (0.01)\n",
      "4: digital_watch (0.00)\n",
      "5: barometer (0.00)\n",
      "Found 'watch' with probability 0.76\n",
      "image_save_path_good good_watch_folder\\0c60bae8d9b56d4a721c682245a82320.png\n",
      "1: stopwatch (0.97)\n",
      "2: magnetic_compass (0.01)\n",
      "3: barometer (0.01)\n",
      "4: digital_watch (0.01)\n",
      "5: analog_clock (0.00)\n",
      "Found 'watch' with probability 0.97\n",
      "image_save_path_good good_watch_folder\\0b922d755ac3e037e0515cee4638b724.png\n",
      "1: analog_clock (0.63)\n",
      "2: digital_watch (0.14)\n",
      "3: stopwatch (0.07)\n",
      "4: wall_clock (0.05)\n",
      "5: sundial (0.02)\n",
      "Found 'watch' with probability 0.63\n",
      "image_save_path_good good_watch_folder\\09d31ed012ddbdeeef8c53b5fba8a7d4.png\n"
     ]
    },
    {
     "name": "stderr",
     "output_type": "stream",
     "text": [
      "\r",
      "Processing images:   4%|▍         | 50/1116 [00:14<03:15,  5.46it/s]"
     ]
    },
    {
     "name": "stdout",
     "output_type": "stream",
     "text": [
      "1: stopwatch (0.74)\n",
      "2: analog_clock (0.20)\n",
      "3: digital_watch (0.03)\n",
      "4: magnetic_compass (0.01)\n",
      "5: barometer (0.00)\n",
      "Found 'watch' with probability 0.74\n",
      "image_save_path_good good_watch_folder\\0cdac49c95a38ce608c1c4b9f29ee4bb.png\n"
     ]
    },
    {
     "name": "stderr",
     "output_type": "stream",
     "text": [
      "\r",
      "Processing images:   5%|▍         | 52/1116 [00:15<03:02,  5.84it/s]"
     ]
    },
    {
     "name": "stdout",
     "output_type": "stream",
     "text": [
      "1: stopwatch (0.96)\n",
      "2: digital_watch (0.04)\n",
      "3: analog_clock (0.01)\n",
      "4: magnetic_compass (0.00)\n",
      "5: reflex_camera (0.00)\n",
      "Found 'watch' with probability 0.96\n",
      "image_save_path_good good_watch_folder\\0d3ada08475221b891e2b24a7e24f5de.png\n"
     ]
    },
    {
     "name": "stderr",
     "output_type": "stream",
     "text": [
      "\r",
      "Processing images:   5%|▍         | 54/1116 [00:15<03:29,  5.08it/s]"
     ]
    },
    {
     "name": "stdout",
     "output_type": "stream",
     "text": [
      "1: stopwatch (0.97)\n",
      "2: analog_clock (0.02)\n",
      "3: digital_watch (0.01)\n",
      "4: magnetic_compass (0.00)\n",
      "5: barometer (0.00)\n",
      "Found 'watch' with probability 0.97\n",
      "image_save_path_good good_watch_folder\\0d7bfc78b1c2131fb566509f7c16dfa0.png\n",
      "1: stopwatch (0.77)\n",
      "2: analog_clock (0.09)\n",
      "3: barometer (0.05)\n",
      "4: magnetic_compass (0.02)\n",
      "5: digital_watch (0.02)\n",
      "Found 'watch' with probability 0.77\n",
      "image_save_path_good good_watch_folder\\0d077a49de7596284d3d93cb363d61b5.png\n",
      "1: hook (0.06)\n",
      "2: web_site (0.06)\n",
      "3: nail (0.06)\n",
      "4: abaya (0.05)\n",
      "5: bannister (0.04)\n",
      "image_save_path_bad bad_watch_folder\\0db70af9d947daa9f7c20b916e99a7ff.png\n",
      "1: analog_clock (0.61)\n",
      "2: stopwatch (0.26)\n",
      "3: barometer (0.06)\n",
      "4: wall_clock (0.04)\n",
      "5: digital_watch (0.02)\n",
      "Found 'watch' with probability 0.61\n",
      "image_save_path_good good_watch_folder\\0d89baf4c10dc389944d1f2486f19281.png\n"
     ]
    },
    {
     "name": "stderr",
     "output_type": "stream",
     "text": [
      "Processing images:   5%|▌         | 56/1116 [00:15<03:16,  5.38it/s]"
     ]
    },
    {
     "name": "stdout",
     "output_type": "stream",
     "text": [
      "1: binder (0.20)\n",
      "2: desktop_computer (0.16)\n",
      "3: screen (0.14)\n",
      "4: monitor (0.13)\n",
      "5: television (0.07)\n",
      "image_save_path_bad bad_watch_folder\\0db629a41600b586a968060939d4eb16.png\n",
      "1: stopwatch (0.91)\n",
      "2: analog_clock (0.05)\n",
      "3: digital_watch (0.02)\n",
      "4: magnetic_compass (0.01)\n",
      "5: reflex_camera (0.00)\n",
      "Found 'watch' with probability 0.91\n",
      "image_save_path_good good_watch_folder\\0ddc29ed897b944e887e173d7f0ef319.png\n",
      "1: stopwatch (0.69)\n",
      "2: analog_clock (0.18)\n",
      "3: barometer (0.07)\n",
      "4: magnetic_compass (0.03)\n",
      "5: digital_watch (0.01)\n",
      "Found 'watch' with probability 0.69\n",
      "image_save_path_good good_watch_folder\\0de573771a1d1fcae61bc026ec058377.png\n"
     ]
    },
    {
     "name": "stderr",
     "output_type": "stream",
     "text": [
      "Processing images:   5%|▌         | 61/1116 [00:16<03:21,  5.24it/s]"
     ]
    },
    {
     "name": "stdout",
     "output_type": "stream",
     "text": [
      "1: stopwatch (0.97)\n",
      "2: magnetic_compass (0.01)\n",
      "3: analog_clock (0.01)\n",
      "4: digital_watch (0.01)\n",
      "5: barometer (0.01)\n",
      "Found 'watch' with probability 0.97\n",
      "image_save_path_good good_watch_folder\\0e28f9bfae1b2703ad60aa73d3abd688.png\n",
      "1: stopwatch (0.93)\n",
      "2: digital_watch (0.04)\n",
      "3: analog_clock (0.01)\n",
      "4: magnetic_compass (0.00)\n",
      "5: scale (0.00)\n",
      "Found 'watch' with probability 0.93\n",
      "image_save_path_good good_watch_folder\\0e7ce331cb875693422662f474577f04.png\n",
      "1: analog_clock (0.91)\n",
      "2: stopwatch (0.05)\n",
      "3: magnetic_compass (0.02)\n",
      "4: barometer (0.01)\n",
      "5: wall_clock (0.01)\n",
      "Found 'watch' with probability 0.91\n",
      "image_save_path_good good_watch_folder\\0ef64144767efab80d4dc732605e42dc.png\n",
      "1: analog_clock (0.82)\n",
      "2: stopwatch (0.10)\n",
      "3: wall_clock (0.06)\n",
      "4: odometer (0.00)\n",
      "5: barometer (0.00)\n",
      "Found 'watch' with probability 0.82\n",
      "image_save_path_good good_watch_folder\\0e9a43941d78b1da6c96ffefb6a4777d.png\n",
      "1: analog_clock (0.45)\n",
      "2: wall_clock (0.25)\n",
      "3: barometer (0.15)\n",
      "4: stopwatch (0.06)\n",
      "5: odometer (0.03)\n",
      "Found 'watch' with probability 0.45\n",
      "image_save_path_good good_watch_folder\\0ee7097a7638f212d86c631a67cd5238.png\n",
      "1: stopwatch (0.64)\n",
      "2: analog_clock (0.29)\n",
      "3: wall_clock (0.02)\n",
      "4: magnetic_compass (0.02)\n",
      "5: digital_watch (0.01)\n",
      "Found 'watch' with probability 0.64\n",
      "image_save_path_good good_watch_folder\\0f35f438755a2084dce1f2a235c0b1c4.png\n"
     ]
    },
    {
     "name": "stderr",
     "output_type": "stream",
     "text": [
      "\r",
      "Processing images:   6%|▌         | 63/1116 [00:17<04:31,  3.87it/s]"
     ]
    },
    {
     "name": "stdout",
     "output_type": "stream",
     "text": [
      "1: analog_clock (0.73)\n",
      "2: barometer (0.15)\n",
      "3: stopwatch (0.11)\n",
      "4: wall_clock (0.01)\n",
      "5: digital_watch (0.00)\n",
      "Found 'watch' with probability 0.73\n",
      "image_save_path_good good_watch_folder\\0dec24ba3cb197cb61f24f3a0691a033.png\n",
      "1: stopwatch (0.53)\n",
      "2: analog_clock (0.26)\n",
      "3: barometer (0.20)\n",
      "4: digital_watch (0.00)\n",
      "5: wall_clock (0.00)\n",
      "Found 'watch' with probability 0.53\n",
      "image_save_path_good good_watch_folder\\103dc6c6abd6df7ca84819cb7d0b6da7.png\n"
     ]
    },
    {
     "name": "stderr",
     "output_type": "stream",
     "text": [
      "Processing images:   6%|▌         | 67/1116 [00:18<03:41,  4.73it/s]"
     ]
    },
    {
     "name": "stdout",
     "output_type": "stream",
     "text": [
      "1: stopwatch (0.94)\n",
      "2: digital_watch (0.04)\n",
      "3: scale (0.01)\n",
      "4: reflex_camera (0.00)\n",
      "5: binoculars (0.00)\n",
      "Found 'watch' with probability 0.94\n",
      "image_save_path_good good_watch_folder\\116254ce30c838cc2707388f828e7201.png\n",
      "1: stopwatch (0.99)\n",
      "2: analog_clock (0.01)\n",
      "3: barometer (0.00)\n",
      "4: digital_watch (0.00)\n",
      "5: magnetic_compass (0.00)\n",
      "Found 'watch' with probability 0.99\n",
      "image_save_path_good good_watch_folder\\10bcef9c88582a8eb3e0ead364a27dea.png\n",
      "1: magnetic_compass (0.48)\n",
      "2: barometer (0.23)\n",
      "3: stopwatch (0.23)\n",
      "4: analog_clock (0.04)\n",
      "5: digital_watch (0.01)\n",
      "Found 'watch' with probability 0.23\n",
      "image_save_path_good good_watch_folder\\111835799fe3c67724b695dccbb15fed.png\n",
      "1: stopwatch (0.90)\n",
      "2: digital_watch (0.03)\n",
      "3: analog_clock (0.02)\n",
      "4: magnetic_compass (0.01)\n",
      "5: barometer (0.01)\n",
      "Found 'watch' with probability 0.90\n",
      "image_save_path_good good_watch_folder\\1068ab2085a33c3d49d824f55ab3396e.png\n"
     ]
    },
    {
     "name": "stderr",
     "output_type": "stream",
     "text": [
      "Processing images:   6%|▋         | 70/1116 [00:18<02:56,  5.92it/s]"
     ]
    },
    {
     "name": "stdout",
     "output_type": "stream",
     "text": [
      "1: stopwatch (0.80)\n",
      "2: analog_clock (0.11)\n",
      "3: digital_watch (0.09)\n",
      "4: wall_clock (0.00)\n",
      "5: barometer (0.00)\n",
      "Found 'watch' with probability 0.80\n",
      "image_save_path_good good_watch_folder\\102e2afe4d252ca386bb566e1797859f.png\n",
      "1: analog_clock (0.71)\n",
      "2: stopwatch (0.24)\n",
      "3: barometer (0.02)\n",
      "4: wall_clock (0.02)\n",
      "5: digital_watch (0.01)\n",
      "Found 'watch' with probability 0.71\n",
      "image_save_path_good good_watch_folder\\103476b7ce86e0679f40c8327413db0a.png\n"
     ]
    },
    {
     "name": "stderr",
     "output_type": "stream",
     "text": [
      "Processing images:   6%|▋         | 72/1116 [00:18<02:54,  6.00it/s]"
     ]
    },
    {
     "name": "stdout",
     "output_type": "stream",
     "text": [
      "1: stopwatch (0.99)\n",
      "2: scale (0.00)\n",
      "3: analog_clock (0.00)\n",
      "4: digital_watch (0.00)\n",
      "5: magnetic_compass (0.00)\n",
      "Found 'watch' with probability 0.99\n",
      "image_save_path_good good_watch_folder\\1032024204898faf7eae517d2936261f.png\n",
      "1: stopwatch (0.96)\n",
      "2: magnetic_compass (0.03)\n",
      "3: analog_clock (0.00)\n",
      "4: digital_watch (0.00)\n",
      "5: barometer (0.00)\n",
      "Found 'watch' with probability 0.96\n",
      "image_save_path_good good_watch_folder\\11a28b7683983a8c109fe4e495f3ed18.png\n"
     ]
    },
    {
     "name": "stderr",
     "output_type": "stream",
     "text": [
      "Processing images:   7%|▋         | 78/1116 [00:19<02:18,  7.50it/s]"
     ]
    },
    {
     "name": "stdout",
     "output_type": "stream",
     "text": [
      "1: beaker (0.70)\n",
      "2: cleaver (0.07)\n",
      "3: measuring_cup (0.02)\n",
      "4: water_jug (0.02)\n",
      "5: nipple (0.02)\n",
      "image_save_path_bad bad_watch_folder\\11afc315fa80e190b816f3e2d0270257.png\n",
      "1: stopwatch (0.94)\n",
      "2: digital_watch (0.03)\n",
      "3: analog_clock (0.01)\n",
      "4: barometer (0.01)\n",
      "5: magnetic_compass (0.00)\n",
      "Found 'watch' with probability 0.94\n",
      "image_save_path_good good_watch_folder\\1173ec626162cdbe4502d7de3c398596.png\n",
      "1: analog_clock (0.76)\n",
      "2: stopwatch (0.16)\n",
      "3: barometer (0.04)\n",
      "4: wall_clock (0.03)\n",
      "5: magnetic_compass (0.01)\n",
      "Found 'watch' with probability 0.76\n",
      "image_save_path_good good_watch_folder\\1211e3f95328863cda7f21e0db08ad04.png\n",
      "1: stopwatch (0.64)\n",
      "2: analog_clock (0.26)\n",
      "3: magnetic_compass (0.03)\n",
      "4: digital_watch (0.02)\n",
      "5: wall_clock (0.01)\n",
      "Found 'watch' with probability 0.64\n",
      "image_save_path_good good_watch_folder\\11d5bd221dba6371b42918bd93b56292.png\n",
      "1: stopwatch (0.80)\n",
      "2: reflex_camera (0.17)\n",
      "3: digital_watch (0.01)\n",
      "4: magnetic_compass (0.01)\n",
      "5: radio (0.00)\n",
      "Found 'watch' with probability 0.80\n",
      "image_save_path_good good_watch_folder\\1211fac3d39a5c666d0c1c084b26e873.png\n"
     ]
    },
    {
     "name": "stderr",
     "output_type": "stream",
     "text": [
      "\r",
      "Processing images:   7%|▋         | 79/1116 [00:20<03:49,  4.53it/s]"
     ]
    },
    {
     "name": "stdout",
     "output_type": "stream",
     "text": [
      "1: analog_clock (0.74)\n",
      "2: stopwatch (0.10)\n",
      "3: barometer (0.08)\n",
      "4: magnetic_compass (0.04)\n",
      "5: digital_watch (0.03)\n",
      "Found 'watch' with probability 0.74\n",
      "image_save_path_good good_watch_folder\\12593a6fb917201b3dd99d4c701754a1.png\n",
      "1: abaya (0.15)\n",
      "2: matchstick (0.12)\n",
      "3: bubble (0.09)\n",
      "4: web_site (0.07)\n",
      "5: nematode (0.07)\n",
      "image_save_path_bad bad_watch_folder\\1235f7e7649ac6198ae96f926090d83c.png\n",
      "1: stopwatch (0.92)\n",
      "2: analog_clock (0.03)\n",
      "3: barometer (0.02)\n",
      "4: magnetic_compass (0.01)\n",
      "5: digital_watch (0.01)\n",
      "Found 'watch' with probability 0.92\n",
      "image_save_path_good good_watch_folder\\12fbc51247158efafe22f1e966df58dd.png\n"
     ]
    },
    {
     "name": "stderr",
     "output_type": "stream",
     "text": [
      "Processing images:   8%|▊         | 86/1116 [00:21<02:21,  7.28it/s]"
     ]
    },
    {
     "name": "stdout",
     "output_type": "stream",
     "text": [
      "1: stopwatch (0.69)\n",
      "2: barometer (0.22)\n",
      "3: analog_clock (0.03)\n",
      "4: magnetic_compass (0.03)\n",
      "5: digital_watch (0.02)\n",
      "Found 'watch' with probability 0.69\n",
      "image_save_path_good good_watch_folder\\12fc505d846814298f9f4046eb5d8ccc.png\n",
      "1: barometer (0.52)\n",
      "2: analog_clock (0.24)\n",
      "3: stopwatch (0.14)\n",
      "4: magnetic_compass (0.03)\n",
      "5: wall_clock (0.03)\n",
      "Found 'watch' with probability 0.24\n",
      "image_save_path_good good_watch_folder\\1342d2d0e52cd5f7398b4139727bd60f.png\n",
      "1: analog_clock (0.67)\n",
      "2: stopwatch (0.27)\n",
      "3: barometer (0.04)\n",
      "4: digital_watch (0.01)\n",
      "5: wall_clock (0.01)\n",
      "Found 'watch' with probability 0.67\n",
      "image_save_path_good good_watch_folder\\12fcd0a43653247ba2798a2fa255d581.png\n",
      "1: stopwatch (0.46)\n",
      "2: analog_clock (0.32)\n",
      "3: barometer (0.14)\n",
      "4: magnetic_compass (0.03)\n",
      "5: digital_watch (0.02)\n",
      "Found 'watch' with probability 0.46\n",
      "image_save_path_good good_watch_folder\\133dd9c734f36b12b868c79a36603a5d.png\n",
      "1: stopwatch (0.98)\n",
      "2: digital_watch (0.01)\n",
      "3: scale (0.00)\n",
      "4: analog_clock (0.00)\n",
      "5: reflex_camera (0.00)\n",
      "Found 'watch' with probability 0.98\n",
      "image_save_path_good good_watch_folder\\13dd77cc0e7f19f88b4c216f9bb9c532.png\n",
      "1: stopwatch (0.51)\n",
      "2: barometer (0.33)\n",
      "3: digital_watch (0.06)\n",
      "4: analog_clock (0.06)\n",
      "5: magnetic_compass (0.02)\n",
      "Found 'watch' with probability 0.51\n",
      "image_save_path_good good_watch_folder\\142f97522269cffbd82b6a0471bf14a3.png\n",
      "1: stopwatch (0.96)\n",
      "2: analog_clock (0.03)\n",
      "3: digital_watch (0.01)\n",
      "4: barometer (0.00)\n",
      "5: magnetic_compass (0.00)\n",
      "Found 'watch' with probability 0.96\n",
      "image_save_path_good good_watch_folder\\149f39f5e2b4e0586f802b5d04bf4c6f.png\n"
     ]
    },
    {
     "name": "stderr",
     "output_type": "stream",
     "text": [
      "Processing images:   8%|▊         | 92/1116 [00:22<02:26,  7.01it/s]"
     ]
    },
    {
     "name": "stdout",
     "output_type": "stream",
     "text": [
      "1: stopwatch (0.98)\n",
      "2: analog_clock (0.01)\n",
      "3: digital_watch (0.00)\n",
      "4: barometer (0.00)\n",
      "5: magnetic_compass (0.00)\n",
      "Found 'watch' with probability 0.98\n",
      "image_save_path_good good_watch_folder\\1458e174bd12e0d67df59d78d92e3ea5.png\n",
      "1: stopwatch (0.98)\n",
      "2: analog_clock (0.01)\n",
      "3: barometer (0.00)\n",
      "4: digital_watch (0.00)\n",
      "5: wall_clock (0.00)\n",
      "Found 'watch' with probability 0.98\n",
      "image_save_path_good good_watch_folder\\153bf8ea32884999c43003a791bd45ad.png\n"
     ]
    },
    {
     "name": "stderr",
     "output_type": "stream",
     "text": [
      "\r",
      "Processing images:   8%|▊         | 93/1116 [00:22<02:26,  6.99it/s]"
     ]
    },
    {
     "name": "stdout",
     "output_type": "stream",
     "text": [
      "1: stopwatch (0.89)\n",
      "2: analog_clock (0.08)\n",
      "3: barometer (0.03)\n",
      "4: scale (0.00)\n",
      "5: magnetic_compass (0.00)\n",
      "Found 'watch' with probability 0.89\n",
      "image_save_path_good good_watch_folder\\151188ce631b6db4821356388fd44115.png\n",
      "1: stopwatch (0.78)\n",
      "2: bolo_tie (0.12)\n",
      "3: magnetic_compass (0.07)\n",
      "4: digital_watch (0.01)\n",
      "5: analog_clock (0.01)\n",
      "Found 'watch' with probability 0.78\n",
      "image_save_path_good good_watch_folder\\15acea05e547996d29b40a9d8fc86f9b.png\n",
      "1: stopwatch (0.97)\n",
      "2: analog_clock (0.02)\n",
      "3: barometer (0.01)\n",
      "4: wall_clock (0.00)\n",
      "5: digital_watch (0.00)\n",
      "Found 'watch' with probability 0.97\n",
      "image_save_path_good good_watch_folder\\159ad3fb05a822b7fc98586e4efb2f6c.png\n"
     ]
    },
    {
     "name": "stderr",
     "output_type": "stream",
     "text": [
      "Processing images:   9%|▊         | 95/1116 [00:22<03:28,  4.90it/s]"
     ]
    },
    {
     "name": "stdout",
     "output_type": "stream",
     "text": [
      "1: stopwatch (0.95)\n",
      "2: scale (0.03)\n",
      "3: barometer (0.01)\n",
      "4: analog_clock (0.00)\n",
      "5: digital_watch (0.00)\n",
      "Found 'watch' with probability 0.95\n",
      "image_save_path_good good_watch_folder\\15b551c472cfad5574fd95dcfac8b8d8.png\n",
      "1: analog_clock (0.30)\n",
      "2: barometer (0.18)\n",
      "3: gas_pump (0.15)\n",
      "4: wall_clock (0.13)\n",
      "5: stopwatch (0.06)\n",
      "Found 'watch' with probability 0.30\n",
      "image_save_path_good good_watch_folder\\15c3e286099f354cbce49035fee80356.png\n"
     ]
    },
    {
     "name": "stderr",
     "output_type": "stream",
     "text": [
      "Processing images:   9%|▉         | 98/1116 [00:23<02:34,  6.57it/s]"
     ]
    },
    {
     "name": "stdout",
     "output_type": "stream",
     "text": [
      "1: analog_clock (0.69)\n",
      "2: stopwatch (0.19)\n",
      "3: wall_clock (0.09)\n",
      "4: barometer (0.02)\n",
      "5: magnetic_compass (0.01)\n",
      "Found 'watch' with probability 0.69\n",
      "image_save_path_good good_watch_folder\\169c1fd2b825a3f17a38dff9aeabacc5.png\n"
     ]
    },
    {
     "name": "stderr",
     "output_type": "stream",
     "text": [
      "\r",
      "Processing images:   9%|▉         | 99/1116 [00:23<03:33,  4.76it/s]"
     ]
    },
    {
     "name": "stdout",
     "output_type": "stream",
     "text": [
      "1: stopwatch (0.94)\n",
      "2: barometer (0.02)\n",
      "3: digital_watch (0.01)\n",
      "4: analog_clock (0.01)\n",
      "5: magnetic_compass (0.01)\n",
      "Found 'watch' with probability 0.94\n",
      "image_save_path_good good_watch_folder\\175e681a1a5a678b1fa45013568f0474.png\n",
      "1: stopwatch (0.79)\n",
      "2: magnetic_compass (0.11)\n",
      "3: analog_clock (0.05)\n",
      "4: digital_watch (0.02)\n",
      "5: barometer (0.01)\n",
      "Found 'watch' with probability 0.79\n",
      "image_save_path_good good_watch_folder\\16e1a68f727f3f5e65a98e361c8ca8c5.png\n"
     ]
    },
    {
     "name": "stderr",
     "output_type": "stream",
     "text": [
      "Processing images:   9%|▉         | 101/1116 [00:24<03:34,  4.74it/s]"
     ]
    },
    {
     "name": "stdout",
     "output_type": "stream",
     "text": [
      "1: stopwatch (0.90)\n",
      "2: magnetic_compass (0.03)\n",
      "3: barometer (0.03)\n",
      "4: digital_watch (0.01)\n",
      "5: analog_clock (0.01)\n",
      "Found 'watch' with probability 0.90\n",
      "image_save_path_good good_watch_folder\\17fbe6f04736109651f6c8a6d83aee99.png\n",
      "1: stopwatch (0.61)\n",
      "2: analog_clock (0.36)\n",
      "3: digital_watch (0.02)\n",
      "4: wall_clock (0.01)\n",
      "5: magnetic_compass (0.00)\n",
      "Found 'watch' with probability 0.61\n",
      "image_save_path_good good_watch_folder\\17dbd43cee3c254492cb8ff18c123cf6.png\n",
      "1: stopwatch (0.76)\n",
      "2: analog_clock (0.21)\n",
      "3: wall_clock (0.01)\n",
      "4: magnetic_compass (0.01)\n",
      "5: digital_watch (0.00)\n",
      "Found 'watch' with probability 0.76\n",
      "image_save_path_good good_watch_folder\\1730746cf42ba196d42c63823c27f62e.png\n"
     ]
    },
    {
     "name": "stderr",
     "output_type": "stream",
     "text": [
      "Processing images:   9%|▉         | 103/1116 [00:24<02:50,  5.93it/s]"
     ]
    },
    {
     "name": "stdout",
     "output_type": "stream",
     "text": [
      "1: wall_clock (0.19)\n",
      "2: analog_clock (0.17)\n",
      "3: digital_watch (0.16)\n",
      "4: stopwatch (0.09)\n",
      "5: lighter (0.06)\n",
      "Found 'watch' with probability 0.19\n",
      "image_save_path_good good_watch_folder\\180cf855ff546e813221eaa1b6cdac0c.png\n",
      "1: stopwatch (0.99)\n",
      "2: barometer (0.00)\n",
      "3: digital_watch (0.00)\n",
      "4: analog_clock (0.00)\n",
      "5: scale (0.00)\n",
      "Found 'watch' with probability 0.99\n",
      "image_save_path_good good_watch_folder\\187d166dc32fdf8016a5896a59f1884d.png\n",
      "1: analog_clock (0.59)\n",
      "2: stopwatch (0.11)\n",
      "3: jean (0.07)\n",
      "4: sundial (0.04)\n",
      "5: wall_clock (0.03)\n",
      "Found 'watch' with probability 0.59\n",
      "image_save_path_good good_watch_folder\\188649e02e9bcc49d503281bf8df508a.png\n"
     ]
    },
    {
     "name": "stderr",
     "output_type": "stream",
     "text": [
      "Processing images:   9%|▉         | 105/1116 [00:24<02:30,  6.72it/s]"
     ]
    },
    {
     "name": "stdout",
     "output_type": "stream",
     "text": [
      "1: stopwatch (0.56)\n",
      "2: analog_clock (0.28)\n",
      "3: magnetic_compass (0.08)\n",
      "4: barometer (0.03)\n",
      "5: digital_watch (0.02)\n",
      "Found 'watch' with probability 0.56\n",
      "image_save_path_good good_watch_folder\\1825e27dcf809477730239a63f2cb157.png\n"
     ]
    },
    {
     "name": "stderr",
     "output_type": "stream",
     "text": [
      "\r",
      "Processing images:  10%|▉         | 107/1116 [00:24<02:53,  5.81it/s]"
     ]
    },
    {
     "name": "stdout",
     "output_type": "stream",
     "text": [
      "1: stopwatch (0.80)\n",
      "2: analog_clock (0.13)\n",
      "3: barometer (0.02)\n",
      "4: magnetic_compass (0.02)\n",
      "5: digital_watch (0.02)\n",
      "Found 'watch' with probability 0.80\n",
      "image_save_path_good good_watch_folder\\18cd72ef7a7af91701d0600f648f33d1.png\n",
      "1: stopwatch (0.42)\n",
      "2: barometer (0.29)\n",
      "3: analog_clock (0.25)\n",
      "4: digital_watch (0.01)\n",
      "5: magnetic_compass (0.01)\n",
      "Found 'watch' with probability 0.42\n",
      "image_save_path_good good_watch_folder\\18de5f9d5603417f12fc36caa3f77fa5.png\n"
     ]
    },
    {
     "name": "stderr",
     "output_type": "stream",
     "text": [
      "Processing images:  10%|▉         | 109/1116 [00:25<02:43,  6.14it/s]"
     ]
    },
    {
     "name": "stdout",
     "output_type": "stream",
     "text": [
      "1: stopwatch (1.00)\n",
      "2: analog_clock (0.00)\n",
      "3: magnetic_compass (0.00)\n",
      "4: digital_watch (0.00)\n",
      "5: reflex_camera (0.00)\n",
      "Found 'watch' with probability 1.00\n",
      "image_save_path_good good_watch_folder\\181d3db3f748588449f722cc4d4e2d36.png\n",
      "1: stopwatch (0.98)\n",
      "2: magnetic_compass (0.01)\n",
      "3: barometer (0.01)\n",
      "4: analog_clock (0.01)\n",
      "5: digital_watch (0.00)\n",
      "Found 'watch' with probability 0.98\n",
      "image_save_path_good good_watch_folder\\1905df7daf021d2de274cd5a8134e5c1.png\n",
      "1: stopwatch (0.74)\n",
      "2: analog_clock (0.17)\n",
      "3: barometer (0.02)\n",
      "4: digital_watch (0.02)\n",
      "5: drum (0.01)\n",
      "Found 'watch' with probability 0.74\n",
      "image_save_path_good good_watch_folder\\18e6cb62e9a378813c0a3fefa1858bb5.png\n",
      "1: stopwatch (0.71)\n",
      "2: digital_watch (0.14)\n",
      "3: barometer (0.07)\n",
      "4: analog_clock (0.05)\n",
      "5: magnetic_compass (0.03)\n",
      "Found 'watch' with probability 0.71\n",
      "image_save_path_good good_watch_folder\\190be4c37cb9e0221e3f2474711eedd0.png\n",
      "1: analog_clock (0.69)\n",
      "2: perfume (0.09)\n",
      "3: wall_clock (0.05)\n",
      "4: sundial (0.03)\n",
      "5: lighter (0.03)\n",
      "Found 'watch' with probability 0.69\n",
      "image_save_path_good good_watch_folder\\193f8eb9baa06acb69c3577c4a183ab5.png\n"
     ]
    },
    {
     "name": "stderr",
     "output_type": "stream",
     "text": [
      "Processing images:  10%|█         | 114/1116 [00:26<03:03,  5.45it/s]"
     ]
    },
    {
     "name": "stdout",
     "output_type": "stream",
     "text": [
      "1: analog_clock (0.70)\n",
      "2: wall_clock (0.12)\n",
      "3: sundial (0.11)\n",
      "4: iron (0.02)\n",
      "5: shield (0.01)\n",
      "Found 'watch' with probability 0.70\n",
      "image_save_path_good good_watch_folder\\1979f88766687c038cacdd24737d0e11.png\n",
      "1: analog_clock (0.70)\n",
      "2: stopwatch (0.28)\n",
      "3: barometer (0.01)\n",
      "4: wall_clock (0.00)\n",
      "5: digital_watch (0.00)\n",
      "Found 'watch' with probability 0.70\n",
      "image_save_path_good good_watch_folder\\1a8a3362d1210a2641b5d0ad769f36de.png\n",
      "1: analog_clock (0.50)\n",
      "2: stopwatch (0.39)\n",
      "3: magnetic_compass (0.04)\n",
      "4: wall_clock (0.04)\n",
      "5: digital_watch (0.01)\n",
      "Found 'watch' with probability 0.50\n",
      "image_save_path_good good_watch_folder\\1aa2e77f42ca8444c44d8707dab11530.png\n"
     ]
    },
    {
     "name": "stderr",
     "output_type": "stream",
     "text": [
      "\r",
      "Processing images:  10%|█         | 115/1116 [00:26<02:55,  5.70it/s]"
     ]
    },
    {
     "name": "stdout",
     "output_type": "stream",
     "text": [
      "1: soap_dispenser (0.51)\n",
      "2: water_jug (0.11)\n",
      "3: refrigerator (0.04)\n",
      "4: vase (0.04)\n",
      "5: toilet_seat (0.04)\n",
      "image_save_path_bad bad_watch_folder\\1a6e3690ac986509f350db2e6df7f1a6.png\n"
     ]
    },
    {
     "name": "stderr",
     "output_type": "stream",
     "text": [
      "\r",
      "Processing images:  10%|█         | 117/1116 [00:26<03:14,  5.13it/s]"
     ]
    },
    {
     "name": "stdout",
     "output_type": "stream",
     "text": [
      "1: stopwatch (0.51)1: stopwatch (0.90)\n",
      "2: digital_watch (0.07)\n",
      "3: analog_clock (0.02)\n",
      "4: barometer (0.00)\n",
      "5: reflex_camera (0.00)\n",
      "Found 'watch' with probability 0.90\n",
      "image_save_path_good good_watch_folder\\1a861d01c151569d77c10fdc64bcc210.png\n",
      "1: analog_clock (0.91)\n",
      "2: wall_clock (0.04)\n",
      "3: stopwatch (0.04)\n",
      "4: magnetic_compass (0.01)\n",
      "5: digital_watch (0.00)\n",
      "Found 'watch' with probability 0.91\n",
      "image_save_path_good good_watch_folder\\1abb3c93457abbd171349ef823176d72.png\n",
      "\n",
      "2: analog_clock (0.41)\n",
      "3: digital_watch (0.03)\n",
      "4: magnetic_compass (0.02)\n",
      "5: scale (0.01)\n",
      "Found 'watch' with probability 0.51\n",
      "image_save_path_good good_watch_folder\\1a401992e229a38f555c688f862f2c44.png\n",
      "1: stopwatch (0.55)\n",
      "2: analog_clock (0.42)\n",
      "3: digital_watch (0.01)\n",
      "4: wall_clock (0.00)\n",
      "5: barometer (0.00)\n",
      "Found 'watch' with probability 0.55\n",
      "image_save_path_good good_watch_folder\\1b9cd557e9a196158d3cd7fe252e8ade.png\n",
      "1: stopwatch (0.98)\n",
      "2: barometer (0.01)\n",
      "3: scale (0.00)\n",
      "4: digital_watch (0.00)\n",
      "5: analog_clock (0.00)\n",
      "Found 'watch' with probability 0.98\n",
      "image_save_path_good good_watch_folder\\1aee5e2deec87cbc87ec3705171d9131.png\n"
     ]
    },
    {
     "name": "stderr",
     "output_type": "stream",
     "text": [
      "Processing images:  11%|█         | 121/1116 [00:27<03:20,  4.97it/s]"
     ]
    },
    {
     "name": "stdout",
     "output_type": "stream",
     "text": [
      "1: stopwatch (0.95)\n",
      "2: digital_watch (0.03)\n",
      "3: magnetic_compass (0.01)\n",
      "4: scale (0.00)\n",
      "5: analog_clock (0.00)\n",
      "Found 'watch' with probability 0.95\n",
      "image_save_path_good good_watch_folder\\1bee9435be57b069f50768c389c4fe7d.png\n",
      "1: stopwatch (0.93)\n",
      "2: analog_clock (0.06)\n",
      "3: magnetic_compass (0.00)\n",
      "4: barometer (0.00)\n",
      "5: digital_watch (0.00)\n",
      "Found 'watch' with probability 0.93\n",
      "image_save_path_good good_watch_folder\\1bfeeb08c68b6fb2b3de64c4b8ea76d3.png\n",
      "1: stopwatch (0.67)\n",
      "2: analog_clock (0.30)\n",
      "3: wall_clock (0.02)\n",
      "4: barometer (0.01)\n",
      "5: digital_watch (0.00)\n",
      "Found 'watch' with probability 0.67\n",
      "image_save_path_good good_watch_folder\\1c636fddc4e0be2f900206f734523059.png\n"
     ]
    },
    {
     "name": "stderr",
     "output_type": "stream",
     "text": [
      "\r",
      "Processing images:  11%|█         | 125/1116 [00:27<01:58,  8.33it/s]"
     ]
    },
    {
     "name": "stdout",
     "output_type": "stream",
     "text": [
      "1: stopwatch (1.00)\n",
      "2: digital_watch (0.00)\n",
      "3: scale (0.00)\n",
      "4: analog_clock (0.00)\n",
      "5: barometer (0.00)\n",
      "Found 'watch' with probability 1.00\n",
      "image_save_path_good good_watch_folder\\1c1c9e0edcb0732126b5ce36cef20284.png\n",
      "1: stopwatch (0.84)\n",
      "2: barometer (0.06)\n",
      "3: magnetic_compass (0.04)\n",
      "4: analog_clock (0.03)\n",
      "5: digital_watch (0.02)\n",
      "Found 'watch' with probability 0.84\n",
      "image_save_path_good good_watch_folder\\1c98d7f55ae623a247d19906d50df1db.png\n",
      "1: stopwatch (0.97)\n",
      "2: analog_clock (0.01)\n",
      "3: scale (0.01)\n",
      "4: digital_watch (0.01)\n",
      "5: barometer (0.01)\n",
      "Found 'watch' with probability 0.97\n",
      "image_save_path_good good_watch_folder\\1d34a229e3313af3e484c96ef408f0e0.png\n"
     ]
    },
    {
     "name": "stderr",
     "output_type": "stream",
     "text": [
      "Processing images:  12%|█▏        | 132/1116 [00:28<01:31, 10.75it/s]"
     ]
    },
    {
     "name": "stdout",
     "output_type": "stream",
     "text": [
      "1: stopwatch (0.71)\n",
      "2: analog_clock (0.16)\n",
      "3: digital_watch (0.11)\n",
      "4: reflex_camera (0.01)\n",
      "5: magnetic_compass (0.00)\n",
      "Found 'watch' with probability 0.71\n",
      "image_save_path_good good_watch_folder\\1cc1b551bd5e828afaa33aed351c5786.png\n",
      "1: stopwatch (0.54)\n",
      "2: analog_clock (0.37)\n",
      "3: digital_watch (0.06)\n",
      "4: barometer (0.02)\n",
      "5: magnetic_compass (0.00)\n",
      "Found 'watch' with probability 0.54\n",
      "image_save_path_good good_watch_folder\\1d42c7b6a6d80dbf5621b6b6dd5c4501.png\n",
      "1: stopwatch (0.83)\n",
      "2: digital_watch (0.07)\n",
      "3: lighter (0.02)\n",
      "4: binoculars (0.02)\n",
      "5: magnetic_compass (0.01)\n",
      "Found 'watch' with probability 0.83\n",
      "image_save_path_good good_watch_folder\\1dd939f61bdfddacd5291bd6502d7b63.png\n"
     ]
    },
    {
     "name": "stderr",
     "output_type": "stream",
     "text": [
      "\r",
      "Processing images:  12%|█▏        | 135/1116 [00:29<02:31,  6.48it/s]"
     ]
    },
    {
     "name": "stdout",
     "output_type": "stream",
     "text": [
      "1: nail (0.25)\n",
      "2: letter_opener (0.16)\n",
      "3: web_site (0.07)\n",
      "4: nematode (0.06)\n",
      "5: Windsor_tie (0.05)\n",
      "image_save_path_bad bad_watch_folder\\1def8ed480357c22a31fba564725df68.png\n",
      "1: stopwatch (0.36)\n",
      "2: analog_clock (0.33)\n",
      "3: barometer (0.15)\n",
      "4: digital_watch (0.11)\n",
      "5: magnetic_compass (0.02)\n",
      "Found 'watch' with probability 0.36\n",
      "image_save_path_good good_watch_folder\\1e310e030b947de1019bd74aef2a6c22.png\n",
      "1: analog_clock (0.81)\n",
      "2: stopwatch (0.18)\n",
      "3: wall_clock (0.01)\n",
      "4: digital_watch (0.00)\n",
      "5: barometer (0.00)\n",
      "Found 'watch' with probability 0.81\n",
      "image_save_path_good good_watch_folder\\1e9bc6b3085a8e513de7514915086a2b.png\n",
      "1: stopwatch (0.99)\n",
      "2: analog_clock (0.00)\n",
      "3: digital_watch (0.00)\n",
      "4: barometer (0.00)\n",
      "5: magnetic_compass (0.00)\n",
      "Found 'watch' with probability 0.99\n",
      "image_save_path_good good_watch_folder\\203e21734e6cd8b91aab2057a4afbe88.png\n",
      "1: stopwatch (0.40)\n",
      "2: barometer (0.38)\n",
      "3: magnetic_compass (0.17)\n",
      "4: analog_clock (0.04)\n",
      "5: wall_clock (0.01)\n",
      "Found 'watch' with probability 0.40\n",
      "image_save_path_good good_watch_folder\\1fe3a5b721c3c9b31bffe5cd5fbff540.png\n",
      "1: stopwatch (0.98)1: stopwatch (0.94)\n",
      "2: analog_clock (0.03)\n",
      "3: magnetic_compass (0.01)\n",
      "4: digital_watch (0.01)\n",
      "5: barometer (0.01)\n",
      "Found 'watch' with probability 0.94\n",
      "image_save_path_good good_watch_folder\\211c79ba563d9a6a4e38654e279bff6d.png\n",
      "\n",
      "2: analog_clock (0.01)\n",
      "3: digital_watch (0.01)\n",
      "4: magnetic_compass (0.00)\n",
      "5: reflex_camera (0.00)\n",
      "Found 'watch' with probability 0.98\n",
      "image_save_path_good good_watch_folder\\210d77b3d0822e8a5271504022913b23.png\n",
      "1: stopwatch (1.00)\n",
      "2: analog_clock (0.00)\n",
      "3: digital_watch (0.00)\n",
      "4: magnetic_compass (0.00)\n",
      "5: barometer (0.00)\n",
      "Found 'watch' with probability 1.00\n",
      "image_save_path_good good_watch_folder\\214e52fec68af41c613b874765f9cbb5.png\n"
     ]
    },
    {
     "name": "stderr",
     "output_type": "stream",
     "text": [
      "Processing images:  12%|█▏        | 139/1116 [00:30<03:26,  4.74it/s]"
     ]
    },
    {
     "name": "stdout",
     "output_type": "stream",
     "text": [
      "1: stopwatch (0.85)\n",
      "2: analog_clock (0.14)\n",
      "3: wall_clock (0.00)\n",
      "4: barometer (0.00)\n",
      "5: digital_watch (0.00)\n",
      "Found 'watch' with probability 0.85\n",
      "image_save_path_good good_watch_folder\\21df6d438733781b31e9a36b9d706015.png\n",
      "1: analog_clock (0.62)\n",
      "2: stopwatch (0.34)\n",
      "3: wall_clock (0.02)\n",
      "4: barometer (0.01)\n",
      "5: digital_watch (0.00)\n",
      "Found 'watch' with probability 0.62\n",
      "image_save_path_good good_watch_folder\\215fbf6b33f3a371085557b90ef0304b.png\n"
     ]
    },
    {
     "name": "stderr",
     "output_type": "stream",
     "text": [
      "\r",
      "Processing images:  13%|█▎        | 141/1116 [00:30<02:58,  5.47it/s]"
     ]
    },
    {
     "name": "stdout",
     "output_type": "stream",
     "text": [
      "1: stopwatch (0.99)\n",
      "2: analog_clock (0.00)\n",
      "3: digital_watch (0.00)\n",
      "4: magnetic_compass (0.00)\n",
      "5: combination_lock (0.00)\n",
      "Found 'watch' with probability 0.99\n",
      "image_save_path_good good_watch_folder\\231787243b46e59209eb8efa321696f3.png\n",
      "1: nematode (0.37)\n",
      "2: dragonfly (0.17)\n",
      "3: nail (0.05)\n",
      "4: letter_opener (0.05)\n",
      "5: isopod (0.03)\n",
      "image_save_path_bad bad_watch_folder\\234467054c67e4669c565e502dd49643.png\n"
     ]
    },
    {
     "name": "stderr",
     "output_type": "stream",
     "text": [
      "Processing images:  13%|█▎        | 144/1116 [00:32<04:12,  3.85it/s]"
     ]
    },
    {
     "name": "stdout",
     "output_type": "stream",
     "text": [
      "1: stopwatch (0.92)\n",
      "2: barometer (0.03)\n",
      "3: analog_clock (0.01)\n",
      "4: digital_watch (0.01)\n",
      "5: scale (0.01)\n",
      "Found 'watch' with probability 0.92\n",
      "image_save_path_good good_watch_folder\\232c7e4383f39adbf93faca18b3857c0.png\n",
      "1: stopwatch (0.98)\n",
      "2: barometer (0.01)\n",
      "3: magnetic_compass (0.01)\n",
      "4: digital_watch (0.00)\n",
      "5: analog_clock (0.00)\n",
      "Found 'watch' with probability 0.98\n",
      "image_save_path_good good_watch_folder\\240a7223cb5aad6f681328ee66712eb2.png\n",
      "1: stopwatch (0.58)\n",
      "2: analog_clock (0.40)\n",
      "3: barometer (0.00)\n",
      "4: wall_clock (0.00)\n",
      "5: magnetic_compass (0.00)\n",
      "Found 'watch' with probability 0.58\n",
      "image_save_path_good good_watch_folder\\2272ff8d67af7b3439c7278cc69b53d5.png\n",
      "1: analog_clock (0.64)\n",
      "2: stopwatch (0.21)\n",
      "3: wall_clock (0.06)\n",
      "4: magnetic_compass (0.03)\n",
      "5: barometer (0.02)\n",
      "Found 'watch' with probability 0.64\n",
      "image_save_path_good good_watch_folder\\22fb2f42ca3b377a5b37921d856557a2.png\n",
      "1: stopwatch (0.99)\n",
      "2: barometer (0.00)\n",
      "3: analog_clock (0.00)\n",
      "4: magnetic_compass (0.00)\n",
      "5: digital_watch (0.00)\n",
      "Found 'watch' with probability 0.99\n",
      "image_save_path_good good_watch_folder\\23557d0e28000c935e8c44f376367117.png\n",
      "1: analog_clock (0.92)\n",
      "2: stopwatch (0.04)\n",
      "3: magnetic_compass (0.03)\n",
      "4: wall_clock (0.01)\n",
      "5: digital_watch (0.00)\n",
      "Found 'watch' with probability 0.92\n",
      "image_save_path_good good_watch_folder\\23cd39cacd14095d70c2513deeba18ed.png\n",
      "1: web_site (0.72)\n",
      "2: nematode (0.02)\n",
      "3: abaya (0.01)\n",
      "4: loupe (0.01)\n",
      "5: stopwatch (0.01)\n",
      "Found 'watch' with probability 0.01\n",
      "image_save_path_good good_watch_folder\\230de32c8f7b937018b2edaf707a50c7.png\n",
      "1: stopwatch (0.90)\n",
      "2: analog_clock (0.05)\n",
      "3: barometer (0.03)\n",
      "4: digital_watch (0.01)\n",
      "5: magnetic_compass (0.00)\n",
      "Found 'watch' with probability 0.90\n",
      "image_save_path_good good_watch_folder\\234e78c9d39e41c0e676136fcd1cf32c.png\n",
      "1: stopwatch (0.93)\n",
      "2: analog_clock (0.06)\n",
      "3: digital_watch (0.00)\n",
      "4: barometer (0.00)\n",
      "5: magnetic_compass (0.00)\n",
      "Found 'watch' with probability 0.93\n",
      "image_save_path_good good_watch_folder\\24702b5a64f60abca26069e0e79130d2.png\n",
      "1: stopwatch (0.99)\n",
      "2: digital_watch (0.00)\n",
      "3: analog_clock (0.00)\n",
      "4: magnetic_compass (0.00)\n",
      "5: barometer (0.00)\n",
      "Found 'watch' with probability 0.99\n",
      "image_save_path_good good_watch_folder\\229cfe378b4e733d5fa9850d2bcf5017.png\n"
     ]
    },
    {
     "name": "stderr",
     "output_type": "stream",
     "text": [
      "Processing images:  13%|█▎        | 148/1116 [00:32<02:55,  5.53it/s]"
     ]
    },
    {
     "name": "stdout",
     "output_type": "stream",
     "text": [
      "1: web_site (0.25)\n",
      "2: envelope (0.07)\n",
      "3: cleaver (0.06)\n",
      "4: window_shade (0.04)\n",
      "5: knee_pad (0.04)\n",
      "image_save_path_bad bad_watch_folder\\241890221ae349ae0f128a8cab97c5a2.png\n"
     ]
    },
    {
     "name": "stderr",
     "output_type": "stream",
     "text": [
      "Processing images:  14%|█▍        | 156/1116 [00:32<01:20, 11.87it/s]"
     ]
    },
    {
     "name": "stdout",
     "output_type": "stream",
     "text": [
      "1: stopwatch (0.94)1: stopwatch (0.99)\n",
      "2: barometer (0.00)\n",
      "3: analog_clock (0.00)\n",
      "4: magnetic_compass (0.00)\n",
      "5: digital_watch (0.00)\n",
      "Found 'watch' with probability 0.99\n",
      "image_save_path_good good_watch_folder\\247bc4dbd601d28397c2574409498f4c.png\n",
      "\n",
      "2: barometer (0.05)\n",
      "3: analog_clock (0.01)\n",
      "4: digital_watch (0.00)\n",
      "5: sundial (0.00)\n",
      "Found 'watch' with probability 0.94\n",
      "image_save_path_good good_watch_folder\\24805b86f3fa1976c9005c9cabc19a29.png\n"
     ]
    },
    {
     "name": "stderr",
     "output_type": "stream",
     "text": [
      "\r",
      "Processing images:  14%|█▍        | 158/1116 [00:33<01:18, 12.21it/s]"
     ]
    },
    {
     "name": "stdout",
     "output_type": "stream",
     "text": [
      "1: stopwatch (0.76)\n",
      "2: analog_clock (0.20)\n",
      "3: digital_watch (0.02)\n",
      "4: magnetic_compass (0.01)\n",
      "5: barometer (0.01)\n",
      "Found 'watch' with probability 0.76\n",
      "image_save_path_good good_watch_folder\\24de136f4703e96456a4e620078586ae.png\n",
      "1: bubble (0.13)\n",
      "2: chain (0.03)\n",
      "3: padlock (0.03)\n",
      "4: nail (0.03)\n",
      "5: matchstick (0.02)\n",
      "image_save_path_bad bad_watch_folder\\254489541ca7dd12e2b4c82b679795a7.png\n",
      "1: stopwatch (0.92)\n",
      "2: analog_clock (0.04)\n",
      "3: scale (0.01)\n",
      "4: radio (0.01)\n",
      "5: digital_watch (0.01)\n",
      "Found 'watch' with probability 0.92\n",
      "image_save_path_good good_watch_folder\\2538a012b3090e6a641a4769368dfc07.png\n",
      "1: analog_clock (0.73)\n",
      "2: stopwatch (0.14)\n",
      "3: wall_clock (0.10)\n",
      "4: barometer (0.03)\n",
      "5: sundial (0.00)\n",
      "Found 'watch' with probability 0.73\n",
      "image_save_path_good good_watch_folder\\2570866bab7ee212a1007f285ace1612.png\n",
      "1: stopwatch (0.76)\n",
      "2: barometer (0.12)\n",
      "3: analog_clock (0.10)\n",
      "4: digital_watch (0.01)\n",
      "5: magnetic_compass (0.01)\n",
      "Found 'watch' with probability 0.76\n",
      "image_save_path_good good_watch_folder\\2577f963eee83248833dd12898ff58cb.png\n",
      "1: stopwatch (0.99)\n",
      "2: analog_clock (0.00)\n",
      "3: digital_watch (0.00)\n",
      "4: magnetic_compass (0.00)\n",
      "5: barometer (0.00)\n",
      "Found 'watch' with probability 0.99\n",
      "image_save_path_good good_watch_folder\\25a7ab4eafdb8d2e3fc7f61ef3041369.png\n",
      "1: web_site (0.33)\n",
      "2: combination_lock (0.14)\n",
      "3: padlock (0.08)\n",
      "4: hook (0.05)\n",
      "5: bannister (0.03)\n",
      "image_save_path_bad bad_watch_folder\\2616c31f5bf35f3eb201f3ce51a2fa47.png\n"
     ]
    },
    {
     "name": "stderr",
     "output_type": "stream",
     "text": [
      "Processing images:  15%|█▍        | 165/1116 [00:34<02:01,  7.80it/s]"
     ]
    },
    {
     "name": "stdout",
     "output_type": "stream",
     "text": [
      "1: web_site (0.79)\n",
      "2: nematode (0.01)\n",
      "3: can_opener (0.01)\n",
      "4: abaya (0.01)\n",
      "5: loupe (0.01)\n",
      "image_save_path_bad bad_watch_folder\\260913288c8ebc5a53f94780df92dbfd.png\n",
      "1: stopwatch (0.99)\n",
      "2: digital_watch (0.00)\n",
      "3: reflex_camera (0.00)\n",
      "4: analog_clock (0.00)\n",
      "5: radio (0.00)\n",
      "Found 'watch' with probability 0.99\n",
      "image_save_path_good good_watch_folder\\270ecf526d68abcaf9936681e8410eda.png\n",
      "1: iron (0.84)\n",
      "2: mouse (0.03)\n",
      "3: soap_dispenser (0.01)\n",
      "4: bannister (0.01)\n",
      "5: corkscrew (0.01)\n",
      "image_save_path_bad bad_watch_folder\\2637862041ecf3623f30ba49fe3bc502.png\n"
     ]
    },
    {
     "name": "stderr",
     "output_type": "stream",
     "text": [
      "Processing images:  15%|█▌        | 169/1116 [00:35<02:33,  6.18it/s]"
     ]
    },
    {
     "name": "stdout",
     "output_type": "stream",
     "text": [
      "1: stopwatch (0.64)\n",
      "2: analog_clock (0.10)\n",
      "3: barometer (0.09)\n",
      "4: digital_watch (0.04)\n",
      "5: magnetic_compass (0.04)\n",
      "Found 'watch' with probability 0.64\n",
      "image_save_path_good good_watch_folder\\265cb304c0c3327b284b5f452b03e526.png\n",
      "1: stopwatch (0.51)\n",
      "2: analog_clock (0.44)\n",
      "3: digital_watch (0.01)\n",
      "4: magnetic_compass (0.01)\n",
      "5: wall_clock (0.01)\n",
      "Found 'watch' with probability 0.51\n",
      "image_save_path_good good_watch_folder\\263ae38872eea8e4ffd81de3d14e32f2.png\n",
      "1: stopwatch (0.86)\n",
      "2: analog_clock (0.10)\n",
      "3: digital_watch (0.02)\n",
      "4: magnetic_compass (0.01)\n",
      "5: barometer (0.00)\n",
      "Found 'watch' with probability 0.86\n",
      "image_save_path_good good_watch_folder\\27d0793460d6bc51062e53d4951f2908.png\n",
      "1: analog_clock (0.58)\n",
      "2: stopwatch (0.25)\n",
      "3: barometer (0.13)\n",
      "4: digital_watch (0.01)\n",
      "5: wall_clock (0.01)\n",
      "Found 'watch' with probability 0.58\n",
      "image_save_path_good good_watch_folder\\2650ef853de386e406c9aee8ffcab795.png\n"
     ]
    },
    {
     "name": "stderr",
     "output_type": "stream",
     "text": [
      "\r",
      "Processing images:  15%|█▌        | 171/1116 [00:36<03:46,  4.17it/s]"
     ]
    },
    {
     "name": "stdout",
     "output_type": "stream",
     "text": [
      "1: stopwatch (0.95)\n",
      "2: analog_clock (0.04)\n",
      "3: digital_watch (0.00)\n",
      "4: barometer (0.00)\n",
      "5: magnetic_compass (0.00)\n",
      "Found 'watch' with probability 0.95\n",
      "image_save_path_good good_watch_folder\\27bf925874581510eba4354fe19c72d3.png\n",
      "1: stopwatch (0.99)\n",
      "2: magnetic_compass (0.01)\n",
      "3: analog_clock (0.00)\n",
      "4: digital_watch (0.00)\n",
      "5: barometer (0.00)\n",
      "Found 'watch' with probability 0.99\n",
      "image_save_path_good good_watch_folder\\2753dce61a633be4722f148c013b790c.png\n",
      "1: bubble (0.12)\n",
      "2: chain (0.05)\n",
      "3: nail (0.04)\n",
      "4: stopwatch (0.03)\n",
      "5: vine_snake (0.03)\n",
      "Found 'watch' with probability 0.03\n",
      "image_save_path_good good_watch_folder\\27e8bcfdb6ed9a7ecb61b92f90a0c1e5.png\n"
     ]
    },
    {
     "name": "stderr",
     "output_type": "stream",
     "text": [
      "\r",
      "Processing images:  16%|█▌        | 174/1116 [00:36<02:49,  5.55it/s]"
     ]
    },
    {
     "name": "stdout",
     "output_type": "stream",
     "text": [
      "1: stopwatch (0.95)\n",
      "2: barometer (0.04)\n",
      "3: analog_clock (0.01)\n",
      "4: magnetic_compass (0.00)\n",
      "5: scale (0.00)\n",
      "Found 'watch' with probability 0.95\n",
      "image_save_path_good good_watch_folder\\28652ff2945a117208ca6fddecda4079.png\n"
     ]
    },
    {
     "name": "stderr",
     "output_type": "stream",
     "text": [
      "\r",
      "Processing images:  16%|█▌        | 176/1116 [00:36<02:39,  5.89it/s]"
     ]
    },
    {
     "name": "stdout",
     "output_type": "stream",
     "text": [
      "1: web_site (0.28)\n",
      "2: Windsor_tie (0.09)\n",
      "3: bannister (0.06)\n",
      "4: nematode (0.06)\n",
      "5: abaya (0.05)\n",
      "image_save_path_bad bad_watch_folder\\28f7e9704e91d299eb517d337103fa25.png\n",
      "1: stopwatch (0.94)\n",
      "2: analog_clock (0.03)\n",
      "3: barometer (0.03)\n",
      "4: wall_clock (0.00)\n",
      "5: scale (0.00)\n",
      "Found 'watch' with probability 0.94\n",
      "image_save_path_good good_watch_folder\\252f389909d9c6b37e623af4b079de6e.png\n",
      "1: stopwatch (0.61)\n",
      "2: analog_clock (0.30)\n",
      "3: digital_watch (0.04)\n",
      "4: barometer (0.01)\n",
      "5: wall_clock (0.01)\n",
      "Found 'watch' with probability 0.61\n",
      "image_save_path_good good_watch_folder\\28dee36ca3fa8ae3baa0a100c9ca3225.png\n",
      "1: pedestal (0.11)\n",
      "2: candle (0.07)\n",
      "3: matchstick (0.07)\n",
      "4: lampshade (0.05)\n",
      "5: shoji (0.05)\n",
      "image_save_path_bad bad_watch_folder\\28ed11542581d755d515a1d988ba2d56.png\n"
     ]
    },
    {
     "name": "stderr",
     "output_type": "stream",
     "text": [
      "\r",
      "Processing images:  16%|█▌        | 177/1116 [00:37<02:43,  5.76it/s]"
     ]
    },
    {
     "name": "stdout",
     "output_type": "stream",
     "text": [
      "1: analog_clock (0.40)\n",
      "2: stopwatch (0.35)\n",
      "3: lighter (0.05)\n",
      "4: digital_watch (0.04)\n",
      "5: wall_clock (0.03)\n",
      "Found 'watch' with probability 0.40\n",
      "image_save_path_good good_watch_folder\\28d8218177084b4e9b94f2d41fbf09ee.png\n",
      "1: stopwatch (0.52)\n",
      "2: analog_clock (0.40)\n",
      "3: wall_clock (0.05)\n",
      "4: magnetic_compass (0.01)\n",
      "5: barometer (0.01)\n",
      "Found 'watch' with probability 0.52\n",
      "image_save_path_good good_watch_folder\\28f840447cd14936e5809ff157681a11.png\n"
     ]
    },
    {
     "name": "stderr",
     "output_type": "stream",
     "text": [
      "\r",
      "Processing images:  16%|█▌        | 178/1116 [00:37<02:49,  5.53it/s]"
     ]
    },
    {
     "name": "stdout",
     "output_type": "stream",
     "text": [
      "1: stopwatch (0.44)\n",
      "2: magnetic_compass (0.38)\n",
      "3: barometer (0.10)\n",
      "4: analog_clock (0.06)\n",
      "5: digital_watch (0.02)\n",
      "Found 'watch' with probability 0.44\n",
      "image_save_path_good good_watch_folder\\297746ccd9014bdd9cf42bbec01b4c46.png\n"
     ]
    },
    {
     "name": "stderr",
     "output_type": "stream",
     "text": [
      "Processing images:  16%|█▌        | 180/1116 [00:37<03:03,  5.10it/s]"
     ]
    },
    {
     "name": "stdout",
     "output_type": "stream",
     "text": [
      "1: analog_clock (0.68)\n",
      "2: digital_watch (0.19)\n",
      "3: stopwatch (0.04)\n",
      "4: wall_clock (0.02)\n",
      "5: digital_clock (0.02)\n",
      "Found 'watch' with probability 0.68\n",
      "image_save_path_good good_watch_folder\\297a2d155c668b5d2ba7e213673610bd.png\n",
      "1: stopwatch (0.99)\n",
      "2: digital_watch (0.00)\n",
      "3: magnetic_compass (0.00)\n",
      "4: barometer (0.00)\n",
      "5: analog_clock (0.00)\n",
      "Found 'watch' with probability 0.99\n",
      "image_save_path_good good_watch_folder\\29e166666b845221268f117f5452e98f.png\n",
      "1: stopwatch (0.68)\n",
      "2: barometer (0.29)\n",
      "3: analog_clock (0.03)\n",
      "4: magnetic_compass (0.00)\n",
      "5: digital_watch (0.00)\n",
      "Found 'watch' with probability 0.68\n",
      "image_save_path_good good_watch_folder\\2a29f662a053a05f95cafb9b92cb6ba4.png\n",
      "1: stopwatch (0.78)\n",
      "2: magnetic_compass (0.07)\n",
      "3: analog_clock (0.07)\n",
      "4: digital_watch (0.04)\n",
      "5: wall_clock (0.02)\n",
      "Found 'watch' with probability 0.78\n",
      "image_save_path_good good_watch_folder\\2b41f76384c48bd9156022f09e0aa6f6.png\n"
     ]
    },
    {
     "name": "stderr",
     "output_type": "stream",
     "text": [
      "\r",
      "Processing images:  16%|█▋        | 183/1116 [00:37<01:53,  8.20it/s]"
     ]
    },
    {
     "name": "stdout",
     "output_type": "stream",
     "text": [
      "1: stopwatch (0.88)\n",
      "2: magnetic_compass (0.06)\n",
      "3: scale (0.04)\n",
      "4: digital_watch (0.01)\n",
      "5: barometer (0.01)\n",
      "Found 'watch' with probability 0.88\n",
      "image_save_path_good good_watch_folder\\2acec4d26d10dd0343405b5742cd67f8.png\n"
     ]
    },
    {
     "name": "stderr",
     "output_type": "stream",
     "text": [
      "Processing images:  17%|█▋        | 187/1116 [00:38<02:16,  6.83it/s]"
     ]
    },
    {
     "name": "stdout",
     "output_type": "stream",
     "text": [
      "1: stopwatch (0.92)\n",
      "2: analog_clock (0.07)\n",
      "3: digital_watch (0.00)\n",
      "4: wall_clock (0.00)\n",
      "5: barometer (0.00)\n",
      "Found 'watch' with probability 0.92\n",
      "image_save_path_good good_watch_folder\\2c5e3e142e7f74e7deb59434ded7951d.png\n",
      "1: nematode (0.26)\n",
      "2: abaya (0.12)\n",
      "3: hook (0.04)\n",
      "4: cloak (0.03)\n",
      "5: nail (0.02)\n",
      "image_save_path_bad bad_watch_folder\\2c28209348777484465cbe88a6661868.png\n",
      "1: stopwatch (0.92)\n",
      "2: analog_clock (0.07)\n",
      "3: digital_watch (0.00)\n",
      "4: barometer (0.00)\n",
      "5: wall_clock (0.00)\n",
      "Found 'watch' with probability 0.92\n",
      "image_save_path_good good_watch_folder\\2c4204411b334dba120ef90dd740df64.png\n",
      "1: barometer (0.90)\n",
      "2: analog_clock (0.06)\n",
      "3: stopwatch (0.03)\n",
      "4: magnetic_compass (0.00)\n",
      "5: scale (0.00)\n",
      "Found 'watch' with probability 0.06\n",
      "image_save_path_good good_watch_folder\\2bcd6fe45c973b3801abeb67c6d6b00c.png\n"
     ]
    },
    {
     "name": "stderr",
     "output_type": "stream",
     "text": [
      "Processing images:  17%|█▋        | 194/1116 [00:39<01:38,  9.36it/s]"
     ]
    },
    {
     "name": "stdout",
     "output_type": "stream",
     "text": [
      "1: analog_clock (0.59)\n",
      "2: stopwatch (0.26)\n",
      "3: barometer (0.08)\n",
      "4: wall_clock (0.02)\n",
      "5: magnetic_compass (0.02)\n",
      "Found 'watch' with probability 0.59\n",
      "image_save_path_good good_watch_folder\\2b53baeaaba29db187d676eb99c07490.png\n",
      "1: stopwatch (0.97)\n",
      "2: digital_watch (0.02)\n",
      "3: analog_clock (0.01)\n",
      "4: magnetic_compass (0.00)\n",
      "5: barometer (0.00)\n",
      "Found 'watch' with probability 0.97\n",
      "image_save_path_good good_watch_folder\\2da6aab274400b9bc85261834fd60b96.png\n",
      "1: stopwatch (0.39)\n",
      "2: barometer (0.25)\n",
      "3: odometer (0.14)\n",
      "4: digital_watch (0.12)\n",
      "5: analog_clock (0.04)\n",
      "Found 'watch' with probability 0.39\n",
      "image_save_path_good good_watch_folder\\2c9ec39b880a2253de2aa84ed6c3d533.png\n",
      "1: stopwatch (0.86)\n",
      "2: barometer (0.10)\n",
      "3: analog_clock (0.02)\n",
      "4: scale (0.01)\n",
      "5: magnetic_compass (0.01)\n",
      "Found 'watch' with probability 0.86\n",
      "image_save_path_good good_watch_folder\\2db7e0dd36895d072a7fc3a92a2df187.png\n"
     ]
    },
    {
     "name": "stderr",
     "output_type": "stream",
     "text": [
      "\r",
      "Processing images:  18%|█▊        | 196/1116 [00:40<03:28,  4.41it/s]"
     ]
    },
    {
     "name": "stdout",
     "output_type": "stream",
     "text": [
      "1: barometer (0.85)\n",
      "2: stopwatch (0.13)\n",
      "3: slide_rule (0.01)\n",
      "4: analog_clock (0.01)\n",
      "5: scale (0.00)\n",
      "Found 'watch' with probability 0.13\n",
      "image_save_path_good good_watch_folder\\2db3b8d363f8856187164c2c49a107e8.png\n",
      "1: web_site (0.09)\n",
      "2: fountain (0.08)\n",
      "3: nail (0.05)\n",
      "4: dishwasher (0.04)\n",
      "5: hook (0.04)\n",
      "image_save_path_bad bad_watch_folder\\2ddd6df7db58314311711dc275dbbd0c.png\n"
     ]
    },
    {
     "name": "stderr",
     "output_type": "stream",
     "text": [
      "\r",
      "Processing images:  18%|█▊        | 197/1116 [00:40<03:21,  4.55it/s]"
     ]
    },
    {
     "name": "stdout",
     "output_type": "stream",
     "text": [
      "1: web_site (0.25)\n",
      "2: hourglass (0.06)\n",
      "3: cleaver (0.04)\n",
      "4: dishwasher (0.03)\n",
      "5: geyser (0.03)\n",
      "image_save_path_bad bad_watch_folder\\2e10edfc3d8b5a7b247dc6c7f0d3d73c.png\n",
      "1: stopwatch (0.79)\n",
      "2: barometer (0.08)\n",
      "3: scale (0.05)\n",
      "4: magnetic_compass (0.03)\n",
      "5: analog_clock (0.01)\n",
      "Found 'watch' with probability 0.79\n",
      "image_save_path_good good_watch_folder\\2df5084ed75431393098f7206382e60e.png\n"
     ]
    },
    {
     "name": "stderr",
     "output_type": "stream",
     "text": [
      "Processing images:  18%|█▊        | 199/1116 [00:40<03:29,  4.37it/s]"
     ]
    },
    {
     "name": "stdout",
     "output_type": "stream",
     "text": [
      "1: stopwatch (0.64)\n",
      "2: barometer (0.21)\n",
      "3: analog_clock (0.05)\n",
      "4: digital_watch (0.05)\n",
      "5: scale (0.03)\n",
      "Found 'watch' with probability 0.64\n",
      "image_save_path_good good_watch_folder\\2e22d35ba40951106ebcdfa9a82e8695.png\n",
      "1: stopwatch (0.99)\n",
      "2: analog_clock (0.01)\n",
      "3: barometer (0.00)\n",
      "4: magnetic_compass (0.00)\n",
      "5: digital_watch (0.00)\n",
      "Found 'watch' with probability 0.99\n",
      "image_save_path_good good_watch_folder\\2e78750a6b12eb189916b4f6e2af56f8.png\n",
      "1: bubble (0.10)\n",
      "2: nematode (0.09)\n",
      "3: web_site (0.08)\n",
      "4: hook (0.06)\n",
      "5: padlock (0.03)\n",
      "image_save_path_bad bad_watch_folder\\2f2323fc5c4e3c2a433cad5c269e9438.png\n",
      "1: stopwatch (1.00)\n",
      "2: analog_clock (0.00)\n",
      "3: digital_watch (0.00)\n",
      "4: barometer (0.00)\n",
      "5: binoculars (0.00)\n",
      "Found 'watch' with probability 1.00\n",
      "image_save_path_good good_watch_folder\\2eec3b472afc5b4ce338d80b481ec57a.png\n"
     ]
    },
    {
     "name": "stderr",
     "output_type": "stream",
     "text": [
      "Processing images:  18%|█▊        | 205/1116 [00:41<01:41,  8.98it/s]"
     ]
    },
    {
     "name": "stdout",
     "output_type": "stream",
     "text": [
      "1: stopwatch (0.70)\n",
      "2: analog_clock (0.14)\n",
      "3: barometer (0.08)\n",
      "4: magnetic_compass (0.06)\n",
      "5: digital_watch (0.01)\n",
      "Found 'watch' with probability 0.70\n",
      "image_save_path_good good_watch_folder\\2f39df16a4faf12ec57fc17d520256b1.png\n",
      "1: stopwatch (0.90)\n",
      "2: analog_clock (0.05)\n",
      "3: barometer (0.02)\n",
      "4: magnetic_compass (0.01)\n",
      "5: digital_watch (0.01)\n",
      "Found 'watch' with probability 0.90\n",
      "image_save_path_good good_watch_folder\\2fa1ce3121f83efd42f423b1ad548e40.png\n",
      "1: scale (0.34)\n",
      "2: stopwatch (0.29)\n",
      "3: analog_clock (0.17)\n",
      "4: digital_watch (0.10)\n",
      "5: perfume (0.03)\n",
      "Found 'watch' with probability 0.29\n",
      "image_save_path_good good_watch_folder\\2f7c8ffb4efa605d610e1ce45c7f105b.png\n",
      "1: stopwatch (0.98)\n",
      "2: analog_clock (0.01)\n",
      "3: digital_watch (0.00)\n",
      "4: barometer (0.00)\n",
      "5: magnetic_compass (0.00)\n",
      "Found 'watch' with probability 0.98\n",
      "image_save_path_good good_watch_folder\\2fa60e0361f206f3c7eb4ffb283513f6.png\n",
      "1: stopwatch (0.85)\n",
      "2: analog_clock (0.10)\n",
      "3: digital_watch (0.04)\n",
      "4: barometer (0.00)\n",
      "5: magnetic_compass (0.00)\n",
      "Found 'watch' with probability 0.85\n",
      "image_save_path_good good_watch_folder\\30291e1f0f7b76aa909511d909176a79.png\n",
      "1: stopwatch (0.94)\n",
      "2: analog_clock (0.05)\n",
      "3: digital_watch (0.01)\n",
      "4: magnetic_compass (0.00)\n",
      "5: barometer (0.00)\n",
      "Found 'watch' with probability 0.94\n",
      "image_save_path_good good_watch_folder\\3042444c3f86e0262b5a65226eb1c99a.png\n",
      "1: stopwatch (0.98)\n",
      "2: magnetic_compass (0.01)\n",
      "3: barometer (0.01)\n",
      "4: analog_clock (0.00)\n",
      "5: digital_watch (0.00)\n",
      "Found 'watch' with probability 0.98\n",
      "image_save_path_good good_watch_folder\\3070dfcec100af6ac614aff62cdb7ac4.png\n",
      "1: stopwatch (1.00)\n",
      "2: digital_watch (0.00)\n",
      "3: analog_clock (0.00)\n",
      "4: scale (0.00)\n",
      "5: magnetic_compass (0.00)\n",
      "Found 'watch' with probability 1.00\n",
      "image_save_path_good good_watch_folder\\301b37877e3752b97f515c32e1841325.png\n"
     ]
    },
    {
     "name": "stderr",
     "output_type": "stream",
     "text": [
      "Processing images:  19%|█▉        | 212/1116 [00:42<02:02,  7.36it/s]"
     ]
    },
    {
     "name": "stdout",
     "output_type": "stream",
     "text": [
      "1: stopwatch (0.87)\n",
      "2: analog_clock (0.05)\n",
      "3: digital_watch (0.05)\n",
      "4: barometer (0.01)\n",
      "5: radio (0.00)\n",
      "Found 'watch' with probability 0.87\n",
      "image_save_path_good good_watch_folder\\31cc165e7385fab39a0f648496caf090.png\n",
      "1: stopwatch (0.69)\n",
      "2: analog_clock (0.15)\n",
      "3: digital_watch (0.04)\n",
      "4: buckle (0.01)\n",
      "5: drum (0.01)\n",
      "Found 'watch' with probability 0.69\n",
      "image_save_path_good good_watch_folder\\309fa8920371025eba829b3fc6e4a07e.png\n",
      "1: analog_clock (0.40)\n",
      "2: stopwatch (0.36)\n",
      "3: digital_watch (0.06)\n",
      "4: magnetic_compass (0.06)\n",
      "5: barometer (0.03)\n",
      "Found 'watch' with probability 0.40\n",
      "image_save_path_good good_watch_folder\\30f7732bbb04f1a8b6726bde81864cc7.png\n",
      "1: analog_clock (0.36)\n",
      "2: lighter (0.16)\n",
      "3: wall_clock (0.06)\n",
      "4: cellular_telephone (0.04)\n",
      "5: barometer (0.04)\n",
      "Found 'watch' with probability 0.36\n",
      "image_save_path_good good_watch_folder\\326fff9516d8278603760386321c8b3e.png\n",
      "1: stopwatch (0.99)\n",
      "2: analog_clock (0.00)\n",
      "3: digital_watch (0.00)\n",
      "4: magnetic_compass (0.00)\n",
      "5: barometer (0.00)\n",
      "Found 'watch' with probability 0.99\n",
      "image_save_path_good good_watch_folder\\322c5dd4bfedf9a57337098ecdca84e6.png\n",
      "1: stopwatch (0.58)\n",
      "2: analog_clock (0.34)\n",
      "3: digital_watch (0.06)\n",
      "4: barometer (0.02)\n",
      "5: wall_clock (0.00)\n",
      "Found 'watch' with probability 0.58\n",
      "image_save_path_good good_watch_folder\\315a962020389475f71839a6d430cf1b.png\n",
      "1: stopwatch (0.81)\n",
      "2: analog_clock (0.17)\n",
      "3: digital_watch (0.01)\n",
      "4: magnetic_compass (0.00)\n",
      "5: wall_clock (0.00)\n",
      "Found 'watch' with probability 0.81\n",
      "image_save_path_good good_watch_folder\\31e0046576d7bcb759453802a9ecbb84.png\n"
     ]
    },
    {
     "name": "stderr",
     "output_type": "stream",
     "text": [
      "Processing images:  20%|█▉        | 218/1116 [00:43<01:55,  7.76it/s]"
     ]
    },
    {
     "name": "stdout",
     "output_type": "stream",
     "text": [
      "1: candle (0.09)\n",
      "2: hook (0.05)\n",
      "3: web_site (0.04)\n",
      "4: nail (0.04)\n",
      "5: matchstick (0.03)\n",
      "image_save_path_bad bad_watch_folder\\33b0157920800137a55d9cbf79f76a05.png\n",
      "1: stopwatch (0.95)\n",
      "2: magnetic_compass (0.03)\n",
      "3: digital_watch (0.01)\n",
      "4: analog_clock (0.01)\n",
      "5: reflex_camera (0.00)\n",
      "Found 'watch' with probability 0.95\n",
      "image_save_path_good good_watch_folder\\32865d88963ecdeb2756ef9c99ade150.png\n",
      "1: water_jug (0.22)\n",
      "2: pitcher (0.21)\n",
      "3: magnetic_compass (0.11)\n",
      "4: vase (0.05)\n",
      "5: web_site (0.04)\n",
      "image_save_path_bad bad_watch_folder\\33a85a84ec0a39e39bf0de760f23c57e.png\n",
      "1: analog_clock (0.35)\n",
      "2: stopwatch (0.31)\n",
      "3: barometer (0.31)\n",
      "4: wall_clock (0.01)\n",
      "5: digital_watch (0.01)\n",
      "Found 'watch' with probability 0.35\n",
      "image_save_path_good good_watch_folder\\33aef59d10e681a4c6be72254cfe522e.png\n"
     ]
    },
    {
     "name": "stderr",
     "output_type": "stream",
     "text": [
      "Processing images:  20%|██        | 224/1116 [00:44<02:18,  6.44it/s]"
     ]
    },
    {
     "name": "stdout",
     "output_type": "stream",
     "text": [
      "1: stopwatch (0.89)\n",
      "2: digital_watch (0.04)\n",
      "3: reflex_camera (0.03)\n",
      "4: magnetic_compass (0.01)\n",
      "5: radio (0.01)\n",
      "Found 'watch' with probability 0.89\n",
      "image_save_path_good good_watch_folder\\33f6c2a088d8b735a06956e2f425302d.png\n",
      "1: analog_clock (0.92)\n",
      "2: stopwatch (0.05)\n",
      "3: digital_watch (0.02)\n",
      "4: wall_clock (0.01)\n",
      "5: magnetic_compass (0.00)\n",
      "Found 'watch' with probability 0.92\n",
      "image_save_path_good good_watch_folder\\341c001592364cc2dbc294cb40a42445.png\n"
     ]
    },
    {
     "name": "stderr",
     "output_type": "stream",
     "text": [
      "\r",
      "Processing images:  20%|██        | 225/1116 [00:45<02:59,  4.95it/s]"
     ]
    },
    {
     "name": "stdout",
     "output_type": "stream",
     "text": [
      "1: stopwatch (0.84)\n",
      "2: magnetic_compass (0.10)\n",
      "3: barometer (0.03)\n",
      "4: analog_clock (0.01)\n",
      "5: digital_watch (0.01)\n",
      "Found 'watch' with probability 0.84\n",
      "image_save_path_good good_watch_folder\\343103ffaea33a3c5a73ac32ce646a3e.png\n",
      "1: stopwatch (0.98)\n",
      "2: digital_watch (0.01)\n",
      "3: analog_clock (0.00)\n",
      "4: magnetic_compass (0.00)\n",
      "5: binoculars (0.00)\n",
      "Found 'watch' with probability 0.98\n",
      "image_save_path_good good_watch_folder\\345e7c8028fdb33ee9e3fb963afbe25b.png\n"
     ]
    },
    {
     "name": "stderr",
     "output_type": "stream",
     "text": [
      "\r",
      "Processing images:  20%|██        | 226/1116 [00:45<03:39,  4.05it/s]"
     ]
    },
    {
     "name": "stdout",
     "output_type": "stream",
     "text": [
      "1: stopwatch (0.99)\n",
      "2: magnetic_compass (0.01)\n",
      "3: digital_watch (0.00)\n",
      "4: barometer (0.00)\n",
      "5: scale (0.00)\n",
      "Found 'watch' with probability 0.99\n",
      "image_save_path_good good_watch_folder\\346264a15f29ee648da64c336fe699f3.png\n",
      "1: stopwatch (0.94)\n",
      "2: barometer (0.05)\n",
      "3: magnetic_compass (0.01)\n",
      "4: analog_clock (0.00)\n",
      "5: digital_watch (0.00)\n",
      "Found 'watch' with probability 0.94\n",
      "image_save_path_good good_watch_folder\\34ba8232cd1f0c7d855bc6702ef552bc.png\n",
      "1: stopwatch (0.65)\n",
      "2: analog_clock (0.23)\n",
      "3: magnetic_compass (0.06)\n",
      "4: digital_watch (0.02)\n",
      "5: barometer (0.01)\n",
      "Found 'watch' with probability 0.65\n",
      "image_save_path_good good_watch_folder\\3524accf8332e59faf80d63eaf02f29e.png\n",
      "1: stopwatch (0.70)\n",
      "2: digital_watch (0.13)\n",
      "3: scale (0.04)\n",
      "4: magnetic_compass (0.04)\n",
      "5: microphone (0.02)\n",
      "Found 'watch' with probability 0.70\n",
      "image_save_path_good good_watch_folder\\3513c26d35b9268e5168f2b7c3f7ed39.png\n",
      "1: stopwatch (0.94)\n",
      "2: analog_clock (0.02)\n",
      "3: digital_watch (0.02)\n",
      "4: magnetic_compass (0.01)\n",
      "5: scale (0.00)\n",
      "Found 'watch' with probability 0.94\n",
      "image_save_path_good good_watch_folder\\357c3ab3d9a1b53c39235ad988c71da6.png\n"
     ]
    },
    {
     "name": "stderr",
     "output_type": "stream",
     "text": [
      "Processing images:  21%|██        | 233/1116 [00:46<02:07,  6.94it/s]"
     ]
    },
    {
     "name": "stdout",
     "output_type": "stream",
     "text": [
      "1: matchstick (0.24)\n",
      "2: bannister (0.08)\n",
      "3: nail (0.07)\n",
      "4: hook (0.05)\n",
      "5: padlock (0.03)\n",
      "image_save_path_bad bad_watch_folder\\377c7c8e593d702e4545b005a9cb4828.png\n",
      "1: stopwatch (0.66)\n",
      "2: barometer (0.16)\n",
      "3: digital_watch (0.07)\n",
      "4: analog_clock (0.04)\n",
      "5: drum (0.02)\n",
      "Found 'watch' with probability 0.66\n",
      "image_save_path_good good_watch_folder\\375c2e5b0a0a49a97a3f6b038afc5c88.png\n",
      "1: stopwatch (0.71)\n",
      "2: analog_clock (0.26)\n",
      "3: digital_watch (0.02)\n",
      "4: magnetic_compass (0.01)\n",
      "5: wall_clock (0.00)\n",
      "Found 'watch' with probability 0.71\n",
      "image_save_path_good good_watch_folder\\36bdd251ba8d33356998a5f10859f0fb.png\n",
      "1: stopwatch (0.97)\n",
      "2: magnetic_compass (0.03)\n",
      "3: analog_clock (0.00)\n",
      "4: digital_watch (0.00)\n",
      "5: barometer (0.00)\n",
      "Found 'watch' with probability 0.97\n",
      "image_save_path_good good_watch_folder\\37380a734aaf8f6be6388ac8d69c04ba.png\n",
      "1: stopwatch (0.97)\n",
      "2: digital_watch (0.01)\n",
      "3: analog_clock (0.01)\n",
      "4: magnetic_compass (0.00)\n",
      "5: barometer (0.00)\n",
      "Found 'watch' with probability 0.97\n",
      "image_save_path_good good_watch_folder\\36126d0fa948e54d54b5823a5bb5784f.png\n",
      "1: panpipe (0.60)\n",
      "2: digital_watch (0.09)\n",
      "3: binoculars (0.08)\n",
      "4: perfume (0.06)\n",
      "5: stopwatch (0.02)\n",
      "Found 'watch' with probability 0.09\n",
      "image_save_path_good good_watch_folder\\36e306b4648b39b26e18ac67b5902329.png\n",
      "1: stopwatch (1.00)\n",
      "2: barometer (0.00)\n",
      "3: scale (0.00)\n",
      "4: digital_watch (0.00)\n",
      "5: magnetic_compass (0.00)\n",
      "Found 'watch' with probability 1.00\n",
      "image_save_path_good good_watch_folder\\366682d88fc4331090926044755895b9.png\n"
     ]
    },
    {
     "name": "stderr",
     "output_type": "stream",
     "text": [
      "\r",
      "Processing images:  21%|██        | 235/1116 [00:46<02:40,  5.49it/s]"
     ]
    },
    {
     "name": "stdout",
     "output_type": "stream",
     "text": [
      "1: analog_clock (0.56)\n",
      "2: stopwatch (0.40)\n",
      "3: digital_watch (0.02)\n",
      "4: barometer (0.01)\n",
      "5: wall_clock (0.01)\n",
      "Found 'watch' with probability 0.56\n",
      "image_save_path_good good_watch_folder\\358a3c63bcbc86bbca7f42b99a8ba75b.png\n",
      "1: web_site (0.18)\n",
      "2: geyser (0.13)\n",
      "3: fountain (0.13)\n",
      "4: bubble (0.06)\n",
      "5: matchstick (0.03)\n",
      "image_save_path_bad bad_watch_folder\\379a6910bdd2510ff2310f4d0dca4abc.png\n"
     ]
    },
    {
     "name": "stderr",
     "output_type": "stream",
     "text": [
      "Processing images:  22%|██▏       | 243/1116 [00:47<01:21, 10.76it/s]"
     ]
    },
    {
     "name": "stdout",
     "output_type": "stream",
     "text": [
      "1: abacus (0.40)\n",
      "2: web_site (0.09)\n",
      "3: panpipe (0.04)\n",
      "4: cornet (0.03)\n",
      "5: shoji (0.03)\n",
      "image_save_path_bad bad_watch_folder\\37802625017842d58ecbe4c6e08897a5.png\n",
      "1: analog_clock (0.66)\n",
      "2: stopwatch (0.32)\n",
      "3: wall_clock (0.01)\n",
      "4: digital_watch (0.01)\n",
      "5: barometer (0.00)\n",
      "Found 'watch' with probability 0.66\n",
      "image_save_path_good good_watch_folder\\37a60fdbc91ecd5b64bbf965683bfd6a.png\n",
      "1: stopwatch (0.58)\n",
      "2: analog_clock (0.28)\n",
      "3: barometer (0.11)\n",
      "4: spotlight (0.01)\n",
      "5: binoculars (0.00)\n",
      "Found 'watch' with probability 0.58\n",
      "image_save_path_good good_watch_folder\\3845477ed413816c6b5e0a897be6925c.png\n",
      "1: television (0.66)\n",
      "2: screen (0.07)\n",
      "3: monitor (0.03)\n",
      "4: hand-held_computer (0.02)\n",
      "5: web_site (0.01)\n",
      "image_save_path_bad bad_watch_folder\\384465ca79b30a31b48ad4893c2667eb.png\n",
      "1: digital_watch (0.44)\n",
      "2: analog_clock (0.33)\n",
      "3: stopwatch (0.11)\n",
      "4: magnetic_compass (0.01)\n",
      "5: reflex_camera (0.01)\n",
      "Found 'watch' with probability 0.44\n",
      "image_save_path_good good_watch_folder\\38c91886c6ae67e01a07e51a2fd45468.png\n",
      "1: stopwatch (0.91)\n",
      "2: analog_clock (0.07)\n",
      "3: digital_watch (0.01)\n",
      "4: magnetic_compass (0.01)\n",
      "5: wall_clock (0.00)\n",
      "Found 'watch' with probability 0.91\n",
      "image_save_path_good good_watch_folder\\38cc7b2806990a7056467358f562153d.png\n",
      "1: stopwatch (0.45)\n",
      "2: barometer (0.36)\n",
      "3: magnetic_compass (0.10)\n",
      "4: analog_clock (0.06)\n",
      "5: digital_watch (0.02)\n",
      "Found 'watch' with probability 0.45\n",
      "image_save_path_good good_watch_folder\\38e99db3264fdd41b38ae82eedafb720.png\n",
      "1: stopwatch (0.98)\n",
      "2: barometer (0.01)\n",
      "3: digital_watch (0.00)\n",
      "4: analog_clock (0.00)\n",
      "5: scale (0.00)\n",
      "Found 'watch' with probability 0.98\n",
      "image_save_path_good good_watch_folder\\39a32daff5ae7a616c33a1de5f021403.png\n",
      "1: stopwatch (0.66)\n",
      "2: barometer (0.12)\n",
      "3: analog_clock (0.12)\n",
      "4: magnetic_compass (0.08)\n",
      "5: digital_watch (0.01)\n",
      "Found 'watch' with probability 0.66\n",
      "image_save_path_good good_watch_folder\\39cc6c9d3a7b6cefe17831bd27e1447c.png\n",
      "1: stopwatch (0.91)\n",
      "2: combination_lock (0.03)\n",
      "3: digital_watch (0.02)\n",
      "4: analog_clock (0.01)\n",
      "5: reflex_camera (0.01)\n",
      "Found 'watch' with probability 0.91\n",
      "image_save_path_good good_watch_folder\\39862be412d81f9de89370f7b10b1cc1.png\n"
     ]
    },
    {
     "name": "stderr",
     "output_type": "stream",
     "text": [
      "\r",
      "Processing images:  22%|██▏       | 245/1116 [00:49<04:09,  3.49it/s]"
     ]
    },
    {
     "name": "stdout",
     "output_type": "stream",
     "text": [
      "1: stopwatch (0.74)\n",
      "2: magnetic_compass (0.17)\n",
      "3: analog_clock (0.07)\n",
      "4: digital_watch (0.01)\n",
      "5: reflex_camera (0.00)\n",
      "Found 'watch' with probability 0.74\n",
      "image_save_path_good good_watch_folder\\3ac3eeefc6613bffa0a1efdec58a32ae.png\n",
      "1: analog_clock (0.67)\n",
      "2: stopwatch (0.28)\n",
      "3: wall_clock (0.02)\n",
      "4: barometer (0.02)\n",
      "5: digital_watch (0.00)\n",
      "Found 'watch' with probability 0.67\n",
      "image_save_path_good good_watch_folder\\3ac3a350509395fceeb52aa3996886a9.png\n"
     ]
    },
    {
     "name": "stderr",
     "output_type": "stream",
     "text": [
      "Processing images:  22%|██▏       | 250/1116 [00:49<02:27,  5.88it/s]"
     ]
    },
    {
     "name": "stdout",
     "output_type": "stream",
     "text": [
      "1: stopwatch (0.92)\n",
      "2: analog_clock (0.03)\n",
      "3: barometer (0.03)\n",
      "4: magnetic_compass (0.00)\n",
      "5: digital_watch (0.00)\n",
      "Found 'watch' with probability 0.92\n",
      "image_save_path_good good_watch_folder\\39c31f3e5c4b9f2cb1f061a84298233e.png\n",
      "1: digital_watch (0.84)\n",
      "2: magnetic_compass (0.06)\n",
      "3: potter's_wheel (0.02)\n",
      "4: stopwatch (0.01)\n",
      "5: knee_pad (0.01)\n",
      "Found 'watch' with probability 0.84\n",
      "image_save_path_good good_watch_folder\\38fec1f7b9dedb815ae0115097cf7f58.png\n",
      "1: pedestal (0.11)\n",
      "2: candle (0.07)\n",
      "3: matchstick (0.07)\n",
      "4: lampshade (0.05)\n",
      "5: shoji (0.05)\n",
      "image_save_path_bad bad_watch_folder\\3ac5afff0382b1c760fee991ed1f1982.png\n"
     ]
    },
    {
     "name": "stderr",
     "output_type": "stream",
     "text": [
      "\r",
      "Processing images:  23%|██▎       | 252/1116 [00:49<02:11,  6.57it/s]"
     ]
    },
    {
     "name": "stdout",
     "output_type": "stream",
     "text": [
      "1: stopwatch (0.98)\n",
      "2: analog_clock (0.01)\n",
      "3: barometer (0.01)\n",
      "4: scale (0.00)\n",
      "5: digital_watch (0.00)\n",
      "Found 'watch' with probability 0.98\n",
      "image_save_path_good good_watch_folder\\3b1794510bc227c71726227a3e24cb69.png\n",
      "1: stopwatch (0.43)\n",
      "2: magnetic_compass (0.41)\n",
      "3: analog_clock (0.13)\n",
      "4: digital_watch (0.01)\n",
      "5: combination_lock (0.01)\n",
      "Found 'watch' with probability 0.43\n",
      "image_save_path_good good_watch_folder\\39fb65b729a01649123c36c00737e20b.png\n"
     ]
    },
    {
     "name": "stderr",
     "output_type": "stream",
     "text": [
      "Processing images:  23%|██▎       | 256/1116 [00:50<02:00,  7.14it/s]"
     ]
    },
    {
     "name": "stdout",
     "output_type": "stream",
     "text": [
      "1: stopwatch (0.50)\n",
      "2: magnetic_compass (0.23)\n",
      "3: analog_clock (0.13)\n",
      "4: barometer (0.09)\n",
      "5: digital_watch (0.02)\n",
      "Found 'watch' with probability 0.50\n",
      "image_save_path_good good_watch_folder\\39d1f18837b5055473fa8f067920f2db.png\n",
      "1: stopwatch (0.99)\n",
      "2: analog_clock (0.01)\n",
      "3: digital_watch (0.00)\n",
      "4: barometer (0.00)\n",
      "5: scale (0.00)\n",
      "Found 'watch' with probability 0.99\n",
      "image_save_path_good good_watch_folder\\3a1df0da9d92f3d580c58d921f90958f.png\n"
     ]
    },
    {
     "name": "stderr",
     "output_type": "stream",
     "text": [
      "\r",
      "Processing images:  23%|██▎       | 259/1116 [00:50<01:43,  8.29it/s]"
     ]
    },
    {
     "name": "stdout",
     "output_type": "stream",
     "text": [
      "1: stopwatch (0.43)\n",
      "2: barometer (0.26)\n",
      "3: scale (0.17)\n",
      "4: analog_clock (0.08)\n",
      "5: digital_watch (0.03)\n",
      "Found 'watch' with probability 0.43\n",
      "image_save_path_good good_watch_folder\\3abc226bc0402b5898846e6d6bbaa4c3.png\n",
      "1: stopwatch (0.99)\n",
      "2: analog_clock (0.01)\n",
      "3: digital_watch (0.00)\n",
      "4: barometer (0.00)\n",
      "5: magnetic_compass (0.00)\n",
      "Found 'watch' with probability 0.99\n",
      "image_save_path_good good_watch_folder\\3b18ec5c80713138472fef4f761a1f44.png\n"
     ]
    },
    {
     "name": "stderr",
     "output_type": "stream",
     "text": [
      "\r",
      "Processing images:  23%|██▎       | 261/1116 [00:51<02:51,  4.97it/s]"
     ]
    },
    {
     "name": "stdout",
     "output_type": "stream",
     "text": [
      "1: bubble (0.07)\n",
      "2: padlock (0.04)\n",
      "3: nail (0.03)\n",
      "4: web_site (0.03)\n",
      "5: matchstick (0.03)\n",
      "image_save_path_bad bad_watch_folder\\3c086c17c776a627abab90b2ad91313c.png\n",
      "1: stopwatch (0.97)\n",
      "2: analog_clock (0.02)\n",
      "3: digital_watch (0.01)\n",
      "4: magnetic_compass (0.00)\n",
      "5: barometer (0.00)\n",
      "Found 'watch' with probability 0.97\n",
      "image_save_path_good good_watch_folder\\3ce92b3dfb36245ea9c12923aba2e267.png\n",
      "1: stopwatch (0.33)\n",
      "2: digital_watch (0.19)\n",
      "3: magnetic_compass (0.11)\n",
      "4: analog_clock (0.10)\n",
      "5: drum (0.07)\n",
      "Found 'watch' with probability 0.33\n",
      "image_save_path_good good_watch_folder\\3c2cd30ebfd536a5a466cfdf2a378c41.png\n"
     ]
    },
    {
     "name": "stderr",
     "output_type": "stream",
     "text": [
      "\r",
      "Processing images:  24%|██▎       | 263/1116 [00:51<02:56,  4.84it/s]"
     ]
    },
    {
     "name": "stdout",
     "output_type": "stream",
     "text": [
      "1: digital_watch (0.38)1: stopwatch (0.89)\n",
      "2: analog_clock (0.10)\n",
      "3: barometer (0.01)\n",
      "4: wall_clock (0.00)\n",
      "5: magnetic_compass (0.00)\n",
      "Found 'watch' with probability 0.89\n",
      "image_save_path_good good_watch_folder\\3d4c78f1eca40e0c7cf2f3511752da5f.png\n",
      "\n",
      "2: stopwatch (0.31)\n",
      "3: analog_clock (0.30)\n",
      "4: wall_clock (0.00)\n",
      "5: barometer (0.00)\n",
      "Found 'watch' with probability 0.38\n",
      "image_save_path_good good_watch_folder\\3e98300193aa902d7f2b6cf2fc591da6.png\n"
     ]
    },
    {
     "name": "stderr",
     "output_type": "stream",
     "text": [
      "Processing images:  24%|██▍       | 266/1116 [00:52<03:22,  4.19it/s]"
     ]
    },
    {
     "name": "stdout",
     "output_type": "stream",
     "text": [
      "1: analog_clock (0.49)\n",
      "2: stopwatch (0.30)\n",
      "3: barometer (0.14)\n",
      "4: digital_watch (0.03)\n",
      "5: magnetic_compass (0.02)\n",
      "Found 'watch' with probability 0.49\n",
      "image_save_path_good good_watch_folder\\3eb2cdc5cf2c66639bdbe264dba9ac66.png\n",
      "1: stopwatch (0.60)\n",
      "2: barometer (0.37)\n",
      "3: magnetic_compass (0.01)\n",
      "4: analog_clock (0.01)\n",
      "5: digital_watch (0.00)\n",
      "Found 'watch' with probability 0.60\n",
      "image_save_path_good good_watch_folder\\3f3c6e140240415b1f02a7918ae1eac0.png\n",
      "1: analog_clock (0.93)\n",
      "2: stopwatch (0.06)\n",
      "3: wall_clock (0.01)\n",
      "4: digital_watch (0.00)\n",
      "5: magnetic_compass (0.00)\n",
      "Found 'watch' with probability 0.93\n",
      "image_save_path_good good_watch_folder\\3e7c21d4aa471c08517e0b8840a62316.png\n",
      "1: abaya (0.16)\n",
      "2: web_site (0.15)\n",
      "3: nematode (0.11)\n",
      "4: Windsor_tie (0.07)\n",
      "5: cloak (0.02)\n",
      "image_save_path_bad bad_watch_folder\\3f64947c48c936cdaf52ead96de591c3.png\n",
      "1: stopwatch (0.72)\n",
      "2: analog_clock (0.16)\n",
      "3: barometer (0.10)\n",
      "4: wall_clock (0.01)\n",
      "5: digital_watch (0.01)\n",
      "Found 'watch' with probability 0.72\n",
      "image_save_path_good good_watch_folder\\40674a239696474c181b60d6912f81b4.png\n",
      "1: stopwatch (0.86)\n",
      "2: digital_watch (0.06)\n",
      "3: analog_clock (0.05)\n",
      "4: barometer (0.01)\n",
      "5: lighter (0.00)\n",
      "Found 'watch' with probability 0.86\n",
      "image_save_path_good good_watch_folder\\3faa2ada31b8a8d72aac84e363ed66b1.png\n"
     ]
    },
    {
     "name": "stderr",
     "output_type": "stream",
     "text": [
      "Processing images:  24%|██▍       | 271/1116 [00:53<02:15,  6.26it/s]"
     ]
    },
    {
     "name": "stdout",
     "output_type": "stream",
     "text": [
      "1: stopwatch (0.65)\n",
      "2: analog_clock (0.21)\n",
      "3: barometer (0.08)\n",
      "4: magnetic_compass (0.03)\n",
      "5: digital_watch (0.01)\n",
      "Found 'watch' with probability 0.65\n",
      "image_save_path_good good_watch_folder\\401427cfc1193eac7af979e2c5f3fc3a.png\n",
      "1: stopwatch (0.57)\n",
      "2: analog_clock (0.42)\n",
      "3: wall_clock (0.00)\n",
      "4: barometer (0.00)\n",
      "5: digital_watch (0.00)\n",
      "Found 'watch' with probability 0.57\n",
      "image_save_path_good good_watch_folder\\40466d81318ac0ca382400624936b696.png\n",
      "1: web_site (0.48)\n",
      "2: combination_lock (0.03)\n",
      "3: analog_clock (0.02)\n",
      "4: remote_control (0.02)\n",
      "5: Band_Aid (0.02)\n",
      "Found 'watch' with probability 0.02\n",
      "image_save_path_good good_watch_folder\\400d58341ee4f57bc2cfdd5bfe86052c.png\n"
     ]
    },
    {
     "name": "stderr",
     "output_type": "stream",
     "text": [
      "\r",
      "Processing images:  24%|██▍       | 272/1116 [00:54<04:51,  2.89it/s]"
     ]
    },
    {
     "name": "stdout",
     "output_type": "stream",
     "text": [
      "1: stopwatch (0.45)\n",
      "2: barometer (0.40)\n",
      "3: analog_clock (0.08)\n",
      "4: magnetic_compass (0.04)\n",
      "5: scale (0.02)\n",
      "Found 'watch' with probability 0.45\n",
      "image_save_path_good good_watch_folder\\41715228a71fce803d79be17a073ce87.png\n",
      "1: stopwatch (0.97)\n",
      "2: analog_clock (0.02)\n",
      "3: magnetic_compass (0.01)\n",
      "4: digital_watch (0.01)\n",
      "5: barometer (0.00)\n",
      "Found 'watch' with probability 0.97\n",
      "image_save_path_good good_watch_folder\\40c24f0e99d3171eea537b9bcfaa0022.png\n",
      "1: analog_clock (0.65)\n",
      "2: stopwatch (0.24)\n",
      "3: wall_clock (0.05)\n",
      "4: magnetic_compass (0.02)\n",
      "5: digital_watch (0.02)\n",
      "Found 'watch' with probability 0.65\n",
      "image_save_path_good good_watch_folder\\4140504775d105145cea469eb449ea21.png\n",
      "1: stopwatch (0.97)\n",
      "2: digital_watch (0.01)\n",
      "3: barometer (0.01)\n",
      "4: analog_clock (0.01)\n",
      "5: scale (0.00)\n",
      "Found 'watch' with probability 0.97\n",
      "image_save_path_good good_watch_folder\\40f8ac55d421fa7870ec4f8824711974.png\n",
      "1: analog_clock (0.56)\n",
      "2: stopwatch (0.39)\n",
      "3: digital_watch (0.04)\n",
      "4: barometer (0.01)\n",
      "5: wall_clock (0.00)\n",
      "Found 'watch' with probability 0.56\n",
      "image_save_path_good good_watch_folder\\400a2cf30b4877fbb0432d991168f60b.png\n",
      "1: stopwatch (0.95)\n",
      "2: digital_watch (0.02)\n",
      "3: analog_clock (0.01)\n",
      "4: barometer (0.01)\n",
      "5: magnetic_compass (0.00)\n",
      "Found 'watch' with probability 0.95\n",
      "image_save_path_good good_watch_folder\\4177599947d906a783a5eb33ee105c6a.png\n",
      "1: stopwatch (0.99)\n",
      "2: analog_clock (0.00)\n",
      "3: digital_watch (0.00)\n",
      "4: barometer (0.00)\n",
      "5: binoculars (0.00)\n",
      "Found 'watch' with probability 0.99\n",
      "image_save_path_good good_watch_folder\\42255249c82458c1e61bc7da99e33178.png\n"
     ]
    },
    {
     "name": "stderr",
     "output_type": "stream",
     "text": [
      "\r",
      "Processing images:  25%|██▍       | 277/1116 [00:54<02:21,  5.91it/s]"
     ]
    },
    {
     "name": "stdout",
     "output_type": "stream",
     "text": [
      "1: analog_clock (0.44)\n",
      "2: lighter (0.10)\n",
      "3: digital_watch (0.10)\n",
      "4: slot (0.08)\n",
      "5: wall_clock (0.06)\n",
      "Found 'watch' with probability 0.44\n",
      "image_save_path_good good_watch_folder\\4168fdf786d4349e80ac0d69f2f9eafe.png\n"
     ]
    },
    {
     "name": "stderr",
     "output_type": "stream",
     "text": [
      "Processing images:  26%|██▌       | 285/1116 [00:55<01:39,  8.35it/s]"
     ]
    },
    {
     "name": "stdout",
     "output_type": "stream",
     "text": [
      "1: stopwatch (0.53)\n",
      "2: analog_clock (0.45)\n",
      "3: wall_clock (0.01)\n",
      "4: magnetic_compass (0.00)\n",
      "5: digital_watch (0.00)\n",
      "Found 'watch' with probability 0.53\n",
      "image_save_path_good good_watch_folder\\41f004c48530a5aaae4dee8cc5d3d239.png\n",
      "1: vase (0.34)\n",
      "2: abaya (0.10)\n",
      "3: bolo_tie (0.06)\n",
      "4: hourglass (0.05)\n",
      "5: web_site (0.04)\n",
      "image_save_path_bad bad_watch_folder\\422c218506d9400a3e7b6923cd7ac19d.png\n",
      "1: stopwatch (0.98)\n",
      "2: analog_clock (0.01)\n",
      "3: digital_watch (0.01)\n",
      "4: barometer (0.00)\n",
      "5: scale (0.00)\n",
      "Found 'watch' with probability 0.98\n",
      "image_save_path_good good_watch_folder\\426033e0ba4d6be1fec1bde213d56590.png\n",
      "1: stopwatch (0.50)\n",
      "2: analog_clock (0.36)\n",
      "3: digital_watch (0.06)\n",
      "4: magnetic_compass (0.02)\n",
      "5: lighter (0.02)\n",
      "Found 'watch' with probability 0.50\n",
      "image_save_path_good good_watch_folder\\4361134e98ae9384e288b7e07e30afc6.png\n",
      "1: abaya (0.22)\n",
      "2: vase (0.10)\n",
      "3: pitcher (0.05)\n",
      "4: water_jug (0.05)\n",
      "5: gown (0.03)\n",
      "image_save_path_bad bad_watch_folder\\42ea024ccfdadbb1d6c4e3e3d0a1c623.png\n",
      "1: web_site (0.11)\n",
      "2: hook (0.06)\n",
      "3: nail (0.04)\n",
      "4: abaya (0.04)\n",
      "5: bubble (0.04)\n",
      "image_save_path_bad bad_watch_folder\\4359b3c7e63702dcb635f28d9f40409e.png\n",
      "1: stopwatch (0.99)\n",
      "2: digital_watch (0.00)\n",
      "3: reflex_camera (0.00)\n",
      "4: scale (0.00)\n",
      "5: analog_clock (0.00)\n",
      "Found 'watch' with probability 0.99\n",
      "image_save_path_good good_watch_folder\\4305550892193a2947d2bd2a05863581.png\n"
     ]
    },
    {
     "name": "stderr",
     "output_type": "stream",
     "text": [
      "Processing images:  26%|██▌       | 290/1116 [00:56<02:35,  5.31it/s]"
     ]
    },
    {
     "name": "stdout",
     "output_type": "stream",
     "text": [
      "1: stopwatch (0.86)\n",
      "2: digital_watch (0.09)\n",
      "3: magnetic_compass (0.02)\n",
      "4: analog_clock (0.00)\n",
      "5: radio (0.00)\n",
      "Found 'watch' with probability 0.86\n",
      "image_save_path_good good_watch_folder\\440012ec6efb13283b834f319dc6dad3.png\n",
      "1: stopwatch (1.00)\n",
      "2: barometer (0.00)\n",
      "3: analog_clock (0.00)\n",
      "4: magnetic_compass (0.00)\n",
      "5: digital_watch (0.00)\n",
      "Found 'watch' with probability 1.00\n",
      "image_save_path_good good_watch_folder\\4382212bcb9238c2de2d814aa4e0d695.png\n",
      "1: stopwatch (0.99)\n",
      "2: digital_watch (0.01)\n",
      "3: analog_clock (0.00)\n",
      "4: reflex_camera (0.00)\n",
      "5: magnetic_compass (0.00)\n",
      "Found 'watch' with probability 0.99\n",
      "image_save_path_good good_watch_folder\\431065c42ac40b705ebccf489f6202ee.png\n"
     ]
    },
    {
     "name": "stderr",
     "output_type": "stream",
     "text": [
      "Processing images:  26%|██▋       | 293/1116 [00:57<02:41,  5.09it/s]"
     ]
    },
    {
     "name": "stdout",
     "output_type": "stream",
     "text": [
      "1: barometer (0.63)\n",
      "2: stopwatch (0.28)\n",
      "3: analog_clock (0.06)\n",
      "4: magnetic_compass (0.02)\n",
      "5: scale (0.00)\n",
      "Found 'watch' with probability 0.28\n",
      "image_save_path_good good_watch_folder\\4400c5dfc515e8f58ae999a73bff8504.png\n"
     ]
    },
    {
     "name": "stderr",
     "output_type": "stream",
     "text": [
      "Processing images:  27%|██▋       | 296/1116 [00:57<02:27,  5.57it/s]"
     ]
    },
    {
     "name": "stdout",
     "output_type": "stream",
     "text": [
      "1: stopwatch (0.98)\n",
      "2: analog_clock (0.02)\n",
      "3: digital_watch (0.00)\n",
      "4: barometer (0.00)\n",
      "5: magnetic_compass (0.00)\n",
      "Found 'watch' with probability 0.98\n",
      "image_save_path_good good_watch_folder\\44c242ae0d9467f1181dd8faac4dc55c.png\n",
      "1: barometer (0.44)\n",
      "2: reflex_camera (0.37)\n",
      "3: stopwatch (0.03)\n",
      "4: scale (0.02)\n",
      "5: magnetic_compass (0.02)\n",
      "Found 'watch' with probability 0.03\n",
      "image_save_path_good good_watch_folder\\44b9fe4497fe38d4222a073392d415a7.png\n",
      "1: stopwatch (0.53)\n",
      "2: analog_clock (0.36)\n",
      "3: barometer (0.06)\n",
      "4: magnetic_compass (0.03)\n",
      "5: wall_clock (0.02)\n",
      "Found 'watch' with probability 0.53\n",
      "image_save_path_good good_watch_folder\\44525458871d4abec8a63a94e638a185.png\n"
     ]
    },
    {
     "name": "stderr",
     "output_type": "stream",
     "text": [
      "\r",
      "Processing images:  27%|██▋       | 297/1116 [00:58<03:16,  4.16it/s]"
     ]
    },
    {
     "name": "stdout",
     "output_type": "stream",
     "text": [
      "1: stopwatch (0.86)\n",
      "2: analog_clock (0.11)\n",
      "3: digital_watch (0.01)\n",
      "4: barometer (0.01)\n",
      "5: magnetic_compass (0.00)\n",
      "Found 'watch' with probability 0.86\n",
      "image_save_path_good good_watch_folder\\446c42e780693140d45473dd0a2b4ec9.png\n",
      "1: stopwatch (0.96)\n",
      "2: digital_watch (0.02)\n",
      "3: magnetic_compass (0.01)\n",
      "4: analog_clock (0.01)\n",
      "5: barometer (0.00)\n",
      "Found 'watch' with probability 0.96\n",
      "image_save_path_good good_watch_folder\\44da087e248e80d82c5ad18375bb53f8.png\n",
      "1: stopwatch (0.99)\n",
      "2: magnetic_compass (0.00)\n",
      "3: analog_clock (0.00)\n",
      "4: digital_watch (0.00)\n",
      "5: barometer (0.00)\n",
      "Found 'watch' with probability 0.99\n",
      "image_save_path_good good_watch_folder\\44d2afa748558da8652248668782764e.png\n"
     ]
    },
    {
     "name": "stderr",
     "output_type": "stream",
     "text": [
      "Processing images:  27%|██▋       | 299/1116 [00:58<03:18,  4.11it/s]"
     ]
    },
    {
     "name": "stdout",
     "output_type": "stream",
     "text": [
      "1: barometer (0.88)\n",
      "2: stopwatch (0.08)\n",
      "3: analog_clock (0.01)\n",
      "4: magnetic_compass (0.01)\n",
      "5: scale (0.01)\n",
      "Found 'watch' with probability 0.08\n",
      "image_save_path_good good_watch_folder\\44d8820483e04374a4fa1d35ba75f5fb.png\n",
      "1: stopwatch (0.79)\n",
      "2: analog_clock (0.19)\n",
      "3: barometer (0.01)\n",
      "4: digital_watch (0.01)\n",
      "5: magnetic_compass (0.00)\n",
      "Found 'watch' with probability 0.79\n",
      "image_save_path_good good_watch_folder\\457fa3c4eb3fe4be5654d641011b4a10.png\n",
      "1: stopwatch (0.98)\n",
      "2: barometer (0.02)\n",
      "3: analog_clock (0.00)\n",
      "4: magnetic_compass (0.00)\n",
      "5: digital_watch (0.00)\n",
      "Found 'watch' with probability 0.98\n",
      "image_save_path_good good_watch_folder\\459743f3894173708fa383dcbdad496e.png\n",
      "1: stopwatch (0.92)\n",
      "2: analog_clock (0.08)\n",
      "3: digital_watch (0.00)\n",
      "4: wall_clock (0.00)\n",
      "5: barometer (0.00)\n",
      "Found 'watch' with probability 0.92\n",
      "image_save_path_good good_watch_folder\\450b71ef416921b73e8c4cf98c19bfb6.png\n",
      "1: stopwatch (0.80)\n",
      "2: analog_clock (0.09)\n",
      "3: magnetic_compass (0.08)\n",
      "4: digital_watch (0.01)\n",
      "5: barometer (0.00)\n",
      "Found 'watch' with probability 0.80\n",
      "image_save_path_good good_watch_folder\\453a0595f31724f9de3c2afd12ad8594.png\n"
     ]
    },
    {
     "name": "stderr",
     "output_type": "stream",
     "text": [
      "Processing images:  28%|██▊       | 308/1116 [00:59<01:18, 10.27it/s]"
     ]
    },
    {
     "name": "stdout",
     "output_type": "stream",
     "text": [
      "1: letter_opener (0.52)\n",
      "2: ladle (0.12)\n",
      "3: spatula (0.08)\n",
      "4: matchstick (0.05)\n",
      "5: scabbard (0.03)\n",
      "image_save_path_bad bad_watch_folder\\45ac4014d2cda27c94cd72fc30cbc91d.png\n",
      "1: stopwatch (0.84)\n",
      "2: digital_watch (0.07)\n",
      "3: analog_clock (0.03)\n",
      "4: magnetic_compass (0.03)\n",
      "5: lighter (0.02)\n",
      "Found 'watch' with probability 0.84\n",
      "image_save_path_good good_watch_folder\\41da875d73c7df8d55edf8d973b35759.png\n",
      "1: stopwatch (0.95)\n",
      "2: digital_watch (0.02)\n",
      "3: analog_clock (0.02)\n",
      "4: magnetic_compass (0.00)\n",
      "5: barometer (0.00)\n",
      "Found 'watch' with probability 0.95\n",
      "image_save_path_good good_watch_folder\\45bb067fb0360546a010d2067a489263.png\n",
      "1: analog_clock (0.55)\n",
      "2: stopwatch (0.33)\n",
      "3: digital_watch (0.05)\n",
      "4: barometer (0.02)\n",
      "5: magnetic_compass (0.02)\n",
      "Found 'watch' with probability 0.55\n",
      "image_save_path_good good_watch_folder\\464fa38b23add2057cbfda64414e3371.png\n",
      "1: stopwatch (0.68)\n",
      "2: analog_clock (0.19)\n",
      "3: digital_watch (0.10)\n",
      "4: magnetic_compass (0.01)\n",
      "5: barometer (0.00)\n",
      "Found 'watch' with probability 0.68\n",
      "image_save_path_good good_watch_folder\\45f95ab569fc9e16c886b1e1c25314a3.png\n",
      "1: stopwatch (0.89)\n",
      "2: analog_clock (0.08)\n",
      "3: digital_watch (0.02)\n",
      "4: magnetic_compass (0.00)\n",
      "5: reflex_camera (0.00)\n",
      "Found 'watch' with probability 0.89\n",
      "image_save_path_good good_watch_folder\\46aad02c8b371cd0aac27c345dfeeb6c.png\n"
     ]
    },
    {
     "name": "stderr",
     "output_type": "stream",
     "text": [
      "Processing images:  28%|██▊       | 311/1116 [01:00<02:29,  5.38it/s]"
     ]
    },
    {
     "name": "stdout",
     "output_type": "stream",
     "text": [
      "1: stopwatch (0.96)\n",
      "2: analog_clock (0.02)\n",
      "3: magnetic_compass (0.01)\n",
      "4: digital_watch (0.01)\n",
      "5: barometer (0.00)\n",
      "Found 'watch' with probability 0.96\n",
      "image_save_path_good good_watch_folder\\467af81b4f67c7c9da7467120318a281.png\n"
     ]
    },
    {
     "name": "stderr",
     "output_type": "stream",
     "text": [
      "\r",
      "Processing images:  28%|██▊       | 313/1116 [01:01<02:28,  5.40it/s]"
     ]
    },
    {
     "name": "stdout",
     "output_type": "stream",
     "text": [
      "1: barometer (0.80)\n",
      "2: stopwatch (0.12)\n",
      "3: analog_clock (0.05)\n",
      "4: magnetic_compass (0.01)\n",
      "5: digital_watch (0.01)\n",
      "Found 'watch' with probability 0.12\n",
      "image_save_path_good good_watch_folder\\46d0caee3a002f6bcd4ad01168180c0d.png\n"
     ]
    },
    {
     "name": "stderr",
     "output_type": "stream",
     "text": [
      "Processing images:  28%|██▊       | 315/1116 [01:01<02:33,  5.22it/s]"
     ]
    },
    {
     "name": "stdout",
     "output_type": "stream",
     "text": [
      "1: stopwatch (0.88)\n",
      "2: analog_clock (0.11)\n",
      "3: digital_watch (0.01)\n",
      "4: wall_clock (0.00)\n",
      "5: magnetic_compass (0.00)\n",
      "Found 'watch' with probability 0.88\n",
      "image_save_path_good good_watch_folder\\4795097752ecf98c36637bd5be355516.png\n",
      "1: barometer (0.44)\n",
      "2: stopwatch (0.41)\n",
      "3: magnetic_compass (0.07)\n",
      "4: analog_clock (0.06)\n",
      "5: digital_watch (0.02)\n",
      "Found 'watch' with probability 0.41\n",
      "image_save_path_good good_watch_folder\\480c25b3bb08384b32683cd490a571e7.png\n",
      "1: barometer (0.53)\n",
      "2: stopwatch (0.26)\n",
      "3: digital_watch (0.08)\n",
      "4: magnetic_compass (0.06)\n",
      "5: analog_clock (0.05)\n",
      "Found 'watch' with probability 0.26\n",
      "image_save_path_good good_watch_folder\\47a1dbb08e5cb0148acf082b8810d47f.png\n",
      "1: web_site (0.57)\n",
      "2: nematode (0.03)\n",
      "3: loupe (0.02)\n",
      "4: abaya (0.02)\n",
      "5: stopwatch (0.01)\n",
      "Found 'watch' with probability 0.01\n",
      "image_save_path_good good_watch_folder\\482103c094badbae8c6d9c6672ba97d0.png\n"
     ]
    },
    {
     "name": "stderr",
     "output_type": "stream",
     "text": [
      "\r",
      "Processing images:  28%|██▊       | 316/1116 [01:01<03:01,  4.41it/s]"
     ]
    },
    {
     "name": "stdout",
     "output_type": "stream",
     "text": [
      "1: fountain (0.22)\n",
      "2: matchstick (0.16)\n",
      "3: spotlight (0.05)\n",
      "4: hook (0.03)\n",
      "5: nail (0.03)\n",
      "image_save_path_bad bad_watch_folder\\4831783670868456902d7654634a75a4.png\n",
      "1: stopwatch (0.90)\n",
      "2: barometer (0.06)\n",
      "3: analog_clock (0.04)\n",
      "4: scale (0.00)\n",
      "5: digital_watch (0.00)\n",
      "Found 'watch' with probability 0.90\n",
      "image_save_path_good good_watch_folder\\48225e24bc5c4856612a79106c3d189e.png\n"
     ]
    },
    {
     "name": "stderr",
     "output_type": "stream",
     "text": [
      "Processing images:  29%|██▉       | 321/1116 [01:02<01:25,  9.27it/s]"
     ]
    },
    {
     "name": "stdout",
     "output_type": "stream",
     "text": [
      "1: analog_clock (0.86)\n",
      "2: stopwatch (0.07)\n",
      "3: wall_clock (0.06)\n",
      "4: magnetic_compass (0.01)\n",
      "5: barometer (0.00)\n",
      "Found 'watch' with probability 0.86\n",
      "image_save_path_good good_watch_folder\\49d37a306752030604f6003334a665c7.png\n",
      "1: stopwatch (0.53)\n",
      "2: analog_clock (0.37)\n",
      "3: barometer (0.07)\n",
      "4: digital_watch (0.01)\n",
      "5: magnetic_compass (0.01)\n",
      "Found 'watch' with probability 0.53\n",
      "image_save_path_good good_watch_folder\\49281ac1fe040648b4bde2386603489c.png\n",
      "1: stopwatch (0.92)\n",
      "2: analog_clock (0.07)\n",
      "3: barometer (0.00)\n",
      "4: digital_watch (0.00)\n",
      "5: magnetic_compass (0.00)\n",
      "Found 'watch' with probability 0.92\n",
      "image_save_path_good good_watch_folder\\4a49e3b3011f6b7d9d401fecb643706a.png\n"
     ]
    },
    {
     "name": "stderr",
     "output_type": "stream",
     "text": [
      "\r",
      "Processing images:  29%|██▉       | 323/1116 [01:02<02:30,  5.28it/s]"
     ]
    },
    {
     "name": "stdout",
     "output_type": "stream",
     "text": [
      "1: stopwatch (0.98)\n",
      "2: barometer (0.01)\n",
      "3: analog_clock (0.00)\n",
      "4: magnetic_compass (0.00)\n",
      "5: digital_watch (0.00)\n",
      "Found 'watch' with probability 0.98\n",
      "image_save_path_good good_watch_folder\\4a3f7ca34abb6baef4a212907252d158.png\n",
      "1: stopwatch (0.87)\n",
      "2: analog_clock (0.12)\n",
      "3: digital_watch (0.01)\n",
      "4: magnetic_compass (0.00)\n",
      "5: scale (0.00)\n",
      "Found 'watch' with probability 0.87\n",
      "image_save_path_good good_watch_folder\\49f42d2bd05c783441b0f981af77d0f1.png\n",
      "1: stopwatch (0.98)\n",
      "2: analog_clock (0.01)\n",
      "3: digital_watch (0.01)\n",
      "4: reflex_camera (0.00)\n",
      "5: magnetic_compass (0.00)\n",
      "Found 'watch' with probability 0.98\n",
      "image_save_path_good good_watch_folder\\4ad5c2d3f9b0b828cdaf199a8438b6e2.png\n",
      "1: stopwatch (1.00)\n",
      "2: analog_clock (0.00)\n",
      "3: barometer (0.00)\n",
      "4: digital_watch (0.00)\n",
      "5: scale (0.00)\n",
      "Found 'watch' with probability 1.00\n",
      "image_save_path_good good_watch_folder\\4878cf3cd78aecacddd7f3632b64739c.png\n",
      "1: barometer (0.47)\n",
      "2: analog_clock (0.29)\n",
      "3: stopwatch (0.12)\n",
      "4: digital_watch (0.07)\n",
      "5: magnetic_compass (0.03)\n",
      "Found 'watch' with probability 0.29\n",
      "image_save_path_good good_watch_folder\\4a7376daef413bc2205629294dbd18e3.png\n",
      "1: stopwatch (0.81)\n",
      "2: digital_watch (0.08)\n",
      "3: analog_clock (0.08)\n",
      "4: reflex_camera (0.01)\n",
      "5: magnetic_compass (0.01)\n",
      "Found 'watch' with probability 0.81\n",
      "image_save_path_good good_watch_folder\\4b08787f94f8b9759846faeef0ed7a0e.png\n",
      "1: analog_clock (0.56)\n",
      "2: stopwatch (0.32)\n",
      "3: wall_clock (0.04)\n",
      "4: magnetic_compass (0.04)\n",
      "5: barometer (0.02)\n",
      "Found 'watch' with probability 0.56\n",
      "image_save_path_good good_watch_folder\\4ae09178da2b9358b41a517c0a2def6c.png\n"
     ]
    },
    {
     "name": "stderr",
     "output_type": "stream",
     "text": [
      "Processing images:  29%|██▉       | 326/1116 [01:03<03:14,  4.06it/s]"
     ]
    },
    {
     "name": "stdout",
     "output_type": "stream",
     "text": [
      "1: nematode (0.38)\n",
      "2: abaya (0.17)\n",
      "3: bubble (0.03)\n",
      "4: digital_clock (0.02)\n",
      "5: analog_clock (0.02)\n",
      "Found 'watch' with probability 0.02\n",
      "image_save_path_good good_watch_folder\\4b4d97b0f853bb29edc752e862c16814.png\n"
     ]
    },
    {
     "name": "stderr",
     "output_type": "stream",
     "text": [
      "Processing images:  29%|██▉       | 329/1116 [01:04<02:26,  5.37it/s]"
     ]
    },
    {
     "name": "stdout",
     "output_type": "stream",
     "text": [
      "1: stopwatch (0.90)\n",
      "2: analog_clock (0.09)\n",
      "3: digital_watch (0.00)\n",
      "4: barometer (0.00)\n",
      "5: wall_clock (0.00)\n",
      "Found 'watch' with probability 0.90\n",
      "image_save_path_good good_watch_folder\\4b6ef3c0eb7dd9d4cec85346c412198d.png\n",
      "1: web_site (0.85)\n",
      "2: trilobite (0.03)\n",
      "3: isopod (0.01)\n",
      "4: harmonica (0.01)\n",
      "5: nail (0.01)\n",
      "image_save_path_bad bad_watch_folder\\4b4b456c30be28c0e6d1fb392cb6f14c.png\n"
     ]
    },
    {
     "name": "stderr",
     "output_type": "stream",
     "text": [
      "Processing images:  30%|██▉       | 332/1116 [01:04<01:53,  6.94it/s]"
     ]
    },
    {
     "name": "stdout",
     "output_type": "stream",
     "text": [
      "1: stopwatch (0.63)1: stopwatch (0.93)\n",
      "2: digital_watch (0.03)\n",
      "3: analog_clock (0.02)\n",
      "4: magnetic_compass (0.01)\n",
      "5: scale (0.01)\n",
      "Found 'watch' with probability 0.93\n",
      "image_save_path_good good_watch_folder\\4b6480c529c078512c3150e1c0db1a6a.png\n",
      "\n",
      "2: barometer (0.17)\n",
      "3: magnetic_compass (0.16)\n",
      "4: analog_clock (0.01)\n",
      "5: scale (0.01)\n",
      "Found 'watch' with probability 0.63\n",
      "image_save_path_good good_watch_folder\\4bfd7754f6c4019fc2bef66cbe6a1351.png\n",
      "1: stopwatch (0.87)\n",
      "2: binoculars (0.04)\n",
      "3: digital_watch (0.02)\n",
      "4: holster (0.01)\n",
      "5: analog_clock (0.01)\n",
      "Found 'watch' with probability 0.87\n",
      "image_save_path_good good_watch_folder\\4beb808cc82a98053f6b5cb2727ccef9.png\n",
      "1: stopwatch (0.76)\n",
      "2: barometer (0.15)\n",
      "3: magnetic_compass (0.03)\n",
      "4: analog_clock (0.03)\n",
      "5: digital_watch (0.02)\n",
      "Found 'watch' with probability 0.76\n",
      "image_save_path_good good_watch_folder\\4b88246472955f398c4e9c0e17010f6b.png\n",
      "1: stopwatch (0.84)\n",
      "2: analog_clock (0.14)\n",
      "3: digital_watch (0.01)\n",
      "4: magnetic_compass (0.00)\n",
      "5: wall_clock (0.00)\n",
      "Found 'watch' with probability 0.84\n",
      "image_save_path_good good_watch_folder\\4bc56b7c6637a86eb8dda73b9b3d3856.png\n",
      "1: stopwatch (0.43)\n",
      "2: analog_clock (0.32)\n",
      "3: barometer (0.14)\n",
      "4: magnetic_compass (0.03)\n",
      "5: wall_clock (0.02)\n",
      "Found 'watch' with probability 0.43\n",
      "image_save_path_good good_watch_folder\\4bc70e4b3148183e0bea741baf3a901a.png\n",
      "1: stopwatch (0.97)\n",
      "2: analog_clock (0.02)\n",
      "3: barometer (0.01)\n",
      "4: digital_watch (0.00)\n",
      "5: magnetic_compass (0.00)\n",
      "Found 'watch' with probability 0.97\n",
      "image_save_path_good good_watch_folder\\4b84c7e0fe61e7daf3df4a09a97e9a9b.png\n"
     ]
    },
    {
     "name": "stderr",
     "output_type": "stream",
     "text": [
      "Processing images:  31%|███       | 341/1116 [01:05<01:13, 10.60it/s]"
     ]
    },
    {
     "name": "stdout",
     "output_type": "stream",
     "text": [
      "1: stopwatch (0.72)1: stopwatch (0.57)\n",
      "2: analog_clock (0.21)\n",
      "3: digital_watch (0.04)\n",
      "4: magnetic_compass (0.04)\n",
      "5: barometer (0.02)\n",
      "Found 'watch' with probability 0.57\n",
      "image_save_path_good good_watch_folder\\4c497c309bc22ff1e715a977a314bfce.png\n",
      "\n",
      "2: analog_clock (0.14)\n",
      "3: digital_watch (0.10)\n",
      "4: reflex_camera (0.01)\n",
      "5: buckle (0.01)\n",
      "Found 'watch' with probability 0.72\n",
      "image_save_path_good good_watch_folder\\4c9b43a7e223c522e93f9d068d122747.png\n",
      "1: stopwatch (0.97)\n",
      "2: magnetic_compass (0.01)\n",
      "3: analog_clock (0.01)\n",
      "4: digital_watch (0.00)\n",
      "5: barometer (0.00)\n",
      "Found 'watch' with probability 0.97\n",
      "image_save_path_good good_watch_folder\\4d159a6c9df9ea1fd73628a8c2372904.png\n"
     ]
    },
    {
     "name": "stderr",
     "output_type": "stream",
     "text": [
      "\r",
      "Processing images:  31%|███       | 343/1116 [01:06<02:21,  5.46it/s]"
     ]
    },
    {
     "name": "stdout",
     "output_type": "stream",
     "text": [
      "1: stopwatch (0.65)\n",
      "2: barometer (0.16)\n",
      "3: scale (0.14)\n",
      "4: analog_clock (0.03)\n",
      "5: magnetic_compass (0.01)\n",
      "Found 'watch' with probability 0.65\n",
      "image_save_path_good good_watch_folder\\4d43e33fc13b3f73bf0af3b843a0c96e.png\n",
      "1: analog_clock (0.55)\n",
      "2: stopwatch (0.33)\n",
      "3: barometer (0.07)\n",
      "4: digital_watch (0.02)\n",
      "5: magnetic_compass (0.01)\n",
      "Found 'watch' with probability 0.55\n",
      "image_save_path_good good_watch_folder\\4cc966565c888bf2da7ae84477f56377.png\n",
      "1: stopwatch (0.99)\n",
      "2: analog_clock (0.00)\n",
      "3: barometer (0.00)\n",
      "4: digital_watch (0.00)\n",
      "5: magnetic_compass (0.00)\n",
      "Found 'watch' with probability 0.99\n",
      "image_save_path_good good_watch_folder\\4d4791734d473644a81310b6f6a07b9a.png\n",
      "1: stopwatch (0.93)\n",
      "2: analog_clock (0.07)\n",
      "3: barometer (0.00)\n",
      "4: digital_watch (0.00)\n",
      "5: wall_clock (0.00)\n",
      "Found 'watch' with probability 0.93\n",
      "image_save_path_good good_watch_folder\\4d56d6311f7d556db97e4af0a960e04a.png\n"
     ]
    },
    {
     "name": "stderr",
     "output_type": "stream",
     "text": [
      "\r",
      "Processing images:  31%|███       | 345/1116 [01:07<02:38,  4.85it/s]"
     ]
    },
    {
     "name": "stdout",
     "output_type": "stream",
     "text": [
      "1: web_site (0.64)\n",
      "2: rule (0.02)\n",
      "3: stopwatch (0.02)\n",
      "4: analog_clock (0.02)\n",
      "5: digital_clock (0.01)\n",
      "Found 'watch' with probability 0.02\n",
      "image_save_path_good good_watch_folder\\4df4db05b3bfafcd1152792e5aefcebd.png\n",
      "1: lighter (0.23)\n",
      "2: reflex_camera (0.19)\n",
      "3: buckle (0.11)\n",
      "4: pay-phone (0.11)\n",
      "5: barber_chair (0.05)\n",
      "image_save_path_bad bad_watch_folder\\4edcd3a92efe18bf513d63a6e405c5f8.png\n",
      "1: stopwatch (0.73)\n",
      "2: analog_clock (0.19)\n",
      "3: wall_clock (0.07)\n",
      "4: digital_watch (0.01)\n",
      "5: magnetic_compass (0.00)\n",
      "Found 'watch' with probability 0.73\n",
      "image_save_path_good good_watch_folder\\4eab967cf236924b72e6debdb53fae6b.png\n"
     ]
    },
    {
     "name": "stderr",
     "output_type": "stream",
     "text": [
      "\r",
      "Processing images:  31%|███       | 347/1116 [01:07<02:37,  4.88it/s]"
     ]
    },
    {
     "name": "stdout",
     "output_type": "stream",
     "text": [
      "1: stopwatch (0.53)\n",
      "2: magnetic_compass (0.29)\n",
      "3: analog_clock (0.09)\n",
      "4: digital_watch (0.05)\n",
      "5: wall_clock (0.02)\n",
      "Found 'watch' with probability 0.53\n",
      "image_save_path_good good_watch_folder\\4f06323df63aff5cbb96bf1c5de0397b.png\n",
      "1: stopwatch (0.83)\n",
      "2: magnetic_compass (0.09)\n",
      "3: analog_clock (0.06)\n",
      "4: digital_watch (0.01)\n",
      "5: barometer (0.00)\n",
      "Found 'watch' with probability 0.83\n",
      "image_save_path_good good_watch_folder\\505961669f4d8ea4dfd55a3832fba543.png\n",
      "1: stopwatch (0.95)\n",
      "2: analog_clock (0.01)\n",
      "3: magnetic_compass (0.01)\n",
      "4: digital_watch (0.01)\n",
      "5: barometer (0.01)\n",
      "Found 'watch' with probability 0.95\n",
      "image_save_path_good good_watch_folder\\4f0dc6c7e041e335964052fa82bd3931.png\n",
      "1: stopwatch (0.87)\n",
      "2: analog_clock (0.11)\n",
      "3: barometer (0.01)\n",
      "4: digital_watch (0.01)\n",
      "5: magnetic_compass (0.00)\n",
      "Found 'watch' with probability 0.87\n",
      "image_save_path_good good_watch_folder\\5024f36087a2c7f01ffe03a4cf425022.png\n",
      "1: stopwatch (1.00)\n",
      "2: analog_clock (0.00)\n",
      "3: digital_watch (0.00)\n",
      "4: barometer (0.00)\n",
      "5: reflex_camera (0.00)\n",
      "Found 'watch' with probability 1.00\n",
      "image_save_path_good good_watch_folder\\50e507a39d07a6d2137fffc6135e9064.png\n"
     ]
    },
    {
     "name": "stderr",
     "output_type": "stream",
     "text": [
      "Processing images:  32%|███▏      | 356/1116 [01:08<01:39,  7.65it/s]"
     ]
    },
    {
     "name": "stdout",
     "output_type": "stream",
     "text": [
      "1: stopwatch (0.83)\n",
      "2: digital_watch (0.08)\n",
      "3: lighter (0.02)\n",
      "4: binoculars (0.01)\n",
      "5: scale (0.01)\n",
      "Found 'watch' with probability 0.83\n",
      "image_save_path_good good_watch_folder\\4f99d5b03ada39595b6840c1d1a04895.png\n",
      "1: stopwatch (0.98)\n",
      "2: digital_watch (0.01)\n",
      "3: scale (0.00)\n",
      "4: reflex_camera (0.00)\n",
      "5: analog_clock (0.00)\n",
      "Found 'watch' with probability 0.98\n",
      "image_save_path_good good_watch_folder\\50d9f9ac24a7105b3cecd6cf7cf75cbf.png\n",
      "1: water_jug (0.29)\n",
      "2: pitcher (0.26)\n",
      "3: vase (0.09)\n",
      "4: coffeepot (0.06)\n",
      "5: analog_clock (0.05)\n",
      "Found 'watch' with probability 0.05\n",
      "image_save_path_good good_watch_folder\\4f4953801d4f947d3af12c7588c912e9.png\n",
      "1: television (0.21)\n",
      "2: hook (0.08)\n",
      "3: wallet (0.07)\n",
      "4: folding_chair (0.06)\n",
      "5: mailbag (0.06)\n",
      "image_save_path_bad bad_watch_folder\\4fe173862742c52cd9eeb86206588cf5.png\n",
      "1: stopwatch (0.88)\n",
      "2: analog_clock (0.08)\n",
      "3: digital_watch (0.03)\n",
      "4: magnetic_compass (0.00)\n",
      "5: barometer (0.00)\n",
      "Found 'watch' with probability 0.88\n",
      "image_save_path_good good_watch_folder\\50f4b24f972b4b25a4cecc0a1a634263.png\n",
      "1: stopwatch (0.77)\n",
      "2: analog_clock (0.12)\n",
      "3: barometer (0.07)\n",
      "4: magnetic_compass (0.02)\n",
      "5: digital_watch (0.01)\n",
      "Found 'watch' with probability 0.77\n",
      "image_save_path_good good_watch_folder\\51581ab2f2e00266e683413d903dd13c.png\n"
     ]
    },
    {
     "name": "stderr",
     "output_type": "stream",
     "text": [
      "Processing images:  32%|███▏      | 361/1116 [01:09<01:45,  7.18it/s]"
     ]
    },
    {
     "name": "stdout",
     "output_type": "stream",
     "text": [
      "1: stopwatch (0.82)\n",
      "2: barometer (0.08)\n",
      "3: analog_clock (0.05)\n",
      "4: magnetic_compass (0.02)\n",
      "5: digital_watch (0.02)\n",
      "Found 'watch' with probability 0.82\n",
      "image_save_path_good good_watch_folder\\519701814295bb400a1a64dbb53bb6db.png\n",
      "1: analog_clock (0.61)\n",
      "2: stopwatch (0.36)\n",
      "3: wall_clock (0.01)\n",
      "4: digital_watch (0.00)\n",
      "5: barometer (0.00)\n",
      "Found 'watch' with probability 0.61\n",
      "image_save_path_good good_watch_folder\\51c4365b3ed56ae65a34212978282eff.png\n",
      "1: stopwatch (0.72)\n",
      "2: analog_clock (0.20)\n",
      "3: wall_clock (0.02)\n",
      "4: magnetic_compass (0.01)\n",
      "5: barometer (0.01)\n",
      "Found 'watch' with probability 0.72\n",
      "image_save_path_good good_watch_folder\\526976f9c8554629205619442a2bb6a1.png\n",
      "1: stopwatch (0.46)\n",
      "2: analog_clock (0.41)\n",
      "3: barometer (0.08)\n",
      "4: magnetic_compass (0.02)\n",
      "5: wall_clock (0.01)\n",
      "Found 'watch' with probability 0.46\n",
      "image_save_path_good good_watch_folder\\5211a5b974285c05809f5072710ad7de.png\n"
     ]
    },
    {
     "name": "stderr",
     "output_type": "stream",
     "text": [
      "\r",
      "Processing images:  33%|███▎      | 363/1116 [01:09<01:46,  7.07it/s]"
     ]
    },
    {
     "name": "stdout",
     "output_type": "stream",
     "text": [
      "1: stopwatch (0.97)\n",
      "2: digital_watch (0.03)\n",
      "3: analog_clock (0.00)\n",
      "4: barometer (0.00)\n",
      "5: magnetic_compass (0.00)\n",
      "Found 'watch' with probability 0.97\n",
      "image_save_path_good good_watch_folder\\52cf757f867180db08882e93373af22b.png\n",
      "1: web_site (0.07)\n",
      "2: chain (0.06)\n",
      "3: nail (0.04)\n",
      "4: tripod (0.04)\n",
      "5: bubble (0.03)\n",
      "image_save_path_bad bad_watch_folder\\52a1e3c2950400d336423dab6c8cece9.png\n"
     ]
    },
    {
     "name": "stderr",
     "output_type": "stream",
     "text": [
      "Processing images:  33%|███▎      | 367/1116 [01:10<01:57,  6.37it/s]"
     ]
    },
    {
     "name": "stdout",
     "output_type": "stream",
     "text": [
      "1: web_site (0.36)\n",
      "2: digital_clock (0.16)\n",
      "3: stopwatch (0.05)\n",
      "4: analog_clock (0.04)\n",
      "5: nematode (0.02)\n",
      "Found 'watch' with probability 0.16\n",
      "image_save_path_good good_watch_folder\\5307ade599052d7ae2250448470e6617.png\n",
      "1: stopwatch (0.76)\n",
      "2: analog_clock (0.13)\n",
      "3: barometer (0.08)\n",
      "4: magnetic_compass (0.02)\n",
      "5: digital_watch (0.01)\n",
      "Found 'watch' with probability 0.76\n",
      "image_save_path_good good_watch_folder\\533f160ed8eb954b76c06805989bd164.png\n",
      "1: stopwatch (0.98)\n",
      "2: analog_clock (0.00)\n",
      "3: magnetic_compass (0.00)\n",
      "4: barometer (0.00)\n",
      "5: digital_watch (0.00)\n",
      "Found 'watch' with probability 0.98\n",
      "image_save_path_good good_watch_folder\\532ce226e812b45b64efe984d0709c3b.png\n"
     ]
    },
    {
     "name": "stderr",
     "output_type": "stream",
     "text": [
      "\r",
      "Processing images:  33%|███▎      | 369/1116 [01:10<01:34,  7.92it/s]"
     ]
    },
    {
     "name": "stdout",
     "output_type": "stream",
     "text": [
      "1: stopwatch (0.94)\n",
      "2: analog_clock (0.04)\n",
      "3: barometer (0.01)\n",
      "4: digital_watch (0.01)\n",
      "5: magnetic_compass (0.00)\n",
      "Found 'watch' with probability 0.94\n",
      "image_save_path_good good_watch_folder\\53b32d51559d5f1689f529bbf9bdbbe7.png\n"
     ]
    },
    {
     "name": "stderr",
     "output_type": "stream",
     "text": [
      "\r",
      "Processing images:  33%|███▎      | 371/1116 [01:11<02:28,  5.03it/s]"
     ]
    },
    {
     "name": "stdout",
     "output_type": "stream",
     "text": [
      "1: stopwatch (0.52)\n",
      "2: analog_clock (0.41)\n",
      "3: digital_watch (0.03)\n",
      "4: wall_clock (0.01)\n",
      "5: magnetic_compass (0.01)\n",
      "Found 'watch' with probability 0.52\n",
      "image_save_path_good good_watch_folder\\53cd82e314b164141446024bad4ac06a.png\n",
      "1: stopwatch (0.99)\n",
      "2: analog_clock (0.00)\n",
      "3: digital_watch (0.00)\n",
      "4: barometer (0.00)\n",
      "5: magnetic_compass (0.00)\n",
      "Found 'watch' with probability 0.99\n",
      "image_save_path_good good_watch_folder\\53bb71eb50cf064706a46e9d1c4d998a.png\n",
      "1: stopwatch (0.85)\n",
      "2: magnetic_compass (0.09)\n",
      "3: barometer (0.03)\n",
      "4: digital_watch (0.01)\n",
      "5: scale (0.01)\n",
      "Found 'watch' with probability 0.85\n",
      "image_save_path_good good_watch_folder\\53d204896d8d35817e5efd44b3b6706d.png\n"
     ]
    },
    {
     "name": "stderr",
     "output_type": "stream",
     "text": [
      "Processing images:  34%|███▎      | 374/1116 [01:12<03:14,  3.82it/s]"
     ]
    },
    {
     "name": "stdout",
     "output_type": "stream",
     "text": [
      "1: stopwatch (0.67)\n",
      "2: analog_clock (0.11)\n",
      "3: barometer (0.11)\n",
      "4: magnetic_compass (0.10)\n",
      "5: digital_watch (0.01)\n",
      "Found 'watch' with probability 0.67\n",
      "image_save_path_good good_watch_folder\\540ecfddff9934db4630056e30f0b06b.png\n",
      "1: stopwatch (0.98)\n",
      "2: digital_watch (0.01)\n",
      "3: analog_clock (0.01)\n",
      "4: scale (0.00)\n",
      "5: barometer (0.00)\n",
      "Found 'watch' with probability 0.98\n",
      "image_save_path_good good_watch_folder\\550bf8160bb2a316ec5d1c8865dd78bf.png\n",
      "1: stopwatch (0.59)\n",
      "2: analog_clock (0.23)\n",
      "3: digital_watch (0.12)\n",
      "4: barometer (0.03)\n",
      "5: magnetic_compass (0.02)\n",
      "Found 'watch' with probability 0.59\n",
      "image_save_path_good good_watch_folder\\557e9d6748e2ebcdcb2ea75b1535eee9.png\n",
      "1: stopwatch (0.98)\n",
      "2: analog_clock (0.01)\n",
      "3: magnetic_compass (0.00)\n",
      "4: barometer (0.00)\n",
      "5: digital_watch (0.00)\n",
      "Found 'watch' with probability 0.98\n",
      "image_save_path_good good_watch_folder\\55226f5bcb5d6c88e2f9e095bab273b9.png\n",
      "1: stopwatch (0.96)\n",
      "2: digital_watch (0.01)\n",
      "3: analog_clock (0.01)\n",
      "4: barometer (0.01)\n",
      "5: magnetic_compass (0.01)\n",
      "Found 'watch' with probability 0.96\n",
      "image_save_path_good good_watch_folder\\552c393638d798bacb1cb1b2422c377f.png\n",
      "1: analog_clock (0.78)\n",
      "2: barometer (0.10)\n",
      "3: stopwatch (0.06)\n",
      "4: magnetic_compass (0.04)\n",
      "5: wall_clock (0.02)\n",
      "Found 'watch' with probability 0.78\n",
      "image_save_path_good good_watch_folder\\55d7978e17067d13985173e1872d273c.png\n"
     ]
    },
    {
     "name": "stderr",
     "output_type": "stream",
     "text": [
      "\r",
      "Processing images:  34%|███▍      | 377/1116 [01:12<02:46,  4.44it/s]"
     ]
    },
    {
     "name": "stdout",
     "output_type": "stream",
     "text": [
      "1: stopwatch (0.96)\n",
      "2: scale (0.02)\n",
      "3: barometer (0.01)\n",
      "4: analog_clock (0.00)\n",
      "5: digital_watch (0.00)\n",
      "Found 'watch' with probability 0.96\n",
      "image_save_path_good good_watch_folder\\55cd2bfec5728a0061b806fab02dfb36.png\n"
     ]
    },
    {
     "name": "stderr",
     "output_type": "stream",
     "text": [
      "Processing images:  34%|███▍      | 380/1116 [01:13<02:46,  4.43it/s]"
     ]
    },
    {
     "name": "stdout",
     "output_type": "stream",
     "text": [
      "1: stopwatch (0.74)1: red_wine (0.26)\n",
      "2: wine_bottle (0.17)\n",
      "3: mailbag (0.10)\n",
      "4: pay-phone (0.09)\n",
      "5: digital_watch (0.08)\n",
      "Found 'watch' with probability 0.08\n",
      "image_save_path_good good_watch_folder\\5649a4a1bdd2cf8f4a59b3a6f7c373a8.png\n",
      "\n",
      "2: analog_clock (0.24)\n",
      "3: digital_watch (0.01)\n",
      "4: wall_clock (0.00)\n",
      "5: magnetic_compass (0.00)\n",
      "Found 'watch' with probability 0.74\n",
      "image_save_path_good good_watch_folder\\567d931bbc540dbba805af5dfe7e4c37.png\n",
      "1: stopwatch (0.87)\n",
      "2: analog_clock (0.12)\n",
      "3: digital_watch (0.00)\n",
      "4: barometer (0.00)\n",
      "5: wall_clock (0.00)\n",
      "Found 'watch' with probability 0.87\n",
      "image_save_path_good good_watch_folder\\566bb5ecfcd6d5b2b38d114676f99136.png\n"
     ]
    },
    {
     "name": "stderr",
     "output_type": "stream",
     "text": [
      "Processing images:  34%|███▍      | 383/1116 [01:13<01:58,  6.19it/s]"
     ]
    },
    {
     "name": "stdout",
     "output_type": "stream",
     "text": [
      "1: dial_telephone (0.19)\n",
      "2: radio (0.18)\n",
      "3: barometer (0.15)\n",
      "4: pay-phone (0.10)\n",
      "5: cassette_player (0.08)\n",
      "image_save_path_bad bad_watch_folder\\576ba43bd13aaa8f289ac2a81bccd79a.png\n",
      "1: stopwatch (0.90)\n",
      "2: barometer (0.04)\n",
      "3: analog_clock (0.03)\n",
      "4: digital_watch (0.01)\n",
      "5: magnetic_compass (0.01)\n",
      "Found 'watch' with probability 0.90\n",
      "image_save_path_good good_watch_folder\\579ae8e85f601bc43f353e009b02c114.png\n",
      "1: candle (0.08)\n",
      "2: shoji (0.07)\n",
      "3: matchstick (0.06)\n",
      "4: lampshade (0.05)\n",
      "5: pedestal (0.05)\n",
      "image_save_path_bad bad_watch_folder\\57fb197b2e8e6951a485da3337c3afad.png\n",
      "1: analog_clock (0.90)\n",
      "2: stopwatch (0.09)\n",
      "3: wall_clock (0.00)\n",
      "4: digital_watch (0.00)\n",
      "5: magnetic_compass (0.00)\n",
      "Found 'watch' with probability 0.90\n",
      "image_save_path_good good_watch_folder\\57813019ddfcbede162d0abfa12de1c9.png\n",
      "1: stopwatch (1.00)\n",
      "2: analog_clock (0.00)\n",
      "3: digital_watch (0.00)\n",
      "4: barometer (0.00)\n",
      "5: reflex_camera (0.00)\n",
      "Found 'watch' with probability 1.00\n",
      "image_save_path_good good_watch_folder\\57d149e278c991e5e9acd9a7becc292b.png\n"
     ]
    },
    {
     "name": "stderr",
     "output_type": "stream",
     "text": [
      "Processing images:  35%|███▍      | 389/1116 [01:14<01:40,  7.23it/s]"
     ]
    },
    {
     "name": "stdout",
     "output_type": "stream",
     "text": [
      "1: barometer (0.51)\n",
      "2: analog_clock (0.30)\n",
      "3: stopwatch (0.10)\n",
      "4: wine_bottle (0.01)\n",
      "5: wall_clock (0.01)\n",
      "Found 'watch' with probability 0.30\n",
      "image_save_path_good good_watch_folder\\582d25485b25c39c599f69e7b2f706b6.png\n",
      "1: stopwatch (0.88)\n",
      "2: analog_clock (0.10)\n",
      "3: digital_watch (0.01)\n",
      "4: magnetic_compass (0.00)\n",
      "5: wall_clock (0.00)\n",
      "Found 'watch' with probability 0.88\n",
      "image_save_path_good good_watch_folder\\58479998630ea0980fcd9f87a63fc095.png\n",
      "1: stopwatch (0.69)\n",
      "2: analog_clock (0.28)\n",
      "3: barometer (0.01)\n",
      "4: wall_clock (0.01)\n",
      "5: digital_watch (0.01)\n",
      "Found 'watch' with probability 0.69\n",
      "image_save_path_good good_watch_folder\\58c9f001e74a3404e9d7bd47ac193ec6.png\n",
      "1: stopwatch (0.90)\n",
      "2: analog_clock (0.10)\n",
      "3: digital_watch (0.01)\n",
      "4: barometer (0.00)\n",
      "5: wall_clock (0.00)\n",
      "Found 'watch' with probability 0.90\n",
      "image_save_path_good good_watch_folder\\5811338413c792c054b2371f23aa1e0a.png\n",
      "1: analog_clock (0.53)\n",
      "2: stopwatch (0.45)\n",
      "3: barometer (0.01)\n",
      "4: wall_clock (0.01)\n",
      "5: digital_watch (0.00)\n",
      "Found 'watch' with probability 0.53\n",
      "image_save_path_good good_watch_folder\\58bea67a5cb4b07e21cb180694338e5e.png\n"
     ]
    },
    {
     "name": "stderr",
     "output_type": "stream",
     "text": [
      "Processing images:  35%|███▌      | 395/1116 [01:15<01:38,  7.33it/s]"
     ]
    },
    {
     "name": "stdout",
     "output_type": "stream",
     "text": [
      "1: stopwatch (1.00)\n",
      "2: analog_clock (0.00)\n",
      "3: digital_watch (0.00)\n",
      "4: magnetic_compass (0.00)\n",
      "5: reflex_camera (0.00)\n",
      "Found 'watch' with probability 1.00\n",
      "image_save_path_good good_watch_folder\\5a1d297e79282ea1f6391359e1cbccfb.png\n",
      "1: stopwatch (0.94)\n",
      "2: scale (0.02)\n",
      "3: digital_watch (0.01)\n",
      "4: barometer (0.01)\n",
      "5: reflex_camera (0.01)\n",
      "Found 'watch' with probability 0.94\n",
      "image_save_path_good good_watch_folder\\59fb484d83af8d35e4fbaa547de06227.png\n",
      "1: stopwatch (0.99)\n",
      "2: analog_clock (0.00)\n",
      "3: digital_watch (0.00)\n",
      "4: scale (0.00)\n",
      "5: magnetic_compass (0.00)\n",
      "Found 'watch' with probability 0.99\n",
      "image_save_path_good good_watch_folder\\58e9a8abd2a08773a8c5323fb0548338.png\n",
      "1: hourglass (0.29)\n",
      "2: web_site (0.18)\n",
      "3: nematode (0.05)\n",
      "4: envelope (0.03)\n",
      "5: matchstick (0.03)\n",
      "image_save_path_bad bad_watch_folder\\598fd0f80c2eda62997c3213498ef38a.png\n"
     ]
    },
    {
     "name": "stderr",
     "output_type": "stream",
     "text": [
      "\r",
      "Processing images:  35%|███▌      | 396/1116 [01:15<02:05,  5.74it/s]"
     ]
    },
    {
     "name": "stdout",
     "output_type": "stream",
     "text": [
      "1: analog_clock (0.52)\n",
      "2: stopwatch (0.22)\n",
      "3: barometer (0.17)\n",
      "4: magnetic_compass (0.05)\n",
      "5: wall_clock (0.02)\n",
      "Found 'watch' with probability 0.52\n",
      "image_save_path_good good_watch_folder\\5a2e34e2ebf204ab8bfcad75397284cc.png\n"
     ]
    },
    {
     "name": "stderr",
     "output_type": "stream",
     "text": [
      "\r",
      "Processing images:  36%|███▌      | 398/1116 [01:16<01:41,  7.09it/s]"
     ]
    },
    {
     "name": "stdout",
     "output_type": "stream",
     "text": [
      "1: stopwatch (0.99)\n",
      "2: magnetic_compass (0.01)\n",
      "3: digital_watch (0.00)\n",
      "4: analog_clock (0.00)\n",
      "5: barometer (0.00)\n",
      "Found 'watch' with probability 0.99\n",
      "image_save_path_good good_watch_folder\\5a42a6bf99cf56146c9781aa085af5b8.png\n",
      "1: stopwatch (0.90)\n",
      "2: analog_clock (0.03)\n",
      "3: digital_watch (0.03)\n",
      "4: scale (0.01)\n",
      "5: magnetic_compass (0.00)\n",
      "Found 'watch' with probability 0.90\n",
      "image_save_path_good good_watch_folder\\5a77ff14b4de3f1852dc4892c3fa8566.png\n"
     ]
    },
    {
     "name": "stderr",
     "output_type": "stream",
     "text": [
      "\r",
      "Processing images:  36%|███▌      | 399/1116 [01:17<05:09,  2.31it/s]"
     ]
    },
    {
     "name": "stdout",
     "output_type": "stream",
     "text": [
      "1: stopwatch (0.86)\n",
      "2: analog_clock (0.12)\n",
      "3: digital_watch (0.01)\n",
      "4: magnetic_compass (0.00)\n",
      "5: wall_clock (0.00)\n",
      "Found 'watch' with probability 0.86\n",
      "image_save_path_good good_watch_folder\\5b58350fb50784e80f21464339e084fa.png\n",
      "1: analog_clock (0.59)\n",
      "2: stopwatch (0.35)\n",
      "3: wall_clock (0.03)\n",
      "4: digital_watch (0.01)\n",
      "5: magnetic_compass (0.00)\n",
      "Found 'watch' with probability 0.59\n",
      "image_save_path_good good_watch_folder\\5c41cb73ab8723aad28a01119dc54c69.png\n",
      "1: stopwatch (0.83)\n",
      "2: digital_watch (0.05)\n",
      "3: analog_clock (0.04)\n",
      "4: magnetic_compass (0.03)\n",
      "5: barometer (0.01)\n",
      "Found 'watch' with probability 0.83\n",
      "image_save_path_good good_watch_folder\\5a879dd7ffc7c1f7013369aec4c6542b.png\n",
      "1: web_site (0.18)\n",
      "2: abaya (0.08)\n",
      "3: tripod (0.05)\n",
      "4: bannister (0.03)\n",
      "5: shoji (0.03)\n",
      "image_save_path_bad bad_watch_folder\\5e5c064023c97dee0855c748cf105407.png\n",
      "1: stopwatch (0.48)\n",
      "2: analog_clock (0.43)\n",
      "3: digital_watch (0.03)\n",
      "4: barometer (0.02)\n",
      "5: wall_clock (0.02)\n",
      "Found 'watch' with probability 0.48\n",
      "image_save_path_good good_watch_folder\\5e1166d0dfbeb2c7fc187ca21fded705.png\n",
      "1: stopwatch (0.92)\n",
      "2: analog_clock (0.05)\n",
      "3: digital_watch (0.02)\n",
      "4: barometer (0.01)\n",
      "5: magnetic_compass (0.01)\n",
      "Found 'watch' with probability 0.92\n",
      "image_save_path_good good_watch_folder\\5d023c64fc20427025948649d4f001b4.png\n",
      "1: stopwatch (0.96)\n",
      "2: digital_watch (0.03)\n",
      "3: analog_clock (0.01)\n",
      "4: barometer (0.00)\n",
      "5: magnetic_compass (0.00)\n",
      "Found 'watch' with probability 0.96\n",
      "image_save_path_good good_watch_folder\\5ced17b39513dfb0fa5b4f611a8bb3f2.png\n",
      "1: stopwatch (0.95)\n",
      "2: analog_clock (0.05)\n",
      "3: digital_watch (0.00)\n",
      "4: magnetic_compass (0.00)\n",
      "5: barometer (0.00)\n",
      "Found 'watch' with probability 0.95\n",
      "image_save_path_good good_watch_folder\\5d214f4a8e6136765005784bbecac826.png\n",
      "1: stopwatch (0.75)\n",
      "2: analog_clock (0.21)\n",
      "3: barometer (0.01)\n",
      "4: magnetic_compass (0.01)\n",
      "5: digital_watch (0.01)\n",
      "Found 'watch' with probability 0.75\n",
      "image_save_path_good good_watch_folder\\5ae6278ab530ceb5bebd968767ebb0ef.png\n",
      "1: stopwatch (0.97)\n",
      "2: analog_clock (0.01)\n",
      "3: digital_watch (0.01)\n",
      "4: barometer (0.00)\n",
      "5: magnetic_compass (0.00)\n",
      "Found 'watch' with probability 0.97\n",
      "image_save_path_good good_watch_folder\\5c3985a927fa8acfeff604981344b876.png\n",
      "1: stopwatch (0.77)\n",
      "2: magnetic_compass (0.14)\n",
      "3: barometer (0.05)\n",
      "4: analog_clock (0.03)\n",
      "5: digital_watch (0.01)\n",
      "Found 'watch' with probability 0.77\n",
      "image_save_path_good good_watch_folder\\5c90bb4f896ff6208d491337d5233695.png\n",
      "1: analog_clock (0.49)\n",
      "2: stopwatch (0.46)\n",
      "3: barometer (0.03)\n",
      "4: wall_clock (0.00)\n",
      "5: digital_watch (0.00)\n",
      "Found 'watch' with probability 0.49\n",
      "image_save_path_good good_watch_folder\\5e3cd04024d9c880e53c30103ca947ae.png\n"
     ]
    },
    {
     "name": "stderr",
     "output_type": "stream",
     "text": [
      "Processing images:  37%|███▋      | 413/1116 [01:18<01:01, 11.35it/s]"
     ]
    },
    {
     "name": "stdout",
     "output_type": "stream",
     "text": [
      "1: stopwatch (0.88)\n",
      "2: analog_clock (0.09)\n",
      "3: magnetic_compass (0.01)\n",
      "4: digital_watch (0.01)\n",
      "5: wall_clock (0.00)\n",
      "Found 'watch' with probability 0.88\n",
      "image_save_path_good good_watch_folder\\5f5b392211ba4452db4c726af77258d7.png\n",
      "1: stopwatch (0.91)\n",
      "2: analog_clock (0.04)\n",
      "3: magnetic_compass (0.03)\n",
      "4: digital_watch (0.01)\n",
      "5: barometer (0.01)\n",
      "Found 'watch' with probability 0.91\n",
      "image_save_path_good good_watch_folder\\5f5ca9a32d28db9c1018bfa5439311e4.png\n"
     ]
    },
    {
     "name": "stderr",
     "output_type": "stream",
     "text": [
      "\r",
      "Processing images:  37%|███▋      | 415/1116 [01:18<01:17,  9.09it/s]"
     ]
    },
    {
     "name": "stdout",
     "output_type": "stream",
     "text": [
      "1: stopwatch (0.35)\n",
      "2: magnetic_compass (0.23)\n",
      "3: scale (0.14)\n",
      "4: digital_watch (0.12)\n",
      "5: barometer (0.04)\n",
      "Found 'watch' with probability 0.35\n",
      "image_save_path_good good_watch_folder\\5f966952605ea8ed9437d70571da665f.png\n",
      "1: stopwatch (0.76)\n",
      "2: barometer (0.17)\n",
      "3: analog_clock (0.02)\n",
      "4: magnetic_compass (0.01)\n",
      "5: digital_watch (0.01)\n",
      "Found 'watch' with probability 0.76\n",
      "image_save_path_good good_watch_folder\\608e0ce45a6484c4153e98044a382ecf.png\n",
      "1: stopwatch (0.79)\n",
      "2: magnetic_compass (0.09)\n",
      "3: digital_watch (0.05)\n",
      "4: barometer (0.04)\n",
      "5: analog_clock (0.02)\n",
      "Found 'watch' with probability 0.79\n",
      "image_save_path_good good_watch_folder\\60a7262aaa0152c37b4a099824d31de6.png\n",
      "1: web_site (0.57)\n",
      "2: abacus (0.21)\n",
      "3: honeycomb (0.12)\n",
      "4: computer_keyboard (0.01)\n",
      "5: space_bar (0.01)\n",
      "image_save_path_bad bad_watch_folder\\60c1a0d4155f55cfb44ec807d3cd7c1a.png\n"
     ]
    },
    {
     "name": "stderr",
     "output_type": "stream",
     "text": [
      "\r",
      "Processing images:  37%|███▋      | 417/1116 [01:19<02:05,  5.58it/s]"
     ]
    },
    {
     "name": "stdout",
     "output_type": "stream",
     "text": [
      "1: stopwatch (0.86)\n",
      "2: analog_clock (0.09)\n",
      "3: magnetic_compass (0.01)\n",
      "4: digital_watch (0.01)\n",
      "5: barometer (0.01)\n",
      "Found 'watch' with probability 0.86\n",
      "image_save_path_good good_watch_folder\\6142c20ea7d61787820d19a77564573b.png\n",
      "Error: 'Functional' object has no attribute 'predict_function'\n",
      "Error: 'Functional' object has no attribute 'predict_function'\n",
      "Error: 'Functional' object has no attribute 'predict_function'\n"
     ]
    },
    {
     "name": "stderr",
     "output_type": "stream",
     "text": [
      "Processing images:  38%|███▊      | 422/1116 [01:20<01:38,  7.05it/s]"
     ]
    },
    {
     "name": "stdout",
     "output_type": "stream",
     "text": [
      "1: stopwatch (0.87)\n",
      "2: analog_clock (0.06)\n",
      "3: digital_watch (0.03)\n",
      "4: magnetic_compass (0.03)\n",
      "5: barometer (0.01)\n",
      "Found 'watch' with probability 0.87\n",
      "image_save_path_good good_watch_folder\\610bff2fbdc9728cf77d358a6b277308.png\n"
     ]
    },
    {
     "name": "stderr",
     "output_type": "stream",
     "text": [
      "\r",
      "Processing images:  38%|███▊      | 424/1116 [01:20<01:39,  6.99it/s]"
     ]
    },
    {
     "name": "stdout",
     "output_type": "stream",
     "text": [
      "1: stopwatch (0.92)\n",
      "2: analog_clock (0.04)\n",
      "3: barometer (0.02)\n",
      "4: digital_watch (0.01)\n",
      "5: scale (0.00)\n",
      "Found 'watch' with probability 0.92\n",
      "image_save_path_good good_watch_folder\\60c1d2e24dbb29f5dd66011c4adcec9d.png\n",
      "1: stopwatch (0.72)\n",
      "2: analog_clock (0.08)\n",
      "3: digital_watch (0.07)\n",
      "4: magnetic_compass (0.06)\n",
      "5: barometer (0.06)\n",
      "Found 'watch' with probability 0.72\n",
      "image_save_path_good good_watch_folder\\60b4dfd4f140cca0fb5aeefe01cec3b3.png\n",
      "1: analog_clock (0.87)\n",
      "2: stopwatch (0.11)\n",
      "3: wall_clock (0.01)\n",
      "4: digital_watch (0.01)\n",
      "5: magnetic_compass (0.00)\n",
      "Found 'watch' with probability 0.87\n",
      "image_save_path_good good_watch_folder\\62802e7029f42af349ee519b9014817b.png\n"
     ]
    },
    {
     "name": "stderr",
     "output_type": "stream",
     "text": [
      "Processing images:  38%|███▊      | 426/1116 [01:21<02:16,  5.06it/s]"
     ]
    },
    {
     "name": "stdout",
     "output_type": "stream",
     "text": [
      "1: stopwatch (0.92)\n",
      "2: analog_clock (0.05)\n",
      "3: digital_watch (0.02)\n",
      "4: magnetic_compass (0.00)\n",
      "5: barometer (0.00)\n",
      "Found 'watch' with probability 0.92\n",
      "image_save_path_good good_watch_folder\\62ca9849f52a0575b2007e4ee0fa548e.png\n"
     ]
    },
    {
     "name": "stderr",
     "output_type": "stream",
     "text": [
      "Processing images:  38%|███▊      | 429/1116 [01:21<01:51,  6.17it/s]"
     ]
    },
    {
     "name": "stdout",
     "output_type": "stream",
     "text": [
      "1: stopwatch (0.98)\n",
      "2: analog_clock (0.01)\n",
      "3: digital_watch (0.00)\n",
      "4: barometer (0.00)\n",
      "5: magnetic_compass (0.00)\n",
      "Found 'watch' with probability 0.98\n",
      "image_save_path_good good_watch_folder\\638348a23ae8dfa9bd30957f8c5a5324.png\n",
      "1: analog_clock (0.47)\n",
      "2: stopwatch (0.45)\n",
      "3: barometer (0.06)\n",
      "4: digital_watch (0.01)\n",
      "5: magnetic_compass (0.00)\n",
      "Found 'watch' with probability 0.47\n",
      "image_save_path_good good_watch_folder\\63d2df37127a38c24c6d16165e9f9dfa.png\n"
     ]
    },
    {
     "name": "stderr",
     "output_type": "stream",
     "text": [
      "\r",
      "Processing images:  39%|███▊      | 430/1116 [01:21<02:33,  4.48it/s]"
     ]
    },
    {
     "name": "stdout",
     "output_type": "stream",
     "text": [
      "1: stopwatch (0.58)\n",
      "2: analog_clock (0.20)\n",
      "3: barometer (0.19)\n",
      "4: wall_clock (0.01)\n",
      "5: digital_watch (0.00)\n",
      "Found 'watch' with probability 0.58\n",
      "image_save_path_good good_watch_folder\\6315da4f76f17da39a973ba089b39c66.png\n",
      "1: web_site (0.26)\n",
      "2: can_opener (0.11)\n",
      "3: lighter (0.05)\n",
      "4: whistle (0.05)\n",
      "5: safety_pin (0.04)\n",
      "image_save_path_bad bad_watch_folder\\63868e326a6c748a293a4fb3a0f00b88.png\n"
     ]
    },
    {
     "name": "stderr",
     "output_type": "stream",
     "text": [
      "Processing images:  39%|███▊      | 432/1116 [01:22<02:34,  4.43it/s]"
     ]
    },
    {
     "name": "stdout",
     "output_type": "stream",
     "text": [
      "1: stopwatch (1.00)\n",
      "2: analog_clock (0.00)\n",
      "3: digital_watch (0.00)\n",
      "4: magnetic_compass (0.00)\n",
      "5: barometer (0.00)\n",
      "Found 'watch' with probability 1.00\n",
      "image_save_path_good good_watch_folder\\5f9300b48099bcfbfe075bb7774cba22.png\n",
      "1: analog_clock (0.90)\n",
      "2: stopwatch (0.09)\n",
      "3: wall_clock (0.01)\n",
      "4: barometer (0.00)\n",
      "5: digital_watch (0.00)\n",
      "Found 'watch' with probability 0.90\n",
      "image_save_path_good good_watch_folder\\64f26435418fe17f94c78994df66021b.png\n",
      "1: stopwatch (0.61)\n",
      "2: digital_watch (0.20)\n",
      "3: analog_clock (0.14)\n",
      "4: reflex_camera (0.02)\n",
      "5: magnetic_compass (0.01)\n",
      "Found 'watch' with probability 0.61\n",
      "image_save_path_good good_watch_folder\\64186d9a57d090a41790947ffd20d761.png\n",
      "1: stopwatch (0.91)\n",
      "2: digital_watch (0.04)\n",
      "3: analog_clock (0.03)\n",
      "4: magnetic_compass (0.00)\n",
      "5: barometer (0.00)\n",
      "Found 'watch' with probability 0.91\n",
      "image_save_path_good good_watch_folder\\648de71ccd6253d3b0c0fc1b9821ce32.png\n",
      "1: analog_clock (0.43)\n",
      "2: stopwatch (0.40)\n",
      "3: barometer (0.12)\n",
      "4: digital_watch (0.02)\n",
      "5: magnetic_compass (0.02)\n",
      "Found 'watch' with probability 0.43\n",
      "image_save_path_good good_watch_folder\\642c7547e82fd8f7e515bc23aba48f8d.png\n",
      "1: stopwatch (0.71)\n",
      "2: analog_clock (0.19)\n",
      "3: barometer (0.05)\n",
      "4: digital_watch (0.03)\n",
      "5: magnetic_compass (0.01)\n",
      "Found 'watch' with probability 0.71\n",
      "image_save_path_good good_watch_folder\\6631aff82a5b08239fa315b47eb29bbc.png\n",
      "1: stopwatch (0.76)\n",
      "2: analog_clock (0.18)\n",
      "3: magnetic_compass (0.02)\n",
      "4: digital_watch (0.01)\n",
      "5: wall_clock (0.01)\n",
      "Found 'watch' with probability 0.76\n",
      "image_save_path_good good_watch_folder\\6484dcfb08a5406f43e5d63bc7981c08.png\n",
      "1: stopwatch (0.98)\n",
      "2: analog_clock (0.01)\n",
      "3: magnetic_compass (0.01)\n",
      "4: barometer (0.00)\n",
      "5: digital_watch (0.00)\n",
      "Found 'watch' with probability 0.98\n",
      "image_save_path_good good_watch_folder\\64ee1c505463b287e23ee9685815247e.png\n",
      "1: analog_clock (0.48)\n",
      "2: barometer (0.24)\n",
      "3: stopwatch (0.14)\n",
      "4: digital_watch (0.06)\n",
      "5: magnetic_compass (0.03)\n",
      "Found 'watch' with probability 0.48\n",
      "image_save_path_good good_watch_folder\\66229b06c8eb502e75e8cf796c02f509.png\n"
     ]
    },
    {
     "name": "stderr",
     "output_type": "stream",
     "text": [
      "Processing images:  39%|███▉      | 439/1116 [01:23<01:14,  9.05it/s]"
     ]
    },
    {
     "name": "stdout",
     "output_type": "stream",
     "text": [
      "1: stopwatch (0.89)\n",
      "2: analog_clock (0.04)\n",
      "3: barometer (0.03)\n",
      "4: digital_watch (0.02)\n",
      "5: magnetic_compass (0.01)\n",
      "Found 'watch' with probability 0.89\n",
      "image_save_path_good good_watch_folder\\67ec246e1ab2a3ffcdc2f1c5ad2726a2.png\n",
      "1: stopwatch (0.48)\n",
      "2: barometer (0.37)\n",
      "3: analog_clock (0.14)\n",
      "4: digital_watch (0.01)\n",
      "5: magnetic_compass (0.00)\n",
      "Found 'watch' with probability 0.48\n",
      "image_save_path_good good_watch_folder\\67ddfad635d5d826bd32d57cc9b4364a.png\n",
      "1: stopwatch (1.00)\n",
      "2: analog_clock (0.00)\n",
      "3: digital_watch (0.00)\n",
      "4: magnetic_compass (0.00)\n",
      "5: reflex_camera (0.00)\n",
      "Found 'watch' with probability 1.00\n",
      "image_save_path_good good_watch_folder\\66d85df852b6934d58b636e23382f368.png\n"
     ]
    },
    {
     "name": "stderr",
     "output_type": "stream",
     "text": [
      "\r",
      "Processing images:  40%|███▉      | 442/1116 [01:23<01:00, 11.08it/s]"
     ]
    },
    {
     "name": "stdout",
     "output_type": "stream",
     "text": [
      "1: stopwatch (0.46)\n",
      "2: analog_clock (0.25)\n",
      "3: magnetic_compass (0.17)\n",
      "4: digital_watch (0.06)\n",
      "5: radio (0.01)\n",
      "Found 'watch' with probability 0.46\n",
      "image_save_path_good good_watch_folder\\67c73d83b67be5516f6b40eeea672b87.png\n"
     ]
    },
    {
     "name": "stderr",
     "output_type": "stream",
     "text": [
      "Processing images:  40%|███▉      | 446/1116 [01:24<01:46,  6.29it/s]"
     ]
    },
    {
     "name": "stdout",
     "output_type": "stream",
     "text": [
      "1: stopwatch (0.54)\n",
      "2: analog_clock (0.24)\n",
      "3: wall_clock (0.08)\n",
      "4: barometer (0.07)\n",
      "5: odometer (0.02)\n",
      "Found 'watch' with probability 0.54\n",
      "image_save_path_good good_watch_folder\\6586d308ea233795a4f97fb418c7c739.png\n",
      "1: bubble (0.10)\n",
      "2: padlock (0.05)\n",
      "3: bannister (0.03)\n",
      "4: hook (0.03)\n",
      "5: abaya (0.03)\n",
      "image_save_path_bad bad_watch_folder\\6805502080bf26ada7188ee04653691a.png\n",
      "1: stopwatch (0.79)\n",
      "2: analog_clock (0.17)\n",
      "3: digital_watch (0.02)\n",
      "4: barometer (0.01)\n",
      "5: magnetic_compass (0.00)\n",
      "Found 'watch' with probability 0.79\n",
      "image_save_path_good good_watch_folder\\68051adc159479a97d23b290a0d136e4.png\n",
      "1: stopwatch (0.70)\n",
      "2: magnetic_compass (0.21)\n",
      "3: analog_clock (0.04)\n",
      "4: barometer (0.02)\n",
      "5: digital_watch (0.01)\n",
      "Found 'watch' with probability 0.70\n",
      "image_save_path_good good_watch_folder\\67f858c507ecebcfda24fa3dcab64053.png\n"
     ]
    },
    {
     "name": "stderr",
     "output_type": "stream",
     "text": [
      "Processing images:  40%|████      | 449/1116 [01:25<02:12,  5.04it/s]"
     ]
    },
    {
     "name": "stdout",
     "output_type": "stream",
     "text": [
      "1: digital_watch (0.33)\n",
      "2: analog_clock (0.16)\n",
      "3: buckle (0.04)\n",
      "4: abaya (0.04)\n",
      "5: stopwatch (0.04)\n",
      "Found 'watch' with probability 0.33\n",
      "image_save_path_good good_watch_folder\\6873a3f58d2df8131c8bab058a2824eb.png\n",
      "1: stopwatch (1.00)\n",
      "2: digital_watch (0.00)\n",
      "3: analog_clock (0.00)\n",
      "4: magnetic_compass (0.00)\n",
      "5: barometer (0.00)\n",
      "Found 'watch' with probability 1.00\n",
      "image_save_path_good good_watch_folder\\68e2f734709fd502a1323b633d71e8fa.png\n",
      "1: stopwatch (0.96)\n",
      "2: digital_watch (0.02)\n",
      "3: analog_clock (0.01)\n",
      "4: barometer (0.00)\n",
      "5: magnetic_compass (0.00)\n",
      "Found 'watch' with probability 0.96\n",
      "image_save_path_good good_watch_folder\\68f72a548f0155ea61d1f4376575c6bb.png\n",
      "1: stopwatch (0.98)\n",
      "2: analog_clock (0.02)\n",
      "3: digital_watch (0.00)\n",
      "4: barometer (0.00)\n",
      "5: magnetic_compass (0.00)\n",
      "Found 'watch' with probability 0.98\n",
      "image_save_path_good good_watch_folder\\68987b630c7883b5df115628e21d03e5.png\n",
      "1: stopwatch (0.94)\n",
      "2: magnetic_compass (0.03)\n",
      "3: analog_clock (0.01)\n",
      "4: digital_watch (0.01)\n",
      "5: barometer (0.01)\n",
      "Found 'watch' with probability 0.94\n",
      "image_save_path_good good_watch_folder\\6a409735a4572dc5dab793531f8084b0.png\n",
      "1: stopwatch (0.73)\n",
      "2: scale (0.21)\n",
      "3: barometer (0.02)\n",
      "4: analog_clock (0.02)\n",
      "5: digital_watch (0.01)\n",
      "Found 'watch' with probability 0.73\n",
      "image_save_path_good good_watch_folder\\698d7c6c46bb232a74c63c69063e26d1.png\n"
     ]
    },
    {
     "name": "stderr",
     "output_type": "stream",
     "text": [
      "Processing images:  40%|████      | 451/1116 [01:25<02:11,  5.06it/s]"
     ]
    },
    {
     "name": "stdout",
     "output_type": "stream",
     "text": [
      "1: analog_clock (0.81)\n",
      "2: stopwatch (0.16)\n",
      "3: barometer (0.02)\n",
      "4: wall_clock (0.00)\n",
      "5: digital_watch (0.00)\n",
      "Found 'watch' with probability 0.81\n",
      "image_save_path_good good_watch_folder\\69f36f5da4ca7f66de7b0795a7b8a76d.png\n",
      "1: stopwatch (0.80)\n",
      "2: digital_watch (0.12)\n",
      "3: analog_clock (0.07)\n",
      "4: reflex_camera (0.00)\n",
      "5: magnetic_compass (0.00)\n",
      "Found 'watch' with probability 0.80\n",
      "image_save_path_good good_watch_folder\\69eb6985e65313b28fd988c2dfc23cc9.png\n"
     ]
    },
    {
     "name": "stderr",
     "output_type": "stream",
     "text": [
      "Processing images:  41%|████      | 458/1116 [01:26<01:04, 10.21it/s]"
     ]
    },
    {
     "name": "stdout",
     "output_type": "stream",
     "text": [
      "1: analog_clock (0.42)\n",
      "2: barometer (0.38)\n",
      "3: stopwatch (0.09)\n",
      "4: wall_clock (0.07)\n",
      "5: magnetic_compass (0.02)\n",
      "Found 'watch' with probability 0.42\n",
      "image_save_path_good good_watch_folder\\6a65bafce7ee4018c6befc0de4afcc00.png\n",
      "1: stopwatch (0.65)\n",
      "2: analog_clock (0.21)\n",
      "3: barometer (0.10)\n",
      "4: magnetic_compass (0.01)\n",
      "5: digital_watch (0.01)\n",
      "Found 'watch' with probability 0.65\n",
      "image_save_path_good good_watch_folder\\6a41d4898c7ff2eb17241bb3b68404ad.png\n",
      "1: stopwatch (0.97)1: analog_clock (0.62)\n",
      "2: stopwatch (0.36)\n",
      "3: digital_watch (0.01)\n",
      "4: wall_clock (0.01)\n",
      "5: barometer (0.00)\n",
      "Found 'watch' with probability 0.62\n",
      "image_save_path_good good_watch_folder\\6ba90a8c31224dc7c2e2a93710843d71.png\n",
      "\n",
      "2: analog_clock (0.01)\n",
      "3: barometer (0.01)\n",
      "4: scale (0.00)\n",
      "5: digital_watch (0.00)\n",
      "Found 'watch' with probability 0.97\n",
      "image_save_path_good good_watch_folder\\6ada7aba9f87a29f2f218b5bb826fc5d.png\n",
      "1: stopwatch (0.98)\n",
      "2: analog_clock (0.01)\n",
      "3: barometer (0.00)\n",
      "4: magnetic_compass (0.00)\n",
      "5: digital_watch (0.00)\n",
      "Found 'watch' with probability 0.98\n",
      "image_save_path_good good_watch_folder\\6b3f3288a6893280c10f88c2dde7bae7.png\n"
     ]
    },
    {
     "name": "stderr",
     "output_type": "stream",
     "text": [
      "Processing images:  41%|████▏     | 463/1116 [01:27<01:34,  6.92it/s]"
     ]
    },
    {
     "name": "stdout",
     "output_type": "stream",
     "text": [
      "1: stopwatch (0.78)\n",
      "2: analog_clock (0.20)\n",
      "3: digital_watch (0.01)\n",
      "4: wall_clock (0.00)\n",
      "5: barometer (0.00)\n",
      "Found 'watch' with probability 0.78\n",
      "image_save_path_good good_watch_folder\\6b9176ebad6944ee3ae73747d0571ed9.png\n",
      "1: analog_clock (0.61)\n",
      "2: stopwatch (0.36)\n",
      "3: barometer (0.02)\n",
      "4: wall_clock (0.01)\n",
      "5: digital_watch (0.00)\n",
      "Found 'watch' with probability 0.61\n",
      "image_save_path_good good_watch_folder\\6bb3a73d411c2a7105dbde2d6852430d.png\n",
      "1: stopwatch (0.89)\n",
      "2: analog_clock (0.07)\n",
      "3: barometer (0.02)\n",
      "4: digital_watch (0.01)\n",
      "5: magnetic_compass (0.01)\n",
      "Found 'watch' with probability 0.89\n",
      "image_save_path_good good_watch_folder\\6ba94dbbb7bc05a751dea1e602fe3cad.png\n",
      "1: stopwatch (0.88)\n",
      "2: magnetic_compass (0.11)\n",
      "3: digital_watch (0.00)\n",
      "4: scale (0.00)\n",
      "5: barometer (0.00)\n",
      "Found 'watch' with probability 0.88\n",
      "image_save_path_good good_watch_folder\\6ba9cb0c26cefbffc09b1e88427f5f70.png\n"
     ]
    },
    {
     "name": "stderr",
     "output_type": "stream",
     "text": [
      "\r",
      "Processing images:  42%|████▏     | 465/1116 [01:27<02:06,  5.15it/s]"
     ]
    },
    {
     "name": "stdout",
     "output_type": "stream",
     "text": [
      "1: stopwatch (0.85)\n",
      "2: magnetic_compass (0.11)\n",
      "3: digital_watch (0.02)\n",
      "4: analog_clock (0.02)\n",
      "5: combination_lock (0.00)\n",
      "Found 'watch' with probability 0.85\n",
      "image_save_path_good good_watch_folder\\6baaad7a516f535b4fc0d0451cca3d16.png\n"
     ]
    },
    {
     "name": "stderr",
     "output_type": "stream",
     "text": [
      "\r",
      "Processing images:  42%|████▏     | 467/1116 [01:28<02:07,  5.09it/s]"
     ]
    },
    {
     "name": "stdout",
     "output_type": "stream",
     "text": [
      "1: barometer (0.60)\n",
      "2: analog_clock (0.23)\n",
      "3: stopwatch (0.09)\n",
      "4: digital_watch (0.03)\n",
      "5: scale (0.03)\n",
      "Found 'watch' with probability 0.23\n",
      "image_save_path_good good_watch_folder\\6c0dd1d29d6ef2910ae664c5dce16b9d.png\n",
      "1: stopwatch (0.96)\n",
      "2: analog_clock (0.03)\n",
      "3: barometer (0.01)\n",
      "4: magnetic_compass (0.00)\n",
      "5: digital_watch (0.00)\n",
      "Found 'watch' with probability 0.96\n",
      "image_save_path_good good_watch_folder\\6bc064234602f1b99b18b607d9cbbc4b.png\n",
      "1: analog_clock (0.62)\n",
      "2: stopwatch (0.28)\n",
      "3: barometer (0.06)\n",
      "4: wall_clock (0.03)\n",
      "5: digital_watch (0.00)\n",
      "Found 'watch' with probability 0.62\n",
      "image_save_path_good good_watch_folder\\6c0506453711e52ecc8f5120fa11ce4d.png\n",
      "1: stopwatch (0.90)\n",
      "2: analog_clock (0.07)\n",
      "3: barometer (0.02)\n",
      "4: digital_watch (0.01)\n",
      "5: magnetic_compass (0.00)\n",
      "Found 'watch' with probability 0.90\n",
      "image_save_path_good good_watch_folder\\6bfecf262b39b51083694140541637e5.png\n"
     ]
    },
    {
     "name": "stderr",
     "output_type": "stream",
     "text": [
      "\r",
      "Processing images:  42%|████▏     | 468/1116 [01:28<02:08,  5.03it/s]"
     ]
    },
    {
     "name": "stdout",
     "output_type": "stream",
     "text": [
      "1: magnetic_compass (0.70)\n",
      "2: spotlight (0.13)\n",
      "3: stopwatch (0.12)\n",
      "4: digital_watch (0.02)\n",
      "5: barometer (0.01)\n",
      "Found 'watch' with probability 0.12\n",
      "image_save_path_good good_watch_folder\\6d0feb4b4c5f56ce8fa54295f059608d.png\n",
      "1: stopwatch (1.00)\n",
      "2: magnetic_compass (0.00)\n",
      "3: digital_watch (0.00)\n",
      "4: barometer (0.00)\n",
      "5: analog_clock (0.00)\n",
      "Found 'watch' with probability 1.00\n",
      "image_save_path_good good_watch_folder\\6c87715f87c1cb33a7da44b05de1cef5.png\n"
     ]
    },
    {
     "name": "stderr",
     "output_type": "stream",
     "text": [
      "Processing images:  42%|████▏     | 473/1116 [01:29<01:17,  8.25it/s]"
     ]
    },
    {
     "name": "stdout",
     "output_type": "stream",
     "text": [
      "1: matchstick (0.15)\n",
      "2: bubble (0.05)\n",
      "3: hook (0.04)\n",
      "4: lampshade (0.04)\n",
      "5: nail (0.04)\n",
      "image_save_path_bad bad_watch_folder\\6d48e69b1227d2e774493052469eb2e1.png\n",
      "1: stopwatch (0.88)\n",
      "2: analog_clock (0.10)\n",
      "3: barometer (0.01)\n",
      "4: digital_watch (0.00)\n",
      "5: magnetic_compass (0.00)\n",
      "Found 'watch' with probability 0.88\n",
      "image_save_path_good good_watch_folder\\6cee0411fe9f8661e4f7c86e12e0cd6c.png\n",
      "1: stopwatch (0.99)\n",
      "2: digital_watch (0.00)\n",
      "3: analog_clock (0.00)\n",
      "4: reflex_camera (0.00)\n",
      "5: magnetic_compass (0.00)\n",
      "Found 'watch' with probability 0.99\n",
      "image_save_path_good good_watch_folder\\6cf2ad602a455c519bd452c2afba48f8.png\n"
     ]
    },
    {
     "name": "stderr",
     "output_type": "stream",
     "text": [
      "\r",
      "Processing images:  43%|████▎     | 475/1116 [01:29<01:20,  7.92it/s]"
     ]
    },
    {
     "name": "stdout",
     "output_type": "stream",
     "text": [
      "1: stopwatch (0.89)\n",
      "2: digital_watch (0.06)\n",
      "3: analog_clock (0.04)\n",
      "4: barometer (0.00)\n",
      "5: reflex_camera (0.00)\n",
      "Found 'watch' with probability 0.89\n",
      "image_save_path_good good_watch_folder\\6dc40ef4eaa5587a5634424c580b4270.png\n"
     ]
    },
    {
     "name": "stderr",
     "output_type": "stream",
     "text": [
      "\r",
      "Processing images:  43%|████▎     | 477/1116 [01:29<01:29,  7.15it/s]"
     ]
    },
    {
     "name": "stdout",
     "output_type": "stream",
     "text": [
      "1: stopwatch (0.72)\n",
      "2: digital_watch (0.10)\n",
      "3: analog_clock (0.06)\n",
      "4: barometer (0.03)\n",
      "5: reflex_camera (0.02)\n",
      "Found 'watch' with probability 0.72\n",
      "image_save_path_good good_watch_folder\\6dd4912e3589cde45f1f6a69d59e2810.png\n",
      "1: stopwatch (0.71)\n",
      "2: analog_clock (0.26)\n",
      "3: barometer (0.02)\n",
      "4: digital_watch (0.00)\n",
      "5: wall_clock (0.00)\n",
      "Found 'watch' with probability 0.71\n",
      "image_save_path_good good_watch_folder\\6ddf8f02dd61e4606cd5c407e788aed8.png\n"
     ]
    },
    {
     "name": "stderr",
     "output_type": "stream",
     "text": [
      "\r",
      "Processing images:  43%|████▎     | 479/1116 [01:30<01:43,  6.16it/s]"
     ]
    },
    {
     "name": "stdout",
     "output_type": "stream",
     "text": [
      "1: stopwatch (0.57)\n",
      "2: barometer (0.21)\n",
      "3: analog_clock (0.18)\n",
      "4: digital_watch (0.03)\n",
      "5: magnetic_compass (0.01)\n",
      "Found 'watch' with probability 0.57\n",
      "image_save_path_good good_watch_folder\\6dc910538cbea544b591682150cc544d.png\n",
      "1: stopwatch (0.85)\n",
      "2: digital_watch (0.09)\n",
      "3: analog_clock (0.05)\n",
      "4: wall_clock (0.00)\n",
      "5: barometer (0.00)\n",
      "Found 'watch' with probability 0.85\n",
      "image_save_path_good good_watch_folder\\6df0f5336acfb86f65633d27beb8c0d9.png\n"
     ]
    },
    {
     "name": "stderr",
     "output_type": "stream",
     "text": [
      "\r",
      "Processing images:  43%|████▎     | 480/1116 [01:30<02:32,  4.16it/s]"
     ]
    },
    {
     "name": "stdout",
     "output_type": "stream",
     "text": [
      "1: analog_clock (0.55)\n",
      "2: stopwatch (0.40)\n",
      "3: wall_clock (0.03)\n",
      "4: magnetic_compass (0.01)\n",
      "5: digital_watch (0.00)\n",
      "Found 'watch' with probability 0.55\n",
      "image_save_path_good good_watch_folder\\6dfe5914f52a826cddec3030b99e0f6c.png\n",
      "1: stopwatch (0.39)\n",
      "2: barometer (0.35)\n",
      "3: analog_clock (0.25)\n",
      "4: digital_watch (0.00)\n",
      "5: scale (0.00)\n",
      "Found 'watch' with probability 0.39\n",
      "image_save_path_good good_watch_folder\\7016aa63df695d005459cfe4c63c70e5.png\n",
      "1: stopwatch (0.95)\n",
      "2: magnetic_compass (0.02)\n",
      "3: analog_clock (0.01)\n",
      "4: digital_watch (0.00)\n",
      "5: barometer (0.00)\n",
      "Found 'watch' with probability 0.95\n",
      "image_save_path_good good_watch_folder\\6f2364d8053b35711eff02611dd57d20.png\n"
     ]
    },
    {
     "name": "stderr",
     "output_type": "stream",
     "text": [
      "\r",
      "Processing images:  43%|████▎     | 481/1116 [01:31<02:38,  4.01it/s]"
     ]
    },
    {
     "name": "stdout",
     "output_type": "stream",
     "text": [
      "1: stopwatch (0.55)\n",
      "2: analog_clock (0.42)\n",
      "3: digital_watch (0.01)\n",
      "4: wall_clock (0.00)\n",
      "5: barometer (0.00)\n",
      "Found 'watch' with probability 0.55\n",
      "image_save_path_good good_watch_folder\\6fce058be0f3db26e3d9a528ef1c826f.png\n",
      "1: whistle (0.88)\n",
      "2: stopwatch (0.02)\n",
      "3: sax (0.02)\n",
      "4: analog_clock (0.02)\n",
      "5: pitcher (0.01)\n",
      "Found 'watch' with probability 0.02\n",
      "image_save_path_good good_watch_folder\\7041c1fb7a4df08579d1de40abc3d5ee.png\n"
     ]
    },
    {
     "name": "stderr",
     "output_type": "stream",
     "text": [
      "Processing images:  44%|████▎     | 486/1116 [01:31<01:34,  6.69it/s]"
     ]
    },
    {
     "name": "stdout",
     "output_type": "stream",
     "text": [
      "1: stopwatch (0.99)\n",
      "2: analog_clock (0.01)\n",
      "3: digital_watch (0.00)\n",
      "4: scale (0.00)\n",
      "5: reflex_camera (0.00)\n",
      "Found 'watch' with probability 0.99\n",
      "image_save_path_good good_watch_folder\\70c3169598dc8294e2c25ca61c780d03.png\n",
      "1: stopwatch (0.98)\n",
      "2: barometer (0.01)\n",
      "3: analog_clock (0.00)\n",
      "4: magnetic_compass (0.00)\n",
      "5: digital_watch (0.00)\n",
      "Found 'watch' with probability 0.98\n",
      "image_save_path_good good_watch_folder\\70ad1dfcdf4be29edad3d6475ed019f8.png\n",
      "1: stopwatch (0.91)\n",
      "2: scale (0.05)\n",
      "3: barometer (0.01)\n",
      "4: magnetic_compass (0.01)\n",
      "5: digital_watch (0.01)\n",
      "Found 'watch' with probability 0.91\n",
      "image_save_path_good good_watch_folder\\7096b8b8012a936d3cca8ebe97be9b2d.png\n",
      "1: stopwatch (0.75)\n",
      "2: analog_clock (0.11)\n",
      "3: digital_watch (0.10)\n",
      "4: reflex_camera (0.01)\n",
      "5: barber_chair (0.00)\n",
      "Found 'watch' with probability 0.75\n",
      "image_save_path_good good_watch_folder\\706d32460b45a448b41b8be417337d3c.png\n",
      "1: web_site (0.18)\n",
      "2: bubble (0.05)\n",
      "3: tripod (0.05)\n",
      "4: nail (0.03)\n",
      "5: chain (0.02)\n",
      "image_save_path_bad bad_watch_folder\\70fc1891a5288e81165da5b57058963a.png\n",
      "1: analog_clock (0.79)\n",
      "2: stopwatch (0.14)\n",
      "3: barometer (0.03)\n",
      "4: wall_clock (0.03)\n",
      "5: magnetic_compass (0.01)\n",
      "Found 'watch' with probability 0.79\n",
      "image_save_path_good good_watch_folder\\70e231ee9264f0e4d8717e702bae644c.png\n"
     ]
    },
    {
     "name": "stderr",
     "output_type": "stream",
     "text": [
      "Processing images:  44%|████▍     | 490/1116 [01:32<01:47,  5.80it/s]"
     ]
    },
    {
     "name": "stdout",
     "output_type": "stream",
     "text": [
      "1: stopwatch (0.94)\n",
      "2: scale (0.02)\n",
      "3: barometer (0.01)\n",
      "4: analog_clock (0.01)\n",
      "5: digital_watch (0.01)\n",
      "Found 'watch' with probability 0.94\n",
      "image_save_path_good good_watch_folder\\7114176e5dff376ae51f99ae6b1d8d55.png\n",
      "1: stopwatch (0.91)\n",
      "2: magnetic_compass (0.06)\n",
      "3: barometer (0.01)\n",
      "4: analog_clock (0.01)\n",
      "5: digital_watch (0.00)\n",
      "Found 'watch' with probability 0.91\n",
      "image_save_path_good good_watch_folder\\70d087dc370d616925b736863bfd938b.png\n",
      "1: stopwatch (0.98)\n",
      "2: analog_clock (0.01)\n",
      "3: magnetic_compass (0.01)\n",
      "4: barometer (0.01)\n",
      "5: digital_watch (0.00)\n",
      "Found 'watch' with probability 0.98\n",
      "image_save_path_good good_watch_folder\\712015e668e5073724372f379994a0cb.png\n"
     ]
    },
    {
     "name": "stderr",
     "output_type": "stream",
     "text": [
      "Processing images:  44%|████▍     | 495/1116 [01:33<01:40,  6.16it/s]"
     ]
    },
    {
     "name": "stdout",
     "output_type": "stream",
     "text": [
      "1: stopwatch (0.67)\n",
      "2: barometer (0.18)\n",
      "3: analog_clock (0.12)\n",
      "4: scale (0.01)\n",
      "5: digital_watch (0.01)\n",
      "Found 'watch' with probability 0.67\n",
      "image_save_path_good good_watch_folder\\72028360797055120844fd6e7e806565.png\n",
      "1: stopwatch (0.88)\n",
      "2: analog_clock (0.06)\n",
      "3: magnetic_compass (0.03)\n",
      "4: barometer (0.02)\n",
      "5: digital_watch (0.00)\n",
      "Found 'watch' with probability 0.88\n",
      "image_save_path_good good_watch_folder\\71e2e87fce8d2bd2af7d03b76c4ddb2c.png\n"
     ]
    },
    {
     "name": "stderr",
     "output_type": "stream",
     "text": [
      "Processing images:  45%|████▍     | 497/1116 [01:33<02:02,  5.05it/s]"
     ]
    },
    {
     "name": "stdout",
     "output_type": "stream",
     "text": [
      "1: stopwatch (0.83)\n",
      "2: magnetic_compass (0.07)\n",
      "3: analog_clock (0.07)\n",
      "4: digital_watch (0.01)\n",
      "5: barometer (0.01)\n",
      "Found 'watch' with probability 0.83\n",
      "image_save_path_good good_watch_folder\\720bcc6195edfaf4eaaa7426643fe44c.png\n"
     ]
    },
    {
     "name": "stderr",
     "output_type": "stream",
     "text": [
      "\r",
      "Processing images:  45%|████▍     | 498/1116 [01:33<02:10,  4.75it/s]"
     ]
    },
    {
     "name": "stdout",
     "output_type": "stream",
     "text": [
      "1: stopwatch (0.62)\n",
      "2: analog_clock (0.20)\n",
      "3: magnetic_compass (0.11)\n",
      "4: barometer (0.03)\n",
      "5: digital_watch (0.01)\n",
      "Found 'watch' with probability 0.62\n",
      "image_save_path_good good_watch_folder\\727211406ef2ff49fef44a197f8577c1.png\n"
     ]
    },
    {
     "name": "stderr",
     "output_type": "stream",
     "text": [
      "\r",
      "Processing images:  45%|████▍     | 499/1116 [01:34<02:29,  4.13it/s]"
     ]
    },
    {
     "name": "stdout",
     "output_type": "stream",
     "text": [
      "1: stopwatch (0.93)\n",
      "2: analog_clock (0.05)\n",
      "3: barometer (0.01)\n",
      "4: magnetic_compass (0.01)\n",
      "5: digital_watch (0.01)\n",
      "Found 'watch' with probability 0.93\n",
      "image_save_path_good good_watch_folder\\72b061414102f95f2bf09995b7a6e6fb.png\n",
      "1: stopwatch (0.96)\n",
      "2: barometer (0.01)\n",
      "3: analog_clock (0.01)\n",
      "4: magnetic_compass (0.01)\n",
      "5: digital_watch (0.00)\n",
      "Found 'watch' with probability 0.96\n",
      "image_save_path_good good_watch_folder\\7354bb885dfb53b255f5255ff381cbe8.png\n"
     ]
    },
    {
     "name": "stderr",
     "output_type": "stream",
     "text": [
      "\r",
      "Processing images:  45%|████▍     | 501/1116 [01:34<02:04,  4.94it/s]"
     ]
    },
    {
     "name": "stdout",
     "output_type": "stream",
     "text": [
      "1: web_site (0.22)1: stopwatch (0.99)\n",
      "2: barometer (0.01)\n",
      "3: analog_clock (0.00)\n",
      "4: magnetic_compass (0.00)\n",
      "5: digital_watch (0.00)\n",
      "Found 'watch' with probability 0.99\n",
      "image_save_path_good good_watch_folder\\72ed83c2cebc56db062da96a00391a94.png\n",
      "1: stopwatch (0.97)\n",
      "2: digital_watch (0.02)\n",
      "3: analog_clock (0.01)\n",
      "4: combination_lock (0.00)\n",
      "5: magnetic_compass (0.00)\n",
      "Found 'watch' with probability 0.97\n",
      "image_save_path_good good_watch_folder\\72d8ec9a7593a4387745fb14c14dd50c.png\n",
      "1: stopwatch (0.82)\n",
      "2: analog_clock (0.07)\n",
      "3: magnetic_compass (0.05)\n",
      "4: barometer (0.03)\n",
      "5: wall_clock (0.01)\n",
      "Found 'watch' with probability 0.82\n",
      "image_save_path_good good_watch_folder\\72d757494409390540b41c2a6619a9e1.png\n",
      "\n",
      "2: nail (0.06)\n",
      "3: bubble (0.03)\n",
      "4: bannister (0.03)\n",
      "5: tripod (0.03)\n",
      "image_save_path_bad bad_watch_folder\\72afc6b0c7d314f2b980ffd4fe750605.png\n"
     ]
    },
    {
     "name": "stderr",
     "output_type": "stream",
     "text": [
      "\r",
      "Processing images:  45%|████▍     | 502/1116 [01:34<01:56,  5.28it/s]"
     ]
    },
    {
     "name": "stdout",
     "output_type": "stream",
     "text": [
      "1: stopwatch (0.98)\n",
      "2: magnetic_compass (0.01)\n",
      "3: digital_watch (0.00)\n",
      "4: barometer (0.00)\n",
      "5: analog_clock (0.00)\n",
      "Found 'watch' with probability 0.98\n",
      "image_save_path_good good_watch_folder\\752720a0155efa4f773dec22c62b57e5.png\n",
      "1: stopwatch (0.99)\n",
      "2: barometer (0.00)\n",
      "3: digital_watch (0.00)\n",
      "4: scale (0.00)\n",
      "5: magnetic_compass (0.00)\n",
      "Found 'watch' with probability 0.99\n",
      "image_save_path_good good_watch_folder\\75daf489ee5e92ceb37a7841bd1940b9.png\n"
     ]
    },
    {
     "name": "stderr",
     "output_type": "stream",
     "text": [
      "\r",
      "Processing images:  45%|████▌     | 504/1116 [01:35<02:05,  4.89it/s]"
     ]
    },
    {
     "name": "stdout",
     "output_type": "stream",
     "text": [
      "1: stopwatch (0.93)\n",
      "2: digital_watch (0.02)\n",
      "3: analog_clock (0.01)\n",
      "4: gasmask (0.01)\n",
      "5: running_shoe (0.00)\n",
      "Found 'watch' with probability 0.93\n",
      "image_save_path_good good_watch_folder\\7618fcea1afa0545c1cd6fbdd4a3a87a.png\n"
     ]
    },
    {
     "name": "stderr",
     "output_type": "stream",
     "text": [
      "\r",
      "Processing images:  45%|████▌     | 506/1116 [01:35<01:52,  5.44it/s]"
     ]
    },
    {
     "name": "stdout",
     "output_type": "stream",
     "text": [
      "1: stopwatch (0.55)\n",
      "2: barometer (0.14)\n",
      "3: scale (0.09)\n",
      "4: magnetic_compass (0.07)\n",
      "5: analog_clock (0.05)\n",
      "Found 'watch' with probability 0.55\n",
      "image_save_path_good good_watch_folder\\742808d8125f335f43d67e76a6e28ca9.png\n",
      "1: analog_clock (0.70)\n",
      "2: stopwatch (0.15)\n",
      "3: wall_clock (0.11)\n",
      "4: barometer (0.01)\n",
      "5: magnetic_compass (0.01)\n",
      "Found 'watch' with probability 0.70\n",
      "image_save_path_good good_watch_folder\\766999d2d276eb07852a85d2b460609a.png\n",
      "1: stopwatch (0.98)\n",
      "2: digital_watch (0.01)\n",
      "3: analog_clock (0.01)\n",
      "4: magnetic_compass (0.00)\n",
      "5: scale (0.00)\n",
      "Found 'watch' with probability 0.98\n",
      "image_save_path_good good_watch_folder\\76a12d7cca9a47c29a60fa3a9585780a.png\n",
      "1: analog_clock (0.47)\n",
      "2: stopwatch (0.40)\n",
      "3: barometer (0.07)\n",
      "4: digital_watch (0.04)\n",
      "5: magnetic_compass (0.01)\n",
      "Found 'watch' with probability 0.47\n",
      "image_save_path_good good_watch_folder\\76d33d31f24e45ba160da673bc0fa98d.png\n",
      "1: stopwatch (0.41)\n",
      "2: analog_clock (0.33)\n",
      "3: digital_watch (0.13)\n",
      "4: lighter (0.02)\n",
      "5: drum (0.01)\n",
      "Found 'watch' with probability 0.41\n",
      "image_save_path_good good_watch_folder\\75e0c38fb9efe43915568ff73a9daac1.png\n"
     ]
    },
    {
     "name": "stderr",
     "output_type": "stream",
     "text": [
      "Processing images:  46%|████▌     | 512/1116 [01:36<01:10,  8.52it/s]"
     ]
    },
    {
     "name": "stdout",
     "output_type": "stream",
     "text": [
      "1: stopwatch (0.63)\n",
      "2: analog_clock (0.24)\n",
      "3: digital_watch (0.05)\n",
      "4: wall_clock (0.04)\n",
      "5: barometer (0.03)\n",
      "Found 'watch' with probability 0.63\n",
      "image_save_path_good good_watch_folder\\7706e30b49404b789427f7d697fb6f83.png\n",
      "1: stopwatch (0.82)\n",
      "2: analog_clock (0.08)\n",
      "3: digital_watch (0.06)\n",
      "4: magnetic_compass (0.02)\n",
      "5: wall_clock (0.01)\n",
      "Found 'watch' with probability 0.82\n",
      "image_save_path_good good_watch_folder\\775040f0738fa546c3af45cfff00a54a.png\n",
      "1: stopwatch (0.74)\n",
      "2: analog_clock (0.11)\n",
      "3: digital_watch (0.09)\n",
      "4: radio (0.01)\n",
      "5: barometer (0.00)\n",
      "Found 'watch' with probability 0.74\n",
      "image_save_path_good good_watch_folder\\77496d0b06c25af314194964427f06c8.png\n"
     ]
    },
    {
     "name": "stderr",
     "output_type": "stream",
     "text": [
      "Processing images:  46%|████▋     | 517/1116 [01:37<01:57,  5.12it/s]"
     ]
    },
    {
     "name": "stdout",
     "output_type": "stream",
     "text": [
      "1: stopwatch (0.80)\n",
      "2: barometer (0.08)\n",
      "3: digital_watch (0.05)\n",
      "4: analog_clock (0.03)\n",
      "5: magnetic_compass (0.02)\n",
      "Found 'watch' with probability 0.80\n",
      "image_save_path_good good_watch_folder\\7765bbfd7e786e22b5173d0e8584e7b1.png\n",
      "1: stopwatch (0.89)\n",
      "2: analog_clock (0.08)\n",
      "3: digital_watch (0.02)\n",
      "4: magnetic_compass (0.00)\n",
      "5: reflex_camera (0.00)\n",
      "Found 'watch' with probability 0.89\n",
      "image_save_path_good good_watch_folder\\77b1151998bb7b5a15a1e337a979c3bb.png\n",
      "1: stopwatch (1.00)\n",
      "2: analog_clock (0.00)\n",
      "3: barometer (0.00)\n",
      "4: magnetic_compass (0.00)\n",
      "5: sundial (0.00)\n",
      "Found 'watch' with probability 1.00\n",
      "image_save_path_good good_watch_folder\\77adf2f92f2f45c135e3a56ec68b3516.png\n",
      "1: stopwatch (1.00)\n",
      "2: analog_clock (0.00)\n",
      "3: digital_watch (0.00)\n",
      "4: magnetic_compass (0.00)\n",
      "5: barometer (0.00)\n",
      "Found 'watch' with probability 1.00\n",
      "image_save_path_good good_watch_folder\\77aafadfa5a53ce2d5b10bc8830008b9.png\n",
      "1: panpipe (0.87)\n",
      "2: face_powder (0.02)\n",
      "3: binoculars (0.02)\n",
      "4: digital_watch (0.01)\n",
      "5: coffee_mug (0.01)\n",
      "Found 'watch' with probability 0.01\n",
      "image_save_path_good good_watch_folder\\77edb33362e10ea304bd8e08a5e86db6.png\n",
      "1: stopwatch (0.95)\n",
      "2: analog_clock (0.03)\n",
      "3: digital_watch (0.01)\n",
      "4: magnetic_compass (0.00)\n",
      "5: barometer (0.00)\n",
      "Found 'watch' with probability 0.95\n",
      "image_save_path_good good_watch_folder\\78508b32a4d8957c02ae88c45923dd85.png\n"
     ]
    },
    {
     "name": "stderr",
     "output_type": "stream",
     "text": [
      "\r",
      "Processing images:  47%|████▋     | 519/1116 [01:38<03:18,  3.01it/s]"
     ]
    },
    {
     "name": "stdout",
     "output_type": "stream",
     "text": [
      "1: analog_clock (0.42)1: stopwatch (0.46)\n",
      "2: analog_clock (0.35)\n",
      "3: digital_watch (0.17)\n",
      "4: barometer (0.02)\n",
      "5: digital_clock (0.00)\n",
      "Found 'watch' with probability 0.46\n",
      "image_save_path_good good_watch_folder\\78011dee3a1e1abec3bd671fc1d671d9.png\n",
      "\n",
      "2: stopwatch (0.31)\n",
      "3: barometer (0.25)\n",
      "4: wall_clock (0.01)\n",
      "5: magnetic_compass (0.01)\n",
      "Found 'watch' with probability 0.42\n",
      "image_save_path_good good_watch_folder\\78802fdee0f6ebaf0f2962009b332814.png\n"
     ]
    },
    {
     "name": "stderr",
     "output_type": "stream",
     "text": [
      "Processing images:  47%|████▋     | 523/1116 [01:39<02:06,  4.67it/s]"
     ]
    },
    {
     "name": "stdout",
     "output_type": "stream",
     "text": [
      "1: web_site (0.08)\n",
      "2: shoji (0.06)\n",
      "3: dishwasher (0.05)\n",
      "4: abaya (0.04)\n",
      "5: bannister (0.03)\n",
      "image_save_path_bad bad_watch_folder\\7892823a3f1d4c008054675ce797c6ad.png\n",
      "1: stopwatch (0.94)\n",
      "2: analog_clock (0.04)\n",
      "3: digital_watch (0.01)\n",
      "4: barometer (0.01)\n",
      "5: scale (0.00)\n",
      "Found 'watch' with probability 0.94\n",
      "image_save_path_good good_watch_folder\\792851f8b1bdc855a66ece036eb8c36f.png\n",
      "1: bubble (0.08)\n",
      "2: nail (0.05)\n",
      "3: hook (0.04)\n",
      "4: tripod (0.04)\n",
      "5: web_site (0.03)\n",
      "image_save_path_bad bad_watch_folder\\797855a8f6c8cf317149a6a63aad8742.png\n",
      "1: analog_clock (0.96)\n",
      "2: stopwatch (0.04)\n",
      "3: wall_clock (0.01)\n",
      "4: barometer (0.00)\n",
      "5: digital_watch (0.00)\n",
      "Found 'watch' with probability 0.96\n",
      "image_save_path_good good_watch_folder\\78a0c964d8c263047f0dc0796d92e13d.png\n",
      "1: stopwatch (0.97)\n",
      "2: analog_clock (0.02)\n",
      "3: barometer (0.00)\n",
      "4: digital_watch (0.00)\n",
      "5: wall_clock (0.00)\n",
      "Found 'watch' with probability 0.97\n",
      "image_save_path_good good_watch_folder\\79dbae1da459d97b6d3848e597bff4d7.png\n",
      "1: analog_clock (0.88)\n",
      "2: stopwatch (0.11)\n",
      "3: wall_clock (0.01)\n",
      "4: digital_watch (0.00)\n",
      "5: magnetic_compass (0.00)\n",
      "Found 'watch' with probability 0.88\n",
      "image_save_path_good good_watch_folder\\794390fd3bc56d90c4dbbc3f368c0af4.png\n",
      "1: stopwatch (0.93)\n",
      "2: barometer (0.04)\n",
      "3: analog_clock (0.01)\n",
      "4: magnetic_compass (0.01)\n",
      "5: scale (0.00)\n",
      "Found 'watch' with probability 0.93\n",
      "image_save_path_good good_watch_folder\\7a81930e6465748fc42095da3e56848d.png\n",
      "1: stopwatch (0.96)\n",
      "2: barometer (0.01)\n",
      "3: magnetic_compass (0.01)\n",
      "4: analog_clock (0.01)\n",
      "5: scale (0.01)\n",
      "Found 'watch' with probability 0.96\n",
      "image_save_path_good good_watch_folder\\7917663ba9f9172927c4a9bec4f2495e.png\n",
      "1: stopwatch (0.98)\n",
      "2: digital_watch (0.01)\n",
      "3: analog_clock (0.01)\n",
      "4: scale (0.00)\n",
      "5: reflex_camera (0.00)\n",
      "Found 'watch' with probability 0.98\n",
      "image_save_path_good good_watch_folder\\7933c2897fadffc59f00c7a7ca1566d1.png\n",
      "1: stopwatch (0.94)\n",
      "2: analog_clock (0.03)\n",
      "3: digital_watch (0.01)\n",
      "4: magnetic_compass (0.01)\n",
      "5: lighter (0.00)\n",
      "Found 'watch' with probability 0.94\n",
      "image_save_path_good good_watch_folder\\7a87aeeaa4485253864b2f7108677db6.png\n"
     ]
    },
    {
     "name": "stderr",
     "output_type": "stream",
     "text": [
      "Processing images:  47%|████▋     | 528/1116 [01:39<01:14,  7.84it/s]"
     ]
    },
    {
     "name": "stdout",
     "output_type": "stream",
     "text": [
      "1: analog_clock (0.73)\n",
      "2: barometer (0.14)\n",
      "3: stopwatch (0.08)\n",
      "4: wall_clock (0.02)\n",
      "5: digital_watch (0.01)\n",
      "Found 'watch' with probability 0.73\n",
      "image_save_path_good good_watch_folder\\7af54c5d7ee1d9df5b7903da8c673cdf.png\n"
     ]
    },
    {
     "name": "stderr",
     "output_type": "stream",
     "text": [
      "Processing images:  48%|████▊     | 536/1116 [01:39<00:43, 13.29it/s]"
     ]
    },
    {
     "name": "stdout",
     "output_type": "stream",
     "text": [
      "1: stopwatch (0.42)\n",
      "2: digital_watch (0.29)\n",
      "3: barometer (0.06)\n",
      "4: magnetic_compass (0.04)\n",
      "5: dial_telephone (0.03)\n",
      "Found 'watch' with probability 0.42\n",
      "image_save_path_good good_watch_folder\\7b5917ac8176f9c62c9b8537dcefeb6c.png\n",
      "1: stopwatch (0.50)\n",
      "2: analog_clock (0.37)\n",
      "3: barometer (0.05)\n",
      "4: magnetic_compass (0.04)\n",
      "5: wall_clock (0.02)\n",
      "Found 'watch' with probability 0.50\n",
      "image_save_path_good good_watch_folder\\7b6a62f79c1e48697b31d072dd9b2ab6.png\n",
      "1: stopwatch (0.85)\n",
      "2: scale (0.11)\n",
      "3: barometer (0.02)\n",
      "4: analog_clock (0.00)\n",
      "5: digital_watch (0.00)\n",
      "Found 'watch' with probability 0.85\n",
      "image_save_path_good good_watch_folder\\7b6d06a0ca5d26c7a77a644a83ead446.png\n",
      "1: television (0.43)\n",
      "2: web_site (0.06)\n",
      "3: dishwasher (0.05)\n",
      "4: bubble (0.04)\n",
      "5: screen (0.04)\n",
      "image_save_path_bad bad_watch_folder\\7bdc15af10223319c6b63d87e4ba32d2.png\n",
      "1: knot (0.71)\n",
      "2: bolo_tie (0.09)\n",
      "3: Windsor_tie (0.06)\n",
      "4: hook (0.01)\n",
      "5: web_site (0.01)\n",
      "image_save_path_bad bad_watch_folder\\7c13aef4406952deabdff68afbfe1d94.png\n"
     ]
    },
    {
     "name": "stderr",
     "output_type": "stream",
     "text": [
      "Processing images:  49%|████▊     | 542/1116 [01:41<01:25,  6.75it/s]"
     ]
    },
    {
     "name": "stdout",
     "output_type": "stream",
     "text": [
      "1: web_site (0.14)\n",
      "2: shoji (0.07)\n",
      "3: spotlight (0.04)\n",
      "4: matchstick (0.03)\n",
      "5: bannister (0.02)\n",
      "image_save_path_bad bad_watch_folder\\7d2650567d62043342a8e27cc92f019d.png\n",
      "1: web_site (0.71)\n",
      "2: nematode (0.01)\n",
      "3: loupe (0.01)\n",
      "4: stopwatch (0.01)\n",
      "5: abaya (0.01)\n",
      "Found 'watch' with probability 0.01\n",
      "image_save_path_good good_watch_folder\\7cf0e0bad78317f78b866b300305b740.png\n",
      "1: stopwatch (0.74)\n",
      "2: analog_clock (0.23)\n",
      "3: barometer (0.03)\n",
      "4: digital_watch (0.00)\n",
      "5: wall_clock (0.00)\n",
      "Found 'watch' with probability 0.74\n",
      "image_save_path_good good_watch_folder\\7d003e84360cb8efd0bc9143f056ef95.png\n",
      "1: stopwatch (0.48)\n",
      "2: analog_clock (0.42)\n",
      "3: wall_clock (0.04)\n",
      "4: digital_watch (0.02)\n",
      "5: magnetic_compass (0.02)\n",
      "Found 'watch' with probability 0.48\n",
      "image_save_path_good good_watch_folder\\7adc7bdd2f68d285a91b0ed85eaa6b04.png\n",
      "1: stopwatch (0.96)\n",
      "2: barometer (0.02)\n",
      "3: analog_clock (0.02)\n",
      "4: digital_watch (0.01)\n",
      "5: magnetic_compass (0.00)\n",
      "Found 'watch' with probability 0.96\n",
      "image_save_path_good good_watch_folder\\7d39af3e616e6c65fd4b8db08894fa97.png\n"
     ]
    },
    {
     "name": "stderr",
     "output_type": "stream",
     "text": [
      "Processing images:  49%|████▉     | 547/1116 [01:42<01:30,  6.29it/s]"
     ]
    },
    {
     "name": "stdout",
     "output_type": "stream",
     "text": [
      "1: abaya (0.22)\n",
      "2: cleaver (0.10)\n",
      "3: Windsor_tie (0.06)\n",
      "4: web_site (0.05)\n",
      "5: bannister (0.04)\n",
      "image_save_path_bad bad_watch_folder\\7e6cedbfb7605b4dedd15dd6bf85bfdb.png\n",
      "1: stopwatch (0.87)\n",
      "2: barometer (0.04)\n",
      "3: analog_clock (0.02)\n",
      "4: scale (0.02)\n",
      "5: digital_watch (0.02)\n",
      "Found 'watch' with probability 0.87\n",
      "image_save_path_good good_watch_folder\\7ed57362098eeee1a2f3c5c1327f76ab.png\n",
      "1: stopwatch (0.93)\n",
      "2: analog_clock (0.04)\n",
      "3: digital_watch (0.01)\n",
      "4: magnetic_compass (0.00)\n",
      "5: barometer (0.00)\n",
      "Found 'watch' with probability 0.93\n",
      "image_save_path_good good_watch_folder\\7ebbac64362966e2b997dcb93c1feec1.png\n",
      "1: analog_clock (0.59)\n",
      "2: stopwatch (0.23)\n",
      "3: wall_clock (0.11)\n",
      "4: barometer (0.04)\n",
      "5: digital_clock (0.01)\n",
      "Found 'watch' with probability 0.59\n",
      "image_save_path_good good_watch_folder\\7e1983b3632ccef1b26e6147ea7a4dd0.png\n",
      "1: stopwatch (0.89)\n",
      "2: analog_clock (0.04)\n",
      "3: digital_watch (0.02)\n",
      "4: radio (0.01)\n",
      "5: barometer (0.01)\n",
      "Found 'watch' with probability 0.89\n",
      "image_save_path_good good_watch_folder\\7ed5c4d6a4cecf6ffc4346ac68ee0478.png\n",
      "1: stopwatch (0.68)\n",
      "2: analog_clock (0.16)\n",
      "3: magnetic_compass (0.13)\n",
      "4: digital_watch (0.01)\n",
      "5: barometer (0.01)\n",
      "Found 'watch' with probability 0.68\n",
      "image_save_path_good good_watch_folder\\7e777d428a2bbe6eb2ed1a41c0a0a285.png\n",
      "1: stopwatch (0.95)\n",
      "2: magnetic_compass (0.02)\n",
      "3: barometer (0.01)\n",
      "4: analog_clock (0.01)\n",
      "5: digital_watch (0.00)\n",
      "Found 'watch' with probability 0.95\n",
      "image_save_path_good good_watch_folder\\7e824927ba0372b023fc3f4a6fb056bd.png\n"
     ]
    },
    {
     "name": "stderr",
     "output_type": "stream",
     "text": [
      "Processing images:  50%|████▉     | 553/1116 [01:43<01:35,  5.91it/s]"
     ]
    },
    {
     "name": "stdout",
     "output_type": "stream",
     "text": [
      "1: analog_clock (0.71)\n",
      "2: stopwatch (0.16)\n",
      "3: barometer (0.11)\n",
      "4: wall_clock (0.01)\n",
      "5: magnetic_compass (0.01)\n",
      "Found 'watch' with probability 0.71\n",
      "image_save_path_good good_watch_folder\\7e81dd45aab78b7b98802102c1f8bdc3.png\n",
      "1: stopwatch (0.60)\n",
      "2: barometer (0.31)\n",
      "3: drum (0.01)\n",
      "4: analog_clock (0.01)\n",
      "5: bearskin (0.01)\n",
      "Found 'watch' with probability 0.60\n",
      "image_save_path_good good_watch_folder\\7ee76c66eb3069703ad9ef2746303763.png\n",
      "1: stopwatch (0.96)\n",
      "2: analog_clock (0.02)\n",
      "3: digital_watch (0.01)\n",
      "4: magnetic_compass (0.01)\n",
      "5: barometer (0.00)\n",
      "Found 'watch' with probability 0.96\n",
      "image_save_path_good good_watch_folder\\7f8a947010700f48db152f09ea28caae.png\n",
      "1: stopwatch (0.97)\n",
      "2: barometer (0.02)\n",
      "3: analog_clock (0.00)\n",
      "4: magnetic_compass (0.00)\n",
      "5: digital_watch (0.00)\n",
      "Found 'watch' with probability 0.97\n",
      "image_save_path_good good_watch_folder\\7fbdbae0c8cbdb6539e60706cea40a8b.png\n",
      "1: analog_clock (0.55)\n",
      "2: stopwatch (0.38)\n",
      "3: wall_clock (0.03)\n",
      "4: magnetic_compass (0.02)\n",
      "5: digital_watch (0.01)\n",
      "Found 'watch' with probability 0.55\n",
      "image_save_path_good good_watch_folder\\7ff3dc8592da79379f1f5542100f50c0.png\n",
      "1: stopwatch (0.44)\n",
      "2: analog_clock (0.31)\n",
      "3: digital_watch (0.21)\n",
      "4: barometer (0.01)\n",
      "5: magnetic_compass (0.01)\n",
      "Found 'watch' with probability 0.44\n",
      "image_save_path_good good_watch_folder\\8082491b7337bfd211af30b2474d0b7b.png\n"
     ]
    },
    {
     "name": "stderr",
     "output_type": "stream",
     "text": [
      "Processing images:  50%|████▉     | 557/1116 [01:44<02:02,  4.58it/s]"
     ]
    },
    {
     "name": "stdout",
     "output_type": "stream",
     "text": [
      "1: analog_clock (0.38)\n",
      "2: stopwatch (0.35)\n",
      "3: barometer (0.16)\n",
      "4: magnetic_compass (0.05)\n",
      "5: digital_watch (0.03)\n",
      "Found 'watch' with probability 0.38\n",
      "image_save_path_good good_watch_folder\\8036e439bfdc34814fffb15f36a74dc2.png\n",
      "1: stopwatch (0.96)\n",
      "2: barometer (0.01)\n",
      "3: magnetic_compass (0.01)\n",
      "4: analog_clock (0.01)\n",
      "5: scale (0.01)\n",
      "Found 'watch' with probability 0.96\n",
      "image_save_path_good good_watch_folder\\809d670356ae2dbb14216ad1a2d01a0b.png\n",
      "1: matchstick (0.57)\n",
      "2: bubble (0.02)\n",
      "3: fountain (0.02)\n",
      "4: hook (0.01)\n",
      "5: web_site (0.01)\n",
      "image_save_path_bad bad_watch_folder\\81e77e19e0c163910daf73d6aec3f01d.png\n",
      "1: stopwatch (0.92)\n",
      "2: analog_clock (0.05)\n",
      "3: barometer (0.01)\n",
      "4: digital_watch (0.01)\n",
      "5: drum (0.00)\n",
      "Found 'watch' with probability 0.92\n",
      "image_save_path_good good_watch_folder\\81c7e7bd79f3d61f15f19fc29e40e00c.png\n",
      "1: stopwatch (0.62)\n",
      "2: analog_clock (0.35)\n",
      "3: barometer (0.03)\n",
      "4: wall_clock (0.01)\n",
      "5: sundial (0.00)\n",
      "Found 'watch' with probability 0.62\n",
      "image_save_path_good good_watch_folder\\811839d221d03dd3c6b13e2256715dc9.png\n",
      "1: stopwatch (0.66)\n",
      "2: analog_clock (0.31)\n",
      "3: barometer (0.01)\n",
      "4: wall_clock (0.01)\n",
      "5: magnetic_compass (0.00)\n",
      "Found 'watch' with probability 0.66\n",
      "image_save_path_good good_watch_folder\\81977474ac631f0ad207a2e462ee8e5c.png\n",
      "1: stopwatch (0.42)\n",
      "2: analog_clock (0.34)\n",
      "3: sundial (0.09)\n",
      "4: barometer (0.07)\n",
      "5: lighter (0.03)\n",
      "Found 'watch' with probability 0.42\n",
      "image_save_path_good good_watch_folder\\808569a049e97f96857574a2d6ff1fd4.png\n"
     ]
    },
    {
     "name": "stderr",
     "output_type": "stream",
     "text": [
      "Processing images:  50%|█████     | 562/1116 [01:45<01:29,  6.19it/s]"
     ]
    },
    {
     "name": "stdout",
     "output_type": "stream",
     "text": [
      "1: stopwatch (0.76)\n",
      "2: analog_clock (0.22)\n",
      "3: digital_watch (0.01)\n",
      "4: barometer (0.01)\n",
      "5: wall_clock (0.00)\n",
      "Found 'watch' with probability 0.76\n",
      "image_save_path_good good_watch_folder\\8230fe542636b7f873bb022428be4e39.png\n",
      "1: analog_clock (0.51)\n",
      "2: stopwatch (0.30)\n",
      "3: barometer (0.12)\n",
      "4: wall_clock (0.06)\n",
      "5: digital_watch (0.01)\n",
      "Found 'watch' with probability 0.51\n",
      "image_save_path_good good_watch_folder\\81fb0b6c9bb14e011f8444005f07b4b2.png\n"
     ]
    },
    {
     "name": "stderr",
     "output_type": "stream",
     "text": [
      "Processing images:  51%|█████     | 566/1116 [01:45<00:57,  9.54it/s]"
     ]
    },
    {
     "name": "stdout",
     "output_type": "stream",
     "text": [
      "1: stopwatch (0.97)\n",
      "2: analog_clock (0.02)\n",
      "3: digital_watch (0.01)\n",
      "4: barometer (0.00)\n",
      "5: scale (0.00)\n",
      "Found 'watch' with probability 0.97\n",
      "image_save_path_good good_watch_folder\\83377adb68e296916953dbc3ffbe8ab1.png\n",
      "1: stopwatch (0.90)\n",
      "2: magnetic_compass (0.06)\n",
      "3: barometer (0.02)\n",
      "4: digital_watch (0.00)\n",
      "5: scale (0.00)\n",
      "Found 'watch' with probability 0.90\n",
      "image_save_path_good good_watch_folder\\8268fc8c0cbde38f22ad6a131b3049ea.png\n",
      "1: stopwatch (1.00)\n",
      "2: digital_watch (0.00)\n",
      "3: analog_clock (0.00)\n",
      "4: reflex_camera (0.00)\n",
      "5: magnetic_compass (0.00)\n",
      "Found 'watch' with probability 1.00\n",
      "image_save_path_good good_watch_folder\\8457218c0c7dca04e8a7033395c65eee.png\n"
     ]
    },
    {
     "name": "stderr",
     "output_type": "stream",
     "text": [
      "Processing images:  51%|█████     | 571/1116 [01:46<01:18,  6.95it/s]"
     ]
    },
    {
     "name": "stdout",
     "output_type": "stream",
     "text": [
      "1: stopwatch (0.48)\n",
      "2: barometer (0.39)\n",
      "3: magnetic_compass (0.04)\n",
      "4: digital_watch (0.04)\n",
      "5: analog_clock (0.03)\n",
      "Found 'watch' with probability 0.48\n",
      "image_save_path_good good_watch_folder\\82b1921ef69f22c338cd9dbb606702ed.png\n",
      "1: stopwatch (0.94)\n",
      "2: analog_clock (0.03)\n",
      "3: digital_watch (0.02)\n",
      "4: barometer (0.01)\n",
      "5: scale (0.00)\n",
      "Found 'watch' with probability 0.94\n",
      "image_save_path_good good_watch_folder\\84ad54ecc3159e81a5e8626a4b214e3c.png\n",
      "1: shoji (0.14)\n",
      "2: web_site (0.05)\n",
      "3: dishwasher (0.04)\n",
      "4: bubble (0.04)\n",
      "5: television (0.03)\n",
      "image_save_path_bad bad_watch_folder\\847f6c14ab49521477d5f964fa9b0559.png\n"
     ]
    },
    {
     "name": "stderr",
     "output_type": "stream",
     "text": [
      "\r",
      "Processing images:  51%|█████▏    | 573/1116 [01:47<01:32,  5.84it/s]"
     ]
    },
    {
     "name": "stdout",
     "output_type": "stream",
     "text": [
      "1: wallet (0.73)1: stopwatch (0.60)\n",
      "2: analog_clock (0.30)\n",
      "3: digital_watch (0.04)\n",
      "4: magnetic_compass (0.02)\n",
      "5: wall_clock (0.01)\n",
      "Found 'watch' with probability 0.60\n",
      "image_save_path_good good_watch_folder\\8575b0769b3eda937b3dd31bae2136de.png\n",
      "\n",
      "2: purse (0.08)\n",
      "3: mailbag (0.06)\n",
      "4: buckle (0.05)\n",
      "5: knee_pad (0.02)\n",
      "image_save_path_bad bad_watch_folder\\84b9f1fc7c97f4f20d4a28160168a3a2.png\n"
     ]
    },
    {
     "name": "stderr",
     "output_type": "stream",
     "text": [
      "\r",
      "Processing images:  52%|█████▏    | 575/1116 [01:47<01:42,  5.25it/s]"
     ]
    },
    {
     "name": "stdout",
     "output_type": "stream",
     "text": [
      "1: stopwatch (0.89)\n",
      "2: analog_clock (0.09)\n",
      "3: digital_watch (0.00)\n",
      "4: magnetic_compass (0.00)\n",
      "5: barometer (0.00)\n",
      "Found 'watch' with probability 0.89\n",
      "image_save_path_good good_watch_folder\\851638e16d4880cc838a96ea8d0b8c62.png\n",
      "1: stopwatch (0.85)\n",
      "2: analog_clock (0.13)\n",
      "3: barometer (0.01)\n",
      "4: digital_watch (0.01)\n",
      "5: wall_clock (0.00)\n",
      "Found 'watch' with probability 0.85\n",
      "image_save_path_good good_watch_folder\\84bb4d2d5f26629dbf25d2435f987618.png\n",
      "1: stopwatch (0.61)\n",
      "2: analog_clock (0.18)\n",
      "3: barometer (0.05)\n",
      "4: digital_watch (0.03)\n",
      "5: magnetic_compass (0.02)\n",
      "Found 'watch' with probability 0.61\n",
      "image_save_path_good good_watch_folder\\857e92c86f812ce19a8c1f8aa320c589.png\n"
     ]
    },
    {
     "name": "stderr",
     "output_type": "stream",
     "text": [
      "\r",
      "Processing images:  52%|█████▏    | 576/1116 [01:48<02:19,  3.86it/s]"
     ]
    },
    {
     "name": "stdout",
     "output_type": "stream",
     "text": [
      "1: stopwatch (0.92)\n",
      "2: analog_clock (0.06)\n",
      "3: digital_watch (0.01)\n",
      "4: magnetic_compass (0.00)\n",
      "5: barometer (0.00)\n",
      "Found 'watch' with probability 0.92\n",
      "image_save_path_good good_watch_folder\\85d00c998be0625d87a78356e520eaa5.png\n"
     ]
    },
    {
     "name": "stderr",
     "output_type": "stream",
     "text": [
      "\r",
      "Processing images:  52%|█████▏    | 577/1116 [01:48<02:24,  3.72it/s]"
     ]
    },
    {
     "name": "stdout",
     "output_type": "stream",
     "text": [
      "1: stopwatch (0.96)\n",
      "2: barometer (0.03)\n",
      "3: analog_clock (0.01)\n",
      "4: magnetic_compass (0.00)\n",
      "5: digital_watch (0.00)\n",
      "Found 'watch' with probability 0.96\n",
      "image_save_path_good good_watch_folder\\86d673a2bf44e2b365bbe3f6ca59d67f.png\n",
      "1: stopwatch (0.79)\n",
      "2: analog_clock (0.11)\n",
      "3: digital_watch (0.10)\n",
      "4: wall_clock (0.00)\n",
      "5: barometer (0.00)\n",
      "Found 'watch' with probability 0.79\n",
      "image_save_path_good good_watch_folder\\862bfb6893dae177ff297257e0c6fc3b.png\n"
     ]
    },
    {
     "name": "stderr",
     "output_type": "stream",
     "text": [
      "Processing images:  52%|█████▏    | 580/1116 [01:49<01:58,  4.51it/s]"
     ]
    },
    {
     "name": "stdout",
     "output_type": "stream",
     "text": [
      "1: stopwatch (0.71)\n",
      "2: analog_clock (0.18)\n",
      "3: barometer (0.09)\n",
      "4: digital_watch (0.01)\n",
      "5: magnetic_compass (0.00)\n",
      "Found 'watch' with probability 0.71\n",
      "image_save_path_good good_watch_folder\\86c88f8e685be00d8e7d006642e4e1f1.png\n",
      "1: stopwatch (0.80)\n",
      "2: analog_clock (0.09)\n",
      "3: digital_watch (0.05)\n",
      "4: barometer (0.03)\n",
      "5: drum (0.01)\n",
      "Found 'watch' with probability 0.80\n",
      "image_save_path_good good_watch_folder\\86f8089a6fd18948b6a8885f84299c30.png\n",
      "1: stopwatch (0.91)\n",
      "2: analog_clock (0.06)\n",
      "3: barometer (0.02)\n",
      "4: magnetic_compass (0.01)\n",
      "5: digital_watch (0.00)\n",
      "Found 'watch' with probability 0.91\n",
      "image_save_path_good good_watch_folder\\864c5f75c4dbff2b05da0e6e35330b77.png\n"
     ]
    },
    {
     "name": "stderr",
     "output_type": "stream",
     "text": [
      "Processing images:  52%|█████▏    | 584/1116 [01:49<01:50,  4.81it/s]"
     ]
    },
    {
     "name": "stdout",
     "output_type": "stream",
     "text": [
      "1: stopwatch (0.52)\n",
      "2: crossword_puzzle (0.25)\n",
      "3: analog_clock (0.22)\n",
      "4: barometer (0.01)\n",
      "5: wall_clock (0.00)\n",
      "Found 'watch' with probability 0.52\n",
      "image_save_path_good good_watch_folder\\872e15dbf6bf7c5afcf8071f12d5ac1d.png\n",
      "1: stopwatch (0.99)\n",
      "2: magnetic_compass (0.01)\n",
      "3: digital_watch (0.00)\n",
      "4: barometer (0.00)\n",
      "5: analog_clock (0.00)\n",
      "Found 'watch' with probability 0.99\n",
      "image_save_path_good good_watch_folder\\87c469514d9ad2b20458617f62ead59e.png\n",
      "1: stopwatch (0.79)\n",
      "2: analog_clock (0.18)\n",
      "3: magnetic_compass (0.01)\n",
      "4: digital_watch (0.01)\n",
      "5: barometer (0.00)\n",
      "Found 'watch' with probability 0.79\n",
      "image_save_path_good good_watch_folder\\8713deb256aa6eeb7bcba8ea417fcf15.png\n",
      "1: stopwatch (0.88)\n",
      "2: barometer (0.02)\n",
      "3: cowboy_hat (0.01)\n",
      "4: mask (0.01)\n",
      "5: digital_watch (0.01)\n",
      "Found 'watch' with probability 0.88\n",
      "image_save_path_good good_watch_folder\\87a8b3b46173c26a7a82310ba12e0f88.png\n"
     ]
    },
    {
     "name": "stderr",
     "output_type": "stream",
     "text": [
      "\r",
      "Processing images:  53%|█████▎    | 587/1116 [01:50<01:32,  5.70it/s]"
     ]
    },
    {
     "name": "stdout",
     "output_type": "stream",
     "text": [
      "1: stopwatch (0.72)\n",
      "2: analog_clock (0.23)\n",
      "3: digital_watch (0.02)\n",
      "4: magnetic_compass (0.01)\n",
      "5: barometer (0.01)\n",
      "Found 'watch' with probability 0.72\n",
      "image_save_path_good good_watch_folder\\87ee1c953f1f10a8a3de3391f368c33e.png\n",
      "1: stopwatch (0.80)\n",
      "2: analog_clock (0.07)\n",
      "3: digital_watch (0.05)\n",
      "4: barometer (0.04)\n",
      "5: magnetic_compass (0.02)\n",
      "Found 'watch' with probability 0.80\n",
      "image_save_path_good good_watch_folder\\883419622080aa57d1500539a5839e04.png\n",
      "1: analog_clock (0.53)\n",
      "2: barometer (0.33)\n",
      "3: stopwatch (0.08)\n",
      "4: wall_clock (0.03)\n",
      "5: magnetic_compass (0.01)\n",
      "Found 'watch' with probability 0.53\n",
      "image_save_path_good good_watch_folder\\8893fa7179df6df8133b108d388e7384.png\n",
      "1: stopwatch (0.98)\n",
      "2: barometer (0.01)\n",
      "3: analog_clock (0.01)\n",
      "4: magnetic_compass (0.00)\n",
      "5: scale (0.00)\n",
      "Found 'watch' with probability 0.98\n",
      "image_save_path_good good_watch_folder\\8839559703764010961f4520ad17c333.png\n"
     ]
    },
    {
     "name": "stderr",
     "output_type": "stream",
     "text": [
      "Processing images:  53%|█████▎    | 592/1116 [01:50<01:14,  7.03it/s]"
     ]
    },
    {
     "name": "stdout",
     "output_type": "stream",
     "text": [
      "1: knot (0.15)\n",
      "2: nail (0.08)\n",
      "3: hook (0.06)\n",
      "4: matchstick (0.05)\n",
      "5: abaya (0.04)\n",
      "image_save_path_bad bad_watch_folder\\88b6199792032b891a3f1020c45eb400.png\n",
      "1: stopwatch (0.96)\n",
      "2: analog_clock (0.03)\n",
      "3: digital_watch (0.01)\n",
      "4: barometer (0.00)\n",
      "5: scale (0.00)\n",
      "Found 'watch' with probability 0.96\n",
      "image_save_path_good good_watch_folder\\88d2d86dd7454fbbd86990a3800fe59f.png\n",
      "1: stopwatch (0.63)\n",
      "2: analog_clock (0.35)\n",
      "3: digital_watch (0.01)\n",
      "4: barometer (0.00)\n",
      "5: wall_clock (0.00)\n",
      "Found 'watch' with probability 0.63\n",
      "image_save_path_good good_watch_folder\\88ebd8bf182bbc05dc7b193b56662311.png\n"
     ]
    },
    {
     "name": "stderr",
     "output_type": "stream",
     "text": [
      "\r",
      "Processing images:  53%|█████▎    | 593/1116 [01:51<01:29,  5.81it/s]"
     ]
    },
    {
     "name": "stdout",
     "output_type": "stream",
     "text": [
      "1: stopwatch (0.70)\n",
      "2: analog_clock (0.13)\n",
      "3: digital_watch (0.12)\n",
      "4: reflex_camera (0.02)\n",
      "5: barometer (0.01)\n",
      "Found 'watch' with probability 0.70\n",
      "image_save_path_good good_watch_folder\\89518711ce4b47310a9286b1e47231c1.png\n",
      "1: stopwatch (0.84)\n",
      "2: analog_clock (0.08)\n",
      "3: digital_watch (0.05)\n",
      "4: buckle (0.01)\n",
      "5: reflex_camera (0.01)\n",
      "Found 'watch' with probability 0.84\n",
      "image_save_path_good good_watch_folder\\88f8ed5ba5bff7a9dc00a71774a8fd4d.png\n"
     ]
    },
    {
     "name": "stderr",
     "output_type": "stream",
     "text": [
      "\r",
      "Processing images:  53%|█████▎    | 595/1116 [01:51<01:30,  5.75it/s]"
     ]
    },
    {
     "name": "stdout",
     "output_type": "stream",
     "text": [
      "1: stopwatch (0.76)\n",
      "2: reflex_camera (0.08)\n",
      "3: digital_watch (0.06)\n",
      "4: analog_clock (0.03)\n",
      "5: buckle (0.03)\n",
      "Found 'watch' with probability 0.76\n",
      "image_save_path_good good_watch_folder\\8911ddeb732e1caadc7a1b7a913e9a5f.png\n"
     ]
    },
    {
     "name": "stderr",
     "output_type": "stream",
     "text": [
      "\r",
      "Processing images:  54%|█████▎    | 598/1116 [01:51<01:19,  6.51it/s]"
     ]
    },
    {
     "name": "stdout",
     "output_type": "stream",
     "text": [
      "1: analog_clock (0.38)\n",
      "2: stopwatch (0.36)\n",
      "3: barometer (0.17)\n",
      "4: digital_watch (0.04)\n",
      "5: scale (0.04)\n",
      "Found 'watch' with probability 0.38\n",
      "image_save_path_good good_watch_folder\\898856740197fce76177bb90fe775529.png\n"
     ]
    },
    {
     "name": "stderr",
     "output_type": "stream",
     "text": [
      "Processing images:  54%|█████▍    | 600/1116 [01:52<01:20,  6.38it/s]"
     ]
    },
    {
     "name": "stdout",
     "output_type": "stream",
     "text": [
      "1: barometer (0.71)\n",
      "2: analog_clock (0.13)\n",
      "3: stopwatch (0.07)\n",
      "4: magnetic_compass (0.05)\n",
      "5: digital_watch (0.02)\n",
      "Found 'watch' with probability 0.13\n",
      "image_save_path_good good_watch_folder\\8954163e15bb4bfc3c596758a5bf03e1.png\n",
      "1: stopwatch (0.97)\n",
      "2: analog_clock (0.02)\n",
      "3: digital_watch (0.01)\n",
      "4: barometer (0.00)\n",
      "5: magnetic_compass (0.00)\n",
      "Found 'watch' with probability 0.97\n",
      "image_save_path_good good_watch_folder\\899096bb5f05a2dac273148b71ea6cfa.png\n"
     ]
    },
    {
     "name": "stderr",
     "output_type": "stream",
     "text": [
      "\r",
      "Processing images:  54%|█████▍    | 601/1116 [01:52<01:54,  4.51it/s]"
     ]
    },
    {
     "name": "stdout",
     "output_type": "stream",
     "text": [
      "1: stopwatch (0.97)\n",
      "2: digital_watch (0.02)\n",
      "3: analog_clock (0.01)\n",
      "4: magnetic_compass (0.00)\n",
      "5: reflex_camera (0.00)\n",
      "Found 'watch' with probability 0.97\n",
      "image_save_path_good good_watch_folder\\8a109bb2d04f22dd53b05bf04e1b8a4e.png\n"
     ]
    },
    {
     "name": "stderr",
     "output_type": "stream",
     "text": [
      "\r",
      "Processing images:  54%|█████▍    | 602/1116 [01:53<02:35,  3.31it/s]"
     ]
    },
    {
     "name": "stdout",
     "output_type": "stream",
     "text": [
      "1: stopwatch (0.92)\n",
      "2: analog_clock (0.05)\n",
      "3: digital_watch (0.01)\n",
      "4: barometer (0.01)\n",
      "5: magnetic_compass (0.00)\n",
      "Found 'watch' with probability 0.92\n",
      "image_save_path_good good_watch_folder\\89d3f4ac611dec6c4b9a44659adfa17d.png\n",
      "1: stopwatch (0.96)\n",
      "2: digital_watch (0.03)\n",
      "3: analog_clock (0.01)\n",
      "4: magnetic_compass (0.00)\n",
      "5: reflex_camera (0.00)\n",
      "Found 'watch' with probability 0.96\n",
      "image_save_path_good good_watch_folder\\89b2897274fac6efc677a44cba14db97.png\n",
      "1: stopwatch (0.88)\n",
      "2: analog_clock (0.09)\n",
      "3: magnetic_compass (0.01)\n",
      "4: digital_watch (0.01)\n",
      "5: barometer (0.01)\n",
      "Found 'watch' with probability 0.88\n",
      "image_save_path_good good_watch_folder\\8aa070f72e6b8922b6820d45f72e150a.png\n",
      "1: stopwatch (0.91)\n",
      "2: barometer (0.04)\n",
      "3: digital_watch (0.02)\n",
      "4: analog_clock (0.01)\n",
      "5: magnetic_compass (0.01)\n",
      "Found 'watch' with probability 0.91\n",
      "image_save_path_good good_watch_folder\\8a6535776534a9de45e86afb56593c95.png\n"
     ]
    },
    {
     "name": "stderr",
     "output_type": "stream",
     "text": [
      "\r",
      "Processing images:  54%|█████▍    | 603/1116 [01:53<02:09,  3.95it/s]"
     ]
    },
    {
     "name": "stdout",
     "output_type": "stream",
     "text": [
      "1: stopwatch (0.98)\n",
      "2: analog_clock (0.01)\n",
      "3: digital_watch (0.00)\n",
      "4: barometer (0.00)\n",
      "5: magnetic_compass (0.00)\n",
      "Found 'watch' with probability 0.98\n",
      "image_save_path_good good_watch_folder\\8aac312880dab37806ec2b136c151759.png\n",
      "1: stopwatch (1.00)\n",
      "2: barometer (0.00)\n",
      "3: analog_clock (0.00)\n",
      "4: magnetic_compass (0.00)\n",
      "5: digital_watch (0.00)\n",
      "Found 'watch' with probability 1.00\n",
      "image_save_path_good good_watch_folder\\8aba6fc2d63aa823d7f8358f40148b09.png\n",
      "1: beaker (0.30)\n",
      "2: dishwasher (0.13)\n",
      "3: cleaver (0.06)\n",
      "4: nipple (0.06)\n",
      "5: web_site (0.05)\n",
      "image_save_path_bad bad_watch_folder\\8ae1c77655ee202ebf0c1fde52d187ac.png\n",
      "1: stopwatch (1.00)\n",
      "2: analog_clock (0.00)\n",
      "3: digital_watch (0.00)\n",
      "4: barometer (0.00)\n",
      "5: binoculars (0.00)\n",
      "Found 'watch' with probability 1.00\n",
      "image_save_path_good good_watch_folder\\8ad37697daeb73938dd674ddf9e783ea.png\n"
     ]
    },
    {
     "name": "stderr",
     "output_type": "stream",
     "text": [
      "Processing images:  55%|█████▍    | 612/1116 [01:54<01:10,  7.19it/s]"
     ]
    },
    {
     "name": "stdout",
     "output_type": "stream",
     "text": [
      "1: stopwatch (0.57)\n",
      "2: barometer (0.24)\n",
      "3: analog_clock (0.07)\n",
      "4: digital_watch (0.05)\n",
      "5: scale (0.02)\n",
      "Found 'watch' with probability 0.57\n",
      "image_save_path_good good_watch_folder\\8d3838c44fa8e2ae0df413ee270b90ff.png\n",
      "1: stopwatch (0.86)\n",
      "2: barometer (0.06)\n",
      "3: analog_clock (0.04)\n",
      "4: digital_watch (0.01)\n",
      "5: scale (0.01)\n",
      "Found 'watch' with probability 0.86\n",
      "image_save_path_good good_watch_folder\\8b971b30cb3774042d66b120e0b1a7e2.png\n",
      "1: stopwatch (0.98)\n",
      "2: digital_watch (0.01)\n",
      "3: reflex_camera (0.00)\n",
      "4: scale (0.00)\n",
      "5: analog_clock (0.00)\n",
      "Found 'watch' with probability 0.98\n",
      "image_save_path_good good_watch_folder\\8b288c05aac7bd8fa000078d1963ab58.png\n",
      "1: stopwatch (0.76)\n",
      "2: scale (0.07)\n",
      "3: analog_clock (0.04)\n",
      "4: barometer (0.04)\n",
      "5: digital_watch (0.04)\n",
      "Found 'watch' with probability 0.76\n",
      "image_save_path_good good_watch_folder\\8eb96cd6e506809b214966400dc5f1b6.png\n",
      "1: slide_rule (0.48)\n",
      "2: stopwatch (0.45)\n",
      "3: barometer (0.06)\n",
      "4: magnetic_compass (0.00)\n",
      "5: scale (0.00)\n",
      "Found 'watch' with probability 0.45\n",
      "image_save_path_good good_watch_folder\\8e181ffcd906ebc3d7a4c1b1b7397f8b.png\n",
      "1: analog_clock (0.44)\n",
      "2: stopwatch (0.28)\n",
      "3: barometer (0.25)\n",
      "4: digital_watch (0.01)\n",
      "5: magnetic_compass (0.01)\n",
      "Found 'watch' with probability 0.44\n",
      "image_save_path_good good_watch_folder\\8c62df25ef49b161d579463455f02c07.png\n",
      "1: stopwatch (0.83)\n",
      "2: reflex_camera (0.04)\n",
      "3: digital_watch (0.04)\n",
      "4: analog_clock (0.03)\n",
      "5: magnetic_compass (0.02)\n",
      "Found 'watch' with probability 0.83\n",
      "image_save_path_good good_watch_folder\\8d5646e74853f5290e33a435996262d2.png\n"
     ]
    },
    {
     "name": "stderr",
     "output_type": "stream",
     "text": [
      "\r",
      "Processing images:  55%|█████▍    | 613/1116 [01:55<01:56,  4.33it/s]"
     ]
    },
    {
     "name": "stdout",
     "output_type": "stream",
     "text": [
      "1: analog_clock (0.63)\n",
      "2: stopwatch (0.26)\n",
      "3: digital_watch (0.05)\n",
      "4: barometer (0.04)\n",
      "5: wall_clock (0.02)\n",
      "Found 'watch' with probability 0.63\n",
      "image_save_path_good good_watch_folder\\8d050b3c90572ca3b67c697be269208d.png\n"
     ]
    },
    {
     "name": "stderr",
     "output_type": "stream",
     "text": [
      "Processing images:  56%|█████▌    | 620/1116 [01:55<01:05,  7.61it/s]"
     ]
    },
    {
     "name": "stdout",
     "output_type": "stream",
     "text": [
      "1: stopwatch (0.96)1: stopwatch (0.94)\n",
      "2: analog_clock (0.02)\n",
      "3: barometer (0.02)\n",
      "4: magnetic_compass (0.01)\n",
      "5: digital_watch (0.00)\n",
      "Found 'watch' with probability 0.94\n",
      "image_save_path_good good_watch_folder\\8f03eff8bab468ee8a2a992752ab40fc.png\n",
      "\n",
      "2: digital_watch (0.02)\n",
      "3: analog_clock (0.00)\n",
      "4: magnetic_compass (0.00)\n",
      "5: dial_telephone (0.00)\n",
      "Found 'watch' with probability 0.96\n",
      "image_save_path_good good_watch_folder\\8f3b30abf92305609821581f4e69d9ed.png\n",
      "1: nematode (0.16)\n",
      "2: loupe (0.15)\n",
      "3: web_site (0.14)\n",
      "4: hook (0.05)\n",
      "5: bow (0.03)\n",
      "image_save_path_bad bad_watch_folder\\8eef12c23b52ab3aead72c0be643e635.png\n",
      "1: stopwatch (0.97)\n",
      "2: magnetic_compass (0.01)\n",
      "3: barometer (0.01)\n",
      "4: analog_clock (0.00)\n",
      "5: digital_watch (0.00)\n",
      "Found 'watch' with probability 0.97\n",
      "image_save_path_good good_watch_folder\\905f9025356a76c494a663dabb2bd3cf.png\n",
      "1: stopwatch (0.99)\n",
      "2: magnetic_compass (0.01)\n",
      "3: barometer (0.01)\n",
      "4: analog_clock (0.00)\n",
      "5: digital_watch (0.00)\n",
      "Found 'watch' with probability 0.99\n",
      "image_save_path_good good_watch_folder\\8ef925c88ae8238fe0d259c8c01a6674.png\n",
      "1: stopwatch (0.89)\n",
      "2: analog_clock (0.09)\n",
      "3: digital_watch (0.01)\n",
      "4: barometer (0.01)\n",
      "5: scale (0.00)\n",
      "Found 'watch' with probability 0.89\n",
      "image_save_path_good good_watch_folder\\8f7cda71d42cdce4c5f0c7c621ffa4d3.png\n"
     ]
    },
    {
     "name": "stderr",
     "output_type": "stream",
     "text": [
      "\r",
      "Processing images:  56%|█████▌    | 621/1116 [01:56<01:38,  5.01it/s]"
     ]
    },
    {
     "name": "stdout",
     "output_type": "stream",
     "text": [
      "1: digital_watch (0.27)\n",
      "2: analog_clock (0.14)\n",
      "3: wallet (0.10)\n",
      "4: abaya (0.06)\n",
      "5: chain (0.04)\n",
      "Found 'watch' with probability 0.27\n",
      "image_save_path_good good_watch_folder\\8f9ec1e31848df0ac6f72e36688caa86.png\n",
      "1: stopwatch (0.57)\n",
      "2: barometer (0.14)\n",
      "3: scale (0.08)\n",
      "4: analog_clock (0.06)\n",
      "5: digital_watch (0.06)\n",
      "Found 'watch' with probability 0.57\n",
      "image_save_path_good good_watch_folder\\8f8d151fbd0baad16373b53933e5c25e.png\n",
      "1: stopwatch (0.81)\n",
      "2: analog_clock (0.17)\n",
      "3: digital_watch (0.01)\n",
      "4: barometer (0.00)\n",
      "5: wall_clock (0.00)\n",
      "Found 'watch' with probability 0.81\n",
      "image_save_path_good good_watch_folder\\906e7364e4a676c6c3bcd98c8d4adc2e.png\n"
     ]
    },
    {
     "name": "stderr",
     "output_type": "stream",
     "text": [
      "Processing images:  56%|█████▌    | 626/1116 [01:57<01:11,  6.82it/s]"
     ]
    },
    {
     "name": "stdout",
     "output_type": "stream",
     "text": [
      "1: stopwatch (0.94)\n",
      "2: digital_watch (0.04)\n",
      "3: analog_clock (0.02)\n",
      "4: combination_lock (0.00)\n",
      "5: reflex_camera (0.00)\n",
      "Found 'watch' with probability 0.94\n",
      "image_save_path_good good_watch_folder\\90b47dc2f8f6f4dfebc205ca0ef8baf3.png\n"
     ]
    },
    {
     "name": "stderr",
     "output_type": "stream",
     "text": [
      "\r",
      "Processing images:  56%|█████▋    | 628/1116 [01:57<00:56,  8.63it/s]"
     ]
    },
    {
     "name": "stdout",
     "output_type": "stream",
     "text": [
      "1: stopwatch (0.98)\n",
      "2: digital_watch (0.01)\n",
      "3: analog_clock (0.00)\n",
      "4: reflex_camera (0.00)\n",
      "5: magnetic_compass (0.00)\n",
      "Found 'watch' with probability 0.98\n",
      "image_save_path_good good_watch_folder\\909f9bc6db65d41d2d6fbfae45b7fb61.png\n",
      "1: stopwatch (0.93)\n",
      "2: reflex_camera (0.03)\n",
      "3: magnetic_compass (0.01)\n",
      "4: digital_watch (0.01)\n",
      "5: analog_clock (0.00)\n",
      "Found 'watch' with probability 0.93\n",
      "image_save_path_good good_watch_folder\\90cafff2fe4d2866c2144ed0206ae7af.png\n",
      "1: barometer (0.52)\n",
      "2: stopwatch (0.47)\n",
      "3: analog_clock (0.01)\n",
      "4: magnetic_compass (0.00)\n",
      "5: odometer (0.00)\n",
      "Found 'watch' with probability 0.47\n",
      "image_save_path_good good_watch_folder\\91b82da3064723aae602f54383ba50d0.png\n",
      "1: stopwatch (0.88)\n",
      "2: barometer (0.05)\n",
      "3: magnetic_compass (0.03)\n",
      "4: digital_watch (0.01)\n",
      "5: scale (0.01)\n",
      "Found 'watch' with probability 0.88\n",
      "image_save_path_good good_watch_folder\\91b24609f87f1eeb0e931fd001f32d48.png\n"
     ]
    },
    {
     "name": "stderr",
     "output_type": "stream",
     "text": [
      "\r",
      "Processing images:  56%|█████▋    | 630/1116 [01:58<02:47,  2.91it/s]"
     ]
    },
    {
     "name": "stdout",
     "output_type": "stream",
     "text": [
      "1: stopwatch (0.50)1: stopwatch (0.92)\n",
      "2: analog_clock (0.07)\n",
      "3: barometer (0.00)\n",
      "4: digital_watch (0.00)\n",
      "5: magnetic_compass (0.00)\n",
      "Found 'watch' with probability 0.92\n",
      "image_save_path_good good_watch_folder\\9362edfa6d4bc8818b08f7102a9f12e9.png\n",
      "1: analog_clock (0.73)\n",
      "2: stopwatch (0.21)\n",
      "3: wall_clock (0.03)\n",
      "4: magnetic_compass (0.01)\n",
      "5: barometer (0.01)\n",
      "Found 'watch' with probability 0.73\n",
      "image_save_path_good good_watch_folder\\9391496d174d68b30fe3fd997846914b.png\n",
      "\n",
      "2: analog_clock (0.32)\n",
      "3: scale (0.11)\n",
      "4: barometer (0.07)\n",
      "5: magnetic_compass (0.00)\n",
      "Found 'watch' with probability 0.50\n",
      "image_save_path_good good_watch_folder\\9391aa6871ee237943db79ffe29afd1a.png\n",
      "1: tripod (0.06)\n",
      "2: chain (0.06)\n",
      "3: bubble (0.05)\n",
      "4: nail (0.04)\n",
      "5: sidewinder (0.03)\n",
      "image_save_path_bad bad_watch_folder\\92294ee0105cdc2af5a7232c67d03538.png\n",
      "1: stopwatch (0.87)\n",
      "2: analog_clock (0.09)\n",
      "3: barometer (0.02)\n",
      "4: digital_watch (0.01)\n",
      "5: magnetic_compass (0.01)\n",
      "Found 'watch' with probability 0.87\n",
      "image_save_path_good good_watch_folder\\92f2d853ea3e3ed887383491f8c51ae0.png\n",
      "1: stopwatch (0.87)\n",
      "2: digital_watch (0.07)\n",
      "3: analog_clock (0.05)\n",
      "4: magnetic_compass (0.00)\n",
      "5: barometer (0.00)\n",
      "Found 'watch' with probability 0.87\n",
      "image_save_path_good good_watch_folder\\938d836e37502f379faf5bb2069dca03.png\n",
      "1: stopwatch (0.99)\n",
      "2: magnetic_compass (0.00)\n",
      "3: digital_watch (0.00)\n",
      "4: barometer (0.00)\n",
      "5: scale (0.00)\n",
      "Found 'watch' with probability 0.99\n",
      "image_save_path_good good_watch_folder\\9251552061f2faf033018db5c44a55fe.png\n",
      "1: stopwatch (0.96)\n",
      "2: magnetic_compass (0.03)\n",
      "3: barometer (0.01)\n",
      "4: digital_watch (0.01)\n",
      "5: analog_clock (0.00)\n",
      "Found 'watch' with probability 0.96\n",
      "image_save_path_good good_watch_folder\\93641f099198150a985b4e2027bdc0a3.png\n",
      "1: stopwatch (0.71)\n",
      "2: barometer (0.25)\n",
      "3: analog_clock (0.04)\n",
      "4: magnetic_compass (0.00)\n",
      "5: sundial (0.00)\n",
      "Found 'watch' with probability 0.71\n",
      "image_save_path_good good_watch_folder\\92fd8b7cc81120f796ec2ebf1e86f374.png\n",
      "1: iron (0.74)\n",
      "2: can_opener (0.09)\n",
      "3: Windsor_tie (0.03)\n",
      "4: soap_dispenser (0.01)\n",
      "5: letter_opener (0.01)\n",
      "image_save_path_bad bad_watch_folder\\9211bdd9f993e0b9d664c67c4ecf22f7.png\n"
     ]
    },
    {
     "name": "stderr",
     "output_type": "stream",
     "text": [
      "Processing images:  58%|█████▊    | 644/1116 [01:59<00:49,  9.54it/s]"
     ]
    },
    {
     "name": "stdout",
     "output_type": "stream",
     "text": [
      "1: stopwatch (0.99)\n",
      "2: digital_watch (0.00)\n",
      "3: reflex_camera (0.00)\n",
      "4: scale (0.00)\n",
      "5: magnetic_compass (0.00)\n",
      "Found 'watch' with probability 0.99\n",
      "image_save_path_good good_watch_folder\\9423244220ffcd429e04b3589b00fc41.png\n",
      "1: analog_clock (0.35)\n",
      "2: barometer (0.34)\n",
      "3: stopwatch (0.28)\n",
      "4: scale (0.01)\n",
      "5: magnetic_compass (0.01)\n",
      "Found 'watch' with probability 0.35\n",
      "image_save_path_good good_watch_folder\\93c8028e04701e2019b0e866de382838.png\n",
      "1: stopwatch (0.96)\n",
      "2: magnetic_compass (0.02)\n",
      "3: analog_clock (0.01)\n",
      "4: digital_watch (0.01)\n",
      "5: barometer (0.00)\n",
      "Found 'watch' with probability 0.96\n",
      "image_save_path_good good_watch_folder\\93ed0893bdeb610eb068eb873f0a8047.png\n",
      "1: stopwatch (1.00)\n",
      "2: barometer (0.00)\n",
      "3: scale (0.00)\n",
      "4: digital_watch (0.00)\n",
      "5: magnetic_compass (0.00)\n",
      "Found 'watch' with probability 1.00\n",
      "image_save_path_good good_watch_folder\\94bc9449e32d6ab3f6341dde960ffa08.png\n",
      "1: stopwatch (0.71)\n",
      "2: analog_clock (0.25)\n",
      "3: barometer (0.01)\n",
      "4: wall_clock (0.01)\n",
      "5: magnetic_compass (0.01)\n",
      "Found 'watch' with probability 0.71\n",
      "image_save_path_good good_watch_folder\\9445532520e9aa2dd402ea22237b78e4.png\n",
      "1: stopwatch (0.81)\n",
      "2: barometer (0.06)\n",
      "3: digital_watch (0.05)\n",
      "4: analog_clock (0.04)\n",
      "5: magnetic_compass (0.02)\n",
      "Found 'watch' with probability 0.81\n",
      "image_save_path_good good_watch_folder\\9391e10fdefa5c9689e9e04b3fe52685.png\n",
      "1: stopwatch (0.98)\n",
      "2: scale (0.02)\n",
      "3: digital_watch (0.00)\n",
      "4: magnetic_compass (0.00)\n",
      "5: barometer (0.00)\n",
      "Found 'watch' with probability 0.98\n",
      "image_save_path_good good_watch_folder\\94d080da3e5a1a1124a96f0672ee70f5.png\n"
     ]
    },
    {
     "name": "stderr",
     "output_type": "stream",
     "text": [
      "Processing images:  58%|█████▊    | 650/1116 [02:01<01:14,  6.28it/s]"
     ]
    },
    {
     "name": "stdout",
     "output_type": "stream",
     "text": [
      "1: stopwatch (0.79)\n",
      "2: analog_clock (0.18)\n",
      "3: magnetic_compass (0.01)\n",
      "4: barometer (0.01)\n",
      "5: wall_clock (0.01)\n",
      "Found 'watch' with probability 0.79\n",
      "image_save_path_good good_watch_folder\\971e9c4c82c58ba66e884f1eca456aba.png\n",
      "1: nematode (0.14)\n",
      "2: matchstick (0.07)\n",
      "3: hook (0.06)\n",
      "4: nail (0.06)\n",
      "5: candle (0.03)\n",
      "image_save_path_bad bad_watch_folder\\96c80fcd97b936f7d594389c2011f385.png\n",
      "1: stopwatch (0.99)\n",
      "2: magnetic_compass (0.00)\n",
      "3: digital_watch (0.00)\n",
      "4: barometer (0.00)\n",
      "5: analog_clock (0.00)\n",
      "Found 'watch' with probability 0.99\n",
      "image_save_path_good good_watch_folder\\96ada34eda1768e3e94ff38e767df74f.png\n",
      "1: mousetrap (0.42)\n",
      "2: lighter (0.15)\n",
      "3: wall_clock (0.09)\n",
      "4: dial_telephone (0.08)\n",
      "5: analog_clock (0.06)\n",
      "Found 'watch' with probability 0.09\n",
      "image_save_path_good good_watch_folder\\9529bc486bdea2214b2f18ff35e40d3a.png\n"
     ]
    },
    {
     "name": "stderr",
     "output_type": "stream",
     "text": [
      "\r",
      "Processing images:  58%|█████▊    | 652/1116 [02:01<01:18,  5.92it/s]"
     ]
    },
    {
     "name": "stdout",
     "output_type": "stream",
     "text": [
      "1: analog_clock (0.55)\n",
      "2: stopwatch (0.38)\n",
      "3: wall_clock (0.03)\n",
      "4: magnetic_compass (0.02)\n",
      "5: digital_watch (0.01)\n",
      "Found 'watch' with probability 0.55\n",
      "image_save_path_good good_watch_folder\\96f82e7803661229290bb64ffc27f16a.png\n",
      "1: analog_clock (0.70)\n",
      "2: stopwatch (0.16)\n",
      "3: wall_clock (0.07)\n",
      "4: magnetic_compass (0.03)\n",
      "5: digital_watch (0.01)\n",
      "Found 'watch' with probability 0.70\n",
      "image_save_path_good good_watch_folder\\969d2e5a02d62745344286c5f5c2d5e3.png\n",
      "1: reflex_camera (0.73)\n",
      "2: digital_watch (0.10)\n",
      "3: barometer (0.04)\n",
      "4: lens_cap (0.02)\n",
      "5: water_bottle (0.02)\n",
      "Found 'watch' with probability 0.10\n",
      "image_save_path_good good_watch_folder\\9515e0343ebb1f21ab9ad1782a2088f9.png\n"
     ]
    },
    {
     "name": "stderr",
     "output_type": "stream",
     "text": [
      "Processing images:  59%|█████▊    | 655/1116 [02:02<01:42,  4.51it/s]"
     ]
    },
    {
     "name": "stdout",
     "output_type": "stream",
     "text": [
      "1: stopwatch (0.96)\n",
      "2: scale (0.02)\n",
      "3: barometer (0.00)\n",
      "4: digital_watch (0.00)\n",
      "5: reflex_camera (0.00)\n",
      "Found 'watch' with probability 0.96\n",
      "image_save_path_good good_watch_folder\\979d5d0e2f7ea06867dd57cfdd514431.png\n",
      "1: stopwatch (0.99)\n",
      "2: magnetic_compass (0.00)\n",
      "3: digital_watch (0.00)\n",
      "4: analog_clock (0.00)\n",
      "5: barometer (0.00)\n",
      "Found 'watch' with probability 0.99\n",
      "image_save_path_good good_watch_folder\\96f94408b1a3ec6647fc84c12bc05fbd.png\n",
      "1: stopwatch (0.51)\n",
      "2: analog_clock (0.43)\n",
      "3: digital_watch (0.02)\n",
      "4: pencil_sharpener (0.01)\n",
      "5: barometer (0.01)\n",
      "Found 'watch' with probability 0.51\n",
      "image_save_path_good good_watch_folder\\97e910fb2adfdd84df88240c887024a5.png\n",
      "1: stopwatch (1.00)\n",
      "2: analog_clock (0.00)\n",
      "3: digital_watch (0.00)\n",
      "4: barometer (0.00)\n",
      "5: magnetic_compass (0.00)\n",
      "Found 'watch' with probability 1.00\n",
      "image_save_path_good good_watch_folder\\9836176d037aedb78adb9b2577e57e72.png\n",
      "1: stopwatch (0.98)\n",
      "2: digital_watch (0.01)\n",
      "3: analog_clock (0.00)\n",
      "4: lighter (0.00)\n",
      "5: scale (0.00)\n",
      "Found 'watch' with probability 0.98\n",
      "image_save_path_good good_watch_folder\\97f484b2467057f4e6530c6ba2fc732a.png\n"
     ]
    },
    {
     "name": "stderr",
     "output_type": "stream",
     "text": [
      "\r",
      "Processing images:  59%|█████▉    | 656/1116 [02:03<02:01,  3.79it/s]"
     ]
    },
    {
     "name": "stdout",
     "output_type": "stream",
     "text": [
      "1: barometer (0.58)\n",
      "2: scale (0.17)\n",
      "3: stopwatch (0.16)\n",
      "4: analog_clock (0.06)\n",
      "5: slide_rule (0.02)\n",
      "Found 'watch' with probability 0.16\n",
      "image_save_path_good good_watch_folder\\9864cd02bc5a95733379b19daa9ad3a5.png\n"
     ]
    },
    {
     "name": "stderr",
     "output_type": "stream",
     "text": [
      "\r",
      "Processing images:  59%|█████▉    | 659/1116 [02:03<01:29,  5.11it/s]"
     ]
    },
    {
     "name": "stdout",
     "output_type": "stream",
     "text": [
      "1: stopwatch (0.79)\n",
      "2: barometer (0.09)\n",
      "3: analog_clock (0.04)\n",
      "4: digital_watch (0.03)\n",
      "5: magnetic_compass (0.03)\n",
      "Found 'watch' with probability 0.79\n",
      "image_save_path_good good_watch_folder\\996ac6c278825aed50d4fc087df6355f.png\n",
      "1: stopwatch (0.53)\n",
      "2: digital_watch (0.06)\n",
      "3: cassette_player (0.05)\n",
      "4: dial_telephone (0.05)\n",
      "5: analog_clock (0.04)\n",
      "Found 'watch' with probability 0.53\n",
      "image_save_path_good good_watch_folder\\99c3a8f7a6aea8c33bec5f7b82dac941.png\n"
     ]
    },
    {
     "name": "stderr",
     "output_type": "stream",
     "text": [
      "\r",
      "Processing images:  59%|█████▉    | 663/1116 [02:04<01:17,  5.84it/s]"
     ]
    },
    {
     "name": "stdout",
     "output_type": "stream",
     "text": [
      "1: stopwatch (0.99)\n",
      "2: magnetic_compass (0.01)\n",
      "3: digital_watch (0.00)\n",
      "4: analog_clock (0.00)\n",
      "5: barometer (0.00)\n",
      "Found 'watch' with probability 0.99\n",
      "image_save_path_good good_watch_folder\\98df7751a0101b6c24dff89b8add631f.png\n"
     ]
    },
    {
     "name": "stderr",
     "output_type": "stream",
     "text": [
      "\r",
      "Processing images:  59%|█████▉    | 664/1116 [02:04<01:34,  4.79it/s]"
     ]
    },
    {
     "name": "stdout",
     "output_type": "stream",
     "text": [
      "1: stopwatch (0.92)\n",
      "2: analog_clock (0.07)\n",
      "3: digital_watch (0.00)\n",
      "4: barometer (0.00)\n",
      "5: wall_clock (0.00)\n",
      "Found 'watch' with probability 0.92\n",
      "image_save_path_good good_watch_folder\\98b252bdbc35a2049f5820ce0e454591.png\n",
      "1: stopwatch (0.68)\n",
      "2: analog_clock (0.26)\n",
      "3: magnetic_compass (0.04)\n",
      "4: digital_watch (0.01)\n",
      "5: barometer (0.00)\n",
      "Found 'watch' with probability 0.68\n",
      "image_save_path_good good_watch_folder\\989ce91cbd758c7be228b507a1f6a114.png\n",
      "1: stopwatch (0.94)\n",
      "2: analog_clock (0.04)\n",
      "3: digital_watch (0.02)\n",
      "4: scale (0.00)\n",
      "5: reflex_camera (0.00)\n",
      "Found 'watch' with probability 0.94\n",
      "image_save_path_good good_watch_folder\\99b1a4deafa72e0527cd9b677efde946.png\n"
     ]
    },
    {
     "name": "stderr",
     "output_type": "stream",
     "text": [
      "Processing images:  60%|█████▉    | 669/1116 [02:05<01:01,  7.31it/s]"
     ]
    },
    {
     "name": "stdout",
     "output_type": "stream",
     "text": [
      "1: web_site (0.67)1: stopwatch (0.70)\n",
      "2: analog_clock (0.26)\n",
      "3: digital_watch (0.02)\n",
      "4: magnetic_compass (0.01)\n",
      "5: wall_clock (0.01)\n",
      "Found 'watch' with probability 0.70\n",
      "image_save_path_good good_watch_folder\\99e81354de6d34a61424151378080417.png\n",
      "1: stopwatch (0.96)\n",
      "2: scale (0.02)\n",
      "3: barometer (0.01)\n",
      "4: digital_watch (0.01)\n",
      "5: analog_clock (0.00)\n",
      "Found 'watch' with probability 0.96\n",
      "image_save_path_good good_watch_folder\\9a093ad67598706aef130a0818146f6e.png\n",
      "\n",
      "2: stopwatch (0.02)\n",
      "3: bannister (0.02)\n",
      "4: digital_clock (0.01)\n",
      "5: analog_clock (0.01)\n",
      "Found 'watch' with probability 0.02\n",
      "image_save_path_good good_watch_folder\\9a27f85fb0f43e68fa6fee3339eeaedf.png\n",
      "1: analog_clock (0.62)\n",
      "2: stopwatch (0.36)\n",
      "3: wall_clock (0.02)\n",
      "4: barometer (0.00)\n",
      "5: digital_watch (0.00)\n",
      "Found 'watch' with probability 0.62\n",
      "image_save_path_good good_watch_folder\\9b04d80020f4dfb2a245c17310325fae.png\n",
      "1: stopwatch (0.90)\n",
      "2: analog_clock (0.10)\n",
      "3: digital_watch (0.00)\n",
      "4: barometer (0.00)\n",
      "5: wall_clock (0.00)\n",
      "Found 'watch' with probability 0.90\n",
      "image_save_path_good good_watch_folder\\9a744970db13a6a15c7545f568374ac7.png\n",
      "1: analog_clock (0.63)\n",
      "2: stopwatch (0.34)\n",
      "3: wall_clock (0.02)\n",
      "4: magnetic_compass (0.01)\n",
      "5: barometer (0.01)\n",
      "Found 'watch' with probability 0.63\n",
      "image_save_path_good good_watch_folder\\99fc7452d2d885f4621f8610bfb0b293.png\n",
      "1: stopwatch (0.58)\n",
      "2: analog_clock (0.40)\n",
      "3: wall_clock (0.01)\n",
      "4: digital_watch (0.00)\n",
      "5: barometer (0.00)\n",
      "Found 'watch' with probability 0.58\n",
      "image_save_path_good good_watch_folder\\9a6fb384bd994b28718389535adc3f75.png\n",
      "1: stopwatch (0.99)\n",
      "2: analog_clock (0.00)\n",
      "3: digital_watch (0.00)\n",
      "4: barometer (0.00)\n",
      "5: magnetic_compass (0.00)\n",
      "Found 'watch' with probability 0.99\n",
      "image_save_path_good good_watch_folder\\9b94513bc8b93cfac5a19b8f68c31f19.png\n"
     ]
    },
    {
     "name": "stderr",
     "output_type": "stream",
     "text": [
      "\r",
      "Processing images:  60%|██████    | 671/1116 [02:05<01:27,  5.07it/s]"
     ]
    },
    {
     "name": "stdout",
     "output_type": "stream",
     "text": [
      "1: stopwatch (0.71)\n",
      "2: digital_watch (0.20)\n",
      "3: analog_clock (0.06)\n",
      "4: combination_lock (0.01)\n",
      "5: magnetic_compass (0.01)\n",
      "Found 'watch' with probability 0.71\n",
      "image_save_path_good good_watch_folder\\9afb8f2cbd162b9a88e659b6151981e1.png\n"
     ]
    },
    {
     "name": "stderr",
     "output_type": "stream",
     "text": [
      "\r",
      "Processing images:  61%|██████    | 677/1116 [02:05<00:45,  9.63it/s]"
     ]
    },
    {
     "name": "stdout",
     "output_type": "stream",
     "text": [
      "1: stopwatch (0.20)\n",
      "2: pencil_sharpener (0.18)\n",
      "3: drum (0.07)\n",
      "4: face_powder (0.06)\n",
      "5: digital_watch (0.06)\n",
      "Found 'watch' with probability 0.20\n",
      "image_save_path_good good_watch_folder\\9bfc696e42c1ffd26e3e69ad4fc1d3bb.png\n",
      "1: stopwatch (0.98)\n",
      "2: barometer (0.01)\n",
      "3: magnetic_compass (0.00)\n",
      "4: digital_watch (0.00)\n",
      "5: analog_clock (0.00)\n",
      "Found 'watch' with probability 0.98\n",
      "image_save_path_good good_watch_folder\\9c19233eb4ffa70fba96c33d18838dd6.png\n"
     ]
    },
    {
     "name": "stderr",
     "output_type": "stream",
     "text": [
      "\r",
      "Processing images:  61%|██████    | 680/1116 [02:07<01:20,  5.44it/s]"
     ]
    },
    {
     "name": "stdout",
     "output_type": "stream",
     "text": [
      "1: stopwatch (0.98)\n",
      "2: digital_watch (0.00)\n",
      "3: reflex_camera (0.00)\n",
      "4: radio (0.00)\n",
      "5: tripod (0.00)\n",
      "Found 'watch' with probability 0.98\n",
      "image_save_path_good good_watch_folder\\9c27a4e0224e75f997410741ced3518e.png\n",
      "1: stopwatch (0.46)\n",
      "2: analog_clock (0.19)\n",
      "3: buckle (0.11)\n",
      "4: digital_watch (0.04)\n",
      "5: holster (0.04)\n",
      "Found 'watch' with probability 0.46\n",
      "image_save_path_good good_watch_folder\\9c59b24691a1b7185643c0c7de1d7b62.png\n",
      "1: stopwatch (1.00)\n",
      "2: barometer (0.00)\n",
      "3: analog_clock (0.00)\n",
      "4: digital_watch (0.00)\n",
      "5: magnetic_compass (0.00)\n",
      "Found 'watch' with probability 1.00\n",
      "image_save_path_good good_watch_folder\\9c8f948d1dc1954dd705388c7b191218.png\n",
      "1: analog_clock (0.91)\n",
      "2: stopwatch (0.06)\n",
      "3: wall_clock (0.02)\n",
      "4: digital_watch (0.01)\n",
      "5: magnetic_compass (0.00)\n",
      "Found 'watch' with probability 0.91\n",
      "image_save_path_good good_watch_folder\\9c9a77511c978ddbf53d57862c3140ea.png\n",
      "1: stopwatch (0.95)\n",
      "2: digital_watch (0.02)\n",
      "3: analog_clock (0.02)\n",
      "4: barometer (0.01)\n",
      "5: magnetic_compass (0.00)\n",
      "Found 'watch' with probability 0.95\n",
      "image_save_path_good good_watch_folder\\9deb3825d720967eaf6b8cf0d3fbc8a8.png\n",
      "1: analog_clock (0.72)\n",
      "2: stopwatch (0.14)\n",
      "3: wall_clock (0.06)\n",
      "4: magnetic_compass (0.04)\n",
      "5: barometer (0.02)\n",
      "Found 'watch' with probability 0.72\n",
      "image_save_path_good good_watch_folder\\9e0b9d15145877c09a337f7974e1fc18.png\n",
      "1: analog_clock (0.84)\n",
      "2: stopwatch (0.15)\n",
      "3: wall_clock (0.00)\n",
      "4: digital_watch (0.00)\n",
      "5: magnetic_compass (0.00)\n",
      "Found 'watch' with probability 0.84\n",
      "image_save_path_good good_watch_folder\\9e17705408216dc07fd98811a2f46545.png\n",
      "1: barometer (0.83)\n",
      "2: magnetic_compass (0.12)\n",
      "3: slide_rule (0.03)\n",
      "4: analog_clock (0.01)\n",
      "5: scale (0.00)\n",
      "Found 'watch' with probability 0.01\n",
      "image_save_path_good good_watch_folder\\9dfa671de3043095e8793396b1571e2f.png\n"
     ]
    },
    {
     "name": "stderr",
     "output_type": "stream",
     "text": [
      "Processing images:  61%|██████▏   | 685/1116 [02:07<01:13,  5.88it/s]"
     ]
    },
    {
     "name": "stdout",
     "output_type": "stream",
     "text": [
      "1: stopwatch (0.70)\n",
      "2: analog_clock (0.14)\n",
      "3: magnetic_compass (0.06)\n",
      "4: digital_watch (0.04)\n",
      "5: barometer (0.01)\n",
      "Found 'watch' with probability 0.70\n",
      "image_save_path_good good_watch_folder\\9f2bbd53d499d79573b0d105f9feef97.png\n",
      "1: stopwatch (0.76)\n",
      "2: analog_clock (0.18)\n",
      "3: barometer (0.02)\n",
      "4: magnetic_compass (0.02)\n",
      "5: digital_watch (0.01)\n",
      "Found 'watch' with probability 0.76\n",
      "image_save_path_good good_watch_folder\\9e8dfbb2a4d5064ab02e68b896720211.png\n",
      "1: stopwatch (0.71)\n",
      "2: analog_clock (0.18)\n",
      "3: barometer (0.08)\n",
      "4: digital_watch (0.00)\n",
      "5: drum (0.00)\n",
      "Found 'watch' with probability 0.71\n",
      "image_save_path_good good_watch_folder\\9ea5a17d9cd21ea066842038f69a5496.png\n",
      "1: stopwatch (0.99)\n",
      "2: barometer (0.00)\n",
      "3: digital_watch (0.00)\n",
      "4: magnetic_compass (0.00)\n",
      "5: analog_clock (0.00)\n",
      "Found 'watch' with probability 0.99\n",
      "image_save_path_good good_watch_folder\\9f5c6f87c5bc342ea9aba4c0ca00154a.png\n",
      "1: stopwatch (0.92)\n",
      "2: analog_clock (0.04)\n",
      "3: barometer (0.02)\n",
      "4: magnetic_compass (0.01)\n",
      "5: digital_watch (0.00)\n",
      "Found 'watch' with probability 0.92\n",
      "image_save_path_good good_watch_folder\\9f602b261b151b593abe173e1ab1991d.png\n"
     ]
    },
    {
     "name": "stderr",
     "output_type": "stream",
     "text": [
      "Processing images:  62%|██████▏   | 690/1116 [02:08<01:15,  5.64it/s]"
     ]
    },
    {
     "name": "stdout",
     "output_type": "stream",
     "text": [
      "1: stopwatch (0.52)\n",
      "2: analog_clock (0.13)\n",
      "3: reflex_camera (0.05)\n",
      "4: digital_watch (0.03)\n",
      "5: binoculars (0.02)\n",
      "Found 'watch' with probability 0.52\n",
      "image_save_path_good good_watch_folder\\9f6e756021cdac3bb2e0bbd2c71655c7.png\n",
      "1: stopwatch (0.51)\n",
      "2: magnetic_compass (0.22)\n",
      "3: analog_clock (0.20)\n",
      "4: wall_clock (0.02)\n",
      "5: barometer (0.02)\n",
      "Found 'watch' with probability 0.51\n",
      "image_save_path_good good_watch_folder\\9f940bea3e00ca4c48569990d1c9500e.png\n",
      "1: stopwatch (0.60)\n",
      "2: reflex_camera (0.09)\n",
      "3: analog_clock (0.08)\n",
      "4: digital_watch (0.07)\n",
      "5: buckle (0.04)\n",
      "Found 'watch' with probability 0.60\n",
      "image_save_path_good good_watch_folder\\9f856e79bc82210b6bb70a2a50587154.png\n"
     ]
    },
    {
     "name": "stderr",
     "output_type": "stream",
     "text": [
      "\r",
      "Processing images:  62%|██████▏   | 692/1116 [02:09<01:11,  5.93it/s]"
     ]
    },
    {
     "name": "stdout",
     "output_type": "stream",
     "text": [
      "1: stopwatch (0.66)\n",
      "2: analog_clock (0.33)\n",
      "3: digital_watch (0.00)\n",
      "4: barometer (0.00)\n",
      "5: wall_clock (0.00)\n",
      "Found 'watch' with probability 0.66\n",
      "image_save_path_good good_watch_folder\\9f644d4439d284aaa779ca5214fb556b.png\n",
      "1: bubble (0.10)\n",
      "2: web_site (0.07)\n",
      "3: nail (0.07)\n",
      "4: padlock (0.06)\n",
      "5: hook (0.06)\n",
      "image_save_path_bad bad_watch_folder\\9f9639033d9a7faac12f394a800e84a2.png\n",
      "1: analog_clock (0.63)\n",
      "2: barometer (0.22)\n",
      "3: stopwatch (0.12)\n",
      "4: wall_clock (0.01)\n",
      "5: magnetic_compass (0.01)\n",
      "Found 'watch' with probability 0.63\n",
      "image_save_path_good good_watch_folder\\a007ee3cb06fba4ab2cf2afab68a9fea.png\n",
      "1: bubble (0.19)\n",
      "2: chain (0.05)\n",
      "3: vine_snake (0.03)\n",
      "4: padlock (0.03)\n",
      "5: hourglass (0.03)\n",
      "image_save_path_bad bad_watch_folder\\a029fa256d432efce074ee0bd4a66b04.png\n"
     ]
    },
    {
     "name": "stderr",
     "output_type": "stream",
     "text": [
      "Processing images:  63%|██████▎   | 698/1116 [02:09<00:42,  9.78it/s]"
     ]
    },
    {
     "name": "stdout",
     "output_type": "stream",
     "text": [
      "1: stopwatch (0.98)\n",
      "2: digital_watch (0.01)\n",
      "3: analog_clock (0.00)\n",
      "4: scale (0.00)\n",
      "5: magnetic_compass (0.00)\n",
      "Found 'watch' with probability 0.98\n",
      "image_save_path_good good_watch_folder\\a0d5ab5c197b3cc8e042336a20dc1d45.png\n"
     ]
    },
    {
     "name": "stderr",
     "output_type": "stream",
     "text": [
      "\r",
      "Processing images:  63%|██████▎   | 700/1116 [02:09<00:38, 10.84it/s]"
     ]
    },
    {
     "name": "stdout",
     "output_type": "stream",
     "text": [
      "1: stopwatch (0.82)\n",
      "2: digital_watch (0.09)\n",
      "3: lighter (0.05)\n",
      "4: analog_clock (0.02)\n",
      "5: magnetic_compass (0.01)\n",
      "Found 'watch' with probability 0.82\n",
      "image_save_path_good good_watch_folder\\a06468b242a3f4ed5618f6d4fe7b0d8d.png\n",
      "1: stopwatch (0.97)\n",
      "2: scale (0.01)\n",
      "3: barometer (0.01)\n",
      "4: magnetic_compass (0.01)\n",
      "5: analog_clock (0.00)\n",
      "Found 'watch' with probability 0.97\n",
      "image_save_path_good good_watch_folder\\a190ebc0582e33b8b1f50d6e71376337.png\n"
     ]
    },
    {
     "name": "stderr",
     "output_type": "stream",
     "text": [
      "\r",
      "Processing images:  63%|██████▎   | 702/1116 [02:10<01:13,  5.66it/s]"
     ]
    },
    {
     "name": "stdout",
     "output_type": "stream",
     "text": [
      "1: stopwatch (0.98)\n",
      "2: reflex_camera (0.00)\n",
      "3: digital_watch (0.00)\n",
      "4: radio (0.00)\n",
      "5: magnetic_compass (0.00)\n",
      "Found 'watch' with probability 0.98\n",
      "image_save_path_good good_watch_folder\\a16bc2119766da188d28004efc6b3ccf.png\n",
      "1: stopwatch (0.65)\n",
      "2: analog_clock (0.26)\n",
      "3: barometer (0.04)\n",
      "4: magnetic_compass (0.02)\n",
      "5: digital_watch (0.01)\n",
      "Found 'watch' with probability 0.65\n",
      "image_save_path_good good_watch_folder\\a19ad975685411cb421d8b7d2bc290d8.png\n",
      "1: analog_clock (0.51)\n",
      "2: stopwatch (0.46)\n",
      "3: barometer (0.02)\n",
      "4: digital_watch (0.01)\n",
      "5: magnetic_compass (0.00)\n",
      "Found 'watch' with probability 0.51\n",
      "image_save_path_good good_watch_folder\\a1633d3411d0767cd940026becf072d7.png\n",
      "1: analog_clock (0.40)\n",
      "2: barometer (0.23)\n",
      "3: stopwatch (0.17)\n",
      "4: digital_watch (0.08)\n",
      "5: scale (0.07)\n",
      "Found 'watch' with probability 0.40\n",
      "image_save_path_good good_watch_folder\\a1965c3e5c0abed1dc7d9a3b24f18a41.png\n",
      "1: stopwatch (0.72)\n",
      "2: scale (0.11)\n",
      "3: barometer (0.10)\n",
      "4: digital_watch (0.04)\n",
      "5: analog_clock (0.03)\n",
      "Found 'watch' with probability 0.72\n",
      "image_save_path_good good_watch_folder\\a19dbeb3ddb627e74c7fd74bd6b96403.png\n"
     ]
    },
    {
     "name": "stderr",
     "output_type": "stream",
     "text": [
      "\r",
      "Processing images:  63%|██████▎   | 704/1116 [02:11<01:21,  5.05it/s]"
     ]
    },
    {
     "name": "stdout",
     "output_type": "stream",
     "text": [
      "1: stopwatch (0.91)\n",
      "2: analog_clock (0.08)\n",
      "3: digital_watch (0.01)\n",
      "4: scale (0.00)\n",
      "5: reflex_camera (0.00)\n",
      "Found 'watch' with probability 0.91\n",
      "image_save_path_good good_watch_folder\\a1a9322c9bfd85cbddf897a31b76e81e.png\n",
      "1: stopwatch (0.95)\n",
      "2: digital_watch (0.02)\n",
      "3: analog_clock (0.01)\n",
      "4: magnetic_compass (0.01)\n",
      "5: barometer (0.00)\n",
      "Found 'watch' with probability 0.95\n",
      "image_save_path_good good_watch_folder\\a1a38beb767e3c7d777197ec980fcacb.png\n"
     ]
    },
    {
     "name": "stderr",
     "output_type": "stream",
     "text": [
      "Processing images:  63%|██████▎   | 707/1116 [02:11<01:12,  5.66it/s]"
     ]
    },
    {
     "name": "stdout",
     "output_type": "stream",
     "text": [
      "1: stopwatch (0.77)\n",
      "2: analog_clock (0.10)\n",
      "3: digital_watch (0.08)\n",
      "4: magnetic_compass (0.01)\n",
      "5: scale (0.01)\n",
      "Found 'watch' with probability 0.77\n",
      "image_save_path_good good_watch_folder\\a1f73faaa4f39724cf8d3f3bf298c846.png\n",
      "1: stopwatch (0.99)\n",
      "2: analog_clock (0.00)\n",
      "3: digital_watch (0.00)\n",
      "4: scale (0.00)\n",
      "5: barometer (0.00)\n",
      "Found 'watch' with probability 0.99\n",
      "image_save_path_good good_watch_folder\\a20ca19b0af145df1f8726fd33a300cc.png\n"
     ]
    },
    {
     "name": "stderr",
     "output_type": "stream",
     "text": [
      "Processing images:  64%|██████▎   | 709/1116 [02:11<01:03,  6.45it/s]"
     ]
    },
    {
     "name": "stdout",
     "output_type": "stream",
     "text": [
      "1: stopwatch (0.82)\n",
      "2: barometer (0.12)\n",
      "3: analog_clock (0.02)\n",
      "4: magnetic_compass (0.02)\n",
      "5: scale (0.01)\n",
      "Found 'watch' with probability 0.82\n",
      "image_save_path_good good_watch_folder\\a381d2ad5e018fb90889c97bec6bf731.png\n",
      "1: stopwatch (0.92)\n",
      "2: analog_clock (0.04)\n",
      "3: magnetic_compass (0.02)\n",
      "4: barometer (0.01)\n",
      "5: digital_watch (0.01)\n",
      "Found 'watch' with probability 0.92\n",
      "image_save_path_good good_watch_folder\\a248d7c68b847a0dc332e86528efb6c4.png\n"
     ]
    },
    {
     "name": "stderr",
     "output_type": "stream",
     "text": [
      "\r",
      "Processing images:  64%|██████▎   | 711/1116 [02:12<00:54,  7.37it/s]"
     ]
    },
    {
     "name": "stdout",
     "output_type": "stream",
     "text": [
      "1: analog_clock (0.50)\n",
      "2: stopwatch (0.39)\n",
      "3: wall_clock (0.04)\n",
      "4: digital_watch (0.02)\n",
      "5: magnetic_compass (0.02)\n",
      "Found 'watch' with probability 0.50\n",
      "image_save_path_good good_watch_folder\\a414b6deae1433939d94dfdc66e7059b.png\n",
      "1: analog_clock (0.91)\n",
      "2: stopwatch (0.05)\n",
      "3: digital_watch (0.02)\n",
      "4: barometer (0.01)\n",
      "5: wall_clock (0.01)\n",
      "Found 'watch' with probability 0.91\n",
      "image_save_path_good good_watch_folder\\a414719c147337452bb4ccae61f50325.png\n",
      "1: stopwatch (0.50)\n",
      "2: analog_clock (0.40)\n",
      "3: barometer (0.07)\n",
      "4: digital_watch (0.02)\n",
      "5: magnetic_compass (0.00)\n",
      "Found 'watch' with probability 0.50\n",
      "image_save_path_good good_watch_folder\\a3d4f31e387b3ca36d17512eea508756.png\n"
     ]
    },
    {
     "name": "stderr",
     "output_type": "stream",
     "text": [
      "\r",
      "Processing images:  64%|██████▍   | 714/1116 [02:12<01:02,  6.45it/s]"
     ]
    },
    {
     "name": "stdout",
     "output_type": "stream",
     "text": [
      "1: stopwatch (0.99)\n",
      "2: analog_clock (0.01)\n",
      "3: digital_watch (0.00)\n",
      "4: barometer (0.00)\n",
      "5: magnetic_compass (0.00)\n",
      "Found 'watch' with probability 0.99\n",
      "image_save_path_good good_watch_folder\\a4b827d3e4b25f1536b95a99984edbb9.png\n",
      "1: stopwatch (0.94)\n",
      "2: analog_clock (0.06)\n",
      "3: barometer (0.00)\n",
      "4: digital_watch (0.00)\n",
      "5: wall_clock (0.00)\n",
      "Found 'watch' with probability 0.94\n",
      "image_save_path_good good_watch_folder\\a5154b9a1787828641be1e488ff457f8.png\n",
      "1: stopwatch (0.94)\n",
      "2: analog_clock (0.04)\n",
      "3: barometer (0.01)\n",
      "4: digital_watch (0.01)\n",
      "5: magnetic_compass (0.00)\n",
      "Found 'watch' with probability 0.94\n",
      "image_save_path_good good_watch_folder\\a47e87942474803ab6abf459c3841093.png\n",
      "1: nail (0.06)\n",
      "2: web_site (0.06)\n",
      "3: hook (0.05)\n",
      "4: chain (0.04)\n",
      "5: nematode (0.03)\n",
      "image_save_path_bad bad_watch_folder\\a4fd2a6b89cdaae050eaa83ca1b3dac7.png\n"
     ]
    },
    {
     "name": "stderr",
     "output_type": "stream",
     "text": [
      "Processing images:  64%|██████▍   | 718/1116 [02:13<01:10,  5.65it/s]"
     ]
    },
    {
     "name": "stdout",
     "output_type": "stream",
     "text": [
      "1: stopwatch (0.99)1: stopwatch (0.98)\n",
      "2: magnetic_compass (0.00)\n",
      "3: digital_watch (0.00)\n",
      "4: analog_clock (0.00)\n",
      "5: reflex_camera (0.00)\n",
      "Found 'watch' with probability 0.98\n",
      "image_save_path_good good_watch_folder\\a5ec012480335da34988332c2d789cee.png\n",
      "\n",
      "2: digital_watch (0.00)\n",
      "3: reflex_camera (0.00)\n",
      "4: analog_clock (0.00)\n",
      "5: magnetic_compass (0.00)\n",
      "Found 'watch' with probability 0.99\n",
      "image_save_path_good good_watch_folder\\a527c192d319259178d1627410f2c80f.png\n",
      "1: stopwatch (1.00)\n",
      "2: analog_clock (0.00)\n",
      "3: digital_watch (0.00)\n",
      "4: magnetic_compass (0.00)\n",
      "5: reflex_camera (0.00)\n",
      "Found 'watch' with probability 1.00\n",
      "image_save_path_good good_watch_folder\\a5916c1626320f2ecfb399aa185ef797.png\n"
     ]
    },
    {
     "name": "stderr",
     "output_type": "stream",
     "text": [
      "\r",
      "Processing images:  65%|██████▍   | 722/1116 [02:13<00:54,  7.25it/s]"
     ]
    },
    {
     "name": "stdout",
     "output_type": "stream",
     "text": [
      "1: stopwatch (0.96)\n",
      "2: analog_clock (0.02)\n",
      "3: magnetic_compass (0.01)\n",
      "4: digital_watch (0.01)\n",
      "5: lighter (0.00)\n",
      "Found 'watch' with probability 0.96\n",
      "image_save_path_good good_watch_folder\\a6781cfe618a83c5ea093b144497066b.png\n",
      "1: web_site (0.14)\n",
      "2: soap_dispenser (0.11)\n",
      "3: iron (0.09)\n",
      "4: can_opener (0.06)\n",
      "5: cleaver (0.06)\n",
      "image_save_path_bad bad_watch_folder\\a6a9404f5d45007bb73bc9079556504f.png\n"
     ]
    },
    {
     "name": "stderr",
     "output_type": "stream",
     "text": [
      "Processing images:  65%|██████▌   | 726/1116 [02:15<01:25,  4.55it/s]"
     ]
    },
    {
     "name": "stdout",
     "output_type": "stream",
     "text": [
      "1: stopwatch (0.69)\n",
      "2: analog_clock (0.26)\n",
      "3: digital_watch (0.01)\n",
      "4: wall_clock (0.01)\n",
      "5: barometer (0.01)\n",
      "Found 'watch' with probability 0.69\n",
      "image_save_path_good good_watch_folder\\a74bda06783f4cdcdd6817ba54381698.png\n",
      "1: analog_clock (0.53)\n",
      "2: barometer (0.22)\n",
      "3: stopwatch (0.12)\n",
      "4: magnetic_compass (0.06)\n",
      "5: digital_watch (0.03)\n",
      "Found 'watch' with probability 0.53\n",
      "image_save_path_good good_watch_folder\\a6f2a235be20f652efe4c2cac3c792a4.png\n",
      "1: barometer (0.76)\n",
      "2: stopwatch (0.10)\n",
      "3: analog_clock (0.05)\n",
      "4: magnetic_compass (0.04)\n",
      "5: digital_watch (0.03)\n",
      "Found 'watch' with probability 0.10\n",
      "image_save_path_good good_watch_folder\\a76a2b8498b8f9b398823ce9319b50d3.png\n",
      "1: analog_clock (0.74)\n",
      "2: stopwatch (0.18)\n",
      "3: barometer (0.03)\n",
      "4: digital_watch (0.02)\n",
      "5: wall_clock (0.02)\n",
      "Found 'watch' with probability 0.74\n",
      "image_save_path_good good_watch_folder\\a7082415293388a3ba931021ee8980f8.png\n",
      "1: analog_clock (0.71)\n",
      "2: stopwatch (0.22)\n",
      "3: digital_watch (0.05)\n",
      "4: barometer (0.01)\n",
      "5: wall_clock (0.00)\n",
      "Found 'watch' with probability 0.71\n",
      "image_save_path_good good_watch_folder\\a70894c38afd25fe7c5f35f501c43ef4.png\n"
     ]
    },
    {
     "name": "stderr",
     "output_type": "stream",
     "text": [
      "Processing images:  65%|██████▌   | 729/1116 [02:15<01:22,  4.66it/s]"
     ]
    },
    {
     "name": "stdout",
     "output_type": "stream",
     "text": [
      "1: barometer (0.48)\n",
      "2: analog_clock (0.24)\n",
      "3: stopwatch (0.22)\n",
      "4: drum (0.02)\n",
      "5: digital_watch (0.01)\n",
      "Found 'watch' with probability 0.24\n",
      "image_save_path_good good_watch_folder\\a7d2786f13a918b3dd9036d55c99bec5.png\n",
      "1: stopwatch (0.96)\n",
      "2: magnetic_compass (0.01)\n",
      "3: barometer (0.01)\n",
      "4: digital_watch (0.01)\n",
      "5: analog_clock (0.00)\n",
      "Found 'watch' with probability 0.96\n",
      "image_save_path_good good_watch_folder\\a89451cd5fa4cc2b9ba4716e8f820da3.png\n",
      "1: stopwatch (0.95)\n",
      "2: digital_watch (0.02)\n",
      "3: analog_clock (0.01)\n",
      "4: reflex_camera (0.01)\n",
      "5: radio (0.00)\n",
      "Found 'watch' with probability 0.95\n",
      "image_save_path_good good_watch_folder\\a806ea6b17c124bc95668ace794963ce.png\n",
      "1: stopwatch (0.76)\n",
      "2: analog_clock (0.21)\n",
      "3: magnetic_compass (0.01)\n",
      "4: digital_watch (0.01)\n",
      "5: barometer (0.00)\n",
      "Found 'watch' with probability 0.76\n",
      "image_save_path_good good_watch_folder\\a7ff1f3afafeef1ef1fbebf1e94a1bfe.png\n",
      "1: stopwatch (1.00)\n",
      "2: barometer (0.00)\n",
      "3: magnetic_compass (0.00)\n",
      "4: analog_clock (0.00)\n",
      "5: digital_watch (0.00)\n",
      "Found 'watch' with probability 1.00\n",
      "image_save_path_good good_watch_folder\\a779896a6d6eed21674527e3118b38b4.png\n"
     ]
    },
    {
     "name": "stderr",
     "output_type": "stream",
     "text": [
      "Processing images:  66%|██████▌   | 733/1116 [02:16<00:53,  7.12it/s]"
     ]
    },
    {
     "name": "stdout",
     "output_type": "stream",
     "text": [
      "1: stopwatch (0.79)\n",
      "2: analog_clock (0.06)\n",
      "3: wall_clock (0.06)\n",
      "4: digital_watch (0.02)\n",
      "5: tray (0.01)\n",
      "Found 'watch' with probability 0.79\n",
      "image_save_path_good good_watch_folder\\a8e9caa4aa2a437eecf0914797ce8920.png\n",
      "1: stopwatch (0.65)\n",
      "2: analog_clock (0.31)\n",
      "3: wall_clock (0.01)\n",
      "4: magnetic_compass (0.01)\n",
      "5: barometer (0.01)\n",
      "Found 'watch' with probability 0.65\n",
      "image_save_path_good good_watch_folder\\a90f181dc46fe463eeed34d458d55d26.png\n"
     ]
    },
    {
     "name": "stderr",
     "output_type": "stream",
     "text": [
      "\r",
      "Processing images:  66%|██████▌   | 736/1116 [02:17<01:32,  4.13it/s]"
     ]
    },
    {
     "name": "stdout",
     "output_type": "stream",
     "text": [
      "1: stopwatch (0.68)\n",
      "2: barometer (0.15)\n",
      "3: magnetic_compass (0.04)\n",
      "4: analog_clock (0.03)\n",
      "5: scale (0.03)\n",
      "Found 'watch' with probability 0.68\n",
      "image_save_path_good good_watch_folder\\a962b4b8be42342604f28d8e507770a7.png\n",
      "1: web_site (0.18)\n",
      "2: iron (0.12)\n",
      "3: letter_opener (0.11)\n",
      "4: can_opener (0.10)\n",
      "5: quill (0.06)\n",
      "image_save_path_bad bad_watch_folder\\aa530b0fb1c57b1d9e4616c472f3df11.png\n",
      "1: stopwatch (0.79)\n",
      "2: barometer (0.13)\n",
      "3: analog_clock (0.04)\n",
      "4: magnetic_compass (0.02)\n",
      "5: digital_watch (0.01)\n",
      "Found 'watch' with probability 0.79\n",
      "image_save_path_good good_watch_folder\\a9b5b0e385ce750c17a283d6dafb3076.png\n",
      "1: stopwatch (0.95)\n",
      "2: magnetic_compass (0.02)\n",
      "3: analog_clock (0.02)\n",
      "4: digital_watch (0.01)\n",
      "5: barometer (0.00)\n",
      "Found 'watch' with probability 0.95\n",
      "image_save_path_good good_watch_folder\\ab2961b743c41d7f1c498d6322527263.png\n",
      "1: stopwatch (0.71)\n",
      "2: analog_clock (0.20)\n",
      "3: barometer (0.05)\n",
      "4: digital_watch (0.02)\n",
      "5: magnetic_compass (0.01)\n",
      "Found 'watch' with probability 0.71\n",
      "image_save_path_good good_watch_folder\\a9df9ea7c3dcd7886faed8ae1014f072.png\n",
      "1: stopwatch (0.54)\n",
      "2: magnetic_compass (0.26)\n",
      "3: analog_clock (0.15)\n",
      "4: digital_watch (0.04)\n",
      "5: wall_clock (0.00)\n",
      "Found 'watch' with probability 0.54\n",
      "image_save_path_good good_watch_folder\\aa9bfcc8b650fe84905a1bff59ad49d8.png\n",
      "1: stopwatch (0.80)\n",
      "2: digital_watch (0.14)\n",
      "3: analog_clock (0.04)\n",
      "4: reflex_camera (0.00)\n",
      "5: magnetic_compass (0.00)\n",
      "Found 'watch' with probability 0.80\n",
      "image_save_path_good good_watch_folder\\aa638eba694acdf0919b3e3a13efb327.png\n",
      "1: stopwatch (0.95)\n",
      "2: barometer (0.02)\n",
      "3: analog_clock (0.02)\n",
      "4: magnetic_compass (0.01)\n",
      "5: digital_watch (0.00)\n",
      "Found 'watch' with probability 0.95\n",
      "image_save_path_good good_watch_folder\\aa5396b5d952613399071949aba5d5ec.png\n",
      "1: analog_clock (0.60)\n",
      "2: stopwatch (0.25)\n",
      "3: wall_clock (0.10)\n",
      "4: barometer (0.05)\n",
      "5: magnetic_compass (0.01)\n",
      "Found 'watch' with probability 0.60\n",
      "image_save_path_good good_watch_folder\\a92ca9b45750771e27ccb980ff1dd8c7.png\n"
     ]
    },
    {
     "name": "stderr",
     "output_type": "stream",
     "text": [
      "Processing images:  66%|██████▌   | 738/1116 [02:17<01:30,  4.18it/s]"
     ]
    },
    {
     "name": "stdout",
     "output_type": "stream",
     "text": [
      "1: stopwatch (0.60)\n",
      "2: analog_clock (0.38)\n",
      "3: digital_watch (0.01)\n",
      "4: wall_clock (0.00)\n",
      "5: magnetic_compass (0.00)\n",
      "Found 'watch' with probability 0.60\n",
      "image_save_path_good good_watch_folder\\ab4bbd90ccf9a88e53c4ef6586ba6879.png\n"
     ]
    },
    {
     "name": "stderr",
     "output_type": "stream",
     "text": [
      "Processing images:  67%|██████▋   | 748/1116 [02:18<00:40,  9.08it/s]"
     ]
    },
    {
     "name": "stdout",
     "output_type": "stream",
     "text": [
      "1: barometer (0.66)\n",
      "2: stopwatch (0.31)\n",
      "3: analog_clock (0.03)\n",
      "4: magnetic_compass (0.00)\n",
      "5: scale (0.00)\n",
      "Found 'watch' with probability 0.31\n",
      "image_save_path_good good_watch_folder\\ab9ac5bfa263c603907470cac084da41.png\n",
      "1: spotlight (0.09)\n",
      "2: shoji (0.07)\n",
      "3: web_site (0.04)\n",
      "4: lampshade (0.04)\n",
      "5: matchstick (0.03)\n",
      "image_save_path_bad bad_watch_folder\\ad1996bd9e8049aa175df2551ac8ecce.png\n",
      "1: stopwatch (0.84)\n",
      "2: analog_clock (0.11)\n",
      "3: barometer (0.02)\n",
      "4: digital_watch (0.01)\n",
      "5: magnetic_compass (0.01)\n",
      "Found 'watch' with probability 0.84\n",
      "image_save_path_good good_watch_folder\\acdb01f2dd6596f44d98cd5caec21aba.png\n",
      "1: stopwatch (0.54)\n",
      "2: analog_clock (0.41)\n",
      "3: barometer (0.02)\n",
      "4: wall_clock (0.01)\n",
      "5: magnetic_compass (0.01)\n",
      "Found 'watch' with probability 0.54\n",
      "image_save_path_good good_watch_folder\\acaa6bb9f01443567582d26a97d44ebc.png\n",
      "1: stopwatch (0.98)\n",
      "2: digital_watch (0.01)\n",
      "3: analog_clock (0.00)\n",
      "4: magnetic_compass (0.00)\n",
      "5: reflex_camera (0.00)\n",
      "Found 'watch' with probability 0.98\n",
      "image_save_path_good good_watch_folder\\ace33427ee48cd7214155dc0708d941a.png\n"
     ]
    },
    {
     "name": "stderr",
     "output_type": "stream",
     "text": [
      "\r",
      "Processing images:  67%|██████▋   | 750/1116 [02:19<01:04,  5.68it/s]"
     ]
    },
    {
     "name": "stdout",
     "output_type": "stream",
     "text": [
      "1: stopwatch (0.95)\n",
      "2: digital_watch (0.03)\n",
      "3: analog_clock (0.01)\n",
      "4: magnetic_compass (0.00)\n",
      "5: barometer (0.00)\n",
      "Found 'watch' with probability 0.95\n",
      "image_save_path_good good_watch_folder\\ad2f401c49196a2b78a33477d80437fb.png\n",
      "1: analog_clock (0.80)\n",
      "2: barometer (0.10)\n",
      "3: stopwatch (0.07)\n",
      "4: wall_clock (0.01)\n",
      "5: drum (0.01)\n",
      "Found 'watch' with probability 0.80\n",
      "image_save_path_good good_watch_folder\\ad1df7d591f41e4e394ec7fbc6358f4a.png\n"
     ]
    },
    {
     "name": "stderr",
     "output_type": "stream",
     "text": [
      "Processing images:  68%|██████▊   | 756/1116 [02:19<00:47,  7.51it/s]"
     ]
    },
    {
     "name": "stdout",
     "output_type": "stream",
     "text": [
      "1: stopwatch (0.99)\n",
      "2: analog_clock (0.00)\n",
      "3: digital_watch (0.00)\n",
      "4: scale (0.00)\n",
      "5: barometer (0.00)\n",
      "Found 'watch' with probability 0.99\n",
      "image_save_path_good good_watch_folder\\adb7a027d869b411885dfc79417351a2.png\n",
      "1: stopwatch (0.62)\n",
      "2: analog_clock (0.35)\n",
      "3: digital_watch (0.01)\n",
      "4: magnetic_compass (0.01)\n",
      "5: wall_clock (0.00)\n",
      "Found 'watch' with probability 0.62\n",
      "image_save_path_good good_watch_folder\\ad30dc0bed645b185e22851f69b74d78.png\n",
      "1: pedestal (0.65)\n",
      "2: obelisk (0.04)\n",
      "3: shoji (0.03)\n",
      "4: lampshade (0.02)\n",
      "5: candle (0.01)\n",
      "image_save_path_bad bad_watch_folder\\af57fac8c28a0254cc7130250a2e5236.png\n"
     ]
    },
    {
     "name": "stderr",
     "output_type": "stream",
     "text": [
      "Processing images:  68%|██████▊   | 759/1116 [02:20<01:09,  5.16it/s]"
     ]
    },
    {
     "name": "stdout",
     "output_type": "stream",
     "text": [
      "1: stopwatch (0.94)\n",
      "2: magnetic_compass (0.02)\n",
      "3: barometer (0.02)\n",
      "4: digital_watch (0.01)\n",
      "5: analog_clock (0.01)\n",
      "Found 'watch' with probability 0.94\n",
      "image_save_path_good good_watch_folder\\adb9a266a24f338bc9a986e49d63acf9.png\n",
      "1: stopwatch (0.83)\n",
      "2: analog_clock (0.13)\n",
      "3: barometer (0.01)\n",
      "4: magnetic_compass (0.01)\n",
      "5: digital_watch (0.01)\n",
      "Found 'watch' with probability 0.83\n",
      "image_save_path_good good_watch_folder\\aeb94b961aff3a3528582ff95cb45f80.png\n",
      "1: stopwatch (0.76)\n",
      "2: digital_watch (0.08)\n",
      "3: analog_clock (0.07)\n",
      "4: barber_chair (0.03)\n",
      "5: magnetic_compass (0.02)\n",
      "Found 'watch' with probability 0.76\n",
      "image_save_path_good good_watch_folder\\ad4e318093459f15f12fecd4312ded7d.png\n",
      "1: stopwatch (0.95)\n",
      "2: analog_clock (0.02)\n",
      "3: magnetic_compass (0.01)\n",
      "4: barometer (0.01)\n",
      "5: digital_watch (0.00)\n",
      "Found 'watch' with probability 0.95\n",
      "image_save_path_good good_watch_folder\\ae1c83cc16f385e320a58bb4450e272d.png\n",
      "1: stopwatch (1.00)\n",
      "2: barometer (0.00)\n",
      "3: magnetic_compass (0.00)\n",
      "4: analog_clock (0.00)\n",
      "5: digital_watch (0.00)\n",
      "Found 'watch' with probability 1.00\n",
      "image_save_path_good good_watch_folder\\af771e19b9faf7e1549fb9fb80c7419d.png\n",
      "1: analog_clock (0.72)\n",
      "2: stopwatch (0.25)\n",
      "3: digital_watch (0.02)\n",
      "4: wall_clock (0.01)\n",
      "5: magnetic_compass (0.00)\n",
      "Found 'watch' with probability 0.72\n",
      "image_save_path_good good_watch_folder\\ae2265c7ae5ff88598cd8685cde5f207.png\n",
      "1: safe (0.38)\n",
      "2: soap_dispenser (0.32)\n",
      "3: carton (0.06)\n",
      "4: binder (0.06)\n",
      "5: refrigerator (0.04)\n",
      "image_save_path_bad bad_watch_folder\\aeef071935f4f4da3e9fd337fbe2bdd9.png\n",
      "1: stopwatch (0.99)\n",
      "2: scale (0.01)\n",
      "3: barometer (0.00)\n",
      "4: analog_clock (0.00)\n",
      "5: magnetic_compass (0.00)\n",
      "Found 'watch' with probability 0.99\n",
      "image_save_path_good good_watch_folder\\afa09e3a13cf9e5dead86713324b797b.png\n"
     ]
    },
    {
     "name": "stderr",
     "output_type": "stream",
     "text": [
      "Processing images:  68%|██████▊   | 763/1116 [02:21<01:18,  4.50it/s]"
     ]
    },
    {
     "name": "stdout",
     "output_type": "stream",
     "text": [
      "1: stopwatch (0.94)\n",
      "2: magnetic_compass (0.03)\n",
      "3: analog_clock (0.01)\n",
      "4: digital_watch (0.01)\n",
      "5: barometer (0.00)\n",
      "Found 'watch' with probability 0.94\n",
      "image_save_path_good good_watch_folder\\b03261a946e42e1750075c17063ec778.png\n"
     ]
    },
    {
     "name": "stderr",
     "output_type": "stream",
     "text": [
      "\r",
      "Processing images:  69%|██████▊   | 765/1116 [02:22<01:09,  5.07it/s]"
     ]
    },
    {
     "name": "stdout",
     "output_type": "stream",
     "text": [
      "1: stopwatch (0.86)\n",
      "2: analog_clock (0.08)\n",
      "3: barometer (0.04)\n",
      "4: digital_watch (0.01)\n",
      "5: magnetic_compass (0.01)\n",
      "Found 'watch' with probability 0.86\n",
      "image_save_path_good good_watch_folder\\ac9ff0abb8f929160aeaa8ae1dda1e52.png\n",
      "1: bubble (0.13)\n",
      "2: web_site (0.11)\n",
      "3: abaya (0.07)\n",
      "4: tripod (0.07)\n",
      "5: chain (0.03)\n",
      "image_save_path_bad bad_watch_folder\\b000937ef49a1f95def22ea702cca910.png\n",
      "1: stopwatch (0.66)\n",
      "2: analog_clock (0.24)\n",
      "3: digital_watch (0.05)\n",
      "4: magnetic_compass (0.04)\n",
      "5: barometer (0.01)\n",
      "Found 'watch' with probability 0.66\n",
      "image_save_path_good good_watch_folder\\b1dbfa11c5d664de80dd7c308cdef71f.png\n"
     ]
    },
    {
     "name": "stderr",
     "output_type": "stream",
     "text": [
      "\r",
      "Processing images:  69%|██████▊   | 766/1116 [02:22<01:09,  5.05it/s]"
     ]
    },
    {
     "name": "stdout",
     "output_type": "stream",
     "text": [
      "1: stopwatch (0.58)\n",
      "2: analog_clock (0.30)\n",
      "3: barometer (0.09)\n",
      "4: wall_clock (0.02)\n",
      "5: magnetic_compass (0.01)\n",
      "Found 'watch' with probability 0.58\n",
      "image_save_path_good good_watch_folder\\b1bf6d968e9827bcb3626ddbcb0e3f24.png\n",
      "1: stopwatch (0.96)\n",
      "2: magnetic_compass (0.02)\n",
      "3: barometer (0.01)\n",
      "4: scale (0.00)\n",
      "5: analog_clock (0.00)\n",
      "Found 'watch' with probability 0.96\n",
      "image_save_path_good good_watch_folder\\b1f2964fba7f7cfadc7fc8754086a45f.png\n"
     ]
    },
    {
     "name": "stderr",
     "output_type": "stream",
     "text": [
      "\r",
      "Processing images:  69%|██████▊   | 767/1116 [02:22<01:19,  4.37it/s]"
     ]
    },
    {
     "name": "stdout",
     "output_type": "stream",
     "text": [
      "1: stopwatch (0.92)\n",
      "2: analog_clock (0.06)\n",
      "3: magnetic_compass (0.01)\n",
      "4: digital_watch (0.00)\n",
      "5: barometer (0.00)\n",
      "Found 'watch' with probability 0.92\n",
      "image_save_path_good good_watch_folder\\b161cfbb81cb77a9bc13afa6d9299d74.png\n",
      "1: stopwatch (0.51)\n",
      "2: digital_watch (0.27)\n",
      "3: analog_clock (0.19)\n",
      "4: barometer (0.01)\n",
      "5: magnetic_compass (0.00)\n",
      "Found 'watch' with probability 0.51\n",
      "image_save_path_good good_watch_folder\\b1a5449a7f539a041520e5024fe0e001.png\n"
     ]
    },
    {
     "name": "stderr",
     "output_type": "stream",
     "text": [
      "Processing images:  69%|██████▉   | 772/1116 [02:23<00:51,  6.72it/s]"
     ]
    },
    {
     "name": "stdout",
     "output_type": "stream",
     "text": [
      "1: stopwatch (0.90)1: stopwatch (1.00)\n",
      "2: barometer (0.00)\n",
      "3: magnetic_compass (0.00)\n",
      "4: analog_clock (0.00)\n",
      "5: digital_watch (0.00)\n",
      "Found 'watch' with probability 1.00\n",
      "image_save_path_good good_watch_folder\\b319d8971650358f42e580a2344ec916.png\n",
      "\n",
      "2: barometer (0.05)\n",
      "3: analog_clock (0.03)\n",
      "4: sundial (0.01)\n",
      "5: odometer (0.00)\n",
      "Found 'watch' with probability 0.90\n",
      "image_save_path_good good_watch_folder\\b06b0a35667cd83cc614920c7365e515.png\n",
      "1: stopwatch (0.89)\n",
      "2: dial_telephone (0.02)\n",
      "3: magnetic_compass (0.02)\n",
      "4: barometer (0.02)\n",
      "5: analog_clock (0.02)\n",
      "Found 'watch' with probability 0.89\n",
      "image_save_path_good good_watch_folder\\b2a55e56adfb0a3983fbef0b21bd2bba.png\n",
      "1: stopwatch (0.78)\n",
      "2: analog_clock (0.09)\n",
      "3: barometer (0.05)\n",
      "4: digital_watch (0.02)\n",
      "5: radio (0.02)\n",
      "Found 'watch' with probability 0.78\n",
      "image_save_path_good good_watch_folder\\b230b0511ce4392917da9ede74bb0c5a.png\n",
      "1: barometer (0.42)\n",
      "2: stopwatch (0.35)\n",
      "3: analog_clock (0.20)\n",
      "4: magnetic_compass (0.01)\n",
      "5: digital_watch (0.01)\n",
      "Found 'watch' with probability 0.35\n",
      "image_save_path_good good_watch_folder\\b29f81cec7da1d72780fd239b7826e63.png\n",
      "1: stopwatch (0.81)\n",
      "2: analog_clock (0.16)\n",
      "3: digital_watch (0.01)\n",
      "4: wall_clock (0.01)\n",
      "5: magnetic_compass (0.01)\n",
      "Found 'watch' with probability 0.81\n",
      "image_save_path_good good_watch_folder\\b2e7062bb30a86f545935186c026b111.png\n"
     ]
    },
    {
     "name": "stderr",
     "output_type": "stream",
     "text": [
      "\r",
      "Processing images:  69%|██████▉   | 775/1116 [02:23<00:41,  8.31it/s]"
     ]
    },
    {
     "name": "stdout",
     "output_type": "stream",
     "text": [
      "1: stopwatch (0.57)\n",
      "2: analog_clock (0.26)\n",
      "3: barometer (0.11)\n",
      "4: drum (0.02)\n",
      "5: sundial (0.01)\n",
      "Found 'watch' with probability 0.57\n",
      "image_save_path_good good_watch_folder\\b33708b594e882acbe81da1d4666d49d.png\n",
      "1: stopwatch (0.93)\n",
      "2: magnetic_compass (0.04)\n",
      "3: barometer (0.03)\n",
      "4: analog_clock (0.00)\n",
      "5: digital_watch (0.00)\n",
      "Found 'watch' with probability 0.93\n",
      "image_save_path_good good_watch_folder\\b325cc76a6f0b3b97f4e1706885495ac.png\n"
     ]
    },
    {
     "name": "stderr",
     "output_type": "stream",
     "text": [
      "Processing images:  70%|██████▉   | 779/1116 [02:24<00:47,  7.12it/s]"
     ]
    },
    {
     "name": "stdout",
     "output_type": "stream",
     "text": [
      "1: stopwatch (0.86)\n",
      "2: analog_clock (0.04)\n",
      "3: barometer (0.03)\n",
      "4: magnetic_compass (0.03)\n",
      "5: digital_watch (0.01)\n",
      "Found 'watch' with probability 0.86\n",
      "image_save_path_good good_watch_folder\\b372dc948abbf539cc315e7ac9748d47.png\n",
      "1: stopwatch (0.93)\n",
      "2: digital_watch (0.03)\n",
      "3: analog_clock (0.02)\n",
      "4: magnetic_compass (0.01)\n",
      "5: scale (0.01)\n",
      "Found 'watch' with probability 0.93\n",
      "image_save_path_good good_watch_folder\\b3a0e33cddabc788a9da2870a38eef3c.png\n",
      "1: stopwatch (0.98)\n",
      "2: analog_clock (0.01)\n",
      "3: barometer (0.00)\n",
      "4: magnetic_compass (0.00)\n",
      "5: digital_watch (0.00)\n",
      "Found 'watch' with probability 0.98\n",
      "image_save_path_good good_watch_folder\\b3b6e06bb6cf1f69d0fa8a3eeae88290.png\n"
     ]
    },
    {
     "name": "stderr",
     "output_type": "stream",
     "text": [
      "\r",
      "Processing images:  70%|██████▉   | 781/1116 [02:24<00:52,  6.33it/s]"
     ]
    },
    {
     "name": "stdout",
     "output_type": "stream",
     "text": [
      "1: drum (0.44)\n",
      "2: stopwatch (0.34)\n",
      "3: analog_clock (0.10)\n",
      "4: digital_watch (0.02)\n",
      "5: lighter (0.02)\n",
      "Found 'watch' with probability 0.34\n",
      "image_save_path_good good_watch_folder\\b3a99176dc515dc908e61d6ac373da6e.png\n"
     ]
    },
    {
     "name": "stderr",
     "output_type": "stream",
     "text": [
      "Processing images:  70%|███████   | 786/1116 [02:25<00:46,  7.14it/s]"
     ]
    },
    {
     "name": "stdout",
     "output_type": "stream",
     "text": [
      "1: stopwatch (0.59)1: analog_clock (0.84)\n",
      "2: stopwatch (0.05)\n",
      "3: magnetic_compass (0.05)\n",
      "4: wall_clock (0.03)\n",
      "5: digital_watch (0.01)\n",
      "Found 'watch' with probability 0.84\n",
      "image_save_path_good good_watch_folder\\b406f3727c1d9c839c8fb5cf3eed3b06.png\n",
      "\n",
      "2: analog_clock (0.37)\n",
      "3: wall_clock (0.01)\n",
      "4: barometer (0.01)\n",
      "5: magnetic_compass (0.01)\n",
      "Found 'watch' with probability 0.59\n",
      "image_save_path_good good_watch_folder\\b3fac87aff6d90c1238d86e54fb5377b.png\n",
      "1: stopwatch (0.81)\n",
      "2: analog_clock (0.08)\n",
      "3: digital_watch (0.07)\n",
      "4: magnetic_compass (0.03)\n",
      "5: wall_clock (0.01)\n",
      "Found 'watch' with probability 0.81\n",
      "image_save_path_good good_watch_folder\\b44fae9544f47aa4967f211ba7af0979.png\n",
      "1: analog_clock (0.72)\n",
      "2: stopwatch (0.15)\n",
      "3: digital_watch (0.07)\n",
      "4: buckle (0.01)\n",
      "5: wall_clock (0.01)\n",
      "Found 'watch' with probability 0.72\n",
      "image_save_path_good good_watch_folder\\b43c9661d5e77f332f9f303d3a723f3a.png\n",
      "1: stopwatch (0.96)\n",
      "2: magnetic_compass (0.02)\n",
      "3: analog_clock (0.01)\n",
      "4: barometer (0.00)\n",
      "5: digital_watch (0.00)\n",
      "Found 'watch' with probability 0.96\n",
      "image_save_path_good good_watch_folder\\b49cfeccabdf93597f518b176312da6a.png\n",
      "1: stopwatch (1.00)\n",
      "2: analog_clock (0.00)\n",
      "3: magnetic_compass (0.00)\n",
      "4: barometer (0.00)\n",
      "5: digital_watch (0.00)\n",
      "Found 'watch' with probability 1.00\n",
      "image_save_path_good good_watch_folder\\b550a4bc8b997bff663ba9ca7cf76a86.png\n"
     ]
    },
    {
     "name": "stderr",
     "output_type": "stream",
     "text": [
      "Processing images:  71%|███████   | 790/1116 [02:26<00:53,  6.06it/s]"
     ]
    },
    {
     "name": "stdout",
     "output_type": "stream",
     "text": [
      "1: stopwatch (0.99)\n",
      "2: barometer (0.00)\n",
      "3: analog_clock (0.00)\n",
      "4: magnetic_compass (0.00)\n",
      "5: digital_watch (0.00)\n",
      "Found 'watch' with probability 0.99\n",
      "image_save_path_good good_watch_folder\\b452866c0086a8e3f6678707eea958e0.png\n",
      "1: analog_clock (0.58)\n",
      "2: stopwatch (0.18)\n",
      "3: barometer (0.12)\n",
      "4: wall_clock (0.09)\n",
      "5: magnetic_compass (0.02)\n",
      "Found 'watch' with probability 0.58\n",
      "image_save_path_good good_watch_folder\\b4c0afa3893da67271cb53a936ca65d5.png\n",
      "1: stopwatch (0.98)\n",
      "2: analog_clock (0.01)\n",
      "3: digital_watch (0.00)\n",
      "4: barometer (0.00)\n",
      "5: backpack (0.00)\n",
      "Found 'watch' with probability 0.98\n",
      "image_save_path_good good_watch_folder\\b55768d5685f866d270155a42c257f3b.png\n"
     ]
    },
    {
     "name": "stderr",
     "output_type": "stream",
     "text": [
      "\r",
      "Processing images:  71%|███████   | 792/1116 [02:26<00:42,  7.63it/s]"
     ]
    },
    {
     "name": "stdout",
     "output_type": "stream",
     "text": [
      "1: stopwatch (0.77)\n",
      "2: scale (0.11)\n",
      "3: barometer (0.05)\n",
      "4: magnetic_compass (0.02)\n",
      "5: analog_clock (0.01)\n",
      "Found 'watch' with probability 0.77\n",
      "image_save_path_good good_watch_folder\\b5db035e0bb610b1fea012bed17480e5.png\n"
     ]
    },
    {
     "name": "stderr",
     "output_type": "stream",
     "text": [
      "Processing images:  71%|███████▏  | 797/1116 [02:27<01:00,  5.30it/s]"
     ]
    },
    {
     "name": "stdout",
     "output_type": "stream",
     "text": [
      "1: stopwatch (0.99)\n",
      "2: digital_watch (0.00)\n",
      "3: magnetic_compass (0.00)\n",
      "4: analog_clock (0.00)\n",
      "5: scale (0.00)\n",
      "Found 'watch' with probability 0.99\n",
      "image_save_path_good good_watch_folder\\b5ca8b4d61a2eed6148f3fe532138ce5.png\n",
      "1: analog_clock (0.71)\n",
      "2: stopwatch (0.13)\n",
      "3: barometer (0.11)\n",
      "4: digital_watch (0.02)\n",
      "5: wall_clock (0.01)\n",
      "Found 'watch' with probability 0.71\n",
      "image_save_path_good good_watch_folder\\b5ab4226730f263a8dce8349757754d7.png\n",
      "1: stopwatch (0.89)\n",
      "2: analog_clock (0.05)\n",
      "3: digital_watch (0.02)\n",
      "4: magnetic_compass (0.01)\n",
      "5: bolo_tie (0.01)\n",
      "Found 'watch' with probability 0.89\n",
      "image_save_path_good good_watch_folder\\b5e3bc5679d76d5b7edd79ee96aab3c4.png\n",
      "1: stopwatch (0.40)\n",
      "2: barometer (0.29)\n",
      "3: analog_clock (0.24)\n",
      "4: magnetic_compass (0.03)\n",
      "5: drum (0.01)\n",
      "Found 'watch' with probability 0.40\n",
      "image_save_path_good good_watch_folder\\b7300b1f8dc85c4c5e858303dc797f27.png\n",
      "1: stopwatch (0.59)\n",
      "2: barometer (0.21)\n",
      "3: analog_clock (0.05)\n",
      "4: scale (0.04)\n",
      "5: magnetic_compass (0.03)\n",
      "Found 'watch' with probability 0.59\n",
      "image_save_path_good good_watch_folder\\b76fa1c9f7eccac7733f1cb43ca69e71.png\n",
      "1: bubble (0.12)\n",
      "2: web_site (0.09)\n",
      "3: abaya (0.08)\n",
      "4: matchstick (0.03)\n",
      "5: chain (0.03)\n",
      "image_save_path_bad bad_watch_folder\\b77a6fedfd63ed5a5dadd0536c7d0ff2.png\n",
      "1: stopwatch (0.95)\n",
      "2: barometer (0.04)\n",
      "3: magnetic_compass (0.00)\n",
      "4: analog_clock (0.00)\n",
      "5: digital_watch (0.00)\n",
      "Found 'watch' with probability 0.95\n",
      "image_save_path_good good_watch_folder\\b734caa48127e95f9d6dcf7ff596c06d.png\n",
      "1: stopwatch (0.96)\n",
      "2: analog_clock (0.04)\n",
      "3: digital_watch (0.00)\n",
      "4: wall_clock (0.00)\n",
      "5: barometer (0.00)\n",
      "Found 'watch' with probability 0.96\n",
      "image_save_path_good good_watch_folder\\b6add81659e9e757af71039d948174c0.png\n"
     ]
    },
    {
     "name": "stderr",
     "output_type": "stream",
     "text": [
      "Processing images:  72%|███████▏  | 804/1116 [02:28<00:37,  8.27it/s]"
     ]
    },
    {
     "name": "stdout",
     "output_type": "stream",
     "text": [
      "1: parking_meter (0.17)\n",
      "2: pay-phone (0.12)\n",
      "3: barbershop (0.10)\n",
      "4: barber_chair (0.06)\n",
      "5: digital_watch (0.06)\n",
      "Found 'watch' with probability 0.06\n",
      "image_save_path_good good_watch_folder\\b781097db445718768d97eb374b3034c.png\n",
      "1: analog_clock (0.79)\n",
      "2: stopwatch (0.09)\n",
      "3: magnetic_compass (0.06)\n",
      "4: wall_clock (0.02)\n",
      "5: digital_watch (0.02)\n",
      "Found 'watch' with probability 0.79\n",
      "image_save_path_good good_watch_folder\\b7a27cd5d5f76505e70be79faaeff993.png\n",
      "1: stopwatch (0.97)\n",
      "2: analog_clock (0.01)\n",
      "3: reflex_camera (0.00)\n",
      "4: magnetic_compass (0.00)\n",
      "5: digital_watch (0.00)\n",
      "Found 'watch' with probability 0.97\n",
      "image_save_path_good good_watch_folder\\b7dce5914a0a45485d16ae82a7130363.png\n",
      "1: stopwatch (0.97)\n",
      "2: analog_clock (0.03)\n",
      "3: digital_watch (0.00)\n",
      "4: magnetic_compass (0.00)\n",
      "5: barometer (0.00)\n",
      "Found 'watch' with probability 0.97\n",
      "image_save_path_good good_watch_folder\\b7a74ca0e5462d9f8d5982be5262caae.png\n"
     ]
    },
    {
     "name": "stderr",
     "output_type": "stream",
     "text": [
      "\r",
      "Processing images:  72%|███████▏  | 806/1116 [02:29<00:54,  5.64it/s]"
     ]
    },
    {
     "name": "stdout",
     "output_type": "stream",
     "text": [
      "1: stopwatch (0.51)\n",
      "2: analog_clock (0.35)\n",
      "3: magnetic_compass (0.08)\n",
      "4: barometer (0.03)\n",
      "5: digital_watch (0.01)\n",
      "Found 'watch' with probability 0.51\n",
      "image_save_path_good good_watch_folder\\b7aa8fbc6caebb1c15abf793c91ace54.png\n",
      "1: stopwatch (0.97)\n",
      "2: analog_clock (0.02)\n",
      "3: barometer (0.00)\n",
      "4: digital_watch (0.00)\n",
      "5: magnetic_compass (0.00)\n",
      "Found 'watch' with probability 0.97\n",
      "image_save_path_good good_watch_folder\\b7f75532b6cb7271b2cf8cf0f6ae8bac.png\n",
      "1: analog_clock (0.56)\n",
      "2: stopwatch (0.33)\n",
      "3: barometer (0.08)\n",
      "4: digital_watch (0.02)\n",
      "5: wall_clock (0.00)\n",
      "Found 'watch' with probability 0.56\n",
      "image_save_path_good good_watch_folder\\b7c69f16f3039242e7459cdb83a28ff0.png\n"
     ]
    },
    {
     "name": "stderr",
     "output_type": "stream",
     "text": [
      "Processing images:  72%|███████▏  | 809/1116 [02:29<00:49,  6.25it/s]"
     ]
    },
    {
     "name": "stdout",
     "output_type": "stream",
     "text": [
      "1: stopwatch (0.99)\n",
      "2: analog_clock (0.01)\n",
      "3: digital_watch (0.00)\n",
      "4: wall_clock (0.00)\n",
      "5: magnetic_compass (0.00)\n",
      "Found 'watch' with probability 0.99\n",
      "image_save_path_good good_watch_folder\\b80fd21efa55f2b5cf7990dea38583ed.png\n"
     ]
    },
    {
     "name": "stderr",
     "output_type": "stream",
     "text": [
      "\r",
      "Processing images:  73%|███████▎  | 810/1116 [02:30<00:56,  5.43it/s]"
     ]
    },
    {
     "name": "stdout",
     "output_type": "stream",
     "text": [
      "1: analog_clock (0.50)\n",
      "2: stopwatch (0.42)\n",
      "3: digital_watch (0.04)\n",
      "4: barometer (0.03)\n",
      "5: wall_clock (0.00)\n",
      "Found 'watch' with probability 0.50\n",
      "image_save_path_good good_watch_folder\\b82ecfa27d87c23636fd4200004750b8.png\n"
     ]
    },
    {
     "name": "stderr",
     "output_type": "stream",
     "text": [
      "Processing images:  73%|███████▎  | 812/1116 [02:30<01:00,  5.02it/s]"
     ]
    },
    {
     "name": "stdout",
     "output_type": "stream",
     "text": [
      "1: bubble (0.07)\n",
      "2: padlock (0.07)\n",
      "3: shoji (0.05)\n",
      "4: hook (0.04)\n",
      "5: web_site (0.03)\n",
      "image_save_path_bad bad_watch_folder\\ba4ce2551dfaa812d7296760cda50d24.png\n",
      "1: stopwatch (0.99)\n",
      "2: analog_clock (0.00)\n",
      "3: digital_watch (0.00)\n",
      "4: barometer (0.00)\n",
      "5: sundial (0.00)\n",
      "Found 'watch' with probability 0.99\n",
      "image_save_path_good good_watch_folder\\ba24d959e3635ed29fec7c6cfe4c988a.png\n",
      "1: stopwatch (0.77)\n",
      "2: magnetic_compass (0.13)\n",
      "3: analog_clock (0.07)\n",
      "4: barometer (0.02)\n",
      "5: wall_clock (0.01)\n",
      "Found 'watch' with probability 0.77\n",
      "image_save_path_good good_watch_folder\\b8492271f779ef2bdbef333155f4cfe6.png\n",
      "1: stopwatch (0.78)\n",
      "2: barometer (0.19)\n",
      "3: analog_clock (0.02)\n",
      "4: scale (0.00)\n",
      "5: slide_rule (0.00)\n",
      "Found 'watch' with probability 0.78\n",
      "image_save_path_good good_watch_folder\\ba4cff772f9eef7e50318ebd022878cd.png\n"
     ]
    },
    {
     "name": "stderr",
     "output_type": "stream",
     "text": [
      "Processing images:  73%|███████▎  | 816/1116 [02:31<00:53,  5.61it/s]"
     ]
    },
    {
     "name": "stdout",
     "output_type": "stream",
     "text": [
      "1: stopwatch (0.81)\n",
      "2: analog_clock (0.15)\n",
      "3: magnetic_compass (0.01)\n",
      "4: digital_watch (0.01)\n",
      "5: wall_clock (0.01)\n",
      "Found 'watch' with probability 0.81\n",
      "image_save_path_good good_watch_folder\\bb25edd1cfc35ca9602cde305b38293c.png\n"
     ]
    },
    {
     "name": "stderr",
     "output_type": "stream",
     "text": [
      "\r",
      "Processing images:  73%|███████▎  | 817/1116 [02:31<00:51,  5.85it/s]"
     ]
    },
    {
     "name": "stdout",
     "output_type": "stream",
     "text": [
      "1: analog_clock (0.43)\n",
      "2: stopwatch (0.25)\n",
      "3: barometer (0.24)\n",
      "4: magnetic_compass (0.04)\n",
      "5: digital_watch (0.03)\n",
      "Found 'watch' with probability 0.43\n",
      "image_save_path_good good_watch_folder\\bac32a643fa4e9714b9ef96bc6255d07.png\n",
      "1: lighter (0.30)\n",
      "2: reflex_camera (0.14)\n",
      "3: pay-phone (0.09)\n",
      "4: buckle (0.08)\n",
      "5: barber_chair (0.04)\n",
      "image_save_path_bad bad_watch_folder\\bb66fe88a8fcb419ee0f876dc4dac65e.png\n",
      "1: bulletproof_vest (0.21)\n",
      "2: abaya (0.09)\n",
      "3: nematode (0.04)\n",
      "4: Windsor_tie (0.04)\n",
      "5: suit (0.03)\n",
      "image_save_path_bad bad_watch_folder\\bbd683913673a095ee759449265fcafd.png\n",
      "1: stopwatch (1.00)\n",
      "2: analog_clock (0.00)\n",
      "3: barometer (0.00)\n",
      "4: digital_watch (0.00)\n",
      "5: wall_clock (0.00)\n",
      "Found 'watch' with probability 1.00\n",
      "image_save_path_good good_watch_folder\\bc15bd4a7a7f33bd350c37485422f8af.png\n"
     ]
    },
    {
     "name": "stderr",
     "output_type": "stream",
     "text": [
      "Processing images:  73%|███████▎  | 820/1116 [02:31<01:08,  4.30it/s]"
     ]
    },
    {
     "name": "stdout",
     "output_type": "stream",
     "text": [
      "1: stopwatch (0.99)\n",
      "2: digital_watch (0.00)\n",
      "3: analog_clock (0.00)\n",
      "4: barometer (0.00)\n",
      "5: magnetic_compass (0.00)\n",
      "Found 'watch' with probability 0.99\n",
      "image_save_path_good good_watch_folder\\bb68f9e88b8ec00702a4255552fd9a58.png\n",
      "1: stopwatch (0.86)\n",
      "2: digital_watch (0.06)\n",
      "3: analog_clock (0.04)\n",
      "4: magnetic_compass (0.02)\n",
      "5: barometer (0.01)\n",
      "Found 'watch' with probability 0.86\n",
      "image_save_path_good good_watch_folder\\bc6ef8826b10523ecceb4e0026061bf1.png\n"
     ]
    },
    {
     "name": "stderr",
     "output_type": "stream",
     "text": [
      "Processing images:  74%|███████▎  | 823/1116 [02:32<00:48,  6.04it/s]"
     ]
    },
    {
     "name": "stdout",
     "output_type": "stream",
     "text": [
      "1: stopwatch (0.75)\n",
      "2: analog_clock (0.12)\n",
      "3: digital_watch (0.11)\n",
      "4: barometer (0.01)\n",
      "5: magnetic_compass (0.00)\n",
      "Found 'watch' with probability 0.75\n",
      "image_save_path_good good_watch_folder\\bc2a833e47c75b6096a4215380801b68.png\n",
      "1: stopwatch (0.99)\n",
      "2: digital_watch (0.00)\n",
      "3: analog_clock (0.00)\n",
      "4: barometer (0.00)\n",
      "5: magnetic_compass (0.00)\n",
      "Found 'watch' with probability 0.99\n",
      "image_save_path_good good_watch_folder\\bcde215f272a86e2d894b6fcf75fd5d6.png\n"
     ]
    },
    {
     "name": "stderr",
     "output_type": "stream",
     "text": [
      "Processing images:  74%|███████▍  | 827/1116 [02:33<00:53,  5.45it/s]"
     ]
    },
    {
     "name": "stdout",
     "output_type": "stream",
     "text": [
      "1: stopwatch (0.60)\n",
      "2: barometer (0.28)\n",
      "3: analog_clock (0.11)\n",
      "4: magnetic_compass (0.00)\n",
      "5: sundial (0.00)\n",
      "Found 'watch' with probability 0.60\n",
      "image_save_path_good good_watch_folder\\bd922d8713fcd4b9e56da863d28d22c0.png\n",
      "1: bubble (0.09)\n",
      "2: syringe (0.07)\n",
      "3: nail (0.06)\n",
      "4: chain (0.05)\n",
      "5: web_site (0.04)\n",
      "image_save_path_bad bad_watch_folder\\bdae46b7844e041d4d5eb908ffdf506b.png\n",
      "1: stopwatch (0.88)\n",
      "2: analog_clock (0.04)\n",
      "3: magnetic_compass (0.04)\n",
      "4: digital_watch (0.01)\n",
      "5: barometer (0.01)\n",
      "Found 'watch' with probability 0.88\n",
      "image_save_path_good good_watch_folder\\bddf1e08d79839c9d21f2219bb248f55.png\n",
      "1: stopwatch (0.68)\n",
      "2: analog_clock (0.16)\n",
      "3: magnetic_compass (0.06)\n",
      "4: digital_watch (0.05)\n",
      "5: barometer (0.01)\n",
      "Found 'watch' with probability 0.68\n",
      "image_save_path_good good_watch_folder\\bd293d0bec42698b17b2d44ef22414b2.png\n",
      "1: stopwatch (0.67)\n",
      "2: scale (0.10)\n",
      "3: barometer (0.08)\n",
      "4: magnetic_compass (0.05)\n",
      "5: digital_watch (0.03)\n",
      "Found 'watch' with probability 0.67\n",
      "image_save_path_good good_watch_folder\\be84f6ce567aa2fab6681727fb395ba2.png\n",
      "1: stopwatch (0.48)\n",
      "2: analog_clock (0.47)\n",
      "3: barometer (0.01)\n",
      "4: wall_clock (0.01)\n",
      "5: magnetic_compass (0.01)\n",
      "Found 'watch' with probability 0.48\n",
      "image_save_path_good good_watch_folder\\bdd8edfcfe660566fbbe9bccb5cb3a7d.png\n"
     ]
    },
    {
     "name": "stderr",
     "output_type": "stream",
     "text": [
      "\r",
      "Processing images:  74%|███████▍  | 828/1116 [02:33<01:07,  4.26it/s]"
     ]
    },
    {
     "name": "stdout",
     "output_type": "stream",
     "text": [
      "1: nematode (0.56)\n",
      "2: web_site (0.21)\n",
      "3: cleaver (0.03)\n",
      "4: hook (0.03)\n",
      "5: can_opener (0.02)\n",
      "image_save_path_bad bad_watch_folder\\becce70b9a20d6a1fabcdfd833edeb92.png\n"
     ]
    },
    {
     "name": "stderr",
     "output_type": "stream",
     "text": [
      "Processing images:  75%|███████▍  | 833/1116 [02:34<00:36,  7.70it/s]"
     ]
    },
    {
     "name": "stdout",
     "output_type": "stream",
     "text": [
      "1: magnetic_compass (0.64)\n",
      "2: barometer (0.14)\n",
      "3: stopwatch (0.10)\n",
      "4: analog_clock (0.08)\n",
      "5: slide_rule (0.01)\n",
      "Found 'watch' with probability 0.10\n",
      "image_save_path_good good_watch_folder\\befa29a457483fa4990f1a305eea9887.png\n",
      "1: stopwatch (0.99)\n",
      "2: reflex_camera (0.00)\n",
      "3: scale (0.00)\n",
      "4: digital_watch (0.00)\n",
      "5: magnetic_compass (0.00)\n",
      "Found 'watch' with probability 0.99\n",
      "image_save_path_good good_watch_folder\\bef8fe8540ec4483198dd1b331ea38d5.png\n",
      "1: stopwatch (0.87)\n",
      "2: barometer (0.05)\n",
      "3: analog_clock (0.04)\n",
      "4: digital_watch (0.02)\n",
      "5: scale (0.01)\n",
      "Found 'watch' with probability 0.87\n",
      "image_save_path_good good_watch_folder\\bf342ebc4873e165c0d82bf31c607eb0.png\n"
     ]
    },
    {
     "name": "stderr",
     "output_type": "stream",
     "text": [
      "Processing images:  75%|███████▍  | 835/1116 [02:34<00:46,  6.00it/s]"
     ]
    },
    {
     "name": "stdout",
     "output_type": "stream",
     "text": [
      "1: stopwatch (0.66)1: stopwatch (0.62)\n",
      "2: analog_clock (0.21)\n",
      "3: barometer (0.12)\n",
      "4: digital_watch (0.03)\n",
      "5: magnetic_compass (0.01)\n",
      "Found 'watch' with probability 0.62\n",
      "image_save_path_good good_watch_folder\\c0171f33093c792c7f6249e264e38d25.png\n",
      "\n",
      "2: analog_clock (0.23)\n",
      "3: barometer (0.06)\n",
      "4: magnetic_compass (0.03)\n",
      "5: digital_watch (0.02)\n",
      "Found 'watch' with probability 0.66\n",
      "image_save_path_good good_watch_folder\\bf2bf9e4563ca240dcf41eba60485409.png\n",
      "1: stopwatch (0.85)\n",
      "2: barometer (0.06)\n",
      "3: analog_clock (0.03)\n",
      "4: scale (0.02)\n",
      "5: digital_watch (0.02)\n",
      "Found 'watch' with probability 0.85\n",
      "image_save_path_good good_watch_folder\\bf3932230230e2dd1ce480ec86cea859.png\n",
      "1: stopwatch (0.70)\n",
      "2: barometer (0.14)\n",
      "3: analog_clock (0.09)\n",
      "4: scale (0.05)\n",
      "5: magnetic_compass (0.01)\n",
      "Found 'watch' with probability 0.70\n",
      "image_save_path_good good_watch_folder\\bf38ca86b308281a9e0b77c2622eb36a.png\n",
      "1: web_site (0.19)\n",
      "2: bubble (0.14)\n",
      "3: matchstick (0.04)\n",
      "4: padlock (0.04)\n",
      "5: hook (0.04)\n",
      "image_save_path_bad bad_watch_folder\\bffc748ed69af63bacae45df0e96ab32.png\n",
      "1: stopwatch (0.75)\n",
      "2: analog_clock (0.22)\n",
      "3: barometer (0.02)\n",
      "4: bolo_tie (0.00)\n",
      "5: digital_watch (0.00)\n",
      "Found 'watch' with probability 0.75\n",
      "image_save_path_good good_watch_folder\\c017f8bd3cc5d91028ff41122f2da443.png\n"
     ]
    },
    {
     "name": "stderr",
     "output_type": "stream",
     "text": [
      "\r",
      "Processing images:  75%|███████▌  | 837/1116 [02:35<01:24,  3.30it/s]"
     ]
    },
    {
     "name": "stdout",
     "output_type": "stream",
     "text": [
      "1: nematode (0.07)\n",
      "2: nail (0.07)\n",
      "3: vine_snake (0.06)\n",
      "4: web_site (0.04)\n",
      "5: matchstick (0.04)\n",
      "image_save_path_bad bad_watch_folder\\c07bbd23769a23a759248812fbe83580.png\n",
      "1: stopwatch (0.61)\n",
      "2: barometer (0.16)\n",
      "3: digital_watch (0.11)\n",
      "4: analog_clock (0.05)\n",
      "5: magnetic_compass (0.02)\n",
      "Found 'watch' with probability 0.61\n",
      "image_save_path_good good_watch_folder\\c1edd624b0ba2a42a4e85fe986564d36.png\n"
     ]
    },
    {
     "name": "stderr",
     "output_type": "stream",
     "text": [
      "\r",
      "Processing images:  75%|███████▌  | 841/1116 [02:35<00:48,  5.67it/s]"
     ]
    },
    {
     "name": "stdout",
     "output_type": "stream",
     "text": [
      "1: stopwatch (0.99)\n",
      "2: analog_clock (0.01)\n",
      "3: magnetic_compass (0.00)\n",
      "4: digital_watch (0.00)\n",
      "5: barometer (0.00)\n",
      "Found 'watch' with probability 0.99\n",
      "image_save_path_good good_watch_folder\\c2056c5653d1c18188f33fba6dad0dc6.png\n"
     ]
    },
    {
     "name": "stderr",
     "output_type": "stream",
     "text": [
      "Processing images:  76%|███████▌  | 843/1116 [02:36<00:48,  5.65it/s]"
     ]
    },
    {
     "name": "stdout",
     "output_type": "stream",
     "text": [
      "1: stopwatch (0.96)\n",
      "2: analog_clock (0.02)\n",
      "3: magnetic_compass (0.01)\n",
      "4: digital_watch (0.01)\n",
      "5: barometer (0.00)\n",
      "Found 'watch' with probability 0.96\n",
      "image_save_path_good good_watch_folder\\c1f96626043d570327ad31c5c10a5c0a.png\n",
      "1: analog_clock (0.69)\n",
      "2: stopwatch (0.20)\n",
      "3: barometer (0.06)\n",
      "4: wall_clock (0.03)\n",
      "5: magnetic_compass (0.01)\n",
      "Found 'watch' with probability 0.69\n",
      "image_save_path_good good_watch_folder\\c252753dfa442c153e9ac48c4897e848.png\n"
     ]
    },
    {
     "name": "stderr",
     "output_type": "stream",
     "text": [
      "Processing images:  76%|███████▌  | 845/1116 [02:36<00:45,  6.02it/s]"
     ]
    },
    {
     "name": "stdout",
     "output_type": "stream",
     "text": [
      "1: stopwatch (0.94)\n",
      "2: magnetic_compass (0.02)\n",
      "3: barometer (0.02)\n",
      "4: analog_clock (0.01)\n",
      "5: digital_watch (0.01)\n",
      "Found 'watch' with probability 0.94\n",
      "image_save_path_good good_watch_folder\\c25874ae13346427895d5f1572ccb1cf.png\n",
      "1: stopwatch (0.63)\n",
      "2: analog_clock (0.32)\n",
      "3: magnetic_compass (0.02)\n",
      "4: barometer (0.01)\n",
      "5: digital_watch (0.01)\n",
      "Found 'watch' with probability 0.63\n",
      "image_save_path_good good_watch_folder\\c296d07d1a3cfddfa614a5f926bb4a8c.png\n"
     ]
    },
    {
     "name": "stderr",
     "output_type": "stream",
     "text": [
      "Processing images:  76%|███████▌  | 847/1116 [02:36<00:49,  5.44it/s]"
     ]
    },
    {
     "name": "stdout",
     "output_type": "stream",
     "text": [
      "1: stopwatch (0.98)\n",
      "2: barometer (0.01)\n",
      "3: analog_clock (0.01)\n",
      "4: magnetic_compass (0.00)\n",
      "5: digital_watch (0.00)\n",
      "Found 'watch' with probability 0.98\n",
      "image_save_path_good good_watch_folder\\c25cf52c11d14721c1d16a6e214174fa.png\n"
     ]
    },
    {
     "name": "stderr",
     "output_type": "stream",
     "text": [
      "\r",
      "Processing images:  76%|███████▌  | 848/1116 [02:37<00:56,  4.74it/s]"
     ]
    },
    {
     "name": "stdout",
     "output_type": "stream",
     "text": [
      "1: stopwatch (0.96)\n",
      "2: reflex_camera (0.02)\n",
      "3: analog_clock (0.00)\n",
      "4: digital_watch (0.00)\n",
      "5: radio (0.00)\n",
      "Found 'watch' with probability 0.96\n",
      "image_save_path_good good_watch_folder\\c2c3407683d828c1196e5a348d7c4021.png\n"
     ]
    },
    {
     "name": "stderr",
     "output_type": "stream",
     "text": [
      "Processing images:  76%|███████▋  | 851/1116 [02:37<00:41,  6.38it/s]"
     ]
    },
    {
     "name": "stdout",
     "output_type": "stream",
     "text": [
      "1: stopwatch (0.66)\n",
      "2: analog_clock (0.28)\n",
      "3: wall_clock (0.02)\n",
      "4: digital_watch (0.01)\n",
      "5: magnetic_compass (0.01)\n",
      "Found 'watch' with probability 0.66\n",
      "image_save_path_good good_watch_folder\\c35cf6281c2335caa10374a5cbfac50b.png\n",
      "1: stopwatch (0.98)\n",
      "2: magnetic_compass (0.01)\n",
      "3: analog_clock (0.00)\n",
      "4: barometer (0.00)\n",
      "5: digital_watch (0.00)\n",
      "Found 'watch' with probability 0.98\n",
      "image_save_path_good good_watch_folder\\c2de747df5e45228a798cfcba02f1b00.png\n"
     ]
    },
    {
     "name": "stderr",
     "output_type": "stream",
     "text": [
      "\r",
      "Processing images:  76%|███████▋  | 852/1116 [02:37<00:49,  5.31it/s]"
     ]
    },
    {
     "name": "stdout",
     "output_type": "stream",
     "text": [
      "1: stopwatch (0.76)\n",
      "2: analog_clock (0.19)\n",
      "3: digital_watch (0.04)\n",
      "4: barometer (0.00)\n",
      "5: lighter (0.00)\n",
      "Found 'watch' with probability 0.76\n",
      "image_save_path_good good_watch_folder\\c3ab196848f1ebc33f4c7625b55b7dc8.png\n"
     ]
    },
    {
     "name": "stderr",
     "output_type": "stream",
     "text": [
      "\r",
      "Processing images:  76%|███████▋  | 853/1116 [02:38<01:07,  3.89it/s]"
     ]
    },
    {
     "name": "stdout",
     "output_type": "stream",
     "text": [
      "1: web_site (0.56)\n",
      "2: spotlight (0.07)\n",
      "3: envelope (0.05)\n",
      "4: nematode (0.04)\n",
      "5: hair_slide (0.02)\n",
      "image_save_path_bad bad_watch_folder\\c4c8bdb06adca668a6e77b02408c1c1c.png\n",
      "1: analog_clock (0.61)\n",
      "2: wall_clock (0.22)\n",
      "3: stopwatch (0.14)\n",
      "4: barometer (0.01)\n",
      "5: magnetic_compass (0.01)\n",
      "Found 'watch' with probability 0.61\n",
      "image_save_path_good good_watch_folder\\c40b7b53f92a5392eb59e44939035dad.png\n",
      "1: stopwatch (0.71)\n",
      "2: scale (0.20)\n",
      "3: digital_watch (0.04)\n",
      "4: reflex_camera (0.01)\n",
      "5: analog_clock (0.01)\n",
      "Found 'watch' with probability 0.71\n",
      "image_save_path_good good_watch_folder\\c3b05b4a86b207184ee3d9c4fd6780bf.png\n"
     ]
    },
    {
     "name": "stderr",
     "output_type": "stream",
     "text": [
      "\r",
      "Processing images:  77%|███████▋  | 854/1116 [02:38<01:14,  3.49it/s]"
     ]
    },
    {
     "name": "stdout",
     "output_type": "stream",
     "text": [
      "1: stopwatch (0.97)\n",
      "2: analog_clock (0.02)\n",
      "3: magnetic_compass (0.01)\n",
      "4: digital_watch (0.01)\n",
      "5: reflex_camera (0.00)\n",
      "Found 'watch' with probability 0.97\n",
      "image_save_path_good good_watch_folder\\c3d325111a28d13b49f194cf31a8a86e.png\n",
      "1: stopwatch (0.81)\n",
      "2: analog_clock (0.11)\n",
      "3: magnetic_compass (0.05)\n",
      "4: barometer (0.02)\n",
      "5: digital_watch (0.01)\n",
      "Found 'watch' with probability 0.81\n",
      "image_save_path_good good_watch_folder\\c492228221f6b63ce2f6f15b5264ab55.png\n",
      "1: stopwatch (0.70)1: analog_clock (0.44)\n",
      "2: stopwatch (0.13)\n",
      "3: dial_telephone (0.12)\n",
      "4: wall_clock (0.09)\n",
      "5: pay-phone (0.08)\n",
      "Found 'watch' with probability 0.44\n",
      "image_save_path_good good_watch_folder\\c4e86e1bc729190d6bf23759188c1d24.png\n",
      "\n",
      "2: analog_clock (0.17)\n",
      "3: digital_watch (0.09)\n",
      "4: barometer (0.02)\n",
      "5: magnetic_compass (0.01)\n",
      "Found 'watch' with probability 0.70\n",
      "image_save_path_good good_watch_folder\\c51200116126771640d0d749505cf45f.png\n",
      "1: stopwatch (0.82)\n",
      "2: barometer (0.10)\n",
      "3: analog_clock (0.04)\n",
      "4: digital_watch (0.02)\n",
      "5: scale (0.01)\n",
      "Found 'watch' with probability 0.82\n",
      "image_save_path_good good_watch_folder\\c615dc01d9b762e3cf06bf1f87203cf0.png\n",
      "1: web_site (0.22)\n",
      "2: bubble (0.07)\n",
      "3: bannister (0.06)\n",
      "4: padlock (0.04)\n",
      "5: nail (0.03)\n",
      "image_save_path_bad bad_watch_folder\\c7e141cdc5b86e562b3696940256c42d.png\n",
      "1: barometer (0.86)\n",
      "2: analog_clock (0.11)\n",
      "3: stopwatch (0.02)\n",
      "4: digital_watch (0.00)\n",
      "5: magnetic_compass (0.00)\n",
      "Found 'watch' with probability 0.11\n",
      "image_save_path_good good_watch_folder\\c7a8667f0d393c58c26be9c5e9ad8d54.png\n",
      "1: stopwatch (0.54)\n",
      "2: analog_clock (0.29)\n",
      "3: wall_clock (0.04)\n",
      "4: odometer (0.03)\n",
      "5: digital_watch (0.01)\n",
      "Found 'watch' with probability 0.54\n",
      "image_save_path_good good_watch_folder\\c666ce852aeb8abea55f465f05b0f465.png\n",
      "1: stopwatch (0.88)\n",
      "2: barometer (0.07)\n",
      "3: analog_clock (0.03)\n",
      "4: digital_watch (0.00)\n",
      "5: magnetic_compass (0.00)\n",
      "Found 'watch' with probability 0.88\n",
      "image_save_path_good good_watch_folder\\c6f6076899e050f7b881ff61dad4c448.png\n",
      "1: bow (0.73)\n",
      "2: loupe (0.06)\n",
      "3: cassette_player (0.03)\n",
      "4: television (0.03)\n",
      "5: nematode (0.01)\n",
      "image_save_path_bad bad_watch_folder\\c7b13b274381ccecdb8ad6acbfcb31cd.png\n",
      "1: stopwatch (0.81)\n",
      "2: analog_clock (0.12)\n",
      "3: barometer (0.04)\n",
      "4: digital_watch (0.02)\n",
      "5: magnetic_compass (0.00)\n",
      "Found 'watch' with probability 0.81\n",
      "image_save_path_good good_watch_folder\\c82334580e6d87b7486cf110aeb8048c.png\n",
      "1: analog_clock (0.41)\n",
      "2: stopwatch (0.38)\n",
      "3: wall_clock (0.13)\n",
      "4: barometer (0.04)\n",
      "5: radio (0.01)\n",
      "Found 'watch' with probability 0.41\n",
      "image_save_path_good good_watch_folder\\c6ebe36cd293868a6d8745c95596288d.png\n",
      "1: stopwatch (0.97)\n",
      "2: analog_clock (0.02)\n",
      "3: barometer (0.00)\n",
      "4: magnetic_compass (0.00)\n",
      "5: digital_watch (0.00)\n",
      "Found 'watch' with probability 0.97\n",
      "image_save_path_good good_watch_folder\\c6f404ae0fd67ca86a17b87d55cf1c2c.png\n",
      "1: stopwatch (0.70)\n",
      "2: digital_watch (0.09)\n",
      "3: analog_clock (0.07)\n",
      "4: barometer (0.05)\n",
      "5: magnetic_compass (0.03)\n",
      "Found 'watch' with probability 0.70\n",
      "image_save_path_good good_watch_folder\\c6fa3c92798747e5ab2c55bcbcd7e272.png\n",
      "1: stopwatch (0.83)\n",
      "2: scale (0.07)\n",
      "3: barometer (0.05)\n",
      "4: analog_clock (0.03)\n",
      "5: digital_watch (0.01)\n",
      "Found 'watch' with probability 0.83\n",
      "image_save_path_good good_watch_folder\\c6f4495414e740321474a99abab6be02.png\n"
     ]
    },
    {
     "name": "stderr",
     "output_type": "stream",
     "text": [
      "Processing images:  78%|███████▊  | 868/1116 [02:40<00:25,  9.64it/s]"
     ]
    },
    {
     "name": "stdout",
     "output_type": "stream",
     "text": [
      "1: stopwatch (0.78)\n",
      "2: analog_clock (0.19)\n",
      "3: digital_watch (0.01)\n",
      "4: magnetic_compass (0.01)\n",
      "5: barometer (0.00)\n",
      "Found 'watch' with probability 0.78\n",
      "image_save_path_good good_watch_folder\\c8e688d88b10dcdee5c52c8cc86fcc0c.png\n"
     ]
    },
    {
     "name": "stderr",
     "output_type": "stream",
     "text": [
      "\r",
      "Processing images:  78%|███████▊  | 870/1116 [02:41<00:26,  9.29it/s]"
     ]
    },
    {
     "name": "stdout",
     "output_type": "stream",
     "text": [
      "1: stopwatch (0.95)\n",
      "2: analog_clock (0.02)\n",
      "3: scale (0.01)\n",
      "4: barometer (0.01)\n",
      "5: digital_watch (0.00)\n",
      "Found 'watch' with probability 0.95\n",
      "image_save_path_good good_watch_folder\\c866ff97ee10443d1404c87b520cabeb.png\n"
     ]
    },
    {
     "name": "stderr",
     "output_type": "stream",
     "text": [
      "\r",
      "Processing images:  78%|███████▊  | 873/1116 [02:41<00:32,  7.57it/s]"
     ]
    },
    {
     "name": "stdout",
     "output_type": "stream",
     "text": [
      "1: analog_clock (0.51)\n",
      "2: stopwatch (0.31)\n",
      "3: barometer (0.15)\n",
      "4: digital_watch (0.02)\n",
      "5: magnetic_compass (0.01)\n",
      "Found 'watch' with probability 0.51\n",
      "image_save_path_good good_watch_folder\\c8fbc2a9e5ec0b0e55e4753a784a1536.png\n",
      "1: stopwatch (0.94)\n",
      "2: analog_clock (0.02)\n",
      "3: scale (0.01)\n",
      "4: barometer (0.01)\n",
      "5: digital_watch (0.01)\n",
      "Found 'watch' with probability 0.94\n",
      "image_save_path_good good_watch_folder\\c92a507db2396c40d16ffc08e4e0cf94.png\n"
     ]
    },
    {
     "name": "stderr",
     "output_type": "stream",
     "text": [
      "\r",
      "Processing images:  78%|███████▊  | 875/1116 [02:41<00:35,  6.85it/s]"
     ]
    },
    {
     "name": "stdout",
     "output_type": "stream",
     "text": [
      "1: stopwatch (0.70)\n",
      "2: analog_clock (0.28)\n",
      "3: digital_watch (0.01)\n",
      "4: magnetic_compass (0.00)\n",
      "5: radio (0.00)\n",
      "Found 'watch' with probability 0.70\n",
      "image_save_path_good good_watch_folder\\c98849e879a4e66152cf019f5c511e0d.png\n",
      "1: web_site (0.13)\n",
      "2: chain (0.08)\n",
      "3: bubble (0.07)\n",
      "4: matchstick (0.04)\n",
      "5: hook (0.04)\n",
      "image_save_path_bad bad_watch_folder\\ca5b4638bfa04c88cc4f956b7d827224.png\n"
     ]
    },
    {
     "name": "stderr",
     "output_type": "stream",
     "text": [
      "Processing images:  79%|███████▊  | 877/1116 [02:42<00:54,  4.35it/s]"
     ]
    },
    {
     "name": "stdout",
     "output_type": "stream",
     "text": [
      "1: stopwatch (0.98)\n",
      "2: magnetic_compass (0.01)\n",
      "3: barometer (0.00)\n",
      "4: analog_clock (0.00)\n",
      "5: digital_watch (0.00)\n",
      "Found 'watch' with probability 0.98\n",
      "image_save_path_good good_watch_folder\\c935845b4e956dba9876314c5bdf7ef0.png\n",
      "1: stopwatch (0.47)\n",
      "2: analog_clock (0.39)\n",
      "3: barometer (0.13)\n",
      "4: digital_watch (0.01)\n",
      "5: magnetic_compass (0.00)\n",
      "Found 'watch' with probability 0.47\n",
      "image_save_path_good good_watch_folder\\c97f700f2815101a82a3ce91723491e5.png\n",
      "1: stopwatch (0.99)\n",
      "2: analog_clock (0.01)\n",
      "3: digital_watch (0.00)\n",
      "4: wall_clock (0.00)\n",
      "5: magnetic_compass (0.00)\n",
      "Found 'watch' with probability 0.99\n",
      "image_save_path_good good_watch_folder\\c9be305c5c95463ba0ce3088765616b0.png\n",
      "1: stopwatch (0.72)\n",
      "2: analog_clock (0.18)\n",
      "3: barometer (0.08)\n",
      "4: magnetic_compass (0.01)\n",
      "5: wall_clock (0.01)\n",
      "Found 'watch' with probability 0.72\n",
      "image_save_path_good good_watch_folder\\c9f8b42aaaa9e3b697af40d6451f53e0.png\n",
      "1: stopwatch (0.71)\n",
      "2: analog_clock (0.14)\n",
      "3: magnetic_compass (0.11)\n",
      "4: digital_watch (0.01)\n",
      "5: barometer (0.01)\n",
      "Found 'watch' with probability 0.71\n",
      "image_save_path_good good_watch_folder\\cbe2df223cdb51775518e4732f7f4da8.png\n"
     ]
    },
    {
     "name": "stderr",
     "output_type": "stream",
     "text": [
      "Processing images:  79%|███████▉  | 883/1116 [02:44<00:41,  5.55it/s]"
     ]
    },
    {
     "name": "stdout",
     "output_type": "stream",
     "text": [
      "1: electric_fan (0.48)\n",
      "2: spotlight (0.20)\n",
      "3: strainer (0.20)\n",
      "4: brassiere (0.02)\n",
      "5: toilet_seat (0.02)\n",
      "image_save_path_bad bad_watch_folder\\ca9c04d839d9862a71ba59c6c677bd9a.png\n",
      "1: barometer (0.33)\n",
      "2: analog_clock (0.19)\n",
      "3: stopwatch (0.17)\n",
      "4: wall_clock (0.07)\n",
      "5: digital_watch (0.03)\n",
      "Found 'watch' with probability 0.19\n",
      "image_save_path_good good_watch_folder\\cbe4adbbcf7e3881b3bf5688cc178423.png\n",
      "1: barometer (0.52)\n",
      "2: analog_clock (0.16)\n",
      "3: stopwatch (0.14)\n",
      "4: digital_watch (0.08)\n",
      "5: magnetic_compass (0.07)\n",
      "Found 'watch' with probability 0.16\n",
      "image_save_path_good good_watch_folder\\cc1b1efd2401f87f67bd6564b4c7f41a.png\n",
      "1: barometer (0.49)\n",
      "2: stopwatch (0.41)\n",
      "3: analog_clock (0.04)\n",
      "4: scale (0.02)\n",
      "5: magnetic_compass (0.01)\n",
      "Found 'watch' with probability 0.41\n",
      "image_save_path_good good_watch_folder\\cac795999443b85cf02ba41b083eccdf.png\n",
      "1: stopwatch (0.98)\n",
      "2: analog_clock (0.01)\n",
      "3: digital_watch (0.00)\n",
      "4: magnetic_compass (0.00)\n",
      "5: barometer (0.00)\n",
      "Found 'watch' with probability 0.98\n",
      "image_save_path_good good_watch_folder\\cc9041db5a4a7f30fdfb479f41d31cfe.png\n"
     ]
    },
    {
     "name": "stderr",
     "output_type": "stream",
     "text": [
      "\r",
      "Processing images:  79%|███████▉  | 884/1116 [02:44<01:07,  3.43it/s]"
     ]
    },
    {
     "name": "stdout",
     "output_type": "stream",
     "text": [
      "1: wallet (0.37)\n",
      "2: mailbag (0.35)\n",
      "3: purse (0.06)\n",
      "4: backpack (0.03)\n",
      "5: buckle (0.03)\n",
      "image_save_path_bad bad_watch_folder\\ca6508a1a95deb9273317b10886eef3d.png\n"
     ]
    },
    {
     "name": "stderr",
     "output_type": "stream",
     "text": [
      "\r",
      "Processing images:  79%|███████▉  | 885/1116 [02:44<01:01,  3.78it/s]"
     ]
    },
    {
     "name": "stdout",
     "output_type": "stream",
     "text": [
      "1: stopwatch (0.99)\n",
      "2: reflex_camera (0.00)\n",
      "3: digital_watch (0.00)\n",
      "4: radio (0.00)\n",
      "5: analog_clock (0.00)\n",
      "Found 'watch' with probability 0.99\n",
      "image_save_path_good good_watch_folder\\cc2a1f80f63211feebe9e5687351cc05.png\n"
     ]
    },
    {
     "name": "stderr",
     "output_type": "stream",
     "text": [
      "\r",
      "Processing images:  80%|███████▉  | 888/1116 [02:45<00:37,  6.10it/s]"
     ]
    },
    {
     "name": "stdout",
     "output_type": "stream",
     "text": [
      "1: stopwatch (0.82)\n",
      "2: analog_clock (0.12)\n",
      "3: barometer (0.03)\n",
      "4: digital_watch (0.02)\n",
      "5: scale (0.00)\n",
      "Found 'watch' with probability 0.82\n",
      "image_save_path_good good_watch_folder\\ccc4b7eaadd18ed5c0762b63dfe30355.png\n",
      "1: stopwatch (0.96)\n",
      "2: analog_clock (0.03)\n",
      "3: digital_watch (0.00)\n",
      "4: barometer (0.00)\n",
      "5: magnetic_compass (0.00)\n",
      "Found 'watch' with probability 0.96\n",
      "image_save_path_good good_watch_folder\\cc7d14fdadcf94e0bc7aa283ed20cf2a.png\n",
      "1: stopwatch (0.71)\n",
      "2: barometer (0.20)\n",
      "3: analog_clock (0.03)\n",
      "4: magnetic_compass (0.02)\n",
      "5: digital_watch (0.02)\n",
      "Found 'watch' with probability 0.71\n",
      "image_save_path_good good_watch_folder\\cca993c819a3dd7b1d5504e2a877aaec.png\n"
     ]
    },
    {
     "name": "stderr",
     "output_type": "stream",
     "text": [
      "Processing images:  80%|███████▉  | 892/1116 [02:45<00:38,  5.85it/s]"
     ]
    },
    {
     "name": "stdout",
     "output_type": "stream",
     "text": [
      "1: stopwatch (0.49)\n",
      "2: analog_clock (0.49)\n",
      "3: wall_clock (0.01)\n",
      "4: combination_lock (0.01)\n",
      "5: digital_watch (0.00)\n",
      "Found 'watch' with probability 0.49\n",
      "image_save_path_good good_watch_folder\\cd2348d7aa9f8f08b69700a80f9fac20.png\n",
      "1: stopwatch (0.88)\n",
      "2: barometer (0.08)\n",
      "3: analog_clock (0.02)\n",
      "4: magnetic_compass (0.01)\n",
      "5: digital_watch (0.00)\n",
      "Found 'watch' with probability 0.88\n",
      "image_save_path_good good_watch_folder\\cda5a380a3e6c5d9345dae0f27d8c7d9.png\n",
      "1: stopwatch (0.63)\n",
      "2: analog_clock (0.25)\n",
      "3: magnetic_compass (0.04)\n",
      "4: digital_watch (0.04)\n",
      "5: wall_clock (0.01)\n",
      "Found 'watch' with probability 0.63\n",
      "image_save_path_good good_watch_folder\\cd7beabedaded4768c99fda996ab90ac.png\n",
      "1: stopwatch (0.94)\n",
      "2: analog_clock (0.05)\n",
      "3: digital_watch (0.00)\n",
      "4: magnetic_compass (0.00)\n",
      "5: reflex_camera (0.00)\n",
      "Found 'watch' with probability 0.94\n",
      "image_save_path_good good_watch_folder\\cdb9f2223dbc4591b184a309588ea0af.png\n"
     ]
    },
    {
     "name": "stderr",
     "output_type": "stream",
     "text": [
      "Processing images:  80%|████████  | 895/1116 [02:46<00:40,  5.42it/s]"
     ]
    },
    {
     "name": "stdout",
     "output_type": "stream",
     "text": [
      "1: web_site (0.22)\n",
      "2: bubble (0.07)\n",
      "3: nail (0.04)\n",
      "4: nematode (0.04)\n",
      "5: abaya (0.03)\n",
      "image_save_path_bad bad_watch_folder\\cdc5161cd4347b535cdab6959f34e98f.png\n",
      "1: stopwatch (0.91)\n",
      "2: analog_clock (0.06)\n",
      "3: barometer (0.01)\n",
      "4: digital_watch (0.01)\n",
      "5: magnetic_compass (0.00)\n",
      "Found 'watch' with probability 0.91\n",
      "image_save_path_good good_watch_folder\\cdd531e549a006fa941a27cbce51fa79.png\n",
      "1: barometer (0.48)\n",
      "2: stopwatch (0.26)\n",
      "3: scale (0.11)\n",
      "4: analog_clock (0.10)\n",
      "5: digital_watch (0.01)\n",
      "Found 'watch' with probability 0.26\n",
      "image_save_path_good good_watch_folder\\cdfa8afa6eb87e40adcbb70e891e27cc.png\n"
     ]
    },
    {
     "name": "stderr",
     "output_type": "stream",
     "text": [
      "Processing images:  81%|████████  | 899/1116 [02:47<00:38,  5.65it/s]"
     ]
    },
    {
     "name": "stdout",
     "output_type": "stream",
     "text": [
      "1: stopwatch (0.93)\n",
      "2: analog_clock (0.05)\n",
      "3: magnetic_compass (0.01)\n",
      "4: digital_watch (0.01)\n",
      "5: wall_clock (0.00)\n",
      "Found 'watch' with probability 0.93\n",
      "image_save_path_good good_watch_folder\\cdfac8e3208fb8cb66f30c37ee70f539.png\n"
     ]
    },
    {
     "name": "stderr",
     "output_type": "stream",
     "text": [
      "\r",
      "Processing images:  81%|████████  | 900/1116 [02:47<00:37,  5.73it/s]"
     ]
    },
    {
     "name": "stdout",
     "output_type": "stream",
     "text": [
      "1: stopwatch (1.00)\n",
      "2: barometer (0.00)\n",
      "3: digital_watch (0.00)\n",
      "4: magnetic_compass (0.00)\n",
      "5: analog_clock (0.00)\n",
      "Found 'watch' with probability 1.00\n",
      "image_save_path_good good_watch_folder\\cdfe1f018ec1e8f4c53af9f0db3f914f.png\n",
      "1: stopwatch (1.00)\n",
      "2: analog_clock (0.00)\n",
      "3: barometer (0.00)\n",
      "4: digital_watch (0.00)\n",
      "5: bolo_tie (0.00)\n",
      "Found 'watch' with probability 1.00\n",
      "image_save_path_good good_watch_folder\\ce9c1d7024edf32f92a4ebe89d8104fb.png\n",
      "1: stopwatch (0.98)\n",
      "2: magnetic_compass (0.01)\n",
      "3: analog_clock (0.01)\n",
      "4: barometer (0.00)\n",
      "5: digital_watch (0.00)\n",
      "Found 'watch' with probability 0.98\n",
      "image_save_path_good good_watch_folder\\cf2281af8c1a007015117ff1ff431997.png\n",
      "1: digital_watch (0.26)\n",
      "2: stopwatch (0.21)\n",
      "3: drum (0.11)\n",
      "4: analog_clock (0.09)\n",
      "5: radio (0.09)\n",
      "Found 'watch' with probability 0.26\n",
      "image_save_path_good good_watch_folder\\ceb534621c2a3aa8ed0120909995a5e9.png\n"
     ]
    },
    {
     "name": "stderr",
     "output_type": "stream",
     "text": [
      "\r",
      "Processing images:  81%|████████  | 901/1116 [02:47<00:48,  4.46it/s]"
     ]
    },
    {
     "name": "stdout",
     "output_type": "stream",
     "text": [
      "1: stopwatch (0.93)\n",
      "2: analog_clock (0.05)\n",
      "3: digital_watch (0.01)\n",
      "4: magnetic_compass (0.01)\n",
      "5: wall_clock (0.00)\n",
      "Found 'watch' with probability 0.93\n",
      "image_save_path_good good_watch_folder\\cfadb60eb99bd346414265c3bdb39882.png\n"
     ]
    },
    {
     "name": "stderr",
     "output_type": "stream",
     "text": [
      "Processing images:  81%|████████  | 904/1116 [02:47<00:34,  6.15it/s]"
     ]
    },
    {
     "name": "stdout",
     "output_type": "stream",
     "text": [
      "1: stopwatch (1.00)\n",
      "2: analog_clock (0.00)\n",
      "3: digital_watch (0.00)\n",
      "4: barometer (0.00)\n",
      "5: magnetic_compass (0.00)\n",
      "Found 'watch' with probability 1.00\n",
      "image_save_path_good good_watch_folder\\cfaf62db3d15b4d182ecb34de5e45497.png\n",
      "1: stopwatch (0.93)\n",
      "2: magnetic_compass (0.04)\n",
      "3: barometer (0.01)\n",
      "4: digital_watch (0.01)\n",
      "5: analog_clock (0.01)\n",
      "Found 'watch' with probability 0.93\n",
      "image_save_path_good good_watch_folder\\cf4ebff93fcac83f9249a1388bb9d547.png\n"
     ]
    },
    {
     "name": "stderr",
     "output_type": "stream",
     "text": [
      "\r",
      "Processing images:  81%|████████  | 906/1116 [02:48<00:30,  6.99it/s]"
     ]
    },
    {
     "name": "stdout",
     "output_type": "stream",
     "text": [
      "1: wallet (0.56)\n",
      "2: mailbag (0.10)\n",
      "3: holster (0.04)\n",
      "4: purse (0.03)\n",
      "5: buckle (0.03)\n",
      "image_save_path_bad bad_watch_folder\\d045cab9115901f81f106802ae511d2b.png\n"
     ]
    },
    {
     "name": "stderr",
     "output_type": "stream",
     "text": [
      "\r",
      "Processing images:  81%|████████▏ | 907/1116 [02:48<00:39,  5.33it/s]"
     ]
    },
    {
     "name": "stdout",
     "output_type": "stream",
     "text": [
      "1: stopwatch (0.96)\n",
      "2: scale (0.01)\n",
      "3: magnetic_compass (0.01)\n",
      "4: barometer (0.01)\n",
      "5: digital_watch (0.01)\n",
      "Found 'watch' with probability 0.96\n",
      "image_save_path_good good_watch_folder\\d038845ec5d799d55e4d24d9595e0c1e.png\n",
      "1: stopwatch (0.70)\n",
      "2: analog_clock (0.25)\n",
      "3: digital_watch (0.01)\n",
      "4: barometer (0.01)\n",
      "5: reflex_camera (0.01)\n",
      "Found 'watch' with probability 0.70\n",
      "image_save_path_good good_watch_folder\\d04dae3fa678b7bf19d7932be5652aa6.png\n",
      "1: stopwatch (0.96)\n",
      "2: digital_watch (0.02)\n",
      "3: magnetic_compass (0.01)\n",
      "4: analog_clock (0.01)\n",
      "5: barometer (0.00)\n",
      "Found 'watch' with probability 0.96\n",
      "image_save_path_good good_watch_folder\\d08d5b746a28b519790feeda9c8fa33f.png\n"
     ]
    },
    {
     "name": "stderr",
     "output_type": "stream",
     "text": [
      "Processing images:  82%|████████▏ | 911/1116 [02:49<00:40,  5.12it/s]"
     ]
    },
    {
     "name": "stdout",
     "output_type": "stream",
     "text": [
      "1: stopwatch (0.95)\n",
      "2: analog_clock (0.03)\n",
      "3: barometer (0.01)\n",
      "4: digital_watch (0.01)\n",
      "5: scale (0.00)\n",
      "Found 'watch' with probability 0.95\n",
      "image_save_path_good good_watch_folder\\d0f3eb32d4e0b393b6f835f80bdc1d6a.png\n",
      "1: analog_clock (0.53)\n",
      "2: stopwatch (0.37)\n",
      "3: digital_watch (0.04)\n",
      "4: wall_clock (0.02)\n",
      "5: barometer (0.01)\n",
      "Found 'watch' with probability 0.53\n",
      "image_save_path_good good_watch_folder\\d0cc8595a2dacbee1f79d035a74bdd03.png\n",
      "1: stopwatch (0.43)\n",
      "2: analog_clock (0.30)\n",
      "3: barometer (0.22)\n",
      "4: magnetic_compass (0.02)\n",
      "5: digital_watch (0.01)\n",
      "Found 'watch' with probability 0.43\n",
      "image_save_path_good good_watch_folder\\d0f1bbb94207aae6fe77e34bf5f9e370.png\n"
     ]
    },
    {
     "name": "stderr",
     "output_type": "stream",
     "text": [
      "Processing images:  82%|████████▏ | 914/1116 [02:49<00:41,  4.84it/s]"
     ]
    },
    {
     "name": "stdout",
     "output_type": "stream",
     "text": [
      "1: stopwatch (0.67)\n",
      "2: analog_clock (0.20)\n",
      "3: digital_watch (0.12)\n",
      "4: wall_clock (0.00)\n",
      "5: barometer (0.00)\n",
      "Found 'watch' with probability 0.67\n",
      "image_save_path_good good_watch_folder\\d2060f2a4570c68b24e6dc4fc60eab82.png\n",
      "1: stopwatch (1.00)\n",
      "2: analog_clock (0.00)\n",
      "3: digital_watch (0.00)\n",
      "4: scale (0.00)\n",
      "5: magnetic_compass (0.00)\n",
      "Found 'watch' with probability 1.00\n",
      "image_save_path_good good_watch_folder\\d15f59570778cdf876f7409528fa54e7.png\n",
      "1: stopwatch (0.95)\n",
      "2: analog_clock (0.05)\n",
      "3: barometer (0.00)\n",
      "4: wall_clock (0.00)\n",
      "5: digital_watch (0.00)\n",
      "Found 'watch' with probability 0.95\n",
      "image_save_path_good good_watch_folder\\d1ad06f3938184946fd8053a259d8ac1.png\n"
     ]
    },
    {
     "name": "stderr",
     "output_type": "stream",
     "text": [
      "\r",
      "Processing images:  82%|████████▏ | 916/1116 [02:50<00:39,  5.12it/s]"
     ]
    },
    {
     "name": "stdout",
     "output_type": "stream",
     "text": [
      "1: analog_clock (0.69)\n",
      "2: stopwatch (0.11)\n",
      "3: wall_clock (0.06)\n",
      "4: barometer (0.03)\n",
      "5: bolo_tie (0.01)\n",
      "Found 'watch' with probability 0.69\n",
      "image_save_path_good good_watch_folder\\d21781a40d85ac7210aff5e633c8210f.png\n"
     ]
    },
    {
     "name": "stderr",
     "output_type": "stream",
     "text": [
      "\r",
      "Processing images:  82%|████████▏ | 919/1116 [02:50<00:26,  7.57it/s]"
     ]
    },
    {
     "name": "stdout",
     "output_type": "stream",
     "text": [
      "1: stopwatch (0.82)\n",
      "2: analog_clock (0.18)\n",
      "3: digital_watch (0.00)\n",
      "4: wall_clock (0.00)\n",
      "5: barometer (0.00)\n",
      "Found 'watch' with probability 0.82\n",
      "image_save_path_good good_watch_folder\\d241a1033ce634ee40b8dc0734f6d5ec.png\n",
      "1: buckle (0.17)\n",
      "2: wallet (0.14)\n",
      "3: mailbag (0.10)\n",
      "4: Polaroid_camera (0.07)\n",
      "5: reflex_camera (0.05)\n",
      "image_save_path_bad bad_watch_folder\\d2b7df11ed7b1b234a7564117925cdae.png\n"
     ]
    },
    {
     "name": "stderr",
     "output_type": "stream",
     "text": [
      "\r",
      "Processing images:  82%|████████▏ | 920/1116 [02:50<00:31,  6.23it/s]"
     ]
    },
    {
     "name": "stdout",
     "output_type": "stream",
     "text": [
      "1: stopwatch (0.75)\n",
      "2: analog_clock (0.21)\n",
      "3: barometer (0.03)\n",
      "4: digital_watch (0.00)\n",
      "5: magnetic_compass (0.00)\n",
      "Found 'watch' with probability 0.75\n",
      "image_save_path_good good_watch_folder\\d2bfe53cb389efbe30c07759bbf47f68.png\n",
      "1: analog_clock (0.92)\n",
      "2: stopwatch (0.07)\n",
      "3: wall_clock (0.01)\n",
      "4: barometer (0.00)\n",
      "5: digital_watch (0.00)\n",
      "Found 'watch' with probability 0.92\n",
      "image_save_path_good good_watch_folder\\d39d7cffc1063372e789b1464eef0bed.png\n"
     ]
    },
    {
     "name": "stderr",
     "output_type": "stream",
     "text": [
      "Processing images:  83%|████████▎ | 922/1116 [02:51<00:55,  3.53it/s]"
     ]
    },
    {
     "name": "stdout",
     "output_type": "stream",
     "text": [
      "1: analog_clock (0.48)\n",
      "2: stopwatch (0.45)\n",
      "3: barometer (0.02)\n",
      "4: wall_clock (0.02)\n",
      "5: digital_watch (0.01)\n",
      "Found 'watch' with probability 0.48\n",
      "image_save_path_good good_watch_folder\\d2daacd2bf7742b0ce8585517851d51a.png\n",
      "1: stopwatch (0.43)\n",
      "2: barometer (0.29)\n",
      "3: analog_clock (0.24)\n",
      "4: magnetic_compass (0.01)\n",
      "5: wall_clock (0.01)\n",
      "Found 'watch' with probability 0.43\n",
      "image_save_path_good good_watch_folder\\d40cf97d20a2e112c723596fd52d0042.png\n",
      "1: stopwatch (0.59)\n",
      "2: magnetic_compass (0.20)\n",
      "3: analog_clock (0.16)\n",
      "4: barometer (0.02)\n",
      "5: digital_watch (0.01)\n",
      "Found 'watch' with probability 0.59\n",
      "image_save_path_good good_watch_folder\\d48ae56cf9b84dfd3525dc351c463706.png\n"
     ]
    },
    {
     "name": "stderr",
     "output_type": "stream",
     "text": [
      "\r",
      "Processing images:  83%|████████▎ | 923/1116 [02:51<00:47,  4.09it/s]"
     ]
    },
    {
     "name": "stdout",
     "output_type": "stream",
     "text": [
      "1: stopwatch (0.94)\n",
      "2: magnetic_compass (0.02)\n",
      "3: analog_clock (0.02)\n",
      "4: digital_watch (0.01)\n",
      "5: reflex_camera (0.01)\n",
      "Found 'watch' with probability 0.94\n",
      "image_save_path_good good_watch_folder\\d48c39a09fa2948cb3d45f8557e8eedb.png\n",
      "1: stopwatch (0.98)\n",
      "2: analog_clock (0.01)\n",
      "3: digital_watch (0.00)\n",
      "4: magnetic_compass (0.00)\n",
      "5: barometer (0.00)\n",
      "Found 'watch' with probability 0.98\n",
      "image_save_path_good good_watch_folder\\d482a81c62c19b5c7a804670f27bda1b.png\n"
     ]
    },
    {
     "name": "stderr",
     "output_type": "stream",
     "text": [
      "Processing images:  83%|████████▎ | 925/1116 [02:52<00:48,  3.91it/s]"
     ]
    },
    {
     "name": "stdout",
     "output_type": "stream",
     "text": [
      "1: stopwatch (0.89)\n",
      "2: reflex_camera (0.08)\n",
      "3: digital_watch (0.01)\n",
      "4: magnetic_compass (0.00)\n",
      "5: analog_clock (0.00)\n",
      "Found 'watch' with probability 0.89\n",
      "image_save_path_good good_watch_folder\\d5106394464a8c0d64e490fcca56a32e.png\n",
      "1: web_site (0.35)\n",
      "2: digital_clock (0.15)\n",
      "3: stopwatch (0.07)\n",
      "4: analog_clock (0.05)\n",
      "5: scoreboard (0.04)\n",
      "Found 'watch' with probability 0.15\n",
      "image_save_path_good good_watch_folder\\d5549a14eb037d5295c2f5d9d5ff9ad3.png\n"
     ]
    },
    {
     "name": "stderr",
     "output_type": "stream",
     "text": [
      "Processing images:  83%|████████▎ | 928/1116 [02:52<00:30,  6.09it/s]"
     ]
    },
    {
     "name": "stdout",
     "output_type": "stream",
     "text": [
      "1: perfume (0.40)\n",
      "2: gas_pump (0.27)\n",
      "3: stopwatch (0.14)\n",
      "4: digital_watch (0.03)\n",
      "5: analog_clock (0.03)\n",
      "Found 'watch' with probability 0.14\n",
      "image_save_path_good good_watch_folder\\d5441173c181cc5ad29eed283e3889fe.png\n",
      "1: analog_clock (0.62)\n",
      "2: stopwatch (0.27)\n",
      "3: barometer (0.05)\n",
      "4: wall_clock (0.03)\n",
      "5: digital_watch (0.01)\n",
      "Found 'watch' with probability 0.62\n",
      "image_save_path_good good_watch_folder\\d60dc9db0cbb5d7f93c5b24603a382f5.png\n"
     ]
    },
    {
     "name": "stderr",
     "output_type": "stream",
     "text": [
      "\r",
      "Processing images:  83%|████████▎ | 930/1116 [02:52<00:31,  5.86it/s]"
     ]
    },
    {
     "name": "stdout",
     "output_type": "stream",
     "text": [
      "1: stopwatch (0.83)1: stopwatch (0.43)\n",
      "2: analog_clock (0.33)\n",
      "3: barometer (0.22)\n",
      "4: digital_watch (0.01)\n",
      "5: magnetic_compass (0.00)\n",
      "Found 'watch' with probability 0.43\n",
      "image_save_path_good good_watch_folder\\d5b37edd4bf5b20e267d636dfe7d96aa.png\n",
      "1: stopwatch (0.99)\n",
      "2: magnetic_compass (0.00)\n",
      "3: analog_clock (0.00)\n",
      "4: digital_watch (0.00)\n",
      "5: barometer (0.00)\n",
      "Found 'watch' with probability 0.99\n",
      "image_save_path_good good_watch_folder\\d7500a9d9afac8c2334663dd923c13f4.png\n",
      "1: stopwatch (0.96)\n",
      "2: digital_watch (0.02)\n",
      "3: analog_clock (0.01)\n",
      "4: radio (0.00)\n",
      "5: reflex_camera (0.00)\n",
      "Found 'watch' with probability 0.96\n",
      "image_save_path_good good_watch_folder\\d71d77e10e9cd2dd2bfdadd76e15ca73.png\n",
      "\n",
      "2: analog_clock (0.12)\n",
      "3: barometer (0.03)\n",
      "4: digital_watch (0.01)\n",
      "5: wall_clock (0.00)\n",
      "Found 'watch' with probability 0.83\n",
      "image_save_path_good good_watch_folder\\d5a06634c6aef6902769b086a45c6856.png\n",
      "1: analog_clock (0.49)\n",
      "2: stopwatch (0.35)\n",
      "3: barometer (0.12)\n",
      "4: wall_clock (0.01)\n",
      "5: magnetic_compass (0.01)\n",
      "Found 'watch' with probability 0.49\n",
      "image_save_path_good good_watch_folder\\d7874c032cdfa9dab79788b26654017d.png\n"
     ]
    },
    {
     "name": "stderr",
     "output_type": "stream",
     "text": [
      "\r",
      "Processing images:  84%|████████▎ | 932/1116 [02:53<00:32,  5.62it/s]"
     ]
    },
    {
     "name": "stdout",
     "output_type": "stream",
     "text": [
      "1: stopwatch (0.88)\n",
      "2: analog_clock (0.06)\n",
      "3: barometer (0.04)\n",
      "4: magnetic_compass (0.01)\n",
      "5: digital_watch (0.00)\n",
      "Found 'watch' with probability 0.88\n",
      "image_save_path_good good_watch_folder\\d8049ac1c44a7fed80aff62b38c6a6b9.png\n"
     ]
    },
    {
     "name": "stderr",
     "output_type": "stream",
     "text": [
      "Processing images:  84%|████████▍ | 937/1116 [02:53<00:21,  8.14it/s]"
     ]
    },
    {
     "name": "stdout",
     "output_type": "stream",
     "text": [
      "1: stopwatch (0.62)1: stopwatch (0.98)\n",
      "2: digital_watch (0.01)\n",
      "3: analog_clock (0.01)\n",
      "4: reflex_camera (0.00)\n",
      "5: scale (0.00)\n",
      "Found 'watch' with probability 0.98\n",
      "image_save_path_good good_watch_folder\\d6e2d3331fa56c2ab4978903f10ec639.png\n",
      "\n",
      "2: analog_clock (0.30)\n",
      "3: wall_clock (0.04)\n",
      "4: barometer (0.02)\n",
      "5: digital_watch (0.01)\n",
      "Found 'watch' with probability 0.62\n",
      "image_save_path_good good_watch_folder\\d941f7e505b21720850ef5db9d6888a6.png\n",
      "1: fountain (0.37)\n",
      "2: bubble (0.14)\n",
      "3: nail (0.03)\n",
      "4: web_site (0.03)\n",
      "5: bannister (0.03)\n",
      "image_save_path_bad bad_watch_folder\\d90502836c1a8d9b8f1c465e74aad95c.png\n",
      "1: stopwatch (0.75)\n",
      "2: barometer (0.09)\n",
      "3: magnetic_compass (0.06)\n",
      "4: analog_clock (0.05)\n",
      "5: digital_watch (0.02)\n",
      "Found 'watch' with probability 0.75\n",
      "image_save_path_good good_watch_folder\\d83374204d795e604c5b8fc1927df937.png\n"
     ]
    },
    {
     "name": "stderr",
     "output_type": "stream",
     "text": [
      "Processing images:  84%|████████▍ | 941/1116 [02:54<00:21,  8.04it/s]"
     ]
    },
    {
     "name": "stdout",
     "output_type": "stream",
     "text": [
      "1: stopwatch (0.74)\n",
      "2: analog_clock (0.19)\n",
      "3: magnetic_compass (0.04)\n",
      "4: barometer (0.01)\n",
      "5: digital_watch (0.01)\n",
      "Found 'watch' with probability 0.74\n",
      "image_save_path_good good_watch_folder\\d95934585da1818808ea0cc07c7fdbb6.png\n",
      "1: stopwatch (0.99)\n",
      "2: barometer (0.01)\n",
      "3: magnetic_compass (0.00)\n",
      "4: analog_clock (0.00)\n",
      "5: digital_watch (0.00)\n",
      "Found 'watch' with probability 0.99\n",
      "image_save_path_good good_watch_folder\\d9752e57567fe5ac2d74addc8fa93584.png\n"
     ]
    },
    {
     "name": "stderr",
     "output_type": "stream",
     "text": [
      "\r",
      "Processing images:  84%|████████▍ | 943/1116 [02:54<00:29,  5.92it/s]"
     ]
    },
    {
     "name": "stdout",
     "output_type": "stream",
     "text": [
      "1: stopwatch (0.96)\n",
      "2: digital_watch (0.01)\n",
      "3: magnetic_compass (0.01)\n",
      "4: analog_clock (0.01)\n",
      "5: barometer (0.00)\n",
      "Found 'watch' with probability 0.96\n",
      "image_save_path_good good_watch_folder\\daeed16c1346c90775aed4a85a7b5733.png\n",
      "1: stopwatch (1.00)\n",
      "2: scale (0.00)\n",
      "3: digital_watch (0.00)\n",
      "4: barometer (0.00)\n",
      "5: analog_clock (0.00)\n",
      "Found 'watch' with probability 1.00\n",
      "image_save_path_good good_watch_folder\\d9e50116beeee9d2815301bcb84fa963.png\n",
      "1: stopwatch (0.93)\n",
      "2: analog_clock (0.07)\n",
      "3: barometer (0.00)\n",
      "4: magnetic_compass (0.00)\n",
      "5: digital_watch (0.00)\n",
      "Found 'watch' with probability 0.93\n",
      "image_save_path_good good_watch_folder\\daf43849849f2d8f86c16c02bd458ba2.png\n"
     ]
    },
    {
     "name": "stderr",
     "output_type": "stream",
     "text": [
      "\r",
      "Processing images:  85%|████████▍ | 945/1116 [02:55<00:40,  4.22it/s]"
     ]
    },
    {
     "name": "stdout",
     "output_type": "stream",
     "text": [
      "1: web_site (0.15)\n",
      "2: shoji (0.07)\n",
      "3: spotlight (0.04)\n",
      "4: matchstick (0.03)\n",
      "5: bannister (0.02)\n",
      "image_save_path_bad bad_watch_folder\\db11de6dfa307d7fc22ddee9af9ac21f.png\n",
      "1: wallet (0.76)\n",
      "2: binder (0.05)\n",
      "3: microwave (0.02)\n",
      "4: mailbag (0.02)\n",
      "5: face_powder (0.01)\n",
      "image_save_path_bad bad_watch_folder\\db06c727c2b637349de43434b4c55286.png\n"
     ]
    },
    {
     "name": "stderr",
     "output_type": "stream",
     "text": [
      "Processing images:  85%|████████▍ | 948/1116 [02:55<00:27,  6.17it/s]"
     ]
    },
    {
     "name": "stdout",
     "output_type": "stream",
     "text": [
      "1: stopwatch (0.86)\n",
      "2: barometer (0.11)\n",
      "3: analog_clock (0.02)\n",
      "4: magnetic_compass (0.00)\n",
      "5: digital_watch (0.00)\n",
      "Found 'watch' with probability 0.86\n",
      "image_save_path_good good_watch_folder\\db27f1c3a499da8a39d91c937fc00a7e.png\n",
      "1: stopwatch (0.99)\n",
      "2: scale (0.00)\n",
      "3: barometer (0.00)\n",
      "4: digital_watch (0.00)\n",
      "5: analog_clock (0.00)\n",
      "Found 'watch' with probability 0.99\n",
      "image_save_path_good good_watch_folder\\db83d3c2c929a2c5f66aed98678f2e40.png\n",
      "1: stopwatch (0.97)\n",
      "2: digital_watch (0.01)\n",
      "3: magnetic_compass (0.00)\n",
      "4: analog_clock (0.00)\n",
      "5: scale (0.00)\n",
      "Found 'watch' with probability 0.97\n",
      "image_save_path_good good_watch_folder\\db28d2483ff8b8beb4e360d245e910a3.png\n",
      "1: stopwatch (0.89)\n",
      "2: analog_clock (0.09)\n",
      "3: digital_watch (0.01)\n",
      "4: wall_clock (0.00)\n",
      "5: magnetic_compass (0.00)\n",
      "Found 'watch' with probability 0.89\n",
      "image_save_path_good good_watch_folder\\dba61af1b0842d7b26567ea90755947e.png\n",
      "1: magnetic_compass (0.39)\n",
      "2: barometer (0.22)\n",
      "3: analog_clock (0.19)\n",
      "4: stopwatch (0.16)\n",
      "5: wall_clock (0.01)\n",
      "Found 'watch' with probability 0.19\n",
      "image_save_path_good good_watch_folder\\dbaa07235c8de5c8b388dbbc4ddd49b1.png\n",
      "1: stopwatch (0.99)\n",
      "2: analog_clock (0.01)\n",
      "3: digital_watch (0.00)\n",
      "4: wall_clock (0.00)\n",
      "5: magnetic_compass (0.00)\n",
      "Found 'watch' with probability 0.99\n",
      "image_save_path_good good_watch_folder\\dbe053994f0c2799f1f57ccd6e80ca81.png\n"
     ]
    },
    {
     "name": "stderr",
     "output_type": "stream",
     "text": [
      "Processing images:  85%|████████▌ | 954/1116 [02:57<00:30,  5.28it/s]"
     ]
    },
    {
     "name": "stdout",
     "output_type": "stream",
     "text": [
      "1: stopwatch (0.63)\n",
      "2: analog_clock (0.19)\n",
      "3: digital_watch (0.09)\n",
      "4: barometer (0.05)\n",
      "5: magnetic_compass (0.02)\n",
      "Found 'watch' with probability 0.63\n",
      "image_save_path_good good_watch_folder\\dc9a5f4d55c59366b0fd4bbe95db54f9.png\n",
      "1: analog_clock (0.65)\n",
      "2: stopwatch (0.27)\n",
      "3: wall_clock (0.05)\n",
      "4: barometer (0.02)\n",
      "5: magnetic_compass (0.01)\n",
      "Found 'watch' with probability 0.65\n",
      "image_save_path_good good_watch_folder\\dca86201322c9d6e624e4e40bb5605bd.png\n",
      "1: stopwatch (0.96)\n",
      "2: barometer (0.03)\n",
      "3: reflex_camera (0.00)\n",
      "4: binoculars (0.00)\n",
      "5: digital_watch (0.00)\n",
      "Found 'watch' with probability 0.96\n",
      "image_save_path_good good_watch_folder\\dc97b34a265b4e1a5721d3d8bed91531.png\n",
      "1: stopwatch (1.00)\n",
      "2: digital_watch (0.00)\n",
      "3: reflex_camera (0.00)\n",
      "4: analog_clock (0.00)\n",
      "5: magnetic_compass (0.00)\n",
      "Found 'watch' with probability 1.00\n",
      "image_save_path_good good_watch_folder\\dbef1a0d80ad7b57d040da13d671b11b.png\n",
      "1: stopwatch (0.95)\n",
      "2: digital_watch (0.02)\n",
      "3: analog_clock (0.01)\n",
      "4: magnetic_compass (0.01)\n",
      "5: scale (0.01)\n",
      "Found 'watch' with probability 0.95\n",
      "image_save_path_good good_watch_folder\\dca1672c7bc0bc73b5b712bad513de7f.png\n",
      "1: stopwatch (0.83)\n",
      "2: analog_clock (0.04)\n",
      "3: barometer (0.03)\n",
      "4: scale (0.03)\n",
      "5: digital_watch (0.02)\n",
      "Found 'watch' with probability 0.83\n",
      "image_save_path_good good_watch_folder\\dd3b21a757592393bf7994ace8453c27.png\n",
      "1: barometer (0.58)\n",
      "2: stopwatch (0.32)\n",
      "3: analog_clock (0.05)\n",
      "4: magnetic_compass (0.01)\n",
      "5: scale (0.01)\n",
      "Found 'watch' with probability 0.32\n",
      "image_save_path_good good_watch_folder\\dd41c958d13c10e597ce4adf4f9e675b.png\n",
      "1: stopwatch (0.97)\n",
      "2: analog_clock (0.01)\n",
      "3: digital_watch (0.01)\n",
      "4: magnetic_compass (0.01)\n",
      "5: barometer (0.00)\n",
      "Found 'watch' with probability 0.97\n",
      "image_save_path_good good_watch_folder\\dd4e6e4cddac645d755ace525b7ba7c3.png\n"
     ]
    },
    {
     "name": "stderr",
     "output_type": "stream",
     "text": [
      "Processing images:  86%|████████▌ | 957/1116 [02:58<00:48,  3.30it/s]"
     ]
    },
    {
     "name": "stdout",
     "output_type": "stream",
     "text": [
      "1: analog_clock (0.72)\n",
      "2: stopwatch (0.19)\n",
      "3: barometer (0.02)\n",
      "4: wall_clock (0.02)\n",
      "5: magnetic_compass (0.01)\n",
      "Found 'watch' with probability 0.72\n",
      "image_save_path_good good_watch_folder\\de31b76d9e94719de0375ce8ed5ff1b7.png\n",
      "1: stopwatch (0.94)\n",
      "2: digital_watch (0.05)\n",
      "3: analog_clock (0.01)\n",
      "4: barber_chair (0.00)\n",
      "5: combination_lock (0.00)\n",
      "Found 'watch' with probability 0.94\n",
      "image_save_path_good good_watch_folder\\df271ad1c70bb5576ffa448b9f2c8f1f.png\n",
      "1: stopwatch (0.76)\n",
      "2: analog_clock (0.16)\n",
      "3: digital_watch (0.03)\n",
      "4: barometer (0.03)\n",
      "5: magnetic_compass (0.01)\n",
      "Found 'watch' with probability 0.76\n",
      "image_save_path_good good_watch_folder\\de12fb2b5e38061112da23d806914430.png\n",
      "1: stopwatch (0.99)\n",
      "2: barometer (0.00)\n",
      "3: scale (0.00)\n",
      "4: magnetic_compass (0.00)\n",
      "5: digital_watch (0.00)\n",
      "Found 'watch' with probability 0.99\n",
      "image_save_path_good good_watch_folder\\ddefee4bcd69343381ee87417ca5c279.png\n",
      "1: stopwatch (0.98)\n",
      "2: analog_clock (0.01)\n",
      "3: digital_watch (0.01)\n",
      "4: barometer (0.01)\n",
      "5: magnetic_compass (0.00)\n",
      "Found 'watch' with probability 0.98\n",
      "image_save_path_good good_watch_folder\\dd77a6afbdf8069dc534c65030a2f274.png\n",
      "1: stopwatch (0.51)\n",
      "2: digital_watch (0.25)\n",
      "3: barometer (0.18)\n",
      "4: magnetic_compass (0.03)\n",
      "5: analog_clock (0.02)\n",
      "Found 'watch' with probability 0.51\n",
      "image_save_path_good good_watch_folder\\e00cd10ff8f675cc9443979effea9899.png\n",
      "1: stopwatch (0.54)\n",
      "2: analog_clock (0.41)\n",
      "3: barometer (0.02)\n",
      "4: wall_clock (0.01)\n",
      "5: magnetic_compass (0.01)\n",
      "Found 'watch' with probability 0.54\n",
      "image_save_path_good good_watch_folder\\e05640a09d744acaacb6583ec9dd6a49.png\n",
      "1: stopwatch (0.37)\n",
      "2: barometer (0.27)\n",
      "3: analog_clock (0.12)\n",
      "4: digital_watch (0.11)\n",
      "5: magnetic_compass (0.04)\n",
      "Found 'watch' with probability 0.37\n",
      "image_save_path_good good_watch_folder\\dfac53d8c96e479ff1cf154ee65d688a.png\n"
     ]
    },
    {
     "name": "stderr",
     "output_type": "stream",
     "text": [
      "Processing images:  87%|████████▋ | 967/1116 [02:59<00:19,  7.82it/s]"
     ]
    },
    {
     "name": "stdout",
     "output_type": "stream",
     "text": [
      "1: stopwatch (0.87)\n",
      "2: barometer (0.05)\n",
      "3: analog_clock (0.03)\n",
      "4: magnetic_compass (0.02)\n",
      "5: digital_watch (0.01)\n",
      "Found 'watch' with probability 0.87\n",
      "image_save_path_good good_watch_folder\\dfa888436b5fcac4c327610eb58647e4.png\n"
     ]
    },
    {
     "name": "stderr",
     "output_type": "stream",
     "text": [
      "\r",
      "Processing images:  87%|████████▋ | 970/1116 [02:59<00:13, 10.86it/s]"
     ]
    },
    {
     "name": "stdout",
     "output_type": "stream",
     "text": [
      "1: stopwatch (0.93)\n",
      "2: analog_clock (0.06)\n",
      "3: digital_watch (0.00)\n",
      "4: barometer (0.00)\n",
      "5: wall_clock (0.00)\n",
      "Found 'watch' with probability 0.93\n",
      "image_save_path_good good_watch_folder\\e0602701ef6d7e0fff2f81d9dd0f72f6.png\n",
      "1: analog_clock (0.68)\n",
      "2: stopwatch (0.29)\n",
      "3: digital_watch (0.02)\n",
      "4: wall_clock (0.01)\n",
      "5: magnetic_compass (0.00)\n",
      "Found 'watch' with probability 0.68\n",
      "image_save_path_good good_watch_folder\\e126b290e9d9d88371fea05b676bb773.png\n"
     ]
    },
    {
     "name": "stderr",
     "output_type": "stream",
     "text": [
      "\r",
      "Processing images:  87%|████████▋ | 972/1116 [03:00<00:22,  6.35it/s]"
     ]
    },
    {
     "name": "stdout",
     "output_type": "stream",
     "text": [
      "1: stopwatch (0.98)\n",
      "2: digital_watch (0.01)\n",
      "3: analog_clock (0.00)\n",
      "4: reflex_camera (0.00)\n",
      "5: magnetic_compass (0.00)\n",
      "Found 'watch' with probability 0.98\n",
      "image_save_path_good good_watch_folder\\e2bf1f8af1fb17ed3c7ef74eebe943ef.png\n",
      "1: stopwatch (0.96)\n",
      "2: digital_watch (0.02)\n",
      "3: magnetic_compass (0.01)\n",
      "4: analog_clock (0.00)\n",
      "5: binoculars (0.00)\n",
      "Found 'watch' with probability 0.96\n",
      "image_save_path_good good_watch_folder\\e0e96a6b93b26d7cf5c8c91f7c2e773e.png\n"
     ]
    },
    {
     "name": "stderr",
     "output_type": "stream",
     "text": [
      "\r",
      "Processing images:  87%|████████▋ | 974/1116 [03:01<00:24,  5.79it/s]"
     ]
    },
    {
     "name": "stdout",
     "output_type": "stream",
     "text": [
      "1: stopwatch (0.86)\n",
      "2: analog_clock (0.13)\n",
      "3: digital_watch (0.01)\n",
      "4: wall_clock (0.00)\n",
      "5: barometer (0.00)\n",
      "Found 'watch' with probability 0.86\n",
      "image_save_path_good good_watch_folder\\e1922439b3718e52c760af4017866f9d.png\n"
     ]
    },
    {
     "name": "stderr",
     "output_type": "stream",
     "text": [
      "Processing images:  88%|████████▊ | 978/1116 [03:01<00:26,  5.13it/s]"
     ]
    },
    {
     "name": "stdout",
     "output_type": "stream",
     "text": [
      "1: stopwatch (0.99)\n",
      "2: magnetic_compass (0.00)\n",
      "3: digital_watch (0.00)\n",
      "4: barometer (0.00)\n",
      "5: analog_clock (0.00)\n",
      "Found 'watch' with probability 0.99\n",
      "image_save_path_good good_watch_folder\\e30a2d6b6be0bcf55c6d8d10d798f345.png\n",
      "1: stopwatch (0.72)\n",
      "2: digital_watch (0.26)\n",
      "3: analog_clock (0.02)\n",
      "4: magnetic_compass (0.00)\n",
      "5: barometer (0.00)\n",
      "Found 'watch' with probability 0.72\n",
      "image_save_path_good good_watch_folder\\e336e2a3122f14888ba884183f388ada.png\n",
      "1: stopwatch (0.99)\n",
      "2: scale (0.00)\n",
      "3: magnetic_compass (0.00)\n",
      "4: barometer (0.00)\n",
      "5: digital_watch (0.00)\n",
      "Found 'watch' with probability 0.99\n",
      "image_save_path_good good_watch_folder\\e1f5b749d6d81f21cd5f25c34387f745.png\n",
      "1: stopwatch (0.86)\n",
      "2: analog_clock (0.12)\n",
      "3: barometer (0.01)\n",
      "4: magnetic_compass (0.00)\n",
      "5: digital_watch (0.00)\n",
      "Found 'watch' with probability 0.86\n",
      "image_save_path_good good_watch_folder\\e18907777b378e0f40c0f3cc4925a92b.png\n",
      "1: analog_clock (0.75)\n",
      "2: stopwatch (0.19)\n",
      "3: wall_clock (0.03)\n",
      "4: barometer (0.02)\n",
      "5: magnetic_compass (0.01)\n",
      "Found 'watch' with probability 0.75\n",
      "image_save_path_good good_watch_folder\\e336df100d89d61e0300fa87c6fb567e.png\n",
      "1: stopwatch (0.86)\n",
      "2: analog_clock (0.13)\n",
      "3: digital_watch (0.00)\n",
      "4: magnetic_compass (0.00)\n",
      "5: wall_clock (0.00)\n",
      "Found 'watch' with probability 0.86\n",
      "image_save_path_good good_watch_folder\\e3fdb2bf4ceb8e17e42e76d2f2b71339.png\n",
      "1: stopwatch (0.83)\n",
      "2: analog_clock (0.16)\n",
      "3: barometer (0.00)\n",
      "4: digital_watch (0.00)\n",
      "5: sundial (0.00)\n",
      "Found 'watch' with probability 0.83\n",
      "image_save_path_good good_watch_folder\\e2f0223d32c98208c85b4597417ee1de.png\n",
      "1: stopwatch (0.92)\n",
      "2: analog_clock (0.05)\n",
      "3: barometer (0.02)\n",
      "4: digital_watch (0.01)\n",
      "5: magnetic_compass (0.00)\n",
      "Found 'watch' with probability 0.92\n",
      "image_save_path_good good_watch_folder\\e3db4792c46d97267717141f55511123.png\n",
      "1: web_site (0.06)\n",
      "2: nail (0.04)\n",
      "3: hook (0.04)\n",
      "4: abaya (0.03)\n",
      "5: matchstick (0.03)\n",
      "image_save_path_bad bad_watch_folder\\e63f2bc621159af9337a1d40abe84074.png\n",
      "1: stopwatch (1.00)\n",
      "2: analog_clock (0.00)\n",
      "3: barometer (0.00)\n",
      "4: scale (0.00)\n",
      "5: magnetic_compass (0.00)\n",
      "Found 'watch' with probability 1.00\n",
      "image_save_path_good good_watch_folder\\e4d5edcdd78125136d6032d902c6f9b4.png\n",
      "1: stopwatch (0.56)\n",
      "2: analog_clock (0.24)\n",
      "3: barometer (0.14)\n",
      "4: magnetic_compass (0.03)\n",
      "5: digital_watch (0.01)\n",
      "Found 'watch' with probability 0.56\n",
      "image_save_path_good good_watch_folder\\e3f788488208bd1d891d12515e920117.png\n"
     ]
    },
    {
     "name": "stderr",
     "output_type": "stream",
     "text": [
      "Processing images:  88%|████████▊ | 982/1116 [03:02<00:25,  5.15it/s]"
     ]
    },
    {
     "name": "stdout",
     "output_type": "stream",
     "text": [
      "1: stopwatch (0.86)\n",
      "2: analog_clock (0.12)\n",
      "3: digital_watch (0.01)\n",
      "4: wall_clock (0.00)\n",
      "5: barometer (0.00)\n",
      "Found 'watch' with probability 0.86\n",
      "image_save_path_good good_watch_folder\\e402d8a277c9788ed7c20a33b7cd6f85.png\n"
     ]
    },
    {
     "name": "stderr",
     "output_type": "stream",
     "text": [
      "Processing images:  89%|████████▊ | 989/1116 [03:03<00:14,  8.65it/s]"
     ]
    },
    {
     "name": "stdout",
     "output_type": "stream",
     "text": [
      "1: stopwatch (0.98)\n",
      "2: analog_clock (0.01)\n",
      "3: barometer (0.01)\n",
      "4: magnetic_compass (0.00)\n",
      "5: digital_watch (0.00)\n",
      "Found 'watch' with probability 0.98\n",
      "image_save_path_good good_watch_folder\\e634c4b0047125a9db99c02e68ece7ec.png\n",
      "1: stopwatch (0.94)\n",
      "2: analog_clock (0.06)\n",
      "3: barometer (0.01)\n",
      "4: wall_clock (0.00)\n",
      "5: magnetic_compass (0.00)\n",
      "Found 'watch' with probability 0.94\n",
      "image_save_path_good good_watch_folder\\e691e973c5da5f5a8e064cc5a78a04d1.png\n",
      "1: stopwatch (0.94)\n",
      "2: analog_clock (0.03)\n",
      "3: magnetic_compass (0.02)\n",
      "4: digital_watch (0.01)\n",
      "5: barometer (0.00)\n",
      "Found 'watch' with probability 0.94\n",
      "image_save_path_good good_watch_folder\\e5fcce32c32b8de8daa5b925cc5606a7.png\n",
      "1: stopwatch (0.93)\n",
      "2: analog_clock (0.05)\n",
      "3: magnetic_compass (0.01)\n",
      "4: barometer (0.00)\n",
      "5: digital_watch (0.00)\n",
      "Found 'watch' with probability 0.93\n",
      "image_save_path_good good_watch_folder\\e44d51327e055d068c5cc7393eaf0a52.png\n"
     ]
    },
    {
     "name": "stderr",
     "output_type": "stream",
     "text": [
      "Processing images:  89%|████████▉ | 992/1116 [03:04<00:27,  4.46it/s]"
     ]
    },
    {
     "name": "stdout",
     "output_type": "stream",
     "text": [
      "1: stopwatch (0.63)\n",
      "2: analog_clock (0.34)\n",
      "3: digital_watch (0.01)\n",
      "4: wall_clock (0.00)\n",
      "5: magnetic_compass (0.00)\n",
      "Found 'watch' with probability 0.63\n",
      "image_save_path_good good_watch_folder\\e64001de327ca17d3dd98d3ba9b823fa.png\n",
      "1: stopwatch (0.99)\n",
      "2: analog_clock (0.01)\n",
      "3: digital_watch (0.00)\n",
      "4: barometer (0.00)\n",
      "5: magnetic_compass (0.00)\n",
      "Found 'watch' with probability 0.99\n",
      "image_save_path_good good_watch_folder\\e6e816aa45edfa9979487aa82f869d5a.png\n",
      "1: analog_clock (0.88)\n",
      "2: stopwatch (0.09)\n",
      "3: wall_clock (0.01)\n",
      "4: digital_watch (0.01)\n",
      "5: magnetic_compass (0.01)\n",
      "Found 'watch' with probability 0.88\n",
      "image_save_path_good good_watch_folder\\e6f96db2dff35cbe1f8fe2030aa3be5e.png\n"
     ]
    },
    {
     "name": "stderr",
     "output_type": "stream",
     "text": [
      "\r",
      "Processing images:  89%|████████▉ | 994/1116 [03:04<00:23,  5.28it/s]"
     ]
    },
    {
     "name": "stdout",
     "output_type": "stream",
     "text": [
      "1: stopwatch (0.98)\n",
      "2: digital_watch (0.01)\n",
      "3: lighter (0.00)\n",
      "4: analog_clock (0.00)\n",
      "5: scale (0.00)\n",
      "Found 'watch' with probability 0.98\n",
      "image_save_path_good good_watch_folder\\e6fcfe511977ef5d41899abf859fec3d.png\n",
      "1: analog_clock (0.80)\n",
      "2: stopwatch (0.09)\n",
      "3: digital_watch (0.04)\n",
      "4: wall_clock (0.03)\n",
      "5: barometer (0.02)\n",
      "Found 'watch' with probability 0.80\n",
      "image_save_path_good good_watch_folder\\e752e8892085c727603009e722b26bab.png\n",
      "1: stopwatch (0.67)\n",
      "2: barometer (0.14)\n",
      "3: scale (0.11)\n",
      "4: analog_clock (0.05)\n",
      "5: digital_watch (0.02)\n",
      "Found 'watch' with probability 0.67\n",
      "image_save_path_good good_watch_folder\\e7b8e3f466b77431046384658365f6e7.png\n"
     ]
    },
    {
     "name": "stderr",
     "output_type": "stream",
     "text": [
      "Processing images:  90%|████████▉ | 999/1116 [03:05<00:17,  6.67it/s]"
     ]
    },
    {
     "name": "stdout",
     "output_type": "stream",
     "text": [
      "1: stopwatch (0.88)\n",
      "2: analog_clock (0.05)\n",
      "3: digital_watch (0.05)\n",
      "4: magnetic_compass (0.02)\n",
      "5: barometer (0.01)\n",
      "Found 'watch' with probability 0.88\n",
      "image_save_path_good good_watch_folder\\e70c7c71d777545a1f3bf0fb997ea7e2.png\n",
      "1: stopwatch (0.81)\n",
      "2: analog_clock (0.12)\n",
      "3: barometer (0.02)\n",
      "4: magnetic_compass (0.02)\n",
      "5: digital_watch (0.01)\n",
      "Found 'watch' with probability 0.81\n",
      "image_save_path_good good_watch_folder\\e8ebf8620e2209741ee617cde9a75cfe.png\n",
      "1: barometer (0.30)\n",
      "2: magnetic_compass (0.22)\n",
      "3: analog_clock (0.13)\n",
      "4: barrel (0.05)\n",
      "5: stopwatch (0.03)\n",
      "Found 'watch' with probability 0.13\n",
      "image_save_path_good good_watch_folder\\e89e9ae3266ec85c68acbd27f8d8cef4.png\n",
      "1: analog_clock (0.89)\n",
      "2: stopwatch (0.06)\n",
      "3: wall_clock (0.03)\n",
      "4: barometer (0.01)\n",
      "5: magnetic_compass (0.01)\n",
      "Found 'watch' with probability 0.89\n",
      "image_save_path_good good_watch_folder\\ea0883f55185b56b3f3bb53c761d3fbb.png\n",
      "1: web_site (0.27)\n",
      "2: Band_Aid (0.14)\n",
      "3: matchstick (0.05)\n",
      "4: abaya (0.04)\n",
      "5: spotlight (0.03)\n",
      "image_save_path_bad bad_watch_folder\\e9709dbc6840895c1988bc31cb1761d0.png\n",
      "1: analog_clock (0.44)\n",
      "2: stopwatch (0.38)\n",
      "3: scale (0.04)\n",
      "4: digital_watch (0.03)\n",
      "5: jean (0.03)\n",
      "Found 'watch' with probability 0.44\n",
      "image_save_path_good good_watch_folder\\e900fc50e5da5e084066a1d5c0d6088c.png\n",
      "1: analog_clock (0.17)\n",
      "2: lighter (0.15)\n",
      "3: stopwatch (0.08)\n",
      "4: hand-held_computer (0.07)\n",
      "5: radio (0.07)\n",
      "Found 'watch' with probability 0.17\n",
      "image_save_path_good good_watch_folder\\e9d4c65a31389f9a598f1f1447efe880.png\n"
     ]
    },
    {
     "name": "stderr",
     "output_type": "stream",
     "text": [
      "Processing images:  90%|█████████ | 1006/1116 [03:06<00:15,  7.21it/s]"
     ]
    },
    {
     "name": "stdout",
     "output_type": "stream",
     "text": [
      "1: analog_clock (0.67)\n",
      "2: barometer (0.17)\n",
      "3: stopwatch (0.12)\n",
      "4: digital_watch (0.02)\n",
      "5: wall_clock (0.01)\n",
      "Found 'watch' with probability 0.67\n",
      "image_save_path_good good_watch_folder\\ea44d74f876845ebe7c95f2d613b2595.png\n",
      "1: stopwatch (0.68)\n",
      "2: analog_clock (0.17)\n",
      "3: magnetic_compass (0.07)\n",
      "4: barometer (0.03)\n",
      "5: digital_watch (0.03)\n",
      "Found 'watch' with probability 0.68\n",
      "image_save_path_good good_watch_folder\\ea315e72aa28d94e142088cac19aa07e.png\n",
      "1: digital_watch (0.39)\n",
      "2: buckle (0.17)\n",
      "3: cellular_telephone (0.10)\n",
      "4: magnetic_compass (0.07)\n",
      "5: stopwatch (0.04)\n",
      "Found 'watch' with probability 0.39\n",
      "image_save_path_good good_watch_folder\\ea46c8532703eadcd10dbaf76d92faac.png\n"
     ]
    },
    {
     "name": "stderr",
     "output_type": "stream",
     "text": [
      "\r",
      "Processing images:  90%|█████████ | 1008/1116 [03:07<00:20,  5.27it/s]"
     ]
    },
    {
     "name": "stdout",
     "output_type": "stream",
     "text": [
      "1: stopwatch (0.46)\n",
      "2: barometer (0.26)\n",
      "3: analog_clock (0.19)\n",
      "4: digital_watch (0.03)\n",
      "5: scale (0.01)\n",
      "Found 'watch' with probability 0.46\n",
      "image_save_path_good good_watch_folder\\eacb6277635e5d4f33e84d0bd73a8928.png\n",
      "1: barometer (0.41)\n",
      "2: stopwatch (0.33)\n",
      "3: scale (0.09)\n",
      "4: magnetic_compass (0.07)\n",
      "5: digital_watch (0.07)\n",
      "Found 'watch' with probability 0.33\n",
      "image_save_path_good good_watch_folder\\ea8c6f75564b80863154ef0b75052353.png\n",
      "1: analog_clock (0.67)\n",
      "2: stopwatch (0.25)\n",
      "3: barometer (0.05)\n",
      "4: digital_watch (0.01)\n",
      "5: wall_clock (0.01)\n",
      "Found 'watch' with probability 0.67\n",
      "image_save_path_good good_watch_folder\\eacfa14cffccdb9c82de18d1ad667197.png\n",
      "1: nematode (0.44)\n",
      "2: nail (0.13)\n",
      "3: web_site (0.05)\n",
      "4: ski (0.02)\n",
      "5: matchstick (0.01)\n",
      "image_save_path_bad bad_watch_folder\\eb08342fbcc70fd9618904525591ae14.png\n"
     ]
    },
    {
     "name": "stderr",
     "output_type": "stream",
     "text": [
      "Processing images:  91%|█████████ | 1010/1116 [03:07<00:21,  4.98it/s]"
     ]
    },
    {
     "name": "stdout",
     "output_type": "stream",
     "text": [
      "1: stopwatch (0.95)\n",
      "2: digital_watch (0.04)\n",
      "3: analog_clock (0.00)\n",
      "4: reflex_camera (0.00)\n",
      "5: magnetic_compass (0.00)\n",
      "Found 'watch' with probability 0.95\n",
      "image_save_path_good good_watch_folder\\eb0c7017b3c4fd35ad6c0eba54574c99.png\n",
      "1: stopwatch (0.97)\n",
      "2: barometer (0.01)\n",
      "3: analog_clock (0.01)\n",
      "4: magnetic_compass (0.00)\n",
      "5: digital_watch (0.00)\n",
      "Found 'watch' with probability 0.97\n",
      "image_save_path_good good_watch_folder\\ebedbdb6cfea1505bd7e8e5020e38ce4.png\n"
     ]
    },
    {
     "name": "stderr",
     "output_type": "stream",
     "text": [
      "\r",
      "Processing images:  91%|█████████ | 1014/1116 [03:08<00:13,  7.66it/s]"
     ]
    },
    {
     "name": "stdout",
     "output_type": "stream",
     "text": [
      "1: stopwatch (0.91)\n",
      "2: digital_watch (0.05)\n",
      "3: analog_clock (0.02)\n",
      "4: barometer (0.01)\n",
      "5: reflex_camera (0.00)\n",
      "Found 'watch' with probability 0.91\n",
      "image_save_path_good good_watch_folder\\ec1b2e5f48c8925be6478f3ecb87a892.png\n"
     ]
    },
    {
     "name": "stderr",
     "output_type": "stream",
     "text": [
      "Processing images:  91%|█████████ | 1017/1116 [03:08<00:17,  5.68it/s]"
     ]
    },
    {
     "name": "stdout",
     "output_type": "stream",
     "text": [
      "1: stopwatch (0.78)\n",
      "2: analog_clock (0.20)\n",
      "3: barometer (0.02)\n",
      "4: wall_clock (0.01)\n",
      "5: scale (0.00)\n",
      "Found 'watch' with probability 0.78\n",
      "image_save_path_good good_watch_folder\\eb0fa39a2ca6d11006eb3d274e8cb0a3.png\n",
      "1: stopwatch (0.89)\n",
      "2: digital_watch (0.03)\n",
      "3: barometer (0.02)\n",
      "4: scale (0.02)\n",
      "5: analog_clock (0.01)\n",
      "Found 'watch' with probability 0.89\n",
      "image_save_path_good good_watch_folder\\eb2c053805f07eb7932ee3bf5d2f5ef3.png\n",
      "1: stopwatch (0.62)\n",
      "2: magnetic_compass (0.25)\n",
      "3: barometer (0.07)\n",
      "4: analog_clock (0.03)\n",
      "5: digital_watch (0.02)\n",
      "Found 'watch' with probability 0.62\n",
      "image_save_path_good good_watch_folder\\ec8b20940427848863f0208d70b93e24.png\n",
      "1: stopwatch (0.96)\n",
      "2: magnetic_compass (0.03)\n",
      "3: barometer (0.00)\n",
      "4: analog_clock (0.00)\n",
      "5: digital_watch (0.00)\n",
      "Found 'watch' with probability 0.96\n",
      "image_save_path_good good_watch_folder\\ed353da1dcabb71236a86b1ea4bb28cd.png\n",
      "1: stopwatch (0.55)\n",
      "2: analog_clock (0.37)\n",
      "3: magnetic_compass (0.03)\n",
      "4: wall_clock (0.02)\n",
      "5: digital_watch (0.01)\n",
      "Found 'watch' with probability 0.55\n",
      "image_save_path_good good_watch_folder\\ed2343de11c929c88de13caee4adce1c.png\n",
      "1: stopwatch (0.99)\n",
      "2: analog_clock (0.00)\n",
      "3: digital_watch (0.00)\n",
      "4: barometer (0.00)\n",
      "5: magnetic_compass (0.00)\n",
      "Found 'watch' with probability 0.99\n",
      "image_save_path_good good_watch_folder\\ecce81cbe5ef19ec9cc55593ce60da44.png\n",
      "1: stopwatch (0.99)\n",
      "2: magnetic_compass (0.00)\n",
      "3: analog_clock (0.00)\n",
      "4: barometer (0.00)\n",
      "5: digital_watch (0.00)\n",
      "Found 'watch' with probability 0.99\n",
      "image_save_path_good good_watch_folder\\ed39b8fc6d36f734d66875e96445d869.png\n",
      "1: window_shade (0.22)\n",
      "2: shoji (0.08)\n",
      "3: pedestal (0.04)\n",
      "4: lampshade (0.03)\n",
      "5: chain (0.03)\n",
      "image_save_path_bad bad_watch_folder\\ed6d06b321a040f8f048940b951ad657.png\n"
     ]
    },
    {
     "name": "stderr",
     "output_type": "stream",
     "text": [
      "Processing images:  91%|█████████▏| 1021/1116 [03:10<00:21,  4.42it/s]"
     ]
    },
    {
     "name": "stdout",
     "output_type": "stream",
     "text": [
      "1: stopwatch (0.77)\n",
      "2: digital_watch (0.12)\n",
      "3: analog_clock (0.09)\n",
      "4: digital_clock (0.00)\n",
      "5: reflex_camera (0.00)\n",
      "Found 'watch' with probability 0.77\n",
      "image_save_path_good good_watch_folder\\ed9f8d149abd453e2741754f69748773.png\n"
     ]
    },
    {
     "name": "stderr",
     "output_type": "stream",
     "text": [
      "\r",
      "Processing images:  92%|█████████▏| 1024/1116 [03:10<00:13,  6.66it/s]"
     ]
    },
    {
     "name": "stdout",
     "output_type": "stream",
     "text": [
      "1: stopwatch (0.88)\n",
      "2: analog_clock (0.06)\n",
      "3: magnetic_compass (0.02)\n",
      "4: digital_watch (0.02)\n",
      "5: barometer (0.01)\n",
      "Found 'watch' with probability 0.88\n",
      "image_save_path_good good_watch_folder\\ee6c26f899f367ff554ebd2ef6e01766.png\n"
     ]
    },
    {
     "name": "stderr",
     "output_type": "stream",
     "text": [
      "\r",
      "Processing images:  92%|█████████▏| 1026/1116 [03:10<00:15,  5.84it/s]"
     ]
    },
    {
     "name": "stdout",
     "output_type": "stream",
     "text": [
      "1: stopwatch (0.89)1: stopwatch (0.92)\n",
      "2: barometer (0.03)\n",
      "3: digital_watch (0.02)\n",
      "4: analog_clock (0.01)\n",
      "5: magnetic_compass (0.01)\n",
      "Found 'watch' with probability 0.92\n",
      "image_save_path_good good_watch_folder\\efa9b9eac1494b312170afd2cece1a03.png\n",
      "1: stopwatch (0.36)\n",
      "2: digital_watch (0.31)\n",
      "3: scale (0.10)\n",
      "4: barber_chair (0.05)\n",
      "5: lighter (0.03)\n",
      "Found 'watch' with probability 0.36\n",
      "image_save_path_good good_watch_folder\\ef614d4b22df83d6a8eeea05d314eb87.png\n",
      "\n",
      "2: analog_clock (0.09)\n",
      "3: magnetic_compass (0.01)\n",
      "4: barometer (0.00)\n",
      "5: digital_watch (0.00)\n",
      "Found 'watch' with probability 0.89\n",
      "image_save_path_good good_watch_folder\\eea1d4ac2b449df0ece1b3055f676ac5.png\n",
      "1: stopwatch (0.96)\n",
      "2: barometer (0.01)\n",
      "3: magnetic_compass (0.01)\n",
      "4: analog_clock (0.01)\n",
      "5: scale (0.01)\n",
      "Found 'watch' with probability 0.96\n",
      "image_save_path_good good_watch_folder\\ef0ffc15dd01005fdc98911ecdfa6b6c.png\n",
      "1: stopwatch (0.61)\n",
      "2: analog_clock (0.35)\n",
      "3: wall_clock (0.02)\n",
      "4: barometer (0.01)\n",
      "5: magnetic_compass (0.00)\n",
      "Found 'watch' with probability 0.61\n",
      "image_save_path_good good_watch_folder\\eebc7242fa2151dd2aa882b8a53d2645.png\n",
      "1: stopwatch (0.70)\n",
      "2: barometer (0.22)\n",
      "3: analog_clock (0.03)\n",
      "4: magnetic_compass (0.02)\n",
      "5: scale (0.01)\n",
      "Found 'watch' with probability 0.70\n",
      "image_save_path_good good_watch_folder\\ee27a850e42d2e35ad5795c2c98e9ba3.png\n"
     ]
    },
    {
     "name": "stderr",
     "output_type": "stream",
     "text": [
      "Processing images:  92%|█████████▏| 1032/1116 [03:11<00:12,  6.80it/s]"
     ]
    },
    {
     "name": "stdout",
     "output_type": "stream",
     "text": [
      "1: stopwatch (0.80)\n",
      "2: magnetic_compass (0.06)\n",
      "3: digital_watch (0.05)\n",
      "4: analog_clock (0.04)\n",
      "5: barometer (0.03)\n",
      "Found 'watch' with probability 0.80\n",
      "image_save_path_good good_watch_folder\\eee5072bfd85da82fc4dbe557503ad83.png\n",
      "1: stopwatch (0.99)\n",
      "2: digital_watch (0.00)\n",
      "3: analog_clock (0.00)\n",
      "4: barometer (0.00)\n",
      "5: magnetic_compass (0.00)\n",
      "Found 'watch' with probability 0.99\n",
      "image_save_path_good good_watch_folder\\eead21a2ce2c0dde0216a18ed97fdf5d.png\n",
      "1: stopwatch (0.74)\n",
      "2: magnetic_compass (0.06)\n",
      "3: digital_watch (0.06)\n",
      "4: dial_telephone (0.06)\n",
      "5: barometer (0.04)\n",
      "Found 'watch' with probability 0.74\n",
      "image_save_path_good good_watch_folder\\f0f586bd9042ee5b21769160ffc454d5.png\n",
      "1: stopwatch (0.60)\n",
      "2: buckle (0.07)\n",
      "3: digital_watch (0.05)\n",
      "4: analog_clock (0.04)\n",
      "5: bolo_tie (0.03)\n",
      "Found 'watch' with probability 0.60\n",
      "image_save_path_good good_watch_folder\\f064ba6b42e22d11b253c3e2cc9d94f1.png\n",
      "1: stopwatch (0.70)\n",
      "2: analog_clock (0.21)\n",
      "3: magnetic_compass (0.03)\n",
      "4: wall_clock (0.03)\n",
      "5: barometer (0.02)\n",
      "Found 'watch' with probability 0.70\n",
      "image_save_path_good good_watch_folder\\f159878ee10a766da59a11fe7df97b3d.png\n",
      "1: stopwatch (0.97)\n",
      "2: analog_clock (0.02)\n",
      "3: digital_watch (0.01)\n",
      "4: reflex_camera (0.00)\n",
      "5: scale (0.00)\n",
      "Found 'watch' with probability 0.97\n",
      "image_save_path_good good_watch_folder\\efa5a3cd043e81389b789d4f6dca9f1c.png\n",
      "1: stopwatch (0.99)\n",
      "2: barometer (0.01)\n",
      "3: analog_clock (0.00)\n",
      "4: scale (0.00)\n",
      "5: magnetic_compass (0.00)\n",
      "Found 'watch' with probability 0.99\n",
      "image_save_path_good good_watch_folder\\f0dc84a0c61bb427aa9be4b28c15a112.png\n",
      "1: stopwatch (0.63)\n",
      "2: analog_clock (0.33)\n",
      "3: barometer (0.03)\n",
      "4: digital_watch (0.01)\n",
      "5: wall_clock (0.00)\n",
      "Found 'watch' with probability 0.63\n",
      "image_save_path_good good_watch_folder\\f284cb34414d923b03b660dcf2ba5b9a.png\n"
     ]
    },
    {
     "name": "stderr",
     "output_type": "stream",
     "text": [
      "Processing images:  93%|█████████▎| 1040/1116 [03:12<00:08,  9.27it/s]"
     ]
    },
    {
     "name": "stdout",
     "output_type": "stream",
     "text": [
      "1: stopwatch (0.99)\n",
      "2: magnetic_compass (0.01)\n",
      "3: barometer (0.00)\n",
      "4: digital_watch (0.00)\n",
      "5: scale (0.00)\n",
      "Found 'watch' with probability 0.99\n",
      "image_save_path_good good_watch_folder\\f167450dab1dd3b217ad22bf1a1c2631.png\n",
      "1: stopwatch (1.00)\n",
      "2: analog_clock (0.00)\n",
      "3: digital_watch (0.00)\n",
      "4: magnetic_compass (0.00)\n",
      "5: reflex_camera (0.00)\n",
      "Found 'watch' with probability 1.00\n",
      "image_save_path_good good_watch_folder\\f22657fffa60c37d47cc6073ba6969d3.png\n",
      "1: stopwatch (0.96)\n",
      "2: digital_watch (0.03)\n",
      "3: analog_clock (0.01)\n",
      "4: scale (0.00)\n",
      "5: combination_lock (0.00)\n",
      "Found 'watch' with probability 0.96\n",
      "image_save_path_good good_watch_folder\\f2a28b7a9543550f9a8bc4eac447d333.png\n"
     ]
    },
    {
     "name": "stderr",
     "output_type": "stream",
     "text": [
      "\r",
      "Processing images:  93%|█████████▎| 1042/1116 [03:13<00:12,  6.06it/s]"
     ]
    },
    {
     "name": "stdout",
     "output_type": "stream",
     "text": [
      "1: stopwatch (0.97)\n",
      "2: analog_clock (0.01)\n",
      "3: magnetic_compass (0.01)\n",
      "4: barometer (0.01)\n",
      "5: digital_watch (0.00)\n",
      "Found 'watch' with probability 0.97\n",
      "image_save_path_good good_watch_folder\\f2e614f4bd78f3a49f779ce38c6797a3.png\n"
     ]
    },
    {
     "name": "stderr",
     "output_type": "stream",
     "text": [
      "\r",
      "Processing images:  94%|█████████▎| 1044/1116 [03:13<00:10,  6.89it/s]"
     ]
    },
    {
     "name": "stdout",
     "output_type": "stream",
     "text": [
      "1: web_site (0.53)\n",
      "2: brass (0.13)\n",
      "3: mailbox (0.05)\n",
      "4: packet (0.02)\n",
      "5: pay-phone (0.02)\n",
      "image_save_path_bad bad_watch_folder\\f22c35f9a76f04fea02f32040338466f.png\n",
      "1: stopwatch (0.60)\n",
      "2: analog_clock (0.33)\n",
      "3: wall_clock (0.05)\n",
      "4: barometer (0.01)\n",
      "5: scale (0.00)\n",
      "Found 'watch' with probability 0.60\n",
      "image_save_path_good good_watch_folder\\f31c72718404d6bb541c0f2c00138900.png\n",
      "1: stopwatch (0.57)\n",
      "2: magnetic_compass (0.27)\n",
      "3: analog_clock (0.14)\n",
      "4: digital_watch (0.01)\n",
      "5: barometer (0.01)\n",
      "Found 'watch' with probability 0.57\n",
      "image_save_path_good good_watch_folder\\f3f207fb5acb38489e5a3c8da293e9ba.png\n",
      "1: stopwatch (0.97)\n",
      "2: scale (0.02)\n",
      "3: barometer (0.01)\n",
      "4: digital_watch (0.00)\n",
      "5: reflex_camera (0.00)\n",
      "Found 'watch' with probability 0.97\n",
      "image_save_path_good good_watch_folder\\f34a243b7c761fa85c68a9f89e0747d1.png\n",
      "1: stopwatch (0.89)\n",
      "2: analog_clock (0.08)\n",
      "3: barometer (0.01)\n",
      "4: digital_watch (0.01)\n",
      "5: magnetic_compass (0.00)\n",
      "Found 'watch' with probability 0.89\n",
      "image_save_path_good good_watch_folder\\f40958c3d095d4e55aff1359c4c7a48b.png\n",
      "1: stopwatch (0.97)\n",
      "2: analog_clock (0.01)\n",
      "3: barometer (0.01)\n",
      "4: digital_watch (0.01)\n",
      "5: scale (0.00)\n",
      "Found 'watch' with probability 0.97\n",
      "image_save_path_good good_watch_folder\\f395dfce6fe020db0e44a9c96eb15e86.png\n",
      "1: stopwatch (0.81)\n",
      "2: analog_clock (0.16)\n",
      "3: digital_watch (0.01)\n",
      "4: magnetic_compass (0.01)\n",
      "5: barometer (0.01)\n",
      "Found 'watch' with probability 0.81\n",
      "image_save_path_good good_watch_folder\\f3f245a3f56e253b35ea6d2353bd1931.png\n"
     ]
    },
    {
     "name": "stderr",
     "output_type": "stream",
     "text": [
      "\r",
      "Processing images:  94%|█████████▎| 1046/1116 [03:14<00:17,  3.96it/s]"
     ]
    },
    {
     "name": "stdout",
     "output_type": "stream",
     "text": [
      "1: stopwatch (0.95)\n",
      "2: digital_watch (0.04)\n",
      "3: analog_clock (0.00)\n",
      "4: magnetic_compass (0.00)\n",
      "5: barber_chair (0.00)\n",
      "Found 'watch' with probability 0.95\n",
      "image_save_path_good good_watch_folder\\f41ffbfc3c9c7dfb1622d29d4126e6a4.png\n",
      "1: web_site (0.16)\n",
      "2: bubble (0.05)\n",
      "3: tripod (0.04)\n",
      "4: stopwatch (0.04)\n",
      "5: chain (0.04)\n",
      "Found 'watch' with probability 0.04\n",
      "image_save_path_good good_watch_folder\\f57b058ba3bfffe959031c8c3d4ffec7.png\n",
      "1: stopwatch (0.78)\n",
      "2: analog_clock (0.11)\n",
      "3: digital_watch (0.09)\n",
      "4: barometer (0.01)\n",
      "5: reflex_camera (0.01)\n",
      "Found 'watch' with probability 0.78\n",
      "image_save_path_good good_watch_folder\\f431860219c763df817bebf4f9b823cc.png\n",
      "1: stopwatch (0.85)\n",
      "2: analog_clock (0.06)\n",
      "3: digital_watch (0.04)\n",
      "4: magnetic_compass (0.01)\n",
      "5: barometer (0.00)\n",
      "Found 'watch' with probability 0.85\n",
      "image_save_path_good good_watch_folder\\f4d5b9bcb2ae290cb56c2748041409b2.png\n"
     ]
    },
    {
     "name": "stderr",
     "output_type": "stream",
     "text": [
      "Processing images:  94%|█████████▍| 1051/1116 [03:14<00:09,  6.86it/s]"
     ]
    },
    {
     "name": "stdout",
     "output_type": "stream",
     "text": [
      "1: stopwatch (0.92)\n",
      "2: digital_watch (0.03)\n",
      "3: analog_clock (0.02)\n",
      "4: barometer (0.01)\n",
      "5: reflex_camera (0.00)\n",
      "Found 'watch' with probability 0.92\n",
      "image_save_path_good good_watch_folder\\f5c72ad6028f2e20121e1e46afcfb40a.png\n",
      "1: stopwatch (0.95)\n",
      "2: scale (0.01)\n",
      "3: magnetic_compass (0.01)\n",
      "4: analog_clock (0.01)\n",
      "5: digital_watch (0.01)\n",
      "Found 'watch' with probability 0.95\n",
      "image_save_path_good good_watch_folder\\f510c4a09f926c5411fb152adb7bddc0.png\n"
     ]
    },
    {
     "name": "stderr",
     "output_type": "stream",
     "text": [
      "\r",
      "Processing images:  94%|█████████▍| 1053/1116 [03:15<00:09,  6.64it/s]"
     ]
    },
    {
     "name": "stdout",
     "output_type": "stream",
     "text": [
      "1: stopwatch (0.99)\n",
      "2: barometer (0.00)\n",
      "3: scale (0.00)\n",
      "4: analog_clock (0.00)\n",
      "5: digital_watch (0.00)\n",
      "Found 'watch' with probability 0.99\n",
      "image_save_path_good good_watch_folder\\f5a8a41ee5292a3da0179d5d0472ba0a.png\n"
     ]
    },
    {
     "name": "stderr",
     "output_type": "stream",
     "text": [
      "Processing images:  95%|█████████▍| 1058/1116 [03:16<00:09,  6.44it/s]"
     ]
    },
    {
     "name": "stdout",
     "output_type": "stream",
     "text": [
      "1: digital_watch (0.29)\n",
      "2: stopwatch (0.27)\n",
      "3: analog_clock (0.25)\n",
      "4: wall_clock (0.05)\n",
      "5: reflex_camera (0.04)\n",
      "Found 'watch' with probability 0.29\n",
      "image_save_path_good good_watch_folder\\f58c6704480b842896bddbdc6e40c5da.png\n",
      "1: stopwatch (0.90)\n",
      "2: analog_clock (0.04)\n",
      "3: barometer (0.02)\n",
      "4: digital_watch (0.01)\n",
      "5: magnetic_compass (0.01)\n",
      "Found 'watch' with probability 0.90\n",
      "image_save_path_good good_watch_folder\\f64fbebfd82a9b7b70c506f8d57c6cbc.png\n",
      "1: stopwatch (0.96)\n",
      "2: magnetic_compass (0.03)\n",
      "3: digital_watch (0.00)\n",
      "4: barometer (0.00)\n",
      "5: analog_clock (0.00)\n",
      "Found 'watch' with probability 0.96\n",
      "image_save_path_good good_watch_folder\\f47a97c11cfdede671a6d62af183d758.png\n"
     ]
    },
    {
     "name": "stderr",
     "output_type": "stream",
     "text": [
      "Processing images:  95%|█████████▍| 1060/1116 [03:16<00:12,  4.58it/s]"
     ]
    },
    {
     "name": "stdout",
     "output_type": "stream",
     "text": [
      "1: barometer (0.57)\n",
      "2: analog_clock (0.21)\n",
      "3: stopwatch (0.15)\n",
      "4: wall_clock (0.02)\n",
      "5: digital_watch (0.01)\n",
      "Found 'watch' with probability 0.21\n",
      "image_save_path_good good_watch_folder\\f73c2ffb74921b1b26b9d0d156ba5ad3.png\n",
      "1: analog_clock (0.39)\n",
      "2: stopwatch (0.30)\n",
      "3: digital_watch (0.17)\n",
      "4: radio (0.02)\n",
      "5: barometer (0.01)\n",
      "Found 'watch' with probability 0.39\n",
      "image_save_path_good good_watch_folder\\f7166601a7d66256eaccc07e4d81644e.png\n",
      "1: stopwatch (0.66)\n",
      "2: analog_clock (0.22)\n",
      "3: barometer (0.07)\n",
      "4: wall_clock (0.02)\n",
      "5: digital_watch (0.02)\n",
      "Found 'watch' with probability 0.66\n",
      "image_save_path_good good_watch_folder\\f7ad8ef7c90e01f2fa12883fe4d80b9f.png\n",
      "1: stopwatch (0.95)\n",
      "2: analog_clock (0.02)\n",
      "3: magnetic_compass (0.01)\n",
      "4: holster (0.01)\n",
      "5: digital_watch (0.00)\n",
      "Found 'watch' with probability 0.95\n",
      "image_save_path_good good_watch_folder\\f7b317d1af8e2cf09bd1e3f3b1945f9d.png\n",
      "1: cleaver (0.14)\n",
      "2: nematode (0.10)\n",
      "3: can_opener (0.10)\n",
      "4: corkscrew (0.07)\n",
      "5: Windsor_tie (0.07)\n",
      "image_save_path_bad bad_watch_folder\\f7a3df5725605bcb52acc44ed728a004.png\n"
     ]
    },
    {
     "name": "stderr",
     "output_type": "stream",
     "text": [
      "Processing images:  95%|█████████▌| 1065/1116 [03:17<00:06,  7.34it/s]"
     ]
    },
    {
     "name": "stdout",
     "output_type": "stream",
     "text": [
      "1: stopwatch (0.89)\n",
      "2: digital_watch (0.05)\n",
      "3: analog_clock (0.04)\n",
      "4: reflex_camera (0.01)\n",
      "5: barometer (0.00)\n",
      "Found 'watch' with probability 0.89\n",
      "image_save_path_good good_watch_folder\\f7fbe8c8c793982b5eac3093109d713a.png\n",
      "1: bubble (0.09)\n",
      "2: nail (0.09)\n",
      "3: padlock (0.07)\n",
      "4: matchstick (0.06)\n",
      "5: hook (0.06)\n",
      "image_save_path_bad bad_watch_folder\\f7c865bed0f647f7aeea308655058304.png\n"
     ]
    },
    {
     "name": "stderr",
     "output_type": "stream",
     "text": [
      "Processing images:  96%|█████████▌| 1067/1116 [03:18<00:22,  2.21it/s]"
     ]
    },
    {
     "name": "stdout",
     "output_type": "stream",
     "text": [
      "1: stopwatch (0.65)1: barometer (0.59)\n",
      "2: analog_clock (0.20)\n",
      "3: stopwatch (0.13)\n",
      "4: magnetic_compass (0.03)\n",
      "5: wall_clock (0.02)\n",
      "Found 'watch' with probability 0.20\n",
      "image_save_path_good good_watch_folder\\f7ce13d9b63604a3ed54adbcc9b2c35f.png\n",
      "\n",
      "2: analog_clock (0.22)\n",
      "3: digital_watch (0.13)\n",
      "4: wall_clock (0.00)\n",
      "5: barometer (0.00)\n",
      "Found 'watch' with probability 0.65\n",
      "image_save_path_good good_watch_folder\\f7b83181f7e1fb641465ec56cd5938ab.png\n",
      "1: stopwatch (0.82)\n",
      "2: analog_clock (0.16)\n",
      "3: digital_watch (0.01)\n",
      "4: wall_clock (0.00)\n",
      "5: magnetic_compass (0.00)\n",
      "Found 'watch' with probability 0.82\n",
      "image_save_path_good good_watch_folder\\f91176760a60562aa15a4efc0489d292.png\n",
      "1: stopwatch (0.53)\n",
      "2: analog_clock (0.23)\n",
      "3: digital_watch (0.09)\n",
      "4: scale (0.04)\n",
      "5: wall_clock (0.04)\n",
      "Found 'watch' with probability 0.53\n",
      "image_save_path_good good_watch_folder\\f8d40d7de865a1ccf905659eeecbc227.png\n",
      "1: stopwatch (0.96)\n",
      "2: magnetic_compass (0.01)\n",
      "3: analog_clock (0.01)\n",
      "4: digital_watch (0.01)\n",
      "5: barometer (0.00)\n",
      "Found 'watch' with probability 0.96\n",
      "image_save_path_good good_watch_folder\\f807a16a4da97b0e2aaa10d1e79d53f2.png\n",
      "1: stopwatch (0.97)\n",
      "2: analog_clock (0.02)\n",
      "3: digital_watch (0.01)\n",
      "4: barometer (0.00)\n",
      "5: water_bottle (0.00)\n",
      "Found 'watch' with probability 0.97\n",
      "image_save_path_good good_watch_folder\\f8f6ab312cf81e83ed37cde6b8424d9b.png\n",
      "1: stopwatch (0.35)\n",
      "2: barometer (0.32)\n",
      "3: analog_clock (0.32)\n",
      "4: wall_clock (0.01)\n",
      "5: digital_watch (0.00)\n",
      "Found 'watch' with probability 0.35\n",
      "image_save_path_good good_watch_folder\\f959f523649a034c043043ce75aaa5f6.png\n",
      "1: barometer (0.57)\n",
      "2: stopwatch (0.21)\n",
      "3: crossword_puzzle (0.10)\n",
      "4: analog_clock (0.09)\n",
      "5: scale (0.01)\n",
      "Found 'watch' with probability 0.21\n",
      "image_save_path_good good_watch_folder\\f857c3c483276b0f135477845f9a5d7b.png\n",
      "1: analog_clock (0.46)\n",
      "2: stopwatch (0.46)\n",
      "3: barometer (0.07)\n",
      "4: wall_clock (0.01)\n",
      "5: digital_watch (0.00)\n",
      "Found 'watch' with probability 0.46\n",
      "image_save_path_good good_watch_folder\\f8d2b0328364c395735998f5692bd68f.png\n",
      "1: stopwatch (0.77)\n",
      "2: analog_clock (0.19)\n",
      "3: barometer (0.02)\n",
      "4: digital_watch (0.01)\n",
      "5: magnetic_compass (0.01)\n",
      "Found 'watch' with probability 0.77\n",
      "image_save_path_good good_watch_folder\\f91c6ed4ca6f8bcc9b24b4efd4317ba0.png\n",
      "1: stopwatch (0.97)\n",
      "2: barometer (0.02)\n",
      "3: analog_clock (0.01)\n",
      "4: digital_watch (0.00)\n",
      "5: magnetic_compass (0.00)\n",
      "Found 'watch' with probability 0.97\n",
      "image_save_path_good good_watch_folder\\f96bc61756dfec08259011e99cb21647.png\n",
      "1: stopwatch (0.98)\n",
      "2: scale (0.01)\n",
      "3: barometer (0.01)\n",
      "4: analog_clock (0.00)\n",
      "5: digital_watch (0.00)\n",
      "Found 'watch' with probability 0.98\n",
      "image_save_path_good good_watch_folder\\f89f8065641d7a5817183661297c010e.png\n",
      "1: web_site (0.23)\n",
      "2: matchstick (0.05)\n",
      "3: bubble (0.04)\n",
      "4: bannister (0.03)\n",
      "5: hook (0.03)\n",
      "image_save_path_bad bad_watch_folder\\f97523c8661c5b75038b0f8f6dd09be3.png\n",
      "1: nematode (0.10)\n",
      "2: chain (0.08)\n",
      "3: web_site (0.06)\n",
      "4: bubble (0.06)\n",
      "5: window_shade (0.06)\n",
      "image_save_path_bad bad_watch_folder\\f9b5a97fc9f13b3a089ea70a412d6e22.png\n",
      "1: stopwatch (0.87)\n",
      "2: scale (0.03)\n",
      "3: analog_clock (0.03)\n",
      "4: barometer (0.03)\n",
      "5: digital_watch (0.02)\n",
      "Found 'watch' with probability 0.87\n",
      "image_save_path_good good_watch_folder\\f9ebca72fba1345908e4b86087d99a9e.png\n"
     ]
    },
    {
     "name": "stderr",
     "output_type": "stream",
     "text": [
      "Processing images:  97%|█████████▋| 1082/1116 [03:19<00:03, 10.37it/s]"
     ]
    },
    {
     "name": "stdout",
     "output_type": "stream",
     "text": [
      "1: stopwatch (0.83)1: stopwatch (0.95)\n",
      "2: analog_clock (0.02)\n",
      "3: magnetic_compass (0.01)\n",
      "4: digital_watch (0.01)\n",
      "5: barometer (0.00)\n",
      "Found 'watch' with probability 0.95\n",
      "image_save_path_good good_watch_folder\\fa96f9a1ef1779f254ae678a03b52297.png\n",
      "\n",
      "2: analog_clock (0.08)\n",
      "3: magnetic_compass (0.04)\n",
      "4: digital_watch (0.02)\n",
      "5: barometer (0.02)\n",
      "Found 'watch' with probability 0.83\n",
      "image_save_path_good good_watch_folder\\fa80899335cf99c55536436f09e2281a.png\n",
      "1: web_site (0.36)\n",
      "2: bannister (0.05)\n",
      "3: nematode (0.04)\n",
      "4: hook (0.04)\n",
      "5: beacon (0.03)\n",
      "image_save_path_bad bad_watch_folder\\fa5e991054edb2a4eaacba0697f4b3d1.png\n",
      "1: analog_clock (0.60)\n",
      "2: stopwatch (0.23)\n",
      "3: barometer (0.08)\n",
      "4: drum (0.05)\n",
      "5: digital_watch (0.01)\n",
      "Found 'watch' with probability 0.60\n",
      "image_save_path_good good_watch_folder\\fac43f2291c60e6bbdd81031d693b1d4.png\n",
      "1: stopwatch (0.84)\n",
      "2: analog_clock (0.06)\n",
      "3: barometer (0.02)\n",
      "4: digital_watch (0.02)\n",
      "5: wall_clock (0.01)\n",
      "Found 'watch' with probability 0.84\n",
      "image_save_path_good good_watch_folder\\fbdff3efe30137058b9e9a0f1c714e9e.png\n"
     ]
    },
    {
     "name": "stderr",
     "output_type": "stream",
     "text": [
      "Processing images:  97%|█████████▋| 1087/1116 [03:21<00:05,  5.62it/s]"
     ]
    },
    {
     "name": "stdout",
     "output_type": "stream",
     "text": [
      "1: web_site (0.17)\n",
      "2: abaya (0.11)\n",
      "3: nematode (0.03)\n",
      "4: matchstick (0.03)\n",
      "5: Windsor_tie (0.02)\n",
      "image_save_path_bad bad_watch_folder\\fce7f0f6319119a45dda798ddad18922.png\n",
      "1: stopwatch (0.91)\n",
      "2: analog_clock (0.06)\n",
      "3: barometer (0.02)\n",
      "4: digital_watch (0.00)\n",
      "5: scale (0.00)\n",
      "Found 'watch' with probability 0.91\n",
      "image_save_path_good good_watch_folder\\fd3811dcc8d779b24b92a60108a08278.png\n"
     ]
    },
    {
     "name": "stderr",
     "output_type": "stream",
     "text": [
      "\r",
      "Processing images:  98%|█████████▊| 1090/1116 [03:21<00:04,  6.27it/s]"
     ]
    },
    {
     "name": "stdout",
     "output_type": "stream",
     "text": [
      "1: stopwatch (0.86)\n",
      "2: analog_clock (0.13)\n",
      "3: barometer (0.01)\n",
      "4: digital_watch (0.00)\n",
      "5: wall_clock (0.00)\n",
      "Found 'watch' with probability 0.86\n",
      "image_save_path_good good_watch_folder\\fbf0049ff071a6f0e5c62bcb07cdfa70.png\n"
     ]
    },
    {
     "name": "stderr",
     "output_type": "stream",
     "text": [
      "\r",
      "Processing images:  98%|█████████▊| 1092/1116 [03:22<00:05,  4.75it/s]"
     ]
    },
    {
     "name": "stdout",
     "output_type": "stream",
     "text": [
      "1: stopwatch (0.54)\n",
      "2: analog_clock (0.41)\n",
      "3: digital_watch (0.03)\n",
      "4: barometer (0.01)\n",
      "5: magnetic_compass (0.01)\n",
      "Found 'watch' with probability 0.54\n",
      "image_save_path_good good_watch_folder\\fc47fef46fea84c0cbe7d9bea0ff6c57.png\n",
      "1: stopwatch (0.92)\n",
      "2: magnetic_compass (0.03)\n",
      "3: digital_watch (0.03)\n",
      "4: barometer (0.01)\n",
      "5: analog_clock (0.01)\n",
      "Found 'watch' with probability 0.92\n",
      "image_save_path_good good_watch_folder\\fca86136a2778c9f2a5fafb51d0586f7.png\n",
      "1: analog_clock (0.48)\n",
      "2: stopwatch (0.38)\n",
      "3: barometer (0.06)\n",
      "4: wall_clock (0.03)\n",
      "5: magnetic_compass (0.03)\n",
      "Found 'watch' with probability 0.48\n",
      "image_save_path_good good_watch_folder\\fd1055594259d4686fa47a7c2bca405d.png\n",
      "1: stopwatch (0.69)\n",
      "2: analog_clock (0.27)\n",
      "3: digital_watch (0.03)\n",
      "4: wall_clock (0.00)\n",
      "5: barometer (0.00)\n",
      "Found 'watch' with probability 0.69\n",
      "image_save_path_good good_watch_folder\\fbffe8d880cb1345ac9d61f4ad629916.png\n",
      "1: padlock (0.10)\n",
      "2: bubble (0.09)\n",
      "3: hook (0.06)\n",
      "4: nail (0.06)\n",
      "5: chain (0.04)\n",
      "image_save_path_bad bad_watch_folder\\fd6a15571c00c7ce13cc071282c627a3.png\n",
      "1: stopwatch (0.98)\n",
      "2: scale (0.01)\n",
      "3: analog_clock (0.00)\n",
      "4: digital_watch (0.00)\n",
      "5: reflex_camera (0.00)\n",
      "Found 'watch' with probability 0.98\n",
      "image_save_path_good good_watch_folder\\fc90855819e6dbbcdaa9db01b879e2e6.png\n"
     ]
    },
    {
     "name": "stderr",
     "output_type": "stream",
     "text": [
      "Processing images:  98%|█████████▊| 1094/1116 [03:23<00:05,  4.05it/s]"
     ]
    },
    {
     "name": "stdout",
     "output_type": "stream",
     "text": [
      "1: analog_clock (0.59)\n",
      "2: stopwatch (0.34)\n",
      "3: digital_watch (0.02)\n",
      "4: wall_clock (0.02)\n",
      "5: magnetic_compass (0.01)\n",
      "Found 'watch' with probability 0.59\n",
      "image_save_path_good good_watch_folder\\fd42dcad7e7b838c8592046e0bed3e14.png\n",
      "1: analog_clock (0.62)\n",
      "2: stopwatch (0.23)\n",
      "3: wall_clock (0.07)\n",
      "4: barometer (0.05)\n",
      "5: magnetic_compass (0.02)\n",
      "Found 'watch' with probability 0.62\n",
      "image_save_path_good good_watch_folder\\fc0e94bc291e439bf11e493ed65a1e8c.png\n"
     ]
    },
    {
     "name": "stderr",
     "output_type": "stream",
     "text": [
      "Processing images:  98%|█████████▊| 1098/1116 [03:23<00:03,  5.19it/s]"
     ]
    },
    {
     "name": "stdout",
     "output_type": "stream",
     "text": [
      "1: stopwatch (0.97)\n",
      "2: digital_watch (0.02)\n",
      "3: magnetic_compass (0.00)\n",
      "4: analog_clock (0.00)\n",
      "5: reflex_camera (0.00)\n",
      "Found 'watch' with probability 0.97\n",
      "image_save_path_good good_watch_folder\\fd6b0d40a8346eae84571489b2971955.png\n",
      "1: stopwatch (0.48)\n",
      "2: analog_clock (0.07)\n",
      "3: barometer (0.05)\n",
      "4: binoculars (0.05)\n",
      "5: reflex_camera (0.04)\n",
      "Found 'watch' with probability 0.48\n",
      "image_save_path_good good_watch_folder\\fd7191466b9c3c26a835e571f2781f91.png\n",
      "1: barometer (0.54)\n",
      "2: stopwatch (0.27)\n",
      "3: analog_clock (0.13)\n",
      "4: magnetic_compass (0.02)\n",
      "5: digital_watch (0.02)\n",
      "Found 'watch' with probability 0.27\n",
      "image_save_path_good good_watch_folder\\fcc9dca2a36f26e474caa4d8325a41d3.png\n",
      "1: stopwatch (0.83)\n",
      "2: barometer (0.09)\n",
      "3: analog_clock (0.04)\n",
      "4: magnetic_compass (0.02)\n",
      "5: digital_watch (0.01)\n",
      "Found 'watch' with probability 0.83\n",
      "image_save_path_good good_watch_folder\\fdda173b9478210ae17dd5014514f6db.png\n",
      "1: stopwatch (0.41)\n",
      "2: analog_clock (0.12)\n",
      "3: wall_clock (0.05)\n",
      "4: barometer (0.04)\n",
      "5: buckle (0.04)\n",
      "Found 'watch' with probability 0.41\n",
      "image_save_path_good good_watch_folder\\fdd3a5a21b5d75aeb47f7e64a15fd58b.png\n",
      "1: stopwatch (0.71)\n",
      "2: barometer (0.09)\n",
      "3: analog_clock (0.05)\n",
      "4: digital_watch (0.04)\n",
      "5: reflex_camera (0.03)\n",
      "Found 'watch' with probability 0.71\n",
      "image_save_path_good good_watch_folder\\fd782046c8b7f9a324b7b2a69260f2b8.png\n"
     ]
    },
    {
     "name": "stderr",
     "output_type": "stream",
     "text": [
      "Processing images:  99%|█████████▊| 1102/1116 [03:24<00:02,  4.87it/s]"
     ]
    },
    {
     "name": "stdout",
     "output_type": "stream",
     "text": [
      "1: stopwatch (0.99)\n",
      "2: analog_clock (0.00)\n",
      "3: digital_watch (0.00)\n",
      "4: barometer (0.00)\n",
      "5: magnetic_compass (0.00)\n",
      "Found 'watch' with probability 0.99\n",
      "image_save_path_good good_watch_folder\\fa4c87cffe5b0d5ca307a80d89c2d956.png\n",
      "1: stopwatch (0.57)\n",
      "2: analog_clock (0.25)\n",
      "3: digital_watch (0.07)\n",
      "4: barometer (0.07)\n",
      "5: magnetic_compass (0.01)\n",
      "Found 'watch' with probability 0.57\n",
      "image_save_path_good good_watch_folder\\feb90ab663792b04fd426437637992c0.png\n"
     ]
    },
    {
     "name": "stderr",
     "output_type": "stream",
     "text": [
      "\r",
      "Processing images:  99%|█████████▉| 1103/1116 [03:24<00:02,  5.47it/s]"
     ]
    },
    {
     "name": "stdout",
     "output_type": "stream",
     "text": [
      "1: stopwatch (0.85)\n",
      "2: barometer (0.10)\n",
      "3: analog_clock (0.04)\n",
      "4: magnetic_compass (0.01)\n",
      "5: digital_watch (0.00)\n",
      "Found 'watch' with probability 0.85\n",
      "image_save_path_good good_watch_folder\\fe568a07e910431fb0883a3d6cd51f0c.png\n",
      "1: magnetic_compass (0.20)\n",
      "2: stopwatch (0.18)\n",
      "3: reflex_camera (0.16)\n",
      "4: analog_clock (0.09)\n",
      "5: digital_watch (0.08)\n",
      "Found 'watch' with probability 0.18\n",
      "image_save_path_good good_watch_folder\\fef75b52e17a25cad29a11411a846eee.png\n",
      "1: stopwatch (1.00)\n",
      "2: binoculars (0.00)\n",
      "3: scale (0.00)\n",
      "4: digital_watch (0.00)\n",
      "5: analog_clock (0.00)\n",
      "Found 'watch' with probability 1.00\n",
      "image_save_path_good good_watch_folder\\ff63e6d292ad6b23be4c83673e4db47b.png\n",
      "1: stopwatch (0.92)\n",
      "2: analog_clock (0.07)\n",
      "3: digital_watch (0.01)\n",
      "4: reflex_camera (0.00)\n",
      "5: magnetic_compass (0.00)\n",
      "Found 'watch' with probability 0.92\n",
      "image_save_path_good good_watch_folder\\fe43f2a40fe07997908bbe4c81b07522.png\n",
      "1: stopwatch (0.97)\n",
      "2: barometer (0.01)\n",
      "3: analog_clock (0.01)\n",
      "4: magnetic_compass (0.01)\n",
      "5: digital_watch (0.00)\n",
      "Found 'watch' with probability 0.97\n",
      "image_save_path_good good_watch_folder\\ff416ec4422659d8dbd232ca4e734647.png\n"
     ]
    },
    {
     "name": "stderr",
     "output_type": "stream",
     "text": [
      "Processing images:  99%|█████████▉| 1107/1116 [03:25<00:01,  7.72it/s]"
     ]
    },
    {
     "name": "stdout",
     "output_type": "stream",
     "text": [
      "1: stopwatch (0.98)\n",
      "2: analog_clock (0.02)\n",
      "3: digital_watch (0.00)\n",
      "4: barometer (0.00)\n",
      "5: wall_clock (0.00)\n",
      "Found 'watch' with probability 0.98\n",
      "image_save_path_good good_watch_folder\\fedc7824684b90c21f216e42e8ad64b5.png\n",
      "1: stopwatch (0.99)\n",
      "2: magnetic_compass (0.00)\n",
      "3: barometer (0.00)\n",
      "4: digital_watch (0.00)\n",
      "5: analog_clock (0.00)\n",
      "Found 'watch' with probability 0.99\n",
      "image_save_path_good good_watch_folder\\ffc3df0ca77aee2c1019c1f8759b4ad7.png\n",
      "1: stopwatch (0.95)\n",
      "2: magnetic_compass (0.01)\n",
      "3: analog_clock (0.01)\n",
      "4: barometer (0.01)\n",
      "5: digital_watch (0.01)\n",
      "Found 'watch' with probability 0.95\n",
      "image_save_path_good good_watch_folder\\ff6e32cd0e51701ac1c4632250f757aa.png\n"
     ]
    },
    {
     "name": "stderr",
     "output_type": "stream",
     "text": [
      "Processing images: 100%|██████████| 1116/1116 [03:25<00:00,  5.42it/s]\n"
     ]
    }
   ],
   "source": [
    "\n",
    "if __name__ == \"__main__\":\n",
    "    img_path = ''\n",
    "    good_watch =[]\n",
    "    bad_watch =[]\n",
    "    bad_file=[]\n",
    "    data_dir = r\"white_bg_images\"\n",
    "    good_watch_folder = r\"good_watch_folder\"   #combine good white backgroung images with transparency images\n",
    "    bad_watch_folder = r\"bad_watch_folder\"\n",
    "    categorize_watch_images_concurrent(data_dir, good_watch_folder, bad_watch_folder)\n"
   ]
  },
  {
   "cell_type": "code",
   "execution_count": 8,
   "id": "5db1047a",
   "metadata": {},
   "outputs": [
    {
     "name": "stdout",
     "output_type": "stream",
     "text": [
      "Number of items in 'good_watch_folder': 1006\n"
     ]
    }
   ],
   "source": [
    "# Of the white background images, how many are good watch images\n",
    "\n",
    "good_images_folder = Path(\"good_watch_folder\")\n",
    "num_items = len(list(good_images_folder.iterdir()))\n",
    "\n",
    "print(f\"Number of items in '{good_images_folder}': {num_items}\")"
   ]
  },
  {
   "cell_type": "code",
   "execution_count": 9,
   "id": "28389f36",
   "metadata": {},
   "outputs": [
    {
     "name": "stdout",
     "output_type": "stream",
     "text": [
      "Number of items in 'bad_watch_folder': 107\n"
     ]
    }
   ],
   "source": [
    "# Of the white background images, how many are bad watch images\n",
    "\n",
    "bad_images_folder = Path(\"bad_watch_folder\")\n",
    "num_items = len(list(bad_images_folder.iterdir()))\n",
    "\n",
    "print(f\"Number of items in '{bad_images_folder}': {num_items}\")"
   ]
  },
  {
   "cell_type": "markdown",
   "id": "f61a1608",
   "metadata": {},
   "source": [
    "### Combine transparent images + good white background into  good_images_PLUS_transparent folder"
   ]
  },
  {
   "cell_type": "code",
   "execution_count": 10,
   "id": "0e493064",
   "metadata": {},
   "outputs": [
    {
     "name": "stdout",
     "output_type": "stream",
     "text": [
      "Directory 'good_images_plus_transparent' and all its contents have been deleted.\n",
      "good_images_plus_transparent now contains good and transparent images.\n"
     ]
    }
   ],
   "source": [
    "final_folder = \"good_images_plus_transparent\"\n",
    "transparent_images = Path(\"transparent_images\")\n",
    "new_path = Path(final_folder)\n",
    "        \n",
    "if os.path.exists(new_path):\n",
    "    try:\n",
    "        shutil.rmtree(new_path)\n",
    "        print(f\"Directory '{new_path}' and all its contents have been deleted.\")\n",
    "    except Exception as e:\n",
    "        print(f\"Error: Failed to delete '{new_path}'. {e}\")\n",
    "  \n",
    "if not os.path.exists(new_path):\n",
    "    try:        \n",
    "        shutil.copytree(good_images_folder, new_path)\n",
    "        for file in transparent_images.iterdir():\n",
    "            if file.is_file():\n",
    "                destination_file = new_path / file.name\n",
    "                shutil.copy2(file, destination_file)\n",
    "        print(f\"{final_folder} now contains good and transparent images.\")\n",
    "        \n",
    "    except Exception as e:\n",
    "        print(f\"An error occurred: {e}\")\n",
    "\n"
   ]
  },
  {
   "cell_type": "code",
   "execution_count": 11,
   "id": "43aa119c",
   "metadata": {},
   "outputs": [
    {
     "name": "stdout",
     "output_type": "stream",
     "text": [
      "Number of items in 'good_images_PLUS_transparent': 1347\n"
     ]
    }
   ],
   "source": [
    "# Of the white background images, how many are good watch images PLUS original transparent images\n",
    "\n",
    "final_folder = Path(\"good_images_PLUS_transparent\")\n",
    "num_items = len(list(final_folder.iterdir()))\n",
    "\n",
    "print(f\"Number of items in '{final_folder}': {num_items}\")"
   ]
  },
  {
   "cell_type": "code",
   "execution_count": null,
   "id": "893b3327",
   "metadata": {},
   "outputs": [],
   "source": []
  }
 ],
 "metadata": {
  "kernelspec": {
   "display_name": "Python 3 (ipykernel)",
   "language": "python",
   "name": "python3"
  },
  "language_info": {
   "codemirror_mode": {
    "name": "ipython",
    "version": 3
   },
   "file_extension": ".py",
   "mimetype": "text/x-python",
   "name": "python",
   "nbconvert_exporter": "python",
   "pygments_lexer": "ipython3",
   "version": "3.9.7"
  }
 },
 "nbformat": 4,
 "nbformat_minor": 5
}
