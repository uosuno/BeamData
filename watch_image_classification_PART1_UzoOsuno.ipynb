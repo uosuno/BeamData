{
 "cells": [
  {
   "cell_type": "markdown",
   "id": "204f28fe",
   "metadata": {},
   "source": [
    "## Part  A - Create hash url and extract images, save downloaded images into image_folder/"
   ]
  },
  {
   "cell_type": "markdown",
   "id": "67b176a8",
   "metadata": {},
   "source": [
    "### any url that didn't result in an image is listed in the not_image.txt file\n",
    "### any url that resulted  in a downloaded image file, is displayed in the downloaded_files.html"
   ]
  },
  {
   "cell_type": "code",
   "execution_count": 1,
   "id": "a0a43900",
   "metadata": {},
   "outputs": [],
   "source": [
    "import pandas as pd\n",
    "import hashlib\n",
    "import numpy as np\n",
    "import requests\n",
    "import re\n",
    "import logging\n",
    "import os\n",
    "import mimetypes\n",
    "import concurrent.futures\n",
    "import datetime \n",
    "from PIL import Image\n",
    "from io import BytesIO\n",
    "from slugify import slugify\n",
    "from tqdm import tqdm\n",
    "from concurrent.futures import ThreadPoolExecutor, as_completed\n",
    "import cv2\n",
    "from pathlib import Path\n",
    "import shutil"
   ]
  },
  {
   "cell_type": "code",
   "execution_count": 2,
   "id": "649afd04",
   "metadata": {},
   "outputs": [
    {
     "data": {
      "text/plain": [
       "Index(['reference_number', 'watch_url', 'type', 'brand', 'year_introduced',\n",
       "       'parent_model', 'specific_model', 'nickname', 'marketing_name', 'style',\n",
       "       'currency', 'price', 'image_url', 'made_in', 'case_shape',\n",
       "       'case_material', 'case_finish', 'caseback', 'diameter', 'between_lugs',\n",
       "       'lug_to_lug', 'case_thickness', 'bezel_material', 'bezel_color',\n",
       "       'crystal', 'water_resistance', 'weight', 'dial_color', 'numerals',\n",
       "       'bracelet_material', 'bracelet_color', 'clasp_type', 'movement',\n",
       "       'caliber', 'power_reserve', 'frequency', 'jewels', 'features',\n",
       "       'description', 'short_description'],\n",
       "      dtype='object')"
      ]
     },
     "execution_count": 2,
     "metadata": {},
     "output_type": "execute_result"
    }
   ],
   "source": [
    "# watch_file=\"deduplicated_A_Lange_and_Sohne_20240620.csv\"\n",
    "watch_file=\"bulk_a_lange.csv\"\n",
    "output_path = \"image_folder/\"\n",
    "not_images = []\n",
    "bad_url_files =[]\n",
    "downloaded_images =[]   # used in populating html page\n",
    "data = pd.read_csv(watch_file,header=0)\n",
    "df = pd.DataFrame(data)\n",
    "\n",
    "# Get the count of the original data rows\n",
    "original_df_count=df.shape[0]\n",
    "df.columns"
   ]
  },
  {
   "cell_type": "code",
   "execution_count": 3,
   "id": "5fbe516e",
   "metadata": {},
   "outputs": [],
   "source": [
    "# Creating hash column will be needed later for S3 images\n",
    "def get_hash(url):\n",
    "        hashed_url = hashlib.md5(url.encode()).hexdigest()\n",
    "        return hashed_url\n",
    "\n"
   ]
  },
  {
   "cell_type": "code",
   "execution_count": 4,
   "id": "65f5747e",
   "metadata": {},
   "outputs": [
    {
     "data": {
      "text/plain": [
       "0       True\n",
       "1       True\n",
       "2       True\n",
       "3       True\n",
       "4       True\n",
       "        ... \n",
       "1680    True\n",
       "1681    True\n",
       "1682    True\n",
       "1683    True\n",
       "1684    True\n",
       "Name: image_url, Length: 1685, dtype: bool"
      ]
     },
     "execution_count": 4,
     "metadata": {},
     "output_type": "execute_result"
    }
   ],
   "source": [
    "df['hash_watch_url'] = df['watch_url'].apply(get_hash)\n",
    "df['image_url'].apply(lambda x: isinstance(x, str))\n"
   ]
  },
  {
   "cell_type": "code",
   "execution_count": 5,
   "id": "f6d6242d",
   "metadata": {},
   "outputs": [
    {
     "name": "stdout",
     "output_type": "stream",
     "text": [
      "Directory 'image_folder/' and all its contents have been deleted.\n"
     ]
    },
    {
     "name": "stderr",
     "output_type": "stream",
     "text": [
      "2024-08-01 23:23:50,160 - INFO - Downloaded c2056c5653d1c18188f33fba6dad0dc6.jpg\n",
      "2024-08-01 23:23:50,192 - INFO - Downloaded b76fa1c9f7eccac7733f1cb43ca69e71.jpg\n",
      "2024-08-01 23:23:50,238 - INFO - Downloaded 7bdc15af10223319c6b63d87e4ba32d2.jpg\n",
      "2024-08-01 23:23:50,239 - INFO - Downloaded 68051adc159479a97d23b290a0d136e4.jpg\n",
      "2024-08-01 23:23:50,245 - INFO - Downloaded cf2281af8c1a007015117ff1ff431997.jpg\n",
      "2024-08-01 23:23:50,285 - INFO - Downloaded 459743f3894173708fa383dcbdad496e.jpg\n",
      "2024-08-01 23:23:50,328 - INFO - Downloaded 28652ff2945a117208ca6fddecda4079.jpg\n",
      "2024-08-01 23:23:50,362 - INFO - Downloaded d038845ec5d799d55e4d24d9595e0c1e.jpg\n",
      "2024-08-01 23:23:50,384 - INFO - Downloaded 254489541ca7dd12e2b4c82b679795a7.jpg\n",
      "2024-08-01 23:23:50,413 - INFO - Downloaded be84f6ce567aa2fab6681727fb395ba2.jpg\n",
      "2024-08-01 23:23:50,430 - INFO - Downloaded 11a28b7683983a8c109fe4e495f3ed18.jpg\n",
      "2024-08-01 23:23:50,441 - INFO - Downloaded 39cc6c9d3a7b6cefe17831bd27e1447c.jpg\n",
      "2024-08-01 23:23:50,446 - INFO - Downloaded 3513c26d35b9268e5168f2b7c3f7ed39.jpg\n",
      "2024-08-01 23:23:50,493 - INFO - Downloaded dbe053994f0c2799f1f57ccd6e80ca81.jpg\n",
      "2024-08-01 23:23:50,567 - INFO - Downloaded 1211fac3d39a5c666d0c1c084b26e873.jpg\n",
      "2024-08-01 23:23:50,568 - INFO - Downloaded 366682d88fc4331090926044755895b9.jpg\n",
      "2024-08-01 23:23:50,572 - INFO - Downloaded 4177599947d906a783a5eb33ee105c6a.jpg\n",
      "2024-08-01 23:23:50,572 - INFO - Downloaded 03ca5a8bb208977a548d41367de0fba8.jpg\n",
      "2024-08-01 23:23:50,573 - INFO - Downloaded f2a28b7a9543550f9a8bc4eac447d333.jpg\n",
      "2024-08-01 23:23:50,573 - INFO - Downloaded 909f9bc6db65d41d2d6fbfae45b7fb61.jpg\n",
      "2024-08-01 23:23:50,594 - INFO - Downloaded 7114176e5dff376ae51f99ae6b1d8d55.jpg\n",
      "2024-08-01 23:23:50,613 - INFO - Downloaded a5916c1626320f2ecfb399aa185ef797.jpg\n",
      "2024-08-01 23:23:50,635 - INFO - Downloaded aa5396b5d952613399071949aba5d5ec.jpg\n",
      "2024-08-01 23:23:50,675 - INFO - Downloaded b406f3727c1d9c839c8fb5cf3eed3b06.jpg\n",
      "2024-08-01 23:23:50,688 - INFO - Downloaded c8e688d88b10dcdee5c52c8cc86fcc0c.jpg\n",
      "2024-08-01 23:23:50,725 - INFO - Downloaded 029c6c6b5ccad5415fe132f3f3cba716.jpg\n",
      "2024-08-01 23:23:50,726 - INFO - Downloaded b03261a946e42e1750075c17063ec778.jpg\n",
      "2024-08-01 23:23:50,764 - INFO - Downloaded 97f484b2467057f4e6530c6ba2fc732a.jpg\n",
      "2024-08-01 23:23:50,765 - INFO - Downloaded 24702b5a64f60abca26069e0e79130d2.jpg\n",
      "2024-08-01 23:23:50,789 - INFO - Downloaded 72b061414102f95f2bf09995b7a6e6fb.jpg\n",
      "2024-08-01 23:23:50,993 - INFO - Downloaded 638348a23ae8dfa9bd30957f8c5a5324.jpg\n",
      "2024-08-01 23:23:50,822 - INFO - Downloaded 09cd3c1174862f14ce79391add050294.jpg\n",
      "2024-08-01 23:23:50,844 - INFO - Downloaded f22657fffa60c37d47cc6073ba6969d3.jpg\n",
      "2024-08-01 23:23:50,877 - INFO - Downloaded 467af81b4f67c7c9da7467120318a281.jpg\n",
      "2024-08-01 23:23:50,914 - INFO - Downloaded e634c4b0047125a9db99c02e68ece7ec.jpg\n",
      "2024-08-01 23:23:50,941 - INFO - Downloaded d5a06634c6aef6902769b086a45c6856.jpg\n",
      "2024-08-01 23:23:51,139 - INFO - Downloaded e126b290e9d9d88371fea05b676bb773.jpg\n",
      "2024-08-01 23:23:51,033 - INFO - Downloaded 215fbf6b33f3a371085557b90ef0304b.jpg\n",
      "2024-08-01 23:23:51,042 - INFO - Downloaded 45bb067fb0360546a010d2067a489263.jpg\n",
      "2024-08-01 23:23:51,108 - INFO - Downloaded 6586d308ea233795a4f97fb418c7c739.jpg\n",
      "2024-08-01 23:23:50,800 - INFO - Downloaded 27bf925874581510eba4354fe19c72d3.jpg\n",
      "2024-08-01 23:23:51,191 - INFO - Downloaded 6c87715f87c1cb33a7da44b05de1cef5.jpg\n",
      "2024-08-01 23:23:51,197 - INFO - Downloaded 3c086c17c776a627abab90b2ad91313c.jpg\n",
      "2024-08-01 23:23:51,215 - INFO - Downloaded 5024f36087a2c7f01ffe03a4cf425022.jpg\n",
      "2024-08-01 23:23:51,227 - INFO - Downloaded 7ed5c4d6a4cecf6ffc4346ac68ee0478.jpg\n",
      "2024-08-01 23:23:51,229 - INFO - Downloaded 68987b630c7883b5df115628e21d03e5.jpg\n",
      "2024-08-01 23:23:51,229 - INFO - Downloaded bc2a833e47c75b6096a4215380801b68.jpg\n",
      "2024-08-01 23:23:51,230 - INFO - Downloaded 4ae09178da2b9358b41a517c0a2def6c.jpg\n",
      "2024-08-01 23:23:51,240 - INFO - Downloaded 550bf8160bb2a316ec5d1c8865dd78bf.jpg\n",
      "2024-08-01 23:23:51,307 - INFO - Downloaded 77aafadfa5a53ce2d5b10bc8830008b9.jpg\n",
      "2024-08-01 23:23:51,318 - INFO - Downloaded 53bb71eb50cf064706a46e9d1c4d998a.jpg\n",
      "2024-08-01 23:23:51,331 - INFO - Downloaded fd6b0d40a8346eae84571489b2971955.jpg\n",
      "2024-08-01 23:23:51,347 - INFO - Downloaded dd77a6afbdf8069dc534c65030a2f274.jpg\n",
      "2024-08-01 23:23:51,383 - INFO - Downloaded 2753dce61a633be4722f148c013b790c.jpg\n",
      "2024-08-01 23:23:51,411 - INFO - Downloaded 1e9bc6b3085a8e513de7514915086a2b.jpg\n",
      "2024-08-01 23:23:51,425 - INFO - Downloaded 6dc40ef4eaa5587a5634424c580b4270.jpg\n",
      "2024-08-01 23:23:51,458 - INFO - Downloaded b44fae9544f47aa4967f211ba7af0979.jpg\n",
      "2024-08-01 23:23:51,487 - INFO - Downloaded bf2bf9e4563ca240dcf41eba60485409.jpg\n",
      "2024-08-01 23:23:51,505 - INFO - Downloaded ed2343de11c929c88de13caee4adce1c.jpg\n",
      "2024-08-01 23:23:51,525 - INFO - Downloaded 6d48e69b1227d2e774493052469eb2e1.jpg\n",
      "2024-08-01 23:23:51,556 - INFO - Downloaded bb66fe88a8fcb419ee0f876dc4dac65e.jpg\n",
      "2024-08-01 23:23:51,579 - INFO - Downloaded 1458e174bd12e0d67df59d78d92e3ea5.jpg\n",
      "2024-08-01 23:23:51,598 - INFO - Downloaded c25cf52c11d14721c1d16a6e214174fa.jpg\n",
      "2024-08-01 23:23:51,623 - INFO - Downloaded 7e1983b3632ccef1b26e6147ea7a4dd0.jpg\n",
      "2024-08-01 23:23:51,630 - INFO - Downloaded 68f72a548f0155ea61d1f4376575c6bb.jpg\n",
      "2024-08-01 23:23:51,646 - INFO - Downloaded c2de747df5e45228a798cfcba02f1b00.jpg\n",
      "2024-08-01 23:23:51,649 - INFO - Downloaded 1c1c9e0edcb0732126b5ce36cef20284.jpg\n",
      "2024-08-01 23:23:51,793 - INFO - Downloaded efa9b9eac1494b312170afd2cece1a03.jpg\n",
      "2024-08-01 23:23:51,797 - INFO - Downloaded 86f8089a6fd18948b6a8885f84299c30.jpg\n",
      "2024-08-01 23:23:51,822 - INFO - Downloaded 99b1a4deafa72e0527cd9b677efde946.jpg\n",
      "2024-08-01 23:23:51,827 - INFO - Downloaded 073a02e7a2707e1522bf95b2b9abfa4c.jpg\n",
      "2024-08-01 23:23:51,845 - INFO - Downloaded 2c28209348777484465cbe88a6661868.jpg\n",
      "2024-08-01 23:23:51,845 - INFO - Downloaded ee6c26f899f367ff554ebd2ef6e01766.jpg\n",
      "2024-08-01 23:23:51,845 - INFO - Downloaded 87ee1c953f1f10a8a3de3391f368c33e.jpg\n",
      "2024-08-01 23:23:51,884 - INFO - Downloaded 5f9300b48099bcfbfe075bb7774cba22.jpg\n",
      "2024-08-01 23:23:51,887 - INFO - Downloaded 8713deb256aa6eeb7bcba8ea417fcf15.jpg\n",
      "2024-08-01 23:23:51,955 - INFO - Downloaded db83d3c2c929a2c5f66aed98678f2e40.jpg\n",
      "2024-08-01 23:23:51,913 - INFO - Downloaded 1905df7daf021d2de274cd5a8134e5c1.jpg\n",
      "2024-08-01 23:23:51,936 - INFO - Downloaded dd4e6e4cddac645d755ace525b7ba7c3.jpg\n",
      "2024-08-01 23:23:51,894 - INFO - Downloaded b49cfeccabdf93597f518b176312da6a.jpg\n",
      "2024-08-01 23:23:52,066 - INFO - Downloaded cfadb60eb99bd346414265c3bdb39882.jpg\n",
      "2024-08-01 23:23:52,092 - INFO - Downloaded bc15bd4a7a7f33bd350c37485422f8af.jpg\n",
      "2024-08-01 23:23:52,106 - INFO - Downloaded 8ad37697daeb73938dd674ddf9e783ea.jpg\n",
      "2024-08-01 23:23:52,106 - INFO - Downloaded 4382212bcb9238c2de2d814aa4e0d695.jpg\n",
      "2024-08-01 23:23:52,108 - INFO - Downloaded a5154b9a1787828641be1e488ff457f8.jpg\n",
      "2024-08-01 23:23:52,108 - INFO - Downloaded 63d2df37127a38c24c6d16165e9f9dfa.jpg\n",
      "2024-08-01 23:23:52,108 - INFO - Downloaded 58bea67a5cb4b07e21cb180694338e5e.jpg\n",
      "2024-08-01 23:23:52,123 - INFO - Downloaded 12fbc51247158efafe22f1e966df58dd.jpg\n",
      "2024-08-01 23:23:52,147 - INFO - Downloaded 0e7ce331cb875693422662f474577f04.jpg\n",
      "2024-08-01 23:23:52,164 - INFO - Downloaded 0c60bae8d9b56d4a721c682245a82320.jpg\n",
      "2024-08-01 23:23:52,266 - INFO - Downloaded ec8b20940427848863f0208d70b93e24.jpg\n",
      "2024-08-01 23:23:52,267 - INFO - Downloaded 85d00c998be0625d87a78356e520eaa5.jpg\n",
      "2024-08-01 23:23:52,294 - INFO - Downloaded 2c4204411b334dba120ef90dd740df64.jpg\n",
      "2024-08-01 23:23:52,303 - INFO - Downloaded b2e7062bb30a86f545935186c026b111.jpg\n",
      "2024-08-01 23:23:52,309 - INFO - Downloaded 0d3ada08475221b891e2b24a7e24f5de.jpg\n",
      "2024-08-01 23:23:52,309 - INFO - Downloaded f4d5b9bcb2ae290cb56c2748041409b2.jpg\n",
      "2024-08-01 23:23:52,311 - INFO - Downloaded ed39b8fc6d36f734d66875e96445d869.jpg\n",
      "2024-08-01 23:23:52,327 - INFO - Downloaded 9f2bbd53d499d79573b0d105f9feef97.jpg\n",
      "2024-08-01 23:23:52,336 - INFO - Downloaded f8f6ab312cf81e83ed37cde6b8424d9b.jpg\n",
      "2024-08-01 23:23:52,404 - INFO - Downloaded aa638eba694acdf0919b3e3a13efb327.jpg\n",
      "2024-08-01 23:23:52,454 - INFO - Downloaded a1a38beb767e3c7d777197ec980fcacb.jpg\n",
      "2024-08-01 23:23:52,426 - INFO - Downloaded e64001de327ca17d3dd98d3ba9b823fa.jpg\n"
     ]
    },
    {
     "name": "stderr",
     "output_type": "stream",
     "text": [
      "2024-08-01 23:23:52,472 - INFO - Downloaded 5ae6278ab530ceb5bebd968767ebb0ef.jpg\n",
      "2024-08-01 23:23:52,493 - INFO - Downloaded 59fb484d83af8d35e4fbaa547de06227.jpg\n",
      "2024-08-01 23:23:52,494 - INFO - Downloaded 7e777d428a2bbe6eb2ed1a41c0a0a285.jpg\n",
      "2024-08-01 23:23:52,500 - INFO - Downloaded 431065c42ac40b705ebccf489f6202ee.jpg\n",
      "2024-08-01 23:23:52,503 - INFO - Downloaded b161cfbb81cb77a9bc13afa6d9299d74.jpg\n",
      "2024-08-01 23:23:52,580 - INFO - Downloaded f91c6ed4ca6f8bcc9b24b4efd4317ba0.jpg\n",
      "2024-08-01 23:23:52,611 - INFO - Downloaded 6cee0411fe9f8661e4f7c86e12e0cd6c.jpg\n",
      "2024-08-01 23:23:52,613 - INFO - Downloaded cbe4adbbcf7e3881b3bf5688cc178423.jpg\n",
      "2024-08-01 23:23:52,621 - INFO - Downloaded 4b84c7e0fe61e7daf3df4a09a97e9a9b.jpg\n",
      "2024-08-01 23:23:52,622 - INFO - Downloaded 3d4c78f1eca40e0c7cf2f3511752da5f.jpg\n",
      "2024-08-01 23:23:52,625 - INFO - Downloaded b734caa48127e95f9d6dcf7ff596c06d.jpg\n",
      "2024-08-01 23:23:52,628 - INFO - Downloaded 54df240275bc2ff73db46b1b43896b87.jpg\n",
      "2024-08-01 23:23:52,659 - INFO - Downloaded 12fc505d846814298f9f4046eb5d8ccc.jpg\n",
      "2024-08-01 23:23:52,667 - INFO - Downloaded c666ce852aeb8abea55f465f05b0f465.jpg\n",
      "2024-08-01 23:23:52,669 - INFO - Downloaded 1d34a229e3313af3e484c96ef408f0e0.jpg\n",
      "2024-08-01 23:23:52,674 - INFO - Downloaded 8f3b30abf92305609821581f4e69d9ed.jpg\n",
      "2024-08-01 23:23:52,675 - INFO - Downloaded 567d931bbc540dbba805af5dfe7e4c37.jpg\n",
      "2024-08-01 23:23:52,686 - INFO - Downloaded c3d325111a28d13b49f194cf31a8a86e.jpg\n",
      "2024-08-01 23:23:52,694 - INFO - Downloaded 9423244220ffcd429e04b3589b00fc41.jpg\n",
      "2024-08-01 23:23:52,694 - INFO - Downloaded 15acea05e547996d29b40a9d8fc86f9b.jpg\n",
      "2024-08-01 23:23:52,698 - INFO - Downloaded b000937ef49a1f95def22ea702cca910.jpg\n",
      "2024-08-01 23:23:52,705 - INFO - Downloaded 68e2f734709fd502a1323b633d71e8fa.jpg\n",
      "2024-08-01 23:23:52,716 - INFO - Downloaded 00767d4d15ac4bc7258096399095115c.jpg\n",
      "2024-08-01 23:23:52,734 - INFO - Downloaded 62802e7029f42af349ee519b9014817b.jpg\n",
      "2024-08-01 23:23:52,738 - INFO - Downloaded cf4ebff93fcac83f9249a1388bb9d547.jpg\n",
      "2024-08-01 23:23:52,745 - INFO - Downloaded 1825e27dcf809477730239a63f2cb157.jpg\n",
      "2024-08-01 23:23:52,772 - INFO - Downloaded 247bc4dbd601d28397c2574409498f4c.jpg\n",
      "2024-08-01 23:23:52,776 - INFO - Downloaded 1aee5e2deec87cbc87ec3705171d9131.jpg\n",
      "2024-08-01 23:23:52,796 - INFO - Downloaded cdb9f2223dbc4591b184a309588ea0af.jpg\n",
      "2024-08-01 23:23:52,825 - INFO - Downloaded dca1672c7bc0bc73b5b712bad513de7f.jpg\n",
      "2024-08-01 23:23:52,856 - INFO - Downloaded dbaa07235c8de5c8b388dbbc4ddd49b1.jpg\n",
      "2024-08-01 23:23:52,857 - INFO - Downloaded 64186d9a57d090a41790947ffd20d761.jpg\n",
      "2024-08-01 23:23:52,871 - INFO - Downloaded 1c98d7f55ae623a247d19906d50df1db.jpg\n",
      "2024-08-01 23:23:52,873 - INFO - Downloaded 70d087dc370d616925b736863bfd938b.jpg\n",
      "2024-08-01 23:23:52,873 - INFO - Downloaded 4878cf3cd78aecacddd7f3632b64739c.jpg\n",
      "2024-08-01 23:23:52,888 - INFO - Downloaded b550a4bc8b997bff663ba9ca7cf76a86.jpg\n",
      "2024-08-01 23:23:52,895 - INFO - Downloaded 31e0046576d7bcb759453802a9ecbb84.jpg\n",
      "2024-08-01 23:23:52,925 - INFO - Downloaded 93641f099198150a985b4e2027bdc0a3.jpg\n",
      "2024-08-01 23:23:52,929 - INFO - Downloaded 1aa2e77f42ca8444c44d8707dab11530.jpg\n",
      "2024-08-01 23:23:52,934 - INFO - Downloaded 53cd82e314b164141446024bad4ac06a.jpg\n",
      "2024-08-01 23:23:52,942 - INFO - Downloaded d241a1033ce634ee40b8dc0734f6d5ec.jpg\n",
      "2024-08-01 23:23:52,976 - INFO - Downloaded c296d07d1a3cfddfa614a5f926bb4a8c.jpg\n",
      "2024-08-01 23:23:52,987 - INFO - Downloaded 51c4365b3ed56ae65a34212978282eff.jpg\n",
      "2024-08-01 23:23:52,987 - INFO - Downloaded ed353da1dcabb71236a86b1ea4bb28cd.jpg\n",
      "2024-08-01 23:23:52,989 - INFO - Downloaded b3fac87aff6d90c1238d86e54fb5377b.jpg\n",
      "2024-08-01 23:23:52,996 - INFO - Downloaded dfa888436b5fcac4c327610eb58647e4.jpg\n",
      "2024-08-01 23:23:53,002 - INFO - Downloaded 5c90bb4f896ff6208d491337d5233695.jpg\n",
      "2024-08-01 23:23:53,011 - INFO - Downloaded ad30dc0bed645b185e22851f69b74d78.jpg\n",
      "2024-08-01 23:23:53,012 - INFO - Downloaded 3524accf8332e59faf80d63eaf02f29e.jpg\n",
      "2024-08-01 23:23:53,041 - INFO - Downloaded 6272a018c654820bd81d0b9ffa101649.jpg\n",
      "2024-08-01 23:23:53,057 - INFO - Downloaded bc37eabfba3c87bd62956dc8638280e4.jpg\n",
      "2024-08-01 23:23:53,060 - INFO - Downloaded 1a401992e229a38f555c688f862f2c44.jpg\n",
      "2024-08-01 23:23:53,087 - INFO - Downloaded 98df7751a0101b6c24dff89b8add631f.jpg\n",
      "2024-08-01 23:23:53,093 - INFO - Downloaded 297746ccd9014bdd9cf42bbec01b4c46.jpg\n",
      "2024-08-01 23:23:53,097 - INFO - Downloaded 1fa773bc9f2f353226971af4de9744ed.jpg\n",
      "2024-08-01 23:23:53,105 - INFO - Downloaded 44da087e248e80d82c5ad18375bb53f8.jpg\n",
      "2024-08-01 23:23:53,120 - INFO - Downloaded 1b9cd557e9a196158d3cd7fe252e8ade.jpg\n",
      "2024-08-01 23:23:53,130 - INFO - Downloaded 969d2e5a02d62745344286c5f5c2d5e3.jpg\n",
      "2024-08-01 23:23:53,138 - INFO - Downloaded 00b370de60a931180e7a68b9cca5dc4c.jpg\n",
      "2024-08-01 23:23:53,144 - INFO - Downloaded 99430eb31ee00838ebabc8a716865f0a.jpg\n",
      "2024-08-01 23:23:53,152 - INFO - Downloaded 66d85df852b6934d58b636e23382f368.jpg\n",
      "2024-08-01 23:23:53,164 - INFO - Downloaded 169c1fd2b825a3f17a38dff9aeabacc5.jpg\n",
      "2024-08-01 23:23:53,179 - INFO - Downloaded 5b58350fb50784e80f21464339e084fa.jpg\n",
      "2024-08-01 23:23:53,194 - INFO - Downloaded b80fd21efa55f2b5cf7990dea38583ed.jpg\n",
      "2024-08-01 23:23:53,203 - INFO - Downloaded c40b7b53f92a5392eb59e44939035dad.jpg\n",
      "2024-08-01 23:23:53,207 - INFO - Downloaded 210d77b3d0822e8a5271504022913b23.jpg\n",
      "2024-08-01 23:23:53,219 - INFO - Downloaded 2b41f76384c48bd9156022f09e0aa6f6.jpg\n",
      "2024-08-01 23:23:53,258 - INFO - Downloaded 5f5b392211ba4452db4c726af77258d7.jpg\n",
      "2024-08-01 23:23:53,264 - INFO - Downloaded 91475ea61b3f5ef81b0ef3561398194c.jpg\n",
      "2024-08-01 23:23:53,265 - INFO - Downloaded e1f5b749d6d81f21cd5f25c34387f745.jpg\n",
      "2024-08-01 23:23:53,285 - INFO - Downloaded 326fff9516d8278603760386321c8b3e.jpg\n",
      "2024-08-01 23:23:53,293 - INFO - Downloaded 74f34cec3041fa07610ae345319f2624.jpg\n",
      "2024-08-01 23:23:53,310 - INFO - Downloaded 6ba90a8c31224dc7c2e2a93710843d71.jpg\n",
      "2024-08-01 23:23:53,311 - INFO - Downloaded 7c3863cf4af0c392c011db964714871e.jpg\n",
      "2024-08-01 23:23:53,318 - INFO - Downloaded c935845b4e956dba9876314c5bdf7ef0.jpg\n",
      "2024-08-01 23:23:53,319 - INFO - Downloaded 09d31ed012ddbdeeef8c53b5fba8a7d4.jpg\n",
      "2024-08-01 23:23:53,327 - INFO - Downloaded 5a1d297e79282ea1f6391359e1cbccfb.jpg\n",
      "2024-08-01 23:23:53,328 - INFO - Downloaded d40cf97d20a2e112c723596fd52d0042.jpg\n",
      "2024-08-01 23:23:53,336 - INFO - Downloaded 315a962020389475f71839a6d430cf1b.jpg\n",
      "2024-08-01 23:23:53,353 - INFO - Downloaded 76d33d31f24e45ba160da673bc0fa98d.jpg\n",
      "2024-08-01 23:23:53,356 - INFO - Downloaded 3e7c21d4aa471c08517e0b8840a62316.jpg\n",
      "2024-08-01 23:23:53,385 - INFO - Downloaded a414b6deae1433939d94dfdc66e7059b.jpg\n",
      "2024-08-01 23:23:53,389 - INFO - Downloaded 12593a6fb917201b3dd99d4c701754a1.jpg\n",
      "2024-08-01 23:23:53,402 - INFO - Downloaded 0f35f438755a2084dce1f2a235c0b1c4.jpg\n",
      "2024-08-01 23:23:53,406 - INFO - Downloaded 55226f5bcb5d6c88e2f9e095bab273b9.jpg\n",
      "2024-08-01 23:23:53,406 - INFO - Downloaded 6baaad7a516f535b4fc0d0451cca3d16.jpg\n",
      "2024-08-01 23:23:53,424 - INFO - Downloaded 0d7bfc78b1c2131fb566509f7c16dfa0.jpg\n",
      "2024-08-01 23:23:53,429 - INFO - Downloaded bddf1e08d79839c9d21f2219bb248f55.jpg\n",
      "2024-08-01 23:23:53,438 - INFO - Downloaded e336df100d89d61e0300fa87c6fb567e.jpg\n",
      "2024-08-01 23:23:53,441 - INFO - Downloaded c98849e879a4e66152cf019f5c511e0d.jpg\n",
      "2024-08-01 23:23:53,467 - INFO - Downloaded 49281ac1fe040648b4bde2386603489c.jpg\n",
      "2024-08-01 23:23:53,469 - INFO - Downloaded e3fdb2bf4ceb8e17e42e76d2f2b71339.jpg\n",
      "2024-08-01 23:23:53,473 - INFO - Downloaded 5211a5b974285c05809f5072710ad7de.jpg\n",
      "2024-08-01 23:23:53,507 - INFO - Downloaded f284cb34414d923b03b660dcf2ba5b9a.jpg\n",
      "2024-08-01 23:23:53,517 - INFO - Downloaded 8036e439bfdc34814fffb15f36a74dc2.jpg\n",
      "2024-08-01 23:23:53,521 - INFO - Downloaded 7b6a62f79c1e48697b31d072dd9b2ab6.jpg\n",
      "2024-08-01 23:23:53,522 - INFO - Downloaded 9f940bea3e00ca4c48569990d1c9500e.jpg\n",
      "2024-08-01 23:23:53,538 - INFO - Downloaded 0426561ac3375863ab105cb8293d7ebc.jpg\n",
      "2024-08-01 23:23:53,539 - INFO - Downloaded cd7beabedaded4768c99fda996ab90ac.jpg\n",
      "2024-08-01 23:23:53,549 - INFO - Downloaded 7ff3dc8592da79379f1f5542100f50c0.jpg\n",
      "2024-08-01 23:23:53,556 - INFO - Downloaded f7c865bed0f647f7aeea308655058304.jpg\n",
      "2024-08-01 23:23:53,558 - INFO - Downloaded e89e9ae3266ec85c68acbd27f8d8cef4.jpg\n"
     ]
    },
    {
     "name": "stderr",
     "output_type": "stream",
     "text": [
      "2024-08-01 23:23:53,565 - INFO - Downloaded 7ebbac64362966e2b997dcb93c1feec1.jpg\n",
      "2024-08-01 23:23:53,590 - INFO - Downloaded 7fc896e0e1cad584f2af5bce6c72cb11.jpg\n",
      "2024-08-01 23:23:53,590 - INFO - Downloaded 959c13efd09ea3667d5ef0c5e4a4c5bf.jpg\n",
      "2024-08-01 23:23:53,593 - INFO - Downloaded 0ab2c0560e9dd4754bc9f3dd7704d7b0.jpg\n",
      "2024-08-01 23:23:53,619 - INFO - Downloaded ae1c83cc16f385e320a58bb4450e272d.jpg\n",
      "2024-08-01 23:23:53,651 - INFO - Downloaded c252753dfa442c153e9ac48c4897e848.jpg\n",
      "2024-08-01 23:23:53,656 - INFO - Downloaded 22fb2f42ca3b377a5b37921d856557a2.jpg\n",
      "2024-08-01 23:23:53,672 - INFO - Downloaded 4d159a6c9df9ea1fd73628a8c2372904.jpg\n",
      "2024-08-01 23:23:53,676 - INFO - Downloaded 24de136f4703e96456a4e620078586ae.jpg\n",
      "2024-08-01 23:23:53,685 - INFO - Downloaded 9605512674918642099863a437269d28.jpg\n",
      "2024-08-01 23:23:53,685 - INFO - Downloaded 2da6aab274400b9bc85261834fd60b96.jpg\n",
      "2024-08-01 23:23:53,685 - INFO - Downloaded 234e78c9d39e41c0e676136fcd1cf32c.jpg\n",
      "2024-08-01 23:23:53,688 - INFO - Downloaded d95934585da1818808ea0cc07c7fdbb6.jpg\n",
      "2024-08-01 23:23:53,705 - INFO - Downloaded e8ebf8620e2209741ee617cde9a75cfe.jpg\n",
      "2024-08-01 23:23:53,707 - INFO - Downloaded b246e57547c2408dc011a325c2b48ca5.jpg\n",
      "2024-08-01 23:23:53,713 - INFO - Downloaded 0de573771a1d1fcae61bc026ec058377.jpg\n",
      "2024-08-01 23:23:53,732 - INFO - Downloaded eead21a2ce2c0dde0216a18ed97fdf5d.jpg\n",
      "2024-08-01 23:23:53,739 - INFO - Downloaded 464fa38b23add2057cbfda64414e3371.jpg\n",
      "2024-08-01 23:23:53,751 - INFO - Downloaded 67f858c507ecebcfda24fa3dcab64053.jpg\n",
      "2024-08-01 23:23:53,776 - INFO - Downloaded 9529bc486bdea2214b2f18ff35e40d3a.jpg\n",
      "2024-08-01 23:23:53,807 - INFO - Downloaded 240a7223cb5aad6f681328ee66712eb2.jpg\n",
      "2024-08-01 23:23:53,807 - INFO - Downloaded f159878ee10a766da59a11fe7df97b3d.jpg\n",
      "2024-08-01 23:23:53,813 - INFO - Downloaded cdd531e549a006fa941a27cbce51fa79.jpg\n",
      "2024-08-01 23:23:53,822 - INFO - Downloaded 1235f7e7649ac6198ae96f926090d83c.jpg\n",
      "2024-08-01 23:23:53,824 - INFO - Downloaded 6fce058be0f3db26e3d9a528ef1c826f.jpg\n",
      "2024-08-01 23:23:53,826 - INFO - Downloaded 0731ca8b452e00286342af699421fe95.jpg\n",
      "2024-08-01 23:23:53,828 - INFO - Downloaded 181d3db3f748588449f722cc4d4e2d36.jpg\n",
      "2024-08-01 23:23:53,839 - INFO - Downloaded 576ba43bd13aaa8f289ac2a81bccd79a.jpg\n",
      "2024-08-01 23:23:53,851 - INFO - Downloaded ea0883f55185b56b3f3bb53c761d3fbb.jpg\n",
      "2024-08-01 23:23:53,863 - INFO - Downloaded 05aff3956746404cfc8ebec86963b494.jpg\n",
      "2024-08-01 23:23:53,872 - INFO - Downloaded 39fb65b729a01649123c36c00737e20b.jpg\n",
      "2024-08-01 23:23:53,880 - INFO - Downloaded bf157219fe7a048bc858e6af0a59215a.jpg\n",
      "2024-08-01 23:23:53,909 - INFO - Downloaded a6f2a235be20f652efe4c2cac3c792a4.jpg\n",
      "2024-08-01 23:23:53,915 - INFO - Downloaded 94b5ac757254c837d67db4584d158018.jpg\n",
      "2024-08-01 23:23:53,928 - INFO - Downloaded 60b4dfd4f140cca0fb5aeefe01cec3b3.jpg\n",
      "2024-08-01 23:23:53,938 - INFO - Downloaded 6bc064234602f1b99b18b607d9cbbc4b.jpg\n",
      "2024-08-01 23:23:53,941 - INFO - Downloaded da378134799ce1e0f0c444d2f4ada2f0.jpg\n",
      "2024-08-01 23:23:53,971 - INFO - Downloaded cc9041db5a4a7f30fdfb479f41d31cfe.jpg\n",
      "2024-08-01 23:23:53,971 - INFO - Downloaded aa9bfcc8b650fe84905a1bff59ad49d8.jpg\n",
      "2024-08-01 23:23:53,985 - INFO - Downloaded 231787243b46e59209eb8efa321696f3.jpg\n",
      "2024-08-01 23:23:53,987 - INFO - Downloaded 5c3985a927fa8acfeff604981344b876.jpg\n",
      "2024-08-01 23:23:54,005 - INFO - Downloaded cd2348d7aa9f8f08b69700a80f9fac20.jpg\n",
      "2024-08-01 23:23:54,007 - INFO - Downloaded c6f404ae0fd67ca86a17b87d55cf1c2c.jpg\n",
      "2024-08-01 23:23:54,020 - INFO - Downloaded 95792f2e18f09478f3efd1a7992f6b0c.jpg\n",
      "2024-08-01 23:23:54,024 - INFO - Downloaded c1b4165abd8a5a5cfc502c7430d4e3c7.jpg\n",
      "2024-08-01 23:23:54,026 - INFO - Downloaded fa5e991054edb2a4eaacba0697f4b3d1.jpg\n",
      "2024-08-01 23:23:54,054 - INFO - Downloaded 96f82e7803661229290bb64ffc27f16a.jpg\n",
      "2024-08-01 23:23:54,060 - INFO - Downloaded af771e19b9faf7e1549fb9fb80c7419d.jpg\n",
      "2024-08-01 23:23:54,068 - INFO - Downloaded 103476b7ce86e0679f40c8327413db0a.jpg\n",
      "2024-08-01 23:23:54,083 - INFO - Downloaded fd3811dcc8d779b24b92a60108a08278.jpg\n",
      "2024-08-01 23:23:54,088 - INFO - Downloaded 38cc7b2806990a7056467358f562153d.jpg\n",
      "2024-08-01 23:23:54,100 - INFO - Downloaded 92f2d853ea3e3ed887383491f8c51ae0.jpg\n",
      "2024-08-01 23:23:54,113 - INFO - Downloaded fa80899335cf99c55536436f09e2281a.jpg\n",
      "2024-08-01 23:23:54,121 - INFO - Downloaded 3070dfcec100af6ac614aff62cdb7ac4.jpg\n",
      "2024-08-01 23:23:54,122 - INFO - Downloaded f91176760a60562aa15a4efc0489d292.jpg\n",
      "2024-08-01 23:23:54,129 - INFO - Downloaded db5fb1a0f3a414422218d15b4cdf29e1.jpg\n",
      "2024-08-01 23:23:54,142 - INFO - Downloaded 401427cfc1193eac7af979e2c5f3fc3a.jpg\n",
      "2024-08-01 23:23:54,160 - INFO - Downloaded 6a409735a4572dc5dab793531f8084b0.jpg\n",
      "2024-08-01 23:23:54,170 - INFO - Downloaded de12fb2b5e38061112da23d806914430.jpg\n",
      "2024-08-01 23:23:54,174 - INFO - Downloaded 11afc315fa80e190b816f3e2d0270257.jpg\n",
      "2024-08-01 23:23:54,185 - INFO - Downloaded 5c41cb73ab8723aad28a01119dc54c69.jpg\n",
      "2024-08-01 23:23:54,192 - INFO - Downloaded 766999d2d276eb07852a85d2b460609a.jpg\n",
      "2024-08-01 23:23:54,219 - INFO - Downloaded bd058a722d8e470b72ba64ef1592a97e.jpg\n",
      "2024-08-01 23:23:54,227 - INFO - Downloaded 0e28f9bfae1b2703ad60aa73d3abd688.jpg\n",
      "2024-08-01 23:23:54,252 - INFO - Downloaded 16e1a68f727f3f5e65a98e361c8ca8c5.jpg\n",
      "2024-08-01 23:23:54,267 - INFO - Downloaded 1abb3c93457abbd171349ef823176d72.jpg\n",
      "2024-08-01 23:23:54,272 - INFO - Downloaded 96ada34eda1768e3e94ff38e767df74f.jpg\n",
      "2024-08-01 23:23:54,283 - INFO - Downloaded cdfac8e3208fb8cb66f30c37ee70f539.jpg\n",
      "2024-08-01 23:23:54,295 - INFO - Downloaded 92cbebc57585b3a6e9ca2fecdfe2e1e8.jpg\n",
      "2024-08-01 23:23:54,301 - INFO - Downloaded a6781cfe618a83c5ea093b144497066b.jpg\n",
      "2024-08-01 23:23:54,309 - INFO - Downloaded aeef071935f4f4da3e9fd337fbe2bdd9.jpg\n",
      "2024-08-01 23:23:54,316 - INFO - Downloaded 18de5f9d5603417f12fc36caa3f77fa5.jpg\n",
      "2024-08-01 23:23:54,348 - INFO - Downloaded 6315da4f76f17da39a973ba089b39c66.jpg\n",
      "2024-08-01 23:23:54,348 - INFO - Downloaded f807a16a4da97b0e2aaa10d1e79d53f2.jpg\n",
      "2024-08-01 23:23:54,349 - INFO - Downloaded 9deb3825d720967eaf6b8cf0d3fbc8a8.jpg\n",
      "2024-08-01 23:23:54,352 - INFO - Downloaded 0d89baf4c10dc389944d1f2486f19281.jpg\n",
      "2024-08-01 23:23:54,371 - INFO - Downloaded 6142c20ea7d61787820d19a77564573b.jpg\n",
      "2024-08-01 23:23:54,379 - INFO - Downloaded 30f7732bbb04f1a8b6726bde81864cc7.jpg\n",
      "2024-08-01 23:23:54,379 - INFO - Downloaded 794390fd3bc56d90c4dbbc3f368c0af4.jpg\n",
      "2024-08-01 23:23:54,385 - INFO - Downloaded 083249d85b1b4a7f3aa5a011644dc811.jpg\n",
      "2024-08-01 23:23:54,391 - INFO - Downloaded 18cd72ef7a7af91701d0600f648f33d1.jpg\n",
      "2024-08-01 23:23:54,422 - INFO - Downloaded 176dd194b28fc918eee4cee3d4e5396a.jpg\n",
      "2024-08-01 23:23:54,423 - INFO - Downloaded a90f181dc46fe463eeed34d458d55d26.jpg\n",
      "2024-08-01 23:23:54,463 - INFO - Downloaded 9e8dfbb2a4d5064ab02e68b896720211.jpg\n",
      "2024-08-01 23:23:54,470 - INFO - Downloaded ebedbdb6cfea1505bd7e8e5020e38ce4.jpg\n",
      "2024-08-01 23:23:54,473 - INFO - Downloaded f7a3df5725605bcb52acc44ed728a004.jpg\n",
      "2024-08-01 23:23:54,473 - INFO - Downloaded c8c654336f429437f94c4eb4242b5e03.png\n",
      "2024-08-01 23:23:54,493 - INFO - Downloaded cfaf62db3d15b4d182ecb34de5e45497.jpg\n",
      "2024-08-01 23:23:54,511 - INFO - Downloaded 27d0793460d6bc51062e53d4951f2908.jpg\n",
      "2024-08-01 23:23:54,512 - INFO - Downloaded 2272ff8d67af7b3439c7278cc69b53d5.jpg\n",
      "2024-08-01 23:23:54,516 - INFO - Downloaded 5a2e34e2ebf204ab8bfcad75397284cc.jpg\n",
      "2024-08-01 23:23:54,532 - INFO - Downloaded b4c0afa3893da67271cb53a936ca65d5.jpg\n",
      "2024-08-01 23:23:54,533 - INFO - Downloaded ab2961b743c41d7f1c498d6322527263.jpg\n",
      "2024-08-01 23:23:54,541 - INFO - Downloaded 07d5259ef1ca530184ce9e07361549c9.jpg\n",
      "2024-08-01 23:23:54,558 - INFO - Downloaded fe43f2a40fe07997908bbe4c81b07522.jpg\n",
      "2024-08-01 23:23:54,560 - INFO - Downloaded 37a60fdbc91ecd5b64bbf965683bfd6a.jpg\n",
      "2024-08-01 23:23:54,566 - INFO - Downloaded 495bbe7d7d781167175266d5c2291b83.jpg\n",
      "2024-08-01 23:23:54,572 - INFO - Downloaded 180cf855ff546e813221eaa1b6cdac0c.jpg\n",
      "2024-08-01 23:23:54,591 - INFO - Downloaded cbe2df223cdb51775518e4732f7f4da8.jpg\n",
      "2024-08-01 23:23:54,603 - INFO - Downloaded 712015e668e5073724372f379994a0cb.jpg\n",
      "2024-08-01 23:23:54,610 - INFO - Downloaded 17dbd43cee3c254492cb8ff18c123cf6.jpg\n",
      "2024-08-01 23:23:54,635 - INFO - Downloaded d08d5b746a28b519790feeda9c8fa33f.jpg\n"
     ]
    },
    {
     "name": "stderr",
     "output_type": "stream",
     "text": [
      "2024-08-01 23:23:54,644 - INFO - Downloaded 4edcd3a92efe18bf513d63a6e405c5f8.jpg\n",
      "2024-08-01 23:23:54,649 - INFO - Downloaded 3ac3a350509395fceeb52aa3996886a9.jpg\n",
      "2024-08-01 23:23:54,660 - INFO - Downloaded 0322e101cbff9d0ad171e6a9a5aea1e7.jpg\n",
      "2024-08-01 23:23:54,672 - INFO - Downloaded 864c5f75c4dbff2b05da0e6e35330b77.jpg\n",
      "2024-08-01 23:23:54,687 - INFO - Downloaded d9752e57567fe5ac2d74addc8fa93584.jpg\n",
      "2024-08-01 23:23:54,703 - INFO - Downloaded 2eec3b472afc5b4ce338d80b481ec57a.jpg\n",
      "2024-08-01 23:23:54,705 - INFO - Downloaded 358a3c63bcbc86bbca7f42b99a8ba75b.jpg\n",
      "2024-08-01 23:23:54,707 - INFO - Downloaded 4af52fb0998a71084bcc689e7e836308.jpg\n",
      "2024-08-01 23:23:54,721 - INFO - Downloaded 96c80fcd97b936f7d594389c2011f385.jpg\n",
      "2024-08-01 23:23:54,737 - INFO - Downloaded 3b2b3f836cde980cd344fe802c8578de.jpg\n",
      "2024-08-01 23:23:54,754 - INFO - Downloaded d60dc9db0cbb5d7f93c5b24603a382f5.jpg\n",
      "2024-08-01 23:23:54,756 - INFO - Downloaded fdda173b9478210ae17dd5014514f6db.jpg\n",
      "2024-08-01 23:23:54,757 - INFO - Downloaded 78a0c964d8c263047f0dc0796d92e13d.jpg\n",
      "2024-08-01 23:23:54,835 - INFO - Downloaded 4c9b43a7e223c522e93f9d068d122747.jpg\n",
      "2024-08-01 23:23:54,837 - INFO - Downloaded ba4ce2551dfaa812d7296760cda50d24.jpg\n",
      "2024-08-01 23:23:54,841 - INFO - Downloaded eea1d4ac2b449df0ece1b3055f676ac5.jpg\n",
      "2024-08-01 23:23:54,850 - INFO - Downloaded 346264a15f29ee648da64c336fe699f3.jpg\n",
      "2024-08-01 23:23:54,850 - INFO - Downloaded 06f73ea7e62fa09251942385a54e55ac.jpg\n",
      "2024-08-01 23:23:54,857 - INFO - Downloaded f47a97c11cfdede671a6d62af183d758.jpg\n",
      "2024-08-01 23:23:54,865 - INFO - Downloaded 0265422981bb3f66d540ab66abf592d3.jpg\n",
      "2024-08-01 23:23:54,867 - INFO - Downloaded f3f207fb5acb38489e5a3c8da293e9ba.jpg\n",
      "2024-08-01 23:23:54,875 - INFO - Downloaded 8230fe542636b7f873bb022428be4e39.jpg\n",
      "2024-08-01 23:23:54,889 - INFO - Downloaded ac9ff0abb8f929160aeaa8ae1dda1e52.jpg\n",
      "2024-08-01 23:23:54,890 - INFO - Downloaded 2f39df16a4faf12ec57fc17d520256b1.jpg\n",
      "2024-08-01 23:23:54,896 - INFO - Downloaded daeed16c1346c90775aed4a85a7b5733.jpg\n",
      "2024-08-01 23:23:54,916 - INFO - Downloaded 13dd77cc0e7f19f88b4c216f9bb9c532.jpg\n",
      "2024-08-01 23:23:54,925 - INFO - Downloaded 752720a0155efa4f773dec22c62b57e5.jpg\n",
      "2024-08-01 23:23:54,926 - INFO - Downloaded 02d816fba813ef3efc50fc522843c67b.jpg\n",
      "2024-08-01 23:23:54,928 - INFO - Downloaded 265cb304c0c3327b284b5f452b03e526.jpg\n",
      "2024-08-01 23:23:54,931 - INFO - Downloaded 3f64947c48c936cdaf52ead96de591c3.jpg\n",
      "2024-08-01 23:23:54,938 - INFO - Downloaded d0cc8595a2dacbee1f79d035a74bdd03.jpg\n",
      "2024-08-01 23:23:54,975 - INFO - Downloaded d20fa6f1bb1aa3a4715437dce909de3d.jpg\n",
      "2024-08-01 23:23:54,978 - INFO - Downloaded 2a515a708b3f0656401df2bf0dc7dfc0.jpg\n",
      "2024-08-01 23:23:54,998 - INFO - Downloaded 8a6535776534a9de45e86afb56593c95.jpg\n",
      "2024-08-01 23:23:55,009 - INFO - Downloaded 0645d9ff509018d720f3fd5da542cad1.jpg\n",
      "2024-08-01 23:23:55,012 - INFO - Downloaded 0cc1c5da61a604d0f103f4d432977419.jpg\n",
      "2024-08-01 23:23:55,017 - INFO - Downloaded f9ebca72fba1345908e4b86087d99a9e.jpg\n",
      "2024-08-01 23:23:55,026 - INFO - Downloaded 69eb6985e65313b28fd988c2dfc23cc9.jpg\n",
      "2024-08-01 23:23:55,039 - INFO - Downloaded 44d8820483e04374a4fa1d35ba75f5fb.jpg\n",
      "2024-08-01 23:23:55,055 - INFO - Downloaded 72028360797055120844fd6e7e806565.jpg\n",
      "2024-08-01 23:23:55,057 - INFO - Downloaded a527c192d319259178d1627410f2c80f.jpg\n",
      "2024-08-01 23:23:55,058 - INFO - Downloaded 7cced0dd0c65d122f37bdd44888aa634.jpg\n",
      "2024-08-01 23:23:55,064 - INFO - Downloaded c9f8b42aaaa9e3b697af40d6451f53e0.jpg\n",
      "2024-08-01 23:23:55,081 - INFO - Downloaded c4c8bdb06adca668a6e77b02408c1c1c.jpg\n",
      "2024-08-01 23:23:55,106 - INFO - Downloaded 41da875d73c7df8d55edf8d973b35759.jpg\n",
      "2024-08-01 23:23:55,127 - INFO - Downloaded 8a109bb2d04f22dd53b05bf04e1b8a4e.jpg\n",
      "2024-08-01 23:23:55,130 - INFO - Downloaded a9b5b0e385ce750c17a283d6dafb3076.jpg\n",
      "2024-08-01 23:23:55,140 - INFO - Downloaded 7096b8b8012a936d3cca8ebe97be9b2d.jpg\n",
      "2024-08-01 23:23:55,154 - INFO - Downloaded 5a879dd7ffc7c1f7013369aec4c6542b.jpg\n",
      "2024-08-01 23:23:55,177 - INFO - Downloaded bf3932230230e2dd1ce480ec86cea859.jpg\n",
      "2024-08-01 23:23:55,182 - INFO - Downloaded 9ce07d5a03801eb2e3d59df4f34534f9.jpg\n",
      "2024-08-01 23:23:55,189 - INFO - Downloaded ed9f8d149abd453e2741754f69748773.jpg\n",
      "2024-08-01 23:23:55,191 - INFO - Downloaded a806ea6b17c124bc95668ace794963ce.jpg\n",
      "2024-08-01 23:23:55,191 - INFO - Downloaded 1068ab2085a33c3d49d824f55ab3396e.jpg\n",
      "2024-08-01 23:23:55,193 - INFO - Downloaded ff6e32cd0e51701ac1c4632250f757aa.jpg\n",
      "2024-08-01 23:23:55,234 - INFO - Downloaded 7765bbfd7e786e22b5173d0e8584e7b1.jpg\n",
      "2024-08-01 23:23:55,238 - INFO - Downloaded 149f39f5e2b4e0586f802b5d04bf4c6f.jpg\n",
      "2024-08-01 23:23:55,240 - INFO - Downloaded d0f3eb32d4e0b393b6f835f80bdc1d6a.jpg\n",
      "2024-08-01 23:23:55,241 - INFO - Downloaded d71d77e10e9cd2dd2bfdadd76e15ca73.jpg\n",
      "2024-08-01 23:23:55,280 - INFO - Downloaded 06d4a42a9527da683e922388a11a66d2.jpg\n",
      "2024-08-01 23:23:55,281 - INFO - Downloaded 72d8ec9a7593a4387745fb14c14dd50c.jpg\n",
      "2024-08-01 23:23:55,282 - INFO - Downloaded 62ca9849f52a0575b2007e4ee0fa548e.jpg\n",
      "2024-08-01 23:23:55,311 - INFO - Downloaded a89451cd5fa4cc2b9ba4716e8f820da3.jpg\n",
      "2024-08-01 23:23:55,317 - INFO - Downloaded 938d836e37502f379faf5bb2069dca03.jpg\n",
      "2024-08-01 23:23:55,324 - INFO - Downloaded c25874ae13346427895d5f1572ccb1cf.jpg\n",
      "2024-08-01 23:23:55,326 - INFO - Downloaded 4f0dc6c7e041e335964052fa82bd3931.jpg\n",
      "2024-08-01 23:23:55,327 - INFO - Downloaded 17fbe6f04736109651f6c8a6d83aee99.jpg\n",
      "2024-08-01 23:23:55,353 - INFO - Downloaded 648de71ccd6253d3b0c0fc1b9821ce32.jpg\n",
      "2024-08-01 23:23:55,355 - INFO - Downloaded db06c727c2b637349de43434b4c55286.jpg\n",
      "2024-08-01 23:23:55,370 - INFO - Downloaded 33a85a84ec0a39e39bf0de760f23c57e.jpg\n",
      "2024-08-01 23:23:55,375 - INFO - Downloaded 25f54eb05d61cd297a6ac8cdd43b34ef.jpg\n",
      "2024-08-01 23:23:55,376 - INFO - Downloaded 38e99db3264fdd41b38ae82eedafb720.jpg\n",
      "2024-08-01 23:23:55,376 - INFO - Downloaded 345e7c8028fdb33ee9e3fb963afbe25b.jpg\n",
      "2024-08-01 23:23:55,382 - INFO - Downloaded 073ace43c43075e037acdc9330a5dda1.jpg\n",
      "2024-08-01 23:23:55,411 - INFO - Downloaded 90cafff2fe4d2866c2144ed0206ae7af.jpg\n",
      "2024-08-01 23:23:55,413 - INFO - Downloaded d48c39a09fa2948cb3d45f8557e8eedb.jpg\n",
      "2024-08-01 23:23:55,443 - INFO - Downloaded 89b2897274fac6efc677a44cba14db97.jpg\n",
      "2024-08-01 23:23:55,466 - INFO - Downloaded bf342ebc4873e165c0d82bf31c607eb0.jpg\n",
      "2024-08-01 23:23:55,467 - INFO - Downloaded 82b1921ef69f22c338cd9dbb606702ed.jpg\n",
      "2024-08-01 23:23:55,468 - INFO - Downloaded bc6ef8826b10523ecceb4e0026061bf1.jpg\n",
      "2024-08-01 23:23:55,470 - INFO - Downloaded 7041c1fb7a4df08579d1de40abc3d5ee.jpg\n",
      "2024-08-01 23:23:55,482 - INFO - Downloaded adb9a266a24f338bc9a986e49d63acf9.jpg\n",
      "2024-08-01 23:23:55,496 - INFO - Downloaded 8f8d151fbd0baad16373b53933e5c25e.jpg\n",
      "2024-08-01 23:23:55,503 - INFO - Downloaded 4b88246472955f398c4e9c0e17010f6b.jpg\n",
      "2024-08-01 23:23:55,515 - INFO - Downloaded a1f73faaa4f39724cf8d3f3bf298c846.jpg\n",
      "2024-08-01 23:23:55,517 - INFO - Downloaded dc9803f88bb18ac14390f7a9065fd630.jpg\n",
      "2024-08-01 23:23:55,520 - INFO - Downloaded 64ee1c505463b287e23ee9685815247e.jpg\n",
      "2024-08-01 23:23:55,526 - INFO - Downloaded 301b37877e3752b97f515c32e1841325.jpg\n",
      "2024-08-01 23:23:55,563 - INFO - Downloaded 93ed0893bdeb610eb068eb873f0a8047.jpg\n",
      "2024-08-01 23:23:55,571 - INFO - Downloaded 29e166666b845221268f117f5452e98f.jpg\n",
      "2024-08-01 23:23:55,573 - INFO - Downloaded 6ba9cb0c26cefbffc09b1e88427f5f70.jpg\n",
      "2024-08-01 23:23:55,576 - INFO - Downloaded 480c25b3bb08384b32683cd490a571e7.jpg\n",
      "2024-08-01 23:23:55,578 - INFO - Downloaded f395dfce6fe020db0e44a9c96eb15e86.jpg\n",
      "2024-08-01 23:23:55,583 - INFO - Downloaded 742808d8125f335f43d67e76a6e28ca9.jpg\n",
      "2024-08-01 23:23:55,587 - INFO - Downloaded 9afb8f2cbd162b9a88e659b6151981e1.jpg\n",
      "2024-08-01 23:23:55,609 - INFO - Downloaded e00cd10ff8f675cc9443979effea9899.jpg\n",
      "2024-08-01 23:23:55,617 - INFO - Downloaded 31cc165e7385fab39a0f648496caf090.jpg\n",
      "2024-08-01 23:23:55,625 - INFO - Downloaded 9c27a4e0224e75f997410741ced3518e.jpg\n",
      "2024-08-01 23:23:55,632 - INFO - Downloaded fbdff3efe30137058b9e9a0f1c714e9e.jpg\n",
      "2024-08-01 23:23:55,644 - INFO - Downloaded 229cfe378b4e733d5fa9850d2bcf5017.jpg\n",
      "2024-08-01 23:23:55,645 - INFO - Downloaded 48225e24bc5c4856612a79106c3d189e.jpg\n",
      "2024-08-01 23:23:55,651 - INFO - Downloaded 067debef9056a3939bc567469d3a7302.jpg\n"
     ]
    },
    {
     "name": "stderr",
     "output_type": "stream",
     "text": [
      "2024-08-01 23:23:55,663 - INFO - Downloaded 5af8922b0507f7148964a2cf4cede72b.jpg\n",
      "2024-08-01 23:23:55,674 - INFO - Downloaded 1342d2d0e52cd5f7398b4139727bd60f.jpg\n",
      "2024-08-01 23:23:55,682 - INFO - Downloaded ba000181a382d276052bd7e91da87d85.jpg\n",
      "2024-08-01 23:23:55,689 - INFO - Downloaded 46aad02c8b371cd0aac27c345dfeeb6c.jpg\n",
      "2024-08-01 23:23:55,708 - INFO - Downloaded 0ddc29ed897b944e887e173d7f0ef319.jpg\n",
      "2024-08-01 23:23:55,713 - INFO - Downloaded d83374204d795e604c5b8fc1927df937.jpg\n",
      "2024-08-01 23:23:55,724 - INFO - Downloaded fd6a15571c00c7ce13cc071282c627a3.jpg\n",
      "2024-08-01 23:23:55,757 - INFO - Downloaded 0ea80f74d6c9298b024e16f71cd0591f.jpg\n",
      "2024-08-01 23:23:55,758 - INFO - Downloaded 2fa60e0361f206f3c7eb4ffb283513f6.jpg\n",
      "2024-08-01 23:23:55,760 - INFO - Downloaded 83377adb68e296916953dbc3ffbe8ab1.jpg\n",
      "2024-08-01 23:23:55,784 - INFO - Downloaded 4d43e33fc13b3f73bf0af3b843a0c96e.jpg\n",
      "2024-08-01 23:23:55,788 - INFO - Downloaded 0c2f5f846ba026ae10ce2865ba0c3217.jpg\n",
      "2024-08-01 23:23:55,804 - INFO - Downloaded a16bc2119766da188d28004efc6b3ccf.jpg\n",
      "2024-08-01 23:23:55,806 - INFO - Downloaded db28d2483ff8b8beb4e360d245e910a3.jpg\n",
      "2024-08-01 23:23:55,812 - INFO - Downloaded b2a55e56adfb0a3983fbef0b21bd2bba.jpg\n",
      "2024-08-01 23:23:55,818 - INFO - Downloaded 89d3f4ac611dec6c4b9a44659adfa17d.jpg\n",
      "2024-08-01 23:23:55,821 - INFO - Downloaded e30a2d6b6be0bcf55c6d8d10d798f345.jpg\n",
      "2024-08-01 23:23:55,825 - INFO - Downloaded ad4e318093459f15f12fecd4312ded7d.jpg\n",
      "2024-08-01 23:23:55,848 - INFO - Downloaded f4c168e5ef4e17db10fd8aeaa4b87111.jpg\n",
      "2024-08-01 23:23:55,864 - INFO - Downloaded f0f586bd9042ee5b21769160ffc454d5.jpg\n",
      "2024-08-01 23:23:55,870 - INFO - Downloaded 9c1203cc5c4bb85127f3fa683a912225.jpg\n",
      "2024-08-01 23:23:55,898 - INFO - Downloaded 2538a012b3090e6a641a4769368dfc07.jpg\n",
      "2024-08-01 23:23:55,903 - INFO - Downloaded 5f966952605ea8ed9437d70571da665f.jpg\n",
      "2024-08-01 23:23:55,917 - INFO - Downloaded d8049ac1c44a7fed80aff62b38c6a6b9.jpg\n",
      "2024-08-01 23:23:55,927 - INFO - Downloaded 40674a239696474c181b60d6912f81b4.jpg\n",
      "2024-08-01 23:23:55,930 - INFO - Downloaded bcde215f272a86e2d894b6fcf75fd5d6.jpg\n",
      "2024-08-01 23:23:55,931 - INFO - Downloaded 1bee9435be57b069f50768c389c4fe7d.jpg\n",
      "2024-08-01 23:23:55,972 - INFO - Downloaded dd41c958d13c10e597ce4adf4f9e675b.jpg\n",
      "2024-08-01 23:23:55,973 - INFO - Downloaded 50d9f9ac24a7105b3cecd6cf7cf75cbf.jpg\n",
      "2024-08-01 23:23:55,974 - INFO - Downloaded 9f602b261b151b593abe173e1ab1991d.jpg\n",
      "2024-08-01 23:23:55,987 - INFO - Downloaded 75daf489ee5e92ceb37a7841bd1940b9.jpg\n",
      "2024-08-01 23:23:55,996 - INFO - Downloaded 133775ecf599d4c622ddcc971e52838d.png\n",
      "2024-08-01 23:23:56,002 - INFO - Downloaded 440012ec6efb13283b834f319dc6dad3.jpg\n",
      "2024-08-01 23:23:56,006 - INFO - Downloaded 9a093ad67598706aef130a0818146f6e.jpg\n",
      "2024-08-01 23:23:56,014 - INFO - Downloaded 40c24f0e99d3171eea537b9bcfaa0022.jpg\n",
      "2024-08-01 23:23:56,021 - INFO - Downloaded c6fa3c92798747e5ab2c55bcbcd7e272.jpg\n",
      "2024-08-01 23:23:56,042 - INFO - Downloaded 744946cf24a776286a9af70c096e13c0.jpg\n",
      "2024-08-01 23:23:56,051 - INFO - Downloaded 15b551c472cfad5574fd95dcfac8b8d8.jpg\n",
      "2024-08-01 23:23:56,092 - INFO - Downloaded 899096bb5f05a2dac273148b71ea6cfa.jpg\n",
      "2024-08-01 23:23:56,102 - INFO - Downloaded fa96f9a1ef1779f254ae678a03b52297.jpg\n",
      "2024-08-01 23:23:56,104 - INFO - Downloaded 9dfa671de3043095e8793396b1571e2f.jpg\n",
      "2024-08-01 23:23:56,112 - INFO - Downloaded 9251552061f2faf033018db5c44a55fe.jpg\n",
      "2024-08-01 23:23:56,116 - INFO - Downloaded 0f995bb52b46296f4e0749eccd23c783.jpg\n",
      "2024-08-01 23:23:56,122 - INFO - Downloaded 1173ec626162cdbe4502d7de3c398596.jpg\n",
      "2024-08-01 23:23:56,131 - INFO - Downloaded 33aef59d10e681a4c6be72254cfe522e.jpg\n",
      "2024-08-01 23:23:56,133 - INFO - Downloaded ca44da0b690b7efaa46d9b8ce7056a2e.jpg\n",
      "2024-08-01 23:23:56,145 - INFO - Downloaded 91b24609f87f1eeb0e931fd001f32d48.jpg\n",
      "2024-08-01 23:23:56,160 - INFO - Downloaded 4bc70e4b3148183e0bea741baf3a901a.jpg\n",
      "2024-08-01 23:23:56,161 - INFO - Downloaded f7ce13d9b63604a3ed54adbcc9b2c35f.jpg\n",
      "2024-08-01 23:23:56,164 - INFO - Downloaded a962b4b8be42342604f28d8e507770a7.jpg\n",
      "2024-08-01 23:23:56,193 - INFO - Downloaded 30291e1f0f7b76aa909511d909176a79.jpg\n",
      "2024-08-01 23:23:56,200 - INFO - Downloaded 39a32daff5ae7a616c33a1de5f021403.jpg\n",
      "2024-08-01 23:23:56,249 - INFO - Downloaded cac795999443b85cf02ba41b083eccdf.jpg\n",
      "2024-08-01 23:23:56,261 - INFO - Downloaded 4bfd7754f6c4019fc2bef66cbe6a1351.jpg\n",
      "2024-08-01 23:23:56,263 - INFO - Downloaded f2a7af7b9e461aa5510ad31f6a2781d2.png\n",
      "2024-08-01 23:23:56,270 - INFO - Downloaded 757a8f78b19aa3c3d8638f0291779632.jpg\n",
      "2024-08-01 23:23:56,275 - INFO - Downloaded 4b08787f94f8b9759846faeef0ed7a0e.jpg\n",
      "2024-08-01 23:23:56,276 - INFO - Downloaded 0b709aa4dbf0460f5d5c8fcf219f7580.jpg\n",
      "2024-08-01 23:23:56,279 - INFO - Downloaded 33f6c2a088d8b735a06956e2f425302d.jpg\n",
      "2024-08-01 23:23:56,286 - INFO - Downloaded b230b0511ce4392917da9ede74bb0c5a.jpg\n",
      "2024-08-01 23:23:56,290 - INFO - Downloaded 8d5646e74853f5290e33a435996262d2.jpg\n",
      "2024-08-01 23:23:56,299 - INFO - Downloaded f7b317d1af8e2cf09bd1e3f3b1945f9d.jpg\n",
      "2024-08-01 23:23:56,305 - INFO - Downloaded 0b922d755ac3e037e0515cee4638b724.jpg\n",
      "2024-08-01 23:23:56,787 - INFO - Downloaded 6631aff82a5b08239fa315b47eb29bbc.jpg\n",
      "2024-08-01 23:23:56,801 - INFO - Downloaded 2ddd6df7db58314311711dc275dbbd0c.jpg\n",
      "2024-08-01 23:23:56,815 - INFO - Downloaded 979d5d0e2f7ea06867dd57cfdd514431.jpg\n",
      "2024-08-01 23:23:56,823 - INFO - Downloaded a190ebc0582e33b8b1f50d6e71376337.jpg\n",
      "2024-08-01 23:23:56,836 - INFO - Downloaded c35cf6281c2335caa10374a5cbfac50b.jpg\n",
      "2024-08-01 23:23:56,841 - INFO - Downloaded f89f8065641d7a5817183661297c010e.jpg\n",
      "2024-08-01 23:23:57,219 - INFO - Downloaded 654f1af8571e1d2a425699ccbd140555.jpg\n",
      "2024-08-01 23:23:57,294 - INFO - Downloaded becce70b9a20d6a1fabcdfd833edeb92.jpg\n",
      "2024-08-01 23:23:57,397 - INFO - Downloaded d760b3d606da9f0df6a5c98e27f132ec.png\n",
      "2024-08-01 23:23:57,466 - INFO - Downloaded 9a65ba060fd04f3486aa570149f29f21.png\n",
      "2024-08-01 23:23:57,876 - INFO - Downloaded 9f5c6f87c5bc342ea9aba4c0ca00154a.jpg\n",
      "2024-08-01 23:23:57,945 - INFO - Downloaded 70e231ee9264f0e4d8717e702bae644c.jpg\n",
      "2024-08-01 23:23:59,699 - INFO - Downloaded 9c8f948d1dc1954dd705388c7b191218.jpg\n",
      "2024-08-01 23:24:03,867 - INFO - Downloaded 72d757494409390540b41c2a6619a9e1.jpg\n",
      "2024-08-01 23:24:07,055 - INFO - Downloaded 4a508b15a8f9f1f34274ba297f5b5f0b.jpg\n",
      "2024-08-01 23:24:08,517 - INFO - Downloaded 906e7364e4a676c6c3bcd98c8d4adc2e.jpg\n",
      "2024-08-01 23:24:08,647 - INFO - Downloaded f431860219c763df817bebf4f9b823cc.jpg\n",
      "2024-08-01 23:24:10,257 - INFO - Downloaded dca86201322c9d6e624e4e40bb5605bd.jpg\n",
      "2024-08-01 23:24:11,110 - INFO - Downloaded 52a1e3c2950400d336423dab6c8cece9.jpg\n",
      "2024-08-01 23:24:11,581 - INFO - Downloaded 996ac6c278825aed50d4fc087df6355f.jpg\n",
      "2024-08-01 23:24:13,517 - INFO - Downloaded 2e10edfc3d8b5a7b247dc6c7f0d3d73c.jpg\n",
      "2024-08-01 23:24:13,862 - INFO - Downloaded c7e141cdc5b86e562b3696940256c42d.jpg\n",
      "2024-08-01 23:24:14,079 - INFO - Downloaded 91ed167a9f580cffbe064211dd99c33b.jpg\n",
      "2024-08-01 23:24:14,313 - INFO - Downloaded f0dc84a0c61bb427aa9be4b28c15a112.jpg\n",
      "2024-08-01 23:24:15,025 - INFO - Downloaded 775040f0738fa546c3af45cfff00a54a.jpg\n",
      "2024-08-01 23:24:15,350 - INFO - Downloaded cca993c819a3dd7b1d5504e2a877aaec.jpg\n",
      "2024-08-01 23:24:15,733 - INFO - Downloaded 57d149e278c991e5e9acd9a7becc292b.jpg\n",
      "2024-08-01 23:24:16,401 - INFO - Downloaded 2577f963eee83248833dd12898ff58cb.jpg\n",
      "2024-08-01 23:24:17,516 - INFO - Downloaded 1032024204898faf7eae517d2936261f.jpg\n",
      "2024-08-01 23:24:17,812 - INFO - Downloaded 67ec246e1ab2a3ffcdc2f1c5ad2726a2.jpg\n",
      "2024-08-01 23:24:18,102 - INFO - Downloaded e44d51327e055d068c5cc7393eaf0a52.jpg\n",
      "2024-08-01 23:24:18,211 - INFO - Downloaded 88f8ed5ba5bff7a9dc00a71774a8fd4d.jpg\n",
      "2024-08-01 23:24:18,467 - INFO - Downloaded 661a8a0e9306613eb0934fe04f800e36.jpg\n",
      "2024-08-01 23:24:18,467 - INFO - Downloaded ff416ec4422659d8dbd232ca4e734647.jpg\n",
      "2024-08-01 23:24:18,468 - INFO - Downloaded 33b0157920800137a55d9cbf79f76a05.jpg\n",
      "2024-08-01 23:24:18,582 - INFO - Downloaded 49f42d2bd05c783441b0f981af77d0f1.jpg\n",
      "2024-08-01 23:24:18,685 - INFO - Downloaded e05640a09d744acaacb6583ec9dd6a49.jpg\n",
      "2024-08-01 23:24:18,764 - INFO - Downloaded 159ad3fb05a822b7fc98586e4efb2f6c.jpg\n",
      "2024-08-01 23:24:19,086 - INFO - Downloaded d7874c032cdfa9dab79788b26654017d.jpg\n"
     ]
    },
    {
     "name": "stderr",
     "output_type": "stream",
     "text": [
      "2024-08-01 23:24:19,352 - INFO - Downloaded 78508b32a4d8957c02ae88c45923dd85.jpg\n",
      "2024-08-01 23:24:20,239 - INFO - Downloaded 8f7cda71d42cdce4c5f0c7c621ffa4d3.jpg\n",
      "2024-08-01 23:24:20,417 - INFO - Downloaded fedc7824684b90c21f216e42e8ad64b5.jpg\n",
      "2024-08-01 23:24:20,834 - INFO - Downloaded bb68f9e88b8ec00702a4255552fd9a58.jpg\n",
      "2024-08-01 23:24:24,391 - INFO - Downloaded 48cc0dceec0387f277835273b766b91a.jpg\n",
      "2024-08-01 23:24:24,413 - INFO - Downloaded aeb94b961aff3a3528582ff95cb45f80.jpg\n",
      "2024-08-01 23:24:25,202 - INFO - Downloaded 896b924248321e73026c8152c2f7b134.jpg\n",
      "2024-08-01 23:24:28,184 - INFO - Downloaded 95e788ef44cb769dcc2c26af0571a0a0.jpg\n",
      "2024-08-01 23:24:29,806 - INFO - Downloaded 70ad1dfcdf4be29edad3d6475ed019f8.jpg\n",
      "2024-08-01 23:24:30,433 - INFO - Downloaded d29140923aff4e572e532d3e2a2f0081.jpg\n",
      "2024-08-01 23:24:30,673 - INFO - Downloaded 526976f9c8554629205619442a2bb6a1.jpg\n",
      "2024-08-01 23:24:31,102 - INFO - Downloaded 7af5e5330881fdf29a545241d1a7ed70.jpg\n",
      "2024-08-01 23:24:34,252 - INFO - Downloaded 92294ee0105cdc2af5a7232c67d03538.jpg\n",
      "2024-08-01 23:24:34,301 - INFO - Downloaded 53b32d51559d5f1689f529bbf9bdbbe7.jpg\n",
      "2024-08-01 23:24:34,745 - INFO - Downloaded cc7d14fdadcf94e0bc7aa283ed20cf2a.jpg\n",
      "2024-08-01 23:24:35,140 - INFO - Downloaded 905f9025356a76c494a663dabb2bd3cf.jpg\n",
      "2024-08-01 23:24:35,951 - INFO - Downloaded 4b4d97b0f853bb29edc752e862c16814.jpg\n",
      "2024-08-01 23:24:36,356 - INFO - Downloaded cdfe1f018ec1e8f4c53af9f0db3f914f.jpg\n",
      "2024-08-01 23:24:36,983 - INFO - Downloaded f510c4a09f926c5411fb152adb7bddc0.jpg\n",
      "2024-08-01 23:24:37,348 - INFO - Downloaded 8aac312880dab37806ec2b136c151759.jpg\n",
      "2024-08-01 23:24:39,574 - INFO - Downloaded 3a0d9233457d21d3866550df73e69c52.jpg\n",
      "2024-08-01 23:24:41,193 - INFO - Downloaded acaa6bb9f01443567582d26a97d44ebc.jpg\n",
      "2024-08-01 23:24:41,355 - INFO - Downloaded 5d214f4a8e6136765005784bbecac826.jpg\n",
      "2024-08-01 23:24:41,809 - INFO - Downloaded 70fc1891a5288e81165da5b57058963a.jpg\n",
      "2024-08-01 23:24:42,125 - INFO - Downloaded 5a42a6bf99cf56146c9781aa085af5b8.jpg\n",
      "2024-08-01 23:24:42,580 - INFO - Downloaded a248d7c68b847a0dc332e86528efb6c4.jpg\n",
      "2024-08-01 23:24:42,924 - INFO - Downloaded 211c79ba563d9a6a4e38654e279bff6d.jpg\n",
      "2024-08-01 23:24:43,118 - INFO - Downloaded af57fac8c28a0254cc7130250a2e5236.jpg\n",
      "2024-08-01 23:24:43,999 - INFO - Downloaded d0f1bbb94207aae6fe77e34bf5f9e370.jpg\n",
      "2024-08-01 23:24:44,334 - INFO - Downloaded 324cdbf1fe9ac4239b12408d787b7b69.jpg\n",
      "2024-08-01 23:24:44,866 - INFO - Downloaded ecce81cbe5ef19ec9cc55593ce60da44.jpg\n",
      "2024-08-01 23:24:45,296 - INFO - Downloaded e77388f9e63a82a627ae2e9ab61e9e49.jpg\n",
      "2024-08-01 23:24:45,593 - INFO - Downloaded f5a8a41ee5292a3da0179d5d0472ba0a.jpg\n",
      "2024-08-01 23:24:47,950 - INFO - Downloaded 698d7c6c46bb232a74c63c69063e26d1.jpg\n",
      "2024-08-01 23:24:48,345 - INFO - Downloaded 6ddf8f02dd61e4606cd5c407e788aed8.jpg\n",
      "2024-08-01 23:24:50,840 - INFO - Downloaded 8eb96cd6e506809b214966400dc5f1b6.jpg\n",
      "2024-08-01 23:24:52,802 - INFO - Downloaded 727211406ef2ff49fef44a197f8577c1.jpg\n",
      "2024-08-01 23:24:53,186 - INFO - Downloaded 322c5dd4bfedf9a57337098ecdca84e6.jpg\n",
      "2024-08-01 23:24:53,309 - INFO - Downloaded 8f03eff8bab468ee8a2a992752ab40fc.jpg\n",
      "2024-08-01 23:24:53,582 - INFO - Downloaded 91f2bf8cc0d5581006684c342ab783a4.jpg\n",
      "2024-08-01 23:24:54,767 - INFO - Downloaded 552c393638d798bacb1cb1b2422c377f.jpg\n",
      "2024-08-01 23:24:54,846 - INFO - Downloaded 01a08adf2c8218cd60285d26b28b5be2.jpg\n",
      "2024-08-01 23:24:56,010 - INFO - Downloaded 07c07acbcc41616be4f9fb2ee42a3751.jpg\n",
      "2024-08-01 23:24:57,293 - INFO - Downloaded 620a945fd10e5f220db24b645524e906.jpg\n",
      "2024-08-01 23:24:57,381 - INFO - Downloaded b25c9165520551d90593e8a2247be6d1.jpg\n",
      "2024-08-01 23:24:57,951 - INFO - Downloaded e18907777b378e0f40c0f3cc4925a92b.jpg\n",
      "2024-08-01 23:24:59,497 - INFO - Downloaded 8457218c0c7dca04e8a7033395c65eee.jpg\n",
      "2024-08-01 23:24:59,776 - INFO - Downloaded ef0ffc15dd01005fdc98911ecdfa6b6c.jpg\n",
      "2024-08-01 23:25:00,835 - INFO - Downloaded d9e50116beeee9d2815301bcb84fa963.jpg\n",
      "2024-08-01 23:25:03,095 - INFO - Downloaded 07919a346ff060197647dac4cf4e911c.jpg\n",
      "2024-08-01 23:25:04,402 - INFO - Downloaded caeeefbeb79fa443671aacbbbbdef6d7.jpg\n",
      "2024-08-01 23:25:04,447 - INFO - Downloaded f3894785460b4d3b78dcba8a44c8d134.jpg\n",
      "2024-08-01 23:25:04,872 - INFO - Downloaded 09bb246c213e5c2bb0a7550482fcd3a8.jpg\n",
      "2024-08-01 23:25:05,132 - INFO - Downloaded 4a3f7ca34abb6baef4a212907252d158.jpg\n",
      "2024-08-01 23:25:05,168 - INFO - Downloaded 3d3ff68c83742dcd34a5e37e76320eff.jpg\n",
      "2024-08-01 23:25:05,453 - INFO - Downloaded e6e76f5899ef1277347fae6a2ceb9c2c.jpg\n",
      "2024-08-01 23:25:06,406 - INFO - Downloaded a7ff1f3afafeef1ef1fbebf1e94a1bfe.jpg\n",
      "2024-08-01 23:25:06,465 - INFO - Downloaded 7b6d06a0ca5d26c7a77a644a83ead446.jpg\n",
      "2024-08-01 23:25:06,596 - INFO - Downloaded 608e0ce45a6484c4153e98044a382ecf.jpg\n",
      "2024-08-01 23:25:06,606 - INFO - Downloaded e9709dbc6840895c1988bc31cb1761d0.jpg\n",
      "2024-08-01 23:25:06,764 - INFO - Downloaded 27e8bcfdb6ed9a7ecb61b92f90a0c1e5.jpg\n",
      "2024-08-01 23:25:07,223 - INFO - Downloaded 6b1eb4f09e4d50fe846b3d64ee4e1fc6.jpg\n",
      "2024-08-01 23:25:07,610 - INFO - Downloaded 60c1d2e24dbb29f5dd66011c4adcec9d.jpg\n",
      "2024-08-01 23:25:07,796 - INFO - Downloaded a74bda06783f4cdcdd6817ba54381698.jpg\n",
      "2024-08-01 23:25:07,843 - INFO - Downloaded 6c0506453711e52ecc8f5120fa11ce4d.jpg\n",
      "2024-08-01 23:25:07,918 - INFO - Downloaded 505961669f4d8ea4dfd55a3832fba543.jpg\n",
      "2024-08-01 23:25:07,978 - INFO - Downloaded 379a6910bdd2510ff2310f4d0dca4abc.jpg\n",
      "2024-08-01 23:25:08,025 - INFO - Downloaded 1dd939f61bdfddacd5291bd6502d7b63.jpg\n",
      "2024-08-01 23:25:08,192 - INFO - Downloaded 58e9a8abd2a08773a8c5323fb0548338.jpg\n",
      "2024-08-01 23:25:08,396 - INFO - Downloaded fc90855819e6dbbcdaa9db01b879e2e6.jpg\n",
      "2024-08-01 23:25:08,866 - INFO - Downloaded 43a611cece077adc5a082e8355039d0b.jpg\n",
      "2024-08-01 23:25:09,010 - INFO - Downloaded a47e87942474803ab6abf459c3841093.jpg\n",
      "2024-08-01 23:25:09,446 - INFO - Downloaded 44c242ae0d9467f1181dd8faac4dc55c.jpg\n",
      "2024-08-01 23:25:09,853 - INFO - Downloaded 077291188047123df05abaf3345d1e6e.jpg\n",
      "2024-08-01 23:25:10,142 - INFO - Downloaded 450b71ef416921b73e8c4cf98c19bfb6.jpg\n",
      "2024-08-01 23:25:10,435 - INFO - Downloaded dd3b21a757592393bf7994ace8453c27.jpg\n",
      "2024-08-01 23:25:10,523 - INFO - Downloaded 2db7e0dd36895d072a7fc3a92a2df187.jpg\n",
      "2024-08-01 23:25:11,010 - INFO - Downloaded 2df5084ed75431393098f7206382e60e.jpg\n",
      "2024-08-01 23:25:11,692 - INFO - Downloaded fca86136a2778c9f2a5fafb51d0586f7.jpg\n",
      "2024-08-01 23:25:14,718 - INFO - Downloaded fae29e6a263d61393da3c4dbc8e8064a.jpg\n",
      "2024-08-01 23:25:14,740 - INFO - Downloaded 94d080da3e5a1a1124a96f0672ee70f5.jpg\n",
      "2024-08-01 23:25:14,741 - INFO - Downloaded 851638e16d4880cc838a96ea8d0b8c62.jpg\n",
      "2024-08-01 23:25:15,210 - INFO - Downloaded c492228221f6b63ce2f6f15b5264ab55.jpg\n",
      "2024-08-01 23:25:15,905 - INFO - Downloaded e00bc64cfc971206b16a01ba79bd081a.jpg\n",
      "2024-08-01 23:25:16,062 - INFO - Downloaded 984417ea223488dec707d8b5c24c1c0f.jpg\n",
      "2024-08-01 23:25:16,583 - INFO - Downloaded 42f7c1e5ed883f51200c901d9a64023e.jpg\n",
      "2024-08-01 23:25:18,436 - INFO - Downloaded b77a6fedfd63ed5a5dadd0536c7d0ff2.jpg\n",
      "2024-08-01 23:25:20,112 - INFO - Downloaded 70c3169598dc8294e2c25ca61c780d03.jpg\n",
      "2024-08-01 23:25:22,428 - INFO - Downloaded f2e614f4bd78f3a49f779ce38c6797a3.jpg\n",
      "2024-08-01 23:25:22,533 - INFO - Downloaded c866ff97ee10443d1404c87b520cabeb.jpg\n",
      "2024-08-01 23:25:25,351 - INFO - Downloaded 1730746cf42ba196d42c63823c27f62e.jpg\n",
      "2024-08-01 23:25:25,367 - INFO - Downloaded cb2b614e11e71bade0db4096157ceb7f.jpg\n",
      "2024-08-01 23:25:25,650 - INFO - Downloaded 4795097752ecf98c36637bd5be355516.jpg\n",
      "2024-08-01 23:25:27,941 - INFO - Downloaded 6a41d4898c7ff2eb17241bb3b68404ad.jpg\n",
      "2024-08-01 23:25:28,101 - INFO - Downloaded 4beb808cc82a98053f6b5cb2727ccef9.jpg\n",
      "2024-08-01 23:25:29,651 - INFO - Downloaded 3f646f3612c25f02b5024633f81af018.jpg\n",
      "2024-08-01 23:25:30,444 - INFO - Downloaded 0226b246d82fb196b353eee85e0c7b3b.jpg\n",
      "2024-08-01 23:25:30,488 - INFO - Downloaded 3a1df0da9d92f3d580c58d921f90958f.jpg\n",
      "2024-08-01 23:25:30,683 - INFO - Downloaded 37380a734aaf8f6be6388ac8d69c04ba.jpg\n",
      "2024-08-01 23:25:31,063 - INFO - Downloaded 8575b0769b3eda937b3dd31bae2136de.jpg\n",
      "2024-08-01 23:25:31,474 - INFO - Downloaded fbffe8d880cb1345ac9d61f4ad629916.jpg\n",
      "2024-08-01 23:25:31,949 - INFO - Downloaded 3b18ec5c80713138472fef4f761a1f44.jpg\n"
     ]
    },
    {
     "name": "stderr",
     "output_type": "stream",
     "text": [
      "2024-08-01 23:25:31,950 - INFO - Downloaded 4b6480c529c078512c3150e1c0db1a6a.jpg\n",
      "2024-08-01 23:25:32,102 - INFO - Downloaded 57fb197b2e8e6951a485da3337c3afad.jpg\n",
      "2024-08-01 23:25:32,301 - INFO - Downloaded bdd8edfcfe660566fbbe9bccb5cb3a7d.jpg\n",
      "2024-08-01 23:25:32,515 - INFO - Downloaded c7b13b274381ccecdb8ad6acbfcb31cd.jpg\n",
      "2024-08-01 23:25:33,160 - INFO - Downloaded acdb01f2dd6596f44d98cd5caec21aba.jpg\n",
      "2024-08-01 23:25:33,423 - INFO - Downloaded 116254ce30c838cc2707388f828e7201.jpg\n",
      "2024-08-01 23:25:33,423 - INFO - Downloaded ef614d4b22df83d6a8eeea05d314eb87.jpg\n",
      "2024-08-01 23:25:33,520 - INFO - Downloaded 7ed57362098eeee1a2f3c5c1327f76ab.jpg\n",
      "2024-08-01 23:25:33,707 - INFO - Downloaded cda5a380a3e6c5d9345dae0f27d8c7d9.jpg\n",
      "2024-08-01 23:25:33,708 - INFO - Downloaded e0e96a6b93b26d7cf5c8c91f7c2e773e.jpg\n",
      "2024-08-01 23:25:34,495 - INFO - Downloaded 2acec4d26d10dd0343405b5742cd67f8.jpg\n",
      "2024-08-01 23:25:35,057 - INFO - Downloaded 79dbae1da459d97b6d3848e597bff4d7.jpg\n",
      "2024-08-01 23:25:35,304 - INFO - Downloaded bbcd86f3455286348a2a2f6fefeb9a70.jpg\n",
      "2024-08-01 23:25:35,934 - INFO - Downloaded 270bca14dfb6f4864527e35fbb856110.jpg\n",
      "2024-08-01 23:25:36,546 - INFO - Downloaded 214e52fec68af41c613b874765f9cbb5.jpg\n",
      "2024-08-01 23:25:36,547 - INFO - Downloaded fa4c87cffe5b0d5ca307a80d89c2d956.jpg\n",
      "2024-08-01 23:25:37,192 - INFO - Downloaded 5e1166d0dfbeb2c7fc187ca21fded705.jpg\n",
      "2024-08-01 23:25:37,226 - INFO - Downloaded 457fa3c4eb3fe4be5654d641011b4a10.jpg\n",
      "2024-08-01 23:25:37,405 - INFO - Downloaded 971e9c4c82c58ba66e884f1eca456aba.jpg\n",
      "2024-08-01 23:25:37,405 - INFO - Downloaded 76a12d7cca9a47c29a60fa3a9585780a.jpg\n",
      "2024-08-01 23:25:37,550 - INFO - Downloaded eb0c7017b3c4fd35ad6c0eba54574c99.jpg\n",
      "2024-08-01 23:25:37,640 - INFO - Downloaded 1c636fddc4e0be2f900206f734523059.jpg\n",
      "2024-08-01 23:25:37,643 - INFO - Downloaded bb25edd1cfc35ca9602cde305b38293c.jpg\n",
      "2024-08-01 23:25:37,780 - INFO - Downloaded 94bc9449e32d6ab3f6341dde960ffa08.jpg\n",
      "2024-08-01 23:25:38,066 - INFO - Downloaded e6e816aa45edfa9979487aa82f869d5a.jpg\n",
      "2024-08-01 23:25:38,068 - INFO - Downloaded c82334580e6d87b7486cf110aeb8048c.jpg\n",
      "2024-08-01 23:25:38,099 - INFO - Downloaded a5ec012480335da34988332c2d789cee.jpg\n",
      "2024-08-01 23:25:38,107 - INFO - Downloaded 42255249c82458c1e61bc7da99e33178.jpg\n",
      "2024-08-01 23:25:38,162 - INFO - Downloaded 8268fc8c0cbde38f22ad6a131b3049ea.jpg\n",
      "2024-08-01 23:25:38,238 - INFO - Downloaded ace33427ee48cd7214155dc0708d941a.jpg\n",
      "2024-08-01 23:25:38,313 - INFO - Downloaded a06468b242a3f4ed5618f6d4fe7b0d8d.jpg\n",
      "2024-08-01 23:25:38,330 - INFO - Downloaded 3042444c3f86e0262b5a65226eb1c99a.jpg\n",
      "2024-08-01 23:25:38,373 - INFO - Downloaded fd1055594259d4686fa47a7c2bca405d.jpg\n",
      "2024-08-01 23:25:38,381 - INFO - Downloaded 0404565ab0a432f187940d0bfa139e0a.jpg\n",
      "2024-08-01 23:25:38,406 - INFO - Downloaded b5db035e0bb610b1fea012bed17480e5.jpg\n",
      "2024-08-01 23:25:38,437 - INFO - Downloaded e2bf1f8af1fb17ed3c7ef74eebe943ef.jpg\n",
      "2024-08-01 23:25:38,708 - INFO - Downloaded 58479998630ea0980fcd9f87a63fc095.jpg\n",
      "2024-08-01 23:25:38,731 - INFO - Downloaded cc2a1f80f63211feebe9e5687351cc05.jpg\n",
      "2024-08-01 23:25:38,732 - INFO - Downloaded e1922439b3718e52c760af4017866f9d.jpg\n",
      "2024-08-01 23:25:38,764 - INFO - Downloaded d39d7cffc1063372e789b1464eef0bed.jpg\n",
      "2024-08-01 23:25:38,897 - INFO - Downloaded 8b971b30cb3774042d66b120e0b1a7e2.jpg\n",
      "2024-08-01 23:25:39,365 - INFO - Downloaded 6484dcfb08a5406f43e5d63bc7981c08.jpg\n",
      "2024-08-01 23:25:39,382 - INFO - Downloaded 87c469514d9ad2b20458617f62ead59e.jpg\n",
      "2024-08-01 23:25:39,438 - INFO - Downloaded 9445532520e9aa2dd402ea22237b78e4.jpg\n",
      "2024-08-01 23:25:39,449 - INFO - Downloaded b7f75532b6cb7271b2cf8cf0f6ae8bac.jpg\n",
      "2024-08-01 23:25:39,468 - INFO - Downloaded 3ce92b3dfb36245ea9c12923aba2e267.jpg\n",
      "2024-08-01 23:25:39,859 - INFO - Downloaded fbf0049ff071a6f0e5c62bcb07cdfa70.jpg\n",
      "2024-08-01 23:25:40,002 - INFO - Downloaded 7a87aeeaa4485253864b2f7108677db6.jpg\n",
      "2024-08-01 23:25:40,163 - INFO - Downloaded 532ce226e812b45b64efe984d0709c3b.jpg\n",
      "2024-08-01 23:25:40,189 - INFO - Downloaded b325cc76a6f0b3b97f4e1706885495ac.jpg\n",
      "2024-08-01 23:25:40,276 - INFO - Downloaded 5811338413c792c054b2371f23aa1e0a.jpg\n",
      "2024-08-01 23:25:40,321 - INFO - Downloaded 86d673a2bf44e2b365bbe3f6ca59d67f.jpg\n",
      "2024-08-01 23:25:40,342 - INFO - Downloaded 792851f8b1bdc855a66ece036eb8c36f.jpg\n",
      "2024-08-01 23:25:40,370 - INFO - Downloaded 7354bb885dfb53b255f5255ff381cbe8.jpg\n",
      "2024-08-01 23:25:40,427 - INFO - Downloaded ae2265c7ae5ff88598cd8685cde5f207.jpg\n",
      "2024-08-01 23:25:40,497 - INFO - Downloaded 7d07f5acc5049f6e2044e4ef394926e3.jpg\n",
      "2024-08-01 23:25:40,532 - INFO - Downloaded ebbf0520e3d7071fb0f8e1f0334327fe.jpg\n",
      "2024-08-01 23:25:40,534 - INFO - Downloaded aaaf97d6af114276ef5801d03e8c6e28.jpg\n",
      "2024-08-01 23:25:40,592 - INFO - Downloaded d2daacd2bf7742b0ce8585517851d51a.jpg\n",
      "2024-08-01 23:25:40,693 - INFO - Downloaded 77adf2f92f2f45c135e3a56ec68b3516.jpg\n",
      "2024-08-01 23:25:40,776 - INFO - Downloaded df271ad1c70bb5576ffa448b9f2c8f1f.jpg\n",
      "2024-08-01 23:25:40,776 - INFO - Downloaded f34a243b7c761fa85c68a9f89e0747d1.jpg\n",
      "2024-08-01 23:25:40,839 - INFO - Downloaded 72ed83c2cebc56db062da96a00391a94.jpg\n",
      "2024-08-01 23:25:40,870 - INFO - Downloaded 4f99d5b03ada39595b6840c1d1a04895.jpg\n",
      "2024-08-01 23:25:40,887 - INFO - Downloaded 7e824927ba0372b023fc3f4a6fb056bd.jpg\n",
      "2024-08-01 23:25:40,888 - INFO - Downloaded 8aba6fc2d63aa823d7f8358f40148b09.jpg\n",
      "2024-08-01 23:25:40,890 - INFO - Downloaded 7d39af3e616e6c65fd4b8db08894fa97.jpg\n",
      "2024-08-01 23:25:40,925 - INFO - Downloaded 9836176d037aedb78adb9b2577e57e72.jpg\n",
      "2024-08-01 23:25:40,929 - INFO - Downloaded 98b252bdbc35a2049f5820ce0e454591.jpg\n",
      "2024-08-01 23:25:40,982 - INFO - Downloaded c9be305c5c95463ba0ce3088765616b0.jpg\n",
      "2024-08-01 23:25:41,021 - INFO - Downloaded d6e2d3331fa56c2ab4978903f10ec639.jpg\n",
      "2024-08-01 23:25:41,031 - INFO - Downloaded b452866c0086a8e3f6678707eea958e0.jpg\n",
      "2024-08-01 23:25:41,065 - INFO - Downloaded e6fcfe511977ef5d41899abf859fec3d.jpg\n",
      "2024-08-01 23:25:41,547 - INFO - Downloaded 9362edfa6d4bc8818b08f7102a9f12e9.jpg\n",
      "2024-08-01 23:25:41,547 - INFO - Downloaded 99e81354de6d34a61424151378080417.jpg\n",
      "2024-08-01 23:25:41,646 - INFO - Downloaded 1a861d01c151569d77c10fdc64bcc210.jpg\n",
      "2024-08-01 23:25:41,646 - INFO - Downloaded 7d003e84360cb8efd0bc9143f056ef95.jpg\n",
      "2024-08-01 23:25:41,712 - INFO - Downloaded b6add81659e9e757af71039d948174c0.jpg\n",
      "2024-08-01 23:25:41,747 - INFO - Downloaded efa5a3cd043e81389b789d4f6dca9f1c.jpg\n",
      "2024-08-01 23:25:41,852 - INFO - Downloaded 4305550892193a2947d2bd2a05863581.jpg\n",
      "2024-08-01 23:25:41,853 - INFO - Downloaded 90b47dc2f8f6f4dfebc205ca0ef8baf3.jpg\n",
      "2024-08-01 23:25:41,853 - INFO - Downloaded 9b94513bc8b93cfac5a19b8f68c31f19.jpg\n",
      "2024-08-01 23:25:41,904 - INFO - Downloaded 041b88e328d1dc95fad311d2399e2a17.jpg\n",
      "2024-08-01 23:25:41,926 - INFO - Downloaded ce9c1d7024edf32f92a4ebe89d8104fb.jpg\n",
      "2024-08-01 23:25:41,972 - INFO - Downloaded 6f2364d8053b35711eff02611dd57d20.jpg\n",
      "2024-08-01 23:25:42,022 - INFO - Downloaded 453a0595f31724f9de3c2afd12ad8594.jpg\n",
      "2024-08-01 23:25:42,024 - INFO - Downloaded f7fbe8c8c793982b5eac3093109d713a.jpg\n",
      "2024-08-01 23:25:42,083 - INFO - Downloaded b7a27cd5d5f76505e70be79faaeff993.jpg\n",
      "2024-08-01 23:25:42,188 - INFO - Downloaded 6bb3a73d411c2a7105dbde2d6852430d.jpg\n",
      "2024-08-01 23:25:42,363 - INFO - Downloaded 533f160ed8eb954b76c06805989bd164.jpg\n",
      "2024-08-01 23:25:42,363 - INFO - Downloaded 7917663ba9f9172927c4a9bec4f2495e.jpg\n",
      "2024-08-01 23:25:42,382 - INFO - Downloaded ad2f401c49196a2b78a33477d80437fb.jpg\n",
      "2024-08-01 23:25:42,427 - INFO - Downloaded 6ba94dbbb7bc05a751dea1e602fe3cad.jpg\n",
      "2024-08-01 23:25:42,427 - INFO - Downloaded 8839559703764010961f4520ad17c333.jpg\n",
      "2024-08-01 23:25:42,472 - INFO - Downloaded 81c7e7bd79f3d61f15f19fc29e40e00c.jpg\n",
      "2024-08-01 23:25:42,477 - INFO - Downloaded 57813019ddfcbede162d0abfa12de1c9.jpg\n",
      "2024-08-01 23:25:42,542 - INFO - Downloaded d5106394464a8c0d64e490fcca56a32e.jpg\n",
      "2024-08-01 23:25:42,573 - INFO - Downloaded 10bcef9c88582a8eb3e0ead364a27dea.jpg\n",
      "2024-08-01 23:25:42,588 - INFO - Downloaded a779896a6d6eed21674527e3118b38b4.jpg\n",
      "2024-08-01 23:25:42,588 - INFO - Downloaded b5ca8b4d61a2eed6148f3fe532138ce5.jpg\n",
      "2024-08-01 23:25:42,588 - INFO - Downloaded 4c497c309bc22ff1e715a977a314bfce.jpg\n",
      "2024-08-01 23:25:42,671 - INFO - Downloaded d7500a9d9afac8c2334663dd923c13f4.jpg\n"
     ]
    },
    {
     "name": "stderr",
     "output_type": "stream",
     "text": [
      "2024-08-01 23:25:42,672 - INFO - Downloaded 45ac4014d2cda27c94cd72fc30cbc91d.jpg\n",
      "2024-08-01 23:25:42,685 - INFO - Downloaded fc47fef46fea84c0cbe7d9bea0ff6c57.jpg\n",
      "2024-08-01 23:25:42,685 - INFO - Downloaded 52cf757f867180db08882e93373af22b.jpg\n",
      "2024-08-01 23:25:42,733 - INFO - Downloaded f41ffbfc3c9c7dfb1622d29d4126e6a4.jpg\n",
      "2024-08-01 23:25:42,759 - INFO - Downloaded 51581ab2f2e00266e683413d903dd13c.jpg\n",
      "2024-08-01 23:25:42,777 - INFO - Downloaded 232c7e4383f39adbf93faca18b3857c0.jpg\n",
      "2024-08-01 23:25:42,988 - INFO - Downloaded dbef1a0d80ad7b57d040da13d671b11b.jpg\n",
      "2024-08-01 23:25:43,011 - INFO - Downloaded ec1b2e5f48c8925be6478f3ecb87a892.jpg\n",
      "2024-08-01 23:25:43,063 - INFO - Downloaded 4d56d6311f7d556db97e4af0a960e04a.jpg\n",
      "2024-08-01 23:25:43,080 - INFO - Downloaded ddefee4bcd69343381ee87417ca5c279.jpg\n",
      "2024-08-01 23:25:43,143 - INFO - Downloaded 40f8ac55d421fa7870ec4f8824711974.jpg\n",
      "2024-08-01 23:25:43,149 - INFO - Downloaded d15f59570778cdf876f7409528fa54e7.jpg\n",
      "2024-08-01 23:25:43,188 - INFO - Downloaded 7f8a947010700f48db152f09ea28caae.jpg\n",
      "2024-08-01 23:25:43,217 - INFO - Downloaded b9262fe8143acc30b349068d9cc0d744.jpg\n",
      "2024-08-01 23:25:43,232 - INFO - Downloaded 4b6ef3c0eb7dd9d4cec85346c412198d.jpg\n",
      "2024-08-01 23:25:43,241 - INFO - Downloaded 7a81930e6465748fc42095da3e56848d.jpg\n",
      "2024-08-01 23:25:43,387 - INFO - Downloaded ff63e6d292ad6b23be4c83673e4db47b.jpg\n",
      "2024-08-01 23:25:43,797 - INFO - Downloaded 4166f01c0cf5b19bb21accbd7ee2c43f.jpg\n",
      "2024-08-01 23:25:43,963 - INFO - Downloaded 9886afb601be2502ab5b850ecc29b496.jpg\n",
      "2024-08-01 23:25:44,105 - INFO - Downloaded c978044bd72427f2d846b48899a5a28d.jpg\n",
      "2024-08-01 23:25:44,111 - INFO - Downloaded 35ba35b781ae032af4a576cfa001f315.jpg\n",
      "2024-08-01 23:25:44,157 - INFO - Downloaded 69b64f08d63b6dd0572aa4c8c8693a33.jpg\n",
      "2024-08-01 23:25:44,162 - INFO - Downloaded 0674fe7b94b802e7ce2746ae187ef795.jpg\n",
      "2024-08-01 23:25:44,182 - INFO - Downloaded ee11bdaa829abcd75fde8930ef52bfc3.jpg\n",
      "2024-08-01 23:25:44,191 - INFO - Downloaded 4e9af4d66d03780e9b74f8509f22caac.jpg\n",
      "2024-08-01 23:25:44,256 - INFO - Downloaded 6d9cb6a84cd4a74efd4c284388f3b5a6.jpg\n",
      "2024-08-01 23:25:44,258 - INFO - Downloaded 6629f307b56bee1eb0d4901d8279d6fa.jpg\n",
      "2024-08-01 23:25:44,258 - INFO - Downloaded 72fe8f8344b38ec8f400545af1d9c6e7.jpg\n",
      "2024-08-01 23:25:44,258 - INFO - Downloaded f70e778b36d6dd9f342810094adc696c.jpg\n",
      "2024-08-01 23:25:44,387 - INFO - Downloaded e457093951f7ee8a49d155650a18c358.jpg\n",
      "2024-08-01 23:25:44,583 - INFO - Downloaded 519701814295bb400a1a64dbb53bb6db.jpg\n",
      "2024-08-01 23:25:44,609 - INFO - Downloaded a19ad975685411cb421d8b7d2bc290d8.jpg\n",
      "2024-08-01 23:25:44,752 - INFO - Downloaded b3dbb2aec526397be8c9689ae363eeca.jpg\n",
      "2024-08-01 23:25:44,754 - INFO - Downloaded 4ff2dbf324686a5d52d22653bb8c2bf9.jpg\n",
      "2024-08-01 23:25:44,942 - INFO - Downloaded 6b3f3288a6893280c10f88c2dde7bae7.jpg\n",
      "2024-08-01 23:25:45,003 - INFO - Downloaded 9c19233eb4ffa70fba96c33d18838dd6.jpg\n",
      "2024-08-01 23:25:45,088 - INFO - Downloaded 81924465e676119a899c8d50b59d1ca6.jpg\n",
      "2024-08-01 23:25:45,107 - INFO - Downloaded 7933c2897fadffc59f00c7a7ca1566d1.jpg\n",
      "2024-08-01 23:25:45,114 - INFO - Downloaded f11539f5a828ff045b068801c65d61a7.jpg\n",
      "2024-08-01 23:25:45,121 - INFO - Downloaded cf5094dafe4a00d8ef8603b3fadba8f3.jpg\n",
      "2024-08-01 23:25:45,122 - INFO - Downloaded c350d8cb8b228b355c5114d8fbf7a79b.jpg\n",
      "2024-08-01 23:25:45,126 - INFO - Downloaded c0f7c46b23c4e892cb5f16a86afe7b5f.jpg\n",
      "2024-08-01 23:25:45,126 - INFO - Downloaded 1384ec64de328f0a5ccfc50818974809.jpg\n",
      "2024-08-01 23:25:45,137 - INFO - Downloaded 81edc4049bde5db5b04427a061d2a347.jpg\n",
      "2024-08-01 23:25:45,138 - INFO - Downloaded c71849f14b34aa61a03ad1e5c8ba12a7.jpg\n",
      "2024-08-01 23:25:45,140 - INFO - Downloaded d3f0c8613abdb2f5538eaddb95c55378.jpg\n",
      "2024-08-01 23:25:45,140 - INFO - Downloaded 9db6b857de8329d80118cc386a729017.jpg\n",
      "2024-08-01 23:25:45,154 - INFO - Downloaded 148b70756095137d1e6e8d6e338810bd.jpg\n",
      "2024-08-01 23:25:45,329 - INFO - Downloaded 621bae7a059003f9c30871692520e6d9.jpg\n",
      "2024-08-01 23:25:45,397 - INFO - Downloaded 7ec3a0a50fefa8a86298bbb91614a4b7.jpg\n",
      "2024-08-01 23:25:45,486 - INFO - Downloaded 0f3ca15ee83edc659b4580de776c859a.jpg\n",
      "2024-08-01 23:25:45,491 - INFO - Downloaded 33f25245ba774710812421479f2f0323.jpg\n",
      "2024-08-01 23:25:45,654 - INFO - Downloaded 62b50b6dc2bb0fa225da7c2ae7b76f5c.jpg\n",
      "2024-08-01 23:25:45,670 - INFO - Downloaded 54a698c545c377c45a2506ce270328c5.jpg\n",
      "2024-08-01 23:25:45,744 - INFO - Downloaded 85f784c778fa4decd2469244a4c4339f.jpg\n",
      "2024-08-01 23:25:45,762 - INFO - Downloaded 9f9639033d9a7faac12f394a800e84a2.jpg\n",
      "2024-08-01 23:25:45,844 - INFO - Downloaded 22da2811addab2ae6d212fa33c9f20c9.jpg\n",
      "2024-08-01 23:25:45,845 - INFO - Downloaded a6f588254b05707f23a145bb46dbd377.jpg\n",
      "2024-08-01 23:25:45,878 - INFO - Downloaded 55b4ca23d84c7e434c01f69c646dd8b6.jpg\n",
      "2024-08-01 23:25:45,927 - INFO - Downloaded 64ad7ace73c9b9b2d13a5e2e914b5438.jpg\n",
      "2024-08-01 23:25:45,970 - INFO - Downloaded 6ef5be0b2b693ae69311999857a6263a.jpg\n",
      "2024-08-01 23:25:45,987 - INFO - Downloaded 0d23e294f30294ef92dad597d7717ca3.jpg\n",
      "2024-08-01 23:25:45,997 - INFO - Downloaded 99c5665317dfa6757caf94a48fd66de2.jpg\n",
      "2024-08-01 23:25:46,004 - INFO - Downloaded 3bbf296163d2e2fe55cd2a169ae33171.jpg\n",
      "2024-08-01 23:25:46,010 - INFO - Downloaded d4da7a94c0a42a14487d48e63643493a.jpg\n",
      "2024-08-01 23:25:46,004 - INFO - Downloaded fc0a085fe47ccd6e34c6f3c41508354c.jpg\n",
      "2024-08-01 23:25:46,024 - INFO - Downloaded 40372251450dd18ba5b820772030e75c.jpg\n",
      "2024-08-01 23:25:46,029 - INFO - Downloaded db12dc869f1f167e2e5f2d9321cb4ac4.jpg\n",
      "2024-08-01 23:25:46,056 - INFO - Downloaded 0c2b98df0c327286ade444685b3088a1.jpg\n",
      "2024-08-01 23:25:46,107 - INFO - Downloaded 598c5be1d185038f1953335e47e8f687.jpg\n",
      "2024-08-01 23:25:46,199 - INFO - Downloaded 9c5a3412be564d44a57c22d1ddd95902.jpg\n",
      "2024-08-01 23:25:46,208 - INFO - Downloaded 330067446419e5a7dc60e867947d1c16.jpg\n",
      "2024-08-01 23:25:46,451 - INFO - Downloaded 84b45aecb47a33d8519717de9f085b99.jpg\n",
      "2024-08-01 23:25:46,460 - INFO - Downloaded ecf509b776b14b287fb603917fc5ccdf.jpg\n",
      "2024-08-01 23:25:46,498 - INFO - Downloaded dc340d914b42e71d5f7fe30055668c6b.jpg\n",
      "2024-08-01 23:25:46,508 - INFO - Downloaded 03c1b4b1153e9000ed2f4b7567202bdd.jpg\n",
      "2024-08-01 23:25:46,545 - INFO - Downloaded d1b076e391aad4cd3231a3349f161398.jpg\n",
      "2024-08-01 23:25:46,577 - INFO - Downloaded bf78b0d55befa84d1e31ac889e640231.jpg\n",
      "2024-08-01 23:25:46,671 - INFO - Downloaded 6794fe2602307350bca506694901f66b.jpg\n",
      "2024-08-01 23:25:46,734 - INFO - Downloaded 88fabbc0d8f8f8989efaf73a6e0588a3.jpg\n",
      "2024-08-01 23:25:46,772 - INFO - Downloaded b54cac75f576474ee318c78a3fda6bea.jpg\n",
      "2024-08-01 23:25:46,787 - INFO - Downloaded 13e41438b7dc32ec1bd8a5d6b55e19d0.jpg\n",
      "2024-08-01 23:25:46,788 - INFO - Downloaded fb1e9704ccbd34ef9c2921eafd897c2a.jpg\n",
      "2024-08-01 23:25:46,790 - INFO - Downloaded b08e36723fe5773b9f2fb73db8fb420a.jpg\n",
      "2024-08-01 23:25:46,795 - INFO - Downloaded 508dcee8ed123aca68c907c55decaa1d.jpg\n",
      "2024-08-01 23:25:46,804 - INFO - Downloaded b2392cc8a954fcb1f68bb5a98844165a.jpg\n",
      "2024-08-01 23:25:46,809 - INFO - Downloaded 5d1b8e365fdf45a621aac8b498d65acc.jpg\n",
      "2024-08-01 23:25:46,814 - INFO - Downloaded 256f0ab57158dad6c6b1e6a082efca2d.jpg\n",
      "2024-08-01 23:25:46,826 - INFO - Downloaded db3bc7bebdc7962648b808054808ac40.jpg\n",
      "2024-08-01 23:25:46,829 - INFO - Downloaded 403e0a56bd69db08c4762e109357de15.jpg\n",
      "2024-08-01 23:25:46,960 - INFO - Downloaded 781f239259a0d7590c1418215f23cc6b.jpg\n",
      "2024-08-01 23:25:46,995 - INFO - Downloaded 4d975cef2072d6823315ca790e68272f.jpg\n",
      "2024-08-01 23:25:47,152 - INFO - Downloaded a29b2a5c97a1da26aba27c98d9b8f081.jpg\n",
      "2024-08-01 23:25:47,164 - INFO - Downloaded b0d96ac0d7062c327fa72c20e570e30e.jpg\n",
      "2024-08-01 23:25:47,198 - INFO - Downloaded 2f28260055c18aa5101758dcac5f660f.jpg\n",
      "2024-08-01 23:25:47,222 - INFO - Downloaded 841f68d4c4baa339aea40ab44f5eaf67.jpg\n",
      "2024-08-01 23:25:47,243 - INFO - Downloaded b40c11b21b09f8f90796b83ca12287d8.jpg\n",
      "2024-08-01 23:25:47,301 - INFO - Downloaded b110f09e85f7476fa59ac21972222df5.jpg\n",
      "2024-08-01 23:25:47,431 - INFO - Downloaded 48a1bcdba671ac4b125ffdab53433ed2.jpg\n",
      "2024-08-01 23:25:47,448 - INFO - Downloaded 81c3897c7dabf60b4d5f885b26c4c172.jpg\n",
      "2024-08-01 23:25:47,476 - INFO - Downloaded 4ba904ad922ff634cf48cc60920a88db.jpg\n",
      "2024-08-01 23:25:47,575 - INFO - Downloaded aa1ec22ff0bbad3df4e8e377a5bac668.jpg\n"
     ]
    },
    {
     "name": "stderr",
     "output_type": "stream",
     "text": [
      "2024-08-01 23:25:47,578 - INFO - Downloaded cbf7ff911db7df8f74f0c431018b5bdf.jpg\n",
      "2024-08-01 23:25:47,594 - INFO - Downloaded b841938041ab14f433f64c4a9dcfff01.jpg\n",
      "2024-08-01 23:25:47,594 - INFO - Downloaded 2a8e74b7bc255598111944c5aff2fc19.jpg\n",
      "2024-08-01 23:25:47,618 - INFO - Downloaded ce09ebd29282b25befb1757a6aa6eec3.jpg\n",
      "2024-08-01 23:25:47,618 - INFO - Downloaded f61505dd9d4ae63586d36ea52e6276e7.jpg\n",
      "2024-08-01 23:25:47,618 - INFO - Downloaded a010aac8a42a7657d276b3035e03294a.jpg\n",
      "2024-08-01 23:25:47,636 - INFO - Downloaded 22598324488ebc2a851a9400e60fa5e6.jpg\n",
      "2024-08-01 23:25:47,638 - INFO - Downloaded 83fc577a48625435ddb9633426084c38.jpg\n",
      "2024-08-01 23:25:47,667 - INFO - Downloaded 572d46fe5d74f443022219f8538ea042.jpg\n",
      "2024-08-01 23:25:47,703 - INFO - Downloaded 230704bfd73ab1fed605f1aaafbb0d37.jpg\n",
      "2024-08-01 23:25:47,847 - INFO - Downloaded 20c6ccfc7deb903f5d8738dd4590b804.jpg\n",
      "2024-08-01 23:25:47,868 - INFO - Downloaded b834454c297430af6f3321beeeb37f1f.jpg\n",
      "2024-08-01 23:25:47,905 - INFO - Downloaded e7a7abe228a3ecaacd0545e573255851.jpg\n",
      "2024-08-01 23:25:47,952 - INFO - Downloaded c6b574b992b4fd106b1b8ba129a48985.jpg\n",
      "2024-08-01 23:25:47,964 - INFO - Downloaded 6aeaff7f6ac04b3940251d12de9c0efa.jpg\n",
      "2024-08-01 23:25:48,010 - INFO - Downloaded 93518947675fe037402bf804848dde0b.jpg\n",
      "2024-08-01 23:25:48,141 - INFO - Downloaded 744920f3857284089dce7a33535aa61e.jpg\n",
      "2024-08-01 23:25:48,163 - INFO - Downloaded 632f8aa186ecc477366bb9379462a80c.jpg\n",
      "2024-08-01 23:25:48,185 - INFO - Downloaded 47a2349c424240a9ecf0fc1868c5712c.jpg\n",
      "2024-08-01 23:25:48,295 - INFO - Downloaded c9cb8ae60492c06c8925ebfb4c9bd180.jpg\n",
      "2024-08-01 23:25:48,366 - INFO - Downloaded b6f716434b88410996e618be78c07a5d.jpg\n",
      "2024-08-01 23:25:48,383 - INFO - Downloaded 45e2d6d6ec39d7d2243c25f5be3545f3.jpg\n",
      "2024-08-01 23:25:48,383 - INFO - Downloaded 6f31c8d4c2cc8f709a5609b0996e8107.jpg\n",
      "2024-08-01 23:25:48,389 - INFO - Downloaded 372811d407e2b110b8e0634f64d10a5c.jpg\n",
      "2024-08-01 23:25:48,392 - INFO - Downloaded 16406bd95532ac5926bcdc82177d390e.jpg\n",
      "2024-08-01 23:25:48,394 - INFO - Downloaded 12c5403788e7488f2b2b7cd31b7443bb.jpg\n",
      "2024-08-01 23:25:48,401 - INFO - Downloaded f63d76f0acf3e7d10c5b7b96bba365ed.jpg\n",
      "2024-08-01 23:25:48,410 - INFO - Downloaded 54e687f86d4c12cc6973f57e5496ee51.jpg\n",
      "2024-08-01 23:25:48,412 - INFO - Downloaded ae8aa6144025d1ba4b1eb053b87773c0.jpg\n",
      "2024-08-01 23:25:48,416 - INFO - Downloaded 8719a45ec19d717112078550f196f106.jpg\n",
      "2024-08-01 23:25:48,528 - INFO - Downloaded b3eb07160b746c500182e6a8da2010d9.png\n",
      "2024-08-01 23:25:48,537 - INFO - Downloaded de2a89ba0224ece20752935035f1d689.png\n",
      "2024-08-01 23:25:48,556 - INFO - Downloaded 2f91006b6f07c24ff868f1103ff96686.jpg\n",
      "2024-08-01 23:25:48,565 - INFO - Downloaded f0dac2eced11f725732fe34b51bb965d.jpg\n",
      "2024-08-01 23:25:48,573 - INFO - Downloaded 35ba49f4c8022febca4e5e85ef676197.png\n",
      "2024-08-01 23:25:48,614 - INFO - Downloaded 6a639882a70a21ab82ab5af89881959a.jpg\n",
      "2024-08-01 23:25:48,627 - INFO - Downloaded d2d22313048f9942c8a87d8acf4a4bea.png\n",
      "2024-08-01 23:25:48,648 - INFO - Downloaded f25928e9f24ce5a528a936488a062c49.png\n",
      "2024-08-01 23:25:48,650 - INFO - Downloaded 35815445b5c1a81a78944a60345e3808.png\n",
      "2024-08-01 23:25:48,654 - INFO - Downloaded 6bcfd02d3f7d5fb5ad2de37c7a175573.jpg\n",
      "2024-08-01 23:25:48,672 - INFO - Downloaded 1f419282b940427a7fcdc80908f4cd4d.png\n",
      "2024-08-01 23:25:48,687 - INFO - Downloaded 6a6eedd3dc3035ff8397d53f838c133b.png\n",
      "2024-08-01 23:25:48,695 - INFO - Downloaded 63a2ae2c9cdc627e40964bfe5fac6995.jpg\n",
      "2024-08-01 23:25:48,725 - INFO - Downloaded 88373f8c4487ebab6635da12c63113fd.png\n",
      "2024-08-01 23:25:48,729 - INFO - Downloaded a301c8fc671b00b14eb5d8101794f833.jpg\n",
      "2024-08-01 23:25:48,764 - INFO - Downloaded 3283a32e01c33d353d1b11173cf87c1c.png\n",
      "2024-08-01 23:25:48,769 - INFO - Downloaded 0e873b232b7b5a03adc549d3c89fbe6a.png\n",
      "2024-08-01 23:25:48,779 - INFO - Downloaded 200b0f2bc654a4290a403d72e09f5d91.png\n",
      "2024-08-01 23:25:48,791 - INFO - Downloaded 5c4ec674f0e0487f42ed0f800320fa2a.png\n",
      "2024-08-01 23:25:48,817 - INFO - Downloaded d79168d3e8bca40f8c6dad8a34097d97.png\n",
      "2024-08-01 23:25:48,828 - INFO - Downloaded 03e0e8ca5a2dd59b4e4212102a7d3aee.png\n",
      "2024-08-01 23:25:48,829 - INFO - Downloaded f0440f37ad29595e47d547167f3fe644.png\n",
      "2024-08-01 23:25:48,865 - INFO - Downloaded dafd15f859568a0866e6770dc19cce9f.jpg\n",
      "2024-08-01 23:25:48,884 - INFO - Downloaded c0eff2b4213610720312bf857748dc5c.png\n",
      "2024-08-01 23:25:48,884 - INFO - Downloaded f632927a51f9717cd97a8195c274625a.png\n",
      "2024-08-01 23:25:48,896 - INFO - Downloaded 9dbf427b6ceb34682c7058844663dc01.jpg\n",
      "2024-08-01 23:25:48,912 - INFO - Downloaded ace654574593709ee7763204d54b2fbf.png\n",
      "2024-08-01 23:25:48,915 - INFO - Downloaded 6f44904c4f71cd641698788e6dd197f7.png\n",
      "2024-08-01 23:25:48,922 - INFO - Downloaded 306406cfc18bb114ae3d2cd08b450d24.png\n",
      "2024-08-01 23:25:48,934 - INFO - Downloaded c6f802e2a9c2e24e79ffc0fc30a64ecb.jpg\n",
      "2024-08-01 23:25:48,959 - INFO - Downloaded 2a83ee78b0ee168f1f9b1160ad6510bd.png\n",
      "2024-08-01 23:25:48,982 - INFO - Downloaded dd6c4d2608cd4a9a4dbf8dc290187a17.png\n",
      "2024-08-01 23:25:49,017 - INFO - Downloaded ad0f7126d0c32922a32d76a6b8bb600c.png\n",
      "2024-08-01 23:25:49,019 - INFO - Downloaded 2ae7bb72d99f06bb5ad8852990340c18.png\n",
      "2024-08-01 23:25:49,040 - INFO - Downloaded a17553e3db0b0f90f6180c485b5e0a95.jpg\n",
      "2024-08-01 23:25:49,043 - INFO - Downloaded bf268035ba5f8074602b60321a6fe802.png\n",
      "2024-08-01 23:25:49,044 - INFO - Downloaded ed888ca5587057f936d7ed1e6989f9b0.png\n",
      "2024-08-01 23:25:49,054 - INFO - Downloaded e16f84b83f6d69f6829b841d6761c55e.png\n",
      "2024-08-01 23:25:49,122 - INFO - Downloaded 515de0cfebcc635096409584168b4da5.png\n",
      "2024-08-01 23:25:49,142 - INFO - Downloaded e289a309f0b5e29d09b970e0e4d6ddc4.png\n",
      "2024-08-01 23:25:49,154 - INFO - Downloaded f0f9d5f4312848af7490bf3c5e0a72ba.png\n",
      "2024-08-01 23:25:49,165 - INFO - Downloaded 7506f4453ff63d8a4c18f6bcda4f1620.png\n",
      "2024-08-01 23:25:49,176 - INFO - Downloaded 3b0d7816ea53afba8cdd2c8c7947bc1e.png\n",
      "2024-08-01 23:25:49,169 - INFO - Downloaded 973b332ce215fe46cf9308e87c3db1c5.png\n",
      "2024-08-01 23:25:49,177 - INFO - Downloaded 5d30a8029284ec84268ae766b1bb128a.jpg\n",
      "2024-08-01 23:25:49,177 - INFO - Downloaded 5d0da56b507c9ca612d1a472dc02f764.png\n",
      "2024-08-01 23:25:49,166 - INFO - Downloaded 1a545560ab298774cf90b3c6aeac1a70.jpg\n",
      "2024-08-01 23:25:49,183 - INFO - Downloaded 4bb3785b03fbaf2a86b5c56f52eba5ea.jpg\n",
      "2024-08-01 23:25:49,187 - INFO - Downloaded 586dc68f488658363a91fa269260bcd2.png\n",
      "2024-08-01 23:25:49,187 - INFO - Downloaded e1d2d4e4a7ef8432a557ea0fa383ba99.jpg\n",
      "2024-08-01 23:25:49,189 - INFO - Downloaded 482103c094badbae8c6d9c6672ba97d0.jpg\n",
      "2024-08-01 23:25:49,184 - INFO - Downloaded c6c0571181f65b0eb1451d72cedd1aa2.jpg\n",
      "2024-08-01 23:25:49,199 - INFO - Downloaded e3f5d84025b69eebab08377e83828dbc.jpg\n",
      "2024-08-01 23:25:49,214 - INFO - Downloaded 44f122dd0a318982daa091b2458e6e90.png\n",
      "2024-08-01 23:25:49,273 - INFO - Downloaded 4966a71eca3c60311d73081182bcfbd4.png\n",
      "2024-08-01 23:25:49,324 - INFO - Downloaded 8714c81eb723874e1c8987206c58b07c.png\n",
      "2024-08-01 23:25:49,326 - INFO - Downloaded 6dbdaf185a619cee6d0b515795f42d92.png\n",
      "2024-08-01 23:25:49,328 - INFO - Downloaded d57cb040c1a38f2985ffd9afc89ce1a6.png\n",
      "2024-08-01 23:25:49,359 - INFO - Downloaded e962ad03f0cbebd01ac79f20e6dc0019.png\n",
      "2024-08-01 23:25:49,364 - INFO - Downloaded 15c22d188ed9e52702d4c328c57bbb61.png\n",
      "2024-08-01 23:25:49,364 - INFO - Downloaded 87f8950ec2881aa86c50222564f87a0c.png\n",
      "2024-08-01 23:25:49,368 - INFO - Downloaded 34979b931347ebacc24b3bb8752f07d4.png\n",
      "2024-08-01 23:25:49,399 - INFO - Downloaded 712f75a8f216b9e6fc4747470c65291c.png\n",
      "2024-08-01 23:25:49,403 - INFO - Downloaded ad27cf198277d4394ef5e989a4d4be61.png\n",
      "2024-08-01 23:25:49,442 - INFO - Downloaded 0522dd07f54cb828fbbc1fb51e1224ef.png\n",
      "2024-08-01 23:25:49,444 - INFO - Downloaded b1a50e53b85a6ee70de820447ae4d7ab.png\n",
      "2024-08-01 23:25:49,446 - INFO - Downloaded 71f08efb0a3c86566dc6d009def35557.png\n",
      "2024-08-01 23:25:49,465 - INFO - Downloaded d9c6387866f6cf4f11006a1f5293b210.png\n",
      "2024-08-01 23:25:49,492 - INFO - Downloaded 812c962a1e28c4efdee87da6b2082cb4.png\n",
      "2024-08-01 23:25:49,507 - INFO - Downloaded 4b76ab5c155a423fc08328bf98237f65.png\n",
      "2024-08-01 23:25:49,510 - INFO - Downloaded f250745c15a95b81599974eb498c33f4.png\n",
      "2024-08-01 23:25:49,560 - INFO - Downloaded 4b4b27abe4d7cb3ebda020619b43b4a6.png\n"
     ]
    },
    {
     "name": "stderr",
     "output_type": "stream",
     "text": [
      "2024-08-01 23:25:49,567 - INFO - Downloaded b62bc9a3d04d2a5514956d3192c77e98.png\n",
      "2024-08-01 23:25:49,571 - INFO - Downloaded b843597a06455b1067ad3b154fbb625b.png\n",
      "2024-08-01 23:25:49,579 - INFO - Downloaded 2e0bcf9c44cb579cd1ca1687ef7fb55c.png\n",
      "2024-08-01 23:25:49,597 - INFO - Downloaded 51b873da93c8954876cc445916c46d73.png\n",
      "2024-08-01 23:25:49,611 - INFO - Downloaded 06038e250da7f69ce9a1a075c9dc19d3.png\n",
      "2024-08-01 23:25:49,709 - INFO - Downloaded 212530d0102e9480d0c88955b937ebff.png\n",
      "2024-08-01 23:25:49,640 - INFO - Downloaded eccf8290307ff855482e13e3413090ae.png\n",
      "2024-08-01 23:25:49,644 - INFO - Downloaded 8d1c4d4491f272d0de43e88165983004.png\n",
      "2024-08-01 23:25:49,649 - INFO - Downloaded c7bf1cf9ba26dff420fcb7f2e9d67e65.png\n",
      "2024-08-01 23:25:49,659 - INFO - Downloaded 46df647bfc0971f83f36773e5e6228c8.png\n",
      "2024-08-01 23:25:49,659 - INFO - Downloaded ad4c1a3838b61bd3718a3f56ca92eced.png\n",
      "2024-08-01 23:25:49,668 - INFO - Downloaded 225ed3f0841c29e537cde2fb8cb6585a.png\n",
      "2024-08-01 23:25:49,683 - INFO - Downloaded 88e484f4e4f1477054c0e799adb7e206.png\n",
      "2024-08-01 23:25:49,626 - INFO - Downloaded 5d02f3728b6cd260ea6dd9b7206f8722.png\n",
      "2024-08-01 23:25:49,735 - INFO - Downloaded c2f9d984680c799a9ef014ad05b69e08.png\n",
      "2024-08-01 23:25:49,736 - INFO - Downloaded a3f76a01d9898897c629a2c6ffd98af6.png\n",
      "2024-08-01 23:25:49,748 - INFO - Downloaded 4e0e4704b0d70f93c8b81e26d14ab13b.png\n",
      "2024-08-01 23:25:49,765 - INFO - Downloaded 4fd30de6a2ba853519829b5150e3fe5d.png\n",
      "2024-08-01 23:25:49,767 - INFO - Downloaded e78ab9c4f91d833e88939d9f5847d7a8.png\n",
      "2024-08-01 23:25:49,815 - INFO - Downloaded c44203228b102c977c48bf76e672fc7e.png\n",
      "2024-08-01 23:25:49,824 - INFO - Downloaded 900588ef6ec72638cc4792929ceeebf9.png\n",
      "2024-08-01 23:25:49,825 - INFO - Downloaded f2ea13722edeb5c21f6ee80b6f424f5a.png\n",
      "2024-08-01 23:25:49,834 - INFO - Downloaded 05d30c306cf4f85708e9079fa8b2267f.png\n",
      "2024-08-01 23:25:49,852 - INFO - Downloaded 2e7350e9924503274eda315596541269.png\n",
      "2024-08-01 23:25:49,875 - INFO - Downloaded 7a5e178892a268e6904ddcd63f559d0c.png\n",
      "2024-08-01 23:25:49,878 - INFO - Downloaded 1b86814af5ae9f5183a027d044d70284.png\n",
      "2024-08-01 23:25:49,891 - INFO - Downloaded 925d0cef5c431c6785cd6317cd2b9033.png\n",
      "2024-08-01 23:25:49,909 - INFO - Downloaded bb5ae8c05cc7edb9f843cb020d132475.png\n",
      "2024-08-01 23:25:49,912 - INFO - Downloaded cf2a636f753fb1939861524d9f3a4f7d.png\n",
      "2024-08-01 23:25:49,921 - INFO - Downloaded f58b92822d1dcc4198e633802b4cee3f.png\n",
      "2024-08-01 23:25:49,929 - INFO - Downloaded 5cb08beb89c4690fadf1ffce53c267b1.png\n",
      "2024-08-01 23:25:49,943 - INFO - Downloaded 0c2c4cfc8d83a4e74f87550223d142d2.png\n",
      "2024-08-01 23:25:50,004 - INFO - Downloaded 2b4ad0095117c6b18c61e03f5117cbbc.png\n",
      "2024-08-01 23:25:50,013 - INFO - Downloaded 3470dde0662ccbeea5336b03a8eda720.png\n",
      "2024-08-01 23:25:50,035 - INFO - Downloaded 3ab51518772bdd5b0d9de74a9578caf4.png\n",
      "2024-08-01 23:25:50,036 - INFO - Downloaded 1893e57bc08a902af817a05c095e766a.png\n",
      "2024-08-01 23:25:50,046 - INFO - Downloaded 6d5204c06469eea7d07fcef6a876fcd4.png\n",
      "2024-08-01 23:25:50,050 - INFO - Downloaded 272c4dd159850e7401899ed160e8bce7.png\n",
      "2024-08-01 23:25:50,065 - INFO - Downloaded 986b1df4355b2244434c0fe5ef119234.png\n",
      "2024-08-01 23:25:50,081 - INFO - Downloaded 633d8e0f7c0dea2ee161949dc1661c52.png\n",
      "2024-08-01 23:25:50,101 - INFO - Downloaded afbf5b5770ae9445912312d435879f44.png\n",
      "2024-08-01 23:25:50,116 - INFO - Downloaded 12b23a346ea659a468bddccef630b09e.png\n",
      "2024-08-01 23:25:50,155 - INFO - Downloaded 9e39e06817e7c58c87b5e4ccd8414cf4.png\n",
      "2024-08-01 23:25:50,175 - INFO - Downloaded db7d4dff74980b582dcc5b720f9b1761.png\n",
      "2024-08-01 23:25:50,210 - INFO - Downloaded ff702eafe494258cc709cc6b348c07d3.png\n",
      "2024-08-01 23:25:50,229 - INFO - Downloaded 0759fcf947aa277d9e3f673fb3358cf3.png\n",
      "2024-08-01 23:25:50,232 - INFO - Downloaded 06ff1edef213fb16fcb839f82c7f2ad0.png\n",
      "2024-08-01 23:25:50,234 - INFO - Downloaded 90ebd8215149aaac9c0c6532fcb2816c.png\n",
      "2024-08-01 23:25:50,234 - INFO - Downloaded ceacd7683251d35862404ef2e6a0541e.png\n",
      "2024-08-01 23:25:50,240 - INFO - Downloaded 76969a3702e4b00426323cd2f3efd415.png\n",
      "2024-08-01 23:25:50,263 - INFO - Downloaded 839f328c3f2eeb028dbff1b4584b8a4f.png\n",
      "2024-08-01 23:25:50,272 - INFO - Downloaded 4e3f1ad6980eb4f73bd8f7c57e5f97d7.png\n",
      "2024-08-01 23:25:50,284 - INFO - Downloaded 878fdd8ba4f31bcb96bddaf566849d32.png\n",
      "2024-08-01 23:25:50,298 - INFO - Downloaded 43e9a4322f7ee3535b638ed178c33713.png\n",
      "2024-08-01 23:25:50,307 - INFO - Downloaded f825c4ddfd35513d240c11953a2a6c78.png\n",
      "2024-08-01 23:25:50,313 - INFO - Downloaded a29b579cab08c8e8bb90d21b06748b8e.png\n",
      "2024-08-01 23:25:50,345 - INFO - Downloaded 0a40a2fe996980fc8c717f2a2ce3cf37.png\n",
      "2024-08-01 23:25:50,384 - INFO - Downloaded 9ba5728f13a308b65f01896a3f85c40a.png\n",
      "2024-08-01 23:25:50,421 - INFO - Downloaded 80234b607b2d6a8cbecff3d4b1af1581.png\n",
      "2024-08-01 23:25:50,423 - INFO - Downloaded 5c18660c602eb008fc2a9dce742423f3.png\n",
      "2024-08-01 23:25:50,423 - INFO - Downloaded 367fc8a3dc8bd13adf45acac87a6f89f.png\n",
      "2024-08-01 23:25:50,432 - INFO - Downloaded 3cdbf31825e674a9ce52c52d89219c77.png\n",
      "2024-08-01 23:25:50,440 - INFO - Downloaded edbeae3702d16d4912be34022f33d5dc.png\n",
      "2024-08-01 23:25:50,454 - INFO - Downloaded 905d66a53dceca75a82e0407ca274662.png\n",
      "2024-08-01 23:25:50,455 - INFO - Downloaded 748797220884825f8e627b3b805bbde4.png\n",
      "2024-08-01 23:25:50,474 - INFO - Downloaded fb651cb2e869b0af0ec844823d9ea7c9.png\n",
      "2024-08-01 23:25:50,501 - INFO - Downloaded 99edf063c5cb6f5d11696d00783183ba.png\n",
      "2024-08-01 23:25:50,528 - INFO - Downloaded 874dc0d3edba411c0d98f06f35f227ab.png\n",
      "2024-08-01 23:25:50,546 - INFO - Downloaded 2aaf2bc7981e1c80c0739a28355a5216.png\n",
      "2024-08-01 23:25:50,557 - INFO - Downloaded 2b4f604e03a6f4de7313d7696e1899d1.png\n",
      "2024-08-01 23:25:50,562 - INFO - Downloaded ba79f8f5a79b1e8ce9027ce6c06f2214.png\n",
      "2024-08-01 23:25:50,571 - INFO - Downloaded cf5654d5a374cc9ae211c73461b6d798.png\n",
      "2024-08-01 23:25:50,597 - INFO - Downloaded 1aef54714c3829dc8c977270c014dc84.png\n",
      "2024-08-01 23:25:50,598 - INFO - Downloaded 41b9efa399dbc6cba6fa2ae22b6a40d9.png\n",
      "2024-08-01 23:25:50,605 - INFO - Downloaded 3263cbc1a991bf3f3259dd40654bb595.png\n",
      "2024-08-01 23:25:50,621 - INFO - Downloaded 99e0fda061d7809644eb91a879f5c425.png\n",
      "2024-08-01 23:25:50,638 - INFO - Downloaded 7ad59400a608f880dba674c7cd568309.png\n",
      "2024-08-01 23:25:50,643 - INFO - Downloaded 130d0fd0ae7d2df4bab844ffaafd6a72.png\n",
      "2024-08-01 23:25:50,661 - INFO - Downloaded 899cd22bc1435f243198841adfb7963e.png\n",
      "2024-08-01 23:25:50,664 - INFO - Downloaded 348444502cc465487c18b7b97c305078.png\n",
      "2024-08-01 23:25:50,694 - INFO - Downloaded 6df5be986fa03fbfdd9abd6c3bbefb86.png\n",
      "2024-08-01 23:25:50,731 - INFO - Downloaded 3583ab228216d2515c6b4510e4bdb6c9.png\n",
      "2024-08-01 23:25:50,756 - INFO - Downloaded 6804c49dd60f7b5462767efc7201441b.png\n",
      "2024-08-01 23:25:50,773 - INFO - Downloaded f674f7bae9b11be7ee0178d217921486.png\n",
      "2024-08-01 23:25:50,779 - INFO - Downloaded c79f09f34fc13ff374d9a964b6dbf6bd.png\n",
      "2024-08-01 23:25:50,782 - INFO - Downloaded 71fcb496bea5a145077aecbd4d0bd721.png\n",
      "2024-08-01 23:25:50,784 - INFO - Downloaded 34dd89a532890bbe0b458cfd1f373d94.png\n",
      "2024-08-01 23:25:50,799 - INFO - Downloaded b53b0c94c16248eff183d8300fdfe796.png\n",
      "2024-08-01 23:25:50,804 - INFO - Downloaded b717d7df6b3883004bf6f8d5a7843c22.png\n",
      "2024-08-01 23:25:50,804 - INFO - Downloaded 98a249f22070782800354c306fd06645.png\n",
      "2024-08-01 23:25:50,814 - INFO - Downloaded 51487dba6027d6cde6843f49e1bc896d.png\n",
      "2024-08-01 23:25:50,820 - INFO - Downloaded 3b2780442e339c5d41b8db2223a3fcab.png\n",
      "2024-08-01 23:25:50,827 - INFO - Downloaded 5a1f33592c3e27e572f4b15b604723bf.png\n",
      "2024-08-01 23:25:50,855 - INFO - Downloaded 0e742bdace16d2bf0a2fab26ea893e99.png\n",
      "2024-08-01 23:25:50,856 - INFO - Downloaded 301cf04ea3bd664dc2a4a6abc89626cb.png\n",
      "2024-08-01 23:25:50,882 - INFO - Downloaded 2d35602a54097be9baab09ee1e0ac074.png\n",
      "2024-08-01 23:25:50,886 - INFO - Downloaded 7a64364381e511eda33cfc4e1a8927b0.png\n",
      "2024-08-01 23:25:50,916 - INFO - Downloaded e49d01c4150727e64e2fbcafa6363962.png\n",
      "2024-08-01 23:25:50,955 - INFO - Downloaded 20bcd5143b050a8d200d4360c8d61d1a.png\n",
      "2024-08-01 23:25:50,970 - INFO - Downloaded a39773d2459b1d5a46b3cec785923c9a.png\n",
      "2024-08-01 23:25:50,970 - INFO - Downloaded 669c5846fc2856f3b72653cf09389cfa.png\n",
      "2024-08-01 23:25:50,976 - INFO - Downloaded 8a8f6e0976c7b180fb9e24ba32c2c9d1.png\n"
     ]
    },
    {
     "name": "stderr",
     "output_type": "stream",
     "text": [
      "2024-08-01 23:25:50,990 - INFO - Downloaded e74e7015bfacb7771f3d0163f572c11c.png\n",
      "2024-08-01 23:25:51,024 - INFO - Downloaded 6ab895e39ecb5235ec94a5736a4b5ad4.png\n",
      "2024-08-01 23:25:51,036 - INFO - Downloaded 5718dc9a7b8a2ec8b7d2b5992a110255.png\n",
      "2024-08-01 23:25:51,037 - INFO - Downloaded 0cd5eb9cef01ca6fe57c46b5e20bcf92.png\n",
      "2024-08-01 23:25:51,037 - INFO - Downloaded 0bc30ecee34a8e78308a572f3d1cc79e.png\n",
      "2024-08-01 23:25:51,069 - INFO - Downloaded 5bf238802061f45912060b32b96184d0.png\n",
      "2024-08-01 23:25:51,072 - INFO - Downloaded c238889eb39cadb3541d0adc4d03a3a8.png\n",
      "2024-08-01 23:25:51,098 - INFO - Downloaded f49e654f7b350d29d26f781c9462d436.png\n",
      "2024-08-01 23:25:51,106 - INFO - Downloaded b6b28e1d1f53978fe026ef228a9cbbe5.png\n",
      "2024-08-01 23:25:51,136 - INFO - Downloaded fb20511280bb6cb129b17833ef2e6335.png\n",
      "2024-08-01 23:25:51,164 - INFO - Downloaded 909ec6a046a571cec71fa3cb54f572f4.png\n",
      "2024-08-01 23:25:51,179 - INFO - Downloaded a311dd3cff1b110498a073ea6a7d7159.png\n",
      "2024-08-01 23:25:51,188 - INFO - Downloaded 16cb11c17980a9a004fc726028c8b41c.png\n",
      "2024-08-01 23:25:51,206 - INFO - Downloaded 995bb2d3642196e38ebc13dc70bbb077.png\n",
      "2024-08-01 23:25:51,225 - INFO - Downloaded 7a2f0e3cb626cc055fc04492a15ff5c6.png\n",
      "2024-08-01 23:25:51,262 - INFO - Downloaded 1130ccd9b2b3c68278da091d2d795264.png\n",
      "2024-08-01 23:25:51,284 - INFO - Downloaded 4ef4be67b239d44860fae17d2d6d12f2.png\n",
      "2024-08-01 23:25:51,298 - INFO - Downloaded 9449794c20583f971c0436b1c61d2659.png\n",
      "2024-08-01 23:25:51,309 - INFO - Downloaded 8d6d4f25471cd34c705d9d4c5bf70c44.png\n",
      "2024-08-01 23:25:51,311 - INFO - Downloaded 7a076e604795bfb0fac4baee573ebe6a.png\n",
      "2024-08-01 23:25:51,325 - INFO - Downloaded e3f9f384639fd3333c1ed7b4bbbe1f3d.png\n",
      "2024-08-01 23:25:51,355 - INFO - Downloaded 26e305f466cd441905741456e7709db6.png\n",
      "2024-08-01 23:25:51,357 - INFO - Downloaded f6ce8fe4be2f6371b820162ee1b3cf0a.png\n",
      "2024-08-01 23:25:51,358 - INFO - Downloaded cd779d39ef333605eb5d28d62e590145.png\n",
      "2024-08-01 23:25:51,365 - INFO - Downloaded 2ab0cd69969da3898caf7c70709e7219.png\n",
      "2024-08-01 23:25:51,373 - INFO - Downloaded 63e25344f311241a1054cb2d05b6fd11.png\n",
      "2024-08-01 23:25:51,383 - INFO - Downloaded 6df931570bb01762db33c6579f15a58b.png\n",
      "2024-08-01 23:25:51,394 - INFO - Downloaded 7180915bba96e7bbb9997cc20fa5dec0.png\n",
      "2024-08-01 23:25:51,403 - INFO - Downloaded 29a32e1aa5ac2b850f2983787984d989.png\n",
      "2024-08-01 23:25:51,424 - INFO - Downloaded 5c41ca5bc9f627dab21eb2ae8d734b29.png\n",
      "2024-08-01 23:25:51,434 - INFO - Downloaded d7faf5d36438b977915558bf7bfda55f.png\n",
      "2024-08-01 23:25:51,465 - INFO - Downloaded 4e5ddaff0c36e06c4aa6df203b5c8d0d.png\n",
      "2024-08-01 23:25:51,488 - INFO - Downloaded 71d4a4f0ef2da144700388f5d5fdf5e1.png\n",
      "2024-08-01 23:25:51,497 - INFO - Downloaded f0827d8f8c8f8b4a91d2cfdb945e1f5e.png\n",
      "2024-08-01 23:25:51,517 - INFO - Downloaded b0ff516a920b89e855b74ca5a397ca53.png\n",
      "2024-08-01 23:25:51,520 - INFO - Downloaded 54379b2dde4f3b4d10fcc5928b9c1b73.png\n",
      "2024-08-01 23:25:51,585 - INFO - Downloaded 1ecd54097c89acc72a07fa89894fffc4.png\n",
      "2024-08-01 23:25:51,594 - INFO - Downloaded cf9afd161aff577539837cdc334bc2b4.png\n",
      "2024-08-01 23:25:51,608 - INFO - Downloaded 785f451897655e880aca4babed5f3773.png\n",
      "2024-08-01 23:25:51,613 - INFO - Downloaded 9a15b824d80104bd69a61e758eb71608.png\n",
      "2024-08-01 23:25:51,638 - INFO - Downloaded 9e2d9430c9fc919c10bb35a1f6231cf1.png\n",
      "2024-08-01 23:25:51,662 - INFO - Downloaded 0f24e121df8e628ddc1bfc5c131b3cb1.png\n",
      "2024-08-01 23:25:51,684 - INFO - Downloaded 11bc936f22f76b5810e8c07c3ca1081f.png\n",
      "2024-08-01 23:25:51,699 - INFO - Downloaded d5aa80fc36e82888880ba361fbe511a2.png\n",
      "2024-08-01 23:25:51,709 - INFO - Downloaded 5b8ba9d397d3bacaacf4ff4017cbde8a.png\n",
      "2024-08-01 23:25:51,719 - INFO - Downloaded 6b670d6a69b34cb6def9ec8da142b66d.png\n",
      "2024-08-01 23:25:51,720 - INFO - Downloaded c3f8894d48d0bd98332cd68218754adf.png\n",
      "2024-08-01 23:25:51,725 - INFO - Downloaded c9999d82055e6f26d13f94395be181e5.png\n",
      "2024-08-01 23:25:51,737 - INFO - Downloaded 05fc5dcc6af388dafa7f5a277dcfad36.png\n",
      "2024-08-01 23:25:51,743 - INFO - Downloaded 2bf2578847ad8674149cf948d546c056.png\n",
      "2024-08-01 23:25:51,749 - INFO - Downloaded 39e701ecc247f0b11ff3869fec8e7218.png\n",
      "2024-08-01 23:25:51,759 - INFO - Downloaded dd2062784e10423d0df3a5c2613b1235.png\n",
      "2024-08-01 23:25:51,774 - INFO - Downloaded b9a3a0a4ebb0edcbcd2e85908f41bedb.png\n",
      "2024-08-01 23:25:51,800 - INFO - Downloaded fcefea2c818974f711af1f2262511c96.png\n",
      "2024-08-01 23:25:51,818 - INFO - Downloaded 45b73e57fe20d74a6890974bb5f467b9.png\n",
      "2024-08-01 23:25:51,820 - INFO - Downloaded 66632b5a6ba58b0f11d7e91a6b1be82b.png\n",
      "2024-08-01 23:25:51,827 - INFO - Downloaded 9cb9a490bc12a9452b8faa5ef51cd25c.png\n",
      "2024-08-01 23:25:51,864 - INFO - Downloaded c20234e32b428fdafec568c86ca4b530.png\n",
      "2024-08-01 23:25:51,865 - INFO - Downloaded fab7ce51312d0ac32d05a98eb4ecfe3b.png\n",
      "2024-08-01 23:25:51,926 - INFO - Downloaded a334c19d12ad77930b579bb2b0f31ebd.png\n",
      "2024-08-01 23:25:51,926 - INFO - Downloaded c402ed95879f63d0852229bad10b4490.png\n",
      "2024-08-01 23:25:51,931 - INFO - Downloaded d499550ba20901699124f333d2ef3736.png\n",
      "2024-08-01 23:25:51,945 - INFO - Downloaded ed32afa78df092d7145691a1ad1d7d1f.png\n",
      "2024-08-01 23:25:51,964 - INFO - Downloaded 1682ae6e149f2c63146eacbd802e2a42.png\n",
      "2024-08-01 23:25:51,966 - INFO - Downloaded 3b65eeb89c0145f6e26ce240809373c5.png\n",
      "2024-08-01 23:25:51,981 - INFO - Downloaded 574bcae294a7f60c4bae6687e62a40f2.png\n",
      "2024-08-01 23:25:51,992 - INFO - Downloaded 99f73af764a5952e54665048713254b4.png\n",
      "2024-08-01 23:25:52,000 - INFO - Downloaded 796fd3b121e9918f8f27082a0ceb0312.png\n",
      "2024-08-01 23:25:52,018 - INFO - Downloaded 1f5ec4ce19237d8105598355e27b1d03.png\n",
      "2024-08-01 23:25:52,042 - INFO - Downloaded 69d4a26468dee06ea6b3e4764cb40a61.png\n",
      "2024-08-01 23:25:52,077 - INFO - Downloaded da63bd524a9b29f43aa683e34d3eef87.png\n",
      "2024-08-01 23:25:52,078 - INFO - Downloaded 57046a08d02d5605a4424f04602d3590.png\n",
      "2024-08-01 23:25:52,084 - INFO - Downloaded c26d514d58ce60c401b17aad123df82e.png\n",
      "2024-08-01 23:25:52,099 - INFO - Downloaded 8cc43174e4b7e4985c342eaf63e6a2bd.png\n",
      "2024-08-01 23:25:52,128 - INFO - Downloaded 98bba8cd93188f6d8e95ecc6eec53c1a.png\n",
      "2024-08-01 23:25:52,142 - INFO - Downloaded 237a9f0f9a38d07ce0a6ea822897324b.png\n",
      "2024-08-01 23:25:52,142 - INFO - Downloaded 435beb8757d47c6ea7aee4df4976562a.png\n",
      "2024-08-01 23:25:52,144 - INFO - Downloaded ab93e82be240ec508e42ba326366beca.png\n",
      "2024-08-01 23:25:52,197 - INFO - Downloaded eca21b83cfe2204c2043d4ef3318f1ea.png\n",
      "2024-08-01 23:25:52,213 - INFO - Downloaded a6f4bcb06dbf85244cff90171eeaa064.png\n",
      "2024-08-01 23:25:52,224 - INFO - Downloaded 9d43d90b2ece0d5b75286177b6cdbf1e.png\n",
      "2024-08-01 23:25:52,230 - INFO - Downloaded bc36a7d39143a48320c5e84f1f374e2c.png\n",
      "2024-08-01 23:25:52,233 - INFO - Downloaded 9db3ef0a904a2f98394e92588bd79282.png\n",
      "2024-08-01 23:25:52,238 - INFO - Downloaded a281c14f957fd4f0e7e66ff7680a7859.png\n",
      "2024-08-01 23:25:52,270 - INFO - Downloaded 6c198ce7dd54b25f06d5e7203ef7d9d3.png\n",
      "2024-08-01 23:25:52,303 - INFO - Downloaded 5642bfdce10f064a664738dfd6730341.png\n",
      "2024-08-01 23:25:52,313 - INFO - Downloaded 17443a42b53011338eea925015765adb.png\n",
      "2024-08-01 23:25:52,323 - INFO - Downloaded 57aa8c2b4668a4901157f330a9a562ba.png\n",
      "2024-08-01 23:25:52,324 - INFO - Downloaded 64ea2f31199993f56eeec750eb1e1664.png\n",
      "2024-08-01 23:25:52,365 - INFO - Downloaded 20fe112ed838eeb38380ec0e6bfd3608.png\n",
      "2024-08-01 23:25:52,370 - INFO - Downloaded 6b56c1971b753d88e09dc99b0f55bddf.png\n",
      "2024-08-01 23:25:52,385 - INFO - Downloaded 2d83c2311bb32ca30b7e05b95af0ed0c.png\n",
      "2024-08-01 23:25:52,391 - INFO - Downloaded 011ff2d14d6b62939d9f765c1416c96f.png\n",
      "2024-08-01 23:25:52,426 - INFO - Downloaded 19873e2cd6463ec566dbf1c4e66bd69b.png\n",
      "2024-08-01 23:25:52,433 - INFO - Downloaded 12400cf381f092d10b4a5295c3c7cc50.png\n",
      "2024-08-01 23:25:52,438 - INFO - Downloaded 5ae508fda9c2157e7dd4c61c4c746434.png\n",
      "2024-08-01 23:25:52,470 - INFO - Downloaded fb95f61cff254f0f3bdc45b564f3676e.png\n",
      "2024-08-01 23:25:52,471 - INFO - Downloaded a95d0339b9f813f46f0d6b251b30e13c.png\n",
      "2024-08-01 23:25:52,485 - INFO - Downloaded 77c3f59f908907ae4c18dd2af5ac866e.png\n",
      "2024-08-01 23:25:52,492 - INFO - Downloaded cc14396f85691b4e2749b45a4bad4a23.png\n",
      "2024-08-01 23:25:52,508 - INFO - Downloaded 583c47c7ecb01f8e4be36c4a9c18fefb.png\n",
      "2024-08-01 23:25:52,527 - INFO - Downloaded 2a865c0180730988edc4115492746155.png\n"
     ]
    },
    {
     "name": "stderr",
     "output_type": "stream",
     "text": [
      "2024-08-01 23:25:52,539 - INFO - Downloaded 7a24ad0661f8f628f4d05a3362ada835.png\n",
      "2024-08-01 23:25:52,541 - INFO - Downloaded c88104feafd1b6d781161e754d7279b2.png\n",
      "2024-08-01 23:25:52,546 - INFO - Downloaded 11c6391d7732f1b489732210e7f5d57f.png\n",
      "2024-08-01 23:25:52,553 - INFO - Downloaded f5db528ff75508c4ecee64e170e108d9.png\n",
      "2024-08-01 23:25:52,571 - INFO - Downloaded 675a5cbd5196f6a011b6bb8062dde1fe.png\n",
      "2024-08-01 23:25:52,580 - INFO - Downloaded 500392d5062215624ecdc20ded5c5b45.png\n",
      "2024-08-01 23:25:52,580 - INFO - Downloaded 7ef2cc333a9e4ec4bc8eb38b72199743.png\n",
      "2024-08-01 23:25:52,620 - INFO - Downloaded 50c6e7aa588cfb4dc454dfb3c11c2522.png\n",
      "2024-08-01 23:25:52,633 - INFO - Downloaded b1fad1e26744ac808cfb1eb2f5b28229.png\n",
      "2024-08-01 23:25:52,657 - INFO - Downloaded 04c2989cf7b3ea3ad32b5b891449edf3.png\n",
      "2024-08-01 23:25:52,675 - INFO - Downloaded 00f50abe48726b58646b1e3019ba3990.png\n",
      "2024-08-01 23:25:52,677 - INFO - Downloaded 25492c132809a8a7db6d3fd9d84593c9.png\n",
      "2024-08-01 23:25:52,710 - INFO - Downloaded a1093f914ade0a1bba74b65370e03d5a.png\n",
      "2024-08-01 23:25:52,724 - INFO - Downloaded c61bcee733ed667e8c5231ccd478b15e.png\n",
      "2024-08-01 23:25:52,728 - INFO - Downloaded 44bba8a9355fd0df518a99b4a5e4ffb1.png\n",
      "2024-08-01 23:25:52,741 - INFO - Downloaded 26530d75b0ee33d75ce90c6fe9083f41.png\n",
      "2024-08-01 23:25:52,764 - INFO - Downloaded 6ff6e9c1c08574ed3fd182bc7db539bb.png\n",
      "2024-08-01 23:25:52,764 - INFO - Downloaded c48ee8d3c39f91560ff7ef34a3156015.png\n",
      "2024-08-01 23:25:52,764 - INFO - Downloaded db8c8db642f072343b009fce628d5144.png\n",
      "2024-08-01 23:25:52,766 - INFO - Downloaded e620df3dbdc531f9aa398227f2baedb7.png\n",
      "2024-08-01 23:25:52,767 - INFO - Downloaded 9a95e51fe69e9357e54f65faa5ac4e6d.png\n",
      "2024-08-01 23:25:52,773 - INFO - Downloaded 1181c533f1646f0cde6db906779c05ea.png\n",
      "2024-08-01 23:25:52,812 - INFO - Downloaded 327144d0ed836ed85cb76efdeb25b6ec.png\n",
      "2024-08-01 23:25:52,825 - INFO - Downloaded 43bb14c06ba0ab6aa9a7dcf48c51bb31.png\n",
      "2024-08-01 23:25:52,836 - INFO - Downloaded 3bb00886802194365ba048fa97695ed4.png\n",
      "2024-08-01 23:25:52,862 - INFO - Downloaded 1038e2cb78cd2dace0ff80f0ce3aa069.png\n",
      "2024-08-01 23:25:52,899 - INFO - Downloaded 48246aa34a5fa3eccb61921ffde5d1a7.png\n",
      "2024-08-01 23:25:52,925 - INFO - Downloaded e7d80e632a4e663b002cbacc352a0711.png\n",
      "2024-08-01 23:25:52,941 - INFO - Downloaded 00e7bba44cae3410c44adcfaa651405a.png\n",
      "2024-08-01 23:25:52,952 - INFO - Downloaded 4f9ef402b2c440633cdb98c8ae583d8b.png\n",
      "2024-08-01 23:25:52,967 - INFO - Downloaded 6bc2c260f5252ae197cfa6b1dda20762.png\n",
      "2024-08-01 23:25:53,030 - INFO - Downloaded c6b07103a50469db01d9543120038041.png\n",
      "2024-08-01 23:25:53,033 - INFO - Downloaded e4ec98958c5e5352c013b2e6edca7ed3.png\n",
      "2024-08-01 23:25:53,037 - INFO - Downloaded 4f9aa6f13c8f57d21c3545ca7fe6275a.png\n",
      "2024-08-01 23:25:53,038 - INFO - Downloaded a1b4067102c561589665b96018da722c.png\n",
      "2024-08-01 23:25:53,047 - INFO - Downloaded c9f732e1e46ce4de32bdfe737415cd5e.png\n",
      "2024-08-01 23:25:53,064 - INFO - Downloaded 717287d418290615e4ef1f4c1a659795.png\n",
      "2024-08-01 23:25:53,077 - INFO - Downloaded 5dc37e9765240ee3d538b3377d2ae4fe.png\n",
      "2024-08-01 23:25:53,090 - INFO - Downloaded 5235faeef7483c4492f61975ddc704b9.png\n",
      "2024-08-01 23:25:53,092 - INFO - Downloaded 4c8f4c7acbc9adcbe6057bbed7ce2304.png\n",
      "2024-08-01 23:25:53,094 - INFO - Downloaded 12ee581f9d0d1cceca37325a222d86af.png\n",
      "2024-08-01 23:25:53,096 - INFO - Downloaded fa9c1c1c1e26d25cde5dbb7353b52820.png\n",
      "2024-08-01 23:25:53,103 - INFO - Downloaded 9ce488f937fdda893589b57197ef037d.png\n",
      "2024-08-01 23:25:53,126 - INFO - Downloaded 6b59cb2c7da1d715e214aeaa067f7272.png\n",
      "2024-08-01 23:25:53,136 - INFO - Downloaded 868a8fcb0eee8d838a14ef96de52cc62.png\n",
      "2024-08-01 23:25:53,155 - INFO - Downloaded 7bb50027ebe6de972af4402cdb8ebd4e.png\n",
      "2024-08-01 23:25:53,163 - INFO - Downloaded 9ba9f68a82a31df0b504a64e477739e5.png\n",
      "2024-08-01 23:25:53,212 - INFO - Downloaded abb3fa99da4f6afd746df415cee8205c.png\n",
      "2024-08-01 23:25:53,240 - INFO - Downloaded 57d831f7ab0604665bbf239b9c45c8d7.png\n",
      "2024-08-01 23:25:53,261 - INFO - Downloaded de92b565cab78bfcdde54f53f181d8b7.png\n",
      "2024-08-01 23:25:53,280 - INFO - Downloaded 567e49627712bcd73d6ef4e3f7e7fc07.png\n",
      "2024-08-01 23:25:53,280 - INFO - Downloaded 8688a81aca4341051562f3d01c483218.png\n",
      "2024-08-01 23:25:53,298 - INFO - Downloaded 535482349f3b6284a8438c7f05c5aa38.png\n",
      "2024-08-01 23:25:53,305 - INFO - Downloaded d8d5f03aed939a9912c35ca0b13bdecb.png\n",
      "2024-08-01 23:25:53,314 - INFO - Downloaded 3a4280827f641c95b9f903a97cd56942.png\n",
      "2024-08-01 23:25:53,325 - INFO - Downloaded b13ce93e924f497b853be3eb69053643.png\n",
      "2024-08-01 23:25:53,333 - INFO - Downloaded 0e1fade32260c98a457227be9f6e9adf.png\n",
      "2024-08-01 23:25:53,376 - INFO - Downloaded 5ffc86e13a7a7133a92b0d754d9d2a9f.png\n",
      "2024-08-01 23:25:53,392 - INFO - Downloaded f737b1738195e8581b5898634d30bf48.png\n",
      "2024-08-01 23:25:53,393 - INFO - Downloaded 3a5007a3fce5dc3e205eac29e9cb0927.png\n",
      "2024-08-01 23:25:53,394 - INFO - Downloaded e6452ffed4d5d5e655eb018ad0402c5b.png\n",
      "2024-08-01 23:25:53,396 - INFO - Downloaded 21fd11176e810afe6b7aeb7e1798b8f6.png\n",
      "2024-08-01 23:25:53,434 - INFO - Downloaded 60fef2f41f305eb411ce85556b46278f.png\n",
      "2024-08-01 23:25:53,477 - INFO - Downloaded fd200b7545419e408c02a2bc660fdc46.png\n",
      "2024-08-01 23:25:53,501 - INFO - Downloaded 340f5a5f20697a1e608c6da34c8a7dca.png\n",
      "2024-08-01 23:25:53,502 - INFO - Downloaded ff0a42711703f8c42cb2c282d8904851.png\n",
      "2024-08-01 23:25:53,506 - INFO - Downloaded 29f04786c1bc4090d3560c1a3a0c12fe.png\n",
      "2024-08-01 23:25:53,527 - INFO - Downloaded ffa74ded06ce7cafece90c547c28447e.png\n",
      "2024-08-01 23:25:53,530 - INFO - Downloaded 137e100442ca9b6d831f2e733c2e1f9c.png\n",
      "2024-08-01 23:25:53,576 - INFO - Downloaded cee798423c4d7a79cfb2b086737ff66a.png\n",
      "2024-08-01 23:25:53,607 - INFO - Downloaded 96055cb9cbd1775fea0dac285bf90eda.png\n",
      "2024-08-01 23:25:53,645 - INFO - Downloaded ae551f3158be6409f9dc833722155a30.png\n",
      "2024-08-01 23:25:53,651 - INFO - Downloaded 87f015eb287d35bd4cad6fc5c6425724.png\n",
      "2024-08-01 23:25:53,672 - INFO - Downloaded b7912f8e60f443d27813116f6366aed2.png\n",
      "2024-08-01 23:25:53,678 - INFO - Downloaded d44b5fc9d3cb41a820864d2976b90ff1.png\n",
      "2024-08-01 23:25:53,681 - INFO - Downloaded 703a12d29e6a52fe4eafee9eb9af2c6c.png\n",
      "2024-08-01 23:25:53,684 - INFO - Downloaded b256160efbfb5238fb477d8ac7b11990.png\n",
      "2024-08-01 23:25:53,690 - INFO - Downloaded f6528df1fdb7450ebbe192cec544918b.png\n",
      "2024-08-01 23:25:53,980 - INFO - Downloaded e7b8e3f466b77431046384658365f6e7.jpg\n",
      "2024-08-01 23:25:53,988 - INFO - Downloaded 50f4b24f972b4b25a4cecc0a1a634263.jpg\n",
      "2024-08-01 23:25:54,040 - INFO - Downloaded 6dfe5914f52a826cddec3030b99e0f6c.jpg\n",
      "2024-08-01 23:25:54,070 - INFO - Downloaded 04dd1f638d00869f16c9fde857bd542b.jpg\n",
      "2024-08-01 23:25:54,085 - INFO - Downloaded d482a81c62c19b5c7a804670f27bda1b.jpg\n",
      "2024-08-01 23:25:54,086 - INFO - Downloaded e336e2a3122f14888ba884183f388ada.jpg\n",
      "2024-08-01 23:25:54,116 - INFO - Downloaded 610bff2fbdc9728cf77d358a6b277308.jpg\n",
      "2024-08-01 23:25:54,211 - INFO - Downloaded c6f4495414e740321474a99abab6be02.jpg\n",
      "2024-08-01 23:25:54,264 - INFO - Downloaded 898856740197fce76177bb90fe775529.jpg\n",
      "2024-08-01 23:25:54,268 - INFO - Downloaded 49d37a306752030604f6003334a665c7.jpg\n",
      "2024-08-01 23:25:54,383 - INFO - Downloaded eacfa14cffccdb9c82de18d1ad667197.jpg\n",
      "2024-08-01 23:25:54,394 - INFO - Downloaded 0ef64144767efab80d4dc732605e42dc.jpg\n",
      "2024-08-01 23:25:54,438 - INFO - Downloaded d2b7df11ed7b1b234a7564117925cdae.jpg\n",
      "2024-08-01 23:25:54,451 - INFO - Downloaded eb2c053805f07eb7932ee3bf5d2f5ef3.jpg\n",
      "2024-08-01 23:25:54,500 - INFO - Downloaded bf38ca86b308281a9e0b77c2622eb36a.jpg\n",
      "2024-08-01 23:25:54,516 - INFO - Downloaded 0ee7097a7638f212d86c631a67cd5238.jpg\n",
      "2024-08-01 23:25:54,569 - INFO - Downloaded 8e181ffcd906ebc3d7a4c1b1b7397f8b.jpg\n",
      "2024-08-01 23:25:54,569 - INFO - Downloaded 187d166dc32fdf8016a5896a59f1884d.jpg\n",
      "2024-08-01 23:25:54,576 - INFO - Downloaded a1965c3e5c0abed1dc7d9a3b24f18a41.jpg\n",
      "2024-08-01 23:25:54,584 - INFO - Downloaded 142f97522269cffbd82b6a0471bf14a3.jpg\n",
      "2024-08-01 23:25:54,601 - INFO - Downloaded fc0e94bc291e439bf11e493ed65a1e8c.jpg\n",
      "2024-08-01 23:25:54,601 - INFO - Downloaded 66229b06c8eb502e75e8cf796c02f509.jpg\n",
      "2024-08-01 23:25:54,611 - INFO - Downloaded 720bcc6195edfaf4eaaa7426643fe44c.jpg\n",
      "2024-08-01 23:25:54,615 - INFO - Downloaded 2f2323fc5c4e3c2a433cad5c269e9438.jpg\n"
     ]
    },
    {
     "name": "stderr",
     "output_type": "stream",
     "text": [
      "2024-08-01 23:25:54,677 - INFO - Downloaded 6805502080bf26ada7188ee04653691a.jpg\n",
      "2024-08-01 23:25:54,826 - INFO - Downloaded 6c0dd1d29d6ef2910ae664c5dce16b9d.jpg\n",
      "2024-08-01 23:25:54,870 - INFO - Downloaded 4f06323df63aff5cbb96bf1c5de0397b.jpg\n",
      "2024-08-01 23:25:54,924 - INFO - Downloaded 102e2afe4d252ca386bb566e1797859f.jpg\n",
      "2024-08-01 23:25:54,930 - INFO - Downloaded 0e9a43941d78b1da6c96ffefb6a4777d.jpg\n",
      "2024-08-01 23:25:55,007 - INFO - Downloaded 234467054c67e4669c565e502dd49643.jpg\n",
      "2024-08-01 23:25:55,073 - INFO - Downloaded 422c218506d9400a3e7b6923cd7ac19d.jpg\n",
      "2024-08-01 23:25:55,079 - INFO - Downloaded 9864cd02bc5a95733379b19daa9ad3a5.jpg\n",
      "2024-08-01 23:25:55,135 - INFO - Downloaded f7ad8ef7c90e01f2fa12883fe4d80b9f.jpg\n",
      "2024-08-01 23:25:55,185 - INFO - Downloaded bffc748ed69af63bacae45df0e96ab32.jpg\n",
      "2024-08-01 23:25:55,190 - INFO - Downloaded 45f95ab569fc9e16c886b1e1c25314a3.jpg\n",
      "2024-08-01 23:25:55,192 - INFO - Downloaded fdd3a5a21b5d75aeb47f7e64a15fd58b.jpg\n",
      "2024-08-01 23:25:55,203 - INFO - Downloaded cdfa8afa6eb87e40adcbb70e891e27cc.jpg\n",
      "2024-08-01 23:25:55,208 - INFO - Downloaded b1dbfa11c5d664de80dd7c308cdef71f.jpg\n",
      "2024-08-01 23:25:55,231 - INFO - Downloaded a19dbeb3ddb627e74c7fd74bd6b96403.jpg\n",
      "2024-08-01 23:25:55,271 - INFO - Downloaded b82ecfa27d87c23636fd4200004750b8.jpg\n",
      "2024-08-01 23:25:55,297 - INFO - Downloaded 1d42c7b6a6d80dbf5621b6b6dd5c4501.jpg\n",
      "2024-08-01 23:25:55,299 - INFO - Downloaded 3e98300193aa902d7f2b6cf2fc591da6.jpg\n",
      "2024-08-01 23:25:55,313 - INFO - Downloaded e5fcce32c32b8de8daa5b925cc5606a7.jpg\n",
      "2024-08-01 23:25:55,389 - INFO - Downloaded f57b058ba3bfffe959031c8c3d4ffec7.jpg\n",
      "2024-08-01 23:25:55,407 - INFO - Downloaded 557e9d6748e2ebcdcb2ea75b1535eee9.jpg\n",
      "2024-08-01 23:25:55,434 - INFO - Downloaded 39d1f18837b5055473fa8f067920f2db.jpg\n",
      "2024-08-01 23:25:55,474 - INFO - Downloaded 9c9a77511c978ddbf53d57862c3140ea.jpg\n",
      "2024-08-01 23:25:55,494 - INFO - Downloaded 36bdd251ba8d33356998a5f10859f0fb.jpg\n",
      "2024-08-01 23:25:55,526 - INFO - Downloaded ed6d06b321a040f8f048940b951ad657.jpg\n",
      "2024-08-01 23:25:55,677 - INFO - Downloaded c51200116126771640d0d749505cf45f.jpg\n",
      "2024-08-01 23:25:55,689 - INFO - Downloaded 341c001592364cc2dbc294cb40a42445.jpg\n",
      "2024-08-01 23:25:55,689 - INFO - Downloaded 190be4c37cb9e0221e3f2474711eedd0.jpg\n",
      "2024-08-01 23:25:55,768 - INFO - Downloaded 2bcd6fe45c973b3801abeb67c6d6b00c.jpg\n",
      "2024-08-01 23:25:55,726 - INFO - Downloaded 21df6d438733781b31e9a36b9d706015.jpg\n",
      "2024-08-01 23:25:55,746 - INFO - Downloaded f7b83181f7e1fb641465ec56cd5938ab.jpg\n",
      "2024-08-01 23:25:55,792 - INFO - Downloaded 5ced17b39513dfb0fa5b4f611a8bb3f2.jpg\n",
      "2024-08-01 23:25:55,706 - INFO - Downloaded 84ad54ecc3159e81a5e8626a4b214e3c.jpg\n",
      "2024-08-01 23:25:55,861 - INFO - Downloaded f31c72718404d6bb541c0f2c00138900.jpg\n",
      "2024-08-01 23:25:55,876 - INFO - Downloaded 1a6e3690ac986509f350db2e6df7f1a6.jpg\n",
      "2024-08-01 23:25:55,915 - INFO - Downloaded 4eab967cf236924b72e6debdb53fae6b.jpg\n",
      "2024-08-01 23:25:55,931 - INFO - Downloaded c92a507db2396c40d16ffc08e4e0cf94.jpg\n",
      "2024-08-01 23:25:55,936 - INFO - Downloaded 103dc6c6abd6df7ca84819cb7d0b6da7.jpg\n",
      "2024-08-01 23:25:55,968 - INFO - Downloaded 93c8028e04701e2019b0e866de382838.jpg\n",
      "2024-08-01 23:25:56,064 - INFO - Downloaded 8d050b3c90572ca3b67c697be269208d.jpg\n",
      "2024-08-01 23:25:56,064 - INFO - Downloaded 03c31acea94e86777d9d6ebaa872e91d.jpg\n",
      "2024-08-01 23:25:56,085 - INFO - Downloaded c4e86e1bc729190d6bf23759188c1d24.jpg\n",
      "2024-08-01 23:25:56,120 - INFO - Downloaded 9515e0343ebb1f21ab9ad1782a2088f9.jpg\n",
      "2024-08-01 23:25:56,189 - INFO - Downloaded ea46c8532703eadcd10dbaf76d92faac.jpg\n",
      "2024-08-01 23:25:56,208 - INFO - Downloaded 3abc226bc0402b5898846e6d6bbaa4c3.jpg\n",
      "2024-08-01 23:25:56,210 - INFO - Downloaded a8e9caa4aa2a437eecf0914797ce8920.jpg\n",
      "2024-08-01 23:25:56,281 - INFO - Downloaded 50e507a39d07a6d2137fffc6135e9064.jpg\n",
      "2024-08-01 23:25:56,301 - INFO - Downloaded 78011dee3a1e1abec3bd671fc1d671d9.jpg\n",
      "2024-08-01 23:25:56,311 - INFO - Downloaded 23cd39cacd14095d70c2513deeba18ed.jpg\n",
      "2024-08-01 23:25:56,335 - INFO - Downloaded 0db629a41600b586a968060939d4eb16.jpg\n",
      "2024-08-01 23:25:56,336 - INFO - Downloaded e70c7c71d777545a1f3bf0fb997ea7e2.jpg\n",
      "2024-08-01 23:25:56,381 - INFO - Downloaded 15c3e286099f354cbce49035fee80356.jpg\n",
      "2024-08-01 23:25:56,427 - INFO - Downloaded ba4cff772f9eef7e50318ebd022878cd.jpg\n",
      "2024-08-01 23:25:56,429 - INFO - Downloaded 4168fdf786d4349e80ac0d69f2f9eafe.jpg\n",
      "2024-08-01 23:25:56,446 - INFO - Downloaded f58c6704480b842896bddbdc6e40c5da.jpg\n",
      "2024-08-01 23:25:56,493 - INFO - Downloaded 862bfb6893dae177ff297257e0c6fc3b.jpg\n",
      "2024-08-01 23:25:56,502 - ERROR - Failed to save image: cannot write mode RGBA as JPEG\n",
      "2024-08-01 23:25:56,510 - INFO - Downloaded 71e2e87fce8d2bd2af7d03b76c4ddb2c.jpg\n",
      "2024-08-01 23:25:56,575 - INFO - Downloaded 7706e30b49404b789427f7d697fb6f83.jpg\n",
      "2024-08-01 23:25:56,591 - INFO - Downloaded 2570866bab7ee212a1007f285ace1612.jpg\n",
      "2024-08-01 23:25:56,613 - INFO - Downloaded a70894c38afd25fe7c5f35f501c43ef4.jpg\n",
      "2024-08-01 23:25:56,617 - INFO - Downloaded 63868e326a6c748a293a4fb3a0f00b88.jpg\n",
      "2024-08-01 23:25:56,633 - INFO - Downloaded a9df9ea7c3dcd7886faed8ae1014f072.jpg\n",
      "2024-08-01 23:25:56,641 - INFO - Downloaded d2060f2a4570c68b24e6dc4fc60eab82.jpg\n",
      "2024-08-01 23:25:56,656 - INFO - Downloaded 9f856e79bc82210b6bb70a2a50587154.jpg\n",
      "2024-08-01 23:25:56,660 - INFO - Downloaded aa530b0fb1c57b1d9e4616c472f3df11.jpg\n",
      "2024-08-01 23:25:56,664 - INFO - Downloaded 55d7978e17067d13985173e1872d273c.jpg\n",
      "2024-08-01 23:25:56,666 - INFO - Downloaded e3f788488208bd1d891d12515e920117.jpg\n",
      "2024-08-01 23:25:56,670 - INFO - Downloaded 426033e0ba4d6be1fec1bde213d56590.jpg\n",
      "2024-08-01 23:25:56,684 - INFO - Downloaded 81977474ac631f0ad207a2e462ee8e5c.jpg\n",
      "2024-08-01 23:25:56,748 - INFO - Downloaded 88d2d86dd7454fbbd86990a3800fe59f.jpg\n",
      "2024-08-01 23:25:56,752 - INFO - Downloaded 42ea024ccfdadbb1d6c4e3e3d0a1c623.jpg\n",
      "2024-08-01 23:25:56,803 - INFO - Downloaded 7adc7bdd2f68d285a91b0ed85eaa6b04.jpg\n",
      "2024-08-01 23:25:56,798 - INFO - Downloaded 06cddfe485c66a63aaf856d7e8308473.jpg\n",
      "2024-08-01 23:25:56,844 - INFO - Downloaded bd293d0bec42698b17b2d44ef22414b2.jpg\n",
      "2024-08-01 23:25:56,867 - INFO - Downloaded 270ecf526d68abcaf9936681e8410eda.jpg\n",
      "2024-08-01 23:25:56,902 - INFO - Downloaded 08134fbaec8882fb5b66bfa59c7309a5.jpg\n",
      "2024-08-01 23:25:56,909 - INFO - Downloaded d5441173c181cc5ad29eed283e3889fe.jpg\n",
      "2024-08-01 23:25:56,909 - INFO - Downloaded b33708b594e882acbe81da1d4666d49d.jpg\n",
      "2024-08-01 23:25:56,911 - INFO - Downloaded dc9a5f4d55c59366b0fd4bbe95db54f9.jpg\n",
      "2024-08-01 23:25:56,921 - INFO - Downloaded 260913288c8ebc5a53f94780df92dbfd.jpg\n",
      "2024-08-01 23:25:56,936 - INFO - Downloaded 4bc56b7c6637a86eb8dda73b9b3d3856.jpg\n",
      "2024-08-01 23:25:56,953 - INFO - Downloaded 34ba8232cd1f0c7d855bc6702ef552bc.jpg\n",
      "2024-08-01 23:25:56,957 - INFO - Downloaded 8893fa7179df6df8133b108d388e7384.jpg\n",
      "2024-08-01 23:25:56,981 - INFO - Downloaded 32865d88963ecdeb2756ef9c99ade150.jpg\n",
      "2024-08-01 23:25:57,000 - INFO - Downloaded a381d2ad5e018fb90889c97bec6bf731.jpg\n",
      "2024-08-01 23:25:57,058 - INFO - Downloaded f5c72ad6028f2e20121e1e46afcfb40a.jpg\n",
      "2024-08-01 23:25:57,068 - INFO - Downloaded 6df0f5336acfb86f65633d27beb8c0d9.jpg\n",
      "2024-08-01 23:25:57,163 - INFO - Downloaded c1f96626043d570327ad31c5c10a5c0a.jpg\n",
      "2024-08-01 23:25:57,164 - INFO - Downloaded 8bc4516d91a7472b20de4b176a3b9014.jpg\n",
      "2024-08-01 23:25:57,177 - INFO - Downloaded 963823f5649db6bb0525bc3345c639d1.jpg\n",
      "2024-08-01 23:25:57,195 - INFO - Downloaded 00bf378af3e2733399cb523f075179e0.jpg\n",
      "2024-08-01 23:25:57,196 - INFO - Downloaded 7d2650567d62043342a8e27cc92f019d.jpg\n",
      "2024-08-01 23:25:57,294 - INFO - Downloaded 4831783670868456902d7654634a75a4.jpg\n",
      "2024-08-01 23:25:57,295 - INFO - Downloaded 88b6199792032b891a3f1020c45eb400.jpg\n",
      "2024-08-01 23:25:57,314 - INFO - Downloaded daf43849849f2d8f86c16c02bd458ba2.jpg\n",
      "2024-08-01 23:25:57,317 - INFO - Downloaded fcc9dca2a36f26e474caa4d8325a41d3.jpg\n",
      "2024-08-01 23:25:57,400 - INFO - Downloaded 03c7f162ef5ce2dcf5f58bf8f11d03cf.jpg\n",
      "2024-08-01 23:25:57,420 - INFO - Downloaded cc1b1efd2401f87f67bd6564b4c7f41a.jpg\n",
      "2024-08-01 23:25:57,442 - INFO - Downloaded 77496d0b06c25af314194964427f06c8.jpg\n",
      "2024-08-01 23:25:57,465 - INFO - Downloaded 03a0f0877bab5eaa8df9a7ef132aeeef.jpg\n",
      "2024-08-01 23:25:57,465 - INFO - Downloaded f8d40d7de865a1ccf905659eeecbc227.jpg\n"
     ]
    },
    {
     "name": "stderr",
     "output_type": "stream",
     "text": [
      "2024-08-01 23:25:57,490 - INFO - Downloaded 343103ffaea33a3c5a73ac32ce646a3e.jpg\n",
      "2024-08-01 23:25:57,516 - INFO - Downloaded ca9c04d839d9862a71ba59c6c677bd9a.jpg\n",
      "2024-08-01 23:25:57,516 - INFO - Downloaded f64fbebfd82a9b7b70c506f8d57c6cbc.jpg\n",
      "2024-08-01 23:25:57,536 - INFO - Downloaded bef8fe8540ec4483198dd1b331ea38d5.jpg\n",
      "2024-08-01 23:25:57,623 - INFO - Downloaded 582d25485b25c39c599f69e7b2f706b6.jpg\n",
      "2024-08-01 23:25:57,621 - INFO - Downloaded 6cf2ad602a455c519bd452c2afba48f8.jpg\n",
      "2024-08-01 23:25:57,660 - INFO - Downloaded 6dd4912e3589cde45f1f6a69d59e2810.jpg\n",
      "2024-08-01 23:25:57,609 - INFO - Downloaded 41f004c48530a5aaae4dee8cc5d3d239.jpg\n",
      "2024-08-01 23:25:57,671 - INFO - Downloaded 9bfc696e42c1ffd26e3e69ad4fc1d3bb.jpg\n",
      "2024-08-01 23:25:57,702 - INFO - Downloaded 3c2cd30ebfd536a5a466cfdf2a378c41.jpg\n",
      "2024-08-01 23:25:57,783 - INFO - Downloaded a76a2b8498b8f9b398823ce9319b50d3.jpg\n",
      "2024-08-01 23:25:57,787 - INFO - Downloaded 1cc1b551bd5e828afaa33aed351c5786.jpg\n",
      "2024-08-01 23:25:57,823 - INFO - Downloaded c3ab196848f1ebc33f4c7625b55b7dc8.jpg\n",
      "2024-08-01 23:25:57,851 - INFO - Downloaded 31aeadf88abafed5decda654dff9f865.jpg\n",
      "2024-08-01 23:25:57,860 - INFO - Downloaded 4140504775d105145cea469eb449ea21.jpg\n",
      "2024-08-01 23:25:57,918 - INFO - Downloaded d5b37edd4bf5b20e267d636dfe7d96aa.jpg\n",
      "2024-08-01 23:25:57,929 - INFO - Downloaded f167450dab1dd3b217ad22bf1a1c2631.jpg\n",
      "2024-08-01 23:25:57,931 - INFO - Downloaded ca5b4638bfa04c88cc4f956b7d827224.jpg\n",
      "2024-08-01 23:25:57,984 - INFO - Downloaded 025211240c5c41717c3a8ab0fee71c24.jpg\n",
      "2024-08-01 23:25:57,997 - INFO - Downloaded 9559c683e1362e49558492cdd16f1383.jpg\n",
      "2024-08-01 23:25:58,001 - INFO - Downloaded 2637862041ecf3623f30ba49fe3bc502.jpg\n",
      "2024-08-01 23:25:58,021 - INFO - Downloaded 4a49e3b3011f6b7d9d401fecb643706a.jpg\n",
      "2024-08-01 23:25:58,026 - INFO - Downloaded 985d81e6579a6c6d3a69c25de67e1616.jpg\n",
      "2024-08-01 23:25:58,027 - INFO - Downloaded 4cc966565c888bf2da7ae84477f56377.jpg\n",
      "2024-08-01 23:25:58,077 - INFO - Downloaded 2650ef853de386e406c9aee8ffcab795.jpg\n",
      "2024-08-01 23:25:58,077 - INFO - Downloaded 4361134e98ae9384e288b7e07e30afc6.jpg\n",
      "2024-08-01 23:25:58,094 - INFO - Downloaded 151188ce631b6db4821356388fd44115.jpg\n",
      "2024-08-01 23:25:58,149 - INFO - Downloaded ab4bbd90ccf9a88e53c4ef6586ba6879.jpg\n",
      "2024-08-01 23:25:58,155 - INFO - Downloaded f96bc61756dfec08259011e99cb21647.jpg\n",
      "2024-08-01 23:25:58,186 - INFO - Downloaded 3b1794510bc227c71726227a3e24cb69.jpg\n",
      "2024-08-01 23:25:58,232 - INFO - Downloaded a414719c147337452bb4ccae61f50325.jpg\n",
      "2024-08-01 23:25:58,234 - INFO - Downloaded 9f644d4439d284aaa779ca5214fb556b.jpg\n",
      "2024-08-01 23:25:58,265 - INFO - Downloaded 015f369d469109003f4a70f5133b6799.jpg\n",
      "2024-08-01 23:25:58,273 - INFO - Downloaded b3a0e33cddabc788a9da2870a38eef3c.jpg\n",
      "2024-08-01 23:25:58,274 - INFO - Downloaded 0102a33023554dab28d7cea953ac1694.jpg\n",
      "2024-08-01 23:25:58,275 - INFO - Downloaded 36e306b4648b39b26e18ac67b5902329.jpg\n",
      "2024-08-01 23:25:58,356 - INFO - Downloaded 67c73d83b67be5516f6b40eeea672b87.jpg\n",
      "2024-08-01 23:25:58,359 - INFO - Downloaded d90502836c1a8d9b8f1c465e74aad95c.jpg\n",
      "2024-08-01 23:25:58,363 - INFO - Downloaded ea8c6f75564b80863154ef0b75052353.jpg\n",
      "2024-08-01 23:25:58,380 - INFO - Downloaded 28d8218177084b4e9b94f2d41fbf09ee.jpg\n",
      "2024-08-01 23:25:58,406 - INFO - Downloaded 400a2cf30b4877fbb0432d991168f60b.jpg\n",
      "2024-08-01 23:25:58,426 - INFO - Downloaded 92fd8b7cc81120f796ec2ebf1e86f374.jpg\n",
      "2024-08-01 23:25:58,436 - INFO - Downloaded b7dce5914a0a45485d16ae82a7130363.jpg\n",
      "2024-08-01 23:25:58,464 - INFO - Downloaded e691e973c5da5f5a8e064cc5a78a04d1.jpg\n",
      "2024-08-01 23:25:58,481 - INFO - Downloaded fe568a07e910431fb0883a3d6cd51f0c.jpg\n",
      "2024-08-01 23:25:58,530 - INFO - Downloaded fac43f2291c60e6bbdd81031d693b1d4.jpg\n",
      "2024-08-01 23:25:58,541 - INFO - Downloaded 2db3b8d363f8856187164c2c49a107e8.jpg\n",
      "2024-08-01 23:25:58,546 - INFO - Downloaded 377c7c8e593d702e4545b005a9cb4828.jpg\n",
      "2024-08-01 23:25:58,609 - INFO - Downloaded 1fe3a5b721c3c9b31bffe5cd5fbff540.jpg\n",
      "2024-08-01 23:25:58,634 - INFO - Downloaded a4b827d3e4b25f1536b95a99984edbb9.jpg\n",
      "2024-08-01 23:25:58,703 - INFO - Downloaded 7016aa63df695d005459cfe4c63c70e5.jpg\n",
      "2024-08-01 23:25:58,710 - INFO - Downloaded 0443bb9ee6c03100979e9de04b0da279.jpg\n",
      "2024-08-01 23:25:58,789 - INFO - Downloaded dc97b34a265b4e1a5721d3d8bed91531.jpg\n",
      "2024-08-01 23:25:58,791 - INFO - Downloaded 28dee36ca3fa8ae3baa0a100c9ca3225.jpg\n",
      "2024-08-01 23:25:58,795 - INFO - Downloaded 096ea900ad1bd4a95ea0390d712a715d.jpg\n",
      "2024-08-01 23:25:58,815 - INFO - Downloaded b1a5449a7f539a041520e5024fe0e001.jpg\n",
      "2024-08-01 23:25:58,853 - INFO - Downloaded eb0fa39a2ca6d11006eb3d274e8cb0a3.jpg\n",
      "2024-08-01 23:25:58,858 - INFO - Downloaded 99c3a8f7a6aea8c33bec5f7b82dac941.jpg\n",
      "2024-08-01 23:25:58,878 - INFO - Downloaded dba61af1b0842d7b26567ea90755947e.jpg\n",
      "2024-08-01 23:25:58,918 - INFO - Downloaded 1211e3f95328863cda7f21e0db08ad04.jpg\n",
      "2024-08-01 23:25:58,944 - INFO - Downloaded 37802625017842d58ecbe4c6e08897a5.jpg\n",
      "2024-08-01 23:25:58,970 - INFO - Downloaded 309fa8920371025eba829b3fc6e4a07e.jpg\n",
      "2024-08-01 23:25:59,028 - INFO - Downloaded 297a2d155c668b5d2ba7e213673610bd.jpg\n",
      "2024-08-01 23:25:59,038 - INFO - Downloaded 8d3838c44fa8e2ae0df413ee270b90ff.jpg\n",
      "2024-08-01 23:25:59,039 - INFO - Downloaded 77edb33362e10ea304bd8e08a5e86db6.jpg\n",
      "2024-08-01 23:25:59,088 - INFO - Downloaded 4d4791734d473644a81310b6f6a07b9a.jpg\n",
      "2024-08-01 23:25:59,095 - INFO - Downloaded 44b9fe4497fe38d4222a073392d415a7.jpg\n",
      "2024-08-01 23:25:59,124 - INFO - Downloaded b29f81cec7da1d72780fd239b7826e63.jpg\n",
      "2024-08-01 23:25:59,118 - INFO - Downloaded 44525458871d4abec8a63a94e638a185.jpg\n",
      "2024-08-01 23:25:59,126 - INFO - Downloaded 2e22d35ba40951106ebcdfa9a82e8695.jpg\n",
      "2024-08-01 23:25:59,154 - INFO - Downloaded 1a8a3362d1210a2641b5d0ad769f36de.jpg\n",
      "2024-08-01 23:25:59,156 - INFO - Downloaded f064ba6b42e22d11b253c3e2cc9d94f1.jpg\n",
      "2024-08-01 23:25:59,157 - INFO - Downloaded 375c2e5b0a0a49a97a3f6b038afc5c88.jpg\n",
      "2024-08-01 23:25:59,165 - INFO - Downloaded fce7f0f6319119a45dda798ddad18922.jpg\n",
      "2024-08-01 23:25:59,287 - INFO - Downloaded 0b103b58f950e513d60594f6d5c495fa.jpg\n",
      "2024-08-01 23:25:59,241 - INFO - Downloaded b7c69f16f3039242e7459cdb83a28ff0.jpg\n",
      "2024-08-01 23:25:59,246 - INFO - Downloaded 9b04d80020f4dfb2a245c17310325fae.jpg\n",
      "2024-08-01 23:25:59,266 - INFO - Downloaded f8d2b0328364c395735998f5692bd68f.jpg\n",
      "2024-08-01 23:25:59,183 - INFO - Downloaded 88ebd8bf182bbc05dc7b193b56662311.jpg\n",
      "2024-08-01 23:25:59,298 - INFO - Downloaded 78802fdee0f6ebaf0f2962009b332814.jpg\n",
      "2024-08-01 23:25:59,311 - INFO - Downloaded ad1df7d591f41e4e394ec7fbc6358f4a.jpg\n",
      "2024-08-01 23:25:59,397 - INFO - Downloaded 96f94408b1a3ec6647fc84c12bc05fbd.jpg\n",
      "2024-08-01 23:25:59,397 - INFO - Downloaded fd42dcad7e7b838c8592046e0bed3e14.jpg\n",
      "2024-08-01 23:25:59,330 - INFO - Downloaded 2e78750a6b12eb189916b4f6e2af56f8.jpg\n",
      "2024-08-01 23:25:59,493 - INFO - Downloaded 6bfecf262b39b51083694140541637e5.jpg\n",
      "2024-08-01 23:25:59,505 - INFO - Downloaded 7e81dd45aab78b7b98802102c1f8bdc3.jpg\n",
      "2024-08-01 23:25:59,511 - INFO - Downloaded 4d812f4627b1a514183310c769dd0dde.jpg\n",
      "2024-08-01 23:25:59,514 - INFO - Downloaded d941f7e505b21720850ef5db9d6888a6.jpg\n",
      "2024-08-01 23:25:59,600 - INFO - Downloaded 23557d0e28000c935e8c44f376367117.jpg\n",
      "2024-08-01 23:25:59,604 - INFO - Downloaded 87a8b3b46173c26a7a82310ba12e0f88.jpg\n",
      "2024-08-01 23:25:59,612 - INFO - Downloaded 4ad5c2d3f9b0b828cdaf199a8438b6e2.jpg\n",
      "2024-08-01 23:25:59,632 - INFO - Downloaded c2c3407683d828c1196e5a348d7c4021.jpg\n",
      "2024-08-01 23:25:59,633 - INFO - Downloaded 1def8ed480357c22a31fba564725df68.jpg\n",
      "2024-08-01 23:25:59,641 - INFO - Downloaded 263ae38872eea8e4ffd81de3d14e32f2.jpg\n",
      "2024-08-01 23:25:59,660 - INFO - Downloaded 2f7c8ffb4efa605d610e1ce45c7f105b.jpg\n",
      "2024-08-01 23:25:59,660 - INFO - Downloaded a20ca19b0af145df1f8726fd33a300cc.jpg\n",
      "2024-08-01 23:25:59,671 - INFO - Downloaded e9d4c65a31389f9a598f1f1447efe880.jpg\n",
      "2024-08-01 23:25:59,692 - INFO - Downloaded 47a1dbb08e5cb0148acf082b8810d47f.jpg\n",
      "2024-08-01 23:25:59,699 - INFO - Downloaded 8ef925c88ae8238fe0d259c8c01a6674.jpg\n",
      "2024-08-01 23:25:59,707 - INFO - Downloaded ba24d959e3635ed29fec7c6cfe4c988a.jpg\n",
      "2024-08-01 23:25:59,724 - INFO - Downloaded 0dec24ba3cb197cb61f24f3a0691a033.jpg\n",
      "2024-08-01 23:25:59,776 - ERROR - Failed to save image: cannot write mode RGBA as JPEG\n"
     ]
    },
    {
     "name": "stderr",
     "output_type": "stream",
     "text": [
      "2024-08-01 23:25:59,792 - INFO - Downloaded c6ebe36cd293868a6d8745c95596288d.jpg\n",
      "2024-08-01 23:25:59,820 - INFO - Downloaded 84bb4d2d5f26629dbf25d2435f987618.jpg\n",
      "2024-08-01 23:25:59,851 - INFO - Downloaded ccc4b7eaadd18ed5c0762b63dfe30355.jpg\n",
      "2024-08-01 23:25:59,857 - INFO - Downloaded 67ddfad635d5d826bd32d57cc9b4364a.jpg\n",
      "2024-08-01 23:25:59,869 - INFO - Downloaded d48ae56cf9b84dfd3525dc351c463706.jpg\n",
      "2024-08-01 23:25:59,923 - INFO - Downloaded eee5072bfd85da82fc4dbe557503ad83.jpg\n",
      "2024-08-01 23:25:59,977 - INFO - Downloaded a3d4f31e387b3ca36d17512eea508756.jpg\n",
      "2024-08-01 23:25:59,978 - INFO - Downloaded 64f26435418fe17f94c78994df66021b.jpg\n",
      "2024-08-01 23:25:59,982 - INFO - Downloaded 38fec1f7b9dedb815ae0115097cf7f58.jpg\n",
      "2024-08-01 23:25:59,989 - INFO - Downloaded c7a8667f0d393c58c26be9c5e9ad8d54.jpg\n",
      "2024-08-01 23:26:00,007 - INFO - Downloaded 7e6cedbfb7605b4dedd15dd6bf85bfdb.jpg\n",
      "2024-08-01 23:26:00,024 - INFO - Downloaded 566bb5ecfcd6d5b2b38d114676f99136.jpg\n",
      "2024-08-01 23:26:00,030 - INFO - Downloaded 9a6fb384bd994b28718389535adc3f75.jpg\n",
      "2024-08-01 23:26:00,062 - INFO - Downloaded 86c88f8e685be00d8e7d006642e4e1f1.jpg\n",
      "2024-08-01 23:26:00,063 - INFO - Downloaded bd922d8713fcd4b9e56da863d28d22c0.jpg\n",
      "2024-08-01 23:26:00,087 - INFO - Downloaded d04dae3fa678b7bf19d7932be5652aa6.jpg\n",
      "2024-08-01 23:26:00,079 - INFO - Downloaded e4d5edcdd78125136d6032d902c6f9b4.jpg\n",
      "2024-08-01 23:26:00,196 - INFO - Downloaded ea315e72aa28d94e142088cac19aa07e.jpg\n",
      "2024-08-01 23:26:00,232 - INFO - Downloaded 5e5c064023c97dee0855c748cf105407.jpg\n",
      "2024-08-01 23:26:00,232 - INFO - Downloaded 446c42e780693140d45473dd0a2b4ec9.jpg\n",
      "2024-08-01 23:26:00,257 - INFO - Downloaded 0cdac49c95a38ce608c1c4b9f29ee4bb.jpg\n",
      "2024-08-01 23:26:00,325 - INFO - Downloaded 193f8eb9baa06acb69c3577c4a183ab5.jpg\n",
      "2024-08-01 23:26:00,358 - INFO - Downloaded a3a36a9a154594b25d1394ddcfec3e21.jpg\n",
      "2024-08-01 23:26:00,363 - INFO - Downloaded d045cab9115901f81f106802ae511d2b.jpg\n",
      "2024-08-01 23:26:00,371 - INFO - Downloaded 9391496d174d68b30fe3fd997846914b.jpg\n",
      "2024-08-01 23:26:00,372 - INFO - Downloaded b372dc948abbf539cc315e7ac9748d47.jpg\n",
      "2024-08-01 23:26:00,374 - ERROR - Failed to save image: cannot write mode RGBA as JPEG\n",
      "2024-08-01 23:26:00,377 - INFO - Downloaded 46d0caee3a002f6bcd4ad01168180c0d.jpg\n",
      "2024-08-01 23:26:00,393 - INFO - Downloaded b7300b1f8dc85c4c5e858303dc797f27.jpg\n",
      "2024-08-01 23:26:00,409 - INFO - Downloaded 1979f88766687c038cacdd24737d0e11.jpg\n",
      "2024-08-01 23:26:00,412 - INFO - Downloaded 60c1a0d4155f55cfb44ec807d3cd7c1a.jpg\n",
      "2024-08-01 23:26:00,422 - INFO - Downloaded 68713e9f275e40d96e3337a197dae99e.jpg\n",
      "2024-08-01 23:26:00,450 - INFO - Downloaded 7c13aef4406952deabdff68afbfe1d94.jpg\n",
      "2024-08-01 23:26:00,473 - INFO - Downloaded f7166601a7d66256eaccc07e4d81644e.jpg\n",
      "2024-08-01 23:26:00,484 - INFO - Downloaded 847f6c14ab49521477d5f964fa9b0559.jpg\n",
      "2024-08-01 23:26:00,519 - INFO - Downloaded 4a7376daef413bc2205629294dbd18e3.jpg\n",
      "2024-08-01 23:26:00,539 - INFO - Downloaded fef75b52e17a25cad29a11411a846eee.jpg\n",
      "2024-08-01 23:26:00,571 - INFO - Downloaded f40958c3d095d4e55aff1359c4c7a48b.jpg\n",
      "2024-08-01 23:26:00,609 - INFO - Downloaded 6d0feb4b4c5f56ce8fa54295f059608d.jpg\n",
      "2024-08-01 23:26:00,612 - INFO - Downloaded c8fbc2a9e5ec0b0e55e4753a784a1536.jpg\n",
      "2024-08-01 23:26:00,617 - INFO - Downloaded 175e681a1a5a678b1fa45013568f0474.jpg\n",
      "2024-08-01 23:26:00,627 - INFO - Downloaded b5ab4226730f263a8dce8349757754d7.jpg\n",
      "2024-08-01 23:26:00,639 - INFO - Downloaded 9391e10fdefa5c9689e9e04b3fe52685.jpg\n",
      "2024-08-01 23:26:00,646 - INFO - Downloaded 58c9f001e74a3404e9d7bd47ac193ec6.jpg\n",
      "2024-08-01 23:26:00,718 - INFO - Downloaded b43c9661d5e77f332f9f303d3a723f3a.jpg\n",
      "2024-08-01 23:26:00,741 - INFO - Downloaded 9a27f85fb0f43e68fa6fee3339eeaedf.jpg\n",
      "2024-08-01 23:26:00,757 - INFO - Downloaded a6a9404f5d45007bb73bc9079556504f.jpg\n",
      "2024-08-01 23:26:00,758 - INFO - Downloaded c0171f33093c792c7f6249e264e38d25.jpg\n",
      "2024-08-01 23:26:00,800 - INFO - Downloaded 8c62df25ef49b161d579463455f02c07.jpg\n",
      "2024-08-01 23:26:00,809 - INFO - Downloaded f3f245a3f56e253b35ea6d2353bd1931.jpg\n",
      "2024-08-01 23:26:00,826 - INFO - Downloaded 2c9ec39b880a2253de2aa84ed6c3d533.jpg\n",
      "2024-08-01 23:26:00,832 - INFO - Downloaded b06b0a35667cd83cc614920c7365e515.jpg\n",
      "2024-08-01 23:26:00,882 - INFO - Downloaded 25a7ab4eafdb8d2e3fc7f61ef3041369.jpg\n",
      "2024-08-01 23:26:00,896 - INFO - Downloaded c8bd94e9751586cbc59adb0a1893a3cb.jpg\n",
      "2024-08-01 23:26:00,906 - INFO - Downloaded bac32a643fa4e9714b9ef96bc6255d07.jpg\n",
      "2024-08-01 23:26:00,968 - INFO - Downloaded 540ecfddff9934db4630056e30f0b06b.jpg\n",
      "2024-08-01 23:26:01,044 - INFO - Downloaded eacb6277635e5d4f33e84d0bd73a8928.jpg\n",
      "2024-08-01 23:26:01,059 - INFO - Downloaded 1bfeeb08c68b6fb2b3de64c4b8ea76d3.jpg\n",
      "2024-08-01 23:26:01,063 - INFO - Downloaded 7ee76c66eb3069703ad9ef2746303763.jpg\n",
      "2024-08-01 23:26:01,077 - INFO - Downloaded f97523c8661c5b75038b0f8f6dd09be3.jpg\n",
      "2024-08-01 23:26:01,077 - INFO - Downloaded 81fb0b6c9bb14e011f8444005f07b4b2.jpg\n",
      "2024-08-01 23:26:01,078 - INFO - Downloaded 3641d54629765a9dfb7d0c93da42e12b.jpg\n",
      "2024-08-01 23:26:01,079 - INFO - Downloaded c3b05b4a86b207184ee3d9c4fd6780bf.jpg\n",
      "2024-08-01 23:26:01,079 - INFO - Downloaded c615dc01d9b762e3cf06bf1f87203cf0.jpg\n",
      "2024-08-01 23:26:01,084 - INFO - Downloaded b3b6e06bb6cf1f69d0fa8a3eeae88290.jpg\n",
      "2024-08-01 23:26:01,094 - INFO - Downloaded 18e6cb62e9a378813c0a3fefa1858bb5.jpg\n",
      "2024-08-01 23:26:01,171 - INFO - Downloaded 809d670356ae2dbb14216ad1a2d01a0b.jpg\n",
      "2024-08-01 23:26:01,188 - INFO - Downloaded 6ada7aba9f87a29f2f218b5bb826fc5d.jpg\n",
      "2024-08-01 23:26:01,194 - INFO - Downloaded 094728fd7f67ba88636ab6679874e059.jpg\n",
      "2024-08-01 23:26:01,207 - INFO - Downloaded 3ac3eeefc6613bffa0a1efdec58a32ae.jpg\n",
      "2024-08-01 23:26:01,267 - INFO - Downloaded 203e21734e6cd8b91aab2057a4afbe88.jpg\n",
      "2024-08-01 23:26:01,282 - INFO - Downloaded 1e310e030b947de1019bd74aef2a6c22.jpg\n",
      "2024-08-01 23:26:01,304 - INFO - Downloaded 8954163e15bb4bfc3c596758a5bf03e1.jpg\n",
      "2024-08-01 23:26:01,352 - INFO - Downloaded 39862be412d81f9de89370f7b10b1cc1.jpg\n",
      "2024-08-01 23:26:01,365 - INFO - Downloaded b781097db445718768d97eb374b3034c.jpg\n",
      "2024-08-01 23:26:01,365 - INFO - Downloaded b5e3bc5679d76d5b7edd79ee96aab3c4.jpg\n",
      "2024-08-01 23:26:01,422 - INFO - Downloaded 5649a4a1bdd2cf8f4a59b3a6f7c373a8.jpg\n",
      "2024-08-01 23:26:01,431 - INFO - Downloaded 89518711ce4b47310a9286b1e47231c1.jpg\n",
      "2024-08-01 23:26:01,469 - INFO - Downloaded eb08342fbcc70fd9618904525591ae14.jpg\n",
      "2024-08-01 23:26:01,471 - INFO - Downloaded 6a65bafce7ee4018c6befc0de4afcc00.jpg\n",
      "2024-08-01 23:26:01,479 - INFO - Downloaded 2f5747cb07f7fb7e8d8d1fe5cc69e9cd.jpg\n",
      "2024-08-01 23:26:01,514 - INFO - Downloaded b5e18ca0ff95b6537d728e828d38f22a.jpg\n",
      "2024-08-01 23:26:01,514 - INFO - Downloaded 811839d221d03dd3c6b13e2256715dc9.jpg\n",
      "2024-08-01 23:26:01,548 - INFO - Downloaded 8082491b7337bfd211af30b2474d0b7b.jpg\n",
      "2024-08-01 23:26:01,549 - INFO - Downloaded 4359b3c7e63702dcb635f28d9f40409e.jpg\n",
      "2024-08-01 23:26:01,555 - INFO - Downloaded 60a7262aaa0152c37b4a099824d31de6.jpg\n",
      "2024-08-01 23:26:01,581 - INFO - Downloaded e402d8a277c9788ed7c20a33b7cd6f85.jpg\n",
      "2024-08-01 23:26:01,589 - INFO - Downloaded e2f0223d32c98208c85b4597417ee1de.jpg\n",
      "2024-08-01 23:26:01,592 - ERROR - Failed to save image: cannot write mode RGBA as JPEG\n",
      "2024-08-01 23:26:01,597 - INFO - Downloaded 4df4db05b3bfafcd1152792e5aefcebd.jpg\n",
      "2024-08-01 23:26:01,658 - INFO - Downloaded 8f9ec1e31848df0ac6f72e36688caa86.jpg\n",
      "2024-08-01 23:26:01,659 - INFO - Downloaded 41715228a71fce803d79be17a073ce87.jpg\n",
      "2024-08-01 23:26:01,695 - INFO - Downloaded b1bf6d968e9827bcb3626ddbcb0e3f24.jpg\n",
      "2024-08-01 23:26:01,746 - INFO - Downloaded 55cd2bfec5728a0061b806fab02dfb36.jpg\n",
      "2024-08-01 23:26:01,751 - INFO - Downloaded 3ac5afff0382b1c760fee991ed1f1982.jpg\n",
      "2024-08-01 23:26:01,809 - INFO - Downloaded 28f840447cd14936e5809ff157681a11.jpg\n",
      "2024-08-01 23:26:01,874 - INFO - Downloaded 11d5bd221dba6371b42918bd93b56292.jpg\n",
      "2024-08-01 23:26:01,876 - INFO - Downloaded 8dff3b979b5a448ee460a482e5e69e68.jpg\n",
      "2024-08-01 23:26:01,900 - INFO - Downloaded 81e77e19e0c163910daf73d6aec3f01d.jpg\n",
      "2024-08-01 23:26:01,914 - INFO - Downloaded 2b53baeaaba29db187d676eb99c07490.jpg\n",
      "2024-08-01 23:26:01,908 - INFO - Downloaded feb90ab663792b04fd426437637992c0.jpg\n"
     ]
    },
    {
     "name": "stderr",
     "output_type": "stream",
     "text": [
      "2024-08-01 23:26:01,914 - INFO - Downloaded 642c7547e82fd8f7e515bc23aba48f8d.jpg\n",
      "2024-08-01 23:26:01,921 - INFO - Downloaded bbd683913673a095ee759449265fcafd.jpg\n",
      "2024-08-01 23:26:01,993 - INFO - Downloaded 188649e02e9bcc49d503281bf8df508a.jpg\n",
      "2024-08-01 23:26:02,019 - INFO - Downloaded eebc7242fa2151dd2aa882b8a53d2645.jpg\n",
      "2024-08-01 23:26:02,031 - INFO - Downloaded a1633d3411d0767cd940026becf072d7.jpg\n",
      "2024-08-01 23:26:02,044 - INFO - Downloaded c07bbd23769a23a759248812fbe83580.jpg\n",
      "2024-08-01 23:26:02,059 - INFO - Downloaded ceb534621c2a3aa8ed0120909995a5e9.jpg\n",
      "2024-08-01 23:26:02,078 - INFO - Downloaded 8911ddeb732e1caadc7a1b7a913e9a5f.jpg\n",
      "2024-08-01 23:26:02,156 - INFO - Downloaded b7a74ca0e5462d9f8d5982be5262caae.jpg\n",
      "2024-08-01 23:26:02,167 - INFO - Downloaded 883419622080aa57d1500539a5839e04.jpg\n",
      "2024-08-01 23:26:02,173 - INFO - Downloaded 7892823a3f1d4c008054675ce797c6ad.jpg\n",
      "2024-08-01 23:26:02,189 - INFO - Downloaded 3eb2cdc5cf2c66639bdbe264dba9ac66.jpg\n",
      "2024-08-01 23:26:02,192 - INFO - Downloaded 08fcc4b0184730af0ebc31cd35f8ed07.jpg\n",
      "2024-08-01 23:26:02,199 - INFO - Downloaded 3faa2ada31b8a8d72aac84e363ed66b1.jpg\n",
      "2024-08-01 23:26:02,231 - INFO - Downloaded 5a77ff14b4de3f1852dc4892c3fa8566.jpg\n",
      "2024-08-01 23:26:02,236 - INFO - Downloaded 53d204896d8d35817e5efd44b3b6706d.jpg\n",
      "2024-08-01 23:26:02,250 - INFO - Downloaded c017f8bd3cc5d91028ff41122f2da443.jpg\n",
      "2024-08-01 23:26:02,260 - INFO - Downloaded 39c31f3e5c4b9f2cb1f061a84298233e.jpg\n",
      "2024-08-01 23:26:02,281 - INFO - Downloaded 0a691600e8a61bc9d1511c2188ebe825.jpg\n",
      "2024-08-01 23:26:02,311 - INFO - Downloaded 05b4c9fdb95a9f930ed7dcbb3d2edc7e.jpg\n",
      "2024-08-01 23:26:02,387 - INFO - Downloaded 2616c31f5bf35f3eb201f3ce51a2fa47.jpg\n",
      "2024-08-01 23:26:02,388 - INFO - Downloaded c1edd624b0ba2a42a4e85fe986564d36.jpg\n",
      "2024-08-01 23:26:02,395 - INFO - Downloaded 0d077a49de7596284d3d93cb363d61b5.jpg\n",
      "2024-08-01 23:26:02,425 - INFO - Downloaded ea44d74f876845ebe7c95f2d613b2595.jpg\n",
      "2024-08-01 23:26:02,461 - INFO - Downloaded 40466d81318ac0ca382400624936b696.jpg\n",
      "2024-08-01 23:26:02,463 - INFO - Downloaded 872e15dbf6bf7c5afcf8071f12d5ac1d.jpg\n",
      "2024-08-01 23:26:02,514 - INFO - Downloaded 857e92c86f812ce19a8c1f8aa320c589.jpg\n",
      "2024-08-01 23:26:02,517 - INFO - Downloaded 133dd9c734f36b12b868c79a36603a5d.jpg\n",
      "2024-08-01 23:26:02,523 - INFO - Downloaded c97f700f2815101a82a3ce91723491e5.jpg\n",
      "2024-08-01 23:26:02,524 - INFO - Downloaded b319d8971650358f42e580a2344ec916.jpg\n",
      "2024-08-01 23:26:02,534 - INFO - Downloaded 7b5917ac8176f9c62c9b8537dcefeb6c.jpg\n",
      "2024-08-01 23:26:02,629 - INFO - Downloaded db27f1c3a499da8a39d91c937fc00a7e.jpg\n",
      "2024-08-01 23:26:02,551 - INFO - Downloaded b8492271f779ef2bdbef333155f4cfe6.jpg\n",
      "2024-08-01 23:26:02,662 - INFO - Downloaded dfac53d8c96e479ff1cf154ee65d688a.jpg\n",
      "2024-08-01 23:26:02,677 - INFO - Downloaded c6f6076899e050f7b881ff61dad4c448.jpg\n",
      "2024-08-01 23:26:02,718 - INFO - Downloaded d21781a40d85ac7210aff5e633c8210f.jpg\n",
      "2024-08-01 23:26:02,718 - INFO - Downloaded 598fd0f80c2eda62997c3213498ef38a.jpg\n",
      "2024-08-01 23:26:02,771 - INFO - Downloaded dd20d43ffb61e8c31343cc683269a187.jpg\n",
      "2024-08-01 23:26:02,812 - INFO - Downloaded ad1996bd9e8049aa175df2551ac8ecce.jpg\n",
      "2024-08-01 23:26:02,844 - INFO - Downloaded e0602701ef6d7e0fff2f81d9dd0f72f6.jpg\n",
      "2024-08-01 23:26:02,847 - INFO - Downloaded ca6508a1a95deb9273317b10886eef3d.jpg\n",
      "2024-08-01 23:26:02,894 - INFO - Downloaded 4fe173862742c52cd9eeb86206588cf5.jpg\n",
      "2024-08-01 23:26:02,964 - INFO - Downloaded 7fbdbae0c8cbdb6539e60706cea40a8b.jpg\n",
      "2024-08-01 23:26:02,978 - INFO - Downloaded 77b1151998bb7b5a15a1e337a979c3bb.jpg\n",
      "2024-08-01 23:26:02,978 - INFO - Downloaded 252f389909d9c6b37e623af4b079de6e.jpg\n",
      "2024-08-01 23:26:03,008 - INFO - Downloaded bdae46b7844e041d4d5eb908ffdf506b.jpg\n",
      "2024-08-01 23:26:03,008 - INFO - Downloaded 9f6e756021cdac3bb2e0bbd2c71655c7.jpg\n",
      "2024-08-01 23:26:03,020 - INFO - Downloaded 8eef12c23b52ab3aead72c0be643e635.jpg\n",
      "2024-08-01 23:26:03,044 - INFO - Downloaded b1f2964fba7f7cfadc7fc8754086a45f.jpg\n",
      "2024-08-01 23:26:03,056 - INFO - Downloaded e3db4792c46d97267717141f55511123.jpg\n",
      "2024-08-01 23:26:03,062 - INFO - Downloaded 9ea5a17d9cd21ea066842038f69a5496.jpg\n",
      "2024-08-01 23:26:03,078 - INFO - Downloaded 4b4b456c30be28c0e6d1fb392cb6f14c.jpg\n",
      "2024-08-01 23:26:03,084 - INFO - Downloaded 2fa1ce3121f83efd42f423b1ad548e40.jpg\n",
      "2024-08-01 23:26:03,140 - INFO - Downloaded de31b76d9e94719de0375ce8ed5ff1b7.jpg\n",
      "2024-08-01 23:26:03,142 - INFO - Downloaded a92ca9b45750771e27ccb980ff1dd8c7.jpg\n",
      "2024-08-01 23:26:03,293 - INFO - Downloaded befa29a457483fa4990f1a305eea9887.jpg\n",
      "2024-08-01 23:26:03,301 - INFO - Downloaded d2bfe53cb389efbe30c07759bbf47f68.jpg\n",
      "2024-08-01 23:26:03,302 - INFO - Downloaded 03f892aedc2abedb08008c325940502e.jpg\n",
      "2024-08-01 23:26:03,319 - INFO - Downloaded 808569a049e97f96857574a2d6ff1fd4.jpg\n",
      "2024-08-01 23:26:03,323 - INFO - Downloaded 088abd4d51ebeb266380f3672da30048.jpg\n",
      "2024-08-01 23:26:03,323 - INFO - Downloaded 02af40493eeb9c41cbee5b4a35b76a18.jpg\n",
      "2024-08-01 23:26:03,324 - INFO - Downloaded adb7a027d869b411885dfc79417351a2.jpg\n",
      "2024-08-01 23:26:03,411 - INFO - Downloaded 91b82da3064723aae602f54383ba50d0.jpg\n",
      "2024-08-01 23:26:03,339 - INFO - Downloaded 153bf8ea32884999c43003a791bd45ad.jpg\n",
      "2024-08-01 23:26:03,344 - INFO - Downloaded e752e8892085c727603009e722b26bab.jpg\n",
      "2024-08-01 23:26:03,379 - INFO - Downloaded ffc3df0ca77aee2c1019c1f8759b4ad7.jpg\n",
      "2024-08-01 23:26:03,403 - INFO - Downloaded 28ed11542581d755d515a1d988ba2d56.jpg\n",
      "2024-08-01 23:26:03,334 - INFO - Downloaded 797855a8f6c8cf317149a6a63aad8742.jpg\n",
      "2024-08-01 23:26:03,471 - INFO - Downloaded 8ae1c77655ee202ebf0c1fde52d187ac.jpg\n",
      "2024-08-01 23:26:03,486 - INFO - Downloaded a1a9322c9bfd85cbddf897a31b76e81e.jpg\n",
      "2024-08-01 23:26:03,488 - INFO - Downloaded 076c7fc0ede78d5dff6ce5eaa1e2fe23.jpg\n",
      "2024-08-01 23:26:03,500 - INFO - Downloaded 12fcd0a43653247ba2798a2fa255d581.jpg\n",
      "2024-08-01 23:26:03,511 - INFO - Downloaded afa09e3a13cf9e5dead86713324b797b.jpg\n",
      "2024-08-01 23:26:03,513 - INFO - Downloaded 4ec0d2cd54e0e01fc5835d635ebe0ca7.jpg\n",
      "2024-08-01 23:26:03,618 - INFO - Downloaded a029fa256d432efce074ee0bd4a66b04.jpg\n",
      "2024-08-01 23:26:03,663 - INFO - Downloaded 241890221ae349ae0f128a8cab97c5a2.jpg\n",
      "2024-08-01 23:26:03,663 - INFO - Downloaded 22973146e1b22a6800bf1a146d52db6b.jpg\n",
      "2024-08-01 23:26:03,680 - INFO - Downloaded fd782046c8b7f9a324b7b2a69260f2b8.jpg\n",
      "2024-08-01 23:26:03,685 - INFO - Downloaded a7082415293388a3ba931021ee8980f8.jpg\n",
      "2024-08-01 23:26:03,691 - INFO - Downloaded 24805b86f3fa1976c9005c9cabc19a29.jpg\n",
      "2024-08-01 23:26:03,709 - INFO - Downloaded 69f36f5da4ca7f66de7b0795a7b8a76d.jpg\n",
      "2024-08-01 23:26:03,715 - INFO - Downloaded e6f96db2dff35cbe1f8fe2030aa3be5e.jpg\n",
      "2024-08-01 23:26:03,724 - INFO - Downloaded cdc5161cd4347b535cdab6959f34e98f.jpg\n",
      "2024-08-01 23:26:03,728 - INFO - Downloaded f22c35f9a76f04fea02f32040338466f.jpg\n",
      "2024-08-01 23:26:03,782 - INFO - Downloaded b7aa8fbc6caebb1c15abf793c91ace54.jpg\n",
      "2024-08-01 23:26:03,784 - INFO - Downloaded 2c5e3e142e7f74e7deb59434ded7951d.jpg\n",
      "2024-08-01 23:26:03,842 - INFO - Downloaded 400d58341ee4f57bc2cfdd5bfe86052c.jpg\n",
      "2024-08-01 23:26:03,856 - INFO - Downloaded 357c3ab3d9a1b53c39235ad988c71da6.jpg\n",
      "2024-08-01 23:26:03,887 - INFO - Downloaded 9a744970db13a6a15c7545f568374ac7.jpg\n",
      "2024-08-01 23:26:03,912 - INFO - Downloaded 72afc6b0c7d314f2b980ffd4fe750605.jpg\n",
      "2024-08-01 23:26:03,921 - INFO - Downloaded 97e910fb2adfdd84df88240c887024a5.jpg\n",
      "2024-08-01 23:26:03,929 - INFO - Downloaded 579ae8e85f601bc43f353e009b02c114.jpg\n",
      "2024-08-01 23:26:03,942 - INFO - Downloaded d5549a14eb037d5295c2f5d9d5ff9ad3.jpg\n",
      "2024-08-01 23:26:03,965 - INFO - Downloaded 9e17705408216dc07fd98811a2f46545.jpg\n",
      "2024-08-01 23:26:03,979 - INFO - Downloaded 0788aa6a2bf207fc499fffc12d528a89.jpg\n",
      "2024-08-01 23:26:03,986 - INFO - Downloaded f959f523649a034c043043ce75aaa5f6.jpg\n",
      "2024-08-01 23:26:03,992 - INFO - Downloaded f857c3c483276b0f135477845f9a5d7b.jpg\n",
      "2024-08-01 23:26:04,042 - INFO - Downloaded e900fc50e5da5e084066a1d5c0d6088c.jpg\n",
      "2024-08-01 23:26:04,074 - INFO - Downloaded 6b9176ebad6944ee3ae73747d0571ed9.jpg\n",
      "2024-08-01 23:26:04,078 - INFO - Downloaded 5d023c64fc20427025948649d4f001b4.jpg\n",
      "2024-08-01 23:26:04,119 - INFO - Downloaded 3845477ed413816c6b5e0a897be6925c.jpg\n",
      "2024-08-01 23:26:04,125 - INFO - Downloaded 230de32c8f7b937018b2edaf707a50c7.jpg\n"
     ]
    },
    {
     "name": "stderr",
     "output_type": "stream",
     "text": [
      "2024-08-01 23:26:04,140 - INFO - Downloaded a7d2786f13a918b3dd9036d55c99bec5.jpg\n",
      "2024-08-01 23:26:04,141 - INFO - Downloaded 5e3cd04024d9c880e53c30103ca947ae.jpg\n",
      "2024-08-01 23:26:04,207 - INFO - Downloaded a4fd2a6b89cdaae050eaa83ca1b3dac7.jpg\n",
      "2024-08-01 23:26:04,211 - INFO - Downloaded 7af54c5d7ee1d9df5b7903da8c673cdf.jpg\n",
      "2024-08-01 23:26:04,212 - INFO - Downloaded 6215cc81f6404760674a0ec0c72444be.jpg\n",
      "2024-08-01 23:26:04,279 - INFO - Downloaded 989ce91cbd758c7be228b507a1f6a114.jpg\n",
      "2024-08-01 23:26:04,289 - INFO - Downloaded 4f4953801d4f947d3af12c7588c912e9.jpg\n",
      "2024-08-01 23:26:04,313 - INFO - Downloaded 06af7c3a9c58f0af69d7d86360f3e320.jpg\n",
      "2024-08-01 23:26:04,356 - INFO - Downloaded a0d5ab5c197b3cc8e042336a20dc1d45.jpg\n",
      "2024-08-01 23:26:04,319 - INFO - Downloaded 2a29f662a053a05f95cafb9b92cb6ba4.jpg\n",
      "2024-08-01 23:26:04,374 - INFO - Downloaded 0db70af9d947daa9f7c20b916e99a7ff.jpg\n",
      "2024-08-01 23:26:04,387 - INFO - Downloaded 8aa070f72e6b8922b6820d45f72e150a.jpg\n",
      "2024-08-01 23:26:04,402 - INFO - Downloaded 0df19a781f502591eedec91e9430e061.jpg\n",
      "2024-08-01 23:26:04,473 - INFO - Downloaded 99fc7452d2d885f4621f8610bfb0b293.jpg\n",
      "2024-08-01 23:26:04,473 - INFO - Downloaded 28f7e9704e91d299eb517d337103fa25.jpg\n",
      "2024-08-01 23:26:04,490 - INFO - Downloaded 706d32460b45a448b41b8be417337d3c.jpg\n",
      "2024-08-01 23:26:04,495 - INFO - Downloaded 38c91886c6ae67e01a07e51a2fd45468.jpg\n",
      "2024-08-01 23:26:04,522 - INFO - Downloaded 5f5ca9a32d28db9c1018bfa5439311e4.jpg\n",
      "2024-08-01 23:26:04,523 - INFO - Downloaded b55768d5685f866d270155a42c257f3b.jpg\n",
      "2024-08-01 23:26:04,527 - INFO - Downloaded d1ad06f3938184946fd8053a259d8ac1.jpg\n",
      "2024-08-01 23:26:04,527 - INFO - Downloaded fd7191466b9c3c26a835e571f2781f91.jpg\n",
      "2024-08-01 23:26:04,536 - INFO - Downloaded ee27a850e42d2e35ad5795c2c98e9ba3.jpg\n",
      "2024-08-01 23:26:04,596 - INFO - Downloaded 9211bdd9f993e0b9d664c67c4ecf22f7.jpg\n",
      "2024-08-01 23:26:04,596 - INFO - Downloaded 8b288c05aac7bd8fa000078d1963ab58.jpg\n",
      "2024-08-01 23:26:04,604 - INFO - Downloaded 9391aa6871ee237943db79ffe29afd1a.jpg\n",
      "2024-08-01 23:26:04,606 - INFO - Downloaded e63f2bc621159af9337a1d40abe84074.jpg\n",
      "2024-08-01 23:26:04,667 - INFO - Downloaded 44d2afa748558da8652248668782764e.jpg\n",
      "2024-08-01 23:26:04,695 - INFO - Downloaded 9c59b24691a1b7185643c0c7de1d7b62.jpg\n",
      "2024-08-01 23:26:04,698 - INFO - Downloaded db11de6dfa307d7fc22ddee9af9ac21f.jpg\n",
      "2024-08-01 23:26:04,714 - INFO - Downloaded 75e0c38fb9efe43915568ff73a9daac1.jpg\n",
      "2024-08-01 23:26:04,771 - INFO - Downloaded 384465ca79b30a31b48ad4893c2667eb.jpg\n",
      "2024-08-01 23:26:04,777 - INFO - Downloaded 36126d0fa948e54d54b5823a5bb5784f.jpg\n",
      "2024-08-01 23:26:04,800 - INFO - Downloaded 877ab32668eb57212970c9e330a9b4ad.jpg\n",
      "2024-08-01 23:26:04,817 - INFO - Downloaded 7618fcea1afa0545c1cd6fbdd4a3a87a.jpg\n",
      "2024-08-01 23:26:04,854 - INFO - Downloaded ab9ac5bfa263c603907470cac084da41.jpg\n",
      "2024-08-01 23:26:04,859 - INFO - Downloaded f73c2ffb74921b1b26b9d0d156ba5ad3.jpg\n",
      "2024-08-01 23:26:04,868 - INFO - Downloaded 6dc910538cbea544b591682150cc544d.jpg\n",
      "2024-08-01 23:26:04,896 - INFO - Downloaded 7cf0e0bad78317f78b866b300305b740.jpg\n",
      "2024-08-01 23:26:04,913 - INFO - Downloaded 5307ade599052d7ae2250448470e6617.jpg\n",
      "2024-08-01 23:26:04,917 - INFO - Downloaded 4400c5dfc515e8f58ae999a73bff8504.jpg\n",
      "2024-08-01 23:26:04,943 - INFO - Downloaded a007ee3cb06fba4ab2cf2afab68a9fea.jpg\n",
      "2024-08-01 23:26:04,952 - INFO - Downloaded 6873a3f58d2df8131c8bab058a2824eb.jpg\n",
      "2024-08-01 23:26:04,954 - INFO - Downloaded 111835799fe3c67724b695dccbb15fed.jpg\n",
      "2024-08-01 23:26:04,955 - INFO - Downloaded 9e0b9d15145877c09a337f7974e1fc18.jpg\n",
      "2024-08-01 23:26:04,955 - INFO - Downloaded 3f3c6e140240415b1f02a7918ae1eac0.jpg\n",
      "2024-08-01 23:26:04,977 - INFO - Downloaded 84b9f1fc7c97f4f20d4a28160168a3a2.jpg\n",
      "2024-08-01 23:26:05,016 - INFO - Downloaded b3a99176dc515dc908e61d6ac373da6e.jpg\n",
      "2024-08-01 23:26:05,019 - INFO - Downloaded f9b5a97fc9f13b3a089ea70a412d6e22.jpg\n"
     ]
    }
   ],
   "source": [
    "logging.basicConfig(\n",
    "    level=logging.INFO,\n",
    "    format='%(asctime)s - %(levelname)s - %(message)s',\n",
    "    handlers=[\n",
    "        logging.FileHandler(\"download_image.log\"),\n",
    "        logging.StreamHandler()\n",
    "    ]\n",
    ")\n",
    "\n",
    "\n",
    "\n",
    "def sanitize_filename(filename):\n",
    "    \"\"\"\n",
    "    Sanitize the filename by replacing or removing invalid characters.\n",
    "    \"\"\"\n",
    "    invalid_chars = ['<', '>', ':', '\"', '/', '\\\\', '|', '?', '*']\n",
    "    for char in invalid_chars:\n",
    "        filename = filename.replace(char, '_')  # Replace with underscore or any other valid character\n",
    "    return filename\n",
    "\n",
    "def download_image(row, index):\n",
    "    \"\"\"\n",
    "    Download an image based on the given URL, brand, model, and SKU.\n",
    "    \n",
    "    Parameters:\n",
    "    ----------\n",
    "    image_url : url of the current image\n",
    "    hash_watch_url: hashed value of current image url\n",
    "    index : int\n",
    "        Unique index to avoid filename collisions\n",
    "    output_path : str\n",
    "        Directory to save the downloaded images\n",
    "\n",
    "    Returns:\n",
    "    -------\n",
    "    None\n",
    "    \"\"\"\n",
    "    img_url = row['image_url']\n",
    "    hash_url = row['hash_watch_url']\n",
    "    \n",
    "\n",
    "    # Headers to mimic a real user request\n",
    "    headers = {\n",
    "        \"User-Agent\": \"Mozilla/5.0 (Windows NT 10.0; Win64; x64) AppleWebKit/537.36 (KHTML, like Gecko) Chrome/96.0.4664.45 Safari/537.36\"\n",
    "    }\n",
    "\n",
    "    # Check if the URL is a string\n",
    "    if not isinstance(img_url, str):\n",
    "        bad_url_files.append(f\"Skipping {hash_url} due to invalid URL.\")\n",
    "        return\n",
    "\n",
    "    try:\n",
    "        response = requests.get(img_url, headers=headers)\n",
    "    except Exception as e:\n",
    "        logging.error(f\"Failed to send GET request: {e}\")\n",
    "        return\n",
    "    \n",
    "         \n",
    "# Check if the request was successful\n",
    "    if response.status_code == 200:  # HTTP OK\n",
    "        try:\n",
    "            \n",
    "            # Read and save the image\n",
    "            image_data = BytesIO(response.content)\n",
    "            image = Image.open(image_data)                   \n",
    "           \n",
    "            # Extract the file extension from the URL\n",
    "            file_extension = mimetypes.guess_extension(response.headers.get('content-type'))\n",
    "\n",
    "            if file_extension:\n",
    "                sanitized_filename = sanitize_filename(f\"{hash_url}{file_extension}\")\n",
    "                \n",
    "            else:\n",
    "                logging.warning(f\"Cannot determine file extension for {index}_{hash_url}. Saving as PNG.\")\n",
    "                sanitized_filename = sanitize_filename(f\"{hash_url}.png\")\n",
    "               \n",
    "            image_save_path = os.path.join(output_path, sanitized_filename)\n",
    "            image.save(image_save_path)\n",
    "            logging.info(f\"Downloaded {sanitized_filename}\")\n",
    "            downloaded_images.append(f\"{sanitized_filename}\")\n",
    "            f_image.write(f\"<a href='{output_path}{sanitized_filename}'><img src='{output_path}{sanitized_filename}'>{sanitized_filename}</a> \")\n",
    "\n",
    "        except Exception as e:\n",
    "            logging.error(f\"Failed to save image: {e}\")\n",
    "            not_images.append(f\"{hash_url}\")\n",
    "    else:\n",
    "        bad_url_files.append(f\"{hash_url}\")\n",
    "\n",
    "    \n",
    "    \n",
    "if __name__ == \"__main__\":\n",
    "    \n",
    "    # Ensure the output directory exists, create it if not\n",
    "    if os.path.exists(output_path):\n",
    "        try:\n",
    "            shutil.rmtree(output_path)\n",
    "            print(f\"Directory '{output_path}' and all its contents have been deleted.\")\n",
    "        except Exception as e:\n",
    "            print(f\"Error: Failed to delete '{output_path}'. {e}\")\n",
    "    os.makedirs(output_path)  \n",
    "   \n",
    "\n",
    "    with open(\"downloaded_files.html\", \"w\") as f_image:     # Write downloaded images\n",
    "        f_image.write(\"<html><head><style>img {width:100px;height:100px;background-color:#39F;}</style></head><body>\")\n",
    "        \n",
    "        # Check if the DataFrame is not empty\n",
    "        if not df.empty:\n",
    "            # Use ThreadPoolExecutor to download images concurrently\n",
    "            with concurrent.futures.ThreadPoolExecutor(max_workers=20) as executor:\n",
    "                futures = [executor.submit(download_image, row, z) for z, row in df.iterrows()]\n",
    "                concurrent.futures.wait(futures)\n",
    "                \n",
    "        f_image.write(\"</body></html>\") \n",
    "        \n",
    "    # Write the possible errors\n",
    "    with open(\"not_images.txt\", \"w\") as f:\n",
    "        for item in not_images:\n",
    "            f.write(f\"{item}\\n\")\n",
    "            \n",
    "    with open(\"bad_url_files.txt\", \"w\") as f:\n",
    "        for item in bad_url_files:\n",
    "            f.write(f\"{item}\\n\")\n",
    "    \n",
    "    with open(\"downloaded_images.txt\", \"w\") as f:\n",
    "        for item in downloaded_images:\n",
    "            f.write(f\"{item}\\n\")\n",
    "            \n",
    " # any image file extracted from a valid url will be stored in the images_folder created above, and documented in the downloaded_images.txt file           "
   ]
  },
  {
   "cell_type": "code",
   "execution_count": 6,
   "id": "6f6c98b3",
   "metadata": {},
   "outputs": [],
   "source": [
    "# Create csv file with all original records, along with new image filename as hash.png or hash.jpg"
   ]
  },
  {
   "cell_type": "code",
   "execution_count": 7,
   "id": "8c6bcbb7",
   "metadata": {},
   "outputs": [
    {
     "name": "stdout",
     "output_type": "stream",
     "text": [
      "bulkdata_images_A_Lange_and_Sohne_20240801.csv  file saved successfully.\n"
     ]
    }
   ],
   "source": [
    "from datetime import date\n",
    "brandname='A_Lange_and_Sohne'\n",
    "today = date.today()\n",
    "today_date= date.today()\n",
    "formatted_date = today.strftime(\"%Y%m%d\")\n",
    "output_filename = \"bulkdata_images_\" + brandname +'_'+ formatted_date +'.csv'\n",
    "        \n",
    "df.to_csv(output_filename, index=False)\n",
    "print(output_filename,\" file saved successfully.\")"
   ]
  },
  {
   "cell_type": "markdown",
   "id": "b6802859",
   "metadata": {},
   "source": [
    "## Part B - Separate downloaded images into transparent background or otherwise"
   ]
  },
  {
   "cell_type": "raw",
   "id": "d8611dfe",
   "metadata": {},
   "source": []
  },
  {
   "cell_type": "code",
   "execution_count": 8,
   "id": "7e34726c",
   "metadata": {},
   "outputs": [],
   "source": [
    "# Threshold Variables\n",
    "BLUR_THRESHOLD = 100  # Variance of Laplacian threshold. Typical values: min=10, avg=100, max=200\n",
    "EDGE_COUNT_THRESHOLD = 2000  # Edge count threshold. Typical values: min=500, avg=1000, max=2000\n",
    "WHITE_BG_THRESHOLD = 240  # RGB threshold to consider a pixel as white. Typical values: min=200, avg=240, max=255\n",
    "WHITE_BG_PERCENTAGE = 0.9  # Percentage of white pixels in the corners to consider background as white. Typical values: min=0.5, avg=0.9, max=1.0\n",
    "\n",
    "def crop_to_content_with_alpha(image):\n",
    "    \"\"\" \n",
    "    Crop image to content based on transparency (alpha channel).\n",
    "    \n",
    "    Parameters:\n",
    "    image (PIL.Image): The image to be cropped.\n",
    "    \n",
    "    Returns:\n",
    "    PIL.Image: The cropped image if transparency is present, otherwise the original image.\n",
    "    \"\"\"\n",
    "    # Ensure the image is in RGBA mode to access the alpha channel\n",
    "    if image.mode != 'RGBA':\n",
    "        image = image.convert('RGBA')\n",
    "    \n",
    "    # Extract the alpha channel (transparency) from the image\n",
    "    alpha_channel = image.split()[3]\n",
    "    \n",
    "    # Check if there's any transparency in the image\n",
    "    if alpha_channel.getextrema()[0] < 255:\n",
    "        # Get the bounding box of the non-transparent content\n",
    "        bbox = alpha_channel.getbbox()\n",
    "        if bbox:\n",
    "            # Crop the image to the bounding box\n",
    "            cropped_image = image.crop(bbox)\n",
    "            return cropped_image\n",
    "    \n",
    "    # Return the original image if no transparency is found\n",
    "    return image\n",
    "\n",
    "def crop_to_content_without_alpha(image_path):\n",
    "    \"\"\" \n",
    "    Crop image to content based on contours (for images without alpha channel).\n",
    "    \n",
    "    Parameters:\n",
    "    image_path (str): The path to the image to be cropped.\n",
    "    \n",
    "    Returns:\n",
    "    PIL.Image: The cropped image.\n",
    "    \"\"\"\n",
    "    # Open the image using PIL\n",
    "    image = Image.open(image_path)\n",
    "    \n",
    "    # Convert the PIL image to an OpenCV image (NumPy array) with alpha channel\n",
    "    open_cv_image = cv2.cvtColor(np.array(image), cv2.COLOR_RGBA2BGRA)\n",
    "    \n",
    "    # Convert the OpenCV image to grayscale\n",
    "    gray = cv2.cvtColor(open_cv_image, cv2.COLOR_BGR2GRAY)\n",
    "    \n",
    "    # Apply Gaussian blur to reduce noise and improve edge detection\n",
    "    blurred = cv2.GaussianBlur(gray, (5, 5), 0)\n",
    "    \n",
    "    # Perform edge detection using the Canny algorithm\n",
    "    edges = cv2.Canny(blurred, 50, 150)\n",
    "    \n",
    "    # Dilate the edges to close gaps\n",
    "    dilated = cv2.dilate(edges, None, iterations=2)\n",
    "    \n",
    "    # Find contours in the edge-detected image\n",
    "    contours, _ = cv2.findContours(dilated, cv2.RETR_EXTERNAL, cv2.CHAIN_APPROX_SIMPLE)\n",
    "    \n",
    "    # Get the bounding box of the largest contour\n",
    "    x, y, w, h = cv2.boundingRect(contours[0])\n",
    "    \n",
    "    # Crop the OpenCV image to the bounding box\n",
    "    cropped_image = open_cv_image[y:y+h, x:x+w]\n",
    "    \n",
    "    # Convert the cropped OpenCV image back to RGB mode for PIL compatibility\n",
    "    cropped_image_rgb = cv2.cvtColor(cropped_image, cv2.COLOR_BGR2RGB)\n",
    "    \n",
    "    # Convert the cropped image to a PIL image\n",
    "    pil_cropped_image = Image.fromarray(cropped_image_rgb)\n",
    "    \n",
    "    # Return the cropped PIL image\n",
    "    return pil_cropped_image\n",
    "\n",
    "def is_image_vertical(image):\n",
    "    \"\"\" Check if the image is vertical (portrait orientation) \"\"\"\n",
    "    width, height = image.size\n",
    "    return height > width\n",
    "\n",
    "def rotate_to_vertical(image):\n",
    "    \"\"\" Rotate image to make it vertical if it's not already \"\"\"\n",
    "    if not is_image_vertical(image):\n",
    "        image = image.rotate(90, expand=True)\n",
    "    return image\n",
    "\n",
    "def has_transparency(image):\n",
    "    \"\"\" Check if the image has transparency (alpha channel) \"\"\"\n",
    "    if image.mode == 'RGBA':\n",
    "        alpha_channel = image.split()[3]\n",
    "        if alpha_channel.getextrema()[0] < 255:\n",
    "            return True\n",
    "    return False\n",
    "\n",
    "def is_background_mostly_white(image, threshold=WHITE_BG_THRESHOLD, percentage=WHITE_BG_PERCENTAGE):\n",
    "    \"\"\" Check if the background of the image is mostly white \"\"\"\n",
    "    image = image.convert(\"RGBA\")\n",
    "    width, height = image.size\n",
    "    datas = image.getdata()\n",
    "\n",
    "    corners = [\n",
    "        (0, 0),  # Top-left\n",
    "        (width - 1, 0),  # Top-right\n",
    "        (0, height - 1),  # Bottom-left\n",
    "        (width - 1, height - 1)  # Bottom-right\n",
    "    ]\n",
    "\n",
    "    white_pixels = 0\n",
    "    total_pixels = len(corners)\n",
    "\n",
    "    for corner in corners:\n",
    "        pixel = datas[corner[1] * width + corner[0]]\n",
    "        if pixel[0] > threshold and pixel[1] > threshold and pixel[2] > threshold:\n",
    "            white_pixels += 1\n",
    "\n",
    "    return (white_pixels / total_pixels) >= percentage\n",
    "\n",
    "def is_blurry_variance_of_laplacian(image, threshold=BLUR_THRESHOLD):\n",
    "    \"\"\" Check if the image is blurry using the variance of Laplacian method \"\"\"\n",
    "    open_cv_image = cv2.cvtColor(np.array(image), cv2.COLOR_RGBA2BGR)\n",
    "    gray = cv2.cvtColor(open_cv_image, cv2.COLOR_BGR2GRAY)\n",
    "    variance_of_laplacian = cv2.Laplacian(gray, cv2.CV_64F).var()\n",
    "    return variance_of_laplacian < threshold\n",
    "\n",
    "def is_blurry_edge_count(image, threshold=EDGE_COUNT_THRESHOLD):\n",
    "    \"\"\" Check if the image is blurry using edge count method \"\"\"\n",
    "    open_cv_image = cv2.cvtColor(np.array(image), cv2.COLOR_RGBA2BGR)\n",
    "    gray = cv2.cvtColor(open_cv_image, cv2.COLOR_BGR2GRAY)\n",
    "    edges = cv2.Canny(gray, 50, 150)\n",
    "    edge_count = np.count_nonzero(edges)\n",
    "    return edge_count < threshold\n",
    "\n",
    "def resize_image(cropped_image, canvas_width, canvas_height, fixed_margin):\n",
    "    \"\"\" \n",
    "    Resize the image to fit within the specified canvas dimensions,\n",
    "    maintaining the aspect ratio and centering the image within the canvas.\n",
    "    \n",
    "    Parameters:\n",
    "    cropped_image (PIL.Image): The image to be resized.\n",
    "    canvas_width (int): The width of the canvas.\n",
    "    canvas_height (int): The height of the canvas.\n",
    "    fixed_margin (int): The margin to maintain around the image.\n",
    "    \n",
    "    Returns:\n",
    "    PIL.Image: The final image with the resized image centered on the canvas.\n",
    "    \"\"\"\n",
    "    \n",
    "    # Calculate the aspect ratio of the original image\n",
    "    aspect_ratio = cropped_image.width / cropped_image.height\n",
    "    \n",
    "    # Calculate the maximum width and height the image can have within the canvas, accounting for margins\n",
    "    max_width = canvas_width - 2 * fixed_margin\n",
    "    max_height = canvas_height - 2 * fixed_margin\n",
    "    \n",
    "    # Determine the scale factor to resize the image while maintaining its aspect ratio\n",
    "    scale_factor = min(max_width / cropped_image.width, max_height / cropped_image.height)\n",
    "    \n",
    "    # Calculate the new dimensions of the resized image\n",
    "    new_width = int(cropped_image.width * scale_factor)\n",
    "    new_height = int(cropped_image.height * scale_factor)\n",
    "    \n",
    "    # Resize the image using the calculated dimensions\n",
    "    resized_image = cropped_image.resize((new_width, new_height), Image.LANCZOS)\n",
    "    \n",
    "    # Calculate the position to paste the resized image on the canvas to center it\n",
    "    paste_x = (canvas_width - new_width) // 2\n",
    "    paste_y = (canvas_height - new_height) // 2\n",
    "    \n",
    "    # Create a new transparent canvas with the specified dimensions\n",
    "    final_image = Image.new(\"RGBA\", (canvas_width, canvas_height), (0, 0, 0, 0))\n",
    "    \n",
    "    # Paste the resized image onto the canvas, handling transparency if present\n",
    "    final_image.paste(resized_image, (paste_x, paste_y), mask=resized_image.split()[3] if \"A\" in resized_image.getbands() else None)\n",
    "    \n",
    "    # Return the final image with the resized image centered on the canvas\n",
    "    return final_image\n",
    "\n",
    "def process_image(image_path, transparent_output_folder, white_bg_output_folder, canvas_width, canvas_height, fixed_margin):\n",
    "    \"\"\" Process a single image: crop, resize, and save it \"\"\"\n",
    "    filename = os.path.basename(image_path)\n",
    "    image = Image.open(image_path).convert('RGBA')\n",
    "\n",
    "    # Check if the image has transparency\n",
    "    if has_transparency(image):\n",
    "        cropped_image = crop_to_content_with_alpha(image)\n",
    "        output_folder = transparent_output_folder\n",
    "        print(f\"Processing {filename} with transparency\")\n",
    "    else:\n",
    "        # Check for blurriness for images without alpha\n",
    "        if is_blurry_variance_of_laplacian(image):\n",
    "            print(f\"Skipping {filename} due to blurriness (variance of Laplacian)\")\n",
    "            return\n",
    "        \n",
    "        if is_blurry_edge_count(image):\n",
    "            print(f\"Skipping {filename} due to blurriness (edge count)\")\n",
    "            return\n",
    "\n",
    "        # Check if the background is mostly white\n",
    "        if is_background_mostly_white(image):\n",
    "            cropped_image = crop_to_content_without_alpha(image_path)\n",
    "            output_folder = white_bg_output_folder\n",
    "            print(f\"Processing {filename} with white background\")\n",
    "        else:\n",
    "            print(f\"Skipping {filename} due to non-white background\")\n",
    "            return\n",
    "    \n",
    "    \n",
    "    # Rotate and resize the image\n",
    "    cropped_image = rotate_to_vertical(cropped_image)\n",
    "    final_image = resize_image(cropped_image, canvas_width, canvas_height, fixed_margin)\n",
    "    final_image_filename =  os.path.splitext(filename)[0] + '.png' #os.path.splitext(filename)[1]\n",
    "    final_image_path = os.path.join(output_folder, final_image_filename)\n",
    "    final_image.save(final_image_path)\n",
    "\n",
    "def process_images_in_folder_concurrent(input_folder, transparent_output_folder, white_bg_output_folder, canvas_width=1000, canvas_height=1000, fixed_margin=10):\n",
    "    \"\"\" Process all images in a given folder concurrently \"\"\"\n",
    "        \n",
    "       \n",
    "    if os.path.exists(transparent_output_folder):\n",
    "        try:\n",
    "            shutil.rmtree(transparent_output_folder)\n",
    "            print(f\"Directory '{transparent_output_folder}' and all its contents have been deleted.\")\n",
    "        except Exception as e:\n",
    "            print(f\"Error: Failed to delete '{transparent_output_folder}'. {e}\")\n",
    "            \n",
    "    if os.path.exists(white_bg_output_folder):\n",
    "        try:\n",
    "            shutil.rmtree(white_bg_output_folder)\n",
    "            print(f\"Directory '{white_bg_output_folder}' and all its contents have been deleted.\")\n",
    "        except Exception as e:\n",
    "            print(f\"Error: Failed to delete '{white_bg_output_folder}'. {e}\")\n",
    "            \n",
    " \n",
    "    os.makedirs(transparent_output_folder)\n",
    "    os.makedirs(white_bg_output_folder)\n",
    "  \n",
    "\n",
    "    image_files = [f for f in os.listdir(input_folder) ]\n",
    "    image_paths = [os.path.join(input_folder, filename) for filename in image_files]\n",
    "\n",
    "    with ThreadPoolExecutor(max_workers=20) as executor:\n",
    "        futures = [executor.submit(process_image, image_path, transparent_output_folder, white_bg_output_folder, canvas_width, canvas_height, fixed_margin) for image_path in image_paths]\n",
    "        with tqdm(total=len(futures), desc=\"Processing images\") as progress_bar:\n",
    "            for future in as_completed(futures):\n",
    "                try:\n",
    "                    future.result()\n",
    "                except Exception as e:\n",
    "                    print(f\"An error occurred: {e}\")\n",
    "                finally:\n",
    "                    progress_bar.update(1)\n",
    "\n",
    "                    \n",
    "                          "
   ]
  },
  {
   "cell_type": "code",
   "execution_count": 9,
   "id": "b9afbcf3",
   "metadata": {},
   "outputs": [
    {
     "name": "stdout",
     "output_type": "stream",
     "text": [
      "Directory 'transparent_images' and all its contents have been deleted.\n",
      "Directory 'white_bg_images' and all its contents have been deleted.\n",
      "Processing 011ff2d14d6b62939d9f765c1416c96f.png with transparency\n",
      "Processing 00f50abe48726b58646b1e3019ba3990.png with transparency\n",
      "Processing 00e7bba44cae3410c44adcfaa651405a.png with transparency\n",
      "Skipping 0102a33023554dab28d7cea953ac1694.jpg due to blurriness (variance of Laplacian)\n",
      "Processing 0265422981bb3f66d540ab66abf592d3.jpg with white background\n",
      "Skipping 03a0f0877bab5eaa8df9a7ef132aeeef.jpg due to blurriness (variance of Laplacian)Processing 00b370de60a931180e7a68b9cca5dc4c.jpg with white background\n",
      "\n",
      "Processing 0322e101cbff9d0ad171e6a9a5aea1e7.jpg with white background\n",
      "Processing 02d816fba813ef3efc50fc522843c67b.jpg with white background\n",
      "Skipping 03c1b4b1153e9000ed2f4b7567202bdd.jpg due to non-white background\n",
      "Processing 015f369d469109003f4a70f5133b6799.jpg with white background\n",
      "Processing 01a08adf2c8218cd60285d26b28b5be2.jpg with white background\n",
      "Processing 03e0e8ca5a2dd59b4e4212102a7d3aee.png with transparency\n",
      "Processing 025211240c5c41717c3a8ab0fee71c24.jpg with white background\n",
      "Processing 00767d4d15ac4bc7258096399095115c.jpg with white background\n",
      "Processing 029c6c6b5ccad5415fe132f3f3cba716.jpg with white background\n",
      "Processing 00bf378af3e2733399cb523f075179e0.jpg with white background\n",
      "Processing 02af40493eeb9c41cbee5b4a35b76a18.jpg with white background\n",
      "Processing 03c31acea94e86777d9d6ebaa872e91d.jpg with white background\n",
      "Processing 03c7f162ef5ce2dcf5f58bf8f11d03cf.jpg with white background\n",
      "Processing 03ca5a8bb208977a548d41367de0fba8.jpg with white background\n"
     ]
    },
    {
     "name": "stderr",
     "output_type": "stream",
     "text": [
      "\r",
      "Processing images:   0%|          | 0/1679 [00:00<?, ?it/s]"
     ]
    },
    {
     "name": "stdout",
     "output_type": "stream",
     "text": [
      "Processing 03f892aedc2abedb08008c325940502e.jpg with white background\n"
     ]
    },
    {
     "name": "stderr",
     "output_type": "stream",
     "text": [
      "Processing images:   1%|          | 10/1679 [00:00<01:12, 23.18it/s]"
     ]
    },
    {
     "name": "stdout",
     "output_type": "stream",
     "text": [
      "Processing 0426561ac3375863ab105cb8293d7ebc.jpg with white background\n",
      "Processing 04c2989cf7b3ea3ad32b5b891449edf3.png with transparency\n"
     ]
    },
    {
     "name": "stderr",
     "output_type": "stream",
     "text": [
      "\r",
      "Processing images:   1%|          | 13/1679 [00:00<01:34, 17.62it/s]"
     ]
    },
    {
     "name": "stdout",
     "output_type": "stream",
     "text": [
      "Processing 0522dd07f54cb828fbbc1fb51e1224ef.png with transparency\n",
      "Processing 05aff3956746404cfc8ebec86963b494.jpg with white background\n",
      "Processing 05fc5dcc6af388dafa7f5a277dcfad36.png with transparency\n",
      "Processing 0443bb9ee6c03100979e9de04b0da279.jpg with white background\n",
      "Processing 0404565ab0a432f187940d0bfa139e0a.jpg with white background\n",
      "Processing 05d30c306cf4f85708e9079fa8b2267f.png with transparency\n"
     ]
    },
    {
     "name": "stderr",
     "output_type": "stream",
     "text": [
      "\r",
      "Processing images:   1%|          | 15/1679 [00:00<01:42, 16.31it/s]"
     ]
    },
    {
     "name": "stdout",
     "output_type": "stream",
     "text": [
      "Processing 06038e250da7f69ce9a1a075c9dc19d3.png with transparency\n",
      "Processing 041b88e328d1dc95fad311d2399e2a17.jpg with white background\n",
      "Processing 0645d9ff509018d720f3fd5da542cad1.jpg with white background\n",
      "Processing 05b4c9fdb95a9f930ed7dcbb3d2edc7e.jpg with white background\n"
     ]
    },
    {
     "name": "stderr",
     "output_type": "stream",
     "text": [
      "\r",
      "Processing images:   1%|          | 18/1679 [00:01<02:03, 13.45it/s]"
     ]
    },
    {
     "name": "stdout",
     "output_type": "stream",
     "text": [
      "Processing 04dd1f638d00869f16c9fde857bd542b.jpg with white background\n",
      "Skipping 0674fe7b94b802e7ce2746ae187ef795.jpg due to non-white background\n",
      "Processing 067debef9056a3939bc567469d3a7302.jpg with white background\n"
     ]
    },
    {
     "name": "stderr",
     "output_type": "stream",
     "text": [
      "\r",
      "Processing images:   1%|▏         | 22/1679 [00:01<02:06, 13.10it/s]"
     ]
    },
    {
     "name": "stdout",
     "output_type": "stream",
     "text": [
      "Processing 06d4a42a9527da683e922388a11a66d2.jpg with white background\n",
      "Processing 06f73ea7e62fa09251942385a54e55ac.jpg with white background\n"
     ]
    },
    {
     "name": "stderr",
     "output_type": "stream",
     "text": [
      "\r",
      "Processing images:   1%|▏         | 24/1679 [00:01<02:27, 11.25it/s]"
     ]
    },
    {
     "name": "stdout",
     "output_type": "stream",
     "text": [
      "Processing 06af7c3a9c58f0af69d7d86360f3e320.jpg with white background\n",
      "Processing 06cddfe485c66a63aaf856d7e8308473.jpg with white background\n"
     ]
    },
    {
     "name": "stderr",
     "output_type": "stream",
     "text": [
      "\r",
      "Processing images:   2%|▏         | 27/1679 [00:01<02:09, 12.79it/s]"
     ]
    },
    {
     "name": "stdout",
     "output_type": "stream",
     "text": [
      "Processing 06ff1edef213fb16fcb839f82c7f2ad0.png with transparency\n",
      "Processing 0226b246d82fb196b353eee85e0c7b3b.jpg with white background\n",
      "Processing 073ace43c43075e037acdc9330a5dda1.jpg with white background\n",
      "Processing 0731ca8b452e00286342af699421fe95.jpg with white background\n"
     ]
    },
    {
     "name": "stderr",
     "output_type": "stream",
     "text": [
      "\r",
      "Processing images:   2%|▏         | 30/1679 [00:02<02:25, 11.31it/s]"
     ]
    },
    {
     "name": "stdout",
     "output_type": "stream",
     "text": [
      "Processing 0759fcf947aa277d9e3f673fb3358cf3.png with transparency\n",
      "Processing 073a02e7a2707e1522bf95b2b9abfa4c.jpg with white background\n"
     ]
    },
    {
     "name": "stderr",
     "output_type": "stream",
     "text": [
      "Processing images:   2%|▏         | 38/1679 [00:02<01:51, 14.74it/s]"
     ]
    },
    {
     "name": "stdout",
     "output_type": "stream",
     "text": [
      "Processing 083249d85b1b4a7f3aa5a011644dc811.jpg with white background\n",
      "Processing 076c7fc0ede78d5dff6ce5eaa1e2fe23.jpg with white background\n",
      "Processing 077291188047123df05abaf3345d1e6e.jpg with white background\n",
      "Processing 07919a346ff060197647dac4cf4e911c.jpg with white background\n",
      "Processing 07d5259ef1ca530184ce9e07361549c9.jpg with white background\n"
     ]
    },
    {
     "name": "stderr",
     "output_type": "stream",
     "text": [
      "\r",
      "Processing images:   2%|▏         | 40/1679 [00:02<02:12, 12.39it/s]"
     ]
    },
    {
     "name": "stdout",
     "output_type": "stream",
     "text": [
      "Processing 0788aa6a2bf207fc499fffc12d528a89.jpg with white background\n"
     ]
    },
    {
     "name": "stderr",
     "output_type": "stream",
     "text": [
      "Processing images:   3%|▎         | 44/1679 [00:03<02:05, 13.04it/s]"
     ]
    },
    {
     "name": "stdout",
     "output_type": "stream",
     "text": [
      "Processing 08134fbaec8882fb5b66bfa59c7309a5.jpg with white background\n",
      "Processing 09bb246c213e5c2bb0a7550482fcd3a8.jpg with white background\n",
      "Processing 08fcc4b0184730af0ebc31cd35f8ed07.jpg with white background\n",
      "Skipping 094728fd7f67ba88636ab6679874e059.jpg due to blurriness (variance of Laplacian)\n",
      "Processing 096ea900ad1bd4a95ea0390d712a715d.jpg with white background\n"
     ]
    },
    {
     "name": "stderr",
     "output_type": "stream",
     "text": [
      "\r",
      "Processing images:   3%|▎         | 46/1679 [00:03<02:29, 10.91it/s]"
     ]
    },
    {
     "name": "stdout",
     "output_type": "stream",
     "text": [
      "Processing 088abd4d51ebeb266380f3672da30048.jpg with white background\n",
      "Processing 0a40a2fe996980fc8c717f2a2ce3cf37.png with transparency\n",
      "Processing 09d31ed012ddbdeeef8c53b5fba8a7d4.jpg with white background\n"
     ]
    },
    {
     "name": "stderr",
     "output_type": "stream",
     "text": [
      "\r",
      "Processing images:   3%|▎         | 49/1679 [00:03<02:03, 13.25it/s]"
     ]
    },
    {
     "name": "stdout",
     "output_type": "stream",
     "text": [
      "Processing 0ab2c0560e9dd4754bc9f3dd7704d7b0.jpg with white backgroundProcessing 09cd3c1174862f14ce79391add050294.jpg with white background\n",
      "\n",
      "Processing 0b709aa4dbf0460f5d5c8fcf219f7580.jpg with white background\n"
     ]
    },
    {
     "name": "stderr",
     "output_type": "stream",
     "text": [
      "\r",
      "Processing images:   3%|▎         | 51/1679 [00:03<02:25, 11.18it/s]"
     ]
    },
    {
     "name": "stdout",
     "output_type": "stream",
     "text": [
      "Processing 0b922d755ac3e037e0515cee4638b724.jpg with white background\n",
      "Processing 0bc30ecee34a8e78308a572f3d1cc79e.png with transparency\n",
      "Skipping 0b103b58f950e513d60594f6d5c495fa.jpg due to blurriness (variance of Laplacian)\n",
      "Processing 0a691600e8a61bc9d1511c2188ebe825.jpg with white background\n",
      "Processing 0c2c4cfc8d83a4e74f87550223d142d2.png with transparency\n"
     ]
    },
    {
     "name": "stderr",
     "output_type": "stream",
     "text": [
      "\r",
      "Processing images:   3%|▎         | 54/1679 [00:03<02:05, 12.94it/s]"
     ]
    },
    {
     "name": "stdout",
     "output_type": "stream",
     "text": [
      "Skipping 0c2b98df0c327286ade444685b3088a1.jpg due to non-white background\n",
      "Processing 0c2f5f846ba026ae10ce2865ba0c3217.jpg with white background\n",
      "Processing 0cd5eb9cef01ca6fe57c46b5e20bcf92.png with transparency\n",
      "Processing 0cc1c5da61a604d0f103f4d432977419.jpg with white background\n"
     ]
    },
    {
     "name": "stderr",
     "output_type": "stream",
     "text": [
      "Processing images:   4%|▍         | 63/1679 [00:04<02:05, 12.87it/s]"
     ]
    },
    {
     "name": "stdout",
     "output_type": "stream",
     "text": [
      "Skipping 0d23e294f30294ef92dad597d7717ca3.jpg due to non-white background\n",
      "Processing 0cdac49c95a38ce608c1c4b9f29ee4bb.jpg with white background\n",
      "Processing 0d7bfc78b1c2131fb566509f7c16dfa0.jpg with white background\n",
      "Processing 0c60bae8d9b56d4a721c682245a82320.jpg with white background\n",
      "Processing 0d89baf4c10dc389944d1f2486f19281.jpg with white background\n"
     ]
    },
    {
     "name": "stderr",
     "output_type": "stream",
     "text": [
      "Processing images:   4%|▍         | 68/1679 [00:04<01:43, 15.59it/s]"
     ]
    },
    {
     "name": "stdout",
     "output_type": "stream",
     "text": [
      "Processing 0ddc29ed897b944e887e173d7f0ef319.jpg with white background\n",
      "Processing 0d077a49de7596284d3d93cb363d61b5.jpg with white background\n",
      "Processing 0e742bdace16d2bf0a2fab26ea893e99.png with transparency\n",
      "Processing 0e1fade32260c98a457227be9f6e9adf.png with transparency\n",
      "Processing 0e28f9bfae1b2703ad60aa73d3abd688.jpg with white background\n",
      "Processing 0d3ada08475221b891e2b24a7e24f5de.jpg with white background\n"
     ]
    },
    {
     "name": "stderr",
     "output_type": "stream",
     "text": [
      "Processing images:   4%|▍         | 75/1679 [00:05<01:33, 17.21it/s]"
     ]
    },
    {
     "name": "stdout",
     "output_type": "stream",
     "text": [
      "Processing 0de573771a1d1fcae61bc026ec058377.jpg with white background\n",
      "Processing 0e873b232b7b5a03adc549d3c89fbe6a.png with transparency\n",
      "Processing 0db70af9d947daa9f7c20b916e99a7ff.jpg with white background\n",
      "Processing 0db629a41600b586a968060939d4eb16.jpg with white background\n",
      "Skipping 0ea80f74d6c9298b024e16f71cd0591f.jpg due to non-white background\n",
      "Processing 0dec24ba3cb197cb61f24f3a0691a033.jpg with white background\n"
     ]
    },
    {
     "name": "stderr",
     "output_type": "stream",
     "text": [
      "\r",
      "Processing images:   5%|▍         | 77/1679 [00:05<01:51, 14.34it/s]"
     ]
    },
    {
     "name": "stdout",
     "output_type": "stream",
     "text": [
      "Skipping 0df19a781f502591eedec91e9430e061.jpg due to blurriness (variance of Laplacian)\n"
     ]
    },
    {
     "name": "stderr",
     "output_type": "stream",
     "text": [
      "\r",
      "Processing images:   5%|▍         | 79/1679 [00:05<02:03, 13.00it/s]"
     ]
    },
    {
     "name": "stdout",
     "output_type": "stream",
     "text": [
      "Processing 0f24e121df8e628ddc1bfc5c131b3cb1.png with transparency\n"
     ]
    },
    {
     "name": "stderr",
     "output_type": "stream",
     "text": [
      "\r",
      "Processing images:   5%|▍         | 81/1679 [00:05<02:19, 11.43it/s]"
     ]
    },
    {
     "name": "stdout",
     "output_type": "stream",
     "text": [
      "Processing 0f35f438755a2084dce1f2a235c0b1c4.jpg with white backgroundProcessing 0e7ce331cb875693422662f474577f04.jpg with white background\n",
      "\n",
      "Processing 0ef64144767efab80d4dc732605e42dc.jpg with white background\n",
      "Processing 0ee7097a7638f212d86c631a67cd5238.jpg with white background\n"
     ]
    },
    {
     "name": "stderr",
     "output_type": "stream",
     "text": [
      "\r",
      "Processing images:   5%|▌         | 86/1679 [00:06<01:37, 16.41it/s]"
     ]
    },
    {
     "name": "stdout",
     "output_type": "stream",
     "text": [
      "Skipping 0f995bb52b46296f4e0749eccd23c783.jpg due to non-white background\n",
      "Processing 103476b7ce86e0679f40c8327413db0a.jpg with white background\n",
      "Processing 0e9a43941d78b1da6c96ffefb6a4777d.jpg with white background\n",
      "Processing 1038e2cb78cd2dace0ff80f0ce3aa069.png with transparency\n",
      "Skipping 0f3ca15ee83edc659b4580de776c859a.jpg due to non-white background\n"
     ]
    },
    {
     "name": "stderr",
     "output_type": "stream",
     "text": [
      "Processing images:   5%|▌         | 92/1679 [00:06<01:27, 18.09it/s]"
     ]
    },
    {
     "name": "stdout",
     "output_type": "stream",
     "text": [
      "Processing 1130ccd9b2b3c68278da091d2d795264.png with transparency\n",
      "Processing 1068ab2085a33c3d49d824f55ab3396e.jpg with white background\n",
      "Processing 1173ec626162cdbe4502d7de3c398596.jpg with white background\n",
      "Processing 1181c533f1646f0cde6db906779c05ea.png with transparency\n"
     ]
    },
    {
     "name": "stderr",
     "output_type": "stream",
     "text": [
      "\r",
      "Processing images:   6%|▌         | 94/1679 [00:06<01:59, 13.22it/s]"
     ]
    },
    {
     "name": "stdout",
     "output_type": "stream",
     "text": [
      "Processing 1032024204898faf7eae517d2936261f.jpg with white backgroundProcessing 103dc6c6abd6df7ca84819cb7d0b6da7.jpg with white background\n",
      "\n",
      "Processing 07c07acbcc41616be4f9fb2ee42a3751.jpg with white background\n",
      "Processing 10bcef9c88582a8eb3e0ead364a27dea.jpg with white background\n",
      "Processing 116254ce30c838cc2707388f828e7201.jpg with white background\n",
      "Processing 111835799fe3c67724b695dccbb15fed.jpg with white background\n",
      "Processing 102e2afe4d252ca386bb566e1797859f.jpg with white background\n"
     ]
    },
    {
     "name": "stderr",
     "output_type": "stream",
     "text": [
      "\r",
      "Processing images:   6%|▌         | 96/1679 [00:06<02:16, 11.62it/s]"
     ]
    },
    {
     "name": "stdout",
     "output_type": "stream",
     "text": [
      "Processing 11afc315fa80e190b816f3e2d0270257.jpg with white background\n",
      "Processing 11c6391d7732f1b489732210e7f5d57f.png with transparency\n"
     ]
    },
    {
     "name": "stderr",
     "output_type": "stream",
     "text": [
      "\r",
      "Processing images:   6%|▌         | 98/1679 [00:07<02:14, 11.78it/s]"
     ]
    },
    {
     "name": "stdout",
     "output_type": "stream",
     "text": [
      "Processing 11a28b7683983a8c109fe4e495f3ed18.jpg with white background\n",
      "Processing 11bc936f22f76b5810e8c07c3ca1081f.png with transparency\n",
      "Processing 1211e3f95328863cda7f21e0db08ad04.jpg with white background\n"
     ]
    },
    {
     "name": "stderr",
     "output_type": "stream",
     "text": [
      "Processing images:   6%|▌         | 102/1679 [00:07<02:38,  9.96it/s]"
     ]
    },
    {
     "name": "stdout",
     "output_type": "stream",
     "text": [
      "Processing 11d5bd221dba6371b42918bd93b56292.jpg with white background\n"
     ]
    },
    {
     "name": "stderr",
     "output_type": "stream",
     "text": [
      "\r",
      "Processing images:   6%|▋         | 106/1679 [00:07<01:51, 14.17it/s]"
     ]
    },
    {
     "name": "stdout",
     "output_type": "stream",
     "text": [
      "Processing 1235f7e7649ac6198ae96f926090d83c.jpg with white background\n",
      "Processing 12b23a346ea659a468bddccef630b09e.png with transparency\n",
      "Processing 12400cf381f092d10b4a5295c3c7cc50.png with transparency\n",
      "Processing 12593a6fb917201b3dd99d4c701754a1.jpg with white background\n",
      "Processing 1211fac3d39a5c666d0c1c084b26e873.jpg with white background\n"
     ]
    },
    {
     "name": "stderr",
     "output_type": "stream",
     "text": [
      "Processing images:   7%|▋         | 113/1679 [00:07<01:26, 18.20it/s]"
     ]
    },
    {
     "name": "stdout",
     "output_type": "stream",
     "text": [
      "Skipping 12c5403788e7488f2b2b7cd31b7443bb.jpg due to non-white background\n",
      "Processing 12fc505d846814298f9f4046eb5d8ccc.jpg with white background\n",
      "Processing 12ee581f9d0d1cceca37325a222d86af.png with transparency\n",
      "Processing 133775ecf599d4c622ddcc971e52838d.png with transparency\n"
     ]
    },
    {
     "name": "stderr",
     "output_type": "stream",
     "text": [
      "\r",
      "Processing images:   7%|▋         | 116/1679 [00:08<01:29, 17.38it/s]"
     ]
    },
    {
     "name": "stdout",
     "output_type": "stream",
     "text": [
      "Processing 1342d2d0e52cd5f7398b4139727bd60f.jpg with white background\n",
      "Processing 130d0fd0ae7d2df4bab844ffaafd6a72.png with transparency\n",
      "Processing 137e100442ca9b6d831f2e733c2e1f9c.png with transparency\n",
      "Processing 13dd77cc0e7f19f88b4c216f9bb9c532.jpg with white background\n",
      "Processing 133dd9c734f36b12b868c79a36603a5d.jpg with white background\n"
     ]
    },
    {
     "name": "stderr",
     "output_type": "stream",
     "text": [
      "\r",
      "Processing images:   7%|▋         | 119/1679 [00:08<01:47, 14.49it/s]"
     ]
    },
    {
     "name": "stdout",
     "output_type": "stream",
     "text": [
      "Processing 12fcd0a43653247ba2798a2fa255d581.jpg with white background\n",
      "Skipping 13e41438b7dc32ec1bd8a5d6b55e19d0.jpg due to non-white background\n",
      "Skipping 1384ec64de328f0a5ccfc50818974809.jpg due to non-white background\n"
     ]
    },
    {
     "name": "stderr",
     "output_type": "stream",
     "text": [
      "\r",
      "Processing images:   7%|▋         | 123/1679 [00:08<01:26, 17.92it/s]"
     ]
    },
    {
     "name": "stdout",
     "output_type": "stream",
     "text": [
      "Processing 12fbc51247158efafe22f1e966df58dd.jpg with white background\n",
      "Skipping 148b70756095137d1e6e8d6e338810bd.jpg due to non-white background\n",
      "Processing 149f39f5e2b4e0586f802b5d04bf4c6f.jpg with white background\n"
     ]
    },
    {
     "name": "stderr",
     "output_type": "stream",
     "text": [
      "Processing images:   8%|▊         | 128/1679 [00:08<01:34, 16.42it/s]"
     ]
    },
    {
     "name": "stdout",
     "output_type": "stream",
     "text": [
      "Processing 1458e174bd12e0d67df59d78d92e3ea5.jpg with white background\n",
      "Processing 15c22d188ed9e52702d4c328c57bbb61.png with transparency\n",
      "Processing 15acea05e547996d29b40a9d8fc86f9b.jpg with white background\n",
      "Processing 15b551c472cfad5574fd95dcfac8b8d8.jpg with white background\n",
      "Processing 142f97522269cffbd82b6a0471bf14a3.jpg with white background\n",
      "Processing 151188ce631b6db4821356388fd44115.jpg with white background\n"
     ]
    },
    {
     "name": "stderr",
     "output_type": "stream",
     "text": [
      "Processing images:   8%|▊         | 132/1679 [00:09<01:45, 14.65it/s]"
     ]
    },
    {
     "name": "stdout",
     "output_type": "stream",
     "text": [
      "Processing 15c3e286099f354cbce49035fee80356.jpg with white background\n",
      "Processing 1682ae6e149f2c63146eacbd802e2a42.png with transparency\n",
      "Processing 153bf8ea32884999c43003a791bd45ad.jpg with white background\n",
      "Processing 169c1fd2b825a3f17a38dff9aeabacc5.jpg with white background\n"
     ]
    },
    {
     "name": "stderr",
     "output_type": "stream",
     "text": [
      "\r",
      "Processing images:   8%|▊         | 134/1679 [00:09<01:56, 13.26it/s]"
     ]
    },
    {
     "name": "stdout",
     "output_type": "stream",
     "text": [
      "Skipping 16406bd95532ac5926bcdc82177d390e.jpg due to non-white background\n",
      "Processing 16cb11c17980a9a004fc726028c8b41c.png with transparency\n",
      "Processing 17fbe6f04736109651f6c8a6d83aee99.jpg with white background\n",
      "Processing 17443a42b53011338eea925015765adb.png with transparency\n",
      "Processing 17dbd43cee3c254492cb8ff18c123cf6.jpg with white background\n"
     ]
    },
    {
     "name": "stderr",
     "output_type": "stream",
     "text": [
      "\r",
      "Processing images:   8%|▊         | 139/1679 [00:09<01:30, 17.04it/s]"
     ]
    },
    {
     "name": "stdout",
     "output_type": "stream",
     "text": [
      "Processing 16e1a68f727f3f5e65a98e361c8ca8c5.jpg with white background\n",
      "Skipping 176dd194b28fc918eee4cee3d4e5396a.jpg due to non-white background\n",
      "Processing 180cf855ff546e813221eaa1b6cdac0c.jpg with white background\n"
     ]
    },
    {
     "name": "stderr",
     "output_type": "stream",
     "text": [
      "Processing images:   9%|▊         | 143/1679 [00:10<01:48, 14.11it/s]"
     ]
    },
    {
     "name": "stdout",
     "output_type": "stream",
     "text": [
      "Processing 175e681a1a5a678b1fa45013568f0474.jpg with white background\n"
     ]
    },
    {
     "name": "stderr",
     "output_type": "stream",
     "text": [
      "\r",
      "Processing images:   9%|▊         | 146/1679 [00:10<02:04, 12.34it/s]"
     ]
    },
    {
     "name": "stdout",
     "output_type": "stream",
     "text": [
      "Processing 181d3db3f748588449f722cc4d4e2d36.jpg with white background\n",
      "Processing 1893e57bc08a902af817a05c095e766a.png with transparency\n",
      "Processing 18cd72ef7a7af91701d0600f648f33d1.jpg with white background\n",
      "Processing 18de5f9d5603417f12fc36caa3f77fa5.jpg with white background\n",
      "Processing 1825e27dcf809477730239a63f2cb157.jpg with white background\n"
     ]
    },
    {
     "name": "stderr",
     "output_type": "stream",
     "text": [
      "Processing images:   9%|▉         | 154/1679 [00:10<01:47, 14.15it/s]"
     ]
    },
    {
     "name": "stdout",
     "output_type": "stream",
     "text": [
      "Processing 19873e2cd6463ec566dbf1c4e66bd69b.png with transparency\n",
      "Processing 188649e02e9bcc49d503281bf8df508a.jpg with white background\n",
      "Processing 187d166dc32fdf8016a5896a59f1884d.jpg with white background\n",
      "Processing 1a401992e229a38f555c688f862f2c44.jpg with white background\n"
     ]
    },
    {
     "name": "stderr",
     "output_type": "stream",
     "text": [
      "\r",
      "Processing images:   9%|▉         | 157/1679 [00:11<02:21, 10.72it/s]"
     ]
    },
    {
     "name": "stdout",
     "output_type": "stream",
     "text": [
      "Processing 1905df7daf021d2de274cd5a8134e5c1.jpg with white background\n",
      "Processing 18e6cb62e9a378813c0a3fefa1858bb5.jpg with white background\n"
     ]
    },
    {
     "name": "stderr",
     "output_type": "stream",
     "text": [
      "Processing images:  10%|▉         | 161/1679 [00:11<02:38,  9.55it/s]"
     ]
    },
    {
     "name": "stdout",
     "output_type": "stream",
     "text": [
      "Skipping 1a545560ab298774cf90b3c6aeac1a70.jpg due to non-white background\n",
      "Processing 190be4c37cb9e0221e3f2474711eedd0.jpg with white background\n",
      "Processing 1a861d01c151569d77c10fdc64bcc210.jpg with white background\n",
      "Processing 193f8eb9baa06acb69c3577c4a183ab5.jpg with white background\n",
      "Processing 1abb3c93457abbd171349ef823176d72.jpg with white background\n",
      "Processing 1aa2e77f42ca8444c44d8707dab11530.jpg with white background\n",
      "Processing 1aee5e2deec87cbc87ec3705171d9131.jpg with white background\n",
      "Processing 1aef54714c3829dc8c977270c014dc84.png with transparency\n",
      "Processing 1b86814af5ae9f5183a027d044d70284.png with transparency\n"
     ]
    },
    {
     "name": "stderr",
     "output_type": "stream",
     "text": [
      "\r",
      "Processing images:  10%|▉         | 163/1679 [00:11<02:17, 11.06it/s]"
     ]
    },
    {
     "name": "stdout",
     "output_type": "stream",
     "text": [
      "Processing 1a6e3690ac986509f350db2e6df7f1a6.jpg with white background\n",
      "Processing 1bee9435be57b069f50768c389c4fe7d.jpg with white background\n",
      "Processing 1b9cd557e9a196158d3cd7fe252e8ade.jpg with white background\n"
     ]
    },
    {
     "name": "stderr",
     "output_type": "stream",
     "text": [
      "\r",
      "Processing images:  10%|▉         | 167/1679 [00:12<02:47,  9.01it/s]"
     ]
    },
    {
     "name": "stdout",
     "output_type": "stream",
     "text": [
      "Processing 1a8a3362d1210a2641b5d0ad769f36de.jpg with white background\n",
      "Processing 1979f88766687c038cacdd24737d0e11.jpg with white background\n"
     ]
    },
    {
     "name": "stderr",
     "output_type": "stream",
     "text": [
      "\r",
      "Processing images:  10%|█         | 169/1679 [00:12<02:55,  8.59it/s]"
     ]
    },
    {
     "name": "stdout",
     "output_type": "stream",
     "text": [
      "Processing 159ad3fb05a822b7fc98586e4efb2f6c.jpg with white background\n",
      "Processing 1c98d7f55ae623a247d19906d50df1db.jpg with white background\n",
      "Processing 1c636fddc4e0be2f900206f734523059.jpg with white background\n",
      "Processing 1c1c9e0edcb0732126b5ce36cef20284.jpg with white background\n",
      "Processing 1bfeeb08c68b6fb2b3de64c4b8ea76d3.jpg with white background\n",
      "Processing 1d34a229e3313af3e484c96ef408f0e0.jpg with white background\n"
     ]
    },
    {
     "name": "stderr",
     "output_type": "stream",
     "text": [
      "Processing images:  11%|█         | 177/1679 [00:13<01:58, 12.69it/s]"
     ]
    },
    {
     "name": "stdout",
     "output_type": "stream",
     "text": [
      "Processing 1cc1b551bd5e828afaa33aed351c5786.jpg with white background\n",
      "Processing 1ecd54097c89acc72a07fa89894fffc4.png with transparency\n"
     ]
    },
    {
     "name": "stderr",
     "output_type": "stream",
     "text": [
      "\r",
      "Processing images:  11%|█         | 181/1679 [00:13<01:31, 16.31it/s]"
     ]
    },
    {
     "name": "stdout",
     "output_type": "stream",
     "text": [
      "Processing 1f5ec4ce19237d8105598355e27b1d03.png with transparency\n",
      "Skipping 1fa773bc9f2f353226971af4de9744ed.jpg due to non-white background\n",
      "Processing 1f419282b940427a7fcdc80908f4cd4d.png with transparency\n",
      "Processing 200b0f2bc654a4290a403d72e09f5d91.png with transparency\n",
      "Processing 1dd939f61bdfddacd5291bd6502d7b63.jpg with white background\n",
      "Processing 1730746cf42ba196d42c63823c27f62e.jpg with white background\n",
      "Processing 1e310e030b947de1019bd74aef2a6c22.jpg with white background\n",
      "Processing 1def8ed480357c22a31fba564725df68.jpg with white background\n",
      "Processing 1d42c7b6a6d80dbf5621b6b6dd5c4501.jpg with white background\n"
     ]
    },
    {
     "name": "stderr",
     "output_type": "stream",
     "text": [
      "Processing images:  11%|█         | 186/1679 [00:14<02:03, 12.09it/s]"
     ]
    },
    {
     "name": "stdout",
     "output_type": "stream",
     "text": [
      "Processing 20bcd5143b050a8d200d4360c8d61d1a.png with transparency\n",
      "Processing 203e21734e6cd8b91aab2057a4afbe88.jpg with white background\n",
      "Processing 1e9bc6b3085a8e513de7514915086a2b.jpg with white background\n",
      "Processing 1fe3a5b721c3c9b31bffe5cd5fbff540.jpg with white background\n",
      "Processing 212530d0102e9480d0c88955b937ebff.png with transparency\n"
     ]
    },
    {
     "name": "stderr",
     "output_type": "stream",
     "text": [
      "\r",
      "Processing images:  11%|█▏        | 190/1679 [00:14<01:32, 16.04it/s]"
     ]
    },
    {
     "name": "stdout",
     "output_type": "stream",
     "text": [
      "Processing 20fe112ed838eeb38380ec0e6bfd3608.png with transparency\n",
      "Skipping 20c6ccfc7deb903f5d8738dd4590b804.jpg due to non-white background\n"
     ]
    },
    {
     "name": "stderr",
     "output_type": "stream",
     "text": [
      "\r",
      "Processing images:  11%|█▏        | 193/1679 [00:14<01:51, 13.31it/s]"
     ]
    },
    {
     "name": "stdout",
     "output_type": "stream",
     "text": [
      "Processing 210d77b3d0822e8a5271504022913b23.jpg with white background\n",
      "Processing 21fd11176e810afe6b7aeb7e1798b8f6.png with transparency\n"
     ]
    },
    {
     "name": "stderr",
     "output_type": "stream",
     "text": [
      "\r",
      "Processing images:  12%|█▏        | 195/1679 [00:14<01:58, 12.53it/s]"
     ]
    },
    {
     "name": "stdout",
     "output_type": "stream",
     "text": [
      "Processing 225ed3f0841c29e537cde2fb8cb6585a.png with transparency\n",
      "Processing 214e52fec68af41c613b874765f9cbb5.jpg with white background\n",
      "Processing 2272ff8d67af7b3439c7278cc69b53d5.jpg with white background\n"
     ]
    },
    {
     "name": "stderr",
     "output_type": "stream",
     "text": [
      "Processing images:  12%|█▏        | 205/1679 [00:15<01:22, 17.97it/s]"
     ]
    },
    {
     "name": "stdout",
     "output_type": "stream",
     "text": [
      "Skipping 22598324488ebc2a851a9400e60fa5e6.jpg due to non-white background\n",
      "Processing 21df6d438733781b31e9a36b9d706015.jpg with white background\n",
      "Skipping 22973146e1b22a6800bf1a146d52db6b.jpg due to blurriness (variance of Laplacian)\n",
      "Processing 215fbf6b33f3a371085557b90ef0304b.jpg with white background\n",
      "Processing 22fb2f42ca3b377a5b37921d856557a2.jpg with white background\n",
      "Processing 229cfe378b4e733d5fa9850d2bcf5017.jpg with white background\n",
      "Skipping 230704bfd73ab1fed605f1aaafbb0d37.jpg due to non-white background\n"
     ]
    },
    {
     "name": "stderr",
     "output_type": "stream",
     "text": [
      "\r",
      "Processing images:  12%|█▏        | 208/1679 [00:15<01:16, 19.21it/s]"
     ]
    },
    {
     "name": "stdout",
     "output_type": "stream",
     "text": [
      "Processing 230de32c8f7b937018b2edaf707a50c7.jpg with white background\n",
      "Processing 231787243b46e59209eb8efa321696f3.jpg with white background\n",
      "Skipping 22da2811addab2ae6d212fa33c9f20c9.jpg due to non-white background\n",
      "Processing 237a9f0f9a38d07ce0a6ea822897324b.png with transparency\n",
      "Processing 234e78c9d39e41c0e676136fcd1cf32c.jpg with white background\n",
      "Processing 232c7e4383f39adbf93faca18b3857c0.jpg with white background\n",
      "Processing 23cd39cacd14095d70c2513deeba18ed.jpg with white background\n"
     ]
    },
    {
     "name": "stderr",
     "output_type": "stream",
     "text": [
      "\r",
      "Processing images:  13%|█▎        | 211/1679 [00:15<01:32, 15.82it/s]"
     ]
    },
    {
     "name": "stdout",
     "output_type": "stream",
     "text": [
      "Processing 240a7223cb5aad6f681328ee66712eb2.jpg with white background\n"
     ]
    },
    {
     "name": "stderr",
     "output_type": "stream",
     "text": [
      "\r",
      "Processing images:  13%|█▎        | 213/1679 [00:15<01:46, 13.77it/s]"
     ]
    },
    {
     "name": "stdout",
     "output_type": "stream",
     "text": [
      "Processing 234467054c67e4669c565e502dd49643.jpg with white backgroundProcessing 23557d0e28000c935e8c44f376367117.jpg with white background\n",
      "Processing 247bc4dbd601d28397c2574409498f4c.jpg with white background\n",
      "\n"
     ]
    },
    {
     "name": "stderr",
     "output_type": "stream",
     "text": [
      "Processing images:  13%|█▎        | 218/1679 [00:16<01:45, 13.89it/s]"
     ]
    },
    {
     "name": "stdout",
     "output_type": "stream",
     "text": [
      "Processing 24de136f4703e96456a4e620078586ae.jpg with white background\n",
      "Processing 241890221ae349ae0f128a8cab97c5a2.jpg with white background\n",
      "Processing 24702b5a64f60abca26069e0e79130d2.jpg with white background\n",
      "Processing 24805b86f3fa1976c9005c9cabc19a29.jpg with white background\n"
     ]
    },
    {
     "name": "stderr",
     "output_type": "stream",
     "text": [
      "Processing images:  13%|█▎        | 226/1679 [00:16<01:13, 19.70it/s]"
     ]
    },
    {
     "name": "stdout",
     "output_type": "stream",
     "text": [
      "Processing 252f389909d9c6b37e623af4b079de6e.jpg with white background\n",
      "Processing 25492c132809a8a7db6d3fd9d84593c9.png with transparency\n",
      "Skipping 25f54eb05d61cd297a6ac8cdd43b34ef.jpg due to non-white background\n",
      "Skipping 256f0ab57158dad6c6b1e6a082efca2d.jpg due to non-white background\n",
      "Processing 2538a012b3090e6a641a4769368dfc07.jpg with white background\n"
     ]
    },
    {
     "name": "stderr",
     "output_type": "stream",
     "text": [
      "\r",
      "Processing images:  14%|█▎        | 229/1679 [00:16<01:34, 15.39it/s]"
     ]
    },
    {
     "name": "stdout",
     "output_type": "stream",
     "text": [
      "Processing 260913288c8ebc5a53f94780df92dbfd.jpg with white background\n",
      "Processing 26530d75b0ee33d75ce90c6fe9083f41.png with transparency\n"
     ]
    },
    {
     "name": "stderr",
     "output_type": "stream",
     "text": [
      "\r",
      "Processing images:  14%|█▍        | 232/1679 [00:16<01:23, 17.35it/s]"
     ]
    },
    {
     "name": "stdout",
     "output_type": "stream",
     "text": [
      "Processing 26e305f466cd441905741456e7709db6.png with transparencyProcessing 254489541ca7dd12e2b4c82b679795a7.jpg with white background\n",
      "\n",
      "Processing 265cb304c0c3327b284b5f452b03e526.jpg with white background\n",
      "Processing 2570866bab7ee212a1007f285ace1612.jpg with white background\n",
      "Processing 2616c31f5bf35f3eb201f3ce51a2fa47.jpg with white background\n",
      "Processing 272c4dd159850e7401899ed160e8bce7.png with transparency\n",
      "Processing 211c79ba563d9a6a4e38654e279bff6d.jpg with white background\n",
      "Processing 263ae38872eea8e4ffd81de3d14e32f2.jpg with white background\n",
      "Processing 25a7ab4eafdb8d2e3fc7f61ef3041369.jpg with white background\n",
      "Processing 2637862041ecf3623f30ba49fe3bc502.jpg with white background\n",
      "Processing 2650ef853de386e406c9aee8ffcab795.jpg with white background\n"
     ]
    },
    {
     "name": "stderr",
     "output_type": "stream",
     "text": [
      "Processing images:  14%|█▍        | 240/1679 [00:17<02:13, 10.81it/s]"
     ]
    },
    {
     "name": "stdout",
     "output_type": "stream",
     "text": [
      "Processing 270ecf526d68abcaf9936681e8410eda.jpg with white background\n",
      "Processing 27d0793460d6bc51062e53d4951f2908.jpg with white background\n",
      "Skipping 270bca14dfb6f4864527e35fbb856110.jpg due to non-white background\n"
     ]
    },
    {
     "name": "stderr",
     "output_type": "stream",
     "text": [
      "\r",
      "Processing images:  14%|█▍        | 243/1679 [00:18<02:04, 11.49it/s]"
     ]
    },
    {
     "name": "stdout",
     "output_type": "stream",
     "text": [
      "Processing 27bf925874581510eba4354fe19c72d3.jpg with white background\n",
      "Processing 28d8218177084b4e9b94f2d41fbf09ee.jpg with white background\n",
      "Processing 2753dce61a633be4722f148c013b790c.jpg with white background\n",
      "Processing 28652ff2945a117208ca6fddecda4079.jpg with white background\n"
     ]
    },
    {
     "name": "stderr",
     "output_type": "stream",
     "text": [
      "Processing images:  15%|█▍        | 248/1679 [00:18<02:30,  9.49it/s]"
     ]
    },
    {
     "name": "stdout",
     "output_type": "stream",
     "text": [
      "Processing 28ed11542581d755d515a1d988ba2d56.jpg with white background\n",
      "Processing 28dee36ca3fa8ae3baa0a100c9ca3225.jpg with white background\n",
      "Processing 297746ccd9014bdd9cf42bbec01b4c46.jpg with white background\n",
      "Processing 28f7e9704e91d299eb517d337103fa25.jpg with white background\n",
      "Processing 29a32e1aa5ac2b850f2983787984d989.png with transparency\n"
     ]
    },
    {
     "name": "stderr",
     "output_type": "stream",
     "text": [
      "\r",
      "Processing images:  15%|█▌        | 254/1679 [00:18<01:29, 15.95it/s]"
     ]
    },
    {
     "name": "stdout",
     "output_type": "stream",
     "text": [
      "Processing 28f840447cd14936e5809ff157681a11.jpg with white background\n",
      "Skipping 2a515a708b3f0656401df2bf0dc7dfc0.jpg due to non-white background\n",
      "Processing 2a83ee78b0ee168f1f9b1160ad6510bd.png with transparency\n",
      "Processing 29f04786c1bc4090d3560c1a3a0c12fe.png with transparency\n",
      "Processing 29e166666b845221268f117f5452e98f.jpg with white background\n",
      "Processing 2a865c0180730988edc4115492746155.png with transparency\n"
     ]
    },
    {
     "name": "stderr",
     "output_type": "stream",
     "text": [
      "\r",
      "Processing images:  15%|█▌        | 257/1679 [00:19<01:29, 15.83it/s]"
     ]
    },
    {
     "name": "stdout",
     "output_type": "stream",
     "text": [
      "Processing 2aaf2bc7981e1c80c0739a28355a5216.png with transparency\n",
      "Processing 297a2d155c668b5d2ba7e213673610bd.jpg with white background\n",
      "Skipping 2a8e74b7bc255598111944c5aff2fc19.jpg due to non-white background\n",
      "Processing 2ab0cd69969da3898caf7c70709e7219.png with transparency\n",
      "Processing 2ae7bb72d99f06bb5ad8852990340c18.png with transparency\n",
      "Processing 2a29f662a053a05f95cafb9b92cb6ba4.jpg with white background\n",
      "Processing 2b41f76384c48bd9156022f09e0aa6f6.jpg with white background\n"
     ]
    },
    {
     "name": "stderr",
     "output_type": "stream",
     "text": [
      "Processing images:  16%|█▌        | 263/1679 [00:19<01:51, 12.67it/s]"
     ]
    },
    {
     "name": "stdout",
     "output_type": "stream",
     "text": [
      "Processing 2b4ad0095117c6b18c61e03f5117cbbc.png with transparency\n",
      "Processing 2b4f604e03a6f4de7313d7696e1899d1.png with transparency\n"
     ]
    },
    {
     "name": "stderr",
     "output_type": "stream",
     "text": [
      "Processing images:  16%|█▌        | 267/1679 [00:20<02:09, 10.89it/s]"
     ]
    },
    {
     "name": "stdout",
     "output_type": "stream",
     "text": [
      "Processing 2bf2578847ad8674149cf948d546c056.png with transparency\n",
      "Processing 2b53baeaaba29db187d676eb99c07490.jpg with white background\n"
     ]
    },
    {
     "name": "stderr",
     "output_type": "stream",
     "text": [
      "Processing images:  16%|█▌        | 271/1679 [00:20<02:07, 11.01it/s]"
     ]
    },
    {
     "name": "stdout",
     "output_type": "stream",
     "text": [
      "Processing 2d35602a54097be9baab09ee1e0ac074.png with transparency\n",
      "Processing 2c5e3e142e7f74e7deb59434ded7951d.jpg with white background\n"
     ]
    },
    {
     "name": "stderr",
     "output_type": "stream",
     "text": [
      "\r",
      "Processing images:  16%|█▋        | 276/1679 [00:20<01:25, 16.48it/s]"
     ]
    },
    {
     "name": "stdout",
     "output_type": "stream",
     "text": [
      "Processing 2bcd6fe45c973b3801abeb67c6d6b00c.jpg with white background\n",
      "Processing 2577f963eee83248833dd12898ff58cb.jpg with white background\n",
      "Processing 2d83c2311bb32ca30b7e05b95af0ed0c.png with transparency\n",
      "Processing 2da6aab274400b9bc85261834fd60b96.jpg with white background\n",
      "Processing 2e0bcf9c44cb579cd1ca1687ef7fb55c.png with transparency\n"
     ]
    },
    {
     "name": "stderr",
     "output_type": "stream",
     "text": [
      "\r",
      "Processing images:  17%|█▋        | 278/1679 [00:21<01:55, 12.11it/s]"
     ]
    },
    {
     "name": "stdout",
     "output_type": "stream",
     "text": [
      "Processing 2c4204411b334dba120ef90dd740df64.jpg with white background\n",
      "Processing 2c28209348777484465cbe88a6661868.jpg with white background\n",
      "Processing 2c9ec39b880a2253de2aa84ed6c3d533.jpg with white background\n",
      "Processing 2df5084ed75431393098f7206382e60e.jpg with white background\n",
      "Processing 2ddd6df7db58314311711dc275dbbd0c.jpg with white background\n"
     ]
    },
    {
     "name": "stderr",
     "output_type": "stream",
     "text": [
      "\r",
      "Processing images:  17%|█▋        | 280/1679 [00:21<02:33,  9.11it/s]"
     ]
    },
    {
     "name": "stdout",
     "output_type": "stream",
     "text": [
      "Processing 2db3b8d363f8856187164c2c49a107e8.jpg with white background\n",
      "Processing 27e8bcfdb6ed9a7ecb61b92f90a0c1e5.jpg with white background\n",
      "Processing 2e7350e9924503274eda315596541269.png with transparency\n"
     ]
    },
    {
     "name": "stderr",
     "output_type": "stream",
     "text": [
      "Processing images:  17%|█▋        | 285/1679 [00:22<02:32,  9.17it/s]"
     ]
    },
    {
     "name": "stdout",
     "output_type": "stream",
     "text": [
      "Processing 2e22d35ba40951106ebcdfa9a82e8695.jpg with white background\n",
      "Processing 2eec3b472afc5b4ce338d80b481ec57a.jpg with white background\n"
     ]
    },
    {
     "name": "stderr",
     "output_type": "stream",
     "text": [
      "\r",
      "Processing images:  17%|█▋        | 288/1679 [00:22<02:00, 11.57it/s]"
     ]
    },
    {
     "name": "stdout",
     "output_type": "stream",
     "text": [
      "Skipping 2f28260055c18aa5101758dcac5f660f.jpg due to non-white background\n",
      "Processing 2e78750a6b12eb189916b4f6e2af56f8.jpg with white background\n"
     ]
    },
    {
     "name": "stderr",
     "output_type": "stream",
     "text": [
      "\r",
      "Processing images:  18%|█▊        | 294/1679 [00:22<01:34, 14.73it/s]"
     ]
    },
    {
     "name": "stdout",
     "output_type": "stream",
     "text": [
      "Processing 301cf04ea3bd664dc2a4a6abc89626cb.png with transparency\n",
      "Processing 2f39df16a4faf12ec57fc17d520256b1.jpg with white background\n",
      "Skipping 2f5747cb07f7fb7e8d8d1fe5cc69e9cd.jpg due to blurriness (variance of Laplacian)\n"
     ]
    },
    {
     "name": "stderr",
     "output_type": "stream",
     "text": [
      "\r",
      "Processing images:  18%|█▊        | 296/1679 [00:22<01:48, 12.75it/s]"
     ]
    },
    {
     "name": "stdout",
     "output_type": "stream",
     "text": [
      "Skipping 2f91006b6f07c24ff868f1103ff96686.jpg due to non-white background\n",
      "Processing 2fa60e0361f206f3c7eb4ffb283513f6.jpg with white background\n",
      "Processing 301b37877e3752b97f515c32e1841325.jpg with white background\n",
      "Processing 30291e1f0f7b76aa909511d909176a79.jpg with white background\n",
      "Processing 2f7c8ffb4efa605d610e1ce45c7f105b.jpg with white background\n",
      "Processing 306406cfc18bb114ae3d2cd08b450d24.png with transparency\n",
      "Processing 3070dfcec100af6ac614aff62cdb7ac4.jpg with white background\n",
      "Processing 2f2323fc5c4e3c2a433cad5c269e9438.jpg with white background\n",
      "An error occurred: cannot identify image file 'image_folder\\\\2da5d7f9c40f57489dbbfb076fa38586.jpg'\n",
      "Processing 2fa1ce3121f83efd42f423b1ad548e40.jpg with white background\n"
     ]
    },
    {
     "name": "stderr",
     "output_type": "stream",
     "text": [
      "\r",
      "Processing images:  18%|█▊        | 298/1679 [00:23<02:40,  8.60it/s]"
     ]
    },
    {
     "name": "stdout",
     "output_type": "stream",
     "text": [
      "Processing 2acec4d26d10dd0343405b5742cd67f8.jpg with white background\n",
      "Processing 3042444c3f86e0262b5a65226eb1c99a.jpg with white background\n",
      "Processing 315a962020389475f71839a6d430cf1b.jpg with white background\n",
      "Processing 309fa8920371025eba829b3fc6e4a07e.jpg with white background\n",
      "Processing 30f7732bbb04f1a8b6726bde81864cc7.jpg with white background\n"
     ]
    },
    {
     "name": "stderr",
     "output_type": "stream",
     "text": [
      "Processing images:  18%|█▊        | 306/1679 [00:23<01:52, 12.17it/s]"
     ]
    },
    {
     "name": "stdout",
     "output_type": "stream",
     "text": [
      "Processing 2e10edfc3d8b5a7b247dc6c7f0d3d73c.jpg with white background\n",
      "Processing 3263cbc1a991bf3f3259dd40654bb595.png with transparency\n",
      "Processing 31cc165e7385fab39a0f648496caf090.jpg with white background\n",
      "Processing 31e0046576d7bcb759453802a9ecbb84.jpg with white background\n"
     ]
    },
    {
     "name": "stderr",
     "output_type": "stream",
     "text": [
      "Processing images:  19%|█▊        | 312/1679 [00:23<01:22, 16.59it/s]"
     ]
    },
    {
     "name": "stdout",
     "output_type": "stream",
     "text": [
      "Skipping 31aeadf88abafed5decda654dff9f865.jpg due to blurriness (variance of Laplacian)\n",
      "Processing 3283a32e01c33d353d1b11173cf87c1c.png with transparency\n",
      "Processing 327144d0ed836ed85cb76efdeb25b6ec.png with transparency\n",
      "Processing 33a85a84ec0a39e39bf0de760f23c57e.jpg with white background\n",
      "Processing 326fff9516d8278603760386321c8b3e.jpg with white background\n",
      "Processing 33aef59d10e681a4c6be72254cfe522e.jpg with white background\n"
     ]
    },
    {
     "name": "stderr",
     "output_type": "stream",
     "text": [
      "Processing images:  19%|█▉        | 317/1679 [00:24<01:34, 14.42it/s]"
     ]
    },
    {
     "name": "stdout",
     "output_type": "stream",
     "text": [
      "Skipping 330067446419e5a7dc60e867947d1c16.jpg due to non-white background\n",
      "Processing 340f5a5f20697a1e608c6da34c8a7dca.png with transparency\n",
      "Processing 2db7e0dd36895d072a7fc3a92a2df187.jpg with white background\n"
     ]
    },
    {
     "name": "stderr",
     "output_type": "stream",
     "text": [
      "Processing images:  19%|█▉        | 322/1679 [00:24<01:18, 17.35it/s]"
     ]
    },
    {
     "name": "stdout",
     "output_type": "stream",
     "text": [
      "Processing 33f6c2a088d8b735a06956e2f425302d.jpg with white background\n",
      "Skipping 324cdbf1fe9ac4239b12408d787b7b69.jpg due to non-white background\n",
      "Processing 32865d88963ecdeb2756ef9c99ade150.jpg with white background\n",
      "Processing 3470dde0662ccbeea5336b03a8eda720.png with transparency\n",
      "Processing 345e7c8028fdb33ee9e3fb963afbe25b.jpg with white background\n",
      "Processing 346264a15f29ee648da64c336fe699f3.jpg with white background\n"
     ]
    },
    {
     "name": "stderr",
     "output_type": "stream",
     "text": [
      "\r",
      "Processing images:  19%|█▉        | 325/1679 [00:24<01:41, 13.41it/s]"
     ]
    },
    {
     "name": "stdout",
     "output_type": "stream",
     "text": [
      "Processing 348444502cc465487c18b7b97c305078.png with transparency\n",
      "Processing 34979b931347ebacc24b3bb8752f07d4.png with transparency\n",
      "Skipping 33f25245ba774710812421479f2f0323.jpg due to non-white background\n"
     ]
    },
    {
     "name": "stderr",
     "output_type": "stream",
     "text": [
      "\r",
      "Processing images:  20%|█▉        | 328/1679 [00:25<01:49, 12.29it/s]"
     ]
    },
    {
     "name": "stdout",
     "output_type": "stream",
     "text": [
      "Processing 34dd89a532890bbe0b458cfd1f373d94.png with transparency\n",
      "Processing 3524accf8332e59faf80d63eaf02f29e.jpg with white background\n"
     ]
    },
    {
     "name": "stderr",
     "output_type": "stream",
     "text": [
      "\r",
      "Processing images:  20%|█▉        | 330/1679 [00:25<02:05, 10.73it/s]"
     ]
    },
    {
     "name": "stdout",
     "output_type": "stream",
     "text": [
      "Processing 343103ffaea33a3c5a73ac32ce646a3e.jpg with white background\n",
      "Processing 341c001592364cc2dbc294cb40a42445.jpg with white background\n",
      "Processing 35815445b5c1a81a78944a60345e3808.png with transparency\n",
      "Processing 3583ab228216d2515c6b4510e4bdb6c9.png with transparency\n",
      "Processing 357c3ab3d9a1b53c39235ad988c71da6.jpg with white background\n"
     ]
    },
    {
     "name": "stderr",
     "output_type": "stream",
     "text": [
      "Processing images:  20%|█▉        | 334/1679 [00:25<02:10, 10.27it/s]"
     ]
    },
    {
     "name": "stdout",
     "output_type": "stream",
     "text": [
      "Processing 34ba8232cd1f0c7d855bc6702ef552bc.jpg with white background\n",
      "Processing 3513c26d35b9268e5168f2b7c3f7ed39.jpg with white background\n"
     ]
    },
    {
     "name": "stderr",
     "output_type": "stream",
     "text": [
      "\r",
      "Processing images:  20%|██        | 338/1679 [00:26<01:31, 14.60it/s]"
     ]
    },
    {
     "name": "stdout",
     "output_type": "stream",
     "text": [
      "Processing 358a3c63bcbc86bbca7f42b99a8ba75b.jpg with white background\n",
      "Processing 36126d0fa948e54d54b5823a5bb5784f.jpg with white background\n",
      "Skipping 35ba35b781ae032af4a576cfa001f315.jpg due to non-white background\n",
      "Processing 367fc8a3dc8bd13adf45acac87a6f89f.png with transparency\n"
     ]
    },
    {
     "name": "stderr",
     "output_type": "stream",
     "text": [
      "\r",
      "Processing images:  20%|██        | 340/1679 [00:26<01:33, 14.34it/s]"
     ]
    },
    {
     "name": "stdout",
     "output_type": "stream",
     "text": [
      "Processing 35ba49f4c8022febca4e5e85ef676197.png with transparency\n"
     ]
    },
    {
     "name": "stderr",
     "output_type": "stream",
     "text": [
      "\r",
      "Processing images:  20%|██        | 342/1679 [00:26<02:10, 10.24it/s]"
     ]
    },
    {
     "name": "stdout",
     "output_type": "stream",
     "text": [
      "Skipping 3641d54629765a9dfb7d0c93da42e12b.jpg due to blurriness (variance of Laplacian)\n"
     ]
    },
    {
     "name": "stderr",
     "output_type": "stream",
     "text": [
      "\r",
      "Processing images:  20%|██        | 344/1679 [00:26<02:13, 10.03it/s]"
     ]
    },
    {
     "name": "stdout",
     "output_type": "stream",
     "text": [
      "Skipping 372811d407e2b110b8e0634f64d10a5c.jpg due to non-white backgroundProcessing 366682d88fc4331090926044755895b9.jpg with white background\n",
      "\n",
      "Processing 36e306b4648b39b26e18ac67b5902329.jpg with white background\n"
     ]
    },
    {
     "name": "stderr",
     "output_type": "stream",
     "text": [
      "\r",
      "Processing images:  21%|██        | 349/1679 [00:27<02:06, 10.55it/s]"
     ]
    },
    {
     "name": "stdout",
     "output_type": "stream",
     "text": [
      "Processing 37a60fdbc91ecd5b64bbf965683bfd6a.jpg with white background\n",
      "Processing 384465ca79b30a31b48ad4893c2667eb.jpg with white background\n"
     ]
    },
    {
     "name": "stderr",
     "output_type": "stream",
     "text": [
      "Processing images:  21%|██        | 353/1679 [00:27<02:05, 10.58it/s]"
     ]
    },
    {
     "name": "stdout",
     "output_type": "stream",
     "text": [
      "Processing 37802625017842d58ecbe4c6e08897a5.jpg with white background\n",
      "Processing 38e99db3264fdd41b38ae82eedafb720.jpg with white background\n",
      "Processing 37380a734aaf8f6be6388ac8d69c04ba.jpg with white background\n",
      "Processing 38cc7b2806990a7056467358f562153d.jpg with white background\n",
      "Processing 3845477ed413816c6b5e0a897be6925c.jpg with white background\n",
      "Processing 36bdd251ba8d33356998a5f10859f0fb.jpg with white background\n"
     ]
    },
    {
     "name": "stderr",
     "output_type": "stream",
     "text": [
      "\r",
      "Processing images:  21%|██        | 355/1679 [00:28<02:35,  8.54it/s]"
     ]
    },
    {
     "name": "stdout",
     "output_type": "stream",
     "text": [
      "Processing 377c7c8e593d702e4545b005a9cb4828.jpg with white background\n",
      "Processing 375c2e5b0a0a49a97a3f6b038afc5c88.jpg with white background\n",
      "Processing 39a32daff5ae7a616c33a1de5f021403.jpg with white background\n",
      "Processing 38c91886c6ae67e01a07e51a2fd45468.jpg with white background\n",
      "Processing 39862be412d81f9de89370f7b10b1cc1.jpg with white background\n"
     ]
    },
    {
     "name": "stderr",
     "output_type": "stream",
     "text": [
      "\r",
      "Processing images:  21%|██        | 356/1679 [00:28<03:23,  6.49it/s]"
     ]
    },
    {
     "name": "stdout",
     "output_type": "stream",
     "text": [
      "Processing 322c5dd4bfedf9a57337098ecdca84e6.jpg with white background\n",
      "Processing 39c31f3e5c4b9f2cb1f061a84298233e.jpg with white background\n"
     ]
    },
    {
     "name": "stderr",
     "output_type": "stream",
     "text": [
      "\r",
      "Processing images:  21%|██▏       | 358/1679 [00:28<03:15,  6.75it/s]"
     ]
    },
    {
     "name": "stdout",
     "output_type": "stream",
     "text": [
      "Processing 39e701ecc247f0b11ff3869fec8e7218.png with transparency\n",
      "Processing 38fec1f7b9dedb815ae0115097cf7f58.jpg with white background\n"
     ]
    },
    {
     "name": "stderr",
     "output_type": "stream",
     "text": [
      "Processing images:  22%|██▏       | 362/1679 [00:29<02:48,  7.82it/s]"
     ]
    },
    {
     "name": "stdout",
     "output_type": "stream",
     "text": [
      "Processing 3a4280827f641c95b9f903a97cd56942.png with transparency\n",
      "Processing 39fb65b729a01649123c36c00737e20b.jpg with white background\n"
     ]
    },
    {
     "name": "stderr",
     "output_type": "stream",
     "text": [
      "\r",
      "Processing images:  22%|██▏       | 364/1679 [00:29<04:13,  5.19it/s]"
     ]
    },
    {
     "name": "stdout",
     "output_type": "stream",
     "text": [
      "Processing 39cc6c9d3a7b6cefe17831bd27e1447c.jpg with white background\n",
      "Processing 33b0157920800137a55d9cbf79f76a05.jpg with white background\n",
      "Processing 3a5007a3fce5dc3e205eac29e9cb0927.png with transparency\n"
     ]
    },
    {
     "name": "stderr",
     "output_type": "stream",
     "text": [
      "\r",
      "Processing images:  22%|██▏       | 367/1679 [00:30<03:56,  5.55it/s]"
     ]
    },
    {
     "name": "stdout",
     "output_type": "stream",
     "text": [
      "Processing 3ab51518772bdd5b0d9de74a9578caf4.png with transparency\n",
      "Processing 3a1df0da9d92f3d580c58d921f90958f.jpg with white background\n",
      "Processing 39d1f18837b5055473fa8f067920f2db.jpg with white background\n",
      "Processing 3b0d7816ea53afba8cdd2c8c7947bc1e.png with transparency\n",
      "Processing 3ac3a350509395fceeb52aa3996886a9.jpg with white background\n"
     ]
    },
    {
     "name": "stderr",
     "output_type": "stream",
     "text": [
      "Processing images:  22%|██▏       | 372/1679 [00:30<03:07,  6.95it/s]"
     ]
    },
    {
     "name": "stdout",
     "output_type": "stream",
     "text": [
      "Processing 3ac5afff0382b1c760fee991ed1f1982.jpg with white background\n",
      "Processing 3ac3eeefc6613bffa0a1efdec58a32ae.jpg with white background\n"
     ]
    },
    {
     "name": "stderr",
     "output_type": "stream",
     "text": [
      "Processing images:  23%|██▎       | 378/1679 [00:31<01:48, 12.03it/s]"
     ]
    },
    {
     "name": "stdout",
     "output_type": "stream",
     "text": [
      "Skipping 3b2b3f836cde980cd344fe802c8578de.jpg due to non-white background\n",
      "Processing 3b2780442e339c5d41b8db2223a3fcab.png with transparency\n",
      "Processing 3b18ec5c80713138472fef4f761a1f44.jpg with white background\n",
      "Processing 3b1794510bc227c71726227a3e24cb69.jpg with white background\n",
      "Skipping 3a0d9233457d21d3866550df73e69c52.jpg due to non-white background\n",
      "Processing 3b65eeb89c0145f6e26ce240809373c5.png with transparency\n",
      "Processing 3abc226bc0402b5898846e6d6bbaa4c3.jpg with white background\n",
      "Processing 3bb00886802194365ba048fa97695ed4.png with transparency\n"
     ]
    },
    {
     "name": "stderr",
     "output_type": "stream",
     "text": [
      "\r",
      "Processing images:  23%|██▎       | 380/1679 [00:31<01:47, 12.11it/s]"
     ]
    },
    {
     "name": "stdout",
     "output_type": "stream",
     "text": [
      "Skipping 3bbf296163d2e2fe55cd2a169ae33171.jpg due to non-white background\n",
      "Processing 3cdbf31825e674a9ce52c52d89219c77.png with transparency\n",
      "Processing 3d4c78f1eca40e0c7cf2f3511752da5f.jpg with white background\n"
     ]
    },
    {
     "name": "stderr",
     "output_type": "stream",
     "text": [
      "Processing images:  23%|██▎       | 386/1679 [00:31<01:35, 13.55it/s]"
     ]
    },
    {
     "name": "stdout",
     "output_type": "stream",
     "text": [
      "Processing 3c2cd30ebfd536a5a466cfdf2a378c41.jpg with white background\n",
      "Processing 3e7c21d4aa471c08517e0b8840a62316.jpg with white background\n",
      "Processing 3ce92b3dfb36245ea9c12923aba2e267.jpg with white background\n",
      "Processing 3c086c17c776a627abab90b2ad91313c.jpg with white background\n"
     ]
    },
    {
     "name": "stderr",
     "output_type": "stream",
     "text": [
      "\r",
      "Processing images:  23%|██▎       | 388/1679 [00:32<02:22,  9.08it/s]"
     ]
    },
    {
     "name": "stdout",
     "output_type": "stream",
     "text": [
      "Processing 379a6910bdd2510ff2310f4d0dca4abc.jpg with white background\n",
      "Processing 3e98300193aa902d7f2b6cf2fc591da6.jpg with white background\n"
     ]
    },
    {
     "name": "stderr",
     "output_type": "stream",
     "text": [
      "Processing images:  23%|██▎       | 393/1679 [00:32<01:39, 12.94it/s]"
     ]
    },
    {
     "name": "stdout",
     "output_type": "stream",
     "text": [
      "Processing 3eb2cdc5cf2c66639bdbe264dba9ac66.jpg with white background\n",
      "Skipping 3d3ff68c83742dcd34a5e37e76320eff.jpg due to non-white background\n",
      "Processing 3f3c6e140240415b1f02a7918ae1eac0.jpg with white background\n",
      "Processing 401427cfc1193eac7af979e2c5f3fc3a.jpg with white background\n",
      "Processing 3f64947c48c936cdaf52ead96de591c3.jpg with white background\n"
     ]
    },
    {
     "name": "stderr",
     "output_type": "stream",
     "text": [
      "Processing images:  24%|██▍       | 400/1679 [00:32<01:14, 17.21it/s]"
     ]
    },
    {
     "name": "stdout",
     "output_type": "stream",
     "text": [
      "Processing 40674a239696474c181b60d6912f81b4.jpg with white background\n",
      "Skipping 40372251450dd18ba5b820772030e75c.jpg due to non-white background\n",
      "Processing 3faa2ada31b8a8d72aac84e363ed66b1.jpg with white background\n",
      "Skipping 403e0a56bd69db08c4762e109357de15.jpg due to non-white background\n"
     ]
    },
    {
     "name": "stderr",
     "output_type": "stream",
     "text": [
      "Processing images:  24%|██▍       | 406/1679 [00:33<01:16, 16.55it/s]"
     ]
    },
    {
     "name": "stdout",
     "output_type": "stream",
     "text": [
      "Processing 40c24f0e99d3171eea537b9bcfaa0022.jpg with white background\n",
      "Processing 40f8ac55d421fa7870ec4f8824711974.jpg with white background\n",
      "Processing 400d58341ee4f57bc2cfdd5bfe86052c.jpg with white background\n",
      "Skipping 3f646f3612c25f02b5024633f81af018.jpg due to non-white background\n",
      "Processing 40466d81318ac0ca382400624936b696.jpg with white background\n",
      "Processing 41b9efa399dbc6cba6fa2ae22b6a40d9.png with transparency\n",
      "Skipping 4166f01c0cf5b19bb21accbd7ee2c43f.jpg due to non-white background\n"
     ]
    },
    {
     "name": "stderr",
     "output_type": "stream",
     "text": [
      "\r",
      "Processing images:  24%|██▍       | 408/1679 [00:33<01:36, 13.19it/s]"
     ]
    },
    {
     "name": "stdout",
     "output_type": "stream",
     "text": [
      "Processing 400a2cf30b4877fbb0432d991168f60b.jpg with white background\n",
      "Processing 4140504775d105145cea469eb449ea21.jpg with white background\n",
      "Processing 4168fdf786d4349e80ac0d69f2f9eafe.jpg with white background\n"
     ]
    },
    {
     "name": "stderr",
     "output_type": "stream",
     "text": [
      "\r",
      "Processing images:  24%|██▍       | 410/1679 [00:33<01:46, 11.87it/s]"
     ]
    },
    {
     "name": "stdout",
     "output_type": "stream",
     "text": [
      "Processing 41da875d73c7df8d55edf8d973b35759.jpg with white background\n",
      "Processing 41715228a71fce803d79be17a073ce87.jpg with white background\n",
      "Processing 4177599947d906a783a5eb33ee105c6a.jpg with white background\n",
      "Processing 41f004c48530a5aaae4dee8cc5d3d239.jpg with white background\n"
     ]
    },
    {
     "name": "stderr",
     "output_type": "stream",
     "text": [
      "Processing images:  25%|██▍       | 417/1679 [00:33<01:26, 14.66it/s]"
     ]
    },
    {
     "name": "stdout",
     "output_type": "stream",
     "text": [
      "Processing 422c218506d9400a3e7b6923cd7ac19d.jpg with white background\n",
      "Processing 426033e0ba4d6be1fec1bde213d56590.jpg with white background\n",
      "Processing 42255249c82458c1e61bc7da99e33178.jpg with white background\n",
      "Processing 435beb8757d47c6ea7aee4df4976562a.png with transparency\n"
     ]
    },
    {
     "name": "stderr",
     "output_type": "stream",
     "text": [
      "\r",
      "Processing images:  25%|██▍       | 419/1679 [00:34<01:25, 14.77it/s]"
     ]
    },
    {
     "name": "stdout",
     "output_type": "stream",
     "text": [
      "Skipping 42f7c1e5ed883f51200c901d9a64023e.jpg due to non-white background\n",
      "Processing 43bb14c06ba0ab6aa9a7dcf48c51bb31.png with transparency\n",
      "Processing 42ea024ccfdadbb1d6c4e3e3d0a1c623.jpg with white background\n"
     ]
    },
    {
     "name": "stderr",
     "output_type": "stream",
     "text": [
      "Processing images:  25%|██▌       | 424/1679 [00:34<01:25, 14.68it/s]"
     ]
    },
    {
     "name": "stdout",
     "output_type": "stream",
     "text": [
      "Processing 4359b3c7e63702dcb635f28d9f40409e.jpg with white background\n",
      "Processing 4361134e98ae9384e288b7e07e30afc6.jpg with white background\n",
      "Processing 431065c42ac40b705ebccf489f6202ee.jpg with white background\n",
      "Processing 43e9a4322f7ee3535b638ed178c33713.png with transparency\n",
      "Processing 4305550892193a2947d2bd2a05863581.jpg with white background\n"
     ]
    },
    {
     "name": "stderr",
     "output_type": "stream",
     "text": [
      "\r",
      "Processing images:  25%|██▌       | 426/1679 [00:34<01:22, 15.18it/s]"
     ]
    },
    {
     "name": "stdout",
     "output_type": "stream",
     "text": [
      "Processing 4382212bcb9238c2de2d814aa4e0d695.jpg with white background\n",
      "Processing 440012ec6efb13283b834f319dc6dad3.jpg with white background\n"
     ]
    },
    {
     "name": "stderr",
     "output_type": "stream",
     "text": [
      "Processing images:  26%|██▌       | 430/1679 [00:34<01:35, 13.08it/s]"
     ]
    },
    {
     "name": "stdout",
     "output_type": "stream",
     "text": [
      "Processing 44bba8a9355fd0df518a99b4a5e4ffb1.png with transparency\n",
      "Processing 44f122dd0a318982daa091b2458e6e90.png with transparency\n",
      "Processing 44d8820483e04374a4fa1d35ba75f5fb.jpg with white background\n",
      "Processing 446c42e780693140d45473dd0a2b4ec9.jpg with white background\n"
     ]
    },
    {
     "name": "stderr",
     "output_type": "stream",
     "text": [
      "Processing images:  26%|██▌       | 434/1679 [00:35<01:35, 12.97it/s]"
     ]
    },
    {
     "name": "stdout",
     "output_type": "stream",
     "text": [
      "Processing 44da087e248e80d82c5ad18375bb53f8.jpg with white background\n",
      "Processing 44b9fe4497fe38d4222a073392d415a7.jpg with white background\n",
      "Processing 4400c5dfc515e8f58ae999a73bff8504.jpg with white background\n",
      "Processing 44525458871d4abec8a63a94e638a185.jpg with white background\n",
      "Processing 44d2afa748558da8652248668782764e.jpg with white background\n"
     ]
    },
    {
     "name": "stderr",
     "output_type": "stream",
     "text": [
      "Processing images:  26%|██▌       | 440/1679 [00:35<01:59, 10.34it/s]"
     ]
    },
    {
     "name": "stdout",
     "output_type": "stream",
     "text": [
      "Processing 453a0595f31724f9de3c2afd12ad8594.jpg with white backgroundProcessing 45b73e57fe20d74a6890974bb5f467b9.png with transparency\n",
      "\n",
      "Processing 450b71ef416921b73e8c4cf98c19bfb6.jpg with white background\n",
      "Skipping 45e2d6d6ec39d7d2243c25f5be3545f3.jpg due to non-white background\n",
      "Processing 464fa38b23add2057cbfda64414e3371.jpg with white background\n"
     ]
    },
    {
     "name": "stderr",
     "output_type": "stream",
     "text": [
      "Processing images:  27%|██▋       | 447/1679 [00:36<01:39, 12.43it/s]"
     ]
    },
    {
     "name": "stdout",
     "output_type": "stream",
     "text": [
      "Skipping 43a611cece077adc5a082e8355039d0b.jpg due to non-white background\n",
      "Processing 459743f3894173708fa383dcbdad496e.jpg with white background\n"
     ]
    },
    {
     "name": "stderr",
     "output_type": "stream",
     "text": [
      "\r",
      "Processing images:  27%|██▋       | 450/1679 [00:36<01:35, 12.91it/s]"
     ]
    },
    {
     "name": "stdout",
     "output_type": "stream",
     "text": [
      "Processing 45bb067fb0360546a010d2067a489263.jpg with white background\n",
      "Processing 46df647bfc0971f83f36773e5e6228c8.png with transparency\n",
      "Processing 46aad02c8b371cd0aac27c345dfeeb6c.jpg with white background\n"
     ]
    },
    {
     "name": "stderr",
     "output_type": "stream",
     "text": [
      "\r",
      "Processing images:  27%|██▋       | 452/1679 [00:37<01:58, 10.38it/s]"
     ]
    },
    {
     "name": "stdout",
     "output_type": "stream",
     "text": [
      "Skipping 47a2349c424240a9ecf0fc1868c5712c.jpg due to non-white background\n",
      "Processing 48225e24bc5c4856612a79106c3d189e.jpg with white background\n",
      "Processing 480c25b3bb08384b32683cd490a571e7.jpg with white background\n",
      "Processing 48246aa34a5fa3eccb61921ffde5d1a7.png with transparency\n",
      "Processing 4795097752ecf98c36637bd5be355516.jpg with white background\n",
      "Processing 467af81b4f67c7c9da7467120318a281.jpg with white background\n"
     ]
    },
    {
     "name": "stderr",
     "output_type": "stream",
     "text": [
      "\r",
      "Processing images:  27%|██▋       | 454/1679 [00:37<02:17,  8.94it/s]"
     ]
    },
    {
     "name": "stdout",
     "output_type": "stream",
     "text": [
      "Processing 47a1dbb08e5cb0148acf082b8810d47f.jpg with white background\n",
      "Processing 482103c094badbae8c6d9c6672ba97d0.jpg with white background\n",
      "Processing 46d0caee3a002f6bcd4ad01168180c0d.jpg with white background\n"
     ]
    },
    {
     "name": "stderr",
     "output_type": "stream",
     "text": [
      "\r",
      "Processing images:  27%|██▋       | 456/1679 [00:37<02:07,  9.57it/s]"
     ]
    },
    {
     "name": "stdout",
     "output_type": "stream",
     "text": [
      "Processing 45f95ab569fc9e16c886b1e1c25314a3.jpg with white background\n",
      "Processing 4878cf3cd78aecacddd7f3632b64739c.jpg with white background\n"
     ]
    },
    {
     "name": "stderr",
     "output_type": "stream",
     "text": [
      "Processing images:  27%|██▋       | 460/1679 [00:37<02:01, 10.01it/s]"
     ]
    },
    {
     "name": "stdout",
     "output_type": "stream",
     "text": [
      "Skipping 48a1bcdba671ac4b125ffdab53433ed2.jpg due to non-white background\n",
      "Processing 4831783670868456902d7654634a75a4.jpg with white background\n",
      "Skipping 495bbe7d7d781167175266d5c2291b83.jpg due to non-white background\n",
      "Processing 4966a71eca3c60311d73081182bcfbd4.png with transparency\n",
      "Processing 49281ac1fe040648b4bde2386603489c.jpg with white background\n"
     ]
    },
    {
     "name": "stderr",
     "output_type": "stream",
     "text": [
      "Processing images:  28%|██▊       | 465/1679 [00:38<02:05,  9.71it/s]"
     ]
    },
    {
     "name": "stdout",
     "output_type": "stream",
     "text": [
      "Processing 44c242ae0d9467f1181dd8faac4dc55c.jpg with white background\n"
     ]
    },
    {
     "name": "stderr",
     "output_type": "stream",
     "text": [
      "Processing images:  28%|██▊       | 472/1679 [00:38<01:19, 15.22it/s]"
     ]
    },
    {
     "name": "stdout",
     "output_type": "stream",
     "text": [
      "Processing 4a49e3b3011f6b7d9d401fecb643706a.jpg with white background\n",
      "Skipping 4af52fb0998a71084bcc689e7e836308.jpg due to non-white background\n",
      "Processing 4b4b27abe4d7cb3ebda020619b43b4a6.png with transparency\n",
      "Processing 49d37a306752030604f6003334a665c7.jpg with white background\n",
      "Processing 4b08787f94f8b9759846faeef0ed7a0e.jpg with white background\n"
     ]
    },
    {
     "name": "stderr",
     "output_type": "stream",
     "text": [
      "Processing images:  28%|██▊       | 476/1679 [00:40<03:51,  5.19it/s]"
     ]
    },
    {
     "name": "stdout",
     "output_type": "stream",
     "text": [
      "Processing 4ad5c2d3f9b0b828cdaf199a8438b6e2.jpg with white background\n",
      "Processing 4b76ab5c155a423fc08328bf98237f65.png with transparency\n",
      "Skipping 4a508b15a8f9f1f34274ba297f5b5f0b.jpg due to non-white background\n",
      "Skipping 48cc0dceec0387f277835273b766b91a.jpg due to non-white background\n"
     ]
    },
    {
     "name": "stderr",
     "output_type": "stream",
     "text": [
      "Processing images:  29%|██▊       | 481/1679 [00:40<03:27,  5.77it/s]"
     ]
    },
    {
     "name": "stdout",
     "output_type": "stream",
     "text": [
      "Processing 4b88246472955f398c4e9c0e17010f6b.jpg with white background\n",
      "Processing 4a7376daef413bc2205629294dbd18e3.jpg with white background\n"
     ]
    },
    {
     "name": "stderr",
     "output_type": "stream",
     "text": [
      "\r",
      "Processing images:  29%|██▊       | 482/1679 [00:41<04:19,  4.61it/s]"
     ]
    },
    {
     "name": "stdout",
     "output_type": "stream",
     "text": [
      "Processing 4ae09178da2b9358b41a517c0a2def6c.jpg with white background\n",
      "Skipping 4bb3785b03fbaf2a86b5c56f52eba5ea.jpg due to non-white background\n",
      "Skipping 4ba904ad922ff634cf48cc60920a88db.jpg due to non-white background\n",
      "Processing 45ac4014d2cda27c94cd72fc30cbc91d.jpg with white background\n",
      "Processing 4bc70e4b3148183e0bea741baf3a901a.jpg with white background\n"
     ]
    },
    {
     "name": "stderr",
     "output_type": "stream",
     "text": [
      "\r",
      "Processing images:  29%|██▉       | 484/1679 [00:41<03:51,  5.15it/s]"
     ]
    },
    {
     "name": "stdout",
     "output_type": "stream",
     "text": [
      "Processing 4b4b456c30be28c0e6d1fb392cb6f14c.jpg with white background\n",
      "Processing 4b6ef3c0eb7dd9d4cec85346c412198d.jpg with white background\n",
      "Processing 4bfd7754f6c4019fc2bef66cbe6a1351.jpg with white background\n"
     ]
    },
    {
     "name": "stderr",
     "output_type": "stream",
     "text": [
      "Processing images:  29%|██▉       | 486/1679 [00:42<04:30,  4.41it/s]"
     ]
    },
    {
     "name": "stdout",
     "output_type": "stream",
     "text": [
      "Processing 4bc56b7c6637a86eb8dda73b9b3d3856.jpg with white background\n",
      "Processing 457fa3c4eb3fe4be5654d641011b4a10.jpg with white background\n"
     ]
    },
    {
     "name": "stderr",
     "output_type": "stream",
     "text": [
      "\r",
      "Processing images:  29%|██▉       | 488/1679 [00:42<03:16,  6.08it/s]"
     ]
    },
    {
     "name": "stdout",
     "output_type": "stream",
     "text": [
      "Processing 4c8f4c7acbc9adcbe6057bbed7ce2304.png with transparency\n",
      "Processing 4b84c7e0fe61e7daf3df4a09a97e9a9b.jpg with white background\n",
      "Processing 4beb808cc82a98053f6b5cb2727ccef9.jpg with white background\n"
     ]
    },
    {
     "name": "stderr",
     "output_type": "stream",
     "text": [
      "\r",
      "Processing images:  29%|██▉       | 489/1679 [00:42<04:35,  4.31it/s]"
     ]
    },
    {
     "name": "stdout",
     "output_type": "stream",
     "text": [
      "Processing 4c9b43a7e223c522e93f9d068d122747.jpg with white background\n",
      "Processing 4d159a6c9df9ea1fd73628a8c2372904.jpg with white background\n",
      "Processing 4c497c309bc22ff1e715a977a314bfce.jpg with white background\n"
     ]
    },
    {
     "name": "stderr",
     "output_type": "stream",
     "text": [
      "\r",
      "Processing images:  29%|██▉       | 493/1679 [00:43<02:41,  7.35it/s]"
     ]
    },
    {
     "name": "stdout",
     "output_type": "stream",
     "text": [
      "Processing 4d43e33fc13b3f73bf0af3b843a0c96e.jpg with white background\n",
      "Processing 4cc966565c888bf2da7ae84477f56377.jpg with white background\n",
      "Processing 4d56d6311f7d556db97e4af0a960e04a.jpg with white background\n"
     ]
    },
    {
     "name": "stderr",
     "output_type": "stream",
     "text": [
      "Processing images:  30%|██▉       | 497/1679 [00:43<02:13,  8.88it/s]"
     ]
    },
    {
     "name": "stdout",
     "output_type": "stream",
     "text": [
      "Skipping 4d812f4627b1a514183310c769dd0dde.jpg due to blurriness (variance of Laplacian)\n",
      "Processing 4df4db05b3bfafcd1152792e5aefcebd.jpg with white background\n",
      "Processing 4e3f1ad6980eb4f73bd8f7c57e5f97d7.png with transparency\n",
      "Processing 4d4791734d473644a81310b6f6a07b9a.jpg with white background\n",
      "Processing 4e0e4704b0d70f93c8b81e26d14ab13b.png with transparency\n",
      "Skipping 4d975cef2072d6823315ca790e68272f.jpg due to non-white background\n",
      "Processing 4e5ddaff0c36e06c4aa6df203b5c8d0d.png with transparency\n"
     ]
    },
    {
     "name": "stderr",
     "output_type": "stream",
     "text": [
      "Processing images:  30%|███       | 506/1679 [00:44<01:30, 13.03it/s]"
     ]
    },
    {
     "name": "stdout",
     "output_type": "stream",
     "text": [
      "Processing 4a3f7ca34abb6baef4a212907252d158.jpg with white background\n",
      "Processing 4edcd3a92efe18bf513d63a6e405c5f8.jpg with white background\n",
      "Processing 4ef4be67b239d44860fae17d2d6d12f2.png with transparency\n",
      "Processing 4b4d97b0f853bb29edc752e862c16814.jpg with white background\n",
      "Skipping 4e9af4d66d03780e9b74f8509f22caac.jpg due to non-white background\n",
      "Processing 4f0dc6c7e041e335964052fa82bd3931.jpg with white background\n"
     ]
    },
    {
     "name": "stderr",
     "output_type": "stream",
     "text": [
      "\r",
      "Processing images:  30%|███       | 508/1679 [00:44<01:35, 12.26it/s]"
     ]
    },
    {
     "name": "stdout",
     "output_type": "stream",
     "text": [
      "Processing 4f9aa6f13c8f57d21c3545ca7fe6275a.png with transparency\n",
      "Processing 4f9ef402b2c440633cdb98c8ae583d8b.png with transparency\n",
      "Skipping 4ec0d2cd54e0e01fc5835d635ebe0ca7.jpg due to blurriness (variance of Laplacian)\n",
      "Processing 4fd30de6a2ba853519829b5150e3fe5d.png with transparency\n"
     ]
    },
    {
     "name": "stderr",
     "output_type": "stream",
     "text": [
      "Processing images:  31%|███       | 514/1679 [00:44<01:19, 14.67it/s]"
     ]
    },
    {
     "name": "stdout",
     "output_type": "stream",
     "text": [
      "Processing 4eab967cf236924b72e6debdb53fae6b.jpg with white background\n",
      "Processing 4f4953801d4f947d3af12c7588c912e9.jpg with white background\n",
      "Processing 49f42d2bd05c783441b0f981af77d0f1.jpg with white background\n",
      "Processing 500392d5062215624ecdc20ded5c5b45.png with transparency\n",
      "Processing 4f06323df63aff5cbb96bf1c5de0397b.jpg with white background\n"
     ]
    },
    {
     "name": "stderr",
     "output_type": "stream",
     "text": [
      "Processing images:  31%|███       | 518/1679 [00:44<01:18, 14.83it/s]"
     ]
    },
    {
     "name": "stdout",
     "output_type": "stream",
     "text": [
      "Skipping 4ff2dbf324686a5d52d22653bb8c2bf9.jpg due to non-white background\n",
      "Processing 4f99d5b03ada39595b6840c1d1a04895.jpg with white background\n",
      "Processing 50c6e7aa588cfb4dc454dfb3c11c2522.png with transparency\n",
      "Processing 4fe173862742c52cd9eeb86206588cf5.jpg with white background\n"
     ]
    },
    {
     "name": "stderr",
     "output_type": "stream",
     "text": [
      "\r",
      "Processing images:  31%|███       | 521/1679 [00:45<01:26, 13.42it/s]"
     ]
    },
    {
     "name": "stdout",
     "output_type": "stream",
     "text": [
      "Processing 505961669f4d8ea4dfd55a3832fba543.jpg with white background\n",
      "Skipping 508dcee8ed123aca68c907c55decaa1d.jpg due to non-white background\n",
      "Processing 51487dba6027d6cde6843f49e1bc896d.png with transparency\n",
      "Processing 50d9f9ac24a7105b3cecd6cf7cf75cbf.jpg with white background\n",
      "Processing 4b6480c529c078512c3150e1c0db1a6a.jpg with white background\n"
     ]
    },
    {
     "name": "stderr",
     "output_type": "stream",
     "text": [
      "\r",
      "Processing images:  31%|███       | 523/1679 [00:45<01:21, 14.15it/s]"
     ]
    },
    {
     "name": "stdout",
     "output_type": "stream",
     "text": [
      "Processing 5024f36087a2c7f01ffe03a4cf425022.jpg with white background\n",
      "Processing 515de0cfebcc635096409584168b4da5.png with transparency\n",
      "Processing 50e507a39d07a6d2137fffc6135e9064.jpg with white background\n"
     ]
    },
    {
     "name": "stderr",
     "output_type": "stream",
     "text": [
      "\r",
      "Processing images:  31%|███▏      | 525/1679 [00:45<01:37, 11.86it/s]"
     ]
    },
    {
     "name": "stdout",
     "output_type": "stream",
     "text": [
      "Processing 50f4b24f972b4b25a4cecc0a1a634263.jpg with white background\n",
      "Processing 51581ab2f2e00266e683413d903dd13c.jpg with white background\n",
      "Processing 51c4365b3ed56ae65a34212978282eff.jpg with white background\n"
     ]
    },
    {
     "name": "stderr",
     "output_type": "stream",
     "text": [
      "Processing images:  32%|███▏      | 530/1679 [00:45<01:29, 12.89it/s]"
     ]
    },
    {
     "name": "stdout",
     "output_type": "stream",
     "text": [
      "Processing 51b873da93c8954876cc445916c46d73.png with transparency\n",
      "Processing 5235faeef7483c4492f61975ddc704b9.png with transparency\n",
      "Processing 5211a5b974285c05809f5072710ad7de.jpg with white background\n"
     ]
    },
    {
     "name": "stderr",
     "output_type": "stream",
     "text": [
      "\r",
      "Processing images:  32%|███▏      | 533/1679 [00:46<01:36, 11.82it/s]"
     ]
    },
    {
     "name": "stdout",
     "output_type": "stream",
     "text": [
      "Processing 5307ade599052d7ae2250448470e6617.jpg with white background\n",
      "Processing 535482349f3b6284a8438c7f05c5aa38.png with transparency\n"
     ]
    },
    {
     "name": "stderr",
     "output_type": "stream",
     "text": [
      "Processing images:  32%|███▏      | 539/1679 [00:46<01:22, 13.84it/s]"
     ]
    },
    {
     "name": "stdout",
     "output_type": "stream",
     "text": [
      "Processing 532ce226e812b45b64efe984d0709c3b.jpg with white background\n",
      "Processing 52cf757f867180db08882e93373af22b.jpg with white background\n"
     ]
    },
    {
     "name": "stderr",
     "output_type": "stream",
     "text": [
      "\r",
      "Processing images:  32%|███▏      | 542/1679 [00:46<01:40, 11.26it/s]"
     ]
    },
    {
     "name": "stdout",
     "output_type": "stream",
     "text": [
      "Processing 54379b2dde4f3b4d10fcc5928b9c1b73.png with transparency\n",
      "Processing 53cd82e314b164141446024bad4ac06a.jpg with white background\n"
     ]
    },
    {
     "name": "stderr",
     "output_type": "stream",
     "text": [
      "Processing images:  33%|███▎      | 549/1679 [00:47<01:10, 15.92it/s]"
     ]
    },
    {
     "name": "stdout",
     "output_type": "stream",
     "text": [
      "Processing 533f160ed8eb954b76c06805989bd164.jpg with white background\n",
      "Skipping 54a698c545c377c45a2506ce270328c5.jpg due to non-white background\n",
      "Skipping 54df240275bc2ff73db46b1b43896b87.jpg due to non-white background\n",
      "Skipping 54e687f86d4c12cc6973f57e5496ee51.jpg due to non-white background\n",
      "Processing 55226f5bcb5d6c88e2f9e095bab273b9.jpg with white background\n"
     ]
    },
    {
     "name": "stderr",
     "output_type": "stream",
     "text": [
      "\r",
      "Processing images:  33%|███▎      | 551/1679 [00:47<01:46, 10.59it/s]"
     ]
    },
    {
     "name": "stdout",
     "output_type": "stream",
     "text": [
      "Skipping 55b4ca23d84c7e434c01f69c646dd8b6.jpg due to non-white background\n",
      "Processing 53bb71eb50cf064706a46e9d1c4d998a.jpg with white background\n",
      "Processing 540ecfddff9934db4630056e30f0b06b.jpg with white background\n",
      "Processing 53d204896d8d35817e5efd44b3b6706d.jpg with white background\n",
      "Processing 5642bfdce10f064a664738dfd6730341.png with transparency\n"
     ]
    },
    {
     "name": "stderr",
     "output_type": "stream",
     "text": [
      "\r",
      "Processing images:  33%|███▎      | 553/1679 [00:48<02:47,  6.71it/s]"
     ]
    },
    {
     "name": "stdout",
     "output_type": "stream",
     "text": [
      "Processing 550bf8160bb2a316ec5d1c8865dd78bf.jpg with white background\n",
      "Processing 55cd2bfec5728a0061b806fab02dfb36.jpg with white background\n"
     ]
    },
    {
     "name": "stderr",
     "output_type": "stream",
     "text": [
      "\r",
      "Processing images:  33%|███▎      | 555/1679 [00:48<02:54,  6.45it/s]"
     ]
    },
    {
     "name": "stdout",
     "output_type": "stream",
     "text": [
      "Processing 557e9d6748e2ebcdcb2ea75b1535eee9.jpg with white background\n",
      "Processing 5649a4a1bdd2cf8f4a59b3a6f7c373a8.jpg with white background\n",
      "Processing 57046a08d02d5605a4424f04602d3590.png with transparency\n",
      "Processing 567e49627712bcd73d6ef4e3f7e7fc07.png with transparency\n",
      "Processing 567d931bbc540dbba805af5dfe7e4c37.jpg with white background\n",
      "Processing 55d7978e17067d13985173e1872d273c.jpg with white background\n"
     ]
    },
    {
     "name": "stderr",
     "output_type": "stream",
     "text": [
      "Processing images:  33%|███▎      | 559/1679 [00:49<02:25,  7.71it/s]"
     ]
    },
    {
     "name": "stdout",
     "output_type": "stream",
     "text": [
      "Processing 52a1e3c2950400d336423dab6c8cece9.jpg with white background\n",
      "Processing 566bb5ecfcd6d5b2b38d114676f99136.jpg with white background\n"
     ]
    },
    {
     "name": "stderr",
     "output_type": "stream",
     "text": [
      "\r",
      "Processing images:  33%|███▎      | 561/1679 [00:49<02:08,  8.73it/s]"
     ]
    },
    {
     "name": "stdout",
     "output_type": "stream",
     "text": [
      "Processing 5718dc9a7b8a2ec8b7d2b5992a110255.png with transparency\n",
      "Processing 574bcae294a7f60c4bae6687e62a40f2.png with transparency\n",
      "Processing 526976f9c8554629205619442a2bb6a1.jpg with white background\n",
      "Skipping 572d46fe5d74f443022219f8538ea042.jpg due to non-white background\n",
      "Processing 576ba43bd13aaa8f289ac2a81bccd79a.jpg with white background\n",
      "Processing 519701814295bb400a1a64dbb53bb6db.jpg with white background\n"
     ]
    },
    {
     "name": "stderr",
     "output_type": "stream",
     "text": [
      "Processing images:  34%|███▍      | 568/1679 [00:49<01:38, 11.31it/s]"
     ]
    },
    {
     "name": "stdout",
     "output_type": "stream",
     "text": [
      "Processing 57aa8c2b4668a4901157f330a9a562ba.png with transparency\n",
      "Processing 57d149e278c991e5e9acd9a7becc292b.jpg with white background\n",
      "Processing 583c47c7ecb01f8e4be36c4a9c18fefb.png with transparency\n",
      "Processing 579ae8e85f601bc43f353e009b02c114.jpg with white background\n",
      "Processing 57d831f7ab0604665bbf239b9c45c8d7.png with transparency\n"
     ]
    },
    {
     "name": "stderr",
     "output_type": "stream",
     "text": [
      "\r",
      "Processing images:  34%|███▍      | 570/1679 [00:50<01:51,  9.92it/s]"
     ]
    },
    {
     "name": "stdout",
     "output_type": "stream",
     "text": [
      "Processing 57813019ddfcbede162d0abfa12de1c9.jpg with white background\n",
      "Processing 586dc68f488658363a91fa269260bcd2.png with transparency\n"
     ]
    },
    {
     "name": "stderr",
     "output_type": "stream",
     "text": [
      "Processing images:  34%|███▍      | 575/1679 [00:50<02:02,  8.99it/s]"
     ]
    },
    {
     "name": "stdout",
     "output_type": "stream",
     "text": [
      "Processing 582d25485b25c39c599f69e7b2f706b6.jpg with white background\n",
      "Processing 5811338413c792c054b2371f23aa1e0a.jpg with white background\n",
      "Processing 53b32d51559d5f1689f529bbf9bdbbe7.jpg with white background\n"
     ]
    },
    {
     "name": "stderr",
     "output_type": "stream",
     "text": [
      "\r",
      "Processing images:  34%|███▍      | 578/1679 [00:50<01:35, 11.53it/s]"
     ]
    },
    {
     "name": "stdout",
     "output_type": "stream",
     "text": [
      "Processing 58c9f001e74a3404e9d7bd47ac193ec6.jpg with white background\n",
      "Processing 5a1d297e79282ea1f6391359e1cbccfb.jpg with white background\n"
     ]
    },
    {
     "name": "stderr",
     "output_type": "stream",
     "text": [
      "Processing images:  35%|███▍      | 582/1679 [00:51<01:34, 11.61it/s]"
     ]
    },
    {
     "name": "stdout",
     "output_type": "stream",
     "text": [
      "Skipping 598c5be1d185038f1953335e47e8f687.jpg due to non-white background\n",
      "Processing 5a1f33592c3e27e572f4b15b604723bf.png with transparency\n",
      "Processing 552c393638d798bacb1cb1b2422c377f.jpg with white background\n",
      "Processing 58479998630ea0980fcd9f87a63fc095.jpg with white background\n"
     ]
    },
    {
     "name": "stderr",
     "output_type": "stream",
     "text": [
      "\r",
      "Processing images:  35%|███▍      | 585/1679 [00:51<01:31, 11.97it/s]"
     ]
    },
    {
     "name": "stdout",
     "output_type": "stream",
     "text": [
      "Processing 5a2e34e2ebf204ab8bfcad75397284cc.jpg with white background\n",
      "Processing 5ae508fda9c2157e7dd4c61c4c746434.png with transparency\n",
      "Processing 58bea67a5cb4b07e21cb180694338e5e.jpg with white background\n",
      "Processing 59fb484d83af8d35e4fbaa547de06227.jpg with white background\n",
      "Processing 5a879dd7ffc7c1f7013369aec4c6542b.jpg with white background\n"
     ]
    },
    {
     "name": "stderr",
     "output_type": "stream",
     "text": [
      "Processing images:  35%|███▌      | 589/1679 [00:51<01:37, 11.14it/s]"
     ]
    },
    {
     "name": "stdout",
     "output_type": "stream",
     "text": [
      "Processing 5a77ff14b4de3f1852dc4892c3fa8566.jpg with white background\n",
      "Processing 598fd0f80c2eda62997c3213498ef38a.jpg with white background\n",
      "Skipping 5af8922b0507f7148964a2cf4cede72b.jpg due to non-white background\n",
      "Processing 5b8ba9d397d3bacaacf4ff4017cbde8a.png with transparency\n",
      "Processing 5bf238802061f45912060b32b96184d0.png with transparency\n",
      "Processing 5b58350fb50784e80f21464339e084fa.jpg with white background\n",
      "Processing 5ae6278ab530ceb5bebd968767ebb0ef.jpg with white background\n"
     ]
    },
    {
     "name": "stderr",
     "output_type": "stream",
     "text": [
      "\r",
      "Processing images:  35%|███▌      | 591/1679 [00:52<02:45,  6.58it/s]"
     ]
    },
    {
     "name": "stdout",
     "output_type": "stream",
     "text": [
      "Processing 5c18660c602eb008fc2a9dce742423f3.png with transparency\n",
      "Processing 5c41ca5bc9f627dab21eb2ae8d734b29.png with transparency\n",
      "Processing 5c4ec674f0e0487f42ed0f800320fa2a.png with transparency\n",
      "Processing 5c3985a927fa8acfeff604981344b876.jpg with white background\n"
     ]
    },
    {
     "name": "stderr",
     "output_type": "stream",
     "text": [
      "\r",
      "Processing images:  35%|███▌      | 596/1679 [00:52<01:38, 10.99it/s]"
     ]
    },
    {
     "name": "stdout",
     "output_type": "stream",
     "text": [
      "Processing 5c41cb73ab8723aad28a01119dc54c69.jpg with white background\n",
      "Processing 5c90bb4f896ff6208d491337d5233695.jpg with white background\n"
     ]
    },
    {
     "name": "stderr",
     "output_type": "stream",
     "text": [
      "Processing images:  36%|███▌      | 603/1679 [00:53<01:23, 12.82it/s]"
     ]
    },
    {
     "name": "stdout",
     "output_type": "stream",
     "text": [
      "Processing 5cb08beb89c4690fadf1ffce53c267b1.png with transparency\n",
      "Processing 57fb197b2e8e6951a485da3337c3afad.jpg with white background\n",
      "Processing 5d02f3728b6cd260ea6dd9b7206f8722.png with transparency\n",
      "Processing 5d0da56b507c9ca612d1a472dc02f764.png with transparency\n"
     ]
    },
    {
     "name": "stderr",
     "output_type": "stream",
     "text": [
      "\r",
      "Processing images:  36%|███▌      | 605/1679 [00:53<01:23, 12.86it/s]"
     ]
    },
    {
     "name": "stdout",
     "output_type": "stream",
     "text": [
      "Skipping 5d1b8e365fdf45a621aac8b498d65acc.jpg due to non-white background\n",
      "Processing 5dc37e9765240ee3d538b3377d2ae4fe.png with transparency\n",
      "An error occurred: cannot identify image file 'image_folder\\\\5dc6551919aa19d8405746f365c37967.jpg'\n"
     ]
    },
    {
     "name": "stderr",
     "output_type": "stream",
     "text": [
      "\r",
      "Processing images:  36%|███▋      | 609/1679 [00:53<01:18, 13.56it/s]"
     ]
    },
    {
     "name": "stdout",
     "output_type": "stream",
     "text": [
      "Skipping 5d30a8029284ec84268ae766b1bb128a.jpg due to non-white backgroundProcessing 5d023c64fc20427025948649d4f001b4.jpg with white background\n",
      "Processing 5ced17b39513dfb0fa5b4f611a8bb3f2.jpg with white background\n",
      "\n",
      "Processing 5e1166d0dfbeb2c7fc187ca21fded705.jpg with white background\n"
     ]
    },
    {
     "name": "stderr",
     "output_type": "stream",
     "text": [
      "Processing images:  37%|███▋      | 615/1679 [00:53<01:14, 14.21it/s]"
     ]
    },
    {
     "name": "stdout",
     "output_type": "stream",
     "text": [
      "Processing 5f5ca9a32d28db9c1018bfa5439311e4.jpg with white background\n",
      "Processing 5e3cd04024d9c880e53c30103ca947ae.jpg with white background\n",
      "Processing 5e5c064023c97dee0855c748cf105407.jpg with white background\n",
      "Processing 5ffc86e13a7a7133a92b0d754d9d2a9f.png with transparency\n",
      "Processing 5f5b392211ba4452db4c726af77258d7.jpg with white background\n",
      "Processing 5f966952605ea8ed9437d70571da665f.jpg with white background\n"
     ]
    },
    {
     "name": "stderr",
     "output_type": "stream",
     "text": [
      "Processing images:  37%|███▋      | 620/1679 [00:54<01:17, 13.68it/s]"
     ]
    },
    {
     "name": "stdout",
     "output_type": "stream",
     "text": [
      "Processing 60a7262aaa0152c37b4a099824d31de6.jpg with white background\n",
      "Processing 608e0ce45a6484c4153e98044a382ecf.jpg with white background\n",
      "Processing 60b4dfd4f140cca0fb5aeefe01cec3b3.jpg with white background\n",
      "Processing 5f9300b48099bcfbfe075bb7774cba22.jpg with white background\n",
      "Processing 60fef2f41f305eb411ce85556b46278f.png with transparency\n",
      "Processing 6142c20ea7d61787820d19a77564573b.jpg with white background\n",
      "Processing 5a42a6bf99cf56146c9781aa085af5b8.jpg with white background\n"
     ]
    },
    {
     "name": "stderr",
     "output_type": "stream",
     "text": [
      "Processing images:  37%|███▋      | 624/1679 [00:54<01:51,  9.47it/s]"
     ]
    },
    {
     "name": "stdout",
     "output_type": "stream",
     "text": [
      "Processing 60c1a0d4155f55cfb44ec807d3cd7c1a.jpg with white background\n"
     ]
    },
    {
     "name": "stderr",
     "output_type": "stream",
     "text": [
      "Processing images:  37%|███▋      | 629/1679 [00:55<01:40, 10.41it/s]"
     ]
    },
    {
     "name": "stdout",
     "output_type": "stream",
     "text": [
      "Processing 610bff2fbdc9728cf77d358a6b277308.jpg with white background\n",
      "Processing 58e9a8abd2a08773a8c5323fb0548338.jpg with white background\n",
      "Skipping 621bae7a059003f9c30871692520e6d9.jpg due to non-white background\n",
      "Processing 62802e7029f42af349ee519b9014817b.jpg with white background\n",
      "Processing 62ca9849f52a0575b2007e4ee0fa548e.jpg with white background\n",
      "Processing 6272a018c654820bd81d0b9ffa101649.jpg with white background\n"
     ]
    },
    {
     "name": "stderr",
     "output_type": "stream",
     "text": [
      "\r",
      "Processing images:  38%|███▊      | 634/1679 [00:55<01:20, 12.95it/s]"
     ]
    },
    {
     "name": "stdout",
     "output_type": "stream",
     "text": [
      "Processing 633d8e0f7c0dea2ee161949dc1661c52.png with transparency\n",
      "Processing 6315da4f76f17da39a973ba089b39c66.jpg with white background\n",
      "Processing 620a945fd10e5f220db24b645524e906.jpg with white background\n",
      "Processing 6215cc81f6404760674a0ec0c72444be.jpg with white background\n"
     ]
    },
    {
     "name": "stderr",
     "output_type": "stream",
     "text": [
      "\r",
      "Processing images:  38%|███▊      | 637/1679 [00:55<01:09, 14.89it/s]"
     ]
    },
    {
     "name": "stdout",
     "output_type": "stream",
     "text": [
      "Skipping 632f8aa186ecc477366bb9379462a80c.jpg due to non-white background\n",
      "Processing 63e25344f311241a1054cb2d05b6fd11.png with transparency\n",
      "Skipping 63a2ae2c9cdc627e40964bfe5fac6995.jpg due to non-white background\n"
     ]
    },
    {
     "name": "stderr",
     "output_type": "stream",
     "text": [
      "\r",
      "Processing images:  38%|███▊      | 639/1679 [00:56<01:31, 11.42it/s]"
     ]
    },
    {
     "name": "stdout",
     "output_type": "stream",
     "text": [
      "Processing 64186d9a57d090a41790947ffd20d761.jpg with white background\n",
      "Processing 638348a23ae8dfa9bd30957f8c5a5324.jpg with white background\n",
      "Processing 63868e326a6c748a293a4fb3a0f00b88.jpg with white background\n"
     ]
    },
    {
     "name": "stderr",
     "output_type": "stream",
     "text": [
      "Processing images:  38%|███▊      | 644/1679 [00:56<01:30, 11.43it/s]"
     ]
    },
    {
     "name": "stdout",
     "output_type": "stream",
     "text": [
      "Processing 5d214f4a8e6136765005784bbecac826.jpg with white background\n",
      "Processing 63d2df37127a38c24c6d16165e9f9dfa.jpg with white background\n",
      "Processing 64ea2f31199993f56eeec750eb1e1664.png with transparency\n",
      "Processing 648de71ccd6253d3b0c0fc1b9821ce32.jpg with white background\n",
      "Skipping 64ad7ace73c9b9b2d13a5e2e914b5438.jpg due to non-white background\n"
     ]
    },
    {
     "name": "stderr",
     "output_type": "stream",
     "text": [
      "\r",
      "Processing images:  39%|███▊      | 647/1679 [00:56<01:26, 11.96it/s]"
     ]
    },
    {
     "name": "stdout",
     "output_type": "stream",
     "text": [
      "Processing 64ee1c505463b287e23ee9685815247e.jpg with white background\n",
      "Processing 6484dcfb08a5406f43e5d63bc7981c08.jpg with white background\n",
      "Processing 642c7547e82fd8f7e515bc23aba48f8d.jpg with white background\n"
     ]
    },
    {
     "name": "stderr",
     "output_type": "stream",
     "text": [
      "\r",
      "Processing images:  39%|███▊      | 650/1679 [00:57<01:20, 12.75it/s]"
     ]
    },
    {
     "name": "stdout",
     "output_type": "stream",
     "text": [
      "Processing 64f26435418fe17f94c78994df66021b.jpg with white background\n",
      "Processing 6586d308ea233795a4f97fb418c7c739.jpg with white background\n"
     ]
    },
    {
     "name": "stderr",
     "output_type": "stream",
     "text": [
      "Processing images:  39%|███▉      | 656/1679 [00:57<01:11, 14.36it/s]"
     ]
    },
    {
     "name": "stdout",
     "output_type": "stream",
     "text": [
      "Processing 669c5846fc2856f3b72653cf09389cfa.png with transparency\n",
      "Skipping 6629f307b56bee1eb0d4901d8279d6fa.jpg due to non-white background\n",
      "Processing 66d85df852b6934d58b636e23382f368.jpg with white background\n",
      "Processing 6631aff82a5b08239fa315b47eb29bbc.jpg with white background\n",
      "Processing 675a5cbd5196f6a011b6bb8062dde1fe.png with transparency\n",
      "Processing 66632b5a6ba58b0f11d7e91a6b1be82b.png with transparency\n"
     ]
    },
    {
     "name": "stderr",
     "output_type": "stream",
     "text": [
      "\r",
      "Processing images:  39%|███▉      | 658/1679 [00:57<01:11, 14.34it/s]"
     ]
    },
    {
     "name": "stdout",
     "output_type": "stream",
     "text": [
      "Processing 67c73d83b67be5516f6b40eeea672b87.jpg with white background\n",
      "Skipping 654f1af8571e1d2a425699ccbd140555.jpg due to non-white background\n"
     ]
    },
    {
     "name": "stderr",
     "output_type": "stream",
     "text": [
      "Processing images:  39%|███▉      | 662/1679 [00:58<01:23, 12.16it/s]"
     ]
    },
    {
     "name": "stdout",
     "output_type": "stream",
     "text": [
      "Skipping 6794fe2602307350bca506694901f66b.jpg due to non-white background\n",
      "Processing 6804c49dd60f7b5462767efc7201441b.png with transparency\n",
      "Processing 66229b06c8eb502e75e8cf796c02f509.jpg with white background\n",
      "Processing 67f858c507ecebcfda24fa3dcab64053.jpg with white background\n"
     ]
    },
    {
     "name": "stderr",
     "output_type": "stream",
     "text": [
      "\r",
      "Processing images:  40%|███▉      | 664/1679 [00:58<01:28, 11.50it/s]"
     ]
    },
    {
     "name": "stdout",
     "output_type": "stream",
     "text": [
      "Processing 60c1d2e24dbb29f5dd66011c4adcec9d.jpg with white background\n",
      "Skipping 661a8a0e9306613eb0934fe04f800e36.jpg due to non-white background\n"
     ]
    },
    {
     "name": "stderr",
     "output_type": "stream",
     "text": [
      "\r",
      "Processing images:  40%|███▉      | 666/1679 [00:58<01:36, 10.45it/s]"
     ]
    },
    {
     "name": "stdout",
     "output_type": "stream",
     "text": [
      "Processing 67ddfad635d5d826bd32d57cc9b4364a.jpg with white background\n",
      "Skipping 68713e9f275e40d96e3337a197dae99e.jpg due to blurriness (variance of Laplacian)\n",
      "Processing 68e2f734709fd502a1323b633d71e8fa.jpg with white background\n"
     ]
    },
    {
     "name": "stderr",
     "output_type": "stream",
     "text": [
      "Processing images:  40%|████      | 673/1679 [00:58<01:12, 13.87it/s]"
     ]
    },
    {
     "name": "stdout",
     "output_type": "stream",
     "text": [
      "Skipping 62b50b6dc2bb0fa225da7c2ae7b76f5c.jpg due to non-white background\n",
      "Processing 6873a3f58d2df8131c8bab058a2824eb.jpg with white background\n",
      "Processing 68051adc159479a97d23b290a0d136e4.jpg with white background\n",
      "Processing 69eb6985e65313b28fd988c2dfc23cc9.jpg with white background\n",
      "Processing 69d4a26468dee06ea6b3e4764cb40a61.png with transparency\n",
      "Processing 6805502080bf26ada7188ee04653691a.jpg with white background\n",
      "Skipping 69b64f08d63b6dd0572aa4c8c8693a33.jpg due to non-white background\n"
     ]
    },
    {
     "name": "stderr",
     "output_type": "stream",
     "text": [
      "\r",
      "Processing images:  40%|████      | 676/1679 [00:59<01:05, 15.27it/s]"
     ]
    },
    {
     "name": "stdout",
     "output_type": "stream",
     "text": [
      "Processing 6a409735a4572dc5dab793531f8084b0.jpg with white background\n",
      "Processing 698d7c6c46bb232a74c63c69063e26d1.jpg with white background\n",
      "Processing 6a6eedd3dc3035ff8397d53f838c133b.png with transparency\n",
      "Processing 68f72a548f0155ea61d1f4376575c6bb.jpg with white background\n",
      "Processing 6a65bafce7ee4018c6befc0de4afcc00.jpg with white background\n",
      "Processing 68987b630c7883b5df115628e21d03e5.jpg with white background\n"
     ]
    },
    {
     "name": "stderr",
     "output_type": "stream",
     "text": [
      "Processing images:  41%|████      | 681/1679 [00:59<01:13, 13.65it/s]"
     ]
    },
    {
     "name": "stdout",
     "output_type": "stream",
     "text": [
      "Skipping 6a639882a70a21ab82ab5af89881959a.jpg due to non-white background\n",
      "Processing 6ab895e39ecb5235ec94a5736a4b5ad4.png with transparency\n",
      "Processing 69f36f5da4ca7f66de7b0795a7b8a76d.jpg with white background\n"
     ]
    },
    {
     "name": "stderr",
     "output_type": "stream",
     "text": [
      "\r",
      "Processing images:  41%|████      | 683/1679 [00:59<01:30, 11.06it/s]"
     ]
    },
    {
     "name": "stdout",
     "output_type": "stream",
     "text": [
      "Skipping 6aeaff7f6ac04b3940251d12de9c0efa.jpg due to non-white background\n",
      "Processing 6b56c1971b753d88e09dc99b0f55bddf.png with transparency\n",
      "Processing 6b59cb2c7da1d715e214aeaa067f7272.png with transparency\n",
      "Processing 6b670d6a69b34cb6def9ec8da142b66d.png with transparency\n"
     ]
    },
    {
     "name": "stderr",
     "output_type": "stream",
     "text": [
      "Processing images:  41%|████      | 690/1679 [01:00<01:10, 13.99it/s]"
     ]
    },
    {
     "name": "stdout",
     "output_type": "stream",
     "text": [
      "Processing 6ada7aba9f87a29f2f218b5bb826fc5d.jpg with white background\n",
      "Processing 6ba90a8c31224dc7c2e2a93710843d71.jpg with white background\n"
     ]
    },
    {
     "name": "stderr",
     "output_type": "stream",
     "text": [
      "\r",
      "Processing images:  41%|████      | 692/1679 [01:00<01:15, 13.12it/s]"
     ]
    },
    {
     "name": "stdout",
     "output_type": "stream",
     "text": [
      "Processing 6baaad7a516f535b4fc0d0451cca3d16.jpg with white background\n",
      "Processing 6b9176ebad6944ee3ae73747d0571ed9.jpg with white background\n",
      "Processing 6ba94dbbb7bc05a751dea1e602fe3cad.jpg with white background\n"
     ]
    },
    {
     "name": "stderr",
     "output_type": "stream",
     "text": [
      "\r",
      "Processing images:  41%|████▏     | 695/1679 [01:00<01:12, 13.59it/s]"
     ]
    },
    {
     "name": "stdout",
     "output_type": "stream",
     "text": [
      "Processing 6bc2c260f5252ae197cfa6b1dda20762.png with transparency\n",
      "Processing 6ba9cb0c26cefbffc09b1e88427f5f70.jpg with white background\n",
      "Skipping 6bcfd02d3f7d5fb5ad2de37c7a175573.jpg due to non-white background\n"
     ]
    },
    {
     "name": "stderr",
     "output_type": "stream",
     "text": [
      "\r",
      "Processing images:  42%|████▏     | 697/1679 [01:00<01:24, 11.60it/s]"
     ]
    },
    {
     "name": "stdout",
     "output_type": "stream",
     "text": [
      "Processing 6bc064234602f1b99b18b607d9cbbc4b.jpg with white background\n"
     ]
    },
    {
     "name": "stderr",
     "output_type": "stream",
     "text": [
      "Processing images:  42%|████▏     | 701/1679 [01:01<01:32, 10.62it/s]"
     ]
    },
    {
     "name": "stdout",
     "output_type": "stream",
     "text": [
      "Processing 67ec246e1ab2a3ffcdc2f1c5ad2726a2.jpg with white background\n",
      "Processing 6bb3a73d411c2a7105dbde2d6852430d.jpg with white background\n",
      "Processing 6c198ce7dd54b25f06d5e7203ef7d9d3.png with transparency\n",
      "Processing 6bfecf262b39b51083694140541637e5.jpg with white background\n"
     ]
    },
    {
     "name": "stderr",
     "output_type": "stream",
     "text": [
      "\r",
      "Processing images:  42%|████▏     | 705/1679 [01:01<01:37,  9.96it/s]"
     ]
    },
    {
     "name": "stdout",
     "output_type": "stream",
     "text": [
      "Skipping 6b1eb4f09e4d50fe846b3d64ee4e1fc6.jpg due to non-white backgroundProcessing 6d5204c06469eea7d07fcef6a876fcd4.png with transparency\n",
      "\n",
      "Processing 6d0feb4b4c5f56ce8fa54295f059608d.jpg with white background\n",
      "Processing 6c0dd1d29d6ef2910ae664c5dce16b9d.jpg with white background\n",
      "Processing 6dbdaf185a619cee6d0b515795f42d92.png with transparency\n"
     ]
    },
    {
     "name": "stderr",
     "output_type": "stream",
     "text": [
      "Processing images:  42%|████▏     | 711/1679 [01:02<01:16, 12.65it/s]"
     ]
    },
    {
     "name": "stdout",
     "output_type": "stream",
     "text": [
      "Processing 6cee0411fe9f8661e4f7c86e12e0cd6c.jpg with white background\n",
      "Skipping 6d9cb6a84cd4a74efd4c284388f3b5a6.jpg due to non-white background\n",
      "Processing 6c87715f87c1cb33a7da44b05de1cef5.jpg with white background\n",
      "Processing 6cf2ad602a455c519bd452c2afba48f8.jpg with white background\n",
      "Processing 6dd4912e3589cde45f1f6a69d59e2810.jpg with white background\n",
      "Processing 6d48e69b1227d2e774493052469eb2e1.jpg with white background\n"
     ]
    },
    {
     "name": "stderr",
     "output_type": "stream",
     "text": [
      "\r",
      "Processing images:  42%|████▏     | 713/1679 [01:02<01:42,  9.38it/s]"
     ]
    },
    {
     "name": "stdout",
     "output_type": "stream",
     "text": [
      "Processing 6dc910538cbea544b591682150cc544d.jpg with white background\n",
      "Processing 6dc40ef4eaa5587a5634424c580b4270.jpg with white background\n",
      "Processing 6df931570bb01762db33c6579f15a58b.png with transparency\n"
     ]
    },
    {
     "name": "stderr",
     "output_type": "stream",
     "text": [
      "Processing images:  43%|████▎     | 720/1679 [01:02<01:07, 14.13it/s]"
     ]
    },
    {
     "name": "stdout",
     "output_type": "stream",
     "text": [
      "Processing 6df5be986fa03fbfdd9abd6c3bbefb86.png with transparencyProcessing 6a41d4898c7ff2eb17241bb3b68404ad.jpg with white background\n",
      "\n",
      "Processing 6df0f5336acfb86f65633d27beb8c0d9.jpg with white background\n",
      "Processing 6f44904c4f71cd641698788e6dd197f7.png with transparency\n"
     ]
    },
    {
     "name": "stderr",
     "output_type": "stream",
     "text": [
      "\r",
      "Processing images:  43%|████▎     | 723/1679 [01:03<01:18, 12.20it/s]"
     ]
    },
    {
     "name": "stdout",
     "output_type": "stream",
     "text": [
      "Processing 6ff6e9c1c08574ed3fd182bc7db539bb.png with transparency\n",
      "Skipping 6f31c8d4c2cc8f709a5609b0996e8107.jpg due to non-white background\n",
      "Processing 703a12d29e6a52fe4eafee9eb9af2c6c.png with transparency\n",
      "Skipping 6ef5be0b2b693ae69311999857a6263a.jpg due to non-white background\n"
     ]
    },
    {
     "name": "stderr",
     "output_type": "stream",
     "text": [
      "Processing images:  43%|████▎     | 727/1679 [01:03<01:13, 13.02it/s]"
     ]
    },
    {
     "name": "stdout",
     "output_type": "stream",
     "text": [
      "Processing 6f2364d8053b35711eff02611dd57d20.jpg with white background\n",
      "Processing 7041c1fb7a4df08579d1de40abc3d5ee.jpg with white background\n",
      "Processing 6fce058be0f3db26e3d9a528ef1c826f.jpg with white background\n",
      "Processing 6dfe5914f52a826cddec3030b99e0f6c.jpg with white background\n",
      "Processing 7016aa63df695d005459cfe4c63c70e5.jpg with white background\n",
      "Processing 7096b8b8012a936d3cca8ebe97be9b2d.jpg with white background\n",
      "Processing 706d32460b45a448b41b8be417337d3c.jpg with white background\n"
     ]
    },
    {
     "name": "stderr",
     "output_type": "stream",
     "text": [
      "\r",
      "Processing images:  43%|████▎     | 729/1679 [01:04<01:53,  8.33it/s]"
     ]
    },
    {
     "name": "stdout",
     "output_type": "stream",
     "text": [
      "Processing 70c3169598dc8294e2c25ca61c780d03.jpg with white background\n",
      "Processing 6b3f3288a6893280c10f88c2dde7bae7.jpg with white background\n",
      "Processing 70d087dc370d616925b736863bfd938b.jpg with white background\n"
     ]
    },
    {
     "name": "stderr",
     "output_type": "stream",
     "text": [
      "\r",
      "Processing images:  44%|████▎     | 731/1679 [01:04<01:46,  8.88it/s]"
     ]
    },
    {
     "name": "stdout",
     "output_type": "stream",
     "text": [
      "Processing 70e231ee9264f0e4d8717e702bae644c.jpg with white background\n",
      "Processing 712015e668e5073724372f379994a0cb.jpg with white background\n",
      "Processing 712f75a8f216b9e6fc4747470c65291c.png with transparency\n"
     ]
    },
    {
     "name": "stderr",
     "output_type": "stream",
     "text": [
      "Processing images:  44%|████▍     | 738/1679 [01:04<01:15, 12.52it/s]"
     ]
    },
    {
     "name": "stdout",
     "output_type": "stream",
     "text": [
      "Processing 71d4a4f0ef2da144700388f5d5fdf5e1.png with transparency\n",
      "Processing 717287d418290615e4ef1f4c1a659795.png with transparency\n",
      "Processing 7180915bba96e7bbb9997cc20fa5dec0.png with transparency\n",
      "Processing 6c0506453711e52ecc8f5120fa11ce4d.jpg with white background\n",
      "Processing 71f08efb0a3c86566dc6d009def35557.png with transparency\n"
     ]
    },
    {
     "name": "stderr",
     "output_type": "stream",
     "text": [
      "Processing images:  44%|████▍     | 742/1679 [01:05<01:34,  9.92it/s]"
     ]
    },
    {
     "name": "stdout",
     "output_type": "stream",
     "text": [
      "Processing 71e2e87fce8d2bd2af7d03b76c4ddb2c.jpg with white background\n",
      "Processing 72028360797055120844fd6e7e806565.jpg with white background\n",
      "Processing 7114176e5dff376ae51f99ae6b1d8d55.jpg with white background\n"
     ]
    },
    {
     "name": "stderr",
     "output_type": "stream",
     "text": [
      "\r",
      "Processing images:  44%|████▍     | 744/1679 [01:05<01:30, 10.35it/s]"
     ]
    },
    {
     "name": "stdout",
     "output_type": "stream",
     "text": [
      "Processing 71fcb496bea5a145077aecbd4d0bd721.png with transparency\n",
      "Processing 70fc1891a5288e81165da5b57058963a.jpg with white background\n"
     ]
    },
    {
     "name": "stderr",
     "output_type": "stream",
     "text": [
      "\r",
      "Processing images:  44%|████▍     | 746/1679 [01:05<01:31, 10.24it/s]"
     ]
    },
    {
     "name": "stdout",
     "output_type": "stream",
     "text": [
      "An error occurred: cannot identify image file 'image_folder\\\\73322e2b4e22726c9827d7e3cf37e0e4.jpg'\n",
      "Processing 72afc6b0c7d314f2b980ffd4fe750605.jpg with white background\n"
     ]
    },
    {
     "name": "stderr",
     "output_type": "stream",
     "text": [
      "Processing images:  45%|████▍     | 753/1679 [01:06<01:17, 11.91it/s]"
     ]
    },
    {
     "name": "stdout",
     "output_type": "stream",
     "text": [
      "Processing 72d8ec9a7593a4387745fb14c14dd50c.jpg with white background\n",
      "Processing 720bcc6195edfaf4eaaa7426643fe44c.jpg with white background\n"
     ]
    },
    {
     "name": "stderr",
     "output_type": "stream",
     "text": [
      "Processing images:  45%|████▌     | 760/1679 [01:06<01:01, 15.01it/s]"
     ]
    },
    {
     "name": "stdout",
     "output_type": "stream",
     "text": [
      "Processing 72ed83c2cebc56db062da96a00391a94.jpg with white background\n",
      "Processing 6ddf8f02dd61e4606cd5c407e788aed8.jpg with white background\n",
      "Processing 748797220884825f8e627b3b805bbde4.png with transparency\n",
      "Skipping 72fe8f8344b38ec8f400545af1d9c6e7.jpg due to non-white background\n",
      "Processing 72b061414102f95f2bf09995b7a6e6fb.jpg with white background\n",
      "Processing 7506f4453ff63d8a4c18f6bcda4f1620.png with transparency\n",
      "Skipping 74f34cec3041fa07610ae345319f2624.jpg due to non-white background\n",
      "Processing 7354bb885dfb53b255f5255ff381cbe8.jpg with white background\n",
      "Skipping 757a8f78b19aa3c3d8638f0291779632.jpg due to non-white background\n",
      "Skipping 744920f3857284089dce7a33535aa61e.jpg due to non-white background\n",
      "Processing 742808d8125f335f43d67e76a6e28ca9.jpg with white background\n",
      "Processing 752720a0155efa4f773dec22c62b57e5.jpg with white background\n",
      "Skipping 744946cf24a776286a9af70c096e13c0.jpg due to non-white background\n"
     ]
    },
    {
     "name": "stderr",
     "output_type": "stream",
     "text": [
      "\r",
      "Processing images:  46%|████▌     | 764/1679 [01:06<01:04, 14.20it/s]"
     ]
    },
    {
     "name": "stdout",
     "output_type": "stream",
     "text": [
      "Processing 76969a3702e4b00426323cd2f3efd415.png with transparency\n",
      "Processing 766999d2d276eb07852a85d2b460609a.jpg with white background\n",
      "Processing 75daf489ee5e92ceb37a7841bd1940b9.jpg with white background\n",
      "Processing 76d33d31f24e45ba160da673bc0fa98d.jpg with white background\n",
      "Processing 75e0c38fb9efe43915568ff73a9daac1.jpg with white background\n",
      "Processing 7618fcea1afa0545c1cd6fbdd4a3a87a.jpg with white background\n",
      "Processing 72d757494409390540b41c2a6619a9e1.jpg with white background\n"
     ]
    },
    {
     "name": "stderr",
     "output_type": "stream",
     "text": [
      "Processing images:  46%|████▌     | 770/1679 [01:07<01:16, 11.86it/s]"
     ]
    },
    {
     "name": "stdout",
     "output_type": "stream",
     "text": [
      "Processing 76a12d7cca9a47c29a60fa3a9585780a.jpg with white background\n",
      "Processing 7706e30b49404b789427f7d697fb6f83.jpg with white background\n"
     ]
    },
    {
     "name": "stderr",
     "output_type": "stream",
     "text": [
      "Processing images:  46%|████▌     | 775/1679 [01:07<01:07, 13.42it/s]"
     ]
    },
    {
     "name": "stdout",
     "output_type": "stream",
     "text": [
      "Processing 77adf2f92f2f45c135e3a56ec68b3516.jpg with white background\n",
      "Processing 77c3f59f908907ae4c18dd2af5ac866e.png with transparency\n",
      "Processing 7765bbfd7e786e22b5173d0e8584e7b1.jpg with white background\n",
      "Processing 785f451897655e880aca4babed5f3773.png with transparency\n"
     ]
    },
    {
     "name": "stderr",
     "output_type": "stream",
     "text": [
      "\r",
      "Processing images:  46%|████▋     | 779/1679 [01:08<01:00, 14.82it/s]"
     ]
    },
    {
     "name": "stdout",
     "output_type": "stream",
     "text": [
      "Skipping 781f239259a0d7590c1418215f23cc6b.jpg due to non-white background\n",
      "Processing 70ad1dfcdf4be29edad3d6475ed019f8.jpg with white background\n",
      "Processing 77edb33362e10ea304bd8e08a5e86db6.jpg with white background\n",
      "Processing 77496d0b06c25af314194964427f06c8.jpg with white background\n",
      "Processing 77b1151998bb7b5a15a1e337a979c3bb.jpg with white background\n",
      "Processing 77aafadfa5a53ce2d5b10bc8830008b9.jpg with white background\n",
      "Processing 78a0c964d8c263047f0dc0796d92e13d.jpg with white background\n",
      "Processing 78011dee3a1e1abec3bd671fc1d671d9.jpg with white background\n"
     ]
    },
    {
     "name": "stderr",
     "output_type": "stream",
     "text": [
      "\r",
      "Processing images:  47%|████▋     | 782/1679 [01:08<01:51,  8.03it/s]"
     ]
    },
    {
     "name": "stdout",
     "output_type": "stream",
     "text": [
      "Processing 7892823a3f1d4c008054675ce797c6ad.jpg with white background\n",
      "Processing 727211406ef2ff49fef44a197f8577c1.jpg with white background\n"
     ]
    },
    {
     "name": "stderr",
     "output_type": "stream",
     "text": [
      "\r",
      "Processing images:  47%|████▋     | 787/1679 [01:09<01:18, 11.42it/s]"
     ]
    },
    {
     "name": "stdout",
     "output_type": "stream",
     "text": [
      "Processing 78802fdee0f6ebaf0f2962009b332814.jpg with white background\n",
      "Processing 794390fd3bc56d90c4dbbc3f368c0af4.jpg with white background\n",
      "Processing 796fd3b121e9918f8f27082a0ceb0312.png with transparency\n",
      "Processing 792851f8b1bdc855a66ece036eb8c36f.jpg with white background\n",
      "Processing 7917663ba9f9172927c4a9bec4f2495e.jpg with white background\n"
     ]
    },
    {
     "name": "stderr",
     "output_type": "stream",
     "text": [
      "Processing images:  47%|████▋     | 791/1679 [01:09<01:16, 11.63it/s]"
     ]
    },
    {
     "name": "stdout",
     "output_type": "stream",
     "text": [
      "Processing 7a24ad0661f8f628f4d05a3362ada835.png with transparency\n",
      "Processing 7a076e604795bfb0fac4baee573ebe6a.png with transparency\n",
      "Processing 7a5e178892a268e6904ddcd63f559d0c.png with transparency\n",
      "Processing 7a2f0e3cb626cc055fc04492a15ff5c6.png with transparency\n"
     ]
    },
    {
     "name": "stderr",
     "output_type": "stream",
     "text": [
      "\r",
      "Processing images:  47%|████▋     | 794/1679 [01:09<01:10, 12.49it/s]"
     ]
    },
    {
     "name": "stdout",
     "output_type": "stream",
     "text": [
      "Processing 7a64364381e511eda33cfc4e1a8927b0.png with transparency\n",
      "Processing 797855a8f6c8cf317149a6a63aad8742.jpg with white background\n"
     ]
    },
    {
     "name": "stderr",
     "output_type": "stream",
     "text": [
      "Processing images:  48%|████▊     | 798/1679 [01:10<01:31,  9.59it/s]"
     ]
    },
    {
     "name": "stdout",
     "output_type": "stream",
     "text": [
      "Processing 7ad59400a608f880dba674c7cd568309.png with transparency\n"
     ]
    },
    {
     "name": "stderr",
     "output_type": "stream",
     "text": [
      "Processing images:  48%|████▊     | 805/1679 [01:10<00:57, 15.26it/s]"
     ]
    },
    {
     "name": "stdout",
     "output_type": "stream",
     "text": [
      "Processing 7bb50027ebe6de972af4402cdb8ebd4e.png with transparency\n",
      "Processing 7a81930e6465748fc42095da3e56848d.jpg with white background\n",
      "Processing 7a87aeeaa4485253864b2f7108677db6.jpg with white background\n"
     ]
    },
    {
     "name": "stderr",
     "output_type": "stream",
     "text": [
      "\r",
      "Processing images:  48%|████▊     | 808/1679 [01:10<01:14, 11.64it/s]"
     ]
    },
    {
     "name": "stdout",
     "output_type": "stream",
     "text": [
      "Processing 7b6a62f79c1e48697b31d072dd9b2ab6.jpg with white background\n",
      "Skipping 7c3863cf4af0c392c011db964714871e.jpg due to non-white background\n",
      "Processing 7b6d06a0ca5d26c7a77a644a83ead446.jpg with white background\n",
      "Skipping 7cced0dd0c65d122f37bdd44888aa634.jpg due to non-white background\n"
     ]
    },
    {
     "name": "stderr",
     "output_type": "stream",
     "text": [
      "\r",
      "Processing images:  48%|████▊     | 810/1679 [01:11<01:18, 11.06it/s]"
     ]
    },
    {
     "name": "stdout",
     "output_type": "stream",
     "text": [
      "Processing 7af54c5d7ee1d9df5b7903da8c673cdf.jpg with white background\n",
      "Processing 7b5917ac8176f9c62c9b8537dcefeb6c.jpg with white background\n",
      "Processing 7adc7bdd2f68d285a91b0ed85eaa6b04.jpg with white background\n",
      "Processing 7cf0e0bad78317f78b866b300305b740.jpg with white background\n",
      "Processing 7c13aef4406952deabdff68afbfe1d94.jpg with white background\n",
      "Processing 7bdc15af10223319c6b63d87e4ba32d2.jpg with white background\n"
     ]
    },
    {
     "name": "stderr",
     "output_type": "stream",
     "text": [
      "\r",
      "Processing images:  48%|████▊     | 812/1679 [01:11<01:37,  8.89it/s]"
     ]
    },
    {
     "name": "stdout",
     "output_type": "stream",
     "text": [
      "Processing 7d003e84360cb8efd0bc9143f056ef95.jpg with white background\n",
      "Skipping 7af5e5330881fdf29a545241d1a7ed70.jpg due to non-white background\n",
      "Processing 775040f0738fa546c3af45cfff00a54a.jpg with white background\n"
     ]
    },
    {
     "name": "stderr",
     "output_type": "stream",
     "text": [
      "Processing images:  49%|████▊     | 817/1679 [01:12<01:39,  8.65it/s]"
     ]
    },
    {
     "name": "stdout",
     "output_type": "stream",
     "text": [
      "Processing 7d2650567d62043342a8e27cc92f019d.jpg with white background\n"
     ]
    },
    {
     "name": "stderr",
     "output_type": "stream",
     "text": [
      "Processing images:  49%|████▉     | 823/1679 [01:12<01:03, 13.49it/s]"
     ]
    },
    {
     "name": "stdout",
     "output_type": "stream",
     "text": [
      "Skipping 7d07f5acc5049f6e2044e4ef394926e3.jpg due to non-white background\n",
      "Processing 7e1983b3632ccef1b26e6147ea7a4dd0.jpg with white background\n",
      "Processing 7d39af3e616e6c65fd4b8db08894fa97.jpg with white background\n",
      "Processing 7e6cedbfb7605b4dedd15dd6bf85bfdb.jpg with white background\n",
      "Processing 7ebbac64362966e2b997dcb93c1feec1.jpg with white background\n",
      "Processing 7e777d428a2bbe6eb2ed1a41c0a0a285.jpg with white background\n",
      "Processing 7ef2cc333a9e4ec4bc8eb38b72199743.png with transparency\n",
      "Processing 7e81dd45aab78b7b98802102c1f8bdc3.jpg with white background\n"
     ]
    },
    {
     "name": "stderr",
     "output_type": "stream",
     "text": [
      "Processing images:  49%|████▉     | 827/1679 [01:12<01:03, 13.36it/s]"
     ]
    },
    {
     "name": "stdout",
     "output_type": "stream",
     "text": [
      "Processing 78508b32a4d8957c02ae88c45923dd85.jpg with white backgroundSkipping 7ec3a0a50fefa8a86298bbb91614a4b7.jpg due to non-white background\n",
      "\n",
      "Processing 7e824927ba0372b023fc3f4a6fb056bd.jpg with white background\n"
     ]
    },
    {
     "name": "stderr",
     "output_type": "stream",
     "text": [
      "\r",
      "Processing images:  49%|████▉     | 829/1679 [01:13<01:37,  8.70it/s]"
     ]
    },
    {
     "name": "stdout",
     "output_type": "stream",
     "text": [
      "Processing 7f8a947010700f48db152f09ea28caae.jpg with white background\n",
      "Processing 7ee76c66eb3069703ad9ef2746303763.jpg with white background\n",
      "Processing 80234b607b2d6a8cbecff3d4b1af1581.png with transparency\n",
      "Processing 7ff3dc8592da79379f1f5542100f50c0.jpg with white background\n",
      "Skipping 7fc896e0e1cad584f2af5bce6c72cb11.jpg due to non-white background\n",
      "Processing 7ed5c4d6a4cecf6ffc4346ac68ee0478.jpg with white background\n"
     ]
    },
    {
     "name": "stderr",
     "output_type": "stream",
     "text": [
      "\r",
      "Processing images:  49%|████▉     | 831/1679 [01:13<01:39,  8.51it/s]"
     ]
    },
    {
     "name": "stdout",
     "output_type": "stream",
     "text": [
      "Processing 7fbdbae0c8cbdb6539e60706cea40a8b.jpg with white background\n",
      "Processing 7933c2897fadffc59f00c7a7ca1566d1.jpg with white background\n",
      "Processing 8036e439bfdc34814fffb15f36a74dc2.jpg with white background\n"
     ]
    },
    {
     "name": "stderr",
     "output_type": "stream",
     "text": [
      "\r",
      "Processing images:  50%|████▉     | 835/1679 [01:13<01:08, 12.36it/s]"
     ]
    },
    {
     "name": "stdout",
     "output_type": "stream",
     "text": [
      "Processing 812c962a1e28c4efdee87da6b2082cb4.png with transparency\n",
      "Processing 79dbae1da459d97b6d3848e597bff4d7.jpg with white background\n",
      "Processing 809d670356ae2dbb14216ad1a2d01a0b.jpg with white background\n"
     ]
    },
    {
     "name": "stderr",
     "output_type": "stream",
     "text": [
      "Processing images:  50%|████▉     | 839/1679 [01:13<01:25,  9.82it/s]"
     ]
    },
    {
     "name": "stdout",
     "output_type": "stream",
     "text": [
      "Processing 808569a049e97f96857574a2d6ff1fd4.jpg with white background\n",
      "Skipping 81924465e676119a899c8d50b59d1ca6.jpg due to non-white background\n",
      "Processing 8082491b7337bfd211af30b2474d0b7b.jpg with white background\n",
      "Processing 811839d221d03dd3c6b13e2256715dc9.jpg with white background\n",
      "Skipping 81c3897c7dabf60b4d5f885b26c4c172.jpg due to non-white background\n"
     ]
    },
    {
     "name": "stderr",
     "output_type": "stream",
     "text": [
      "\r",
      "Processing images:  50%|█████     | 844/1679 [01:14<00:55, 14.99it/s]"
     ]
    },
    {
     "name": "stdout",
     "output_type": "stream",
     "text": [
      "Processing 81977474ac631f0ad207a2e462ee8e5c.jpg with white background\n",
      "Processing 8230fe542636b7f873bb022428be4e39.jpg with white background\n",
      "Processing 81c7e7bd79f3d61f15f19fc29e40e00c.jpg with white background\n"
     ]
    },
    {
     "name": "stderr",
     "output_type": "stream",
     "text": [
      "Processing images:  51%|█████     | 848/1679 [01:14<01:01, 13.53it/s]"
     ]
    },
    {
     "name": "stdout",
     "output_type": "stream",
     "text": [
      "Processing 82b1921ef69f22c338cd9dbb606702ed.jpg with white background\n",
      "Processing 83377adb68e296916953dbc3ffbe8ab1.jpg with white background\n",
      "Skipping 81edc4049bde5db5b04427a061d2a347.jpg due to non-white background\n",
      "Processing 839f328c3f2eeb028dbff1b4584b8a4f.png with transparency\n",
      "Processing 81fb0b6c9bb14e011f8444005f07b4b2.jpg with white background\n",
      "Processing 8268fc8c0cbde38f22ad6a131b3049ea.jpg with white background\n",
      "Processing 81e77e19e0c163910daf73d6aec3f01d.jpg with white background\n"
     ]
    },
    {
     "name": "stderr",
     "output_type": "stream",
     "text": [
      "\r",
      "Processing images:  51%|█████     | 850/1679 [01:14<01:08, 12.05it/s]"
     ]
    },
    {
     "name": "stdout",
     "output_type": "stream",
     "text": [
      "Skipping 83fc577a48625435ddb9633426084c38.jpg due to non-white background\n"
     ]
    },
    {
     "name": "stderr",
     "output_type": "stream",
     "text": [
      "Processing images:  51%|█████     | 859/1679 [01:15<00:49, 16.44it/s]"
     ]
    },
    {
     "name": "stdout",
     "output_type": "stream",
     "text": [
      "Skipping 841f68d4c4baa339aea40ab44f5eaf67.jpg due to non-white background\n",
      "Skipping 84b45aecb47a33d8519717de9f085b99.jpg due to non-white background\n"
     ]
    },
    {
     "name": "stderr",
     "output_type": "stream",
     "text": [
      "Processing images:  51%|█████▏    | 863/1679 [01:15<00:54, 14.86it/s]"
     ]
    },
    {
     "name": "stdout",
     "output_type": "stream",
     "text": [
      "Processing 847f6c14ab49521477d5f964fa9b0559.jpg with white background\n",
      "Processing 84ad54ecc3159e81a5e8626a4b214e3c.jpg with white background\n",
      "Processing 8688a81aca4341051562f3d01c483218.png with transparency\n",
      "Processing 7ed57362098eeee1a2f3c5c1327f76ab.jpg with white background\n"
     ]
    },
    {
     "name": "stderr",
     "output_type": "stream",
     "text": [
      "Processing images:  52%|█████▏    | 869/1679 [01:15<00:47, 17.06it/s]"
     ]
    },
    {
     "name": "stdout",
     "output_type": "stream",
     "text": [
      "Processing 868a8fcb0eee8d838a14ef96de52cc62.png with transparency\n",
      "Processing 864c5f75c4dbff2b05da0e6e35330b77.jpg with white background\n",
      "Processing 84b9f1fc7c97f4f20d4a28160168a3a2.jpg with white background\n",
      "Skipping 85f784c778fa4decd2469244a4c4339f.jpg due to non-white background\n",
      "Processing 857e92c86f812ce19a8c1f8aa320c589.jpg with white background\n",
      "Processing 84bb4d2d5f26629dbf25d2435f987618.jpg with white background\n",
      "Processing 8714c81eb723874e1c8987206c58b07c.png with transparency\n"
     ]
    },
    {
     "name": "stderr",
     "output_type": "stream",
     "text": [
      "\r",
      "Processing images:  52%|█████▏    | 871/1679 [01:16<01:35,  8.43it/s]"
     ]
    },
    {
     "name": "stdout",
     "output_type": "stream",
     "text": [
      "Processing 862bfb6893dae177ff297257e0c6fc3b.jpg with white background\n",
      "Processing 85d00c998be0625d87a78356e520eaa5.jpg with white background\n",
      "Skipping 8719a45ec19d717112078550f196f106.jpg due to non-white background\n",
      "Processing 86c88f8e685be00d8e7d006642e4e1f1.jpg with white background\n",
      "Processing 86d673a2bf44e2b365bbe3f6ca59d67f.jpg with white background\n"
     ]
    },
    {
     "name": "stderr",
     "output_type": "stream",
     "text": [
      "Processing images:  52%|█████▏    | 875/1679 [01:16<01:20, 10.02it/s]"
     ]
    },
    {
     "name": "stdout",
     "output_type": "stream",
     "text": [
      "Processing 86f8089a6fd18948b6a8885f84299c30.jpg with white background\n",
      "Processing 872e15dbf6bf7c5afcf8071f12d5ac1d.jpg with white background\n",
      "Processing 874dc0d3edba411c0d98f06f35f227ab.png with transparency\n",
      "Processing 8713deb256aa6eeb7bcba8ea417fcf15.jpg with white background\n",
      "Skipping 877ab32668eb57212970c9e330a9b4ad.jpg due to non-white background\n",
      "Processing 878fdd8ba4f31bcb96bddaf566849d32.png with transparency\n"
     ]
    },
    {
     "name": "stderr",
     "output_type": "stream",
     "text": [
      "Processing images:  52%|█████▏    | 879/1679 [01:17<01:17, 10.39it/s]"
     ]
    },
    {
     "name": "stdout",
     "output_type": "stream",
     "text": [
      "Processing 87f015eb287d35bd4cad6fc5c6425724.png with transparency\n",
      "Processing 87f8950ec2881aa86c50222564f87a0c.png with transparency\n",
      "Processing 88373f8c4487ebab6635da12c63113fd.png with transparency\n"
     ]
    },
    {
     "name": "stderr",
     "output_type": "stream",
     "text": [
      "Processing images:  53%|█████▎    | 884/1679 [01:17<01:08, 11.65it/s]"
     ]
    },
    {
     "name": "stdout",
     "output_type": "stream",
     "text": [
      "Processing 87a8b3b46173c26a7a82310ba12e0f88.jpg with white background\n",
      "Processing 87c469514d9ad2b20458617f62ead59e.jpg with white background\n",
      "Processing 88e484f4e4f1477054c0e799adb7e206.png with transparency\n",
      "Processing 883419622080aa57d1500539a5839e04.jpg with white background\n"
     ]
    },
    {
     "name": "stderr",
     "output_type": "stream",
     "text": [
      "\r",
      "Processing images:  53%|█████▎    | 887/1679 [01:17<00:59, 13.32it/s]"
     ]
    },
    {
     "name": "stdout",
     "output_type": "stream",
     "text": [
      "Processing 8893fa7179df6df8133b108d388e7384.jpg with white background\n",
      "Processing 87ee1c953f1f10a8a3de3391f368c33e.jpg with white background\n"
     ]
    },
    {
     "name": "stderr",
     "output_type": "stream",
     "text": [
      "\r",
      "Processing images:  53%|█████▎    | 891/1679 [01:17<00:54, 14.49it/s]"
     ]
    },
    {
     "name": "stdout",
     "output_type": "stream",
     "text": [
      "Skipping 88fabbc0d8f8f8989efaf73a6e0588a3.jpg due to non-white background\n",
      "Processing 88b6199792032b891a3f1020c45eb400.jpg with white background\n",
      "Processing 88ebd8bf182bbc05dc7b193b56662311.jpg with white background\n",
      "Processing 88f8ed5ba5bff7a9dc00a71774a8fd4d.jpg with white background\n",
      "Processing 8457218c0c7dca04e8a7033395c65eee.jpg with white background\n",
      "Processing 8911ddeb732e1caadc7a1b7a913e9a5f.jpg with white background\n",
      "Processing 89518711ce4b47310a9286b1e47231c1.jpg with white background\n"
     ]
    },
    {
     "name": "stderr",
     "output_type": "stream",
     "text": [
      "\r",
      "Processing images:  53%|█████▎    | 893/1679 [01:18<01:31,  8.60it/s]"
     ]
    },
    {
     "name": "stdout",
     "output_type": "stream",
     "text": [
      "Processing 8954163e15bb4bfc3c596758a5bf03e1.jpg with white background\n"
     ]
    },
    {
     "name": "stderr",
     "output_type": "stream",
     "text": [
      "\r",
      "Processing images:  53%|█████▎    | 895/1679 [01:18<01:29,  8.74it/s]"
     ]
    },
    {
     "name": "stdout",
     "output_type": "stream",
     "text": [
      "Processing 8575b0769b3eda937b3dd31bae2136de.jpg with white background\n",
      "Processing 88d2d86dd7454fbbd86990a3800fe59f.jpg with white background\n",
      "Processing 899cd22bc1435f243198841adfb7963e.png with transparency\n",
      "Processing 899096bb5f05a2dac273148b71ea6cfa.jpg with white background\n"
     ]
    },
    {
     "name": "stderr",
     "output_type": "stream",
     "text": [
      "Processing images:  54%|█████▎    | 901/1679 [01:19<01:09, 11.24it/s]"
     ]
    },
    {
     "name": "stdout",
     "output_type": "stream",
     "text": [
      "Skipping 896b924248321e73026c8152c2f7b134.jpg due to non-white background\n",
      "Processing 89d3f4ac611dec6c4b9a44659adfa17d.jpg with white background\n",
      "Processing 89b2897274fac6efc677a44cba14db97.jpg with white background\n",
      "Processing 8a109bb2d04f22dd53b05bf04e1b8a4e.jpg with white background\n",
      "Processing 898856740197fce76177bb90fe775529.jpg with white background\n",
      "Processing 8a8f6e0976c7b180fb9e24ba32c2c9d1.png with transparency\n"
     ]
    },
    {
     "name": "stderr",
     "output_type": "stream",
     "text": [
      "\r",
      "Processing images:  54%|█████▍    | 903/1679 [01:19<01:03, 12.14it/s]"
     ]
    },
    {
     "name": "stdout",
     "output_type": "stream",
     "text": [
      "Processing 8a6535776534a9de45e86afb56593c95.jpg with white background\n",
      "Processing 851638e16d4880cc838a96ea8d0b8c62.jpg with white background\n"
     ]
    },
    {
     "name": "stderr",
     "output_type": "stream",
     "text": [
      "Processing images:  54%|█████▍    | 911/1679 [01:19<00:59, 12.83it/s]"
     ]
    },
    {
     "name": "stdout",
     "output_type": "stream",
     "text": [
      "Processing 8ad37697daeb73938dd674ddf9e783ea.jpg with white background\n",
      "Processing 8aa070f72e6b8922b6820d45f72e150a.jpg with white background\n",
      "Skipping 8bc4516d91a7472b20de4b176a3b9014.jpg due to blurriness (variance of Laplacian)\n",
      "Processing 8aba6fc2d63aa823d7f8358f40148b09.jpg with white background\n",
      "Processing 8cc43174e4b7e4985c342eaf63e6a2bd.png with transparency\n",
      "Processing 8b288c05aac7bd8fa000078d1963ab58.jpg with white background\n"
     ]
    },
    {
     "name": "stderr",
     "output_type": "stream",
     "text": [
      "Processing images:  55%|█████▍    | 918/1679 [01:20<00:50, 15.05it/s]"
     ]
    },
    {
     "name": "stdout",
     "output_type": "stream",
     "text": [
      "Processing 8d1c4d4491f272d0de43e88165983004.png with transparency\n",
      "Processing 8ae1c77655ee202ebf0c1fde52d187ac.jpg with white background\n",
      "Processing 8d6d4f25471cd34c705d9d4c5bf70c44.png with transparency\n",
      "Processing 8d5646e74853f5290e33a435996262d2.jpg with white background\n",
      "Processing 8c62df25ef49b161d579463455f02c07.jpg with white background\n"
     ]
    },
    {
     "name": "stderr",
     "output_type": "stream",
     "text": [
      "\r",
      "Processing images:  55%|█████▍    | 920/1679 [01:20<01:02, 12.24it/s]"
     ]
    },
    {
     "name": "stdout",
     "output_type": "stream",
     "text": [
      "Skipping 8dff3b979b5a448ee460a482e5e69e68.jpg due to blurriness (variance of Laplacian)\n",
      "Processing 8d3838c44fa8e2ae0df413ee270b90ff.jpg with white background\n",
      "Processing 8b971b30cb3774042d66b120e0b1a7e2.jpg with white background\n"
     ]
    },
    {
     "name": "stderr",
     "output_type": "stream",
     "text": [
      "\r",
      "Processing images:  55%|█████▍    | 922/1679 [01:20<01:12, 10.46it/s]"
     ]
    },
    {
     "name": "stdout",
     "output_type": "stream",
     "text": [
      "Processing 8d050b3c90572ca3b67c697be269208d.jpg with white background\n",
      "Processing 8eef12c23b52ab3aead72c0be643e635.jpg with white background\n",
      "Processing 8eb96cd6e506809b214966400dc5f1b6.jpg with white background\n"
     ]
    },
    {
     "name": "stderr",
     "output_type": "stream",
     "text": [
      "Processing images:  55%|█████▌    | 926/1679 [01:21<01:08, 11.06it/s]"
     ]
    },
    {
     "name": "stdout",
     "output_type": "stream",
     "text": [
      "Processing 8e181ffcd906ebc3d7a4c1b1b7397f8b.jpg with white background\n",
      "Processing 8f3b30abf92305609821581f4e69d9ed.jpg with white background\n"
     ]
    },
    {
     "name": "stderr",
     "output_type": "stream",
     "text": [
      "\r",
      "Processing images:  55%|█████▌    | 928/1679 [01:21<01:03, 11.87it/s]"
     ]
    },
    {
     "name": "stdout",
     "output_type": "stream",
     "text": [
      "Processing 8f8d151fbd0baad16373b53933e5c25e.jpg with white background\n",
      "Processing 900588ef6ec72638cc4792929ceeebf9.png with transparency\n",
      "Processing 905d66a53dceca75a82e0407ca274662.png with transparency\n",
      "Processing 8ef925c88ae8238fe0d259c8c01a6674.jpg with white background\n",
      "Processing 8f03eff8bab468ee8a2a992752ab40fc.jpg with white background\n"
     ]
    },
    {
     "name": "stderr",
     "output_type": "stream",
     "text": [
      "\r",
      "Processing images:  55%|█████▌    | 930/1679 [01:21<00:57, 13.11it/s]"
     ]
    },
    {
     "name": "stdout",
     "output_type": "stream",
     "text": [
      "Processing 8f7cda71d42cdce4c5f0c7c621ffa4d3.jpg with white background\n",
      "Processing 8839559703764010961f4520ad17c333.jpg with white background\n",
      "Processing 909ec6a046a571cec71fa3cb54f572f4.png with transparency\n",
      "Processing 8f9ec1e31848df0ac6f72e36688caa86.jpg with white background\n"
     ]
    },
    {
     "name": "stderr",
     "output_type": "stream",
     "text": [
      "Processing images:  56%|█████▌    | 935/1679 [01:22<01:10, 10.52it/s]"
     ]
    },
    {
     "name": "stdout",
     "output_type": "stream",
     "text": [
      "Processing 90ebd8215149aaac9c0c6532fcb2816c.png with transparency\n"
     ]
    },
    {
     "name": "stderr",
     "output_type": "stream",
     "text": [
      "\r",
      "Processing images:  56%|█████▌    | 938/1679 [01:22<01:04, 11.52it/s]"
     ]
    },
    {
     "name": "stdout",
     "output_type": "stream",
     "text": [
      "Processing 909f9bc6db65d41d2d6fbfae45b7fb61.jpg with white background\n",
      "Skipping 91475ea61b3f5ef81b0ef3561398194c.jpg due to non-white background\n",
      "Processing 91b24609f87f1eeb0e931fd001f32d48.jpg with white background\n",
      "Processing 90b47dc2f8f6f4dfebc205ca0ef8baf3.jpg with white background\n"
     ]
    },
    {
     "name": "stderr",
     "output_type": "stream",
     "text": [
      "Processing images:  56%|█████▋    | 945/1679 [01:22<00:48, 14.98it/s]"
     ]
    },
    {
     "name": "stdout",
     "output_type": "stream",
     "text": [
      "Processing 90cafff2fe4d2866c2144ed0206ae7af.jpg with white background\n",
      "Skipping 91ed167a9f580cffbe064211dd99c33b.jpg due to non-white background\n",
      "Processing 925d0cef5c431c6785cd6317cd2b9033.png with transparency\n",
      "Processing 9251552061f2faf033018db5c44a55fe.jpg with white background\n"
     ]
    },
    {
     "name": "stderr",
     "output_type": "stream",
     "text": [
      "\r",
      "Processing images:  56%|█████▋    | 947/1679 [01:22<00:50, 14.42it/s]"
     ]
    },
    {
     "name": "stdout",
     "output_type": "stream",
     "text": [
      "Processing 91b82da3064723aae602f54383ba50d0.jpg with white background\n",
      "Skipping 92cbebc57585b3a6e9ca2fecdfe2e1e8.jpg due to non-white background\n",
      "Processing 9211bdd9f993e0b9d664c67c4ecf22f7.jpg with white background\n"
     ]
    },
    {
     "name": "stderr",
     "output_type": "stream",
     "text": [
      "\r",
      "Processing images:  57%|█████▋    | 949/1679 [01:23<01:03, 11.51it/s]"
     ]
    },
    {
     "name": "stdout",
     "output_type": "stream",
     "text": [
      "Processing 92f2d853ea3e3ed887383491f8c51ae0.jpg with white background\n",
      "Processing 93641f099198150a985b4e2027bdc0a3.jpg with white background\n"
     ]
    },
    {
     "name": "stderr",
     "output_type": "stream",
     "text": [
      "\r",
      "Processing images:  57%|█████▋    | 951/1679 [01:23<01:19,  9.11it/s]"
     ]
    },
    {
     "name": "stdout",
     "output_type": "stream",
     "text": [
      "Processing 9362edfa6d4bc8818b08f7102a9f12e9.jpg with white background\n",
      "Skipping 93518947675fe037402bf804848dde0b.jpg due to non-white background\n",
      "Processing 938d836e37502f379faf5bb2069dca03.jpg with white background\n",
      "Processing 8aac312880dab37806ec2b136c151759.jpg with white background\n",
      "Processing 92fd8b7cc81120f796ec2ebf1e86f374.jpg with white background\n"
     ]
    },
    {
     "name": "stderr",
     "output_type": "stream",
     "text": [
      "Processing images:  57%|█████▋    | 956/1679 [01:23<00:57, 12.51it/s]"
     ]
    },
    {
     "name": "stdout",
     "output_type": "stream",
     "text": [
      "Skipping 91f2bf8cc0d5581006684c342ab783a4.jpg due to non-white background\n"
     ]
    },
    {
     "name": "stderr",
     "output_type": "stream",
     "text": [
      "Processing images:  57%|█████▋    | 961/1679 [01:24<01:01, 11.75it/s]"
     ]
    },
    {
     "name": "stdout",
     "output_type": "stream",
     "text": [
      "Processing 9391aa6871ee237943db79ffe29afd1a.jpg with white background\n",
      "Processing 9449794c20583f971c0436b1c61d2659.png with transparency\n",
      "Processing 9391496d174d68b30fe3fd997846914b.jpg with white background\n",
      "Processing 93ed0893bdeb610eb068eb873f0a8047.jpg with white background\n",
      "Processing 9445532520e9aa2dd402ea22237b78e4.jpg with white background\n",
      "Processing 9391e10fdefa5c9689e9e04b3fe52685.jpg with white background\n",
      "Skipping 94b5ac757254c837d67db4584d158018.jpg due to non-white background\n"
     ]
    },
    {
     "name": "stderr",
     "output_type": "stream",
     "text": [
      "\r",
      "Processing images:  57%|█████▋    | 963/1679 [01:24<00:55, 12.87it/s]"
     ]
    },
    {
     "name": "stdout",
     "output_type": "stream",
     "text": [
      "Processing 93c8028e04701e2019b0e866de382838.jpg with white background\n",
      "Processing 9423244220ffcd429e04b3589b00fc41.jpg with white background\n",
      "Processing 9529bc486bdea2214b2f18ff35e40d3a.jpg with white background\n"
     ]
    },
    {
     "name": "stderr",
     "output_type": "stream",
     "text": [
      "Processing images:  58%|█████▊    | 969/1679 [01:24<00:59, 11.88it/s]"
     ]
    },
    {
     "name": "stdout",
     "output_type": "stream",
     "text": [
      "Processing 94d080da3e5a1a1124a96f0672ee70f5.jpg with white background\n",
      "Skipping 95792f2e18f09478f3efd1a7992f6b0c.jpg due to non-white background\n",
      "Skipping 9559c683e1362e49558492cdd16f1383.jpg due to blurriness (variance of Laplacian)\n",
      "Processing 94bc9449e32d6ab3f6341dde960ffa08.jpg with white background\n",
      "Skipping 959c13efd09ea3667d5ef0c5e4a4c5bf.jpg due to non-white background\n",
      "Processing 9515e0343ebb1f21ab9ad1782a2088f9.jpg with white background\n"
     ]
    },
    {
     "name": "stderr",
     "output_type": "stream",
     "text": [
      "\r",
      "Processing images:  58%|█████▊    | 973/1679 [01:25<00:43, 16.24it/s]"
     ]
    },
    {
     "name": "stdout",
     "output_type": "stream",
     "text": [
      "Skipping 9605512674918642099863a437269d28.jpg due to non-white background\n",
      "Processing 96055cb9cbd1775fea0dac285bf90eda.png with transparency\n",
      "Processing 905f9025356a76c494a663dabb2bd3cf.jpg with white background\n",
      "Processing 969d2e5a02d62745344286c5f5c2d5e3.jpg with white background\n"
     ]
    },
    {
     "name": "stderr",
     "output_type": "stream",
     "text": [
      "\r",
      "Processing images:  58%|█████▊    | 975/1679 [01:25<00:55, 12.72it/s]"
     ]
    },
    {
     "name": "stdout",
     "output_type": "stream",
     "text": [
      "Skipping 963823f5649db6bb0525bc3345c639d1.jpg due to non-white background\n",
      "Processing 92294ee0105cdc2af5a7232c67d03538.jpg with white background\n",
      "Processing 96ada34eda1768e3e94ff38e767df74f.jpg with white background\n"
     ]
    },
    {
     "name": "stderr",
     "output_type": "stream",
     "text": [
      "Processing images:  58%|█████▊    | 979/1679 [01:25<00:56, 12.46it/s]"
     ]
    },
    {
     "name": "stdout",
     "output_type": "stream",
     "text": [
      "Processing 96c80fcd97b936f7d594389c2011f385.jpg with white background\n",
      "Processing 973b332ce215fe46cf9308e87c3db1c5.png with transparency\n",
      "Processing 906e7364e4a676c6c3bcd98c8d4adc2e.jpg with white background\n",
      "Processing 96f82e7803661229290bb64ffc27f16a.jpg with white background\n",
      "Skipping 95e788ef44cb769dcc2c26af0571a0a0.jpg due to non-white background\n",
      "Processing 96f94408b1a3ec6647fc84c12bc05fbd.jpg with white background\n",
      "Processing 979d5d0e2f7ea06867dd57cfdd514431.jpg with white background\n",
      "Processing 971e9c4c82c58ba66e884f1eca456aba.jpg with white background\n"
     ]
    },
    {
     "name": "stderr",
     "output_type": "stream",
     "text": [
      "Processing images:  59%|█████▉    | 989/1679 [01:26<00:35, 19.40it/s]"
     ]
    },
    {
     "name": "stdout",
     "output_type": "stream",
     "text": [
      "Processing 986b1df4355b2244434c0fe5ef119234.png with transparency\n",
      "Skipping 985d81e6579a6c6d3a69c25de67e1616.jpg due to non-white background\n",
      "Processing 98a249f22070782800354c306fd06645.png with transparency\n",
      "Processing 9836176d037aedb78adb9b2577e57e72.jpg with white background\n"
     ]
    },
    {
     "name": "stderr",
     "output_type": "stream",
     "text": [
      "\r",
      "Processing images:  59%|█████▉    | 992/1679 [01:26<00:49, 13.94it/s]"
     ]
    },
    {
     "name": "stdout",
     "output_type": "stream",
     "text": [
      "Processing 989ce91cbd758c7be228b507a1f6a114.jpg with white background\n",
      "Processing 98bba8cd93188f6d8e95ecc6eec53c1a.png with transparency\n",
      "Processing 98b252bdbc35a2049f5820ce0e454591.jpg with white background\n",
      "Skipping 9886afb601be2502ab5b850ecc29b496.jpg due to non-white background\n"
     ]
    },
    {
     "name": "stderr",
     "output_type": "stream",
     "text": [
      "\r",
      "Processing images:  59%|█████▉    | 994/1679 [01:26<00:49, 13.89it/s]"
     ]
    },
    {
     "name": "stdout",
     "output_type": "stream",
     "text": [
      "Processing 97f484b2467057f4e6530c6ba2fc732a.jpg with white background\n",
      "Processing 97e910fb2adfdd84df88240c887024a5.jpg with white background\n",
      "Processing 98df7751a0101b6c24dff89b8add631f.jpg with white background\n",
      "Skipping 99430eb31ee00838ebabc8a716865f0a.jpg due to non-white background\n",
      "Processing 9864cd02bc5a95733379b19daa9ad3a5.jpg with white background\n"
     ]
    },
    {
     "name": "stderr",
     "output_type": "stream",
     "text": [
      "\r",
      "Processing images:  59%|█████▉    | 996/1679 [01:26<00:47, 14.37it/s]"
     ]
    },
    {
     "name": "stdout",
     "output_type": "stream",
     "text": [
      "Processing 996ac6c278825aed50d4fc087df6355f.jpg with white background\n",
      "Processing 995bb2d3642196e38ebc13dc70bbb077.png with transparency\n"
     ]
    },
    {
     "name": "stderr",
     "output_type": "stream",
     "text": [
      "Processing images:  60%|█████▉    | 1002/1679 [01:27<00:42, 15.76it/s]"
     ]
    },
    {
     "name": "stdout",
     "output_type": "stream",
     "text": [
      "Processing 99e0fda061d7809644eb91a879f5c425.png with transparency\n",
      "Skipping 99c5665317dfa6757caf94a48fd66de2.jpg due to non-white background\n",
      "Processing 99f73af764a5952e54665048713254b4.png with transparency\n",
      "Processing 99edf063c5cb6f5d11696d00783183ba.png with transparency\n"
     ]
    },
    {
     "name": "stderr",
     "output_type": "stream",
     "text": [
      "Processing images:  60%|█████▉    | 1006/1679 [01:27<00:42, 15.91it/s]"
     ]
    },
    {
     "name": "stdout",
     "output_type": "stream",
     "text": [
      "Processing 99c3a8f7a6aea8c33bec5f7b82dac941.jpg with white background\n",
      "Processing 9a15b824d80104bd69a61e758eb71608.png with transparency\n",
      "Processing 99fc7452d2d885f4621f8610bfb0b293.jpg with white background\n",
      "Processing 9a093ad67598706aef130a0818146f6e.jpg with white background\n",
      "Processing 99b1a4deafa72e0527cd9b677efde946.jpg with white background\n"
     ]
    },
    {
     "name": "stderr",
     "output_type": "stream",
     "text": [
      "\r",
      "Processing images:  60%|██████    | 1008/1679 [01:27<00:52, 12.77it/s]"
     ]
    },
    {
     "name": "stdout",
     "output_type": "stream",
     "text": [
      "Processing 99e81354de6d34a61424151378080417.jpg with white background\n",
      "Processing 9a27f85fb0f43e68fa6fee3339eeaedf.jpg with white background\n",
      "Skipping 984417ea223488dec707d8b5c24c1c0f.jpg due to non-white background\n"
     ]
    },
    {
     "name": "stderr",
     "output_type": "stream",
     "text": [
      "Processing images:  60%|██████    | 1014/1679 [01:27<00:42, 15.77it/s]"
     ]
    },
    {
     "name": "stdout",
     "output_type": "stream",
     "text": [
      "Skipping 9a65ba060fd04f3486aa570149f29f21.png due to non-white background\n",
      "Processing 9a95e51fe69e9357e54f65faa5ac4e6d.png with transparency\n",
      "Processing 9afb8f2cbd162b9a88e659b6151981e1.jpg with white background\n",
      "Processing 9a6fb384bd994b28718389535adc3f75.jpg with white background\n"
     ]
    },
    {
     "name": "stderr",
     "output_type": "stream",
     "text": [
      "Processing images:  61%|██████    | 1019/1679 [01:28<00:42, 15.67it/s]"
     ]
    },
    {
     "name": "stdout",
     "output_type": "stream",
     "text": [
      "Processing 9ba5728f13a308b65f01896a3f85c40a.png with transparency\n",
      "Processing 9ba9f68a82a31df0b504a64e477739e5.png with transparency\n",
      "Skipping 9c1203cc5c4bb85127f3fa683a912225.jpg due to non-white background\n"
     ]
    },
    {
     "name": "stderr",
     "output_type": "stream",
     "text": [
      "\r",
      "Processing images:  61%|██████    | 1022/1679 [01:28<00:38, 17.00it/s]"
     ]
    },
    {
     "name": "stdout",
     "output_type": "stream",
     "text": [
      "Processing 9a744970db13a6a15c7545f568374ac7.jpg with white background\n",
      "Processing 9c27a4e0224e75f997410741ced3518e.jpg with white background\n",
      "Processing 9b94513bc8b93cfac5a19b8f68c31f19.jpg with white background\n",
      "Processing 9b04d80020f4dfb2a245c17310325fae.jpg with white background\n"
     ]
    },
    {
     "name": "stderr",
     "output_type": "stream",
     "text": [
      "Processing images:  61%|██████    | 1028/1679 [01:28<00:35, 18.33it/s]"
     ]
    },
    {
     "name": "stdout",
     "output_type": "stream",
     "text": [
      "Skipping 9c5a3412be564d44a57c22d1ddd95902.jpg due to non-white background\n",
      "Processing 9bfc696e42c1ffd26e3e69ad4fc1d3bb.jpg with white background\n",
      "Processing 9cb9a490bc12a9452b8faa5ef51cd25c.png with transparency\n",
      "Processing 9db3ef0a904a2f98394e92588bd79282.png with transparency\n",
      "Processing 9ce488f937fdda893589b57197ef037d.png with transparency\n",
      "Processing 9d43d90b2ece0d5b75286177b6cdbf1e.png with transparency\n"
     ]
    },
    {
     "name": "stderr",
     "output_type": "stream",
     "text": [
      "\r",
      "Processing images:  61%|██████▏   | 1030/1679 [01:28<00:47, 13.73it/s]"
     ]
    },
    {
     "name": "stdout",
     "output_type": "stream",
     "text": [
      "Processing 9c59b24691a1b7185643c0c7de1d7b62.jpg with white backgroundSkipping 9ce07d5a03801eb2e3d59df4f34534f9.jpg due to non-white background\n",
      "\n"
     ]
    },
    {
     "name": "stderr",
     "output_type": "stream",
     "text": [
      "\r",
      "Processing images:  62%|██████▏   | 1034/1679 [01:29<00:35, 18.28it/s]"
     ]
    },
    {
     "name": "stdout",
     "output_type": "stream",
     "text": [
      "Skipping 9db6b857de8329d80118cc386a729017.jpg due to non-white background\n",
      "Skipping 9dbf427b6ceb34682c7058844663dc01.jpg due to non-white background\n",
      "Processing 9c8f948d1dc1954dd705388c7b191218.jpg with white background\n",
      "Processing 9dfa671de3043095e8793396b1571e2f.jpg with white background\n",
      "Processing 9e2d9430c9fc919c10bb35a1f6231cf1.png with transparency\n",
      "Processing 9e39e06817e7c58c87b5e4ccd8414cf4.png with transparency\n",
      "Processing 9deb3825d720967eaf6b8cf0d3fbc8a8.jpg with white background\n"
     ]
    },
    {
     "name": "stderr",
     "output_type": "stream",
     "text": [
      "Processing images:  62%|██████▏   | 1039/1679 [01:29<00:46, 13.77it/s]"
     ]
    },
    {
     "name": "stdout",
     "output_type": "stream",
     "text": [
      "Processing 9c9a77511c978ddbf53d57862c3140ea.jpg with white background\n",
      "Processing 9e8dfbb2a4d5064ab02e68b896720211.jpg with white background\n",
      "Processing 9e17705408216dc07fd98811a2f46545.jpg with white background\n",
      "Processing 9e0b9d15145877c09a337f7974e1fc18.jpg with white background\n"
     ]
    },
    {
     "name": "stderr",
     "output_type": "stream",
     "text": [
      "Processing images:  62%|██████▏   | 1045/1679 [01:30<00:58, 10.84it/s]"
     ]
    },
    {
     "name": "stdout",
     "output_type": "stream",
     "text": [
      "Processing 9f602b261b151b593abe173e1ab1991d.jpg with white background\n",
      "Processing 9f5c6f87c5bc342ea9aba4c0ca00154a.jpg with white background\n",
      "Processing 9f940bea3e00ca4c48569990d1c9500e.jpg with white background\n",
      "Processing 9f644d4439d284aaa779ca5214fb556b.jpg with white background\n",
      "Processing 9ea5a17d9cd21ea066842038f69a5496.jpg with white background\n"
     ]
    },
    {
     "name": "stderr",
     "output_type": "stream",
     "text": [
      "\r",
      "Processing images:  62%|██████▏   | 1047/1679 [01:30<00:56, 11.13it/s]"
     ]
    },
    {
     "name": "stdout",
     "output_type": "stream",
     "text": [
      "Processing 9f2bbd53d499d79573b0d105f9feef97.jpg with white background\n",
      "Processing 9f856e79bc82210b6bb70a2a50587154.jpg with white background\n",
      "Processing 9f6e756021cdac3bb2e0bbd2c71655c7.jpg with white background\n"
     ]
    },
    {
     "name": "stderr",
     "output_type": "stream",
     "text": [
      "Processing images:  63%|██████▎   | 1054/1679 [01:30<00:43, 14.32it/s]"
     ]
    },
    {
     "name": "stdout",
     "output_type": "stream",
     "text": [
      "Processing a1093f914ade0a1bba74b65370e03d5a.png with transparency\n",
      "Skipping a010aac8a42a7657d276b3035e03294a.jpg due to non-white background\n",
      "Processing a16bc2119766da188d28004efc6b3ccf.jpg with white background\n",
      "Processing a007ee3cb06fba4ab2cf2afab68a9fea.jpg with white background\n"
     ]
    },
    {
     "name": "stderr",
     "output_type": "stream",
     "text": [
      "\r",
      "Processing images:  63%|██████▎   | 1057/1679 [01:31<00:56, 10.96it/s]"
     ]
    },
    {
     "name": "stdout",
     "output_type": "stream",
     "text": [
      "Processing a06468b242a3f4ed5618f6d4fe7b0d8d.jpg with white background\n",
      "Skipping a17553e3db0b0f90f6180c485b5e0a95.jpg due to non-white background\n",
      "Processing a0d5ab5c197b3cc8e042336a20dc1d45.jpg with white background\n",
      "Processing a1633d3411d0767cd940026becf072d7.jpg with white background\n"
     ]
    },
    {
     "name": "stderr",
     "output_type": "stream",
     "text": [
      "Processing images:  63%|██████▎   | 1063/1679 [01:31<00:52, 11.74it/s]"
     ]
    },
    {
     "name": "stdout",
     "output_type": "stream",
     "text": [
      "Processing 9c19233eb4ffa70fba96c33d18838dd6.jpg with white background\n",
      "Processing a190ebc0582e33b8b1f50d6e71376337.jpg with white background\n"
     ]
    },
    {
     "name": "stderr",
     "output_type": "stream",
     "text": [
      "\r",
      "Processing images:  63%|██████▎   | 1065/1679 [01:31<00:51, 11.92it/s]"
     ]
    },
    {
     "name": "stdout",
     "output_type": "stream",
     "text": [
      "Processing a1b4067102c561589665b96018da722c.png with transparency\n",
      "Processing a281c14f957fd4f0e7e66ff7680a7859.png with transparency\n",
      "Processing a1f73faaa4f39724cf8d3f3bf298c846.jpg with white background\n",
      "Processing a1965c3e5c0abed1dc7d9a3b24f18a41.jpg with white background\n"
     ]
    },
    {
     "name": "stderr",
     "output_type": "stream",
     "text": [
      "\r",
      "Processing images:  64%|██████▎   | 1067/1679 [01:32<00:58, 10.45it/s]"
     ]
    },
    {
     "name": "stdout",
     "output_type": "stream",
     "text": [
      "Processing a29b579cab08c8e8bb90d21b06748b8e.png with transparency\n",
      "Processing a19dbeb3ddb627e74c7fd74bd6b96403.jpg with white background\n",
      "Processing a20ca19b0af145df1f8726fd33a300cc.jpg with white background\n",
      "Skipping a29b2a5c97a1da26aba27c98d9b8f081.jpg due to non-white background\n",
      "Processing a1a38beb767e3c7d777197ec980fcacb.jpg with white background\n"
     ]
    },
    {
     "name": "stderr",
     "output_type": "stream",
     "text": [
      "Processing images:  64%|██████▍   | 1071/1679 [01:32<01:04,  9.45it/s]"
     ]
    },
    {
     "name": "stdout",
     "output_type": "stream",
     "text": [
      "Processing a1a9322c9bfd85cbddf897a31b76e81e.jpg with white background\n",
      "Processing a311dd3cff1b110498a073ea6a7d7159.png with transparency\n",
      "Processing a334c19d12ad77930b579bb2b0f31ebd.png with transparency\n",
      "Skipping a301c8fc671b00b14eb5d8101794f833.jpg due to non-white background\n"
     ]
    },
    {
     "name": "stderr",
     "output_type": "stream",
     "text": [
      "Processing images:  64%|██████▍   | 1074/1679 [01:33<01:23,  7.29it/s]"
     ]
    },
    {
     "name": "stdout",
     "output_type": "stream",
     "text": [
      "Processing a39773d2459b1d5a46b3cec785923c9a.png with transparency\n",
      "Skipping a3a36a9a154594b25d1394ddcfec3e21.jpg due to blurriness (variance of Laplacian)\n",
      "Processing a381d2ad5e018fb90889c97bec6bf731.jpg with white background\n"
     ]
    },
    {
     "name": "stderr",
     "output_type": "stream",
     "text": [
      "Processing images:  64%|██████▍   | 1082/1679 [01:33<00:39, 15.25it/s]"
     ]
    },
    {
     "name": "stdout",
     "output_type": "stream",
     "text": [
      "Processing a3f76a01d9898897c629a2c6ffd98af6.png with transparency\n",
      "Processing a414b6deae1433939d94dfdc66e7059b.jpg with white background\n"
     ]
    },
    {
     "name": "stderr",
     "output_type": "stream",
     "text": [
      "Processing images:  65%|██████▍   | 1087/1679 [01:33<00:37, 15.65it/s]"
     ]
    },
    {
     "name": "stdout",
     "output_type": "stream",
     "text": [
      "Processing a029fa256d432efce074ee0bd4a66b04.jpg with white backgroundProcessing a527c192d319259178d1627410f2c80f.jpg with white background\n",
      "\n",
      "Processing a47e87942474803ab6abf459c3841093.jpg with white background\n",
      "Processing a3d4f31e387b3ca36d17512eea508756.jpg with white background\n",
      "Processing a6781cfe618a83c5ea093b144497066b.jpg with white background\n",
      "Processing a414719c147337452bb4ccae61f50325.jpg with white background\n",
      "Processing a6f2a235be20f652efe4c2cac3c792a4.jpg with white background\n",
      "Processing a4fd2a6b89cdaae050eaa83ca1b3dac7.jpg with white background\n",
      "Processing a5154b9a1787828641be1e488ff457f8.jpg with white background\n"
     ]
    },
    {
     "name": "stderr",
     "output_type": "stream",
     "text": [
      "\r",
      "Processing images:  65%|██████▍   | 1089/1679 [01:34<01:09,  8.46it/s]"
     ]
    },
    {
     "name": "stdout",
     "output_type": "stream",
     "text": [
      "Processing a5ec012480335da34988332c2d789cee.jpg with white background\n",
      "Processing a6f4bcb06dbf85244cff90171eeaa064.png with transparency\n",
      "Processing a5916c1626320f2ecfb399aa185ef797.jpg with white background\n"
     ]
    },
    {
     "name": "stderr",
     "output_type": "stream",
     "text": [
      "\r",
      "Processing images:  65%|██████▍   | 1091/1679 [01:34<01:14,  7.90it/s]"
     ]
    },
    {
     "name": "stdout",
     "output_type": "stream",
     "text": [
      "Processing a6a9404f5d45007bb73bc9079556504f.jpg with white background\n",
      "Skipping a6f588254b05707f23a145bb46dbd377.jpg due to non-white background\n"
     ]
    },
    {
     "name": "stderr",
     "output_type": "stream",
     "text": [
      "Processing images:  65%|██████▌   | 1097/1679 [01:35<00:57, 10.12it/s]"
     ]
    },
    {
     "name": "stdout",
     "output_type": "stream",
     "text": [
      "Processing a7082415293388a3ba931021ee8980f8.jpg with white background\n",
      "Processing a19ad975685411cb421d8b7d2bc290d8.jpg with white background\n"
     ]
    },
    {
     "name": "stderr",
     "output_type": "stream",
     "text": [
      "\r",
      "Processing images:  66%|██████▌   | 1100/1679 [01:35<00:49, 11.65it/s]"
     ]
    },
    {
     "name": "stdout",
     "output_type": "stream",
     "text": [
      "Processing a89451cd5fa4cc2b9ba4716e8f820da3.jpg with white background\n",
      "Processing a806ea6b17c124bc95668ace794963ce.jpg with white background\n",
      "Processing 9f9639033d9a7faac12f394a800e84a2.jpg with white background\n"
     ]
    },
    {
     "name": "stderr",
     "output_type": "stream",
     "text": [
      "Processing images:  66%|██████▌   | 1104/1679 [01:35<00:50, 11.37it/s]"
     ]
    },
    {
     "name": "stdout",
     "output_type": "stream",
     "text": [
      "Processing a70894c38afd25fe7c5f35f501c43ef4.jpg with white background\n",
      "Processing a76a2b8498b8f9b398823ce9319b50d3.jpg with white background\n",
      "Processing a779896a6d6eed21674527e3118b38b4.jpg with white background\n",
      "Processing a7d2786f13a918b3dd9036d55c99bec5.jpg with white background\n",
      "Processing a95d0339b9f813f46f0d6b251b30e13c.png with transparency\n",
      "Processing a7ff1f3afafeef1ef1fbebf1e94a1bfe.jpg with white background\n",
      "Processing a962b4b8be42342604f28d8e507770a7.jpg with white background\n",
      "Processing a90f181dc46fe463eeed34d458d55d26.jpg with white background\n",
      "Processing a9b5b0e385ce750c17a283d6dafb3076.jpg with white background\n"
     ]
    },
    {
     "name": "stderr",
     "output_type": "stream",
     "text": [
      "\r",
      "Processing images:  66%|██████▌   | 1106/1679 [01:36<01:07,  8.50it/s]"
     ]
    },
    {
     "name": "stdout",
     "output_type": "stream",
     "text": [
      "Processing a248d7c68b847a0dc332e86528efb6c4.jpg with white background\n",
      "Processing a92ca9b45750771e27ccb980ff1dd8c7.jpg with white background\n",
      "Processing a8e9caa4aa2a437eecf0914797ce8920.jpg with white background\n",
      "Processing a9df9ea7c3dcd7886faed8ae1014f072.jpg with white background\n"
     ]
    },
    {
     "name": "stderr",
     "output_type": "stream",
     "text": [
      "Processing images:  66%|██████▌   | 1110/1679 [01:36<01:02,  9.04it/s]"
     ]
    },
    {
     "name": "stdout",
     "output_type": "stream",
     "text": [
      "Skipping aa1ec22ff0bbad3df4e8e377a5bac668.jpg due to non-white background\n"
     ]
    },
    {
     "name": "stderr",
     "output_type": "stream",
     "text": [
      "\r",
      "Processing images:  66%|██████▌   | 1112/1679 [01:36<01:06,  8.51it/s]"
     ]
    },
    {
     "name": "stdout",
     "output_type": "stream",
     "text": [
      "Processing aa9bfcc8b650fe84905a1bff59ad49d8.jpg with white background\n",
      "Processing a4b827d3e4b25f1536b95a99984edbb9.jpg with white background\n",
      "Processing aa530b0fb1c57b1d9e4616c472f3df11.jpg with white background\n"
     ]
    },
    {
     "name": "stderr",
     "output_type": "stream",
     "text": [
      "Processing images:  67%|██████▋   | 1117/1679 [01:37<00:47, 11.76it/s]"
     ]
    },
    {
     "name": "stdout",
     "output_type": "stream",
     "text": [
      "Processing ab2961b743c41d7f1c498d6322527263.jpg with white background\n",
      "Processing aa638eba694acdf0919b3e3a13efb327.jpg with white background\n"
     ]
    },
    {
     "name": "stderr",
     "output_type": "stream",
     "text": [
      "\r",
      "Processing images:  67%|██████▋   | 1119/1679 [01:37<00:44, 12.59it/s]"
     ]
    },
    {
     "name": "stdout",
     "output_type": "stream",
     "text": [
      "Processing ab4bbd90ccf9a88e53c4ef6586ba6879.jpg with white background\n",
      "Processing ab93e82be240ec508e42ba326366beca.png with transparency\n",
      "Processing aa5396b5d952613399071949aba5d5ec.jpg with white background\n",
      "Processing abb3fa99da4f6afd746df415cee8205c.png with transparency\n",
      "Processing ac9ff0abb8f929160aeaa8ae1dda1e52.jpg with white background\n"
     ]
    },
    {
     "name": "stderr",
     "output_type": "stream",
     "text": [
      "Processing images:  67%|██████▋   | 1124/1679 [01:37<00:44, 12.51it/s]"
     ]
    },
    {
     "name": "stdout",
     "output_type": "stream",
     "text": [
      "Processing ab9ac5bfa263c603907470cac084da41.jpg with white background\n",
      "Processing ad0f7126d0c32922a32d76a6b8bb600c.png with transparency\n",
      "Processing ace654574593709ee7763204d54b2fbf.png with transparency\n"
     ]
    },
    {
     "name": "stderr",
     "output_type": "stream",
     "text": [
      "Processing images:  67%|██████▋   | 1128/1679 [01:38<00:51, 10.66it/s]"
     ]
    },
    {
     "name": "stdout",
     "output_type": "stream",
     "text": [
      "Processing ad1996bd9e8049aa175df2551ac8ecce.jpg with white background\n",
      "Skipping aaaf97d6af114276ef5801d03e8c6e28.jpg due to non-white background\n",
      "Processing ad27cf198277d4394ef5e989a4d4be61.png with transparency\n",
      "Processing ace33427ee48cd7214155dc0708d941a.jpg with white background\n"
     ]
    },
    {
     "name": "stderr",
     "output_type": "stream",
     "text": [
      "\r",
      "Processing images:  67%|██████▋   | 1130/1679 [01:38<00:46, 11.69it/s]"
     ]
    },
    {
     "name": "stdout",
     "output_type": "stream",
     "text": [
      "Processing ad4c1a3838b61bd3718a3f56ca92eced.png with transparency\n",
      "Processing ad30dc0bed645b185e22851f69b74d78.jpg with white background\n",
      "Processing ae1c83cc16f385e320a58bb4450e272d.jpg with white background\n",
      "Processing ad4e318093459f15f12fecd4312ded7d.jpg with white background\n"
     ]
    },
    {
     "name": "stderr",
     "output_type": "stream",
     "text": [
      "Processing images:  68%|██████▊   | 1135/1679 [01:38<00:50, 10.77it/s]"
     ]
    },
    {
     "name": "stdout",
     "output_type": "stream",
     "text": [
      "Processing a74bda06783f4cdcdd6817ba54381698.jpg with white background\n",
      "Processing ad1df7d591f41e4e394ec7fbc6358f4a.jpg with white background\n",
      "Processing adb9a266a24f338bc9a986e49d63acf9.jpg with white background\n",
      "Processing adb7a027d869b411885dfc79417351a2.jpg with white background\n"
     ]
    },
    {
     "name": "stderr",
     "output_type": "stream",
     "text": [
      "\r",
      "Processing images:  68%|██████▊   | 1138/1679 [01:38<00:43, 12.42it/s]"
     ]
    },
    {
     "name": "stdout",
     "output_type": "stream",
     "text": [
      "Processing ae551f3158be6409f9dc833722155a30.png with transparency\n",
      "Processing aeef071935f4f4da3e9fd337fbe2bdd9.jpg with white background\n",
      "Skipping ae8aa6144025d1ba4b1eb053b87773c0.jpg due to non-white background\n"
     ]
    },
    {
     "name": "stderr",
     "output_type": "stream",
     "text": [
      "\r",
      "Processing images:  68%|██████▊   | 1140/1679 [01:39<00:42, 12.77it/s]"
     ]
    },
    {
     "name": "stdout",
     "output_type": "stream",
     "text": [
      "Processing ad2f401c49196a2b78a33477d80437fb.jpg with white background\n"
     ]
    },
    {
     "name": "stderr",
     "output_type": "stream",
     "text": [
      "\r",
      "Processing images:  68%|██████▊   | 1142/1679 [01:39<00:46, 11.51it/s]"
     ]
    },
    {
     "name": "stdout",
     "output_type": "stream",
     "text": [
      "Processing ae2265c7ae5ff88598cd8685cde5f207.jpg with white background\n",
      "Processing af771e19b9faf7e1549fb9fb80c7419d.jpg with white background\n",
      "Processing afbf5b5770ae9445912312d435879f44.png with transparency\n"
     ]
    },
    {
     "name": "stderr",
     "output_type": "stream",
     "text": [
      "\r",
      "Processing images:  68%|██████▊   | 1144/1679 [01:39<00:56,  9.39it/s]"
     ]
    },
    {
     "name": "stdout",
     "output_type": "stream",
     "text": [
      "Processing aeb94b961aff3a3528582ff95cb45f80.jpg with white background\n"
     ]
    },
    {
     "name": "stderr",
     "output_type": "stream",
     "text": [
      "Processing images:  68%|██████▊   | 1148/1679 [01:40<01:00,  8.75it/s]"
     ]
    },
    {
     "name": "stdout",
     "output_type": "stream",
     "text": [
      "Processing b03261a946e42e1750075c17063ec778.jpg with white background\n",
      "Processing afa09e3a13cf9e5dead86713324b797b.jpg with white background\n",
      "Processing b0ff516a920b89e855b74ca5a397ca53.png with transparency\n",
      "Skipping b08e36723fe5773b9f2fb73db8fb420a.jpg due to non-white background\n",
      "Processing b000937ef49a1f95def22ea702cca910.jpg with white background\n"
     ]
    },
    {
     "name": "stderr",
     "output_type": "stream",
     "text": [
      "Processing images:  69%|██████▉   | 1155/1679 [01:40<00:31, 16.53it/s]"
     ]
    },
    {
     "name": "stdout",
     "output_type": "stream",
     "text": [
      "Processing b13ce93e924f497b853be3eb69053643.png with transparency\n",
      "Skipping b0d96ac0d7062c327fa72c20e570e30e.jpg due to non-white background\n",
      "Skipping b110f09e85f7476fa59ac21972222df5.jpg due to non-white background\n"
     ]
    },
    {
     "name": "stderr",
     "output_type": "stream",
     "text": [
      "Processing images:  69%|██████▉   | 1160/1679 [01:40<00:32, 15.88it/s]"
     ]
    },
    {
     "name": "stdout",
     "output_type": "stream",
     "text": [
      "Processing acdb01f2dd6596f44d98cd5caec21aba.jpg with white background\n",
      "Processing b1a50e53b85a6ee70de820447ae4d7ab.png with transparency\n",
      "Processing b06b0a35667cd83cc614920c7365e515.jpg with white background\n",
      "Processing b1fad1e26744ac808cfb1eb2f5b28229.png with transparency\n",
      "Processing b230b0511ce4392917da9ede74bb0c5a.jpg with white background\n"
     ]
    },
    {
     "name": "stderr",
     "output_type": "stream",
     "text": [
      "Processing images:  69%|██████▉   | 1164/1679 [01:41<00:39, 12.99it/s]"
     ]
    },
    {
     "name": "stdout",
     "output_type": "stream",
     "text": [
      "Skipping b246e57547c2408dc011a325c2b48ca5.jpg due to non-white background\n",
      "Processing b256160efbfb5238fb477d8ac7b11990.png with transparency\n",
      "Skipping b2392cc8a954fcb1f68bb5a98844165a.jpg due to non-white background\n",
      "Processing b1f2964fba7f7cfadc7fc8754086a45f.jpg with white background\n",
      "Processing b2a55e56adfb0a3983fbef0b21bd2bba.jpg with white background\n",
      "Processing b1a5449a7f539a041520e5024fe0e001.jpg with white background\n",
      "Processing b1bf6d968e9827bcb3626ddbcb0e3f24.jpg with white background\n"
     ]
    },
    {
     "name": "stderr",
     "output_type": "stream",
     "text": [
      "\r",
      "Processing images:  69%|██████▉   | 1166/1679 [01:41<00:40, 12.68it/s]"
     ]
    },
    {
     "name": "stdout",
     "output_type": "stream",
     "text": [
      "Processing b161cfbb81cb77a9bc13afa6d9299d74.jpg with white background\n",
      "Processing acaa6bb9f01443567582d26a97d44ebc.jpg with white background\n",
      "Processing b1dbfa11c5d664de80dd7c308cdef71f.jpg with white background\n"
     ]
    },
    {
     "name": "stderr",
     "output_type": "stream",
     "text": [
      "\r",
      "Processing images:  70%|██████▉   | 1168/1679 [01:41<01:09,  7.36it/s]"
     ]
    },
    {
     "name": "stdout",
     "output_type": "stream",
     "text": [
      "Processing b29f81cec7da1d72780fd239b7826e63.jpg with white background\n",
      "Processing b2e7062bb30a86f545935186c026b111.jpg with white background\n",
      "Processing b325cc76a6f0b3b97f4e1706885495ac.jpg with white background\n",
      "Processing b319d8971650358f42e580a2344ec916.jpg with white background\n"
     ]
    },
    {
     "name": "stderr",
     "output_type": "stream",
     "text": [
      "Processing images:  70%|██████▉   | 1174/1679 [01:42<00:43, 11.58it/s]"
     ]
    },
    {
     "name": "stdout",
     "output_type": "stream",
     "text": [
      "Processing b33708b594e882acbe81da1d4666d49d.jpg with white background\n",
      "Processing b3eb07160b746c500182e6a8da2010d9.png with transparency\n",
      "Processing b372dc948abbf539cc315e7ac9748d47.jpg with white background\n"
     ]
    },
    {
     "name": "stderr",
     "output_type": "stream",
     "text": [
      "Processing images:  70%|███████   | 1178/1679 [01:42<00:46, 10.76it/s]"
     ]
    },
    {
     "name": "stdout",
     "output_type": "stream",
     "text": [
      "Processing b3fac87aff6d90c1238d86e54fb5377b.jpg with white background\n",
      "Skipping b3dbb2aec526397be8c9689ae363eeca.jpg due to non-white background\n",
      "Processing b3b6e06bb6cf1f69d0fa8a3eeae88290.jpg with white background\n",
      "Skipping b40c11b21b09f8f90796b83ca12287d8.jpg due to non-white background\n",
      "Skipping b25c9165520551d90593e8a2247be6d1.jpg due to blurriness (variance of Laplacian)\n"
     ]
    },
    {
     "name": "stderr",
     "output_type": "stream",
     "text": [
      "Processing images:  70%|███████   | 1182/1679 [01:42<00:46, 10.63it/s]"
     ]
    },
    {
     "name": "stdout",
     "output_type": "stream",
     "text": [
      "Processing b3a99176dc515dc908e61d6ac373da6e.jpg with white background\n",
      "Processing b4c0afa3893da67271cb53a936ca65d5.jpg with white background\n",
      "Processing af57fac8c28a0254cc7130250a2e5236.jpg with white background\n",
      "Processing b406f3727c1d9c839c8fb5cf3eed3b06.jpg with white background\n",
      "Processing b43c9661d5e77f332f9f303d3a723f3a.jpg with white background\n",
      "Processing b452866c0086a8e3f6678707eea958e0.jpg with white background\n",
      "Processing b53b0c94c16248eff183d8300fdfe796.png with transparency\n"
     ]
    },
    {
     "name": "stderr",
     "output_type": "stream",
     "text": [
      "Processing images:  71%|███████   | 1188/1679 [01:43<00:40, 12.03it/s]"
     ]
    },
    {
     "name": "stdout",
     "output_type": "stream",
     "text": [
      "Skipping b54cac75f576474ee318c78a3fda6bea.jpg due to non-white background\n",
      "Processing b44fae9544f47aa4967f211ba7af0979.jpg with white background\n",
      "Processing b550a4bc8b997bff663ba9ca7cf76a86.jpg with white background\n",
      "Processing b49cfeccabdf93597f518b176312da6a.jpg with white background\n"
     ]
    },
    {
     "name": "stderr",
     "output_type": "stream",
     "text": [
      "\r",
      "Processing images:  71%|███████   | 1192/1679 [01:43<00:31, 15.61it/s]"
     ]
    },
    {
     "name": "stdout",
     "output_type": "stream",
     "text": [
      "Processing b5ab4226730f263a8dce8349757754d7.jpg with white background\n",
      "Processing b62bc9a3d04d2a5514956d3192c77e98.png with transparency\n",
      "Skipping b5e18ca0ff95b6537d728e828d38f22a.jpg due to non-white background\n",
      "Processing b6b28e1d1f53978fe026ef228a9cbbe5.png with transparency\n"
     ]
    },
    {
     "name": "stderr",
     "output_type": "stream",
     "text": [
      "Processing images:  71%|███████▏  | 1197/1679 [01:43<00:35, 13.72it/s]"
     ]
    },
    {
     "name": "stdout",
     "output_type": "stream",
     "text": [
      "Processing b5ca8b4d61a2eed6148f3fe532138ce5.jpg with white background\n",
      "Processing b55768d5685f866d270155a42c257f3b.jpg with white background\n",
      "Processing b6add81659e9e757af71039d948174c0.jpg with white background\n",
      "Processing b5db035e0bb610b1fea012bed17480e5.jpg with white background\n",
      "Processing b717d7df6b3883004bf6f8d5a7843c22.png with transparency\n"
     ]
    },
    {
     "name": "stderr",
     "output_type": "stream",
     "text": [
      "\r",
      "Processing images:  71%|███████▏  | 1199/1679 [01:44<00:32, 14.72it/s]"
     ]
    },
    {
     "name": "stdout",
     "output_type": "stream",
     "text": [
      "Skipping b6f716434b88410996e618be78c07a5d.jpg due to non-white background\n",
      "Processing b5e3bc5679d76d5b7edd79ee96aab3c4.jpg with white background\n"
     ]
    },
    {
     "name": "stderr",
     "output_type": "stream",
     "text": [
      "Processing images:  72%|███████▏  | 1203/1679 [01:44<00:40, 11.76it/s]"
     ]
    },
    {
     "name": "stdout",
     "output_type": "stream",
     "text": [
      "Processing b7300b1f8dc85c4c5e858303dc797f27.jpg with white background\n",
      "Processing b7912f8e60f443d27813116f6366aed2.png with transparency\n",
      "Processing b734caa48127e95f9d6dcf7ff596c06d.jpg with white background\n",
      "Processing b77a6fedfd63ed5a5dadd0536c7d0ff2.jpg with white background\n"
     ]
    },
    {
     "name": "stderr",
     "output_type": "stream",
     "text": [
      "\r",
      "Processing images:  72%|███████▏  | 1206/1679 [01:44<00:37, 12.76it/s]"
     ]
    },
    {
     "name": "stdout",
     "output_type": "stream",
     "text": [
      "Processing b76fa1c9f7eccac7733f1cb43ca69e71.jpg with white background\n",
      "Processing b7aa8fbc6caebb1c15abf793c91ace54.jpg with white background\n"
     ]
    },
    {
     "name": "stderr",
     "output_type": "stream",
     "text": [
      "Processing images:  72%|███████▏  | 1212/1679 [01:45<00:32, 14.55it/s]"
     ]
    },
    {
     "name": "stdout",
     "output_type": "stream",
     "text": [
      "Processing b781097db445718768d97eb374b3034c.jpg with white background\n",
      "Processing b7a74ca0e5462d9f8d5982be5262caae.jpg with white background\n",
      "Processing b843597a06455b1067ad3b154fbb625b.png with transparency\n",
      "Processing b80fd21efa55f2b5cf7990dea38583ed.jpg with white background\n",
      "Processing b7c69f16f3039242e7459cdb83a28ff0.jpg with white background\n",
      "Processing b7dce5914a0a45485d16ae82a7130363.jpg with white background\n"
     ]
    },
    {
     "name": "stderr",
     "output_type": "stream",
     "text": [
      "Processing images:  72%|███████▏  | 1216/1679 [01:45<00:35, 13.08it/s]"
     ]
    },
    {
     "name": "stdout",
     "output_type": "stream",
     "text": [
      "Processing b7a27cd5d5f76505e70be79faaeff993.jpg with white background\n",
      "Processing b7f75532b6cb7271b2cf8cf0f6ae8bac.jpg with white background\n",
      "Skipping b834454c297430af6f3321beeeb37f1f.jpg due to non-white background\n"
     ]
    },
    {
     "name": "stderr",
     "output_type": "stream",
     "text": [
      "\r",
      "Processing images:  73%|███████▎  | 1218/1679 [01:45<00:33, 13.72it/s]"
     ]
    },
    {
     "name": "stdout",
     "output_type": "stream",
     "text": [
      "Processing b3a0e33cddabc788a9da2870a38eef3c.jpg with white background\n",
      "Skipping b841938041ab14f433f64c4a9dcfff01.jpg due to non-white background\n",
      "Skipping ba000181a382d276052bd7e91da87d85.jpg due to non-white background\n",
      "Processing b82ecfa27d87c23636fd4200004750b8.jpg with white background\n",
      "Processing b9a3a0a4ebb0edcbcd2e85908f41bedb.png with transparency\n",
      "Processing ba4ce2551dfaa812d7296760cda50d24.jpg with white background\n"
     ]
    },
    {
     "name": "stderr",
     "output_type": "stream",
     "text": [
      "\r",
      "Processing images:  73%|███████▎  | 1222/1679 [01:45<00:38, 11.99it/s]"
     ]
    },
    {
     "name": "stdout",
     "output_type": "stream",
     "text": [
      "Processing ba79f8f5a79b1e8ce9027ce6c06f2214.png with transparency\n",
      "Processing b8492271f779ef2bdbef333155f4cfe6.jpg with white background\n",
      "Processing ba4cff772f9eef7e50318ebd022878cd.jpg with white background\n"
     ]
    },
    {
     "name": "stderr",
     "output_type": "stream",
     "text": [
      "Processing images:  73%|███████▎  | 1227/1679 [01:46<00:27, 16.19it/s]"
     ]
    },
    {
     "name": "stdout",
     "output_type": "stream",
     "text": [
      "Processing bb5ae8c05cc7edb9f843cb020d132475.png with transparency\n",
      "Processing bac32a643fa4e9714b9ef96bc6255d07.jpg with white background\n",
      "Processing ba24d959e3635ed29fec7c6cfe4c988a.jpg with white background\n"
     ]
    },
    {
     "name": "stderr",
     "output_type": "stream",
     "text": [
      "Processing images:  73%|███████▎  | 1231/1679 [01:46<00:38, 11.60it/s]"
     ]
    },
    {
     "name": "stdout",
     "output_type": "stream",
     "text": [
      "Processing bc36a7d39143a48320c5e84f1f374e2c.png with transparency\n"
     ]
    },
    {
     "name": "stderr",
     "output_type": "stream",
     "text": [
      "Processing images:  74%|███████▎  | 1237/1679 [01:46<00:27, 15.93it/s]"
     ]
    },
    {
     "name": "stdout",
     "output_type": "stream",
     "text": [
      "Processing bb66fe88a8fcb419ee0f876dc4dac65e.jpg with white background\n",
      "Processing bc6ef8826b10523ecceb4e0026061bf1.jpg with white background\n",
      "Processing bbd683913673a095ee759449265fcafd.jpg with white background\n",
      "Skipping bd058a722d8e470b72ba64ef1592a97e.jpg due to non-white background\n",
      "Skipping bc37eabfba3c87bd62956dc8638280e4.jpg due to non-white background\n",
      "Processing bcde215f272a86e2d894b6fcf75fd5d6.jpg with white background\n",
      "Processing bb25edd1cfc35ca9602cde305b38293c.jpg with white background\n"
     ]
    },
    {
     "name": "stderr",
     "output_type": "stream",
     "text": [
      "Processing images:  74%|███████▍  | 1242/1679 [01:47<00:29, 14.71it/s]"
     ]
    },
    {
     "name": "stdout",
     "output_type": "stream",
     "text": [
      "Skipping bbcd86f3455286348a2a2f6fefeb9a70.jpg due to non-white background\n"
     ]
    },
    {
     "name": "stderr",
     "output_type": "stream",
     "text": [
      "\r",
      "Processing images:  74%|███████▍  | 1244/1679 [01:47<00:39, 11.06it/s]"
     ]
    },
    {
     "name": "stdout",
     "output_type": "stream",
     "text": [
      "Processing bddf1e08d79839c9d21f2219bb248f55.jpg with white background\n",
      "Processing bc15bd4a7a7f33bd350c37485422f8af.jpg with white background\n",
      "Processing bd293d0bec42698b17b2d44ef22414b2.jpg with white background\n",
      "Processing bd922d8713fcd4b9e56da863d28d22c0.jpg with white background\n",
      "Processing bc2a833e47c75b6096a4215380801b68.jpg with white background\n"
     ]
    },
    {
     "name": "stderr",
     "output_type": "stream",
     "text": [
      "Processing images:  74%|███████▍  | 1248/1679 [01:48<00:40, 10.56it/s]"
     ]
    },
    {
     "name": "stdout",
     "output_type": "stream",
     "text": [
      "Skipping bf157219fe7a048bc858e6af0a59215a.jpg due to non-white background\n",
      "Processing bdae46b7844e041d4d5eb908ffdf506b.jpg with white background\n",
      "Processing bf268035ba5f8074602b60321a6fe802.png with transparency\n",
      "Processing bef8fe8540ec4483198dd1b331ea38d5.jpg with white background\n",
      "Skipping b9262fe8143acc30b349068d9cc0d744.jpg due to non-white background\n",
      "Processing be84f6ce567aa2fab6681727fb395ba2.jpg with white background\n",
      "Processing bf342ebc4873e165c0d82bf31c607eb0.jpg with white background\n"
     ]
    },
    {
     "name": "stderr",
     "output_type": "stream",
     "text": [
      "Processing images:  75%|███████▍  | 1252/1679 [01:48<00:44,  9.65it/s]"
     ]
    },
    {
     "name": "stdout",
     "output_type": "stream",
     "text": [
      "Processing befa29a457483fa4990f1a305eea9887.jpg with white background\n",
      "Processing bf3932230230e2dd1ce480ec86cea859.jpg with white background\n"
     ]
    },
    {
     "name": "stderr",
     "output_type": "stream",
     "text": [
      "Processing images:  75%|███████▍  | 1257/1679 [01:48<00:34, 12.32it/s]"
     ]
    },
    {
     "name": "stdout",
     "output_type": "stream",
     "text": [
      "Skipping bf78b0d55befa84d1e31ac889e640231.jpg due to non-white background\n",
      "Processing c0eff2b4213610720312bf857748dc5c.png with transparency\n",
      "Processing bf2bf9e4563ca240dcf41eba60485409.jpg with white background\n"
     ]
    },
    {
     "name": "stderr",
     "output_type": "stream",
     "text": [
      "Processing images:  75%|███████▌  | 1261/1679 [01:49<00:33, 12.59it/s]"
     ]
    },
    {
     "name": "stdout",
     "output_type": "stream",
     "text": [
      "Processing bf38ca86b308281a9e0b77c2622eb36a.jpg with white backgroundSkipping c0f7c46b23c4e892cb5f16a86afe7b5f.jpg due to non-white background\n",
      "\n",
      "Processing c017f8bd3cc5d91028ff41122f2da443.jpg with white background\n",
      "Processing c0171f33093c792c7f6249e264e38d25.jpg with white background\n",
      "Processing c20234e32b428fdafec568c86ca4b530.png with transparency\n",
      "Skipping c1b4165abd8a5a5cfc502c7430d4e3c7.jpg due to non-white background\n",
      "Processing c07bbd23769a23a759248812fbe83580.jpg with white background\n"
     ]
    },
    {
     "name": "stderr",
     "output_type": "stream",
     "text": [
      "\r",
      "Processing images:  75%|███████▌  | 1263/1679 [01:49<00:30, 13.53it/s]"
     ]
    },
    {
     "name": "stdout",
     "output_type": "stream",
     "text": [
      "Processing bffc748ed69af63bacae45df0e96ab32.jpg with white backgroundProcessing c238889eb39cadb3541d0adc4d03a3a8.png with transparency\n",
      "\n",
      "Processing c1f96626043d570327ad31c5c10a5c0a.jpg with white background\n",
      "Processing c252753dfa442c153e9ac48c4897e848.jpg with white background\n",
      "Processing c1edd624b0ba2a42a4e85fe986564d36.jpg with white background\n"
     ]
    },
    {
     "name": "stderr",
     "output_type": "stream",
     "text": [
      "\r",
      "Processing images:  75%|███████▌  | 1266/1679 [01:49<00:46,  8.94it/s]"
     ]
    },
    {
     "name": "stdout",
     "output_type": "stream",
     "text": [
      "Processing c25874ae13346427895d5f1572ccb1cf.jpg with white background\n"
     ]
    },
    {
     "name": "stderr",
     "output_type": "stream",
     "text": [
      "\r",
      "Processing images:  76%|███████▌  | 1268/1679 [01:49<00:40, 10.12it/s]"
     ]
    },
    {
     "name": "stdout",
     "output_type": "stream",
     "text": [
      "Processing becce70b9a20d6a1fabcdfd833edeb92.jpg with white background\n",
      "Processing c26d514d58ce60c401b17aad123df82e.png with transparency\n",
      "Processing c296d07d1a3cfddfa614a5f926bb4a8c.jpg with white background\n",
      "Processing c2056c5653d1c18188f33fba6dad0dc6.jpg with white background\n",
      "Processing c25cf52c11d14721c1d16a6e214174fa.jpg with white background\n"
     ]
    },
    {
     "name": "stderr",
     "output_type": "stream",
     "text": [
      "Processing images:  76%|███████▌  | 1273/1679 [01:50<00:38, 10.62it/s]"
     ]
    },
    {
     "name": "stdout",
     "output_type": "stream",
     "text": [
      "Processing c2f9d984680c799a9ef014ad05b69e08.png with transparency\n"
     ]
    },
    {
     "name": "stderr",
     "output_type": "stream",
     "text": [
      "\r",
      "Processing images:  76%|███████▌  | 1276/1679 [01:50<00:31, 12.82it/s]"
     ]
    },
    {
     "name": "stdout",
     "output_type": "stream",
     "text": [
      "Processing bb68f9e88b8ec00702a4255552fd9a58.jpg with white background\n",
      "Processing c35cf6281c2335caa10374a5cbfac50b.jpg with white background\n",
      "Processing c3f8894d48d0bd98332cd68218754adf.png with transparency\n",
      "Processing c2c3407683d828c1196e5a348d7c4021.jpg with white background\n"
     ]
    },
    {
     "name": "stderr",
     "output_type": "stream",
     "text": [
      "\r",
      "Processing images:  76%|███████▌  | 1279/1679 [01:50<00:30, 13.21it/s]"
     ]
    },
    {
     "name": "stdout",
     "output_type": "stream",
     "text": [
      "Skipping c350d8cb8b228b355c5114d8fbf7a79b.jpg due to non-white background\n",
      "Processing c402ed95879f63d0852229bad10b4490.png with transparency\n",
      "Processing c3d325111a28d13b49f194cf31a8a86e.jpg with white background\n",
      "Processing c40b7b53f92a5392eb59e44939035dad.jpg with white background\n",
      "Processing c44203228b102c977c48bf76e672fc7e.png with transparency\n",
      "Processing c2de747df5e45228a798cfcba02f1b00.jpg with white background\n"
     ]
    },
    {
     "name": "stderr",
     "output_type": "stream",
     "text": [
      "Processing images:  77%|███████▋  | 1286/1679 [01:51<00:25, 15.70it/s]"
     ]
    },
    {
     "name": "stdout",
     "output_type": "stream",
     "text": [
      "Processing c492228221f6b63ce2f6f15b5264ab55.jpg with white background\n",
      "Processing c3ab196848f1ebc33f4c7625b55b7dc8.jpg with white background\n",
      "Processing c3b05b4a86b207184ee3d9c4fd6780bf.jpg with white background\n",
      "Processing c4c8bdb06adca668a6e77b02408c1c1c.jpg with white background\n",
      "Processing c48ee8d3c39f91560ff7ef34a3156015.png with transparency\n",
      "Processing bdd8edfcfe660566fbbe9bccb5cb3a7d.jpg with white background\n",
      "Processing c61bcee733ed667e8c5231ccd478b15e.png with transparency\n"
     ]
    },
    {
     "name": "stderr",
     "output_type": "stream",
     "text": [
      "Processing images:  77%|███████▋  | 1290/1679 [01:51<00:40,  9.62it/s]"
     ]
    },
    {
     "name": "stdout",
     "output_type": "stream",
     "text": [
      "Processing c615dc01d9b762e3cf06bf1f87203cf0.jpg with white background\n",
      "Processing c6b07103a50469db01d9543120038041.png with transparency\n"
     ]
    },
    {
     "name": "stderr",
     "output_type": "stream",
     "text": [
      "\r",
      "Processing images:  77%|███████▋  | 1296/1679 [01:51<00:25, 15.22it/s]"
     ]
    },
    {
     "name": "stdout",
     "output_type": "stream",
     "text": [
      "Skipping c6b574b992b4fd106b1b8ba129a48985.jpg due to non-white background\n",
      "Processing c4e86e1bc729190d6bf23759188c1d24.jpg with white background\n",
      "Processing c51200116126771640d0d749505cf45f.jpg with white background\n"
     ]
    },
    {
     "name": "stderr",
     "output_type": "stream",
     "text": [
      "Processing images:  77%|███████▋  | 1301/1679 [01:52<00:22, 16.94it/s]"
     ]
    },
    {
     "name": "stdout",
     "output_type": "stream",
     "text": [
      "Skipping c6f802e2a9c2e24e79ffc0fc30a64ecb.jpg due to non-white background\n",
      "Processing c6f404ae0fd67ca86a17b87d55cf1c2c.jpg with white background\n",
      "Skipping c6c0571181f65b0eb1451d72cedd1aa2.jpg due to non-white background\n",
      "Skipping c71849f14b34aa61a03ad1e5c8ba12a7.jpg due to non-white background\n",
      "Processing c79f09f34fc13ff374d9a964b6dbf6bd.png with transparency\n",
      "Processing c7bf1cf9ba26dff420fcb7f2e9d67e65.png with transparency\n",
      "Processing c666ce852aeb8abea55f465f05b0f465.jpg with white background\n",
      "Processing c6fa3c92798747e5ab2c55bcbcd7e272.jpg with white background\n",
      "Processing c7b13b274381ccecdb8ad6acbfcb31cd.jpg with white background\n",
      "Processing c6ebe36cd293868a6d8745c95596288d.jpg with white background\n",
      "Processing c6f6076899e050f7b881ff61dad4c448.jpg with white background\n"
     ]
    },
    {
     "name": "stderr",
     "output_type": "stream",
     "text": [
      "\r",
      "Processing images:  78%|███████▊  | 1305/1679 [01:52<00:26, 14.36it/s]"
     ]
    },
    {
     "name": "stdout",
     "output_type": "stream",
     "text": [
      "Processing c6f4495414e740321474a99abab6be02.jpg with white background\n",
      "Processing c7a8667f0d393c58c26be9c5e9ad8d54.jpg with white background\n",
      "Processing c866ff97ee10443d1404c87b520cabeb.jpg with white background\n",
      "Processing c88104feafd1b6d781161e754d7279b2.png with transparency\n"
     ]
    },
    {
     "name": "stderr",
     "output_type": "stream",
     "text": [
      "Processing images:  78%|███████▊  | 1314/1679 [01:53<00:31, 11.47it/s]"
     ]
    },
    {
     "name": "stdout",
     "output_type": "stream",
     "text": [
      "Processing c8c654336f429437f94c4eb4242b5e03.png with transparencySkipping c8bd94e9751586cbc59adb0a1893a3cb.jpg due to blurriness (variance of Laplacian)\n",
      "\n"
     ]
    },
    {
     "name": "stderr",
     "output_type": "stream",
     "text": [
      "Processing images:  79%|███████▊  | 1319/1679 [01:53<00:23, 15.14it/s]"
     ]
    },
    {
     "name": "stdout",
     "output_type": "stream",
     "text": [
      "Skipping c978044bd72427f2d846b48899a5a28d.jpg due to non-white background\n",
      "Processing c9f732e1e46ce4de32bdfe737415cd5e.png with transparency\n",
      "Processing c935845b4e956dba9876314c5bdf7ef0.jpg with white background\n",
      "Processing c98849e879a4e66152cf019f5c511e0d.jpg with white background\n",
      "Processing c9999d82055e6f26d13f94395be181e5.png with transparency\n"
     ]
    },
    {
     "name": "stderr",
     "output_type": "stream",
     "text": [
      "\r",
      "Processing images:  79%|███████▊  | 1321/1679 [01:54<00:27, 12.79it/s]"
     ]
    },
    {
     "name": "stdout",
     "output_type": "stream",
     "text": [
      "Processing c8fbc2a9e5ec0b0e55e4753a784a1536.jpg with white background\n",
      "Processing c9f8b42aaaa9e3b697af40d6451f53e0.jpg with white background\n",
      "Skipping ca44da0b690b7efaa46d9b8ce7056a2e.jpg due to non-white background\n",
      "Processing c8e688d88b10dcdee5c52c8cc86fcc0c.jpg with white background\n"
     ]
    },
    {
     "name": "stderr",
     "output_type": "stream",
     "text": [
      "Processing images:  79%|███████▉  | 1325/1679 [01:54<00:29, 11.99it/s]"
     ]
    },
    {
     "name": "stdout",
     "output_type": "stream",
     "text": [
      "Skipping c9cb8ae60492c06c8925ebfb4c9bd180.jpg due to non-white background\n",
      "Processing c97f700f2815101a82a3ce91723491e5.jpg with white background\n",
      "Processing c9be305c5c95463ba0ce3088765616b0.jpg with white background\n",
      "Processing ca5b4638bfa04c88cc4f956b7d827224.jpg with white background\n",
      "Processing c92a507db2396c40d16ffc08e4e0cf94.jpg with white background\n",
      "Processing cac795999443b85cf02ba41b083eccdf.jpg with white background\n"
     ]
    },
    {
     "name": "stderr",
     "output_type": "stream",
     "text": [
      "\r",
      "Processing images:  79%|███████▉  | 1327/1679 [01:54<00:39,  8.98it/s]"
     ]
    },
    {
     "name": "stdout",
     "output_type": "stream",
     "text": [
      "Processing ca6508a1a95deb9273317b10886eef3d.jpg with white background\n",
      "Processing ca9c04d839d9862a71ba59c6c677bd9a.jpg with white background\n",
      "Processing cbe4adbbcf7e3881b3bf5688cc178423.jpg with white background\n"
     ]
    },
    {
     "name": "stderr",
     "output_type": "stream",
     "text": [
      "Processing images:  79%|███████▉  | 1332/1679 [01:55<00:33, 10.27it/s]"
     ]
    },
    {
     "name": "stdout",
     "output_type": "stream",
     "text": [
      "Processing cc14396f85691b4e2749b45a4bad4a23.png with transparency\n",
      "Processing cbe2df223cdb51775518e4732f7f4da8.jpg with white background\n"
     ]
    },
    {
     "name": "stderr",
     "output_type": "stream",
     "text": [
      "\r",
      "Processing images:  79%|███████▉  | 1334/1679 [01:55<00:30, 11.21it/s]"
     ]
    },
    {
     "name": "stdout",
     "output_type": "stream",
     "text": [
      "Skipping cbf7ff911db7df8f74f0c431018b5bdf.jpg due to non-white background\n",
      "Processing c7e141cdc5b86e562b3696940256c42d.jpg with white background\n"
     ]
    },
    {
     "name": "stderr",
     "output_type": "stream",
     "text": [
      "Processing images:  80%|███████▉  | 1340/1679 [01:55<00:26, 13.00it/s]"
     ]
    },
    {
     "name": "stdout",
     "output_type": "stream",
     "text": [
      "Processing cd779d39ef333605eb5d28d62e590145.png with transparency\n",
      "Skipping cb2b614e11e71bade0db4096157ceb7f.jpg due to non-white background\n",
      "Processing cc9041db5a4a7f30fdfb479f41d31cfe.jpg with white background\n",
      "Processing cca993c819a3dd7b1d5504e2a877aaec.jpg with white background\n",
      "Processing cd7beabedaded4768c99fda996ab90ac.jpg with white background\n"
     ]
    },
    {
     "name": "stderr",
     "output_type": "stream",
     "text": [
      "Processing images:  80%|████████  | 1344/1679 [01:56<00:24, 13.96it/s]"
     ]
    },
    {
     "name": "stdout",
     "output_type": "stream",
     "text": [
      "Processing cd2348d7aa9f8f08b69700a80f9fac20.jpg with white background\n",
      "Processing cc2a1f80f63211feebe9e5687351cc05.jpg with white background\n",
      "Processing cdb9f2223dbc4591b184a309588ea0af.jpg with white background\n",
      "Processing cdc5161cd4347b535cdab6959f34e98f.jpg with white background\n",
      "Processing cc1b1efd2401f87f67bd6564b4c7f41a.jpg with white background\n",
      "Processing c82334580e6d87b7486cf110aeb8048c.jpg with white background\n",
      "Processing cdd531e549a006fa941a27cbce51fa79.jpg with white background\n"
     ]
    },
    {
     "name": "stderr",
     "output_type": "stream",
     "text": [
      "\r",
      "Processing images:  80%|████████  | 1346/1679 [01:56<00:28, 11.59it/s]"
     ]
    },
    {
     "name": "stdout",
     "output_type": "stream",
     "text": [
      "Processing cdfac8e3208fb8cb66f30c37ee70f539.jpg with white background\n"
     ]
    },
    {
     "name": "stderr",
     "output_type": "stream",
     "text": [
      "\r",
      "Processing images:  80%|████████  | 1348/1679 [01:56<00:49,  6.74it/s]"
     ]
    },
    {
     "name": "stdout",
     "output_type": "stream",
     "text": [
      "Processing ceacd7683251d35862404ef2e6a0541e.png with transparency\n"
     ]
    },
    {
     "name": "stderr",
     "output_type": "stream",
     "text": [
      "\r",
      "Processing images:  80%|████████  | 1350/1679 [01:57<00:57,  5.74it/s]"
     ]
    },
    {
     "name": "stdout",
     "output_type": "stream",
     "text": [
      "Skipping ce09ebd29282b25befb1757a6aa6eec3.jpg due to non-white background\n",
      "Skipping caeeefbeb79fa443671aacbbbbdef6d7.jpg due to non-white background\n",
      "Processing cdfe1f018ec1e8f4c53af9f0db3f914f.jpg with white background\n",
      "Processing cdfa8afa6eb87e40adcbb70e891e27cc.jpg with white background\n",
      "Processing cee798423c4d7a79cfb2b086737ff66a.png with transparency\n"
     ]
    },
    {
     "name": "stderr",
     "output_type": "stream",
     "text": [
      "Processing images:  81%|████████  | 1359/1679 [01:57<00:25, 12.36it/s]"
     ]
    },
    {
     "name": "stdout",
     "output_type": "stream",
     "text": [
      "Processing cf2a636f753fb1939861524d9f3a4f7d.png with transparency\n",
      "Processing cc7d14fdadcf94e0bc7aa283ed20cf2a.jpg with white background\n",
      "Processing cf4ebff93fcac83f9249a1388bb9d547.jpg with white background\n",
      "Processing cf5654d5a374cc9ae211c73461b6d798.png with transparency\n",
      "Processing cf9afd161aff577539837cdc334bc2b4.png with transparency\n"
     ]
    },
    {
     "name": "stderr",
     "output_type": "stream",
     "text": [
      "\r",
      "Processing images:  81%|████████  | 1361/1679 [01:58<00:29, 10.91it/s]"
     ]
    },
    {
     "name": "stdout",
     "output_type": "stream",
     "text": [
      "Skipping cf5094dafe4a00d8ef8603b3fadba8f3.jpg due to non-white background\n",
      "Processing ceb534621c2a3aa8ed0120909995a5e9.jpg with white background\n",
      "Processing cfaf62db3d15b4d182ecb34de5e45497.jpg with white background\n",
      "Processing ce9c1d7024edf32f92a4ebe89d8104fb.jpg with white background\n"
     ]
    },
    {
     "name": "stderr",
     "output_type": "stream",
     "text": [
      "\r",
      "Processing images:  81%|████████  | 1363/1679 [01:58<00:34,  9.06it/s]"
     ]
    },
    {
     "name": "stdout",
     "output_type": "stream",
     "text": [
      "Processing cf2281af8c1a007015117ff1ff431997.jpg with white background\n"
     ]
    },
    {
     "name": "stderr",
     "output_type": "stream",
     "text": [
      "\r",
      "Processing images:  81%|████████▏ | 1365/1679 [01:58<00:40,  7.85it/s]"
     ]
    },
    {
     "name": "stdout",
     "output_type": "stream",
     "text": [
      "Processing d045cab9115901f81f106802ae511d2b.jpg with white background\n",
      "Processing cfadb60eb99bd346414265c3bdb39882.jpg with white background\n",
      "Processing d08d5b746a28b519790feeda9c8fa33f.jpg with white background\n",
      "Processing d0cc8595a2dacbee1f79d035a74bdd03.jpg with white background\n",
      "Processing d04dae3fa678b7bf19d7932be5652aa6.jpg with white background\n",
      "Processing d038845ec5d799d55e4d24d9595e0c1e.jpg with white background\n"
     ]
    },
    {
     "name": "stderr",
     "output_type": "stream",
     "text": [
      "Processing images:  82%|████████▏ | 1369/1679 [01:59<00:35,  8.75it/s]"
     ]
    },
    {
     "name": "stdout",
     "output_type": "stream",
     "text": [
      "Processing d0f3eb32d4e0b393b6f835f80bdc1d6a.jpg with white background\n",
      "Processing d0f1bbb94207aae6fe77e34bf5f9e370.jpg with white background\n"
     ]
    },
    {
     "name": "stderr",
     "output_type": "stream",
     "text": [
      "Processing images:  82%|████████▏ | 1375/1679 [01:59<00:24, 12.49it/s]"
     ]
    },
    {
     "name": "stdout",
     "output_type": "stream",
     "text": [
      "Skipping d20fa6f1bb1aa3a4715437dce909de3d.jpg due to non-white background\n",
      "Processing d241a1033ce634ee40b8dc0734f6d5ec.jpg with white background\n",
      "Skipping d1b076e391aad4cd3231a3349f161398.jpg due to non-white background\n"
     ]
    },
    {
     "name": "stderr",
     "output_type": "stream",
     "text": [
      "Processing images:  82%|████████▏ | 1381/1679 [02:00<00:25, 11.66it/s]"
     ]
    },
    {
     "name": "stdout",
     "output_type": "stream",
     "text": [
      "Processing d1ad06f3938184946fd8053a259d8ac1.jpg with white background\n",
      "Processing d2d22313048f9942c8a87d8acf4a4bea.png with transparency\n",
      "Processing d40cf97d20a2e112c723596fd52d0042.jpg with white background\n",
      "Processing d2060f2a4570c68b24e6dc4fc60eab82.jpg with white background\n",
      "Processing d2daacd2bf7742b0ce8585517851d51a.jpg with white background\n",
      "Processing d44b5fc9d3cb41a820864d2976b90ff1.png with transparency\n",
      "Processing d15f59570778cdf876f7409528fa54e7.jpg with white background\n",
      "Processing d21781a40d85ac7210aff5e633c8210f.jpg with white background\n"
     ]
    },
    {
     "name": "stderr",
     "output_type": "stream",
     "text": [
      "\r",
      "Processing images:  82%|████████▏ | 1385/1679 [02:00<00:31,  9.23it/s]"
     ]
    },
    {
     "name": "stdout",
     "output_type": "stream",
     "text": [
      "Skipping d3f0c8613abdb2f5538eaddb95c55378.jpg due to non-white background\n",
      "Processing d499550ba20901699124f333d2ef3736.png with transparency\n",
      "Processing d39d7cffc1063372e789b1464eef0bed.jpg with white background\n",
      "Processing d2bfe53cb389efbe30c07759bbf47f68.jpg with white background\n"
     ]
    },
    {
     "name": "stderr",
     "output_type": "stream",
     "text": [
      "\r",
      "Processing images:  83%|████████▎ | 1387/1679 [02:00<00:30,  9.57it/s]"
     ]
    },
    {
     "name": "stdout",
     "output_type": "stream",
     "text": [
      "Processing d48ae56cf9b84dfd3525dc351c463706.jpg with white background\n",
      "Processing d48c39a09fa2948cb3d45f8557e8eedb.jpg with white background\n",
      "Processing d482a81c62c19b5c7a804670f27bda1b.jpg with white background\n"
     ]
    },
    {
     "name": "stderr",
     "output_type": "stream",
     "text": [
      "Processing images:  83%|████████▎ | 1392/1679 [02:01<00:27, 10.40it/s]"
     ]
    },
    {
     "name": "stdout",
     "output_type": "stream",
     "text": [
      "Processing ccc4b7eaadd18ed5c0762b63dfe30355.jpg with white background\n",
      "Processing d2b7df11ed7b1b234a7564117925cdae.jpg with white background\n",
      "Skipping d4da7a94c0a42a14487d48e63643493a.jpg due to non-white background\n",
      "Processing cda5a380a3e6c5d9345dae0f27d8c7d9.jpg with white background\n",
      "Skipping d29140923aff4e572e532d3e2a2f0081.jpg due to non-white background\n",
      "Processing d57cb040c1a38f2985ffd9afc89ce1a6.png with transparency\n"
     ]
    },
    {
     "name": "stderr",
     "output_type": "stream",
     "text": [
      "\r",
      "Processing images:  83%|████████▎ | 1394/1679 [02:01<00:30,  9.22it/s]"
     ]
    },
    {
     "name": "stdout",
     "output_type": "stream",
     "text": [
      "Processing d5549a14eb037d5295c2f5d9d5ff9ad3.jpg with white background\n",
      "Processing d5aa80fc36e82888880ba361fbe511a2.png with transparency\n",
      "Processing d5441173c181cc5ad29eed283e3889fe.jpg with white background\n"
     ]
    },
    {
     "name": "stderr",
     "output_type": "stream",
     "text": [
      "Processing images:  83%|████████▎ | 1401/1679 [02:02<00:23, 12.06it/s]"
     ]
    },
    {
     "name": "stdout",
     "output_type": "stream",
     "text": [
      "Processing d60dc9db0cbb5d7f93c5b24603a382f5.jpg with white background\n",
      "Processing d760b3d606da9f0df6a5c98e27f132ec.png with transparency\n",
      "Processing d5106394464a8c0d64e490fcca56a32e.jpg with white background\n"
     ]
    },
    {
     "name": "stderr",
     "output_type": "stream",
     "text": [
      "\r",
      "Processing images:  84%|████████▎ | 1403/1679 [02:02<00:25, 10.63it/s]"
     ]
    },
    {
     "name": "stdout",
     "output_type": "stream",
     "text": [
      "Processing d5b37edd4bf5b20e267d636dfe7d96aa.jpg with white background\n",
      "Processing d5a06634c6aef6902769b086a45c6856.jpg with white background\n",
      "Processing d79168d3e8bca40f8c6dad8a34097d97.png with transparency\n",
      "Processing d71d77e10e9cd2dd2bfdadd76e15ca73.jpg with white background\n",
      "Processing d7faf5d36438b977915558bf7bfda55f.png with transparency\n",
      "Processing d7500a9d9afac8c2334663dd923c13f4.jpg with white background\n"
     ]
    },
    {
     "name": "stderr",
     "output_type": "stream",
     "text": [
      "\r",
      "Processing images:  84%|████████▎ | 1405/1679 [02:02<00:29,  9.34it/s]"
     ]
    },
    {
     "name": "stdout",
     "output_type": "stream",
     "text": [
      "Processing d8049ac1c44a7fed80aff62b38c6a6b9.jpg with white background\n",
      "Processing d6e2d3331fa56c2ab4978903f10ec639.jpg with white background\n",
      "Processing d83374204d795e604c5b8fc1927df937.jpg with white background\n",
      "Processing d8d5f03aed939a9912c35ca0b13bdecb.png with transparency\n"
     ]
    },
    {
     "name": "stderr",
     "output_type": "stream",
     "text": [
      "Processing images:  84%|████████▍ | 1409/1679 [02:03<00:42,  6.34it/s]"
     ]
    },
    {
     "name": "stdout",
     "output_type": "stream",
     "text": [
      "Processing d95934585da1818808ea0cc07c7fdbb6.jpg with white background\n",
      "Processing d90502836c1a8d9b8f1c465e74aad95c.jpg with white background\n"
     ]
    },
    {
     "name": "stderr",
     "output_type": "stream",
     "text": [
      "Processing images:  84%|████████▍ | 1414/1679 [02:03<00:25, 10.38it/s]"
     ]
    },
    {
     "name": "stdout",
     "output_type": "stream",
     "text": [
      "Processing d941f7e505b21720850ef5db9d6888a6.jpg with white background\n",
      "Processing d9c6387866f6cf4f11006a1f5293b210.png with transparency\n"
     ]
    },
    {
     "name": "stderr",
     "output_type": "stream",
     "text": [
      "\r",
      "Processing images:  84%|████████▍ | 1417/1679 [02:03<00:20, 12.57it/s]"
     ]
    },
    {
     "name": "stdout",
     "output_type": "stream",
     "text": [
      "Processing d9752e57567fe5ac2d74addc8fa93584.jpg with white background\n",
      "Skipping da378134799ce1e0f0c444d2f4ada2f0.jpg due to non-white background\n",
      "Processing da63bd524a9b29f43aa683e34d3eef87.png with transparency\n",
      "Processing db06c727c2b637349de43434b4c55286.jpg with white background\n"
     ]
    },
    {
     "name": "stderr",
     "output_type": "stream",
     "text": [
      "Processing images:  85%|████████▍ | 1423/1679 [02:04<00:19, 13.40it/s]"
     ]
    },
    {
     "name": "stdout",
     "output_type": "stream",
     "text": [
      "Skipping dafd15f859568a0866e6770dc19cce9f.jpg due to non-white background\n",
      "Processing daeed16c1346c90775aed4a85a7b5733.jpg with white background\n"
     ]
    },
    {
     "name": "stderr",
     "output_type": "stream",
     "text": [
      "Processing images:  85%|████████▌ | 1430/1679 [02:04<00:14, 17.68it/s]"
     ]
    },
    {
     "name": "stdout",
     "output_type": "stream",
     "text": [
      "Processing db7d4dff74980b582dcc5b720f9b1761.png with transparency\n",
      "Skipping db12dc869f1f167e2e5f2d9321cb4ac4.jpg due to non-white background\n",
      "Skipping db5fb1a0f3a414422218d15b4cdf29e1.jpg due to non-white background\n",
      "Skipping db3bc7bebdc7962648b808054808ac40.jpg due to non-white background\n",
      "Processing db28d2483ff8b8beb4e360d245e910a3.jpg with white background\n",
      "Processing db11de6dfa307d7fc22ddee9af9ac21f.jpg with white background\n"
     ]
    },
    {
     "name": "stderr",
     "output_type": "stream",
     "text": [
      "Processing images:  85%|████████▌ | 1435/1679 [02:05<00:19, 12.61it/s]"
     ]
    },
    {
     "name": "stdout",
     "output_type": "stream",
     "text": [
      "Processing daf43849849f2d8f86c16c02bd458ba2.jpg with white background\n",
      "Processing db8c8db642f072343b009fce628d5144.png with transparency\n",
      "Skipping dc9803f88bb18ac14390f7a9065fd630.jpg due to non-white background\n",
      "Processing db27f1c3a499da8a39d91c937fc00a7e.jpg with white background\n",
      "Processing dbaa07235c8de5c8b388dbbc4ddd49b1.jpg with white background\n"
     ]
    },
    {
     "name": "stderr",
     "output_type": "stream",
     "text": [
      "\r",
      "Processing images:  86%|████████▌ | 1437/1679 [02:05<00:24, 10.04it/s]"
     ]
    },
    {
     "name": "stdout",
     "output_type": "stream",
     "text": [
      "Processing db83d3c2c929a2c5f66aed98678f2e40.jpg with white background\n",
      "Processing dca1672c7bc0bc73b5b712bad513de7f.jpg with white background\n",
      "Skipping dc340d914b42e71d5f7fe30055668c6b.jpg due to non-white background\n",
      "Processing dd2062784e10423d0df3a5c2613b1235.png with transparency\n",
      "Processing dbe053994f0c2799f1f57ccd6e80ca81.jpg with white background\n"
     ]
    },
    {
     "name": "stderr",
     "output_type": "stream",
     "text": [
      "\r",
      "Processing images:  86%|████████▌ | 1439/1679 [02:06<00:28,  8.42it/s]"
     ]
    },
    {
     "name": "stdout",
     "output_type": "stream",
     "text": [
      "Processing dc97b34a265b4e1a5721d3d8bed91531.jpg with white background\n",
      "Processing dbef1a0d80ad7b57d040da13d671b11b.jpg with white background\n",
      "Skipping dd20d43ffb61e8c31343cc683269a187.jpg due to blurriness (variance of Laplacian)\n",
      "Processing dc9a5f4d55c59366b0fd4bbe95db54f9.jpg with white background\n",
      "Processing dca86201322c9d6e624e4e40bb5605bd.jpg with white background\n",
      "Processing dba61af1b0842d7b26567ea90755947e.jpg with white background\n"
     ]
    },
    {
     "name": "stderr",
     "output_type": "stream",
     "text": [
      "\r",
      "Processing images:  86%|████████▌ | 1441/1679 [02:06<00:26,  8.85it/s]"
     ]
    },
    {
     "name": "stdout",
     "output_type": "stream",
     "text": [
      "Processing dd41c958d13c10e597ce4adf4f9e675b.jpg with white background\n",
      "Processing d7874c032cdfa9dab79788b26654017d.jpg with white background\n",
      "Processing dd6c4d2608cd4a9a4dbf8dc290187a17.png with transparency\n"
     ]
    },
    {
     "name": "stderr",
     "output_type": "stream",
     "text": [
      "Processing images:  86%|████████▌ | 1444/1679 [02:06<00:35,  6.71it/s]"
     ]
    },
    {
     "name": "stdout",
     "output_type": "stream",
     "text": [
      "Processing dd3b21a757592393bf7994ace8453c27.jpg with white background\n"
     ]
    },
    {
     "name": "stderr",
     "output_type": "stream",
     "text": [
      "Processing images:  86%|████████▋ | 1449/1679 [02:07<00:23,  9.81it/s]"
     ]
    },
    {
     "name": "stdout",
     "output_type": "stream",
     "text": [
      "Processing de2a89ba0224ece20752935035f1d689.png with transparencyProcessing dd4e6e4cddac645d755ace525b7ba7c3.jpg with white background\n",
      "Processing de12fb2b5e38061112da23d806914430.jpg with white background\n",
      "\n"
     ]
    },
    {
     "name": "stderr",
     "output_type": "stream",
     "text": [
      "\r",
      "Processing images:  86%|████████▋ | 1451/1679 [02:07<00:20, 11.11it/s]"
     ]
    },
    {
     "name": "stdout",
     "output_type": "stream",
     "text": [
      "Processing de92b565cab78bfcdde54f53f181d8b7.png with transparency\n",
      "Processing dd77a6afbdf8069dc534c65030a2f274.jpg with white background\n",
      "Processing dfa888436b5fcac4c327610eb58647e4.jpg with white background\n",
      "Processing ddefee4bcd69343381ee87417ca5c279.jpg with white background\n"
     ]
    },
    {
     "name": "stderr",
     "output_type": "stream",
     "text": [
      "Processing images:  87%|████████▋ | 1457/1679 [02:07<00:22, 10.05it/s]"
     ]
    },
    {
     "name": "stdout",
     "output_type": "stream",
     "text": [
      "Processing de31b76d9e94719de0375ce8ed5ff1b7.jpg with white background\n",
      "Processing e00cd10ff8f675cc9443979effea9899.jpg with white background\n",
      "Processing df271ad1c70bb5576ffa448b9f2c8f1f.jpg with white background\n",
      "Skipping e00bc64cfc971206b16a01ba79bd081a.jpg due to non-white background\n"
     ]
    },
    {
     "name": "stderr",
     "output_type": "stream",
     "text": [
      "\r",
      "Processing images:  87%|████████▋ | 1459/1679 [02:08<00:25,  8.63it/s]"
     ]
    },
    {
     "name": "stdout",
     "output_type": "stream",
     "text": [
      "Processing dfac53d8c96e479ff1cf154ee65d688a.jpg with white background\n",
      "Processing e0602701ef6d7e0fff2f81d9dd0f72f6.jpg with white background\n"
     ]
    },
    {
     "name": "stderr",
     "output_type": "stream",
     "text": [
      "Processing images:  87%|████████▋ | 1467/1679 [02:08<00:14, 14.43it/s]"
     ]
    },
    {
     "name": "stdout",
     "output_type": "stream",
     "text": [
      "Processing e16f84b83f6d69f6829b841d6761c55e.png with transparency\n",
      "Processing e1f5b749d6d81f21cd5f25c34387f745.jpg with white background\n",
      "Processing e126b290e9d9d88371fea05b676bb773.jpg with white background\n",
      "Processing e289a309f0b5e29d09b970e0e4d6ddc4.png with transparency\n"
     ]
    },
    {
     "name": "stderr",
     "output_type": "stream",
     "text": [
      "\r",
      "Processing images:  87%|████████▋ | 1469/1679 [02:09<00:23,  8.77it/s]"
     ]
    },
    {
     "name": "stdout",
     "output_type": "stream",
     "text": [
      "Skipping e1d2d4e4a7ef8432a557ea0fa383ba99.jpg due to non-white background\n",
      "Processing e336df100d89d61e0300fa87c6fb567e.jpg with white background\n",
      "Processing e18907777b378e0f40c0f3cc4925a92b.jpg with white background\n",
      "Processing e30a2d6b6be0bcf55c6d8d10d798f345.jpg with white background\n"
     ]
    },
    {
     "name": "stderr",
     "output_type": "stream",
     "text": [
      "\r",
      "Processing images:  88%|████████▊ | 1471/1679 [02:09<00:28,  7.30it/s]"
     ]
    },
    {
     "name": "stdout",
     "output_type": "stream",
     "text": [
      "Processing e2f0223d32c98208c85b4597417ee1de.jpg with white background\n",
      "Processing e2bf1f8af1fb17ed3c7ef74eebe943ef.jpg with white background\n"
     ]
    },
    {
     "name": "stderr",
     "output_type": "stream",
     "text": [
      "\r",
      "Processing images:  88%|████████▊ | 1474/1679 [02:10<00:28,  7.22it/s]"
     ]
    },
    {
     "name": "stdout",
     "output_type": "stream",
     "text": [
      "Processing d9e50116beeee9d2815301bcb84fa963.jpg with white background\n",
      "Processing e3f9f384639fd3333c1ed7b4bbbe1f3d.png with transparency\n",
      "Processing e1922439b3718e52c760af4017866f9d.jpg with white background\n",
      "Processing e3db4792c46d97267717141f55511123.jpg with white background\n"
     ]
    },
    {
     "name": "stderr",
     "output_type": "stream",
     "text": [
      "Processing images:  88%|████████▊ | 1476/1679 [02:10<00:27,  7.33it/s]"
     ]
    },
    {
     "name": "stdout",
     "output_type": "stream",
     "text": [
      "Processing e3fdb2bf4ceb8e17e42e76d2f2b71339.jpg with white background\n",
      "Skipping e3f5d84025b69eebab08377e83828dbc.jpg due to non-white background\n",
      "Processing e336e2a3122f14888ba884183f388ada.jpg with white background\n"
     ]
    },
    {
     "name": "stderr",
     "output_type": "stream",
     "text": [
      "\r",
      "Processing images:  88%|████████▊ | 1478/1679 [02:10<00:30,  6.56it/s]"
     ]
    },
    {
     "name": "stdout",
     "output_type": "stream",
     "text": [
      "Processing e44d51327e055d068c5cc7393eaf0a52.jpg with white background\n",
      "Processing e3f788488208bd1d891d12515e920117.jpg with white background\n",
      "Processing e49d01c4150727e64e2fbcafa6363962.png with transparency\n",
      "Skipping e457093951f7ee8a49d155650a18c358.jpg due to non-white background\n"
     ]
    },
    {
     "name": "stderr",
     "output_type": "stream",
     "text": [
      "\r",
      "Processing images:  88%|████████▊ | 1482/1679 [02:11<00:23,  8.42it/s]"
     ]
    },
    {
     "name": "stdout",
     "output_type": "stream",
     "text": [
      "Processing e402d8a277c9788ed7c20a33b7cd6f85.jpg with white background\n",
      "Processing e4ec98958c5e5352c013b2e6edca7ed3.png with transparency\n",
      "Processing e620df3dbdc531f9aa398227f2baedb7.png with transparency\n"
     ]
    },
    {
     "name": "stderr",
     "output_type": "stream",
     "text": [
      "Processing images:  89%|████████▊ | 1489/1679 [02:11<00:17, 10.98it/s]"
     ]
    },
    {
     "name": "stdout",
     "output_type": "stream",
     "text": [
      "Processing e4d5edcdd78125136d6032d902c6f9b4.jpg with white background\n",
      "Processing e6452ffed4d5d5e655eb018ad0402c5b.png with transparency\n",
      "Skipping e6e76f5899ef1277347fae6a2ceb9c2c.jpg due to non-white background\n",
      "Processing e5fcce32c32b8de8daa5b925cc5606a7.jpg with white background\n"
     ]
    },
    {
     "name": "stderr",
     "output_type": "stream",
     "text": [
      "\r",
      "Processing images:  89%|████████▉ | 1491/1679 [02:11<00:17, 10.50it/s]"
     ]
    },
    {
     "name": "stdout",
     "output_type": "stream",
     "text": [
      "Processing e634c4b0047125a9db99c02e68ece7ec.jpg with white background\n",
      "Processing e691e973c5da5f5a8e064cc5a78a04d1.jpg with white background\n",
      "Processing e63f2bc621159af9337a1d40abe84074.jpg with white background\n"
     ]
    },
    {
     "name": "stderr",
     "output_type": "stream",
     "text": [
      "\r",
      "Processing images:  89%|████████▉ | 1493/1679 [02:12<00:17, 10.43it/s]"
     ]
    },
    {
     "name": "stdout",
     "output_type": "stream",
     "text": [
      "Processing e6e816aa45edfa9979487aa82f869d5a.jpg with white background\n",
      "Processing e74e7015bfacb7771f3d0163f572c11c.png with transparency\n",
      "Processing e64001de327ca17d3dd98d3ba9b823fa.jpg with white background\n",
      "Processing e78ab9c4f91d833e88939d9f5847d7a8.png with transparency\n",
      "Processing e6f96db2dff35cbe1f8fe2030aa3be5e.jpg with white background\n"
     ]
    },
    {
     "name": "stderr",
     "output_type": "stream",
     "text": [
      "Processing images:  89%|████████▉ | 1499/1679 [02:12<00:15, 11.91it/s]"
     ]
    },
    {
     "name": "stdout",
     "output_type": "stream",
     "text": [
      "Processing e0e96a6b93b26d7cf5c8c91f7c2e773e.jpg with white backgroundProcessing e70c7c71d777545a1f3bf0fb997ea7e2.jpg with white background\n",
      "\n",
      "Processing e752e8892085c727603009e722b26bab.jpg with white background\n",
      "Processing e6fcfe511977ef5d41899abf859fec3d.jpg with white background\n",
      "Processing e05640a09d744acaacb6583ec9dd6a49.jpg with white background\n"
     ]
    },
    {
     "name": "stderr",
     "output_type": "stream",
     "text": [
      "\r",
      "Processing images:  89%|████████▉ | 1501/1679 [02:12<00:14, 12.04it/s]"
     ]
    },
    {
     "name": "stdout",
     "output_type": "stream",
     "text": [
      "Skipping e7a7abe228a3ecaacd0545e573255851.jpg due to non-white background\n",
      "Processing e89e9ae3266ec85c68acbd27f8d8cef4.jpg with white background\n",
      "Processing e7d80e632a4e663b002cbacc352a0711.png with transparency\n",
      "Processing e8ebf8620e2209741ee617cde9a75cfe.jpg with white background\n"
     ]
    },
    {
     "name": "stderr",
     "output_type": "stream",
     "text": [
      "Processing images:  90%|████████▉ | 1505/1679 [02:13<00:14, 11.96it/s]"
     ]
    },
    {
     "name": "stdout",
     "output_type": "stream",
     "text": [
      "Processing e962ad03f0cbebd01ac79f20e6dc0019.png with transparency\n",
      "Processing e7b8e3f466b77431046384658365f6e7.jpg with white background\n"
     ]
    },
    {
     "name": "stderr",
     "output_type": "stream",
     "text": [
      "Processing images:  90%|█████████ | 1512/1679 [02:13<00:10, 15.90it/s]"
     ]
    },
    {
     "name": "stdout",
     "output_type": "stream",
     "text": [
      "Skipping e77388f9e63a82a627ae2e9ab61e9e49.jpg due to non-white background\n",
      "Processing e900fc50e5da5e084066a1d5c0d6088c.jpg with white background\n",
      "Processing ea0883f55185b56b3f3bb53c761d3fbb.jpg with white background\n",
      "Processing ea8c6f75564b80863154ef0b75052353.jpg with white background\n",
      "Processing ea46c8532703eadcd10dbaf76d92faac.jpg with white background\n",
      "Processing e9d4c65a31389f9a598f1f1447efe880.jpg with white background\n"
     ]
    },
    {
     "name": "stderr",
     "output_type": "stream",
     "text": [
      "\r",
      "Processing images:  90%|█████████ | 1514/1679 [02:13<00:14, 11.77it/s]"
     ]
    },
    {
     "name": "stdout",
     "output_type": "stream",
     "text": [
      "Processing ea315e72aa28d94e142088cac19aa07e.jpg with white background\n",
      "Processing ea44d74f876845ebe7c95f2d613b2595.jpg with white background\n",
      "Processing eb08342fbcc70fd9618904525591ae14.jpg with white background\n",
      "Processing eacb6277635e5d4f33e84d0bd73a8928.jpg with white background\n",
      "Processing e9709dbc6840895c1988bc31cb1761d0.jpg with white background\n"
     ]
    },
    {
     "name": "stderr",
     "output_type": "stream",
     "text": [
      "Processing images:  90%|█████████ | 1518/1679 [02:14<00:16, 10.02it/s]"
     ]
    },
    {
     "name": "stdout",
     "output_type": "stream",
     "text": [
      "Processing eacfa14cffccdb9c82de18d1ad667197.jpg with white background\n",
      "Processing eb0fa39a2ca6d11006eb3d274e8cb0a3.jpg with white background\n",
      "Processing ebedbdb6cfea1505bd7e8e5020e38ce4.jpg with white background\n",
      "Processing eb0c7017b3c4fd35ad6c0eba54574c99.jpg with white background\n"
     ]
    },
    {
     "name": "stderr",
     "output_type": "stream",
     "text": [
      "Processing images:  91%|█████████ | 1524/1679 [02:14<00:11, 13.16it/s]"
     ]
    },
    {
     "name": "stdout",
     "output_type": "stream",
     "text": [
      "Processing eca21b83cfe2204c2043d4ef3318f1ea.png with transparency\n",
      "Processing eb2c053805f07eb7932ee3bf5d2f5ef3.jpg with white background\n",
      "Processing eccf8290307ff855482e13e3413090ae.png with transparency\n"
     ]
    },
    {
     "name": "stderr",
     "output_type": "stream",
     "text": [
      "\r",
      "Processing images:  91%|█████████ | 1526/1679 [02:14<00:13, 11.59it/s]"
     ]
    },
    {
     "name": "stdout",
     "output_type": "stream",
     "text": [
      "Skipping ecf509b776b14b287fb603917fc5ccdf.jpg due to non-white background\n",
      "Processing ec8b20940427848863f0208d70b93e24.jpg with white background\n"
     ]
    },
    {
     "name": "stderr",
     "output_type": "stream",
     "text": [
      "Processing images:  91%|█████████▏| 1533/1679 [02:15<00:09, 14.71it/s]"
     ]
    },
    {
     "name": "stdout",
     "output_type": "stream",
     "text": [
      "Processing ed32afa78df092d7145691a1ad1d7d1f.png with transparency\n",
      "Skipping ebbf0520e3d7071fb0f8e1f0334327fe.jpg due to non-white background\n",
      "Processing ed888ca5587057f936d7ed1e6989f9b0.png with transparency\n",
      "Processing ec1b2e5f48c8925be6478f3ecb87a892.jpg with white background\n",
      "Processing ed353da1dcabb71236a86b1ea4bb28cd.jpg with white background\n",
      "Processing edbeae3702d16d4912be34022f33d5dc.png with transparency\n"
     ]
    },
    {
     "name": "stderr",
     "output_type": "stream",
     "text": [
      "\r",
      "Processing images:  91%|█████████▏| 1535/1679 [02:15<00:12, 11.79it/s]"
     ]
    },
    {
     "name": "stdout",
     "output_type": "stream",
     "text": [
      "Skipping ee11bdaa829abcd75fde8930ef52bfc3.jpg due to non-white background\n",
      "Processing ed2343de11c929c88de13caee4adce1c.jpg with white background\n",
      "Processing ed9f8d149abd453e2741754f69748773.jpg with white background\n"
     ]
    },
    {
     "name": "stderr",
     "output_type": "stream",
     "text": [
      "\r",
      "Processing images:  92%|█████████▏| 1538/1679 [02:15<00:10, 14.05it/s]"
     ]
    },
    {
     "name": "stdout",
     "output_type": "stream",
     "text": [
      "Processing ed39b8fc6d36f734d66875e96445d869.jpg with white background\n",
      "Processing ed6d06b321a040f8f048940b951ad657.jpg with white background\n",
      "Processing eead21a2ce2c0dde0216a18ed97fdf5d.jpg with white background\n"
     ]
    },
    {
     "name": "stderr",
     "output_type": "stream",
     "text": [
      "\r",
      "Processing images:  92%|█████████▏| 1540/1679 [02:15<00:12, 11.07it/s]"
     ]
    },
    {
     "name": "stdout",
     "output_type": "stream",
     "text": [
      "Processing eea1d4ac2b449df0ece1b3055f676ac5.jpg with white background\n",
      "Processing ee6c26f899f367ff554ebd2ef6e01766.jpg with white background\n",
      "Processing ee27a850e42d2e35ad5795c2c98e9ba3.jpg with white background\n"
     ]
    },
    {
     "name": "stderr",
     "output_type": "stream",
     "text": [
      "Processing images:  92%|█████████▏| 1545/1679 [02:16<00:09, 14.24it/s]"
     ]
    },
    {
     "name": "stdout",
     "output_type": "stream",
     "text": [
      "Processing ef0ffc15dd01005fdc98911ecdfa6b6c.jpg with white background\n",
      "An error occurred: cannot identify image file 'image_folder\\\\efa82b4a28380eb081380990934c08b7.jpg'\n",
      "Processing eee5072bfd85da82fc4dbe557503ad83.jpg with white background\n",
      "Processing f0440f37ad29595e47d547167f3fe644.png with transparency\n",
      "Processing eebc7242fa2151dd2aa882b8a53d2645.jpg with white background\n"
     ]
    },
    {
     "name": "stderr",
     "output_type": "stream",
     "text": [
      "Processing images:  92%|█████████▏| 1550/1679 [02:16<00:10, 12.79it/s]"
     ]
    },
    {
     "name": "stdout",
     "output_type": "stream",
     "text": [
      "Processing ef614d4b22df83d6a8eeea05d314eb87.jpg with white background\n",
      "Processing efa9b9eac1494b312170afd2cece1a03.jpg with white background\n",
      "Processing efa5a3cd043e81389b789d4f6dca9f1c.jpg with white background\n",
      "Processing f0827d8f8c8f8b4a91d2cfdb945e1f5e.png with transparency\n",
      "Processing f064ba6b42e22d11b253c3e2cc9d94f1.jpg with white background\n",
      "Processing f0f586bd9042ee5b21769160ffc454d5.jpg with white background\n"
     ]
    },
    {
     "name": "stderr",
     "output_type": "stream",
     "text": [
      "Processing images:  93%|█████████▎| 1556/1679 [02:16<00:07, 17.53it/s]"
     ]
    },
    {
     "name": "stdout",
     "output_type": "stream",
     "text": [
      "Skipping f0dac2eced11f725732fe34b51bb965d.jpg due to non-white background\n",
      "Processing f0f9d5f4312848af7490bf3c5e0a72ba.png with transparency\n",
      "Processing f25928e9f24ce5a528a936488a062c49.png with transparency\n",
      "Skipping f11539f5a828ff045b068801c65d61a7.jpg due to non-white background\n"
     ]
    },
    {
     "name": "stderr",
     "output_type": "stream",
     "text": [
      "\r",
      "Processing images:  93%|█████████▎| 1559/1679 [02:17<00:08, 13.90it/s]"
     ]
    },
    {
     "name": "stdout",
     "output_type": "stream",
     "text": [
      "Processing f250745c15a95b81599974eb498c33f4.png with transparency\n",
      "Processing f159878ee10a766da59a11fe7df97b3d.jpg with white background\n"
     ]
    },
    {
     "name": "stderr",
     "output_type": "stream",
     "text": [
      "\r",
      "Processing images:  93%|█████████▎| 1561/1679 [02:17<00:08, 13.84it/s]"
     ]
    },
    {
     "name": "stdout",
     "output_type": "stream",
     "text": [
      "Processing f284cb34414d923b03b660dcf2ba5b9a.jpg with white background\n",
      "Processing f2a7af7b9e461aa5510ad31f6a2781d2.png with transparency\n",
      "Processing f167450dab1dd3b217ad22bf1a1c2631.jpg with white background\n"
     ]
    },
    {
     "name": "stderr",
     "output_type": "stream",
     "text": [
      "Processing images:  93%|█████████▎| 1565/1679 [02:17<00:09, 12.43it/s]"
     ]
    },
    {
     "name": "stdout",
     "output_type": "stream",
     "text": [
      "Processing f22c35f9a76f04fea02f32040338466f.jpg with white background\n",
      "Processing ecce81cbe5ef19ec9cc55593ce60da44.jpg with white background\n",
      "Processing f22657fffa60c37d47cc6073ba6969d3.jpg with white background\n",
      "Processing f2ea13722edeb5c21f6ee80b6f424f5a.png with transparency\n",
      "Processing f2a28b7a9543550f9a8bc4eac447d333.jpg with white background\n",
      "Processing f395dfce6fe020db0e44a9c96eb15e86.jpg with white background\n"
     ]
    },
    {
     "name": "stderr",
     "output_type": "stream",
     "text": [
      "Processing images:  94%|█████████▎| 1571/1679 [02:18<00:09, 11.12it/s]"
     ]
    },
    {
     "name": "stdout",
     "output_type": "stream",
     "text": [
      "Processing f34a243b7c761fa85c68a9f89e0747d1.jpg with white background\n",
      "Processing f3f207fb5acb38489e5a3c8da293e9ba.jpg with white background\n"
     ]
    },
    {
     "name": "stderr",
     "output_type": "stream",
     "text": [
      "\r",
      "Processing images:  94%|█████████▎| 1574/1679 [02:18<00:09, 10.59it/s]"
     ]
    },
    {
     "name": "stdout",
     "output_type": "stream",
     "text": [
      "Processing f49e654f7b350d29d26f781c9462d436.png with transparency\n",
      "Processing f3f245a3f56e253b35ea6d2353bd1931.jpg with white background\n",
      "Processing f47a97c11cfdede671a6d62af183d758.jpg with white background\n",
      "Skipping f4c168e5ef4e17db10fd8aeaa4b87111.jpg due to non-white background\n"
     ]
    },
    {
     "name": "stderr",
     "output_type": "stream",
     "text": [
      "Processing images:  94%|█████████▍| 1581/1679 [02:18<00:06, 15.39it/s]"
     ]
    },
    {
     "name": "stdout",
     "output_type": "stream",
     "text": [
      "Processing f31c72718404d6bb541c0f2c00138900.jpg with white background\n",
      "Processing f40958c3d095d4e55aff1359c4c7a48b.jpg with white background\n",
      "Processing f58b92822d1dcc4198e633802b4cee3f.png with transparency\n",
      "Skipping f3894785460b4d3b78dcba8a44c8d134.jpg due to non-white background\n"
     ]
    },
    {
     "name": "stderr",
     "output_type": "stream",
     "text": [
      "Processing images:  94%|█████████▍| 1585/1679 [02:19<00:08, 10.64it/s]"
     ]
    },
    {
     "name": "stdout",
     "output_type": "stream",
     "text": [
      "Processing f510c4a09f926c5411fb152adb7bddc0.jpg with white background\n",
      "Processing f5db528ff75508c4ecee64e170e108d9.png with transparency\n",
      "Processing f41ffbfc3c9c7dfb1622d29d4126e6a4.jpg with white background\n",
      "Processing f632927a51f9717cd97a8195c274625a.png with transparency\n",
      "Processing f57b058ba3bfffe959031c8c3d4ffec7.jpg with white background\n"
     ]
    },
    {
     "name": "stderr",
     "output_type": "stream",
     "text": [
      "\r",
      "Processing images:  95%|█████████▍| 1587/1679 [02:19<00:08, 10.87it/s]"
     ]
    },
    {
     "name": "stdout",
     "output_type": "stream",
     "text": [
      "Processing f58c6704480b842896bddbdc6e40c5da.jpg with white background\n",
      "Processing f5c72ad6028f2e20121e1e46afcfb40a.jpg with white background\n"
     ]
    },
    {
     "name": "stderr",
     "output_type": "stream",
     "text": [
      "Processing images:  95%|█████████▍| 1591/1679 [02:20<00:07, 11.36it/s]"
     ]
    },
    {
     "name": "stdout",
     "output_type": "stream",
     "text": [
      "Skipping f61505dd9d4ae63586d36ea52e6276e7.jpg due to non-white backgroundProcessing f4d5b9bcb2ae290cb56c2748041409b2.jpg with white background\n",
      "\n",
      "Processing f674f7bae9b11be7ee0178d217921486.png with transparency\n",
      "Skipping f63d76f0acf3e7d10c5b7b96bba365ed.jpg due to non-white background\n",
      "Processing f6528df1fdb7450ebbe192cec544918b.png with transparency\n",
      "Processing f0dc84a0c61bb427aa9be4b28c15a112.jpg with white background\n"
     ]
    },
    {
     "name": "stderr",
     "output_type": "stream",
     "text": [
      "\r",
      "Processing images:  95%|█████████▍| 1593/1679 [02:20<00:08,  9.76it/s]"
     ]
    },
    {
     "name": "stdout",
     "output_type": "stream",
     "text": [
      "Processing f6ce8fe4be2f6371b820162ee1b3cf0a.png with transparency\n",
      "Skipping f70e778b36d6dd9f342810094adc696c.jpg due to non-white background\n",
      "Processing f737b1738195e8581b5898634d30bf48.png with transparency\n",
      "Processing f64fbebfd82a9b7b70c506f8d57c6cbc.jpg with white background\n"
     ]
    },
    {
     "name": "stderr",
     "output_type": "stream",
     "text": [
      "Processing images:  95%|█████████▌| 1600/1679 [02:20<00:07, 10.86it/s]"
     ]
    },
    {
     "name": "stdout",
     "output_type": "stream",
     "text": [
      "Processing f7166601a7d66256eaccc07e4d81644e.jpg with white background\n",
      "Processing f7a3df5725605bcb52acc44ed728a004.jpg with white background\n",
      "Processing f2e614f4bd78f3a49f779ce38c6797a3.jpg with white background\n"
     ]
    },
    {
     "name": "stderr",
     "output_type": "stream",
     "text": [
      "\r",
      "Processing images:  95%|█████████▌| 1602/1679 [02:21<00:06, 12.33it/s]"
     ]
    },
    {
     "name": "stdout",
     "output_type": "stream",
     "text": [
      "Processing f7b317d1af8e2cf09bd1e3f3b1945f9d.jpg with white background\n",
      "Processing f73c2ffb74921b1b26b9d0d156ba5ad3.jpg with white background\n",
      "Processing f825c4ddfd35513d240c11953a2a6c78.png with transparency\n"
     ]
    },
    {
     "name": "stderr",
     "output_type": "stream",
     "text": [
      "\r",
      "Processing images:  96%|█████████▌| 1604/1679 [02:21<00:06, 11.16it/s]"
     ]
    },
    {
     "name": "stdout",
     "output_type": "stream",
     "text": [
      "Processing f7c865bed0f647f7aeea308655058304.jpg with white background\n",
      "Processing f7ce13d9b63604a3ed54adbcc9b2c35f.jpg with white background\n",
      "Processing f807a16a4da97b0e2aaa10d1e79d53f2.jpg with white background\n",
      "Processing f7fbe8c8c793982b5eac3093109d713a.jpg with white background\n"
     ]
    },
    {
     "name": "stderr",
     "output_type": "stream",
     "text": [
      "Processing images:  96%|█████████▌| 1608/1679 [02:21<00:06, 10.29it/s]"
     ]
    },
    {
     "name": "stdout",
     "output_type": "stream",
     "text": [
      "Processing f857c3c483276b0f135477845f9a5d7b.jpg with white background\n",
      "Processing f7b83181f7e1fb641465ec56cd5938ab.jpg with white background\n",
      "Processing f7ad8ef7c90e01f2fa12883fe4d80b9f.jpg with white background\n",
      "Processing f89f8065641d7a5817183661297c010e.jpg with white background\n"
     ]
    },
    {
     "name": "stderr",
     "output_type": "stream",
     "text": [
      "\r",
      "Processing images:  96%|█████████▌| 1610/1679 [02:22<00:07,  8.99it/s]"
     ]
    },
    {
     "name": "stdout",
     "output_type": "stream",
     "text": [
      "Processing f91176760a60562aa15a4efc0489d292.jpg with white background\n",
      "Processing f8d40d7de865a1ccf905659eeecbc227.jpg with white background\n"
     ]
    },
    {
     "name": "stderr",
     "output_type": "stream",
     "text": [
      "\r",
      "Processing images:  96%|█████████▌| 1615/1679 [02:22<00:04, 13.21it/s]"
     ]
    },
    {
     "name": "stdout",
     "output_type": "stream",
     "text": [
      "Processing f9ebca72fba1345908e4b86087d99a9e.jpg with white background\n",
      "Processing f8d2b0328364c395735998f5692bd68f.jpg with white background\n",
      "Processing f8f6ab312cf81e83ed37cde6b8424d9b.jpg with white background\n"
     ]
    },
    {
     "name": "stderr",
     "output_type": "stream",
     "text": [
      "\r",
      "Processing images:  96%|█████████▋| 1617/1679 [02:22<00:05, 11.95it/s]"
     ]
    },
    {
     "name": "stdout",
     "output_type": "stream",
     "text": [
      "Processing f431860219c763df817bebf4f9b823cc.jpg with white background\n",
      "Processing f9b5a97fc9f13b3a089ea70a412d6e22.jpg with white background\n",
      "Processing f91c6ed4ca6f8bcc9b24b4efd4317ba0.jpg with white background\n",
      "Processing fa5e991054edb2a4eaacba0697f4b3d1.jpg with white background\n",
      "Processing fa80899335cf99c55536436f09e2281a.jpg with white background\n",
      "Processing f97523c8661c5b75038b0f8f6dd09be3.jpg with white background\n",
      "Processing f959f523649a034c043043ce75aaa5f6.jpg with white background\n"
     ]
    },
    {
     "name": "stderr",
     "output_type": "stream",
     "text": [
      "Processing images:  97%|█████████▋| 1624/1679 [02:22<00:03, 15.52it/s]"
     ]
    },
    {
     "name": "stdout",
     "output_type": "stream",
     "text": [
      "Processing fa96f9a1ef1779f254ae678a03b52297.jpg with white background\n",
      "Processing f96bc61756dfec08259011e99cb21647.jpg with white background\n",
      "Processing fa4c87cffe5b0d5ca307a80d89c2d956.jpg with white background\n",
      "Processing fa9c1c1c1e26d25cde5dbb7353b52820.png with transparency\n",
      "Processing fb20511280bb6cb129b17833ef2e6335.png with transparency\n",
      "Processing fab7ce51312d0ac32d05a98eb4ecfe3b.png with transparency\n"
     ]
    },
    {
     "name": "stderr",
     "output_type": "stream",
     "text": [
      "Processing images:  97%|█████████▋| 1630/1679 [02:23<00:02, 17.34it/s]"
     ]
    },
    {
     "name": "stdout",
     "output_type": "stream",
     "text": [
      "Processing f5a8a41ee5292a3da0179d5d0472ba0a.jpg with white backgroundProcessing fb651cb2e869b0af0ec844823d9ea7c9.png with transparency\n",
      "\n",
      "Skipping fb1e9704ccbd34ef9c2921eafd897c2a.jpg due to non-white background\n",
      "Processing fb95f61cff254f0f3bdc45b564f3676e.png with transparency\n",
      "Processing fbdff3efe30137058b9e9a0f1c714e9e.jpg with white background\n",
      "Processing fac43f2291c60e6bbdd81031d693b1d4.jpg with white background\n"
     ]
    },
    {
     "name": "stderr",
     "output_type": "stream",
     "text": [
      "Processing images:  97%|█████████▋| 1635/1679 [02:23<00:03, 12.93it/s]"
     ]
    },
    {
     "name": "stdout",
     "output_type": "stream",
     "text": [
      "Skipping fc0a085fe47ccd6e34c6f3c41508354c.jpg due to non-white background\n",
      "Processing fbf0049ff071a6f0e5c62bcb07cdfa70.jpg with white background\n"
     ]
    },
    {
     "name": "stderr",
     "output_type": "stream",
     "text": [
      "Processing images:  98%|█████████▊| 1640/1679 [02:23<00:02, 16.32it/s]"
     ]
    },
    {
     "name": "stdout",
     "output_type": "stream",
     "text": [
      "Processing fcefea2c818974f711af1f2262511c96.png with transparency\n",
      "Skipping fae29e6a263d61393da3c4dbc8e8064a.jpg due to non-white background\n",
      "Processing fc0e94bc291e439bf11e493ed65a1e8c.jpg with white background\n"
     ]
    },
    {
     "name": "stderr",
     "output_type": "stream",
     "text": [
      "Processing images:  98%|█████████▊| 1646/1679 [02:24<00:02, 15.90it/s]"
     ]
    },
    {
     "name": "stdout",
     "output_type": "stream",
     "text": [
      "Processing fd200b7545419e408c02a2bc660fdc46.png with transparency\n",
      "Processing fcc9dca2a36f26e474caa4d8325a41d3.jpg with white background\n",
      "Processing fd6a15571c00c7ce13cc071282c627a3.jpg with white background\n",
      "Processing fca86136a2778c9f2a5fafb51d0586f7.jpg with white background\n"
     ]
    },
    {
     "name": "stderr",
     "output_type": "stream",
     "text": [
      "\r",
      "Processing images:  98%|█████████▊| 1648/1679 [02:24<00:02, 14.33it/s]"
     ]
    },
    {
     "name": "stdout",
     "output_type": "stream",
     "text": [
      "Processing fd1055594259d4686fa47a7c2bca405d.jpg with white backgroundProcessing fd3811dcc8d779b24b92a60108a08278.jpg with white background\n",
      "\n",
      "Processing fc47fef46fea84c0cbe7d9bea0ff6c57.jpg with white background\n",
      "Processing fdda173b9478210ae17dd5014514f6db.jpg with white background\n",
      "Processing fe43f2a40fe07997908bbe4c81b07522.jpg with white background\n",
      "Processing fce7f0f6319119a45dda798ddad18922.jpg with white background\n"
     ]
    },
    {
     "name": "stderr",
     "output_type": "stream",
     "text": [
      "\r",
      "Processing images:  98%|█████████▊| 1650/1679 [02:24<00:02, 12.33it/s]"
     ]
    },
    {
     "name": "stdout",
     "output_type": "stream",
     "text": [
      "Processing fd782046c8b7f9a324b7b2a69260f2b8.jpg with white background\n",
      "Processing fd6b0d40a8346eae84571489b2971955.jpg with white background\n",
      "Processing fd7191466b9c3c26a835e571f2781f91.jpg with white background\n",
      "Processing fd42dcad7e7b838c8592046e0bed3e14.jpg with white background\n",
      "Processing fdd3a5a21b5d75aeb47f7e64a15fd58b.jpg with white background\n"
     ]
    },
    {
     "name": "stderr",
     "output_type": "stream",
     "text": [
      "\r",
      "Processing images:  98%|█████████▊| 1652/1679 [02:25<00:03,  7.90it/s]"
     ]
    },
    {
     "name": "stdout",
     "output_type": "stream",
     "text": [
      "Processing feb90ab663792b04fd426437637992c0.jpg with white background\n",
      "Processing fe568a07e910431fb0883a3d6cd51f0c.jpg with white background\n",
      "Processing ff0a42711703f8c42cb2c282d8904851.png with transparency\n"
     ]
    },
    {
     "name": "stderr",
     "output_type": "stream",
     "text": [
      "Processing images:  99%|█████████▉| 1662/1679 [02:26<00:01, 13.71it/s]"
     ]
    },
    {
     "name": "stdout",
     "output_type": "stream",
     "text": [
      "Processing fef75b52e17a25cad29a11411a846eee.jpg with white background\n",
      "Processing ffa74ded06ce7cafece90c547c28447e.png with transparency\n",
      "Processing ff702eafe494258cc709cc6b348c07d3.png with transparency\n",
      "Processing ff6e32cd0e51701ac1c4632250f757aa.jpg with white background\n"
     ]
    },
    {
     "name": "stderr",
     "output_type": "stream",
     "text": [
      "Processing images:  99%|█████████▉| 1670/1679 [02:27<00:00, 10.24it/s]"
     ]
    },
    {
     "name": "stdout",
     "output_type": "stream",
     "text": [
      "Processing fbffe8d880cb1345ac9d61f4ad629916.jpg with white background\n",
      "Processing ffc3df0ca77aee2c1019c1f8759b4ad7.jpg with white background\n",
      "Processing fc90855819e6dbbcdaa9db01b879e2e6.jpg with white background\n"
     ]
    },
    {
     "name": "stderr",
     "output_type": "stream",
     "text": [
      "Processing images: 100%|█████████▉| 1674/1679 [02:27<00:00,  7.19it/s]"
     ]
    },
    {
     "name": "stdout",
     "output_type": "stream",
     "text": [
      "Processing fedc7824684b90c21f216e42e8ad64b5.jpg with white background\n"
     ]
    },
    {
     "name": "stderr",
     "output_type": "stream",
     "text": [
      "\r",
      "Processing images: 100%|█████████▉| 1676/1679 [02:27<00:00,  8.18it/s]"
     ]
    },
    {
     "name": "stdout",
     "output_type": "stream",
     "text": [
      "Processing ff63e6d292ad6b23be4c83673e4db47b.jpg with white background\n",
      "Processing ff416ec4422659d8dbd232ca4e734647.jpg with white background\n"
     ]
    },
    {
     "name": "stderr",
     "output_type": "stream",
     "text": [
      "Processing images: 100%|██████████| 1679/1679 [02:28<00:00, 11.29it/s]\n"
     ]
    }
   ],
   "source": [
    "\n",
    "if __name__ == \"__main__\":\n",
    "    input_folder = r\"image_folder\"\n",
    "    transparent_output_folder = r\"transparent_images\"\n",
    "    white_bg_output_folder = r\"white_bg_images\"\n",
    "    process_images_in_folder_concurrent(input_folder, transparent_output_folder, white_bg_output_folder)\n"
   ]
  },
  {
   "cell_type": "code",
   "execution_count": 10,
   "id": "1911e07f",
   "metadata": {
    "scrolled": false
   },
   "outputs": [
    {
     "name": "stdout",
     "output_type": "stream",
     "text": [
      "Total Number of original files 1685\n"
     ]
    }
   ],
   "source": [
    "print(\"Total Number of original files\",df.shape[0])"
   ]
  },
  {
   "cell_type": "code",
   "execution_count": 11,
   "id": "a47b7346",
   "metadata": {},
   "outputs": [
    {
     "name": "stdout",
     "output_type": "stream",
     "text": [
      "Number of items in 'white_bg_images': 1116\n"
     ]
    }
   ],
   "source": [
    "folder_path = Path(\"white_bg_images\")\n",
    "num_items = len(list(folder_path.iterdir()))\n",
    "\n",
    "print(f\"Number of items in '{folder_path}': {num_items}\")"
   ]
  },
  {
   "cell_type": "code",
   "execution_count": 12,
   "id": "3d59478b",
   "metadata": {},
   "outputs": [
    {
     "name": "stdout",
     "output_type": "stream",
     "text": [
      "Number of items in 'transparent_images': 341\n"
     ]
    }
   ],
   "source": [
    "folder_path = Path(\"transparent_images\")\n",
    "num_items = len(list(folder_path.iterdir()))\n",
    "\n",
    "print(f\"Number of items in '{folder_path}': {num_items}\")"
   ]
  },
  {
   "cell_type": "code",
   "execution_count": null,
   "id": "ba4755c1",
   "metadata": {},
   "outputs": [],
   "source": []
  },
  {
   "cell_type": "code",
   "execution_count": null,
   "id": "1d493344",
   "metadata": {},
   "outputs": [],
   "source": []
  }
 ],
 "metadata": {
  "kernelspec": {
   "display_name": "Python 3 (ipykernel)",
   "language": "python",
   "name": "python3"
  },
  "language_info": {
   "codemirror_mode": {
    "name": "ipython",
    "version": 3
   },
   "file_extension": ".py",
   "mimetype": "text/x-python",
   "name": "python",
   "nbconvert_exporter": "python",
   "pygments_lexer": "ipython3",
   "version": "3.9.7"
  }
 },
 "nbformat": 4,
 "nbformat_minor": 5
}
